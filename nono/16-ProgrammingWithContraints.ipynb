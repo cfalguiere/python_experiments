{
 "cells": [
  {
   "cell_type": "markdown",
   "id": "c0296734",
   "metadata": {},
   "source": [
    "# Programming with contraints"
   ]
  },
  {
   "cell_type": "markdown",
   "id": "6ca65c20",
   "metadata": {},
   "source": [
    "Explain the problem as it is defined by the rules.\n",
    "\n",
    "The engine will compute the combination that satisfies the constraines"
   ]
  },
  {
   "cell_type": "markdown",
   "id": "105f928f",
   "metadata": {},
   "source": [
    "- Ideation: 30mn\n",
    "- Design: 1h - feature out how to manage variables for board\n",
    "- Implementation: 2h - generic represeentatiàno of rules"
   ]
  },
  {
   "cell_type": "code",
   "execution_count": null,
   "id": "11553b6b",
   "metadata": {},
   "outputs": [],
   "source": [
    "TODO\n",
    "\n",
    "Have to deal with each variable\n",
    "- generate names \n",
    "- or use range to name variable. Then rules are cryptic which is not the goal with this framework.\n",
    "\n",
    "\n",
    "Will have to work on how to express the rules for split block. Need some extra rules like there must be a filler of size at least one between blocks"
   ]
  },
  {
   "cell_type": "code",
   "execution_count": null,
   "id": "61f3c09f",
   "metadata": {},
   "outputs": [],
   "source": [
    "## model documentation"
   ]
  },
  {
   "cell_type": "markdown",
   "id": "b39b0916",
   "metadata": {},
   "source": [
    "https://pypi.org/project/python-constraint/"
   ]
  },
  {
   "cell_type": "code",
   "execution_count": 1,
   "id": "17ad89b4",
   "metadata": {},
   "outputs": [
    {
     "name": "stdout",
     "output_type": "stream",
     "text": [
      "Collecting python-constraint\n",
      "  Using cached python-constraint-1.4.0.tar.bz2 (18 kB)\n",
      "Building wheels for collected packages: python-constraint\n",
      "  Building wheel for python-constraint (setup.py) ... \u001b[?25ldone\n",
      "\u001b[?25h  Created wheel for python-constraint: filename=python_constraint-1.4.0-py2.py3-none-any.whl size=24081 sha256=96416a8f002cdf378faceb42bd25631aca654c5e2566c3158457715f981c71ed\n",
      "  Stored in directory: /Users/cfalguiere/Library/Caches/pip/wheels/51/36/1f/c2ccb8dc4eba38c5215636d4ae2c480b32069cab0376bcc1a4\n",
      "Successfully built python-constraint\n",
      "Installing collected packages: python-constraint\n",
      "Successfully installed python-constraint-1.4.0\n"
     ]
    }
   ],
   "source": [
    "! pip install python-constraint"
   ]
  },
  {
   "cell_type": "code",
   "execution_count": 118,
   "id": "c21be186",
   "metadata": {},
   "outputs": [],
   "source": [
    "from constraint  import *"
   ]
  },
  {
   "cell_type": "markdown",
   "id": "dab16759",
   "metadata": {},
   "source": [
    "## Basic example from the tutorial"
   ]
  },
  {
   "cell_type": "code",
   "execution_count": 4,
   "id": "5e92c110",
   "metadata": {},
   "outputs": [
    {
     "data": {
      "text/plain": [
       "[{'a': 3, 'b': 6},\n",
       " {'a': 3, 'b': 5},\n",
       " {'a': 3, 'b': 4},\n",
       " {'a': 2, 'b': 6},\n",
       " {'a': 2, 'b': 5},\n",
       " {'a': 2, 'b': 4},\n",
       " {'a': 1, 'b': 6},\n",
       " {'a': 1, 'b': 5},\n",
       " {'a': 1, 'b': 4}]"
      ]
     },
     "execution_count": 4,
     "metadata": {},
     "output_type": "execute_result"
    }
   ],
   "source": [
    "problem = Problem()\n",
    "problem.addVariable(\"a\", [1,2,3])\n",
    "problem.addVariable(\"b\", [4,5,6])\n",
    "problem.getSolutions()"
   ]
  },
  {
   "cell_type": "markdown",
   "id": "2585df47",
   "metadata": {},
   "source": [
    "Without constraints it does a cartesian product\n",
    "\n",
    "The constraint force to filter only paris where b is twice a "
   ]
  },
  {
   "cell_type": "code",
   "execution_count": 6,
   "id": "39143518",
   "metadata": {},
   "outputs": [
    {
     "data": {
      "text/plain": [
       "[{'a': 3, 'b': 6}, {'a': 2, 'b': 4}]"
      ]
     },
     "execution_count": 6,
     "metadata": {},
     "output_type": "execute_result"
    }
   ],
   "source": [
    "problem.addConstraint(lambda a, b: a*2 == b,\n",
    "                          (\"a\", \"b\"))\n",
    "problem.getSolutions()"
   ]
  },
  {
   "cell_type": "markdown",
   "id": "cf056186",
   "metadata": {},
   "source": [
    "## apply to the mobnogram problem"
   ]
  },
  {
   "cell_type": "code",
   "execution_count": 119,
   "id": "70f9223c",
   "metadata": {},
   "outputs": [],
   "source": [
    "# create the game engine\n",
    "puzzle2x2 = Puzzle(clues2x2)\n",
    "game2x2 = GameEngine(puzzle2x2, solution2x2)\n",
    "board2x2 = game2x2.board"
   ]
  },
  {
   "cell_type": "code",
   "execution_count": 115,
   "id": "f7bcc322",
   "metadata": {},
   "outputs": [
    {
     "data": {
      "text/plain": [
       "[{'r0c0': 1, 'r0c1': 1, 'r1c0': 1, 'r1c1': 1},\n",
       " {'r0c0': 1, 'r0c1': 1, 'r1c0': 1, 'r1c1': 0},\n",
       " {'r0c0': 1, 'r0c1': 1, 'r1c0': 0, 'r1c1': 1},\n",
       " {'r0c0': 1, 'r0c1': 1, 'r1c0': 0, 'r1c1': 0},\n",
       " {'r0c0': 1, 'r0c1': 0, 'r1c0': 1, 'r1c1': 1},\n",
       " {'r0c0': 1, 'r0c1': 0, 'r1c0': 1, 'r1c1': 0},\n",
       " {'r0c0': 1, 'r0c1': 0, 'r1c0': 0, 'r1c1': 1},\n",
       " {'r0c0': 1, 'r0c1': 0, 'r1c0': 0, 'r1c1': 0},\n",
       " {'r0c0': 0, 'r0c1': 1, 'r1c0': 1, 'r1c1': 1},\n",
       " {'r0c0': 0, 'r0c1': 1, 'r1c0': 1, 'r1c1': 0},\n",
       " {'r0c0': 0, 'r0c1': 1, 'r1c0': 0, 'r1c1': 1},\n",
       " {'r0c0': 0, 'r0c1': 1, 'r1c0': 0, 'r1c1': 0},\n",
       " {'r0c0': 0, 'r0c1': 0, 'r1c0': 1, 'r1c1': 1},\n",
       " {'r0c0': 0, 'r0c1': 0, 'r1c0': 1, 'r1c1': 0},\n",
       " {'r0c0': 0, 'r0c1': 0, 'r1c0': 0, 'r1c1': 1},\n",
       " {'r0c0': 0, 'r0c1': 0, 'r1c0': 0, 'r1c1': 0}]"
      ]
     },
     "execution_count": 115,
     "metadata": {},
     "output_type": "execute_result"
    }
   ],
   "source": [
    "# let first write some static rules\n",
    "problem = Problem()\n",
    "\n",
    "# create a variable for each cell\n",
    "# name is rNcM where N is the row number and M the col number\n",
    "# are all in range 0-1\n",
    "problem.addVariable(\"r0c0\", [0,1])\n",
    "problem.addVariable(\"r0c1\", [0,1])\n",
    "problem.addVariable(\"r1c0\", [0,1])\n",
    "problem.addVariable(\"r1c1\", [0,1])\n",
    "problem.getSolutions()"
   ]
  },
  {
   "cell_type": "code",
   "execution_count": 116,
   "id": "9670257b",
   "metadata": {},
   "outputs": [
    {
     "data": {
      "text/plain": [
       "[{'r0c0': 1, 'r0c1': 0, 'r1c0': 1, 'r1c1': 1}]"
      ]
     },
     "execution_count": 116,
     "metadata": {},
     "output_type": "execute_result"
    }
   ],
   "source": [
    "# express the clues contraints in a static way\n",
    "# last parameter is the given variables. They match the lambda vars.\n",
    "# contraints on rows\n",
    "problem.addConstraint(lambda c0, c1: c0+c1 == 1,\n",
    "                          (\"r0c0\", \"r0c1\"))\n",
    "problem.addConstraint(lambda c0, c1: c0+c1 == 2,\n",
    "                          (\"r1c0\", \"r1c1\"))\n",
    "# contraints on cols\n",
    "problem.addConstraint(lambda r0, r1: r0+r1 == 2,\n",
    "                          (\"r0c0\", \"r1c0\"))\n",
    "problem.addConstraint(lambda r0, r1: r0+r1 == 1,\n",
    "                          (\"r0c1\", \"r1c1\"))\n",
    "solutions = problem.getSolutions()\n",
    "solutions"
   ]
  },
  {
   "cell_type": "code",
   "execution_count": 37,
   "id": "19fbd3d2",
   "metadata": {},
   "outputs": [
    {
     "data": {
      "image/png": "[encoded data removed]",
      "text/plain": [
       "<Figure size 72x72 with 1 Axes>"
      ]
     },
     "metadata": {
      "needs_background": "light"
     },
     "output_type": "display_data"
    }
   ],
   "source": [
    "# mark expect an enum, thus set cell directly\n",
    "board2x2.states[0,0] = solutions[0]['r0c0']\n",
    "board2x2.states[0,1] = solutions[0]['r0c1']\n",
    "board2x2.states[1,0] = solutions[0]['r1c0']\n",
    "board2x2.states[1,1] = solutions[0]['r1c1']\n",
    "\n",
    "game2x2.show_board()\n",
    "game2x2.is_solved()\n"
   ]
  },
  {
   "cell_type": "markdown",
   "id": "3c6ca1f5",
   "metadata": {},
   "source": [
    "## A more generic implementation"
   ]
  },
  {
   "cell_type": "code",
   "execution_count": 38,
   "id": "82b8d62d",
   "metadata": {},
   "outputs": [],
   "source": [
    "clues2x2 = {\n",
    "    'rows': [1, 2],\n",
    "    'cols': [2, 1]\n",
    "}\n",
    "puzzle2x2 = Puzzle(clues2x2)"
   ]
  },
  {
   "cell_type": "code",
   "execution_count": 46,
   "id": "3d7d606e",
   "metadata": {},
   "outputs": [
    {
     "data": {
      "text/plain": [
       "[{'r0c0': 1, 'r0c1': 1, 'r1c0': 1, 'r1c1': 1},\n",
       " {'r0c0': 1, 'r0c1': 1, 'r1c0': 1, 'r1c1': 0},\n",
       " {'r0c0': 1, 'r0c1': 1, 'r1c0': 0, 'r1c1': 1},\n",
       " {'r0c0': 1, 'r0c1': 1, 'r1c0': 0, 'r1c1': 0},\n",
       " {'r0c0': 1, 'r0c1': 0, 'r1c0': 1, 'r1c1': 1},\n",
       " {'r0c0': 1, 'r0c1': 0, 'r1c0': 1, 'r1c1': 0},\n",
       " {'r0c0': 1, 'r0c1': 0, 'r1c0': 0, 'r1c1': 1},\n",
       " {'r0c0': 1, 'r0c1': 0, 'r1c0': 0, 'r1c1': 0},\n",
       " {'r0c0': 0, 'r0c1': 1, 'r1c0': 1, 'r1c1': 1},\n",
       " {'r0c0': 0, 'r0c1': 1, 'r1c0': 1, 'r1c1': 0},\n",
       " {'r0c0': 0, 'r0c1': 1, 'r1c0': 0, 'r1c1': 1},\n",
       " {'r0c0': 0, 'r0c1': 1, 'r1c0': 0, 'r1c1': 0},\n",
       " {'r0c0': 0, 'r0c1': 0, 'r1c0': 1, 'r1c1': 1},\n",
       " {'r0c0': 0, 'r0c1': 0, 'r1c0': 1, 'r1c1': 0},\n",
       " {'r0c0': 0, 'r0c1': 0, 'r1c0': 0, 'r1c1': 1},\n",
       " {'r0c0': 0, 'r0c1': 0, 'r1c0': 0, 'r1c1': 0}]"
      ]
     },
     "execution_count": 46,
     "metadata": {},
     "output_type": "execute_result"
    }
   ],
   "source": [
    "# let first write some static rules\n",
    "problem = Problem()\n",
    "\n",
    "# create a variable for each cell\n",
    "# name is rNcM where N is the row number and M the col number\n",
    "# are all in range 0-1\n",
    "problem.addVariable(\"r0c0\", [0,1])\n",
    "problem.addVariable(\"r0c1\", [0,1])\n",
    "problem.addVariable(\"r1c0\", [0,1])\n",
    "problem.addVariable(\"r1c1\", [0,1])\n",
    "problem.getSolutions()"
   ]
  },
  {
   "cell_type": "code",
   "execution_count": 47,
   "id": "b658562d",
   "metadata": {},
   "outputs": [
    {
     "name": "stdout",
     "output_type": "stream",
     "text": [
      "[[1], [2]]\n",
      "[[2], [1]]\n"
     ]
    }
   ],
   "source": [
    "# get the clues\n",
    "clues_rows = puzzle2x2.norm_clues['rows']\n",
    "clues_cols = puzzle2x2.norm_clues['cols']\n",
    "print(clues_rows)\n",
    "print(clues_cols)\n",
    "# ox\n",
    "# oo"
   ]
  },
  {
   "cell_type": "code",
   "execution_count": 44,
   "id": "31b91f26",
   "metadata": {},
   "outputs": [
    {
     "data": {
      "text/plain": [
       "1"
      ]
     },
     "execution_count": 44,
     "metadata": {},
     "output_type": "execute_result"
    }
   ],
   "source": [
    "clues_rows[0][0]"
   ]
  },
  {
   "cell_type": "code",
   "execution_count": 48,
   "id": "fcc3b304",
   "metadata": {},
   "outputs": [
    {
     "data": {
      "text/plain": [
       "[{'r0c0': 1, 'r0c1': 0, 'r1c0': 1, 'r1c1': 1}]"
      ]
     },
     "execution_count": 48,
     "metadata": {},
     "output_type": "execute_result"
    }
   ],
   "source": [
    "# express the clues contraints by the clues\n",
    "# last parameter is the given variables. They match the lambda vars.\n",
    "# contraints on rows\n",
    "problem.addConstraint(lambda c0, c1: c0+c1 == clues_rows[0][0],\n",
    "                          (\"r0c0\", \"r0c1\"))\n",
    "problem.addConstraint(lambda c0, c1: c0+c1 == clues_rows[1][0],\n",
    "                          (\"r1c0\", \"r1c1\"))\n",
    "# constraints on cols\n",
    "problem.addConstraint(lambda r0, r1: r0+r1 == clues_cols[0][0],\n",
    "                          (\"r0c0\", \"r1c0\"))\n",
    "problem.addConstraint(lambda r0, r1: r0+r1 == clues_cols[1][0],\n",
    "                          (\"r0c1\", \"r1c1\"))\n",
    "problem.getSolutions()"
   ]
  },
  {
   "cell_type": "code",
   "execution_count": 49,
   "id": "f8e1a3ab",
   "metadata": {},
   "outputs": [
    {
     "data": {
      "image/png": "[encoded data removed]",
      "text/plain": [
       "<Figure size 72x72 with 1 Axes>"
      ]
     },
     "metadata": {
      "needs_background": "light"
     },
     "output_type": "display_data"
    }
   ],
   "source": [
    "board2x2 = Board(puzzle2x2)\n",
    "plotter2x2 = BoardPlotter(board2x2)\n",
    "\n",
    "board2x2.states[0,0] = solutions[0]['r0c0']\n",
    "board2x2.states[0,1] = solutions[0]['r0c1']\n",
    "board2x2.states[1,0] = solutions[0]['r1c0']\n",
    "board2x2.states[1,1] = solutions[0]['r1c1']\n",
    "\n",
    "plotter2x2.show()\n",
    "assert board2x2.is_done()"
   ]
  },
  {
   "cell_type": "markdown",
   "id": "19ecb06f",
   "metadata": {},
   "source": [
    "## Generic implementation for a fiven size"
   ]
  },
  {
   "cell_type": "code",
   "execution_count": 54,
   "id": "e95cb361",
   "metadata": {},
   "outputs": [],
   "source": [
    "clues2x2 = {\n",
    "    'rows': [1, 2],\n",
    "    'cols': [2, 1]\n",
    "}\n",
    "puzzle2x2 = Puzzle(clues2x2)"
   ]
  },
  {
   "cell_type": "code",
   "execution_count": 55,
   "id": "2b6582e8",
   "metadata": {},
   "outputs": [
    {
     "data": {
      "text/plain": [
       "[{0: 1, 1: 1, 2: 1, 3: 1},\n",
       " {0: 1, 1: 1, 2: 1, 3: 0},\n",
       " {0: 1, 1: 1, 2: 0, 3: 1},\n",
       " {0: 1, 1: 1, 2: 0, 3: 0},\n",
       " {0: 1, 1: 0, 2: 1, 3: 1},\n",
       " {0: 1, 1: 0, 2: 1, 3: 0},\n",
       " {0: 1, 1: 0, 2: 0, 3: 1},\n",
       " {0: 1, 1: 0, 2: 0, 3: 0},\n",
       " {0: 0, 1: 1, 2: 1, 3: 1},\n",
       " {0: 0, 1: 1, 2: 1, 3: 0},\n",
       " {0: 0, 1: 1, 2: 0, 3: 1},\n",
       " {0: 0, 1: 1, 2: 0, 3: 0},\n",
       " {0: 0, 1: 0, 2: 1, 3: 1},\n",
       " {0: 0, 1: 0, 2: 1, 3: 0},\n",
       " {0: 0, 1: 0, 2: 0, 3: 1},\n",
       " {0: 0, 1: 0, 2: 0, 3: 0}]"
      ]
     },
     "execution_count": 55,
     "metadata": {},
     "output_type": "execute_result"
    }
   ],
   "source": [
    "# each variable is the position on the board reshaped to a list\n",
    "problem = Problem()\n",
    "# first parameter is the variable name\n",
    "# second parameter is the range 0-1\n",
    "problem.addVariables(range(puzzle2x2.cells_count), [0,1])\n",
    "problem.getSolutions()"
   ]
  },
  {
   "cell_type": "code",
   "execution_count": 56,
   "id": "c525a247",
   "metadata": {},
   "outputs": [],
   "source": [
    "# get the clues\n",
    "clues_rows = puzzle2x2.norm_clues['rows']\n",
    "clues_cols = puzzle2x2.norm_clues['cols']\n",
    "nc = puzzle2x2.width\n",
    "nr = puzzle2x2.height"
   ]
  },
  {
   "cell_type": "code",
   "execution_count": null,
   "id": "5011917c",
   "metadata": {},
   "outputs": [],
   "source": [
    "# {0: 1, 1: 0, 2: 1, 3: 1}\n",
    "# -> {'r0c0': 1, 'r0c1': 0, 'r1c0': 1, 'r1c1': 1}"
   ]
  },
  {
   "cell_type": "code",
   "execution_count": 51,
   "id": "660be97f",
   "metadata": {},
   "outputs": [
    {
     "data": {
      "text/plain": [
       "[0, 1]"
      ]
     },
     "execution_count": 51,
     "metadata": {},
     "output_type": "execute_result"
    }
   ],
   "source": [
    "# cells for row 0 are at position row * 2 + col where 2 stands for the width\n",
    "# 0 * 2 + 0 -> 0\n",
    "# 0 * 2 + 1 -> 1\n",
    "[0 * 2 + c for c in range(2)]"
   ]
  },
  {
   "cell_type": "code",
   "execution_count": 52,
   "id": "d5386911",
   "metadata": {},
   "outputs": [
    {
     "data": {
      "text/plain": [
       "[0, 2]"
      ]
     },
     "execution_count": 52,
     "metadata": {},
     "output_type": "execute_result"
    }
   ],
   "source": [
    "# cells for col 0 are at position row + 2 * col where 2 stands for the width\n",
    "# 0 * 2 + 0 -> 0\n",
    "# 1 * 2 + 0 -> 2\n",
    "[r * 2 + 0 for r in range(2)]"
   ]
  },
  {
   "cell_type": "code",
   "execution_count": 58,
   "id": "4f77cdf2",
   "metadata": {},
   "outputs": [
    {
     "data": {
      "text/plain": [
       "[{0: 1, 1: 0, 2: 1, 3: 1}]"
      ]
     },
     "execution_count": 58,
     "metadata": {},
     "output_type": "execute_result"
    }
   ],
   "source": [
    "# express the clues contraints by the clues\n",
    "# last parameter is the collection of variable names that must add up \n",
    "# please note that the list consist in var names not values\n",
    "# to the value given as parameter to ExactSumConstraint.\n",
    "# contraints on rows\n",
    "problem.addConstraint(\n",
    "         ExactSumConstraint(clues_rows[0][0]),\n",
    "         [0 * 2 + c for c in range(nc)])\n",
    "problem.addConstraint(\n",
    "         ExactSumConstraint(clues_rows[1][0]),\n",
    "         [1 * 2 + c for c in range(nc)])\n",
    "# contraints on cols\n",
    "problem.addConstraint(\n",
    "     ExactSumConstraint(clues_cols[0][0]),\n",
    "     [r * 2 + 0 for r in range(nr)])\n",
    "problem.addConstraint(\n",
    "     ExactSumConstraint(clues_cols[1][0]),\n",
    "     [r * 2 + 1 for r in range(nr)])\n",
    "solutions = problem.getSolutions()\n",
    "solutions"
   ]
  },
  {
   "cell_type": "code",
   "execution_count": 59,
   "id": "985d9b88",
   "metadata": {},
   "outputs": [
    {
     "data": {
      "image/png": "[encoded data removed]",
      "text/plain": [
       "<Figure size 72x72 with 1 Axes>"
      ]
     },
     "metadata": {
      "needs_background": "light"
     },
     "output_type": "display_data"
    }
   ],
   "source": [
    "board2x2 = Board(puzzle2x2)\n",
    "plotter2x2 = BoardPlotter(board2x2)\n",
    "\n",
    "board2x2.states[0,0] = solutions[0][0]\n",
    "board2x2.states[0,1] = solutions[0][1]\n",
    "board2x2.states[1,0] = solutions[0][2]\n",
    "board2x2.states[1,1] = solutions[0][3]\n",
    "\n",
    "plotter2x2.show()\n",
    "assert board2x2.is_done()"
   ]
  },
  {
   "cell_type": "markdown",
   "id": "d810a2e3",
   "metadata": {},
   "source": [
    "## Generic implementation"
   ]
  },
  {
   "cell_type": "code",
   "execution_count": 104,
   "id": "4b7938e4",
   "metadata": {},
   "outputs": [],
   "source": [
    "clues2x2 = {\n",
    "    'rows': [1, 2],\n",
    "    'cols': [2, 1]\n",
    "}\n",
    "puzzle2x2 = Puzzle(clues2x2)"
   ]
  },
  {
   "cell_type": "code",
   "execution_count": 105,
   "id": "b39f6b9a",
   "metadata": {},
   "outputs": [
    {
     "data": {
      "text/plain": [
       "[{0: 1, 1: 1, 2: 1, 3: 1},\n",
       " {0: 1, 1: 1, 2: 1, 3: 0},\n",
       " {0: 1, 1: 1, 2: 0, 3: 1},\n",
       " {0: 1, 1: 1, 2: 0, 3: 0},\n",
       " {0: 1, 1: 0, 2: 1, 3: 1},\n",
       " {0: 1, 1: 0, 2: 1, 3: 0},\n",
       " {0: 1, 1: 0, 2: 0, 3: 1},\n",
       " {0: 1, 1: 0, 2: 0, 3: 0},\n",
       " {0: 0, 1: 1, 2: 1, 3: 1},\n",
       " {0: 0, 1: 1, 2: 1, 3: 0},\n",
       " {0: 0, 1: 1, 2: 0, 3: 1},\n",
       " {0: 0, 1: 1, 2: 0, 3: 0},\n",
       " {0: 0, 1: 0, 2: 1, 3: 1},\n",
       " {0: 0, 1: 0, 2: 1, 3: 0},\n",
       " {0: 0, 1: 0, 2: 0, 3: 1},\n",
       " {0: 0, 1: 0, 2: 0, 3: 0}]"
      ]
     },
     "execution_count": 105,
     "metadata": {},
     "output_type": "execute_result"
    }
   ],
   "source": [
    "# each variable is the position on the board reshaped to a list\n",
    "problem = Problem()\n",
    "# first parameter is the variable name\n",
    "# second parameter is the range 0-1\n",
    "problem.addVariables(range(puzzle2x2.cells_count), [0,1])\n",
    "problem.getSolutions()"
   ]
  },
  {
   "cell_type": "code",
   "execution_count": 106,
   "id": "c2272b6d",
   "metadata": {},
   "outputs": [],
   "source": [
    "# get the clues\n",
    "clues_rows = puzzle2x2.norm_clues['rows']\n",
    "clues_cols = puzzle2x2.norm_clues['cols']\n",
    "nc = puzzle2x2.width\n",
    "nr = puzzle2x2.height"
   ]
  },
  {
   "cell_type": "code",
   "execution_count": 69,
   "id": "ed1a4591",
   "metadata": {},
   "outputs": [
    {
     "data": {
      "text/plain": [
       "[1]"
      ]
     },
     "execution_count": 69,
     "metadata": {},
     "output_type": "execute_result"
    }
   ],
   "source": [
    "clues_rows[0]"
   ]
  },
  {
   "cell_type": "code",
   "execution_count": 107,
   "id": "c6336b81",
   "metadata": {},
   "outputs": [
    {
     "data": {
      "text/plain": [
       "[{0: 1, 1: 0, 2: 1, 3: 1}]"
      ]
     },
     "execution_count": 107,
     "metadata": {},
     "output_type": "execute_result"
    }
   ],
   "source": [
    "for row in range(nr):\n",
    "    problem.addConstraint(\n",
    "             ExactSumConstraint(clues_rows[row][0]),\n",
    "             [row * nc + c for c in range(nc)])\n",
    "for col in range(nc):\n",
    "    problem.addConstraint(\n",
    "         ExactSumConstraint(clues_cols[col][0]),\n",
    "         [r * nc + col for r in range(nr)])\n",
    "\n",
    "solutions = problem.getSolutions()\n",
    "solutions"
   ]
  },
  {
   "cell_type": "code",
   "execution_count": 84,
   "id": "9c1dae62",
   "metadata": {},
   "outputs": [
    {
     "data": {
      "text/plain": [
       "[1, 0, 1, 1]"
      ]
     },
     "execution_count": 84,
     "metadata": {},
     "output_type": "execute_result"
    }
   ],
   "source": [
    "list(solutions[0].values())"
   ]
  },
  {
   "cell_type": "code",
   "execution_count": 108,
   "id": "0a28f9a7",
   "metadata": {},
   "outputs": [
    {
     "data": {
      "image/png": "[encoded data removed]",
      "text/plain": [
       "<Figure size 72x72 with 1 Axes>"
      ]
     },
     "metadata": {
      "needs_background": "light"
     },
     "output_type": "display_data"
    }
   ],
   "source": [
    "board2x2 = Board(puzzle2x2)\n",
    "plotter2x2 = BoardPlotter(board2x2)\n",
    "\n",
    "board2x2.states.flat[:] = list(solutions[0].values())\n",
    "plotter2x2.show()\n",
    "assert board2x2.is_done()"
   ]
  },
  {
   "cell_type": "markdown",
   "id": "61a54e95",
   "metadata": {},
   "source": [
    "## Solver class"
   ]
  },
  {
   "cell_type": "code",
   "execution_count": 109,
   "id": "71cbc0e1",
   "metadata": {},
   "outputs": [],
   "source": [
    "%reset -f"
   ]
  },
  {
   "cell_type": "code",
   "execution_count": 110,
   "id": "b059f28d",
   "metadata": {},
   "outputs": [],
   "source": [
    "from boardutilsv2 import Puzzle, Board, BoardMark\n",
    "from plotterutilsv2 import BoardPlotter\n",
    "\n",
    "from constraint  import *\n",
    "\n",
    "class SolverConstraints:\n",
    "    \n",
    "    def solve(self, some_puzzle, verbose=False):\n",
    "        # each variable is the position on the board reshaped to a list\n",
    "        problem = Problem()\n",
    "        # first parameter is the variable name\n",
    "        # second parameter is the range 0-1\n",
    "        problem.addVariables(range(some_puzzle.cells_count), [0,1])\n",
    "\n",
    "        # get the clues\n",
    "        clues_rows = some_puzzle.norm_clues['rows']\n",
    "        clues_cols = some_puzzle.norm_clues['cols']\n",
    "        nc = some_puzzle.width\n",
    "        nr = some_puzzle.height\n",
    "\n",
    "        for row in range(nr):\n",
    "            problem.addConstraint(\n",
    "                     ExactSumConstraint(clues_rows[row][0]),\n",
    "                     [row * nc + c for c in range(nc)])\n",
    "        for col in range(nc):\n",
    "            problem.addConstraint(\n",
    "                 ExactSumConstraint(clues_cols[col][0]),\n",
    "                 [r * nc + col for r in range(nr)])\n",
    "\n",
    "        solutions = problem.getSolutions()\n",
    "        if verbose:\n",
    "            print(f\"solutions={solutions}\")\n",
    "\n",
    "        board = Board(some_puzzle)\n",
    "        board.states.flat[:] = list(solutions[0].values())\n",
    "        return board"
   ]
  },
  {
   "cell_type": "markdown",
   "id": "2b4e2274",
   "metadata": {},
   "source": [
    "### test 2x2"
   ]
  },
  {
   "cell_type": "code",
   "execution_count": 111,
   "id": "1f743430",
   "metadata": {},
   "outputs": [
    {
     "name": "stdout",
     "output_type": "stream",
     "text": [
      "CPU times: user 2 µs, sys: 0 ns, total: 2 µs\n",
      "Wall time: 4.05 µs\n",
      "solutions=[{0: 1, 1: 0, 2: 1, 3: 1}]\n"
     ]
    },
    {
     "data": {
      "image/png": "[encoded data removed]",
      "text/plain": [
       "<Figure size 72x72 with 1 Axes>"
      ]
     },
     "metadata": {
      "needs_background": "light"
     },
     "output_type": "display_data"
    }
   ],
   "source": [
    "%time\n",
    "# ox\n",
    "# oo\n",
    "clues2x2 = {\n",
    "    'rows': [1, 2],\n",
    "    'cols': [2, 1]\n",
    "}\n",
    "puzzle2x2 = Puzzle(clues2x2)\n",
    "board2x2_solved = SolverConstraints().solve(puzzle2x2, verbose=True)\n",
    "plotter2x2 = BoardPlotter(board2x2_solved)\n",
    "plotter2x2.show()\n",
    "assert board2x2_solved.is_done()"
   ]
  },
  {
   "cell_type": "markdown",
   "id": "15b6ad17",
   "metadata": {},
   "source": [
    "### test a 3x3"
   ]
  },
  {
   "cell_type": "code",
   "execution_count": 112,
   "id": "3b2d8c02",
   "metadata": {},
   "outputs": [
    {
     "name": "stdout",
     "output_type": "stream",
     "text": [
      "CPU times: user 2 µs, sys: 0 ns, total: 2 µs\n",
      "Wall time: 4.77 µs\n",
      "solutions=[{0: 1, 1: 0, 2: 0, 3: 1, 4: 1, 5: 0, 6: 1, 7: 1, 8: 1}]\n"
     ]
    },
    {
     "data": {
      "image/png": "[encoded data removed]",
      "text/plain": [
       "<Figure size 72x72 with 1 Axes>"
      ]
     },
     "metadata": {
      "needs_background": "light"
     },
     "output_type": "display_data"
    }
   ],
   "source": [
    "%time\n",
    "# oxx\n",
    "# oox\n",
    "# ooo\n",
    "clues3x3 = {\n",
    "    'rows': [1, 2, 3],\n",
    "    'cols': [3, 2, 1]\n",
    "}\n",
    "puzzle3x3 = Puzzle(clues3x3)\n",
    "\n",
    "board3x3_solved = SolverConstraints().solve(puzzle3x3, verbose=True)\n",
    "plotter3x3 = BoardPlotter(board3x3_solved)\n",
    "plotter3x3.show()\n",
    "assert board3x3_solved.is_done()"
   ]
  },
  {
   "cell_type": "markdown",
   "id": "f966f52f",
   "metadata": {},
   "source": [
    "# split blocks"
   ]
  },
  {
   "cell_type": "code",
   "execution_count": null,
   "id": "fc17feb0",
   "metadata": {},
   "outputs": [],
   "source": [
    "Different approach"
   ]
  },
  {
   "cell_type": "code",
   "execution_count": 191,
   "id": "defbeefd",
   "metadata": {},
   "outputs": [],
   "source": [
    "# ox\n",
    "# oo\n",
    "clues2x2 = {\n",
    "    'rows': [1, 2],\n",
    "    'cols': [2, 1]\n",
    "}\n",
    "puzzle2x2 = Puzzle(clues2x2)"
   ]
  },
  {
   "cell_type": "code",
   "execution_count": 192,
   "id": "31a8d5cf",
   "metadata": {},
   "outputs": [],
   "source": [
    "# get the clues\n",
    "clues_rows = puzzle2x2.norm_clues['rows']\n",
    "clues_cols = puzzle2x2.norm_clues['cols']\n",
    "nc = puzzle2x2.width\n",
    "nr = puzzle2x2.height"
   ]
  },
  {
   "cell_type": "code",
   "execution_count": 193,
   "id": "2af154e2",
   "metadata": {},
   "outputs": [],
   "source": [
    "# let first write some static rules\n",
    "problem = Problem()\n",
    "\n",
    "problem.addVariable(\"r0f0\", [0,nc-1])\n",
    "problem.addVariable(\"r0b0\", [1])\n",
    "problem.addVariable(\"r0f1\", [0,nc-1])\n",
    "\n",
    "problem.addVariable(\"r1f0\", [0,nc-2])\n",
    "problem.addVariable(\"r1b0\", [2])\n",
    "problem.addVariable(\"r1f1\", [0,nc-2])\n",
    "\n",
    "problem.addVariable(\"c0f0\", [0,nr-2])\n",
    "problem.addVariable(\"c0b0\", [2])\n",
    "problem.addVariable(\"c0f1\", [0,nr-2])\n",
    "\n",
    "problem.addVariable(\"c1f0\", [0,nr-1])\n",
    "problem.addVariable(\"c1b0\", [1])\n",
    "problem.addVariable(\"c1f1\", [0,nr-1])\n",
    "\n",
    "#problem.getSolutions()"
   ]
  },
  {
   "cell_type": "code",
   "execution_count": 194,
   "id": "ddda688f",
   "metadata": {},
   "outputs": [],
   "source": [
    "problem.addConstraint(\n",
    "                     ExactSumConstraint(nc),\n",
    "                     [\"r0f0\", \"r0b0\", \"r0f1\"])\n",
    "\n",
    "problem.addConstraint(\n",
    "                     ExactSumConstraint(nc),\n",
    "                     [\"r1f0\", \"r1b0\", \"r1f1\"])\n",
    "\n",
    "problem.addConstraint(\n",
    "                     ExactSumConstraint(nr),\n",
    "                     [\"c0f0\", \"c0b0\", \"c0f1\"])\n",
    "\n",
    "problem.addConstraint(\n",
    "                     ExactSumConstraint(nr),\n",
    "                     [\"c1f0\", \"c1b0\", \"c1f1\"])\n"
   ]
  },
  {
   "cell_type": "code",
   "execution_count": 195,
   "id": "b71f8336",
   "metadata": {},
   "outputs": [],
   "source": [
    "solutions = problem.getSolutions()"
   ]
  },
  {
   "cell_type": "code",
   "execution_count": 196,
   "id": "33a4a7ef",
   "metadata": {},
   "outputs": [
    {
     "data": {
      "text/plain": [
       "{0, 1}"
      ]
     },
     "execution_count": 196,
     "metadata": {},
     "output_type": "execute_result"
    }
   ],
   "source": [
    "set([s['c1f0'] for s in solutions])"
   ]
  },
  {
   "cell_type": "code",
   "execution_count": 197,
   "id": "d3d1897d",
   "metadata": {},
   "outputs": [
    {
     "data": {
      "text/plain": [
       "{0, 1}"
      ]
     },
     "execution_count": 197,
     "metadata": {},
     "output_type": "execute_result"
    }
   ],
   "source": [
    "set([s['c1f1'] for s in solutions])"
   ]
  },
  {
   "cell_type": "code",
   "execution_count": 198,
   "id": "7fb57ef7",
   "metadata": {},
   "outputs": [],
   "source": [
    "problem.addVariable(\"r0c0\", [0,1])\n",
    "problem.addVariable(\"r0c1\", [0,1])\n",
    "problem.addVariable(\"r1c0\", [0,1])\n",
    "problem.addVariable(\"r1c1\", [0,1])"
   ]
  },
  {
   "cell_type": "code",
   "execution_count": 199,
   "id": "15bcb6a2",
   "metadata": {},
   "outputs": [],
   "source": [
    "problem.addConstraint(\n",
    "     ExactSumConstraint(clues_rows[0][0]),\n",
    "     [\"r0c0\", \"r0c1\"])\n",
    "problem.addConstraint(\n",
    "     ExactSumConstraint(clues_rows[1][0]),\n",
    "     [\"r1c0\", \"r1c1\"])\n",
    "\n",
    "problem.addConstraint(\n",
    "     ExactSumConstraint(clues_cols[0][0]),\n",
    "     [\"r0c0\", \"r1c0\"])\n",
    "problem.addConstraint(\n",
    "     ExactSumConstraint(clues_cols[1][0]),\n",
    "     [\"r0c1\", \"r1c1\"])\n"
   ]
  },
  {
   "cell_type": "code",
   "execution_count": 200,
   "id": "ed575720",
   "metadata": {},
   "outputs": [
    {
     "data": {
      "text/plain": [
       "[{'r0c0': 1,\n",
       "  'r0c1': 0,\n",
       "  'r1c0': 1,\n",
       "  'r1c1': 1,\n",
       "  'c0b0': 2,\n",
       "  'c1b0': 1,\n",
       "  'r0b0': 1,\n",
       "  'r1b0': 2,\n",
       "  'c0f0': 0,\n",
       "  'c0f1': 0,\n",
       "  'c1f0': 1,\n",
       "  'c1f1': 0,\n",
       "  'r0f0': 1,\n",
       "  'r0f1': 0,\n",
       "  'r1f0': 0,\n",
       "  'r1f1': 0},\n",
       " {'r0c0': 1,\n",
       "  'r0c1': 0,\n",
       "  'r1c0': 1,\n",
       "  'r1c1': 1,\n",
       "  'c0b0': 2,\n",
       "  'c1b0': 1,\n",
       "  'r0b0': 1,\n",
       "  'r1b0': 2,\n",
       "  'c0f0': 0,\n",
       "  'c0f1': 0,\n",
       "  'c1f0': 1,\n",
       "  'c1f1': 0,\n",
       "  'r0f0': 1,\n",
       "  'r0f1': 0,\n",
       "  'r1f0': 0,\n",
       "  'r1f1': 0},\n",
       " {'r0c0': 1,\n",
       "  'r0c1': 0,\n",
       "  'r1c0': 1,\n",
       "  'r1c1': 1,\n",
       "  'c0b0': 2,\n",
       "  'c1b0': 1,\n",
       "  'r0b0': 1,\n",
       "  'r1b0': 2,\n",
       "  'c0f0': 0,\n",
       "  'c0f1': 0,\n",
       "  'c1f0': 1,\n",
       "  'c1f1': 0,\n",
       "  'r0f0': 1,\n",
       "  'r0f1': 0,\n",
       "  'r1f0': 0,\n",
       "  'r1f1': 0},\n",
       " {'r0c0': 1,\n",
       "  'r0c1': 0,\n",
       "  'r1c0': 1,\n",
       "  'r1c1': 1,\n",
       "  'c0b0': 2,\n",
       "  'c1b0': 1,\n",
       "  'r0b0': 1,\n",
       "  'r1b0': 2,\n",
       "  'c0f0': 0,\n",
       "  'c0f1': 0,\n",
       "  'c1f0': 1,\n",
       "  'c1f1': 0,\n",
       "  'r0f0': 1,\n",
       "  'r0f1': 0,\n",
       "  'r1f0': 0,\n",
       "  'r1f1': 0},\n",
       " {'r0c0': 1,\n",
       "  'r0c1': 0,\n",
       "  'r1c0': 1,\n",
       "  'r1c1': 1,\n",
       "  'c0b0': 2,\n",
       "  'c1b0': 1,\n",
       "  'r0b0': 1,\n",
       "  'r1b0': 2,\n",
       "  'c0f0': 0,\n",
       "  'c0f1': 0,\n",
       "  'c1f0': 1,\n",
       "  'c1f1': 0,\n",
       "  'r0f0': 0,\n",
       "  'r0f1': 1,\n",
       "  'r1f0': 0,\n",
       "  'r1f1': 0},\n",
       " {'r0c0': 1,\n",
       "  'r0c1': 0,\n",
       "  'r1c0': 1,\n",
       "  'r1c1': 1,\n",
       "  'c0b0': 2,\n",
       "  'c1b0': 1,\n",
       "  'r0b0': 1,\n",
       "  'r1b0': 2,\n",
       "  'c0f0': 0,\n",
       "  'c0f1': 0,\n",
       "  'c1f0': 1,\n",
       "  'c1f1': 0,\n",
       "  'r0f0': 0,\n",
       "  'r0f1': 1,\n",
       "  'r1f0': 0,\n",
       "  'r1f1': 0},\n",
       " {'r0c0': 1,\n",
       "  'r0c1': 0,\n",
       "  'r1c0': 1,\n",
       "  'r1c1': 1,\n",
       "  'c0b0': 2,\n",
       "  'c1b0': 1,\n",
       "  'r0b0': 1,\n",
       "  'r1b0': 2,\n",
       "  'c0f0': 0,\n",
       "  'c0f1': 0,\n",
       "  'c1f0': 1,\n",
       "  'c1f1': 0,\n",
       "  'r0f0': 0,\n",
       "  'r0f1': 1,\n",
       "  'r1f0': 0,\n",
       "  'r1f1': 0},\n",
       " {'r0c0': 1,\n",
       "  'r0c1': 0,\n",
       "  'r1c0': 1,\n",
       "  'r1c1': 1,\n",
       "  'c0b0': 2,\n",
       "  'c1b0': 1,\n",
       "  'r0b0': 1,\n",
       "  'r1b0': 2,\n",
       "  'c0f0': 0,\n",
       "  'c0f1': 0,\n",
       "  'c1f0': 1,\n",
       "  'c1f1': 0,\n",
       "  'r0f0': 0,\n",
       "  'r0f1': 1,\n",
       "  'r1f0': 0,\n",
       "  'r1f1': 0},\n",
       " {'r0c0': 1,\n",
       "  'r0c1': 0,\n",
       "  'r1c0': 1,\n",
       "  'r1c1': 1,\n",
       "  'c0b0': 2,\n",
       "  'c1b0': 1,\n",
       "  'r0b0': 1,\n",
       "  'r1b0': 2,\n",
       "  'c0f0': 0,\n",
       "  'c0f1': 0,\n",
       "  'c1f0': 0,\n",
       "  'c1f1': 1,\n",
       "  'r0f0': 1,\n",
       "  'r0f1': 0,\n",
       "  'r1f0': 0,\n",
       "  'r1f1': 0},\n",
       " {'r0c0': 1,\n",
       "  'r0c1': 0,\n",
       "  'r1c0': 1,\n",
       "  'r1c1': 1,\n",
       "  'c0b0': 2,\n",
       "  'c1b0': 1,\n",
       "  'r0b0': 1,\n",
       "  'r1b0': 2,\n",
       "  'c0f0': 0,\n",
       "  'c0f1': 0,\n",
       "  'c1f0': 0,\n",
       "  'c1f1': 1,\n",
       "  'r0f0': 1,\n",
       "  'r0f1': 0,\n",
       "  'r1f0': 0,\n",
       "  'r1f1': 0},\n",
       " {'r0c0': 1,\n",
       "  'r0c1': 0,\n",
       "  'r1c0': 1,\n",
       "  'r1c1': 1,\n",
       "  'c0b0': 2,\n",
       "  'c1b0': 1,\n",
       "  'r0b0': 1,\n",
       "  'r1b0': 2,\n",
       "  'c0f0': 0,\n",
       "  'c0f1': 0,\n",
       "  'c1f0': 0,\n",
       "  'c1f1': 1,\n",
       "  'r0f0': 1,\n",
       "  'r0f1': 0,\n",
       "  'r1f0': 0,\n",
       "  'r1f1': 0},\n",
       " {'r0c0': 1,\n",
       "  'r0c1': 0,\n",
       "  'r1c0': 1,\n",
       "  'r1c1': 1,\n",
       "  'c0b0': 2,\n",
       "  'c1b0': 1,\n",
       "  'r0b0': 1,\n",
       "  'r1b0': 2,\n",
       "  'c0f0': 0,\n",
       "  'c0f1': 0,\n",
       "  'c1f0': 0,\n",
       "  'c1f1': 1,\n",
       "  'r0f0': 1,\n",
       "  'r0f1': 0,\n",
       "  'r1f0': 0,\n",
       "  'r1f1': 0},\n",
       " {'r0c0': 1,\n",
       "  'r0c1': 0,\n",
       "  'r1c0': 1,\n",
       "  'r1c1': 1,\n",
       "  'c0b0': 2,\n",
       "  'c1b0': 1,\n",
       "  'r0b0': 1,\n",
       "  'r1b0': 2,\n",
       "  'c0f0': 0,\n",
       "  'c0f1': 0,\n",
       "  'c1f0': 0,\n",
       "  'c1f1': 1,\n",
       "  'r0f0': 0,\n",
       "  'r0f1': 1,\n",
       "  'r1f0': 0,\n",
       "  'r1f1': 0},\n",
       " {'r0c0': 1,\n",
       "  'r0c1': 0,\n",
       "  'r1c0': 1,\n",
       "  'r1c1': 1,\n",
       "  'c0b0': 2,\n",
       "  'c1b0': 1,\n",
       "  'r0b0': 1,\n",
       "  'r1b0': 2,\n",
       "  'c0f0': 0,\n",
       "  'c0f1': 0,\n",
       "  'c1f0': 0,\n",
       "  'c1f1': 1,\n",
       "  'r0f0': 0,\n",
       "  'r0f1': 1,\n",
       "  'r1f0': 0,\n",
       "  'r1f1': 0},\n",
       " {'r0c0': 1,\n",
       "  'r0c1': 0,\n",
       "  'r1c0': 1,\n",
       "  'r1c1': 1,\n",
       "  'c0b0': 2,\n",
       "  'c1b0': 1,\n",
       "  'r0b0': 1,\n",
       "  'r1b0': 2,\n",
       "  'c0f0': 0,\n",
       "  'c0f1': 0,\n",
       "  'c1f0': 0,\n",
       "  'c1f1': 1,\n",
       "  'r0f0': 0,\n",
       "  'r0f1': 1,\n",
       "  'r1f0': 0,\n",
       "  'r1f1': 0},\n",
       " {'r0c0': 1,\n",
       "  'r0c1': 0,\n",
       "  'r1c0': 1,\n",
       "  'r1c1': 1,\n",
       "  'c0b0': 2,\n",
       "  'c1b0': 1,\n",
       "  'r0b0': 1,\n",
       "  'r1b0': 2,\n",
       "  'c0f0': 0,\n",
       "  'c0f1': 0,\n",
       "  'c1f0': 0,\n",
       "  'c1f1': 1,\n",
       "  'r0f0': 0,\n",
       "  'r0f1': 1,\n",
       "  'r1f0': 0,\n",
       "  'r1f1': 0},\n",
       " {'r0c0': 1,\n",
       "  'r0c1': 0,\n",
       "  'r1c0': 1,\n",
       "  'r1c1': 1,\n",
       "  'c0b0': 2,\n",
       "  'c1b0': 1,\n",
       "  'r0b0': 1,\n",
       "  'r1b0': 2,\n",
       "  'c0f0': 0,\n",
       "  'c0f1': 0,\n",
       "  'c1f0': 1,\n",
       "  'c1f1': 0,\n",
       "  'r0f0': 1,\n",
       "  'r0f1': 0,\n",
       "  'r1f0': 0,\n",
       "  'r1f1': 0},\n",
       " {'r0c0': 1,\n",
       "  'r0c1': 0,\n",
       "  'r1c0': 1,\n",
       "  'r1c1': 1,\n",
       "  'c0b0': 2,\n",
       "  'c1b0': 1,\n",
       "  'r0b0': 1,\n",
       "  'r1b0': 2,\n",
       "  'c0f0': 0,\n",
       "  'c0f1': 0,\n",
       "  'c1f0': 1,\n",
       "  'c1f1': 0,\n",
       "  'r0f0': 1,\n",
       "  'r0f1': 0,\n",
       "  'r1f0': 0,\n",
       "  'r1f1': 0},\n",
       " {'r0c0': 1,\n",
       "  'r0c1': 0,\n",
       "  'r1c0': 1,\n",
       "  'r1c1': 1,\n",
       "  'c0b0': 2,\n",
       "  'c1b0': 1,\n",
       "  'r0b0': 1,\n",
       "  'r1b0': 2,\n",
       "  'c0f0': 0,\n",
       "  'c0f1': 0,\n",
       "  'c1f0': 1,\n",
       "  'c1f1': 0,\n",
       "  'r0f0': 1,\n",
       "  'r0f1': 0,\n",
       "  'r1f0': 0,\n",
       "  'r1f1': 0},\n",
       " {'r0c0': 1,\n",
       "  'r0c1': 0,\n",
       "  'r1c0': 1,\n",
       "  'r1c1': 1,\n",
       "  'c0b0': 2,\n",
       "  'c1b0': 1,\n",
       "  'r0b0': 1,\n",
       "  'r1b0': 2,\n",
       "  'c0f0': 0,\n",
       "  'c0f1': 0,\n",
       "  'c1f0': 1,\n",
       "  'c1f1': 0,\n",
       "  'r0f0': 1,\n",
       "  'r0f1': 0,\n",
       "  'r1f0': 0,\n",
       "  'r1f1': 0},\n",
       " {'r0c0': 1,\n",
       "  'r0c1': 0,\n",
       "  'r1c0': 1,\n",
       "  'r1c1': 1,\n",
       "  'c0b0': 2,\n",
       "  'c1b0': 1,\n",
       "  'r0b0': 1,\n",
       "  'r1b0': 2,\n",
       "  'c0f0': 0,\n",
       "  'c0f1': 0,\n",
       "  'c1f0': 1,\n",
       "  'c1f1': 0,\n",
       "  'r0f0': 0,\n",
       "  'r0f1': 1,\n",
       "  'r1f0': 0,\n",
       "  'r1f1': 0},\n",
       " {'r0c0': 1,\n",
       "  'r0c1': 0,\n",
       "  'r1c0': 1,\n",
       "  'r1c1': 1,\n",
       "  'c0b0': 2,\n",
       "  'c1b0': 1,\n",
       "  'r0b0': 1,\n",
       "  'r1b0': 2,\n",
       "  'c0f0': 0,\n",
       "  'c0f1': 0,\n",
       "  'c1f0': 1,\n",
       "  'c1f1': 0,\n",
       "  'r0f0': 0,\n",
       "  'r0f1': 1,\n",
       "  'r1f0': 0,\n",
       "  'r1f1': 0},\n",
       " {'r0c0': 1,\n",
       "  'r0c1': 0,\n",
       "  'r1c0': 1,\n",
       "  'r1c1': 1,\n",
       "  'c0b0': 2,\n",
       "  'c1b0': 1,\n",
       "  'r0b0': 1,\n",
       "  'r1b0': 2,\n",
       "  'c0f0': 0,\n",
       "  'c0f1': 0,\n",
       "  'c1f0': 1,\n",
       "  'c1f1': 0,\n",
       "  'r0f0': 0,\n",
       "  'r0f1': 1,\n",
       "  'r1f0': 0,\n",
       "  'r1f1': 0},\n",
       " {'r0c0': 1,\n",
       "  'r0c1': 0,\n",
       "  'r1c0': 1,\n",
       "  'r1c1': 1,\n",
       "  'c0b0': 2,\n",
       "  'c1b0': 1,\n",
       "  'r0b0': 1,\n",
       "  'r1b0': 2,\n",
       "  'c0f0': 0,\n",
       "  'c0f1': 0,\n",
       "  'c1f0': 1,\n",
       "  'c1f1': 0,\n",
       "  'r0f0': 0,\n",
       "  'r0f1': 1,\n",
       "  'r1f0': 0,\n",
       "  'r1f1': 0},\n",
       " {'r0c0': 1,\n",
       "  'r0c1': 0,\n",
       "  'r1c0': 1,\n",
       "  'r1c1': 1,\n",
       "  'c0b0': 2,\n",
       "  'c1b0': 1,\n",
       "  'r0b0': 1,\n",
       "  'r1b0': 2,\n",
       "  'c0f0': 0,\n",
       "  'c0f1': 0,\n",
       "  'c1f0': 0,\n",
       "  'c1f1': 1,\n",
       "  'r0f0': 1,\n",
       "  'r0f1': 0,\n",
       "  'r1f0': 0,\n",
       "  'r1f1': 0},\n",
       " {'r0c0': 1,\n",
       "  'r0c1': 0,\n",
       "  'r1c0': 1,\n",
       "  'r1c1': 1,\n",
       "  'c0b0': 2,\n",
       "  'c1b0': 1,\n",
       "  'r0b0': 1,\n",
       "  'r1b0': 2,\n",
       "  'c0f0': 0,\n",
       "  'c0f1': 0,\n",
       "  'c1f0': 0,\n",
       "  'c1f1': 1,\n",
       "  'r0f0': 1,\n",
       "  'r0f1': 0,\n",
       "  'r1f0': 0,\n",
       "  'r1f1': 0},\n",
       " {'r0c0': 1,\n",
       "  'r0c1': 0,\n",
       "  'r1c0': 1,\n",
       "  'r1c1': 1,\n",
       "  'c0b0': 2,\n",
       "  'c1b0': 1,\n",
       "  'r0b0': 1,\n",
       "  'r1b0': 2,\n",
       "  'c0f0': 0,\n",
       "  'c0f1': 0,\n",
       "  'c1f0': 0,\n",
       "  'c1f1': 1,\n",
       "  'r0f0': 1,\n",
       "  'r0f1': 0,\n",
       "  'r1f0': 0,\n",
       "  'r1f1': 0},\n",
       " {'r0c0': 1,\n",
       "  'r0c1': 0,\n",
       "  'r1c0': 1,\n",
       "  'r1c1': 1,\n",
       "  'c0b0': 2,\n",
       "  'c1b0': 1,\n",
       "  'r0b0': 1,\n",
       "  'r1b0': 2,\n",
       "  'c0f0': 0,\n",
       "  'c0f1': 0,\n",
       "  'c1f0': 0,\n",
       "  'c1f1': 1,\n",
       "  'r0f0': 1,\n",
       "  'r0f1': 0,\n",
       "  'r1f0': 0,\n",
       "  'r1f1': 0},\n",
       " {'r0c0': 1,\n",
       "  'r0c1': 0,\n",
       "  'r1c0': 1,\n",
       "  'r1c1': 1,\n",
       "  'c0b0': 2,\n",
       "  'c1b0': 1,\n",
       "  'r0b0': 1,\n",
       "  'r1b0': 2,\n",
       "  'c0f0': 0,\n",
       "  'c0f1': 0,\n",
       "  'c1f0': 0,\n",
       "  'c1f1': 1,\n",
       "  'r0f0': 0,\n",
       "  'r0f1': 1,\n",
       "  'r1f0': 0,\n",
       "  'r1f1': 0},\n",
       " {'r0c0': 1,\n",
       "  'r0c1': 0,\n",
       "  'r1c0': 1,\n",
       "  'r1c1': 1,\n",
       "  'c0b0': 2,\n",
       "  'c1b0': 1,\n",
       "  'r0b0': 1,\n",
       "  'r1b0': 2,\n",
       "  'c0f0': 0,\n",
       "  'c0f1': 0,\n",
       "  'c1f0': 0,\n",
       "  'c1f1': 1,\n",
       "  'r0f0': 0,\n",
       "  'r0f1': 1,\n",
       "  'r1f0': 0,\n",
       "  'r1f1': 0},\n",
       " {'r0c0': 1,\n",
       "  'r0c1': 0,\n",
       "  'r1c0': 1,\n",
       "  'r1c1': 1,\n",
       "  'c0b0': 2,\n",
       "  'c1b0': 1,\n",
       "  'r0b0': 1,\n",
       "  'r1b0': 2,\n",
       "  'c0f0': 0,\n",
       "  'c0f1': 0,\n",
       "  'c1f0': 0,\n",
       "  'c1f1': 1,\n",
       "  'r0f0': 0,\n",
       "  'r0f1': 1,\n",
       "  'r1f0': 0,\n",
       "  'r1f1': 0},\n",
       " {'r0c0': 1,\n",
       "  'r0c1': 0,\n",
       "  'r1c0': 1,\n",
       "  'r1c1': 1,\n",
       "  'c0b0': 2,\n",
       "  'c1b0': 1,\n",
       "  'r0b0': 1,\n",
       "  'r1b0': 2,\n",
       "  'c0f0': 0,\n",
       "  'c0f1': 0,\n",
       "  'c1f0': 0,\n",
       "  'c1f1': 1,\n",
       "  'r0f0': 0,\n",
       "  'r0f1': 1,\n",
       "  'r1f0': 0,\n",
       "  'r1f1': 0},\n",
       " {'r0c0': 1,\n",
       "  'r0c1': 0,\n",
       "  'r1c0': 1,\n",
       "  'r1c1': 1,\n",
       "  'c0b0': 2,\n",
       "  'c1b0': 1,\n",
       "  'r0b0': 1,\n",
       "  'r1b0': 2,\n",
       "  'c0f0': 0,\n",
       "  'c0f1': 0,\n",
       "  'c1f0': 1,\n",
       "  'c1f1': 0,\n",
       "  'r0f0': 1,\n",
       "  'r0f1': 0,\n",
       "  'r1f0': 0,\n",
       "  'r1f1': 0},\n",
       " {'r0c0': 1,\n",
       "  'r0c1': 0,\n",
       "  'r1c0': 1,\n",
       "  'r1c1': 1,\n",
       "  'c0b0': 2,\n",
       "  'c1b0': 1,\n",
       "  'r0b0': 1,\n",
       "  'r1b0': 2,\n",
       "  'c0f0': 0,\n",
       "  'c0f1': 0,\n",
       "  'c1f0': 1,\n",
       "  'c1f1': 0,\n",
       "  'r0f0': 1,\n",
       "  'r0f1': 0,\n",
       "  'r1f0': 0,\n",
       "  'r1f1': 0},\n",
       " {'r0c0': 1,\n",
       "  'r0c1': 0,\n",
       "  'r1c0': 1,\n",
       "  'r1c1': 1,\n",
       "  'c0b0': 2,\n",
       "  'c1b0': 1,\n",
       "  'r0b0': 1,\n",
       "  'r1b0': 2,\n",
       "  'c0f0': 0,\n",
       "  'c0f1': 0,\n",
       "  'c1f0': 1,\n",
       "  'c1f1': 0,\n",
       "  'r0f0': 1,\n",
       "  'r0f1': 0,\n",
       "  'r1f0': 0,\n",
       "  'r1f1': 0},\n",
       " {'r0c0': 1,\n",
       "  'r0c1': 0,\n",
       "  'r1c0': 1,\n",
       "  'r1c1': 1,\n",
       "  'c0b0': 2,\n",
       "  'c1b0': 1,\n",
       "  'r0b0': 1,\n",
       "  'r1b0': 2,\n",
       "  'c0f0': 0,\n",
       "  'c0f1': 0,\n",
       "  'c1f0': 1,\n",
       "  'c1f1': 0,\n",
       "  'r0f0': 1,\n",
       "  'r0f1': 0,\n",
       "  'r1f0': 0,\n",
       "  'r1f1': 0},\n",
       " {'r0c0': 1,\n",
       "  'r0c1': 0,\n",
       "  'r1c0': 1,\n",
       "  'r1c1': 1,\n",
       "  'c0b0': 2,\n",
       "  'c1b0': 1,\n",
       "  'r0b0': 1,\n",
       "  'r1b0': 2,\n",
       "  'c0f0': 0,\n",
       "  'c0f1': 0,\n",
       "  'c1f0': 1,\n",
       "  'c1f1': 0,\n",
       "  'r0f0': 0,\n",
       "  'r0f1': 1,\n",
       "  'r1f0': 0,\n",
       "  'r1f1': 0},\n",
       " {'r0c0': 1,\n",
       "  'r0c1': 0,\n",
       "  'r1c0': 1,\n",
       "  'r1c1': 1,\n",
       "  'c0b0': 2,\n",
       "  'c1b0': 1,\n",
       "  'r0b0': 1,\n",
       "  'r1b0': 2,\n",
       "  'c0f0': 0,\n",
       "  'c0f1': 0,\n",
       "  'c1f0': 1,\n",
       "  'c1f1': 0,\n",
       "  'r0f0': 0,\n",
       "  'r0f1': 1,\n",
       "  'r1f0': 0,\n",
       "  'r1f1': 0},\n",
       " {'r0c0': 1,\n",
       "  'r0c1': 0,\n",
       "  'r1c0': 1,\n",
       "  'r1c1': 1,\n",
       "  'c0b0': 2,\n",
       "  'c1b0': 1,\n",
       "  'r0b0': 1,\n",
       "  'r1b0': 2,\n",
       "  'c0f0': 0,\n",
       "  'c0f1': 0,\n",
       "  'c1f0': 1,\n",
       "  'c1f1': 0,\n",
       "  'r0f0': 0,\n",
       "  'r0f1': 1,\n",
       "  'r1f0': 0,\n",
       "  'r1f1': 0},\n",
       " {'r0c0': 1,\n",
       "  'r0c1': 0,\n",
       "  'r1c0': 1,\n",
       "  'r1c1': 1,\n",
       "  'c0b0': 2,\n",
       "  'c1b0': 1,\n",
       "  'r0b0': 1,\n",
       "  'r1b0': 2,\n",
       "  'c0f0': 0,\n",
       "  'c0f1': 0,\n",
       "  'c1f0': 1,\n",
       "  'c1f1': 0,\n",
       "  'r0f0': 0,\n",
       "  'r0f1': 1,\n",
       "  'r1f0': 0,\n",
       "  'r1f1': 0},\n",
       " {'r0c0': 1,\n",
       "  'r0c1': 0,\n",
       "  'r1c0': 1,\n",
       "  'r1c1': 1,\n",
       "  'c0b0': 2,\n",
       "  'c1b0': 1,\n",
       "  'r0b0': 1,\n",
       "  'r1b0': 2,\n",
       "  'c0f0': 0,\n",
       "  'c0f1': 0,\n",
       "  'c1f0': 0,\n",
       "  'c1f1': 1,\n",
       "  'r0f0': 1,\n",
       "  'r0f1': 0,\n",
       "  'r1f0': 0,\n",
       "  'r1f1': 0},\n",
       " {'r0c0': 1,\n",
       "  'r0c1': 0,\n",
       "  'r1c0': 1,\n",
       "  'r1c1': 1,\n",
       "  'c0b0': 2,\n",
       "  'c1b0': 1,\n",
       "  'r0b0': 1,\n",
       "  'r1b0': 2,\n",
       "  'c0f0': 0,\n",
       "  'c0f1': 0,\n",
       "  'c1f0': 0,\n",
       "  'c1f1': 1,\n",
       "  'r0f0': 1,\n",
       "  'r0f1': 0,\n",
       "  'r1f0': 0,\n",
       "  'r1f1': 0},\n",
       " {'r0c0': 1,\n",
       "  'r0c1': 0,\n",
       "  'r1c0': 1,\n",
       "  'r1c1': 1,\n",
       "  'c0b0': 2,\n",
       "  'c1b0': 1,\n",
       "  'r0b0': 1,\n",
       "  'r1b0': 2,\n",
       "  'c0f0': 0,\n",
       "  'c0f1': 0,\n",
       "  'c1f0': 0,\n",
       "  'c1f1': 1,\n",
       "  'r0f0': 1,\n",
       "  'r0f1': 0,\n",
       "  'r1f0': 0,\n",
       "  'r1f1': 0},\n",
       " {'r0c0': 1,\n",
       "  'r0c1': 0,\n",
       "  'r1c0': 1,\n",
       "  'r1c1': 1,\n",
       "  'c0b0': 2,\n",
       "  'c1b0': 1,\n",
       "  'r0b0': 1,\n",
       "  'r1b0': 2,\n",
       "  'c0f0': 0,\n",
       "  'c0f1': 0,\n",
       "  'c1f0': 0,\n",
       "  'c1f1': 1,\n",
       "  'r0f0': 1,\n",
       "  'r0f1': 0,\n",
       "  'r1f0': 0,\n",
       "  'r1f1': 0},\n",
       " {'r0c0': 1,\n",
       "  'r0c1': 0,\n",
       "  'r1c0': 1,\n",
       "  'r1c1': 1,\n",
       "  'c0b0': 2,\n",
       "  'c1b0': 1,\n",
       "  'r0b0': 1,\n",
       "  'r1b0': 2,\n",
       "  'c0f0': 0,\n",
       "  'c0f1': 0,\n",
       "  'c1f0': 0,\n",
       "  'c1f1': 1,\n",
       "  'r0f0': 0,\n",
       "  'r0f1': 1,\n",
       "  'r1f0': 0,\n",
       "  'r1f1': 0},\n",
       " {'r0c0': 1,\n",
       "  'r0c1': 0,\n",
       "  'r1c0': 1,\n",
       "  'r1c1': 1,\n",
       "  'c0b0': 2,\n",
       "  'c1b0': 1,\n",
       "  'r0b0': 1,\n",
       "  'r1b0': 2,\n",
       "  'c0f0': 0,\n",
       "  'c0f1': 0,\n",
       "  'c1f0': 0,\n",
       "  'c1f1': 1,\n",
       "  'r0f0': 0,\n",
       "  'r0f1': 1,\n",
       "  'r1f0': 0,\n",
       "  'r1f1': 0},\n",
       " {'r0c0': 1,\n",
       "  'r0c1': 0,\n",
       "  'r1c0': 1,\n",
       "  'r1c1': 1,\n",
       "  'c0b0': 2,\n",
       "  'c1b0': 1,\n",
       "  'r0b0': 1,\n",
       "  'r1b0': 2,\n",
       "  'c0f0': 0,\n",
       "  'c0f1': 0,\n",
       "  'c1f0': 0,\n",
       "  'c1f1': 1,\n",
       "  'r0f0': 0,\n",
       "  'r0f1': 1,\n",
       "  'r1f0': 0,\n",
       "  'r1f1': 0},\n",
       " {'r0c0': 1,\n",
       "  'r0c1': 0,\n",
       "  'r1c0': 1,\n",
       "  'r1c1': 1,\n",
       "  'c0b0': 2,\n",
       "  'c1b0': 1,\n",
       "  'r0b0': 1,\n",
       "  'r1b0': 2,\n",
       "  'c0f0': 0,\n",
       "  'c0f1': 0,\n",
       "  'c1f0': 0,\n",
       "  'c1f1': 1,\n",
       "  'r0f0': 0,\n",
       "  'r0f1': 1,\n",
       "  'r1f0': 0,\n",
       "  'r1f1': 0},\n",
       " {'r0c0': 1,\n",
       "  'r0c1': 0,\n",
       "  'r1c0': 1,\n",
       "  'r1c1': 1,\n",
       "  'c0b0': 2,\n",
       "  'c1b0': 1,\n",
       "  'r0b0': 1,\n",
       "  'r1b0': 2,\n",
       "  'c0f0': 0,\n",
       "  'c0f1': 0,\n",
       "  'c1f0': 1,\n",
       "  'c1f1': 0,\n",
       "  'r0f0': 1,\n",
       "  'r0f1': 0,\n",
       "  'r1f0': 0,\n",
       "  'r1f1': 0},\n",
       " {'r0c0': 1,\n",
       "  'r0c1': 0,\n",
       "  'r1c0': 1,\n",
       "  'r1c1': 1,\n",
       "  'c0b0': 2,\n",
       "  'c1b0': 1,\n",
       "  'r0b0': 1,\n",
       "  'r1b0': 2,\n",
       "  'c0f0': 0,\n",
       "  'c0f1': 0,\n",
       "  'c1f0': 1,\n",
       "  'c1f1': 0,\n",
       "  'r0f0': 1,\n",
       "  'r0f1': 0,\n",
       "  'r1f0': 0,\n",
       "  'r1f1': 0},\n",
       " {'r0c0': 1,\n",
       "  'r0c1': 0,\n",
       "  'r1c0': 1,\n",
       "  'r1c1': 1,\n",
       "  'c0b0': 2,\n",
       "  'c1b0': 1,\n",
       "  'r0b0': 1,\n",
       "  'r1b0': 2,\n",
       "  'c0f0': 0,\n",
       "  'c0f1': 0,\n",
       "  'c1f0': 1,\n",
       "  'c1f1': 0,\n",
       "  'r0f0': 1,\n",
       "  'r0f1': 0,\n",
       "  'r1f0': 0,\n",
       "  'r1f1': 0},\n",
       " {'r0c0': 1,\n",
       "  'r0c1': 0,\n",
       "  'r1c0': 1,\n",
       "  'r1c1': 1,\n",
       "  'c0b0': 2,\n",
       "  'c1b0': 1,\n",
       "  'r0b0': 1,\n",
       "  'r1b0': 2,\n",
       "  'c0f0': 0,\n",
       "  'c0f1': 0,\n",
       "  'c1f0': 1,\n",
       "  'c1f1': 0,\n",
       "  'r0f0': 1,\n",
       "  'r0f1': 0,\n",
       "  'r1f0': 0,\n",
       "  'r1f1': 0},\n",
       " {'r0c0': 1,\n",
       "  'r0c1': 0,\n",
       "  'r1c0': 1,\n",
       "  'r1c1': 1,\n",
       "  'c0b0': 2,\n",
       "  'c1b0': 1,\n",
       "  'r0b0': 1,\n",
       "  'r1b0': 2,\n",
       "  'c0f0': 0,\n",
       "  'c0f1': 0,\n",
       "  'c1f0': 1,\n",
       "  'c1f1': 0,\n",
       "  'r0f0': 0,\n",
       "  'r0f1': 1,\n",
       "  'r1f0': 0,\n",
       "  'r1f1': 0},\n",
       " {'r0c0': 1,\n",
       "  'r0c1': 0,\n",
       "  'r1c0': 1,\n",
       "  'r1c1': 1,\n",
       "  'c0b0': 2,\n",
       "  'c1b0': 1,\n",
       "  'r0b0': 1,\n",
       "  'r1b0': 2,\n",
       "  'c0f0': 0,\n",
       "  'c0f1': 0,\n",
       "  'c1f0': 1,\n",
       "  'c1f1': 0,\n",
       "  'r0f0': 0,\n",
       "  'r0f1': 1,\n",
       "  'r1f0': 0,\n",
       "  'r1f1': 0},\n",
       " {'r0c0': 1,\n",
       "  'r0c1': 0,\n",
       "  'r1c0': 1,\n",
       "  'r1c1': 1,\n",
       "  'c0b0': 2,\n",
       "  'c1b0': 1,\n",
       "  'r0b0': 1,\n",
       "  'r1b0': 2,\n",
       "  'c0f0': 0,\n",
       "  'c0f1': 0,\n",
       "  'c1f0': 1,\n",
       "  'c1f1': 0,\n",
       "  'r0f0': 0,\n",
       "  'r0f1': 1,\n",
       "  'r1f0': 0,\n",
       "  'r1f1': 0},\n",
       " {'r0c0': 1,\n",
       "  'r0c1': 0,\n",
       "  'r1c0': 1,\n",
       "  'r1c1': 1,\n",
       "  'c0b0': 2,\n",
       "  'c1b0': 1,\n",
       "  'r0b0': 1,\n",
       "  'r1b0': 2,\n",
       "  'c0f0': 0,\n",
       "  'c0f1': 0,\n",
       "  'c1f0': 1,\n",
       "  'c1f1': 0,\n",
       "  'r0f0': 0,\n",
       "  'r0f1': 1,\n",
       "  'r1f0': 0,\n",
       "  'r1f1': 0},\n",
       " {'r0c0': 1,\n",
       "  'r0c1': 0,\n",
       "  'r1c0': 1,\n",
       "  'r1c1': 1,\n",
       "  'c0b0': 2,\n",
       "  'c1b0': 1,\n",
       "  'r0b0': 1,\n",
       "  'r1b0': 2,\n",
       "  'c0f0': 0,\n",
       "  'c0f1': 0,\n",
       "  'c1f0': 0,\n",
       "  'c1f1': 1,\n",
       "  'r0f0': 1,\n",
       "  'r0f1': 0,\n",
       "  'r1f0': 0,\n",
       "  'r1f1': 0},\n",
       " {'r0c0': 1,\n",
       "  'r0c1': 0,\n",
       "  'r1c0': 1,\n",
       "  'r1c1': 1,\n",
       "  'c0b0': 2,\n",
       "  'c1b0': 1,\n",
       "  'r0b0': 1,\n",
       "  'r1b0': 2,\n",
       "  'c0f0': 0,\n",
       "  'c0f1': 0,\n",
       "  'c1f0': 0,\n",
       "  'c1f1': 1,\n",
       "  'r0f0': 1,\n",
       "  'r0f1': 0,\n",
       "  'r1f0': 0,\n",
       "  'r1f1': 0},\n",
       " {'r0c0': 1,\n",
       "  'r0c1': 0,\n",
       "  'r1c0': 1,\n",
       "  'r1c1': 1,\n",
       "  'c0b0': 2,\n",
       "  'c1b0': 1,\n",
       "  'r0b0': 1,\n",
       "  'r1b0': 2,\n",
       "  'c0f0': 0,\n",
       "  'c0f1': 0,\n",
       "  'c1f0': 0,\n",
       "  'c1f1': 1,\n",
       "  'r0f0': 1,\n",
       "  'r0f1': 0,\n",
       "  'r1f0': 0,\n",
       "  'r1f1': 0},\n",
       " {'r0c0': 1,\n",
       "  'r0c1': 0,\n",
       "  'r1c0': 1,\n",
       "  'r1c1': 1,\n",
       "  'c0b0': 2,\n",
       "  'c1b0': 1,\n",
       "  'r0b0': 1,\n",
       "  'r1b0': 2,\n",
       "  'c0f0': 0,\n",
       "  'c0f1': 0,\n",
       "  'c1f0': 0,\n",
       "  'c1f1': 1,\n",
       "  'r0f0': 1,\n",
       "  'r0f1': 0,\n",
       "  'r1f0': 0,\n",
       "  'r1f1': 0},\n",
       " {'r0c0': 1,\n",
       "  'r0c1': 0,\n",
       "  'r1c0': 1,\n",
       "  'r1c1': 1,\n",
       "  'c0b0': 2,\n",
       "  'c1b0': 1,\n",
       "  'r0b0': 1,\n",
       "  'r1b0': 2,\n",
       "  'c0f0': 0,\n",
       "  'c0f1': 0,\n",
       "  'c1f0': 0,\n",
       "  'c1f1': 1,\n",
       "  'r0f0': 0,\n",
       "  'r0f1': 1,\n",
       "  'r1f0': 0,\n",
       "  'r1f1': 0},\n",
       " {'r0c0': 1,\n",
       "  'r0c1': 0,\n",
       "  'r1c0': 1,\n",
       "  'r1c1': 1,\n",
       "  'c0b0': 2,\n",
       "  'c1b0': 1,\n",
       "  'r0b0': 1,\n",
       "  'r1b0': 2,\n",
       "  'c0f0': 0,\n",
       "  'c0f1': 0,\n",
       "  'c1f0': 0,\n",
       "  'c1f1': 1,\n",
       "  'r0f0': 0,\n",
       "  'r0f1': 1,\n",
       "  'r1f0': 0,\n",
       "  'r1f1': 0},\n",
       " {'r0c0': 1,\n",
       "  'r0c1': 0,\n",
       "  'r1c0': 1,\n",
       "  'r1c1': 1,\n",
       "  'c0b0': 2,\n",
       "  'c1b0': 1,\n",
       "  'r0b0': 1,\n",
       "  'r1b0': 2,\n",
       "  'c0f0': 0,\n",
       "  'c0f1': 0,\n",
       "  'c1f0': 0,\n",
       "  'c1f1': 1,\n",
       "  'r0f0': 0,\n",
       "  'r0f1': 1,\n",
       "  'r1f0': 0,\n",
       "  'r1f1': 0},\n",
       " {'r0c0': 1,\n",
       "  'r0c1': 0,\n",
       "  'r1c0': 1,\n",
       "  'r1c1': 1,\n",
       "  'c0b0': 2,\n",
       "  'c1b0': 1,\n",
       "  'r0b0': 1,\n",
       "  'r1b0': 2,\n",
       "  'c0f0': 0,\n",
       "  'c0f1': 0,\n",
       "  'c1f0': 0,\n",
       "  'c1f1': 1,\n",
       "  'r0f0': 0,\n",
       "  'r0f1': 1,\n",
       "  'r1f0': 0,\n",
       "  'r1f1': 0}]"
      ]
     },
     "execution_count": 200,
     "metadata": {},
     "output_type": "execute_result"
    }
   ],
   "source": [
    "solutions = problem.getSolutions()\n",
    "solutions"
   ]
  },
  {
   "cell_type": "code",
   "execution_count": 153,
   "id": "f5e59783",
   "metadata": {},
   "outputs": [
    {
     "data": {
      "image/png": "[encoded data removed]",
      "text/plain": [
       "<Figure size 72x72 with 1 Axes>"
      ]
     },
     "metadata": {
      "needs_background": "light"
     },
     "output_type": "display_data"
    }
   ],
   "source": [
    "board2x2 = Board(puzzle2x2)\n",
    "plotter2x2 = BoardPlotter(board2x2)\n",
    "\n",
    "board2x2.states[0,0] = solutions[0]['r0c0']\n",
    "board2x2.states[0,1] = solutions[0]['r0c1']\n",
    "board2x2.states[1,0] = solutions[0]['r1c0']\n",
    "board2x2.states[1,1] = solutions[0]['r1c1']\n",
    "\n",
    "plotter2x2.show()\n",
    "assert board2x2.is_done()"
   ]
  },
  {
   "cell_type": "markdown",
   "id": "cc7a2e7b",
   "metadata": {},
   "source": [
    "# RE"
   ]
  },
  {
   "cell_type": "code",
   "execution_count": 224,
   "id": "96dea06f",
   "metadata": {},
   "outputs": [],
   "source": [
    "# ox\n",
    "# oo\n",
    "clues2x2 = {\n",
    "    'rows': [1, 2],\n",
    "    'cols': [2, 1]\n",
    "}\n",
    "puzzle2x2 = Puzzle(clues2x2)"
   ]
  },
  {
   "cell_type": "code",
   "execution_count": 225,
   "id": "c27d2f88",
   "metadata": {},
   "outputs": [],
   "source": [
    "# get the clues\n",
    "clues_rows = puzzle2x2.norm_clues['rows']\n",
    "clues_cols = puzzle2x2.norm_clues['cols']\n",
    "nc = puzzle2x2.width\n",
    "nr = puzzle2x2.height"
   ]
  },
  {
   "cell_type": "code",
   "execution_count": 226,
   "id": "8b3befb8",
   "metadata": {},
   "outputs": [],
   "source": [
    "problem = Problem()"
   ]
  },
  {
   "cell_type": "code",
   "execution_count": 227,
   "id": "dc38d0e9",
   "metadata": {},
   "outputs": [],
   "source": [
    "problem.addVariable(\"r0c0\", [0,1])\n",
    "problem.addVariable(\"r0c1\", [0,1])\n",
    "problem.addVariable(\"r1c0\", [0,1])\n",
    "problem.addVariable(\"r1c1\", [0,1])"
   ]
  },
  {
   "cell_type": "code",
   "execution_count": 228,
   "id": "c5c1e7c2",
   "metadata": {},
   "outputs": [],
   "source": [
    "problem.addConstraint(\n",
    "     ExactSumConstraint(clues_rows[0][0]),\n",
    "     [\"r0c0\", \"r0c1\"])\n",
    "problem.addConstraint(\n",
    "     ExactSumConstraint(clues_rows[1][0]),\n",
    "     [\"r1c0\", \"r1c1\"])\n",
    "\n",
    "problem.addConstraint(\n",
    "     ExactSumConstraint(clues_cols[0][0]),\n",
    "     [\"r0c0\", \"r1c0\"])\n",
    "problem.addConstraint(\n",
    "     ExactSumConstraint(clues_cols[1][0]),\n",
    "     [\"r0c1\", \"r1c1\"])\n"
   ]
  },
  {
   "cell_type": "code",
   "execution_count": 229,
   "id": "6ea8ffdd",
   "metadata": {},
   "outputs": [
    {
     "data": {
      "text/plain": [
       "[{'r0c0': 1, 'r0c1': 0, 'r1c0': 1, 'r1c1': 1}]"
      ]
     },
     "execution_count": 229,
     "metadata": {},
     "output_type": "execute_result"
    }
   ],
   "source": [
    "solutions = problem.getSolutions()\n",
    "solutions"
   ]
  },
  {
   "cell_type": "code",
   "execution_count": 230,
   "id": "433b0cf3",
   "metadata": {},
   "outputs": [
    {
     "data": {
      "image/png": "[encoded data removed]",
      "text/plain": [
       "<Figure size 72x72 with 1 Axes>"
      ]
     },
     "metadata": {
      "needs_background": "light"
     },
     "output_type": "display_data"
    }
   ],
   "source": [
    "board2x2 = Board(puzzle2x2)\n",
    "plotter2x2 = BoardPlotter(board2x2)\n",
    "\n",
    "board2x2.states[0,0] = solutions[0]['r0c0']\n",
    "board2x2.states[0,1] = solutions[0]['r0c1']\n",
    "board2x2.states[1,0] = solutions[0]['r1c0']\n",
    "board2x2.states[1,1] = solutions[0]['r1c1']\n",
    "\n",
    "plotter2x2.show()\n",
    "assert board2x2.is_done()"
   ]
  },
  {
   "cell_type": "markdown",
   "id": "ca78dec1",
   "metadata": {},
   "source": [
    "## update the board for any dimension"
   ]
  },
  {
   "cell_type": "code",
   "execution_count": 231,
   "id": "3af42244",
   "metadata": {},
   "outputs": [
    {
     "data": {
      "image/png": "[encoded data removed]",
      "text/plain": [
       "<Figure size 72x72 with 1 Axes>"
      ]
     },
     "metadata": {
      "needs_background": "light"
     },
     "output_type": "display_data"
    }
   ],
   "source": [
    "board2x2 = Board(puzzle2x2)\n",
    "plotter2x2 = BoardPlotter(board2x2)\n",
    "\n",
    "board2x2.states.flat[:] = list(solutions[0].values())\n",
    "\n",
    "plotter2x2.show()\n",
    "assert board2x2.is_done()"
   ]
  },
  {
   "cell_type": "markdown",
   "id": "2b366b2a",
   "metadata": {},
   "source": [
    "## create variables and constraints for any dimension"
   ]
  },
  {
   "cell_type": "code",
   "execution_count": 232,
   "id": "8dc08b2d",
   "metadata": {},
   "outputs": [],
   "source": [
    "problem = Problem()"
   ]
  },
  {
   "cell_type": "code",
   "execution_count": 210,
   "id": "56f75328",
   "metadata": {},
   "outputs": [
    {
     "data": {
      "text/plain": [
       "['r00c00', 'r01c00', 'r00c01', 'r01c01']"
      ]
     },
     "execution_count": 210,
     "metadata": {},
     "output_type": "execute_result"
    }
   ],
   "source": [
    "[f\"r{r:02d}c{c:02d}\" for c in range(2) for r in range(2)]"
   ]
  },
  {
   "cell_type": "code",
   "execution_count": 233,
   "id": "5189c2a4",
   "metadata": {},
   "outputs": [],
   "source": [
    "var_names = [f\"r{r:02d}c{c:02d}\" for c in range(2) for r in range(2)]\n",
    "for name in var_names:\n",
    "    problem.addVariable(name, [0,1])"
   ]
  },
  {
   "cell_type": "code",
   "execution_count": 220,
   "id": "4fa91d00",
   "metadata": {},
   "outputs": [
    {
     "data": {
      "text/plain": [
       "['r00c00', 'r00c01']"
      ]
     },
     "execution_count": 220,
     "metadata": {},
     "output_type": "execute_result"
    }
   ],
   "source": [
    "# all cells of a row add up to the clue for the row\n",
    "# all var for row 0\n",
    "from re import match\n",
    "[name for name in var_names if \"r00\" in name]"
   ]
  },
  {
   "cell_type": "code",
   "execution_count": 234,
   "id": "24ffa453",
   "metadata": {},
   "outputs": [],
   "source": [
    "# all cells of a row add up to the clue for the row\n",
    "# the clus is expressed as a list of one integer\n",
    "for r in range(nr):\n",
    "    problem.addConstraint(\n",
    "         ExactSumConstraint(clues_rows[r][0]),\n",
    "         [name for name in var_names if f\"r{r:02d}\" in name])\n",
    "\n",
    "# all cells of a col add up to the clue for the col\n",
    "# the clus is expressed as a list of one integer\n",
    "for c in range(nc):\n",
    "    problem.addConstraint(\n",
    "         ExactSumConstraint(clues_cols[c][0]),\n",
    "         [name for name in var_names if f\"c{c:02d}\" in name])\n"
   ]
  },
  {
   "cell_type": "code",
   "execution_count": 235,
   "id": "3dde564e",
   "metadata": {},
   "outputs": [
    {
     "data": {
      "text/plain": [
       "[{'r00c00': 1, 'r00c01': 0, 'r01c00': 1, 'r01c01': 1}]"
      ]
     },
     "execution_count": 235,
     "metadata": {},
     "output_type": "execute_result"
    }
   ],
   "source": [
    "solutions = problem.getSolutions()\n",
    "solutions"
   ]
  },
  {
   "cell_type": "code",
   "execution_count": 236,
   "id": "97dd7173",
   "metadata": {},
   "outputs": [
    {
     "data": {
      "image/png": "[encoded data removed]",
      "text/plain": [
       "<Figure size 72x72 with 1 Axes>"
      ]
     },
     "metadata": {
      "needs_background": "light"
     },
     "output_type": "display_data"
    }
   ],
   "source": [
    "board2x2 = Board(puzzle2x2)\n",
    "plotter2x2 = BoardPlotter(board2x2)\n",
    "\n",
    "board2x2.states.flat[:] = list(solutions[0].values())\n",
    "\n",
    "plotter2x2.show()\n",
    "assert board2x2.is_done()"
   ]
  },
  {
   "cell_type": "markdown",
   "id": "63b26144",
   "metadata": {},
   "source": [
    "# class "
   ]
  },
  {
   "cell_type": "code",
   "execution_count": null,
   "id": "91fee771",
   "metadata": {},
   "outputs": [],
   "source": [
    "%reste -f "
   ]
  },
  {
   "cell_type": "code",
   "execution_count": 258,
   "id": "91645362",
   "metadata": {},
   "outputs": [],
   "source": [
    "from boardutilsv2 import Puzzle, Board, BoardMark\n",
    "from plotterutilsv2 import BoardPlotter\n",
    "\n",
    "from constraint  import *\n",
    "\n",
    "#TOdo refine as Problem subclass and Solver\n",
    "\n",
    "class SolverConstraints:\n",
    "    \n",
    "    def solve(self, some_puzzle, verbose=False):\n",
    "        # each variable is the position on the board reshaped to a list\n",
    "        problem = Problem()\n",
    "        # first parameter is the variable name\n",
    "        # second parameter is the range 0-1\n",
    "        problem.addVariables(range(some_puzzle.cells_count), [0,1])\n",
    "\n",
    "        # get the clues\n",
    "        clues_rows = some_puzzle.norm_clues['rows']\n",
    "        clues_cols = some_puzzle.norm_clues['cols']\n",
    "        nc = some_puzzle.width\n",
    "        nr = some_puzzle.height\n",
    "\n",
    "        # create a variable for each cell\n",
    "        # name are rNNcMM where NN stand for row number and MM stand for col number\n",
    "        var_names = [f\"r{r:02d}c{c:02d}\" \n",
    "                     for c in range(nc) \n",
    "                     for r in range(nr)]\n",
    "        if verbose:\n",
    "            print(f\"var_names={var_names}\")\n",
    "        for name in var_names:\n",
    "            problem.addVariable(name, [0,1])\n",
    "\n",
    "        # all cells of a row add up to the clue for the row\n",
    "        # the clus is expressed as a list of one integer\n",
    "        for r in range(nr):\n",
    "            problem.addConstraint(\n",
    "                 ExactSumConstraint(clues_rows[r][0]),\n",
    "                 [name for name in var_names if f\"r{r:02d}\" in name])\n",
    "\n",
    "        # all cells of a col add up to the clue for the col\n",
    "        # the clus is expressed as a list of one integer\n",
    "        for c in range(nc):\n",
    "            problem.addConstraint(\n",
    "                 ExactSumConstraint(clues_cols[c][0]),\n",
    "                 [name for name in var_names if f\"c{c:02d}\" in name])\n",
    "\n",
    "\n",
    "        solutions = problem.getSolutions()\n",
    "        if verbose:\n",
    "            print(f\"solutions={solutions}\")\n",
    "\n",
    "        board = None\n",
    "        if solutions:\n",
    "            board = Board(some_puzzle)\n",
    "            board.states.flat[:] = list(solutions[0].values())\n",
    "        return board"
   ]
  },
  {
   "cell_type": "markdown",
   "id": "4cb29f74",
   "metadata": {},
   "source": [
    "## tests"
   ]
  },
  {
   "cell_type": "code",
   "execution_count": 264,
   "id": "dad6725c",
   "metadata": {},
   "outputs": [],
   "source": [
    "# ox\n",
    "# oo\n",
    "clues2x2 = {\n",
    "    'rows': [1, 2],\n",
    "    'cols': [2, 1]\n",
    "}\n",
    "puzzle2x2 = Puzzle(clues2x2)"
   ]
  },
  {
   "cell_type": "code",
   "execution_count": 265,
   "id": "58fe3559",
   "metadata": {},
   "outputs": [
    {
     "data": {
      "image/png": "[encoded data removed]",
      "text/plain": [
       "<Figure size 72x72 with 1 Axes>"
      ]
     },
     "metadata": {
      "needs_background": "light"
     },
     "output_type": "display_data"
    }
   ],
   "source": [
    "board2x2_solved = SolverConstraints().solve(puzzle2x2)\n",
    "plotter2x2 = BoardPlotter(board2x2_solved)\n",
    "plotter2x2.show()\n",
    "assert board2x2_solved.is_done()"
   ]
  },
  {
   "cell_type": "code",
   "execution_count": 266,
   "id": "ddfebff3",
   "metadata": {},
   "outputs": [],
   "source": [
    "# oxx\n",
    "# oox\n",
    "# ooo\n",
    "clues3x3 = {\n",
    "    'rows': [1, 2, 3],\n",
    "    'cols': [3, 2, 1]\n",
    "}\n",
    "puzzle3x3 = Puzzle(clues3x3)"
   ]
  },
  {
   "cell_type": "code",
   "execution_count": 267,
   "id": "3d633d65",
   "metadata": {},
   "outputs": [
    {
     "data": {
      "image/png": "[encoded data removed]",
      "text/plain": [
       "<Figure size 72x72 with 1 Axes>"
      ]
     },
     "metadata": {
      "needs_background": "light"
     },
     "output_type": "display_data"
    }
   ],
   "source": [
    "board3x3_solved = SolverConstraints().solve(puzzle3x3)\n",
    "if board3x3_solved:\n",
    "    plotter3x3 = BoardPlotter(board3x3_solved)\n",
    "    plotter3x3.show()\n",
    "    assert board3x3_solved.is_done()"
   ]
  },
  {
   "cell_type": "markdown",
   "id": "40002f84",
   "metadata": {},
   "source": [
    "# split"
   ]
  },
  {
   "cell_type": "markdown",
   "id": "91aa9dee",
   "metadata": {},
   "source": [
    "Try to predict chunks"
   ]
  },
  {
   "cell_type": "code",
   "execution_count": 329,
   "id": "8aee2f69",
   "metadata": {},
   "outputs": [],
   "source": [
    "# oxo\n",
    "# xox\n",
    "# xox\n",
    "clues3x3s = {\n",
    "    'rows': [[1,1], 1, 1],\n",
    "    'cols': [1, 2, 1]\n",
    "}\n",
    "puzzle3x3s = Puzzle(clues3x3s)"
   ]
  },
  {
   "cell_type": "code",
   "execution_count": 330,
   "id": "fdfc08a8",
   "metadata": {},
   "outputs": [],
   "source": [
    "# get the clues\n",
    "clues_rows = puzzle3x3s.norm_clues['rows']\n",
    "clues_cols = puzzle3x3s.norm_clues['cols']\n",
    "nc = puzzle3x3s.width\n",
    "nr = puzzle3x3s.height"
   ]
  },
  {
   "cell_type": "code",
   "execution_count": 331,
   "id": "673ccb4d",
   "metadata": {},
   "outputs": [],
   "source": [
    "problem = Problem()"
   ]
  },
  {
   "cell_type": "code",
   "execution_count": 273,
   "id": "5dc25f23",
   "metadata": {},
   "outputs": [
    {
     "data": {
      "text/plain": [
       "range(1, 3)"
      ]
     },
     "execution_count": 273,
     "metadata": {},
     "output_type": "execute_result"
    }
   ],
   "source": [
    "range(1, nc)"
   ]
  },
  {
   "cell_type": "code",
   "execution_count": 332,
   "id": "f55c2f22",
   "metadata": {},
   "outputs": [],
   "source": [
    "problem.addVariable(\"r0s0\", range(clues_rows[0][0], nc))\n",
    "problem.addVariable(\"r0s0-1\", range(1, nc))\n",
    "problem.addVariable(\"r0s1\", range(clues_rows[0][1], nc))"
   ]
  },
  {
   "cell_type": "code",
   "execution_count": 283,
   "id": "20de2c1b",
   "metadata": {},
   "outputs": [],
   "source": [
    "#problem.getSolutions()"
   ]
  },
  {
   "cell_type": "code",
   "execution_count": 333,
   "id": "1565d7ea",
   "metadata": {},
   "outputs": [],
   "source": [
    "problem.addConstraint(\n",
    "                     ExactSumConstraint(nc),\n",
    "                     [\"r0s0\", \"r0s0-1\", \"r0s1\"])\n"
   ]
  },
  {
   "cell_type": "code",
   "execution_count": 334,
   "id": "c67e4d98",
   "metadata": {},
   "outputs": [
    {
     "data": {
      "text/plain": [
       "[{'r0s0': 1, 'r0s0-1': 1, 'r0s1': 1}]"
      ]
     },
     "execution_count": 334,
     "metadata": {},
     "output_type": "execute_result"
    }
   ],
   "source": [
    "solutions = problem.getSolutions()\n",
    "solutions"
   ]
  },
  {
   "cell_type": "code",
   "execution_count": 350,
   "id": "5e65bf5c",
   "metadata": {},
   "outputs": [],
   "source": [
    "# oooxxoooxo\n",
    "# 3 slices 0-1-2, 5-6-7, 9\n",
    "solutions_sorted = [{'r0s0': 3, 'r0s0-1': 2, 'r0s1': 3, 'r0s1-2': 1, 'r0s2': 1}]"
   ]
  },
  {
   "cell_type": "code",
   "execution_count": 352,
   "id": "da4a8289",
   "metadata": {},
   "outputs": [
    {
     "data": {
      "text/plain": [
       "{'r0s0': 3, 'r0s0-1': 2, 'r0s1': 3, 'r0s1-2': 1, 'r0s2': 1}"
      ]
     },
     "execution_count": 352,
     "metadata": {},
     "output_type": "execute_result"
    }
   ],
   "source": [
    "solutions_sorted[0]"
   ]
  },
  {
   "cell_type": "code",
   "execution_count": 360,
   "id": "fff0b00a",
   "metadata": {},
   "outputs": [
    {
     "data": {
      "text/plain": [
       "[3, 2, 3, 1, 1]"
      ]
     },
     "execution_count": 360,
     "metadata": {},
     "output_type": "execute_result"
    }
   ],
   "source": [
    "slices = [v for (k,v) in solutions_sorted[0].items()]\n",
    "slices"
   ]
  },
  {
   "cell_type": "code",
   "execution_count": 371,
   "id": "8babbd35",
   "metadata": {},
   "outputs": [
    {
     "data": {
      "text/plain": [
       "[0, 3, 5, 8, 9, 10]"
      ]
     },
     "execution_count": 371,
     "metadata": {},
     "output_type": "execute_result"
    }
   ],
   "source": [
    "slices_cum = [sum(slices[0:i]) for i in range (len(slices))] + [10]\n",
    "slices_cum"
   ]
  },
  {
   "cell_type": "code",
   "execution_count": 372,
   "id": "3ff1c140",
   "metadata": {},
   "outputs": [
    {
     "data": {
      "text/plain": [
       "[range(0, 3), range(5, 8), range(9, 10)]"
      ]
     },
     "execution_count": 372,
     "metadata": {},
     "output_type": "execute_result"
    }
   ],
   "source": [
    "[range(slices_cum[i],slices_cum[i+1]) for i in range(0, len(slices_cum), 2)]"
   ]
  },
  {
   "cell_type": "code",
   "execution_count": 391,
   "id": "d2ace1b5",
   "metadata": {},
   "outputs": [],
   "source": [
    "def convert_to_ranges(solution_sorted):\n",
    "    # get each slice of the soluton (dict values)\n",
    "    slices = [v for (k,v) in solution_sorted.items()]\n",
    "    # accumulate slices to get start and end of ranges\n",
    "    slices_cum = [sum(slices[0:i]) for i in range (len(slices))] + [10]\n",
    "    ranges = [range(slices_cum[i],slices_cum[i+1]) for i in range(0, len(slices_cum), 2)]\n",
    "    return ranges"
   ]
  },
  {
   "cell_type": "code",
   "execution_count": 374,
   "id": "fc6acb3c",
   "metadata": {},
   "outputs": [
    {
     "data": {
      "text/plain": [
       "[range(0, 3), range(5, 8), range(9, 10)]"
      ]
     },
     "execution_count": 374,
     "metadata": {},
     "output_type": "execute_result"
    }
   ],
   "source": [
    "convert_to_ranges(solutions_sorted[0])"
   ]
  },
  {
   "cell_type": "markdown",
   "id": "641a148c",
   "metadata": {},
   "source": [
    "## test 5x5"
   ]
  },
  {
   "cell_type": "code",
   "execution_count": 375,
   "id": "a8f21180",
   "metadata": {},
   "outputs": [],
   "source": [
    "clues5x5s = {\n",
    "    'rows': [1, 3, [1,1], 3, 5],\n",
    "    'cols': [1, 4, [2,2], 4, 1]\n",
    "}\n",
    "puzzle5x5s = Puzzle(clues5x5s)"
   ]
  },
  {
   "cell_type": "code",
   "execution_count": 376,
   "id": "2549cbf5",
   "metadata": {},
   "outputs": [],
   "source": [
    "# get the clues\n",
    "clues_rows = puzzle5x5s.norm_clues['rows']\n",
    "clues_cols = puzzle5x5s.norm_clues['cols']\n",
    "nc = puzzle5x5s.width\n",
    "nr = puzzle5x5s.height"
   ]
  },
  {
   "cell_type": "code",
   "execution_count": 380,
   "id": "1bea9c7a",
   "metadata": {},
   "outputs": [],
   "source": [
    "problem = Problem()"
   ]
  },
  {
   "cell_type": "code",
   "execution_count": 381,
   "id": "0f129f4e",
   "metadata": {},
   "outputs": [],
   "source": [
    "problem.addVariable(\"r2s0\", range(clues_rows[2][0], nc))\n",
    "problem.addVariable(\"r2s0-1\", range(1, nc))\n",
    "problem.addVariable(\"r2s1\", range(clues_rows[2][1], nc))\n",
    "\n",
    "problem.addVariable(\"c2s0\", range(clues_cols[2][0], nr))\n",
    "problem.addVariable(\"c2s0-1\", range(1, nc))\n",
    "problem.addVariable(\"c2s1\", range(clues_cols[2][1], nr))"
   ]
  },
  {
   "cell_type": "code",
   "execution_count": 382,
   "id": "aa5aab1e",
   "metadata": {},
   "outputs": [],
   "source": [
    "problem.addConstraint(\n",
    "                     ExactSumConstraint(nc),\n",
    "                     [\"r2s0\", \"r2s0-1\", \"r2s1\"])\n",
    "\n",
    "problem.addConstraint(\n",
    "                     ExactSumConstraint(nr),\n",
    "                     [\"c2s0\", \"c2s0-1\", \"c2s1\"])\n"
   ]
  },
  {
   "cell_type": "code",
   "execution_count": 383,
   "id": "8ad44b29",
   "metadata": {},
   "outputs": [],
   "source": [
    "solutions = problem.getSolutions()\n",
    "solutions_sorted = [sorted(s.items()) for s in solutions]"
   ]
  },
  {
   "cell_type": "code",
   "execution_count": 392,
   "id": "1db86c7a",
   "metadata": {},
   "outputs": [
    {
     "data": {
      "text/plain": [
       "[{'c2s0': 2, 'c2s1': 2, 'c2s0-1': 1, 'r2s0': 3, 'r2s0-1': 1, 'r2s1': 1},\n",
       " {'c2s0': 2, 'c2s1': 2, 'c2s0-1': 1, 'r2s0': 2, 'r2s0-1': 2, 'r2s1': 1},\n",
       " {'c2s0': 2, 'c2s1': 2, 'c2s0-1': 1, 'r2s0': 2, 'r2s0-1': 1, 'r2s1': 2},\n",
       " {'c2s0': 2, 'c2s1': 2, 'c2s0-1': 1, 'r2s0': 1, 'r2s0-1': 3, 'r2s1': 1},\n",
       " {'c2s0': 2, 'c2s1': 2, 'c2s0-1': 1, 'r2s0': 1, 'r2s0-1': 2, 'r2s1': 2},\n",
       " {'c2s0': 2, 'c2s1': 2, 'c2s0-1': 1, 'r2s0': 1, 'r2s0-1': 1, 'r2s1': 3}]"
      ]
     },
     "execution_count": 392,
     "metadata": {},
     "output_type": "execute_result"
    }
   ],
   "source": [
    "solutions"
   ]
  },
  {
   "cell_type": "markdown",
   "id": "38485b16",
   "metadata": {},
   "source": [
    "# RE"
   ]
  },
  {
   "cell_type": "code",
   "execution_count": 407,
   "id": "e7d553c7",
   "metadata": {},
   "outputs": [],
   "source": [
    "clues5x5s = {\n",
    "    'rows': [1, 3, [1,1], 3, 5],\n",
    "    'cols': [1, 4, [2,2], 4, 1]\n",
    "}\n",
    "puzzle5x5s = Puzzle(clues5x5s)"
   ]
  },
  {
   "cell_type": "code",
   "execution_count": 408,
   "id": "84c37665",
   "metadata": {},
   "outputs": [],
   "source": [
    "# get the clues\n",
    "clues_rows = puzzle5x5s.norm_clues['rows']\n",
    "clues_cols = puzzle5x5s.norm_clues['cols']\n",
    "nc = puzzle5x5s.width\n",
    "nr = puzzle5x5s.height"
   ]
  },
  {
   "cell_type": "code",
   "execution_count": 409,
   "id": "18f2eef6",
   "metadata": {},
   "outputs": [],
   "source": [
    "problem = Problem()"
   ]
  },
  {
   "cell_type": "code",
   "execution_count": 410,
   "id": "d5c88a62",
   "metadata": {},
   "outputs": [],
   "source": [
    "# create a variable for each cell\n",
    "# name are rNNcMM where NN stand for row number and MM stand for col number\n",
    "var_names = [f\"r{r:02d}c{c:02d}\" for c in range(nc) for r in range(nr)]\n",
    "for name in var_names:\n",
    "    problem.addVariable(name, [0,1])"
   ]
  },
  {
   "cell_type": "code",
   "execution_count": 411,
   "id": "08c72ceb",
   "metadata": {},
   "outputs": [],
   "source": [
    "# all cells of a row add up to the clue for the row\n",
    "# the clus is expressed as a list of one integer\n",
    "for r in range(nr):\n",
    "    target = clues_rows[r][0]\n",
    "    if len(clues_rows[r]) > 1:\n",
    "        # split blocks: all the cells of the row sum up to the sum of clues\n",
    "        target = sum(clues_rows[r])\n",
    "    \n",
    "    problem.addConstraint(\n",
    "         ExactSumConstraint(target),\n",
    "         [name for name in var_names if f\"r{r:02d}\" in name])\n",
    "    \n",
    "\n",
    "# all cells of a col add up to the clue for the col\n",
    "# the clus is expressed as a list of one integer\n",
    "for c in range(nc):\n",
    "    target = clues_cols[c][0]\n",
    "    if len(clues_cols[c]) > 1:\n",
    "        # split blocks: all the cells of the col sum up to the sum of clues\n",
    "        target = sum(clues_cols[c])\n",
    "\n",
    "    problem.addConstraint(\n",
    "         ExactSumConstraint(target),\n",
    "         [name for name in var_names if f\"c{c:02d}\" in name])\n"
   ]
  },
  {
   "cell_type": "code",
   "execution_count": 412,
   "id": "42d3f585",
   "metadata": {},
   "outputs": [
    {
     "data": {
      "text/plain": [
       "[{'r00c00': 0,\n",
       "  'r00c01': 1,\n",
       "  'r00c02': 0,\n",
       "  'r00c03': 0,\n",
       "  'r00c04': 0,\n",
       "  'r01c00': 0,\n",
       "  'r01c01': 1,\n",
       "  'r01c02': 1,\n",
       "  'r01c03': 1,\n",
       "  'r01c04': 0,\n",
       "  'r02c00': 0,\n",
       "  'r02c01': 0,\n",
       "  'r02c02': 1,\n",
       "  'r02c03': 1,\n",
       "  'r02c04': 0,\n",
       "  'r03c00': 0,\n",
       "  'r03c01': 1,\n",
       "  'r03c02': 1,\n",
       "  'r03c03': 1,\n",
       "  'r03c04': 0,\n",
       "  'r04c00': 1,\n",
       "  'r04c01': 1,\n",
       "  'r04c02': 1,\n",
       "  'r04c03': 1,\n",
       "  'r04c04': 1},\n",
       " {'r00c00': 0,\n",
       "  'r00c01': 0,\n",
       "  'r00c02': 1,\n",
       "  'r00c03': 0,\n",
       "  'r00c04': 0,\n",
       "  'r01c00': 0,\n",
       "  'r01c01': 1,\n",
       "  'r01c02': 1,\n",
       "  'r01c03': 1,\n",
       "  'r01c04': 0,\n",
       "  'r02c00': 0,\n",
       "  'r02c01': 1,\n",
       "  'r02c02': 0,\n",
       "  'r02c03': 1,\n",
       "  'r02c04': 0,\n",
       "  'r03c00': 0,\n",
       "  'r03c01': 1,\n",
       "  'r03c02': 1,\n",
       "  'r03c03': 1,\n",
       "  'r03c04': 0,\n",
       "  'r04c00': 1,\n",
       "  'r04c01': 1,\n",
       "  'r04c02': 1,\n",
       "  'r04c03': 1,\n",
       "  'r04c04': 1},\n",
       " {'r00c00': 0,\n",
       "  'r00c01': 0,\n",
       "  'r00c02': 0,\n",
       "  'r00c03': 1,\n",
       "  'r00c04': 0,\n",
       "  'r01c00': 0,\n",
       "  'r01c01': 1,\n",
       "  'r01c02': 1,\n",
       "  'r01c03': 1,\n",
       "  'r01c04': 0,\n",
       "  'r02c00': 0,\n",
       "  'r02c01': 1,\n",
       "  'r02c02': 1,\n",
       "  'r02c03': 0,\n",
       "  'r02c04': 0,\n",
       "  'r03c00': 0,\n",
       "  'r03c01': 1,\n",
       "  'r03c02': 1,\n",
       "  'r03c03': 1,\n",
       "  'r03c04': 0,\n",
       "  'r04c00': 1,\n",
       "  'r04c01': 1,\n",
       "  'r04c02': 1,\n",
       "  'r04c03': 1,\n",
       "  'r04c04': 1}]"
      ]
     },
     "execution_count": 412,
     "metadata": {},
     "output_type": "execute_result"
    }
   ],
   "source": [
    "solutions = problem.getSolutions()\n",
    "solutions"
   ]
  },
  {
   "cell_type": "code",
   "execution_count": 414,
   "id": "ce27c094",
   "metadata": {},
   "outputs": [
    {
     "data": {
      "image/png": "[encoded data removed]",
      "text/plain": [
       "<Figure size 144x144 with 1 Axes>"
      ]
     },
     "metadata": {
      "needs_background": "light"
     },
     "output_type": "display_data"
    },
    {
     "name": "stdout",
     "output_type": "stream",
     "text": [
      "valid=False\n"
     ]
    },
    {
     "data": {
      "image/png": "[encoded data removed]",
      "text/plain": [
       "<Figure size 144x144 with 1 Axes>"
      ]
     },
     "metadata": {
      "needs_background": "light"
     },
     "output_type": "display_data"
    },
    {
     "name": "stdout",
     "output_type": "stream",
     "text": [
      "valid=True\n"
     ]
    },
    {
     "data": {
      "image/png": "[encoded data removed]",
      "text/plain": [
       "<Figure size 144x144 with 1 Axes>"
      ]
     },
     "metadata": {
      "needs_background": "light"
     },
     "output_type": "display_data"
    },
    {
     "name": "stdout",
     "output_type": "stream",
     "text": [
      "valid=False\n"
     ]
    }
   ],
   "source": [
    "for solution in solutions:\n",
    "    board5x5s = Board(puzzle5x5s)\n",
    "    plotter5x5s = BoardPlotter(board5x5s)\n",
    "\n",
    "    board5x5s.states.flat[:] = list(solution.values())\n",
    "    \n",
    "    plotter5x5s.show()\n",
    "    \n",
    "    print(f\"valid={board5x5s.is_done()}\") "
   ]
  },
  {
   "cell_type": "markdown",
   "id": "34b0e170",
   "metadata": {},
   "source": [
    "It generates invalid blocks because it is missing a rule that forces the blocks to be separated. For instance col 2.\n",
    "\n",
    "When the clue has multiple split blocks, there must be at least 1 filler."
   ]
  },
  {
   "cell_type": "markdown",
   "id": "e33d7a80",
   "metadata": {},
   "source": [
    "Let us say I know the filler is at row 2, col 2 in the center of the board."
   ]
  },
  {
   "cell_type": "code",
   "execution_count": 455,
   "id": "5bbd58a0",
   "metadata": {},
   "outputs": [],
   "source": [
    "clues5x5s = {\n",
    "    'rows': [1, 3, [1,1], 3, 5],\n",
    "    'cols': [1, 4, [2,2], 4, 1]\n",
    "}\n",
    "puzzle5x5s = Puzzle(clues5x5s)"
   ]
  },
  {
   "cell_type": "code",
   "execution_count": 456,
   "id": "f21ee1c7",
   "metadata": {},
   "outputs": [],
   "source": [
    "# get the clues\n",
    "clues_rows = puzzle5x5s.norm_clues['rows']\n",
    "clues_cols = puzzle5x5s.norm_clues['cols']\n",
    "nc = puzzle5x5s.width\n",
    "nr = puzzle5x5s.height"
   ]
  },
  {
   "cell_type": "code",
   "execution_count": 457,
   "id": "da28a494",
   "metadata": {},
   "outputs": [],
   "source": [
    "problem = Problem()"
   ]
  },
  {
   "cell_type": "code",
   "execution_count": 458,
   "id": "da5101e4",
   "metadata": {},
   "outputs": [],
   "source": [
    "# create a variable for each cell\n",
    "# name are rNNcMM where NN stand for row number and MM stand for col number\n",
    "var_names = [f\"r{r:02d}c{c:02d}\" for c in range(nc) for r in range(nr)]\n",
    "for name in var_names:\n",
    "    problem.addVariable(name, [0,1])"
   ]
  },
  {
   "cell_type": "code",
   "execution_count": 459,
   "id": "4b44c4b7",
   "metadata": {},
   "outputs": [],
   "source": [
    "# all cells of a row add up to the clue for the row\n",
    "# the clus is expressed as a list of one integer\n",
    "for r in range(nr):\n",
    "    target = clues_rows[r][0]\n",
    "    if len(clues_rows[r]) > 1:\n",
    "        # split blocks: all the cells of the row sum up to the sum of clues\n",
    "        target = sum(clues_rows[r])\n",
    "        \n",
    "        # ad-hoc split in 2 chunks\n",
    "        problem.addConstraint(\n",
    "             ExactSumConstraint(clues_rows[r][0]),\n",
    "             [f\"r{r:02d}c{c:02d}\" for c in range(0,2)]) # r02c00 and r02c01\n",
    "        problem.addConstraint(\n",
    "             ExactSumConstraint(clues_rows[r][1]),\n",
    "             [f\"r{r:02d}c{c:02d}\" for c in range(3,5)]) # r02c03 and r02c04\n",
    "\n",
    "    \n",
    "    problem.addConstraint(\n",
    "         ExactSumConstraint(target),\n",
    "         [name for name in var_names if f\"r{r:02d}\" in name])\n",
    "    \n",
    "\n",
    "# all cells of a col add up to the clue for the col\n",
    "# the clus is expressed as a list of one integer\n",
    "for c in range(nc):\n",
    "    target = clues_cols[c][0]\n",
    "    if len(clues_cols[c]) > 1:\n",
    "        # split blocks: all the cells of the col sum up to the sum of clues\n",
    "        target = sum(clues_cols[c])\n",
    "\n",
    "        # ad-hoc split in 2 chunks\n",
    "        problem.addConstraint(\n",
    "             ExactSumConstraint(clues_cols[c][0]),\n",
    "             [f\"r{r:02d}c{c:02d}\" for r in range(0,2)]) # r00c02 and r01c02\n",
    "        problem.addConstraint(\n",
    "             ExactSumConstraint(clues_cols[c][1]),\n",
    "             [f\"r{r:02d}c{c:02d}\" for r in range(3,5)]) # r03c02 and r04c02\n",
    "\n",
    "    problem.addConstraint(\n",
    "         ExactSumConstraint(target),\n",
    "         [name for name in var_names if f\"c{c:02d}\" in name])\n"
   ]
  },
  {
   "cell_type": "code",
   "execution_count": 460,
   "id": "02b23de9",
   "metadata": {},
   "outputs": [
    {
     "data": {
      "text/plain": [
       "[{'r00c02': 1,\n",
       "  'r01c02': 1,\n",
       "  'r02c00': 0,\n",
       "  'r02c01': 1,\n",
       "  'r02c03': 1,\n",
       "  'r02c04': 0,\n",
       "  'r03c02': 1,\n",
       "  'r04c02': 1,\n",
       "  'r00c00': 0,\n",
       "  'r00c01': 0,\n",
       "  'r00c03': 0,\n",
       "  'r00c04': 0,\n",
       "  'r02c02': 0,\n",
       "  'r01c00': 0,\n",
       "  'r01c01': 1,\n",
       "  'r01c03': 1,\n",
       "  'r01c04': 0,\n",
       "  'r03c00': 0,\n",
       "  'r03c01': 1,\n",
       "  'r03c03': 1,\n",
       "  'r03c04': 0,\n",
       "  'r04c00': 1,\n",
       "  'r04c01': 1,\n",
       "  'r04c03': 1,\n",
       "  'r04c04': 1}]"
      ]
     },
     "execution_count": 460,
     "metadata": {},
     "output_type": "execute_result"
    }
   ],
   "source": [
    "solutions = problem.getSolutions()\n",
    "solutions"
   ]
  },
  {
   "cell_type": "code",
   "execution_count": 461,
   "id": "7586ec26",
   "metadata": {},
   "outputs": [
    {
     "data": {
      "text/plain": [
       "[('r00c00', 0),\n",
       " ('r00c01', 0),\n",
       " ('r00c02', 1),\n",
       " ('r00c03', 0),\n",
       " ('r00c04', 0),\n",
       " ('r01c00', 0),\n",
       " ('r01c01', 1),\n",
       " ('r01c02', 1),\n",
       " ('r01c03', 1),\n",
       " ('r01c04', 0),\n",
       " ('r02c00', 0),\n",
       " ('r02c01', 1),\n",
       " ('r02c02', 0),\n",
       " ('r02c03', 1),\n",
       " ('r02c04', 0),\n",
       " ('r03c00', 0),\n",
       " ('r03c01', 1),\n",
       " ('r03c02', 1),\n",
       " ('r03c03', 1),\n",
       " ('r03c04', 0),\n",
       " ('r04c00', 1),\n",
       " ('r04c01', 1),\n",
       " ('r04c02', 1),\n",
       " ('r04c03', 1),\n",
       " ('r04c04', 1)]"
      ]
     },
     "execution_count": 461,
     "metadata": {},
     "output_type": "execute_result"
    }
   ],
   "source": [
    "solution_sorted = sorted(solutions[0].items())\n",
    "solution_sorted"
   ]
  },
  {
   "cell_type": "code",
   "execution_count": 462,
   "id": "5ec162f4",
   "metadata": {},
   "outputs": [
    {
     "data": {
      "image/png": "[encoded data removed]",
      "text/plain": [
       "<Figure size 144x144 with 1 Axes>"
      ]
     },
     "metadata": {
      "needs_background": "light"
     },
     "output_type": "display_data"
    },
    {
     "name": "stdout",
     "output_type": "stream",
     "text": [
      "valid=True\n"
     ]
    }
   ],
   "source": [
    "for solution in solutions:\n",
    "    board5x5s = Board(puzzle5x5s)\n",
    "    plotter5x5s = BoardPlotter(board5x5s)\n",
    "\n",
    "    # variables are not in lexical order anymore\n",
    "    solution_sorted = sorted(solution.items())\n",
    "    board5x5s.states.flat[:] = [v for k, v in solution_sorted]\n",
    "    \n",
    "    plotter5x5s.show()\n",
    "    \n",
    "    print(f\"valid={board5x5s.is_done()}\") "
   ]
  },
  {
   "cell_type": "code",
   "execution_count": null,
   "id": "4c22c7dc",
   "metadata": {},
   "outputs": [],
   "source": [
    "Now how can I place the chunks without prior knowledge of the board cells ?\n",
    "\n",
    "TODO explain filler at least 1"
   ]
  },
  {
   "cell_type": "code",
   "execution_count": 463,
   "id": "2c6f0e55",
   "metadata": {},
   "outputs": [],
   "source": [
    "problem = Problem()"
   ]
  },
  {
   "cell_type": "code",
   "execution_count": 464,
   "id": "f6f7600d",
   "metadata": {},
   "outputs": [],
   "source": [
    "problem.addVariable(\"r2s0\", range(clues_rows[2][0], nc))\n",
    "problem.addVariable(\"r2s0-1\", range(1, nc))\n",
    "problem.addVariable(\"r2s1\", range(clues_rows[2][1], nc))\n",
    "\n",
    "problem.addVariable(\"c2s0\", range(clues_cols[2][0], nr))\n",
    "problem.addVariable(\"c2s0-1\", range(1, nc))\n",
    "problem.addVariable(\"c2s1\", range(clues_cols[2][1], nr))"
   ]
  },
  {
   "cell_type": "code",
   "execution_count": 465,
   "id": "e9f481a1",
   "metadata": {},
   "outputs": [],
   "source": [
    "problem.addConstraint(\n",
    "                     ExactSumConstraint(nc),\n",
    "                     [\"r2s0\", \"r2s0-1\", \"r2s1\"])\n",
    "\n",
    "problem.addConstraint(\n",
    "                     ExactSumConstraint(nr),\n",
    "                     [\"c2s0\", \"c2s0-1\", \"c2s1\"])\n"
   ]
  },
  {
   "cell_type": "code",
   "execution_count": 466,
   "id": "42dc5e16",
   "metadata": {},
   "outputs": [
    {
     "data": {
      "text/plain": [
       "[{'c2s0': 2, 'c2s1': 2, 'c2s0-1': 1, 'r2s0': 3, 'r2s0-1': 1, 'r2s1': 1},\n",
       " {'c2s0': 2, 'c2s1': 2, 'c2s0-1': 1, 'r2s0': 2, 'r2s0-1': 2, 'r2s1': 1},\n",
       " {'c2s0': 2, 'c2s1': 2, 'c2s0-1': 1, 'r2s0': 2, 'r2s0-1': 1, 'r2s1': 2},\n",
       " {'c2s0': 2, 'c2s1': 2, 'c2s0-1': 1, 'r2s0': 1, 'r2s0-1': 3, 'r2s1': 1},\n",
       " {'c2s0': 2, 'c2s1': 2, 'c2s0-1': 1, 'r2s0': 1, 'r2s0-1': 2, 'r2s1': 2},\n",
       " {'c2s0': 2, 'c2s1': 2, 'c2s0-1': 1, 'r2s0': 1, 'r2s0-1': 1, 'r2s1': 3}]"
      ]
     },
     "execution_count": 466,
     "metadata": {},
     "output_type": "execute_result"
    }
   ],
   "source": [
    "solutions = problem.getSolutions()\n",
    "solutions"
   ]
  },
  {
   "cell_type": "markdown",
   "id": "1c8cf2c4",
   "metadata": {},
   "source": [
    "there may be many options to break the col c2 in 2 slices. Solving the board with extra constraints on slices will tel witch one is valid."
   ]
  },
  {
   "cell_type": "markdown",
   "id": "6b230113",
   "metadata": {},
   "source": [
    "How to convert 'r2s0': 2, 'r2s0-1': 1, 'r2s1': 2 into ranges 0-2 and 3-5 ?\n",
    "            \n",
    "First slice is 0 to 'r2s0'\n",
    "\n",
    "Second slice is 'r2s0-1' + 'r2s1' to number of columns\n",
    "   \n",
    "On large boards there may be more than slices (up to 7 in 15x15 is there are all 1). Let us solve this problem for the clue [3, 3, 1] on a 10x10 board."
   ]
  },
  {
   "cell_type": "code",
   "execution_count": 468,
   "id": "2ee3b36a",
   "metadata": {},
   "outputs": [],
   "source": [
    "# [3, 3, 1] -> oooxxoooxo\n",
    "# 3 slices 0-1-2, 5-6-7, 9\n",
    "solutions = [{'r0s0': 3, 'r0s0-1': 2, 'r0s1': 3, 'r0s1-2': 1, 'r0s2': 1}]"
   ]
  },
  {
   "cell_type": "code",
   "execution_count": 483,
   "id": "b9df356b",
   "metadata": {},
   "outputs": [
    {
     "data": {
      "text/plain": [
       "[('r0s0', 3), ('r0s0-1', 2), ('r0s1', 3), ('r0s1-2', 1), ('r0s2', 1)]"
      ]
     },
     "execution_count": 483,
     "metadata": {},
     "output_type": "execute_result"
    }
   ],
   "source": [
    "solution_sorted = sorted(solutions[0].items())\n",
    "solution_sorted"
   ]
  },
  {
   "cell_type": "code",
   "execution_count": 485,
   "id": "14684186",
   "metadata": {},
   "outputs": [
    {
     "data": {
      "text/plain": [
       "[3, 2, 3, 1, 1]"
      ]
     },
     "execution_count": 485,
     "metadata": {},
     "output_type": "execute_result"
    }
   ],
   "source": [
    "slices = [v for (k,v) in solution_sorted]\n",
    "slices"
   ]
  },
  {
   "cell_type": "code",
   "execution_count": 486,
   "id": "ba7adad2",
   "metadata": {},
   "outputs": [
    {
     "data": {
      "text/plain": [
       "[0, 3, 5, 8, 9, 10]"
      ]
     },
     "execution_count": 486,
     "metadata": {},
     "output_type": "execute_result"
    }
   ],
   "source": [
    "slices_cum = [sum(slices[0:i]) for i in range (len(slices))] + [10]\n",
    "slices_cum"
   ]
  },
  {
   "cell_type": "code",
   "execution_count": 487,
   "id": "f0078961",
   "metadata": {},
   "outputs": [
    {
     "data": {
      "text/plain": [
       "[range(0, 3), range(5, 8), range(9, 10)]"
      ]
     },
     "execution_count": 487,
     "metadata": {},
     "output_type": "execute_result"
    }
   ],
   "source": [
    "[range(slices_cum[i],slices_cum[i+1]) for i in range(0, len(slices_cum), 2)]"
   ]
  },
  {
   "cell_type": "code",
   "execution_count": 494,
   "id": "6feaf3fd",
   "metadata": {},
   "outputs": [],
   "source": [
    "def convert_to_ranges(solution, max):\n",
    "    solution_sorted = sorted(solution.items())\n",
    "    # get each slice of the soluton (dict values)\n",
    "    slices = [v for (k,v) in solution_sorted]\n",
    "    # accumulate slices to get start and end of ranges\n",
    "    slices_cum = [sum(slices[0:i]) for i in range (len(slices))] + [max]\n",
    "    ranges = [range(slices_cum[i],slices_cum[i+1]) for i in range(0, len(slices_cum), 2)]\n",
    "    return ranges"
   ]
  },
  {
   "cell_type": "code",
   "execution_count": 496,
   "id": "8d088651",
   "metadata": {},
   "outputs": [
    {
     "data": {
      "text/plain": [
       "[range(0, 3), range(5, 8), range(9, 10)]"
      ]
     },
     "execution_count": 496,
     "metadata": {},
     "output_type": "execute_result"
    }
   ],
   "source": [
    "solution = {'r0s0': 3, 'r0s0-1': 2, 'r0s1': 3, 'r0s1-2': 1, 'r0s2': 1}\n",
    "convert_to_ranges(solution, 10)"
   ]
  },
  {
   "cell_type": "code",
   "execution_count": 497,
   "id": "ed93c3d6",
   "metadata": {},
   "outputs": [
    {
     "data": {
      "text/plain": [
       "[range(0, 2), range(5, 10)]"
      ]
     },
     "execution_count": 497,
     "metadata": {},
     "output_type": "execute_result"
    }
   ],
   "source": [
    "solution = {'r0s0': 2, 'r0s0-1': 3, 'r0s1': 5}\n",
    "convert_to_ranges(solution, 10)"
   ]
  },
  {
   "cell_type": "code",
   "execution_count": 498,
   "id": "3ec47755",
   "metadata": {},
   "outputs": [
    {
     "data": {
      "text/plain": [
       "[range(0, 10)]"
      ]
     },
     "execution_count": 498,
     "metadata": {},
     "output_type": "execute_result"
    }
   ],
   "source": [
    "solution = {'r0s0': 10}\n",
    "convert_to_ranges(solution, 10)"
   ]
  },
  {
   "cell_type": "markdown",
   "id": "ea5623f0",
   "metadata": {},
   "source": [
    "Now I can tranform the output of the slice problem into ranges for the board problem."
   ]
  },
  {
   "cell_type": "code",
   "execution_count": 501,
   "id": "e736cd08",
   "metadata": {},
   "outputs": [],
   "source": [
    "clues5x5s = {\n",
    "    'rows': [1, 3, [1,1], 3, 5],\n",
    "    'cols': [1, 4, [2,2], 4, 1]\n",
    "}\n",
    "puzzle5x5s = Puzzle(clues5x5s)"
   ]
  },
  {
   "cell_type": "code",
   "execution_count": 502,
   "id": "ed6ba47e",
   "metadata": {},
   "outputs": [],
   "source": [
    "# get the clues\n",
    "clues_rows = puzzle5x5s.norm_clues['rows']\n",
    "clues_cols = puzzle5x5s.norm_clues['cols']\n",
    "nc = puzzle5x5s.width\n",
    "nr = puzzle5x5s.height"
   ]
  },
  {
   "cell_type": "code",
   "execution_count": 521,
   "id": "fb091f42",
   "metadata": {},
   "outputs": [],
   "source": [
    "problem = Problem()"
   ]
  },
  {
   "cell_type": "code",
   "execution_count": 522,
   "id": "5d9e38db",
   "metadata": {},
   "outputs": [
    {
     "name": "stdout",
     "output_type": "stream",
     "text": [
      "r=0 ns=1\n",
      "name=r00s0\n",
      "clues_rows[r][0]=1\n",
      "r=1 ns=1\n",
      "name=r01s0\n",
      "clues_rows[r][0]=3\n",
      "r=2 ns=2\n",
      "name=r02s0\n",
      "clues_rows[r][0]=1\n",
      "name=r02s0-1\n",
      "name=r02s1\n",
      "clues_rows[r][1]=1\n",
      "r=3 ns=1\n",
      "name=r03s0\n",
      "clues_rows[r][0]=3\n",
      "r=4 ns=1\n",
      "name=r04s0\n",
      "clues_rows[r][0]=5\n"
     ]
    }
   ],
   "source": [
    "# all cells of a row add up to the clue for the row\n",
    "# the clus is expressed as a list of one integer\n",
    "for r in range(nr):\n",
    "    ns = len(clues_rows[r])\n",
    "    print(f\"r={r} ns={ns}\")\n",
    "    if ns > 1:\n",
    "        names = []\n",
    "        name = f\"r{r:02d}s0\"\n",
    "        print(f\"name={name}\")\n",
    "        print(f\"clues_rows[r][0]={clues_rows[r][0]}\")\n",
    "        problem.addVariable(name, range(clues_rows[r][0], nc+1))\n",
    "        names.append(name)\n",
    "        for s in range(1, ns):\n",
    "            name = f\"{name}-{s}\"\n",
    "            print(f\"name={name}\")\n",
    "            problem.addVariable(name, range(1, nc))\n",
    "            names.append(name)\n",
    "            name = f\"r{r:02d}s{s}\"\n",
    "            print(f\"name={name}\")\n",
    "            print(f\"clues_rows[r][{s}]={clues_rows[r][s]}\")\n",
    "            problem.addVariable(name, range(clues_rows[r][s], nc+1))\n",
    "            names.append(name)\n",
    "\n",
    "        # split blocks: all the cells of the row sum up to the sum of clues\n",
    "        problem.addConstraint(\n",
    "                     ExactSumConstraint(nc),\n",
    "                     names)\n",
    "    else:\n",
    "        name = f\"r{r:02d}s0\"\n",
    "        print(f\"name={name}\")\n",
    "        print(f\"clues_rows[r][0]={clues_rows[r][0]}\")\n",
    "        problem.addVariable(name, range(clues_rows[r][0], nc+1))\n",
    "        problem.addConstraint(\n",
    "                     ExactSumConstraint(nc),\n",
    "                     [name])\n",
    "    "
   ]
  },
  {
   "cell_type": "code",
   "execution_count": 523,
   "id": "1153b1b2",
   "metadata": {},
   "outputs": [],
   "source": [
    "# all cells of a col add up to the clue for the col\n",
    "# the clus is expressed as a list of one integer\n",
    "for c in range(nc):\n",
    "    ns = len(clues_cols[c])\n",
    "    if ns > 1:\n",
    "        names = []\n",
    "        name = f\"c{c:02d}s0\"\n",
    "        problem.addVariable(name, range(clues_cols[c][0], nr+1))\n",
    "        names.append(name)\n",
    "        for s in range(1, ns):\n",
    "            name = f\"{name}-{s}\"\n",
    "            problem.addVariable(name, range(1, nr))\n",
    "            names.append(name)\n",
    "            name = f\"c{c:02d}s{s}\"\n",
    "            problem.addVariable(name, range(clues_cols[c][s], nr+1))\n",
    "            names.append(name)\n",
    "\n",
    "        # split blocks: all the cells of the col sum up to the sum of clues\n",
    "        problem.addConstraint(\n",
    "                     ExactSumConstraint(nr),\n",
    "                     names)\n",
    "    else:\n",
    "        name = f\"c{c:02d}s0\"\n",
    "        problem.addVariable(name, range(clues_cols[c][0], nr+1))\n",
    "        problem.addConstraint(\n",
    "                     ExactSumConstraint(nr),\n",
    "                     [name])\n",
    "    "
   ]
  },
  {
   "cell_type": "code",
   "execution_count": 524,
   "id": "ba204d65",
   "metadata": {},
   "outputs": [
    {
     "data": {
      "text/plain": [
       "[{'c02s0': 2,\n",
       "  'c02s1': 2,\n",
       "  'c02s0-1': 1,\n",
       "  'r02s0-1': 3,\n",
       "  'r02s0': 1,\n",
       "  'r02s1': 1,\n",
       "  'c00s0': 5,\n",
       "  'c01s0': 5,\n",
       "  'c03s0': 5,\n",
       "  'c04s0': 5,\n",
       "  'r00s0': 5,\n",
       "  'r01s0': 5,\n",
       "  'r03s0': 5,\n",
       "  'r04s0': 5},\n",
       " {'c02s0': 2,\n",
       "  'c02s1': 2,\n",
       "  'c02s0-1': 1,\n",
       "  'r02s0-1': 2,\n",
       "  'r02s0': 2,\n",
       "  'r02s1': 1,\n",
       "  'c00s0': 5,\n",
       "  'c01s0': 5,\n",
       "  'c03s0': 5,\n",
       "  'c04s0': 5,\n",
       "  'r00s0': 5,\n",
       "  'r01s0': 5,\n",
       "  'r03s0': 5,\n",
       "  'r04s0': 5},\n",
       " {'c02s0': 2,\n",
       "  'c02s1': 2,\n",
       "  'c02s0-1': 1,\n",
       "  'r02s0-1': 2,\n",
       "  'r02s0': 1,\n",
       "  'r02s1': 2,\n",
       "  'c00s0': 5,\n",
       "  'c01s0': 5,\n",
       "  'c03s0': 5,\n",
       "  'c04s0': 5,\n",
       "  'r00s0': 5,\n",
       "  'r01s0': 5,\n",
       "  'r03s0': 5,\n",
       "  'r04s0': 5},\n",
       " {'c02s0': 2,\n",
       "  'c02s1': 2,\n",
       "  'c02s0-1': 1,\n",
       "  'r02s0-1': 1,\n",
       "  'r02s0': 3,\n",
       "  'r02s1': 1,\n",
       "  'c00s0': 5,\n",
       "  'c01s0': 5,\n",
       "  'c03s0': 5,\n",
       "  'c04s0': 5,\n",
       "  'r00s0': 5,\n",
       "  'r01s0': 5,\n",
       "  'r03s0': 5,\n",
       "  'r04s0': 5},\n",
       " {'c02s0': 2,\n",
       "  'c02s1': 2,\n",
       "  'c02s0-1': 1,\n",
       "  'r02s0-1': 1,\n",
       "  'r02s0': 2,\n",
       "  'r02s1': 2,\n",
       "  'c00s0': 5,\n",
       "  'c01s0': 5,\n",
       "  'c03s0': 5,\n",
       "  'c04s0': 5,\n",
       "  'r00s0': 5,\n",
       "  'r01s0': 5,\n",
       "  'r03s0': 5,\n",
       "  'r04s0': 5},\n",
       " {'c02s0': 2,\n",
       "  'c02s1': 2,\n",
       "  'c02s0-1': 1,\n",
       "  'r02s0-1': 1,\n",
       "  'r02s0': 1,\n",
       "  'r02s1': 3,\n",
       "  'c00s0': 5,\n",
       "  'c01s0': 5,\n",
       "  'c03s0': 5,\n",
       "  'c04s0': 5,\n",
       "  'r00s0': 5,\n",
       "  'r01s0': 5,\n",
       "  'r03s0': 5,\n",
       "  'r04s0': 5}]"
      ]
     },
     "execution_count": 524,
     "metadata": {},
     "output_type": "execute_result"
    }
   ],
   "source": [
    "solutions = problem.getSolutions()\n",
    "solutions"
   ]
  },
  {
   "cell_type": "markdown",
   "id": "92de3a04",
   "metadata": {},
   "source": [
    "# TODO convert to range"
   ]
  },
  {
   "cell_type": "code",
   "execution_count": null,
   "id": "79432ea6",
   "metadata": {},
   "outputs": [],
   "source": []
  }
 ],
 "metadata": {
  "kernelspec": {
   "display_name": "Python 3 (ipykernel)",
   "language": "python",
   "name": "python3"
  },
  "language_info": {
   "codemirror_mode": {
    "name": "ipython",
    "version": 3
   },
   "file_extension": ".py",
   "mimetype": "text/x-python",
   "name": "python",
   "nbconvert_exporter": "python",
   "pygments_lexer": "ipython3",
   "version": "3.9.7"
  }
 },
 "nbformat": 4,
 "nbformat_minor": 5
}
