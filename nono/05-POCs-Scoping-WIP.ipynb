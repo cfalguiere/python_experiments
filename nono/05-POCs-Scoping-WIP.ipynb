{
 "cells": [
  {
   "cell_type": "markdown",
   "id": "48f663e3",
   "metadata": {},
   "source": [
    "# Episode 05: Scoping of Proofs of concepts"
   ]
  },
  {
   "cell_type": "markdown",
   "id": "dfc21196",
   "metadata": {},
   "source": [
    "In Episode 03, some potential problem solving strategies or heuristics. Fitted out with the  classes improved in Episode 04, let's try to solve the problem.\n",
    "\n",
    "In this Episode will be focuse on exploring different technologies and check whether it is useful for solving this problem.\n",
    "\n",
    "We willmost of time focus on 2x2 simple problems and assume that we know a solution to the problem. The latter will simplify the problem by allowing to check if the proposed solution aquals the expected solution instead of verifying if the solution works.\n",
    "\n",
    "**Goals for this episode:**\n",
    "- Try to solve the puzzle with classes defined in Episode 04\n",
    "- List potential strategies or heuristics\n",
    "- Evaluate by solving simple 2x2 problem with a known solution"
   ]
  },
  {
   "cell_type": "code",
   "execution_count": 1,
   "id": "315572d7",
   "metadata": {},
   "outputs": [
    {
     "ename": "SyntaxError",
     "evalue": "invalid syntax (2524656898.py, line 4)",
     "output_type": "error",
     "traceback": [
      "\u001b[0;36m  File \u001b[0;32m\"/var/folders/mz/jwctlgxx11bg34b_1wygb5br0000gp/T/ipykernel_4439/2524656898.py\"\u001b[0;36m, line \u001b[0;32m4\u001b[0m\n\u001b[0;31m    machine learning - NLP /transformers\u001b[0m\n\u001b[0m            ^\u001b[0m\n\u001b[0;31mSyntaxError\u001b[0m\u001b[0;31m:\u001b[0m invalid syntax\n"
     ]
    }
   ],
   "source": [
    "# TODO group by categories \n",
    "?\n",
    "optimizers\n",
    "machine learning - NLP /transformers\n",
    "\n",
    "\n",
    "use only known solutions and 2x2 here"
   ]
  },
  {
   "cell_type": "markdown",
   "id": "70e2fbbf",
   "metadata": {},
   "source": [
    "# 2. Try-and-error process\n",
    "\n",
    "TODO"
   ]
  },
  {
   "cell_type": "markdown",
   "id": "d672a191",
   "metadata": {},
   "source": [
    "# 3. Brute Force\n",
    "\n",
    "TODO"
   ]
  },
  {
   "cell_type": "markdown",
   "id": "93b66bdd",
   "metadata": {},
   "source": [
    "# 4. Programming with constraints\n",
    "\n",
    "TODO"
   ]
  },
  {
   "cell_type": "markdown",
   "id": "829af9ae",
   "metadata": {},
   "source": [
    "# 5. Dynamic programming\n",
    "\n",
    "TODO summary"
   ]
  },
  {
   "cell_type": "markdown",
   "id": "cdaea489",
   "metadata": {},
   "source": [
    "# 6. Probabilistic approach\n",
    "\n",
    "TODO"
   ]
  },
  {
   "cell_type": "markdown",
   "id": "ff31138f",
   "metadata": {},
   "source": [
    "# 7. Mathematic approach\n",
    "\n",
    "simpy, sympy, cypy"
   ]
  },
  {
   "cell_type": "markdown",
   "id": "e9216cee",
   "metadata": {},
   "source": [
    "# 8. Optimization by Genetic Algorithm\n",
    "\n",
    "TODO"
   ]
  },
  {
   "cell_type": "markdown",
   "id": "70d384a2",
   "metadata": {},
   "source": [
    "# 9. Machine Learning\n",
    "\n",
    "TODO"
   ]
  },
  {
   "cell_type": "code",
   "execution_count": 2,
   "id": "7e008aee",
   "metadata": {},
   "outputs": [],
   "source": [
    "# 9. MGraph Theory"
   ]
  },
  {
   "cell_type": "markdown",
   "id": "4a28b930",
   "metadata": {},
   "source": [
    "# 10. Wrap up\n",
    "\n",
    "This quick exploration of ways of solving this problem show that we need some additional components :\n",
    "- a game engine which provides the try-and-error validation and the board validation \n",
    "- some operation thate were identified in episode 01: is the board completed, is the board valid\n",
    "- a puzzle class with some operations to transform the clues and compute black count and cels count\n",
    "- try-and-error and learning process will require something in between not done and done in order to improve on rewards:   number of cells completed/undefined, number of errors, number of valid celss\n"
   ]
  },
  {
   "cell_type": "markdown",
   "id": "f2eb2218",
   "metadata": {},
   "source": [
    "TODO\n",
    "\n",
    "wat to display easily how boards evole toward the solution for iterative processing  for all kind of problems (genertic, probabilistic)\n",
    "multi plotter\n",
    "error managemennt \n",
    "check episode 06 list"
   ]
  }
 ],
 "metadata": {
  "kernelspec": {
   "display_name": "Python 3 (ipykernel)",
   "language": "python",
   "name": "python3"
  },
  "language_info": {
   "codemirror_mode": {
    "name": "ipython",
    "version": 3
   },
   "file_extension": ".py",
   "mimetype": "text/x-python",
   "name": "python",
   "nbconvert_exporter": "python",
   "pygments_lexer": "ipython3",
   "version": "3.9.7"
  }
 },
 "nbformat": 4,
 "nbformat_minor": 5
}
