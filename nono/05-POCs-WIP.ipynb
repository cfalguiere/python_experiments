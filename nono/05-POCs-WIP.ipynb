{
 "cells": [
  {
   "cell_type": "markdown",
   "id": "48f663e3",
   "metadata": {},
   "source": [
    "# Episode 05: Proofs of concepts"
   ]
  },
  {
   "cell_type": "markdown",
   "id": "dfc21196",
   "metadata": {},
   "source": [
    "In Episode 03, some potential problem solving strategies or heuristics. Fitted out with the  classes improved in Episode 04, let's try to solve the problem.\n",
    "\n",
    "In this Episode will be focuse on exploring different technologies and check whether it is useful for solving this problem.\n",
    "\n",
    "We willmost of time focus on 2x2 simple problems and assume that we know a solution to the problem. The latter will simplify the problem by allowing to check if the proposed solution aquals the expected solution instead of verifying if the solution works.\n",
    "\n",
    "**Goals for this episode:**\n",
    "- Try to solve the puzzle with the board defined in Episode 04\n",
    "- List potential strategies or heuristics\n",
    "- solve simple 2x2 problem with a known solution"
   ]
  },
  {
   "cell_type": "code",
   "execution_count": null,
   "id": "315572d7",
   "metadata": {},
   "outputs": [],
   "source": [
    "# TODO group by categories \n",
    "?\n",
    "optimizers\n",
    "machine learning - NLP /transformers\n",
    "\n",
    "\n",
    "use only known solutions and 2x2 here"
   ]
  },
  {
   "cell_type": "markdown",
   "id": "3e32e86c",
   "metadata": {},
   "source": [
    "# 1. Some initialisations"
   ]
  },
  {
   "cell_type": "code",
   "execution_count": 162,
   "id": "ea0ac7f5",
   "metadata": {},
   "outputs": [],
   "source": [
    "from episode04 import clues2x2, solution2x2, clues5x5s, solution5x5s\n",
    "from episode04 import Puzzle, Board, BoardMark, GameEngine\n",
    "\n",
    "import numpy as np"
   ]
  },
  {
   "cell_type": "code",
   "execution_count": 166,
   "id": "23d70915",
   "metadata": {},
   "outputs": [
    {
     "data": {
      "text/plain": [
       "{'rows': [1, 2], 'cols': [2, 1]}"
      ]
     },
     "execution_count": 166,
     "metadata": {},
     "output_type": "execute_result"
    }
   ],
   "source": [
    "clues2x2"
   ]
  },
  {
   "cell_type": "code",
   "execution_count": 167,
   "id": "54e31494",
   "metadata": {},
   "outputs": [
    {
     "data": {
      "text/plain": [
       "array([[1, 0],\n",
       "       [1, 1]])"
      ]
     },
     "execution_count": 167,
     "metadata": {},
     "output_type": "execute_result"
    }
   ],
   "source": [
    "solution2x2"
   ]
  },
  {
   "cell_type": "markdown",
   "id": "70e2fbbf",
   "metadata": {},
   "source": [
    "# 2. Try-and-error process\n",
    "\n",
    "Having an idea from scratch is difficult.\n",
    "\n",
    "The contract with the platyer for Nonograms is that they always have 1 solution. Let's say we know that there is a solution. We can try different values for each cell until the board is solved.\n",
    "\n",
    "Even if this process is probably not what we want, it will help undestand what we need to solve the puzzle. \n",
    "\n",
    "In addition, it make sense in AI. Some algorithms, especially in Reinforcement Learning, work by learning from try-and-error process. They are given the goal to keep errors to a minimulm."
   ]
  },
  {
   "cell_type": "markdown",
   "id": "35053c1a",
   "metadata": {},
   "source": [
    "What could be the try-and-error process ?\n",
    "\n",
    "For each cell, I know that it could be black or filler. \n",
    "\n",
    "We need some game engine to decide whether the action is valid or not according to be solution it knows already. "
   ]
  },
  {
   "cell_type": "markdown",
   "id": "2be961e5",
   "metadata": {},
   "source": [
    "Now, let's loop over the problem space"
   ]
  },
  {
   "cell_type": "markdown",
   "id": "6103e6df",
   "metadata": {},
   "source": [
    "## 2.2. Experiments"
   ]
  },
  {
   "cell_type": "code",
   "execution_count": 168,
   "id": "ec1e667f",
   "metadata": {},
   "outputs": [
    {
     "data": {
      "image/png": "[encoded data removed]",
      "text/plain": [
       "<Figure size 72x72 with 1 Axes>"
      ]
     },
     "metadata": {
      "needs_background": "light"
     },
     "output_type": "display_data"
    },
    {
     "name": "stdout",
     "output_type": "stream",
     "text": [
      "error_count:1\n"
     ]
    }
   ],
   "source": [
    "# create the game engine\n",
    "puzzle2x2 = Puzzle(clues2x2)\n",
    "game2x2 = GameEngine(puzzle2x2, solution2x2)\n",
    "board2x2 = game2x2.board\n",
    "\n",
    "for row in range(board2x2.height):\n",
    "    for col in range(board2x2.width):\n",
    "        if game2x2.is_action_valid(row, col, BoardMark.BLACK):\n",
    "            board2x2.mark(row, col, BoardMark.BLACK)\n",
    "        else: \n",
    "            board2x2.mark(row, col, BoardMark.FILLER)\n",
    "\n",
    "game2x2.show_board()\n",
    "print(f\"error_count:{game2x2.errors}\")"
   ]
  },
  {
   "cell_type": "markdown",
   "id": "7c1c1025",
   "metadata": {},
   "source": [
    "Voila!\n",
    "\n",
    "I agree that this algorithm is pretty dump. The percentage of errors goes up very rapidly and exceed what the game will accept (usually 3 errors). On the 5x5 board it took 11 errors to solve 25 cells."
   ]
  },
  {
   "cell_type": "code",
   "execution_count": 169,
   "id": "fa5bab8b",
   "metadata": {},
   "outputs": [
    {
     "data": {
      "image/png": "[encoded data removed]",
      "text/plain": [
       "<Figure size 144x144 with 1 Axes>"
      ]
     },
     "metadata": {
      "needs_background": "light"
     },
     "output_type": "display_data"
    },
    {
     "name": "stdout",
     "output_type": "stream",
     "text": [
      "error_count:11\n"
     ]
    }
   ],
   "source": [
    "# create the game engine\n",
    "puzzle5x5s = Puzzle(clues5x5s)\n",
    "game5x5s = GameEngine(puzzle5x5s, solution5x5s)\n",
    "board5x5s = game5x5s.board\n",
    "\n",
    "for row in range(board5x5s.height):\n",
    "    for col in range(board5x5s.width):\n",
    "        if game5x5s.is_action_valid(row, col, BoardMark.BLACK):\n",
    "            board5x5s.mark(row, col, BoardMark.BLACK)\n",
    "        else: \n",
    "            board5x5s.mark(row, col, BoardMark.FILLER)\n",
    "\n",
    "game5x5s.show_board()\n",
    "print(f\"error_count:{game5x5s.errors}\")"
   ]
  },
  {
   "cell_type": "markdown",
   "id": "2a009cc1",
   "metadata": {},
   "source": [
    "# 2.3  Wrap up\n",
    "\n",
    "What works:\n",
    "- it is really simple to design and implement\n",
    "- no computation, no headache with split blocks\n",
    "\n",
    "Limitation:\n",
    "- requires that the solution is known beforehand\n",
    "- roughly 50% error rate. It depends on the proportion of blacks and fillers,  and whether blacks or fillers are checked for validity"
   ]
  },
  {
   "cell_type": "markdown",
   "id": "d672a191",
   "metadata": {},
   "source": [
    "# 3. Brute Force\n",
    "\n",
    "The idea behind brute force is to generate all possible options and then check which one is vaid.\n",
    "\n",
    "Unlike try-and-error the validation will take place on the whole board. We do not need to know the solution beforehand. The engine can compute the clues from the board and check whether the board holds or breaks the clues."
   ]
  },
  {
   "cell_type": "markdown",
   "id": "e7155192",
   "metadata": {},
   "source": [
    "## 3.1. Experiment on 2x2"
   ]
  },
  {
   "cell_type": "markdown",
   "id": "bb5446b1",
   "metadata": {},
   "source": [
    "The first step is listing all possible options for the oard.\n",
    "\n",
    "The board is a list of 0 and 1. From the clues we know the number of black cells. It is the sum of all clues.\n",
    "\n",
    "All possible boards are permutations of this black cells over the cells of the board. If I have [1,0] all permutations are [1,0] and [0,1]"
   ]
  },
  {
   "cell_type": "code",
   "execution_count": 170,
   "id": "61790f3a",
   "metadata": {},
   "outputs": [],
   "source": [
    "# create the game engine\n",
    "puzzle2x2 = Puzzle(clues2x2)\n",
    "game2x2 = GameEngine(puzzle2x2, solution2x2)\n",
    "board2x2 = game2x2.board"
   ]
  },
  {
   "cell_type": "code",
   "execution_count": 173,
   "id": "13cf76ab",
   "metadata": {},
   "outputs": [
    {
     "data": {
      "text/plain": [
       "[1, 1, 1, 0]"
      ]
     },
     "execution_count": 173,
     "metadata": {},
     "output_type": "execute_result"
    }
   ],
   "source": [
    "# create two generators, one for black cells and the other for fillers\n",
    "from itertools import repeat, chain, tee\n",
    "# 3 blacks\n",
    "black_iterator = repeat(BoardMark.BLACK.value, puzzle2x2.required_blacks_count) \n",
    "# 1 filler\n",
    "fillers_count = puzzle2x2.cells_count - puzzle2x2.required_blacks_count\n",
    "filler_iterator = repeat(BoardMark.FILLER.value, fillers_count) \n",
    "# chain concatenate both iterators\n",
    "# tee is used for debugging, it duplicates the iterator which otherwize could be consummed only once\n",
    "initial_states_iterator, debug_iterator = tee(chain(black_iterator, filler_iterator))\n",
    "# show the value for debugging\n",
    "list(debug_iterator)"
   ]
  },
  {
   "cell_type": "code",
   "execution_count": 174,
   "id": "af92d6ad",
   "metadata": {},
   "outputs": [
    {
     "data": {
      "text/plain": [
       "[(1, 1, 1, 0), (1, 1, 0, 1), (1, 1, 1, 0), (1, 1, 0, 1), (1, 0, 1, 1), (1, 0, 1, 1), (1, 1, 1, 0), (1, 1, 0, 1), (1, 1, 1, 0), (1, 1, 0, 1), (1, 0, 1, 1), (1, 0, 1, 1), (1, 1, 1, 0), (1, 1, 0, 1), (1, 1, 1, 0), (1, 1, 0, 1), (1, 0, 1, 1), (1, 0, 1, 1), (0, 1, 1, 1), (0, 1, 1, 1), (0, 1, 1, 1), (0, 1, 1, 1), (0, 1, 1, 1), (0, 1, 1, 1)]"
      ]
     },
     "execution_count": 174,
     "metadata": {},
     "output_type": "execute_result"
    }
   ],
   "source": [
    "# generate permutations \n",
    "from itertools import permutations\n",
    "permutations_iterator, debug_iterator = tee(permutations(initial_states_iterator))\n",
    "list(debug_iterator)\n",
    "# there are 16 because permutation switch elements of the list and not values\n",
    "# it does not take care that 1 occurs many times"
   ]
  },
  {
   "cell_type": "code",
   "execution_count": 179,
   "id": "46c272d5",
   "metadata": {},
   "outputs": [],
   "source": [
    "# browse all boards and select valid ones\n",
    "import numpy as np\n",
    "\n",
    "# set avoids duplicates generated by permutations\n",
    "for o in set(permutations_iterator):\n",
    "    print(f\"option:{o}\")\n",
    "    # select valid options - o is a tuple not a list\n",
    "    if game2x2.is_expected_solution(list(o)):\n",
    "        print(f\"valid:{o}\")\n",
    "        board2x2.fill_all(o)"
   ]
  },
  {
   "cell_type": "code",
   "execution_count": 180,
   "id": "c2eef29c",
   "metadata": {},
   "outputs": [
    {
     "data": {
      "image/png": "[encoded data removed]",
      "text/plain": [
       "<Figure size 72x72 with 1 Axes>"
      ]
     },
     "metadata": {
      "needs_background": "light"
     },
     "output_type": "display_data"
    }
   ],
   "source": [
    "game2x2.show_board()"
   ]
  },
  {
   "cell_type": "markdown",
   "id": "c7653d1e",
   "metadata": {},
   "source": [
    "## 3.2. Experiment on 2x2 - Alternative implementation"
   ]
  },
  {
   "cell_type": "markdown",
   "id": "b1884bf7",
   "metadata": {},
   "source": [
    "Another way of analysing this problem is to compute all possible indexes of black cells instead of all possible boards.\n",
    "\n",
    "Let's take an example. Say there is a jar with numbers from 0 to 3. These are possible positions of a cell in the board. I want to draw 3 numbers from the jar. This is named a combination of 3 out of 4."
   ]
  },
  {
   "cell_type": "code",
   "execution_count": 181,
   "id": "52c7846e",
   "metadata": {},
   "outputs": [],
   "source": [
    "# create the game engine\n",
    "puzzle2x2 = Puzzle(clues2x2)\n",
    "game2x2 = GameEngine(puzzle2x2, solution2x2)\n",
    "board2x2 = game2x2.board"
   ]
  },
  {
   "cell_type": "code",
   "execution_count": 182,
   "id": "0f6f0f3e",
   "metadata": {},
   "outputs": [
    {
     "data": {
      "text/plain": [
       "[(0, 1, 2), (0, 1, 3), (0, 2, 3), (1, 2, 3)]"
      ]
     },
     "execution_count": 182,
     "metadata": {},
     "output_type": "execute_result"
    }
   ],
   "source": [
    "# draw the position numbers from the pool of indexes\n",
    "from itertools import combinations, tee\n",
    "# want to get 3 positions in a range 0 - 4 where 4 is the number of cells\n",
    "# we want each position to be unique thus no replacement\n",
    "values = range(puzzle2x2.cells_count)\n",
    "nb_drawn = puzzle2x2.required_blacks_count\n",
    "temp_combinations_iterator = combinations(values, nb_drawn) \n",
    "combinations_iterator, debug_iterator = tee(temp_combinations_iterator)\n",
    "list(debug_iterator)"
   ]
  },
  {
   "cell_type": "code",
   "execution_count": 183,
   "id": "b9e39ba3",
   "metadata": {},
   "outputs": [
    {
     "name": "stdout",
     "output_type": "stream",
     "text": [
      "option:(0, 1, 2)\n",
      "option:(0, 1, 3)\n",
      "option:(0, 2, 3)\n",
      "valid:[1 0 1 1]\n",
      "option:(1, 2, 3)\n"
     ]
    }
   ],
   "source": [
    "# browse the options, buold the board and select valid boards\n",
    "import numpy as np\n",
    "\n",
    "for option in combinations_iterator:\n",
    "    print(f\"option:{option}\")\n",
    "    # compute the board state\n",
    "    # put black at each position in combinations_iterator and fillers elsewhere\n",
    "    states = np.full(puzzle2x2.cells_count, BoardMark.FILLER.value, dtype=int)\n",
    "    # put black at each position in combinations_iterator and fillers elsewhere\n",
    "    for pos in option:\n",
    "        states.flat[pos] = BoardMark.BLACK.value\n",
    "    \n",
    "    # select valid options\n",
    "    if game2x2.is_expected_solution(states.tolist()): \n",
    "        print(f\"valid:{states}\")\n",
    "        # batch update the board flattent to 1D\n",
    "        board2x2.fill_all(states)"
   ]
  },
  {
   "cell_type": "code",
   "execution_count": 184,
   "id": "e299b07a",
   "metadata": {},
   "outputs": [
    {
     "data": {
      "image/png": "[encoded data removed]",
      "text/plain": [
       "<Figure size 72x72 with 1 Axes>"
      ]
     },
     "metadata": {
      "needs_background": "light"
     },
     "output_type": "display_data"
    }
   ],
   "source": [
    "game2x2.show_board()"
   ]
  },
  {
   "cell_type": "markdown",
   "id": "fec4e2eb",
   "metadata": {},
   "source": [
    "## 3.3. Wrap up\n",
    "\n",
    "What works:\n",
    "- it is simple to design and implement\n",
    "- no computation, no headache with split blocks\n",
    "\n",
    "Limitation:\n",
    "- number of options  increase rapidly with the size of the board. \n",
    "\n",
    "In addition all these options will have to be checked for validity. We used known solutions here  because they are available but in a real use case we would evaluate whether the option match the clues for each option.\n",
    "\n",
    "The number of options increases lower with implementation 2 because the problem space is smaller. It is the number of blacks instead of the number of cells (blacks are usually around 50% of cells). However it increases rapidly."
   ]
  },
  {
   "cell_type": "code",
   "execution_count": 185,
   "id": "01863972",
   "metadata": {},
   "outputs": [],
   "source": [
    "from itertools import combinations"
   ]
  },
  {
   "cell_type": "code",
   "execution_count": 186,
   "id": "19cf061d",
   "metadata": {},
   "outputs": [
    {
     "name": "stdout",
     "output_type": "stream",
     "text": [
      "CPU times: user 2 µs, sys: 1e+03 ns, total: 3 µs\n",
      "Wall time: 4.05 µs\n"
     ]
    },
    {
     "data": {
      "text/plain": [
       "126"
      ]
     },
     "execution_count": 186,
     "metadata": {},
     "output_type": "execute_result"
    }
   ],
   "source": [
    "%time\n",
    "from itertools import combinations\n",
    "black_count = 4\n",
    "cells_count = 9\n",
    "combinations_iterator = combinations(range(cells_count), black_count)\n",
    "len(list(combinations_iterator))"
   ]
  },
  {
   "cell_type": "code",
   "execution_count": 187,
   "id": "768d5a8f",
   "metadata": {},
   "outputs": [
    {
     "name": "stdout",
     "output_type": "stream",
     "text": [
      "CPU times: user 2 µs, sys: 1e+03 ns, total: 3 µs\n",
      "Wall time: 5.72 µs\n"
     ]
    },
    {
     "data": {
      "text/plain": [
       "11440"
      ]
     },
     "execution_count": 187,
     "metadata": {},
     "output_type": "execute_result"
    }
   ],
   "source": [
    "%time\n",
    "black_count = 7\n",
    "cells_count = 16\n",
    "combinations_iterator = combinations(range(cells_count), black_count)\n",
    "len(list(combinations_iterator))"
   ]
  },
  {
   "cell_type": "code",
   "execution_count": 188,
   "id": "0fdf520f",
   "metadata": {},
   "outputs": [
    {
     "name": "stdout",
     "output_type": "stream",
     "text": [
      "CPU times: user 2 µs, sys: 1 µs, total: 3 µs\n",
      "Wall time: 5.01 µs\n"
     ]
    },
    {
     "data": {
      "text/plain": [
       "4457400"
      ]
     },
     "execution_count": 188,
     "metadata": {},
     "output_type": "execute_result"
    }
   ],
   "source": [
    "%time\n",
    "black_count = 14\n",
    "cells_count = 25\n",
    "combinations_iterator = combinations(range(cells_count), black_count)\n",
    "len(list(combinations_iterator))"
   ]
  },
  {
   "cell_type": "markdown",
   "id": "93b66bdd",
   "metadata": {},
   "source": [
    "# 4. Programming with constraints\n",
    "\n",
    "Wikipedia defines constraint Programming as following: \n",
    "\n",
    ">    Constraint programming is a paradigm for solving combinatorial problems that draws on a wide range of techniques from artificial intelligence, computer science, and operations research. In constraint programming, users declaratively state the constraints on the feasible solutions for a set of decision variables. Constraints differ from the common primitives of imperative programming languages in that they do not specify a step or sequence of steps to execute, but rather the properties of a solution to be found. In addition to constraints, users also need to specify a method to solve these constraints. This typically draws upon standard methods like chronological backtracking and constraint propagation, but may use customized code like a problem specific branching heuristic. \n",
    "\n",
    "Python-contraint offers solvers for Constraint Satisfaction Problems (CSPs) over finite domains in simple and pure Python. CSP is class of problems which may be represented in terms of variables (a, b, …), domains (a in [1, 2, 3], …), and constraints (a < b, …).\n",
    "\n",
    "https://pypi.org/project/python-constraint/\n",
    "\n",
    "\n",
    "Alternative (TODO)"
   ]
  },
  {
   "cell_type": "code",
   "execution_count": null,
   "id": "c071a50c",
   "metadata": {},
   "outputs": [],
   "source": [
    "! pip install python-constraint"
   ]
  },
  {
   "cell_type": "code",
   "execution_count": 193,
   "id": "6af1d4fa",
   "metadata": {},
   "outputs": [],
   "source": [
    "from constraint import Problem"
   ]
  },
  {
   "cell_type": "markdown",
   "id": "95fad33d",
   "metadata": {},
   "source": [
    "## 4.1. Basic example from the tutorial\n",
    "\n",
    "This example shows how to define a and b, a being in the range 1,2,3 and b in the range 4,5,6 so b is 2 time a."
   ]
  },
  {
   "cell_type": "code",
   "execution_count": 194,
   "id": "745e8f37",
   "metadata": {},
   "outputs": [
    {
     "data": {
      "text/plain": [
       "[{'a': 3, 'b': 6}, {'a': 3, 'b': 5}, {'a': 3, 'b': 4}, {'a': 2, 'b': 6}, {'a': 2, 'b': 5}, {'a': 2, 'b': 4}, {'a': 1, 'b': 6}, {'a': 1, 'b': 5}, {'a': 1, 'b': 4}]"
      ]
     },
     "execution_count": 194,
     "metadata": {},
     "output_type": "execute_result"
    }
   ],
   "source": [
    "problem = Problem()\n",
    "problem.addVariable(\"a\", [1,2,3])\n",
    "problem.addVariable(\"b\", [4,5,6])\n",
    "problem.getSolutions()"
   ]
  },
  {
   "cell_type": "markdown",
   "id": "f270b9ee",
   "metadata": {},
   "source": [
    "Without constraints it does a cartesian product of variables a and b. The result is all possible combinations of a and b.\n",
    "\n",
    "The constraint force to filter only pairs where b is twice a. It can be implemented as a lambda function."
   ]
  },
  {
   "cell_type": "code",
   "execution_count": 195,
   "id": "609d5049",
   "metadata": {},
   "outputs": [
    {
     "data": {
      "text/plain": [
       "[{'a': 3, 'b': 6}, {'a': 2, 'b': 4}]"
      ]
     },
     "execution_count": 195,
     "metadata": {},
     "output_type": "execute_result"
    }
   ],
   "source": [
    "problem.addConstraint(lambda a, b: a*2 == b,\n",
    "                          (\"a\", \"b\"))\n",
    "problem.getSolutions()"
   ]
  },
  {
   "cell_type": "markdown",
   "id": "545f63ee",
   "metadata": {},
   "source": [
    "## 4.2. Application to the monogram problem"
   ]
  },
  {
   "cell_type": "code",
   "execution_count": 196,
   "id": "3b4000d8",
   "metadata": {},
   "outputs": [],
   "source": [
    "# create the game engine\n",
    "puzzle2x2 = Puzzle(clues2x2)\n",
    "game2x2 = GameEngine(puzzle2x2, solution2x2)\n",
    "board2x2 = game2x2.board"
   ]
  },
  {
   "cell_type": "code",
   "execution_count": 197,
   "id": "1d53ee39",
   "metadata": {},
   "outputs": [
    {
     "data": {
      "text/plain": [
       "[{'r0c0': 1, 'r0c1': 1, 'r1c0': 1, 'r1c1': 1}, {'r0c0': 1, 'r0c1': 1, 'r1c0': 1, 'r1c1': 0}, {'r0c0': 1, 'r0c1': 1, 'r1c0': 0, 'r1c1': 1}, {'r0c0': 1, 'r0c1': 1, 'r1c0': 0, 'r1c1': 0}, {'r0c0': 1, 'r0c1': 0, 'r1c0': 1, 'r1c1': 1}, {'r0c0': 1, 'r0c1': 0, 'r1c0': 1, 'r1c1': 0}, {'r0c0': 1, 'r0c1': 0, 'r1c0': 0, 'r1c1': 1}, {'r0c0': 1, 'r0c1': 0, 'r1c0': 0, 'r1c1': 0}, {'r0c0': 0, 'r0c1': 1, 'r1c0': 1, 'r1c1': 1}, {'r0c0': 0, 'r0c1': 1, 'r1c0': 1, 'r1c1': 0}, {'r0c0': 0, 'r0c1': 1, 'r1c0': 0, 'r1c1': 1}, {'r0c0': 0, 'r0c1': 1, 'r1c0': 0, 'r1c1': 0}, {'r0c0': 0, 'r0c1': 0, 'r1c0': 1, 'r1c1': 1}, {'r0c0': 0, 'r0c1': 0, 'r1c0': 1, 'r1c1': 0}, {'r0c0': 0, 'r0c1': 0, 'r1c0': 0, 'r1c1': 1}, {'r0c0': 0, 'r0c1': 0, 'r1c0': 0, 'r1c1': 0}]"
      ]
     },
     "execution_count": 197,
     "metadata": {},
     "output_type": "execute_result"
    }
   ],
   "source": [
    "# solve the problem for a 2x2 board\n",
    "problem = Problem()\n",
    "\n",
    "# create a variable for each cell\n",
    "# name is rNcM where N is the row number and M the col number\n",
    "# they all are in range 0-1\n",
    "problem.addVariable(\"r0c0\", [0,1])\n",
    "problem.addVariable(\"r0c1\", [0,1])\n",
    "problem.addVariable(\"r1c0\", [0,1])\n",
    "problem.addVariable(\"r1c1\", [0,1])\n",
    "problem.getSolutions()"
   ]
  },
  {
   "cell_type": "code",
   "execution_count": 198,
   "id": "6a184836",
   "metadata": {},
   "outputs": [
    {
     "data": {
      "text/plain": [
       "[{'r0c0': 1, 'r0c1': 0, 'r1c0': 1, 'r1c1': 1}]"
      ]
     },
     "execution_count": 198,
     "metadata": {},
     "output_type": "execute_result"
    }
   ],
   "source": [
    "# express the clues as contraints in a static way\n",
    "# last parameter is the given variables. They match the lambda vars.\n",
    "# contraints on rows\n",
    "problem.addConstraint(lambda c0, c1: c0+c1 == 1,\n",
    "                          (\"r0c0\", \"r0c1\"))\n",
    "problem.addConstraint(lambda c0, c1: c0+c1 == 2,\n",
    "                          (\"r1c0\", \"r1c1\"))\n",
    "# contraints on cols\n",
    "problem.addConstraint(lambda r0, r1: r0+r1 == 2,\n",
    "                          (\"r0c0\", \"r1c0\"))\n",
    "problem.addConstraint(lambda r0, r1: r0+r1 == 1,\n",
    "                          (\"r0c1\", \"r1c1\"))\n",
    "solutions = problem.getSolutions()\n",
    "solutions"
   ]
  },
  {
   "cell_type": "code",
   "execution_count": 199,
   "id": "9581a22a",
   "metadata": {},
   "outputs": [
    {
     "data": {
      "image/png": "[encoded data removed]",
      "text/plain": [
       "<Figure size 72x72 with 1 Axes>"
      ]
     },
     "metadata": {
      "needs_background": "light"
     },
     "output_type": "display_data"
    },
    {
     "data": {
      "text/plain": [
       "True"
      ]
     },
     "execution_count": 199,
     "metadata": {},
     "output_type": "execute_result"
    }
   ],
   "source": [
    "# update the board with solution\n",
    "board2x2.mark(0,0, BoardMark(solutions[0]['r0c0']))\n",
    "board2x2.mark(0,1, BoardMark(solutions[0]['r0c1']))\n",
    "board2x2.mark(1,0, BoardMark(solutions[0]['r1c0']))\n",
    "board2x2.mark(1,1, BoardMark(solutions[0]['r1c1']))\n",
    "\n",
    "game2x2.show_board()\n",
    "game2x2.is_solved()"
   ]
  },
  {
   "cell_type": "markdown",
   "id": "35c5cc75",
   "metadata": {},
   "source": [
    "## 4.3. Wrap up\n",
    "\n",
    "What works:\n",
    "- problem is expressed clearly\n",
    "- documentation in clean and a totorial is provided. It took me a while to understand what is going on with variables and it is still unclear to me how to use built-in function\n",
    "\n",
    "Limitation:\n",
    "- As it seems to compute all the combinations, it may run into the same limitations than brute foree. To be tested\n",
    "- Generalisation to any size and split blocks is more challenging. It does not hava a notion of an array. Each variable must be handled separatelly.  Interesting challenge!\n",
    "\n",
    "Challenges for further prototyping\n",
    "- generate variable names and contraints\n",
    "- write contraints for variable size\n",
    "- write contraints for split blocks"
   ]
  },
  {
   "cell_type": "markdown",
   "id": "e848b59a",
   "metadata": {},
   "source": [
    "- Ideation: 30mn - classical paradigm \n",
    "- Design: 1h - feature out how to manage variables for board - lib was new to me\n",
    "- Implementation: 2h - generic representation of rules - for whole POC - 5-6h"
   ]
  },
  {
   "cell_type": "markdown",
   "id": "829af9ae",
   "metadata": {},
   "source": [
    "# 5. Dynamic programming\n",
    "\n",
    "Wikipedia defines constraint Programming as following: \n",
    "> Dynamic programming is both a mathematical optimization method and a computer programming method. The method was developed by Richard Bellman in the 1950s and has found applications in numerous fields, from aerospace engineering to economics.\n",
    ">In both contexts it refers to simplifying a complicated problem by breaking it down into simpler sub-problems in a recursive manner. \n",
    "\n",
    "Implement often rely on recursion and reduce or fold method.\n",
    "> In functional programming, fold (also termed reduce, accumulate, aggregate, compress, or inject) refers to a family of higher-order functions that analyze a recursive data structure and through use of a given combining operation, recombine the results of recursively processing its constituent parts, building up a return value. Typically, a fold is presented with a combining function, a top node of a data structure, and possibly some default values to be used under certain conditions. The fold then proceeds to combine elements of the data structure's hierarchy, using the function in a systematic way.  - Wikipedia"
   ]
  },
  {
   "cell_type": "markdown",
   "id": "6b165bae",
   "metadata": {},
   "source": [
    "## 5.1. Simple exemple with a sum\n",
    "\n",
    "Say we want to do the sum of 4 numbers [2, 4, 3, 1].\n",
    "\n",
    "What is the subproblem ? \n",
    "\n",
    "Do the element of the list to the sum of the elements of the rest of the list. \n",
    "\n",
    "This process can be repeated for 3 and 2 numbers. It stops when there is no number in the list anymore.\n",
    "\n",
    "This proxess is called folding or reduce. \n",
    "- Each step the problem is reduced, has less numbers. \n",
    "- The recursion create a tree of subproblem that will be unfolded and folded"
   ]
  },
  {
   "cell_type": "code",
   "execution_count": 209,
   "id": "d66f2a79",
   "metadata": {},
   "outputs": [
    {
     "name": "stdout",
     "output_type": "stream",
     "text": [
      "numbers:[2, 4, 3, 1] - total:0\n",
      "numbers:[4, 3, 1] - total:2\n",
      "numbers:[3, 1] - total:6\n",
      "numbers:[1] - total:9\n",
      "numbers:[] - total:10\n"
     ]
    },
    {
     "data": {
      "text/plain": [
       "10"
      ]
     },
     "execution_count": 209,
     "metadata": {},
     "output_type": "execute_result"
    }
   ],
   "source": [
    "# sum numbers\n",
    "def fold(numbers, total):\n",
    "    print(f\"numbers:{numbers} - total:{total}\")\n",
    "    if len(numbers) == 0:\n",
    "        return total\n",
    "    return fold(numbers[1:], total+numbers[0])\n",
    "    \n",
    "total = fold([2, 4, 3, 1], 0)\n",
    "total"
   ]
  },
  {
   "cell_type": "markdown",
   "id": "355b6e55",
   "metadata": {},
   "source": [
    "## 5.2. Application to he 2x2 board\n",
    "\n",
    "I suggled a lot to define what is the problem and the subproblem. Is it the clues lists ? Is it the board states ?\n",
    "\n",
    "What are the subproblems here ?\n",
    "\n",
    "Let's say that the subproblem is \n",
    "```\n",
    "10\n",
    "1?\n",
    "```\n",
    "I must replace the ? by 0 or 1\n",
    "- 0 would break the clues for row 1 (2 expected)\n",
    "- 1 would hold the clue and solve the board\n",
    "\n",
    "To go there I solved a simplier subproblem\n",
    "```\n",
    "10\n",
    "?\n",
    "```\n",
    "I must replace the ? by 0 or 1\n",
    "- 0 would break the clues because col 0 expects 2\n",
    "- 1 would hold the clue for this subproblem\n",
    "\n",
    "By filling the bard cell by cell, all the hypothesis could be explored and selected when they do not breal the clues.\n",
    "\n",
    "Let's start by building a list of all possible boards."
   ]
  },
  {
   "cell_type": "code",
   "execution_count": null,
   "id": "e57e4382",
   "metadata": {},
   "outputs": [],
   "source": [
    "# create the game engine\n",
    "puzzle2x2 = Puzzle(clues2x2)\n",
    "game2x2 = GameEngine(puzzle2x2, solution2x2)\n",
    "board2x2 = game2x2.board"
   ]
  },
  {
   "cell_type": "code",
   "execution_count": 238,
   "id": "7125845c",
   "metadata": {},
   "outputs": [
    {
     "data": {
      "text/plain": [
       "[[0, 0, 0, 0], [0, 0, 0, 1], [0, 0, 1, 0], [0, 0, 1, 1], [0, 1, 0, 0], [0, 1, 0, 1], [0, 1, 1, 0], [0, 1, 1, 1], [1, 0, 0, 0], [1, 0, 0, 1], [1, 0, 1, 0], [1, 0, 1, 1], [1, 1, 0, 0], [1, 1, 0, 1], [1, 1, 1, 0], [1, 1, 1, 1]]"
      ]
     },
     "execution_count": 238,
     "metadata": {},
     "output_type": "execute_result"
    }
   ],
   "source": [
    "# all boards\n",
    "from math import floor\n",
    "import copy\n",
    "board_lenght = 4 # 2x2\n",
    "def fold(cells):\n",
    "    #print(f\"cells:{cells}\")\n",
    "    if len(cells) == board_lenght:\n",
    "        # found a board - will add to the list of boards\n",
    "        return [cells]\n",
    "    \n",
    "    # boards built in this subproblem\n",
    "    boards = []\n",
    "    boards.extend(fold(cells + [0])) \n",
    "    boards.extend(fold(cells + [1])) \n",
    "    return boards\n",
    "\n",
    "fold([])"
   ]
  },
  {
   "cell_type": "code",
   "execution_count": 235,
   "id": "7eb715d7",
   "metadata": {},
   "outputs": [
    {
     "data": {
      "text/plain": [
       "[[1, 0, 1, 1]]"
      ]
     },
     "execution_count": 235,
     "metadata": {},
     "output_type": "execute_result"
    }
   ],
   "source": [
    "# all boards matching the solution\n",
    "from math import floor\n",
    "import copy\n",
    "board_lenght = 4 # 2x2\n",
    "def fold(cells):\n",
    "    #print(f\"cells:{cells}\")\n",
    "    if len(cells) == board_lenght:\n",
    "        if game2x2.is_expected_solution(cells):\n",
    "            # found a board - will add to the list of boards\n",
    "            return [cells]\n",
    "        else:\n",
    "            # drop - stop the folding bit does not add to the listt\n",
    "            #print(f\"drop {cells}\")\n",
    "            return []\n",
    "   \n",
    "    # boards built in this subproblem\n",
    "    boards = []\n",
    "    boards.extend(fold(cells + [0])) \n",
    "    boards.extend(fold(cells + [1])) \n",
    "    return boards\n",
    "\n",
    "fold([])"
   ]
  },
  {
   "cell_type": "markdown",
   "id": "e159b7a4",
   "metadata": {},
   "source": [
    "A better solution would to stop fold as long as a clue is broken"
   ]
  },
  {
   "cell_type": "code",
   "execution_count": 237,
   "id": "88a5bf2d",
   "metadata": {},
   "outputs": [
    {
     "data": {
      "text/plain": [
       "[[1, 0, 1, 1]]"
      ]
     },
     "execution_count": 237,
     "metadata": {},
     "output_type": "execute_result"
    }
   ],
   "source": [
    "# all boards matching the solution\n",
    "from math import floor\n",
    "import copy\n",
    "board_lenght = 4 # 2x2\n",
    "def fold(cells, pos, running_sum):\n",
    "    if len(cells) == board_lenght:\n",
    "        if running_sum['rows'] == clues2x2['rows'] and running_sum['cols'] == clues2x2['cols']:\n",
    "            # found a board - will add to the list of boards\n",
    "            return [cells]\n",
    "        else:\n",
    "            # drop - stop the folding but does not add to the listt\n",
    "            #print(f\"drop {cells}\")\n",
    "            return []\n",
    "\n",
    "    row = floor(pos/2)\n",
    "    col = pos%2\n",
    "    #print(f\"cells:{cells} - pos:{pos} - row:{row} - col:{col} - running_sum:{running_sum}\")\n",
    "    \n",
    "    if running_sum['rows'][row] > clues2x2['rows'][row]:\n",
    "        #print(f\"drop {cells}\")\n",
    "        return [] # drop - clue is broken\n",
    "    \n",
    "    if running_sum['cols'][col] > clues2x2['cols'][col]:\n",
    "        #print(f\"drop {cells}\")\n",
    "        return [] # drop - clue is broken \n",
    "\n",
    "    # boards built in this subproblem\n",
    "    boards = []\n",
    "    # 0 do not alter the sum\n",
    "    boards.extend(fold(cells + [0], pos+1, running_sum))\n",
    "    # 1 will be added to the running_sum\n",
    "    # need a different dict otherwize reference is modified\n",
    "    new_running_sum = copy.deepcopy(running_sum)\n",
    "    new_running_sum['rows'][row] += 1\n",
    "    new_running_sum['cols'][col] += 1\n",
    "    boards.extend(fold(cells + [1], pos+1, new_running_sum))\n",
    "    return boards\n",
    "\n",
    "fold([], 0, {'rows':[0,0], 'cols':[0,0]}, )"
   ]
  },
  {
   "cell_type": "markdown",
   "id": "c7c18cb2",
   "metadata": {},
   "source": [
    "## 5.3. Wrap up\n",
    "\n",
    "What works:\n",
    "- a classical implementation\n",
    "\n",
    "Limitation:\n",
    "- Code is a bit tricky\n",
    "\n",
    "The main idea is implemented. Need some improvement to running sum with split block and tests against the 5x5s game\n"
   ]
  },
  {
   "cell_type": "markdown",
   "id": "8ae18bb6",
   "metadata": {},
   "source": [
    "- Ideation: 30mn - classical paradigm \n",
    "- Design: 4h - for whatever reason I could not feature out what the problem is and that I don,ot need to validate the rule on subproblem, only prune folds where the rule are broken (when sum is over the clue). My first go was that the subproblem were each element of the clue\n",
    "- Implementation: 3h - a bit tricly to solve the list of list, then the running sum"
   ]
  },
  {
   "cell_type": "markdown",
   "id": "cdaea489",
   "metadata": {},
   "source": [
    "# 6. Probabilistic approach\n",
    "\n",
    "TODO"
   ]
  },
  {
   "cell_type": "code",
   "execution_count": 3,
   "id": "e14dc931",
   "metadata": {},
   "outputs": [
    {
     "data": {
      "text/plain": [
       "{'rows': [1, 2], 'cols': [2, 1]}"
      ]
     },
     "execution_count": 3,
     "metadata": {},
     "output_type": "execute_result"
    }
   ],
   "source": [
    "clues2x2"
   ]
  },
  {
   "cell_type": "markdown",
   "id": "bd889f2b",
   "metadata": {},
   "source": [
    "row 0 could be [x, o] or [o, x] \n",
    "=> probability of black is 0.5\n",
    "col 0 could be [x, o] or [o, x] \n",
    "=> probability of black is 0.5\n",
    "probability of top left cell to be black of probability of being black for row and black for col is the multiplication of probabilities"
   ]
  },
  {
   "cell_type": "code",
   "execution_count": 7,
   "id": "a2dc39c8",
   "metadata": {},
   "outputs": [],
   "source": [
    "# create the game engine\n",
    "puzzle2x2 = Puzzle(clues2x2)\n",
    "game2x2 = GameEngine(puzzle2x2, solution2x2)\n",
    "board2x2 = game2x2.board"
   ]
  },
  {
   "cell_type": "code",
   "execution_count": 8,
   "id": "a9e21bf4",
   "metadata": {},
   "outputs": [
    {
     "data": {
      "text/plain": [
       "array([[0.5 , 0.25],\n",
       "       [1.  , 0.5 ]])"
      ]
     },
     "execution_count": 8,
     "metadata": {},
     "output_type": "execute_result"
    }
   ],
   "source": [
    "probs2x2 = np.full((board2x2.height, board2x2.width), -1, dtype=float)\n",
    "for i_row in range(len(clues2x2['rows'])):\n",
    "    sum_row = clues2x2['rows'][i_row]\n",
    "    for i_col in range(len(clues2x2['cols'])):\n",
    "        sum_col = clues2x2['cols'][i_col]\n",
    "        probs2x2[i_row, i_col] = (sum_row/board2x2.width) * (sum_col/board2x2.height)\n",
    "        \n",
    "probs2x2"
   ]
  },
  {
   "cell_type": "code",
   "execution_count": null,
   "id": "74b4be65",
   "metadata": {},
   "outputs": [],
   "source": [
    "it is actually wrong from here. 0.5 is undecided"
   ]
  },
  {
   "cell_type": "code",
   "execution_count": 244,
   "id": "c87cde97",
   "metadata": {},
   "outputs": [
    {
     "data": {
      "text/plain": [
       "array([[1. , 0.5],\n",
       "       [1. , 1. ]])"
      ]
     },
     "execution_count": 244,
     "metadata": {},
     "output_type": "execute_result"
    }
   ],
   "source": [
    "probs2x2 = np.full((board2x2.height, board2x2.width), -1, dtype=float)\n",
    "for i_row in range(len(clues2x2['rows'])):\n",
    "    sum_row = clues2x2['rows'][i_row]\n",
    "    for i_col in range(len(clues2x2['cols'])):\n",
    "        sum_col = clues2x2['cols'][i_col]\n",
    "        probs2x2[i_row, i_col] = max((sum_row/board2x2.width), (sum_col/board2x2.height))\n",
    "        \n",
    "probs2x2"
   ]
  },
  {
   "cell_type": "code",
   "execution_count": 245,
   "id": "ba628b5d",
   "metadata": {},
   "outputs": [
    {
     "data": {
      "image/png": "[encoded data removed]",
      "text/plain": [
       "<Figure size 72x72 with 1 Axes>"
      ]
     },
     "metadata": {
      "needs_background": "light"
     },
     "output_type": "display_data"
    },
    {
     "name": "stdout",
     "output_type": "stream",
     "text": [
      "error_count:1\n"
     ]
    }
   ],
   "source": [
    "for row in range(board2x2.height):\n",
    "    for col in range(board2x2.width):\n",
    "        value = BoardMark.BLACK if probs2x2[row, col] > 0.5 else BoardMark.FILLER\n",
    "        if game2x2.is_action_valid(row, col, value):\n",
    "            board2x2.mark(row, col, value)\n",
    "        else: \n",
    "            alt_value = BoardMark.FILLER if probs2x2[row, col] >= 0.5 else BoardMark.BLACK    \n",
    "            board2x2.mark(row, col, alt_value)\n",
    "\n",
    "game2x2.show_board()\n",
    "print(f\"error_count:{game2x2.errors}\")"
   ]
  },
  {
   "cell_type": "code",
   "execution_count": 10,
   "id": "9b7a0bce",
   "metadata": {},
   "outputs": [
    {
     "data": {
      "text/plain": [
       "{'rows': [1, 3, [1, 1], 3, 5], 'cols': [1, 4, [2, 2], 4, 1]}"
      ]
     },
     "execution_count": 10,
     "metadata": {},
     "output_type": "execute_result"
    }
   ],
   "source": [
    "clues5x5s"
   ]
  },
  {
   "cell_type": "code",
   "execution_count": 12,
   "id": "8b6d1958",
   "metadata": {},
   "outputs": [],
   "source": [
    "# create the game engine\n",
    "puzzle5x5s = Puzzle(clues5x5s)\n",
    "game5x5s = GameEngine(puzzle5x5s, solution5x5s)\n",
    "board5x5s = game5x5s.board"
   ]
  },
  {
   "cell_type": "code",
   "execution_count": 15,
   "id": "df68d2c2",
   "metadata": {},
   "outputs": [
    {
     "data": {
      "text/plain": [
       "1"
      ]
     },
     "execution_count": 15,
     "metadata": {},
     "output_type": "execute_result"
    }
   ],
   "source": [
    "sum_row_0 = sum(puzzle5x5s.norm_clues['rows'][0])\n",
    "sum_row_0"
   ]
  },
  {
   "cell_type": "code",
   "execution_count": 16,
   "id": "175beb7f",
   "metadata": {},
   "outputs": [
    {
     "data": {
      "text/plain": [
       "2"
      ]
     },
     "execution_count": 16,
     "metadata": {},
     "output_type": "execute_result"
    }
   ],
   "source": [
    "sum_row_2 = sum(puzzle5x5s.norm_clues['rows'][2])\n",
    "sum_row_2"
   ]
  },
  {
   "cell_type": "code",
   "execution_count": 248,
   "id": "529baa05",
   "metadata": {},
   "outputs": [
    {
     "data": {
      "text/plain": [
       "array([[0.2, 0.8, 0.8, 0.8, 0.2],\n",
       "       [0.6, 0.8, 0.8, 0.8, 0.6],\n",
       "       [0.4, 0.8, 0.8, 0.8, 0.4],\n",
       "       [0.6, 0.8, 0.8, 0.8, 0.6],\n",
       "       [1. , 1. , 1. , 1. , 1. ]])"
      ]
     },
     "execution_count": 248,
     "metadata": {},
     "output_type": "execute_result"
    }
   ],
   "source": [
    "probs5x5s = np.full((board5x5s.height, board5x5s.width), -1, dtype=float)\n",
    "for i_row in range(len(clues5x5s['rows'])):\n",
    "    sum_row = sum(puzzle5x5s.norm_clues['rows'][i_row])\n",
    "    for i_col in range(len(clues5x5s['cols'])):\n",
    "        sum_col = sum(puzzle5x5s.norm_clues['cols'][i_col])\n",
    "        probs5x5s[i_row, i_col] = max((sum_row/board5x5s.width), (sum_col/board5x5s.height))\n",
    "        \n",
    "probs5x5s"
   ]
  },
  {
   "cell_type": "code",
   "execution_count": 249,
   "id": "ee42bc47",
   "metadata": {},
   "outputs": [
    {
     "data": {
      "image/png": "[encoded data removed]",
      "text/plain": [
       "<Figure size 144x144 with 1 Axes>"
      ]
     },
     "metadata": {
      "needs_background": "light"
     },
     "output_type": "display_data"
    },
    {
     "name": "stdout",
     "output_type": "stream",
     "text": [
      "error_count:11\n"
     ]
    }
   ],
   "source": [
    "probs = probs5x5s_alt\n",
    "for row in range(board5x5s.height):\n",
    "    for col in range(board5x5s.width):\n",
    "        value = BoardMark.BLACK if probs[row, col] > 0.5 else BoardMark.FILLER\n",
    "        if game5x5s.is_action_valid(row, col, value):\n",
    "            board5x5s.mark(row, col, value)\n",
    "        else: \n",
    "            alt_value = BoardMark.FILLER if probs5x5s[row, col] >= 0.5 else BoardMark.BLACK    \n",
    "            board5x5s.mark(row, col, alt_value)\n",
    "\n",
    "game5x5s.show_board()\n",
    "print(f\"error_count:{game5x5s.errors}\")"
   ]
  },
  {
   "cell_type": "markdown",
   "id": "2ce9d637",
   "metadata": {},
   "source": [
    "MC"
   ]
  },
  {
   "cell_type": "code",
   "execution_count": 21,
   "id": "d356362f",
   "metadata": {},
   "outputs": [
    {
     "data": {
      "text/plain": [
       "0.3735395259734938"
      ]
     },
     "execution_count": 21,
     "metadata": {},
     "output_type": "execute_result"
    }
   ],
   "source": [
    "import random\n",
    "\n",
    "random.uniform(0,1)"
   ]
  },
  {
   "cell_type": "code",
   "execution_count": null,
   "id": "3a6b9286",
   "metadata": {},
   "outputs": [],
   "source": [
    "p = 0.75\n",
    "for i in range(10):\n",
    "    value = BoardMark.BLACK if random.uniform(0,1)<=p else BoardMark.FILLER\n",
    "    print(value)"
   ]
  },
  {
   "cell_type": "code",
   "execution_count": 251,
   "id": "93a84e67",
   "metadata": {},
   "outputs": [
    {
     "name": "stdout",
     "output_type": "stream",
     "text": [
      "[1, 1, 1, 1]\n"
     ]
    },
    {
     "data": {
      "image/png": "[encoded data removed]",
      "text/plain": [
       "<Figure size 72x72 with 1 Axes>"
      ]
     },
     "metadata": {
      "needs_background": "light"
     },
     "output_type": "display_data"
    },
    {
     "name": "stdout",
     "output_type": "stream",
     "text": [
      "[1, 0, 1, 1]\n"
     ]
    },
    {
     "data": {
      "image/png": "[encoded data removed]",
      "text/plain": [
       "<Figure size 72x72 with 1 Axes>"
      ]
     },
     "metadata": {
      "needs_background": "light"
     },
     "output_type": "display_data"
    },
    {
     "data": {
      "image/png": "[encoded data removed]",
      "text/plain": [
       "<Figure size 72x72 with 1 Axes>"
      ]
     },
     "metadata": {
      "needs_background": "light"
     },
     "output_type": "display_data"
    }
   ],
   "source": [
    "# create the game engine\n",
    "puzzle2x2 = Puzzle(clues2x2)\n",
    "game2x2 = GameEngine(puzzle2x2, solution2x2)\n",
    "board2x2 = game2x2.board\n",
    "\n",
    "def mc_sampler():\n",
    "    X = []\n",
    "    for row in range(board2x2.height):\n",
    "        for col in range(board2x2.width):\n",
    "            is_black = np.random.normal(probs2x2[row, col], 0.1) >= 0.5 \n",
    "            #is_black = random.uniform(probs2x2[row, col],1) >= 0.5 \n",
    "            value = BoardMark.BLACK.value if is_black else BoardMark.FILLER.value\n",
    "            X.append(value)\n",
    "    return X\n",
    "\n",
    "solved = False\n",
    "sample = None\n",
    "samples = []\n",
    "while(not solved):\n",
    "    sample =  mc_sampler()\n",
    "    if not sample in samples:\n",
    "        samples.append(sample)\n",
    "        print(sample)\n",
    "        board2x2.fill_all(sample)\n",
    "        game2x2.show_board()\n",
    "        solved = game2x2.is_expected_solution(sample)\n",
    "\n",
    "board2x2.fill_all(sample)\n",
    "game2x2.show_board()"
   ]
  },
  {
   "cell_type": "code",
   "execution_count": 93,
   "id": "9a8d182b",
   "metadata": {},
   "outputs": [
    {
     "data": {
      "text/plain": [
       "0.6924447838722496"
      ]
     },
     "execution_count": 93,
     "metadata": {},
     "output_type": "execute_result"
    }
   ],
   "source": [
    "np.random.normal(0.8,0.1)"
   ]
  },
  {
   "cell_type": "code",
   "execution_count": 252,
   "id": "ce45b4d0",
   "metadata": {},
   "outputs": [
    {
     "name": "stdout",
     "output_type": "stream",
     "text": [
      "[0, 0, 0, 0, 0, 0, 1, 1, 1, 0, 0, 1, 0, 1, 0, 0, 1, 1, 1, 0, 1, 1, 1, 1, 1]\n"
     ]
    },
    {
     "data": {
      "image/png": "[encoded data removed]",
      "text/plain": [
       "<Figure size 144x144 with 1 Axes>"
      ]
     },
     "metadata": {
      "needs_background": "light"
     },
     "output_type": "display_data"
    },
    {
     "name": "stdout",
     "output_type": "stream",
     "text": [
      "[0, 0, 1, 0, 0, 0, 1, 1, 0, 0, 0, 1, 0, 1, 0, 0, 1, 1, 1, 0, 1, 1, 1, 1, 1]\n"
     ]
    },
    {
     "data": {
      "image/png": "[encoded data removed]",
      "text/plain": [
       "<Figure size 144x144 with 1 Axes>"
      ]
     },
     "metadata": {
      "needs_background": "light"
     },
     "output_type": "display_data"
    },
    {
     "name": "stdout",
     "output_type": "stream",
     "text": [
      "[0, 0, 1, 0, 0, 0, 1, 1, 1, 0, 0, 1, 0, 1, 0, 0, 1, 1, 1, 0, 0, 1, 1, 1, 1]\n"
     ]
    },
    {
     "data": {
      "image/png": "[encoded data removed]",
      "text/plain": [
       "<Figure size 144x144 with 1 Axes>"
      ]
     },
     "metadata": {
      "needs_background": "light"
     },
     "output_type": "display_data"
    },
    {
     "name": "stdout",
     "output_type": "stream",
     "text": [
      "[0, 1, 1, 0, 1, 0, 1, 1, 0, 0, 0, 1, 0, 1, 0, 0, 1, 1, 1, 0, 1, 1, 1, 1, 1]\n"
     ]
    },
    {
     "data": {
      "image/png": "[encoded data removed]",
      "text/plain": [
       "<Figure size 144x144 with 1 Axes>"
      ]
     },
     "metadata": {
      "needs_background": "light"
     },
     "output_type": "display_data"
    },
    {
     "name": "stdout",
     "output_type": "stream",
     "text": [
      "[0, 0, 1, 0, 0, 0, 1, 1, 1, 0, 0, 1, 0, 1, 0, 0, 1, 1, 1, 0, 1, 1, 1, 1, 1]\n"
     ]
    },
    {
     "data": {
      "image/png": "[encoded data removed]",
      "text/plain": [
       "<Figure size 144x144 with 1 Axes>"
      ]
     },
     "metadata": {
      "needs_background": "light"
     },
     "output_type": "display_data"
    }
   ],
   "source": [
    "# create the game engine\n",
    "puzzle5x5s = Puzzle(clues5x5s)\n",
    "game5x5s = GameEngine(puzzle5x5s, solution5x5s)\n",
    "board5x5s = game5x5s.board\n",
    "probs = probs5x5s_alt\n",
    "\n",
    "def mc_sampler():\n",
    "    X = []\n",
    "    for row in range(board5x5s.height):\n",
    "        for col in range(board5x5s.width):\n",
    "            is_black = np.random.normal(probs[row, col], 0.2) >= 0.5 \n",
    "            value = BoardMark.BLACK.value if is_black else BoardMark.FILLER.value\n",
    "            X.append(value)\n",
    "    return X\n",
    "\n",
    "solved = False\n",
    "sample = None\n",
    "samples = []\n",
    "i = 0\n",
    "while(not solved and i<50):\n",
    "    sample =  mc_sampler()\n",
    "    if not sample in samples:\n",
    "        samples.append(sample)\n",
    "        print(sample)\n",
    "        board5x5s.fill_all(sample)\n",
    "        game5x5s.show_board()\n",
    "        solved = game5x5s.is_expected_solution(sample)\n",
    "    i += 1\n",
    "\n"
   ]
  },
  {
   "cell_type": "code",
   "execution_count": 108,
   "id": "52c5b9e2",
   "metadata": {},
   "outputs": [
    {
     "data": {
      "text/plain": [
       "array([[0.25, 0.25, 0.75, 0.25, 0.25],\n",
       "       [0.25, 0.75, 0.75, 0.75, 0.25],\n",
       "       [0.25, 0.75, 0.25, 0.75, 0.25],\n",
       "       [0.25, 0.75, 0.75, 0.75, 0.25],\n",
       "       [0.75, 0.75, 0.75, 0.75, 0.75]])"
      ]
     },
     "execution_count": 108,
     "metadata": {},
     "output_type": "execute_result"
    }
   ],
   "source": [
    "probs5x5s_alt = np.full((board5x5s.height, board5x5s.width), -1, dtype=float)\n",
    "for i in range(len(solution5x5s.flat[:])):\n",
    "        probs5x5s_alt.flat[i] =  0.75 if solution5x5s.flat[i] == 1 else 0.25\n",
    "        \n",
    "probs5x5s_alt"
   ]
  },
  {
   "cell_type": "markdown",
   "id": "6c788643",
   "metadata": {},
   "source": [
    "# TODO compute probs"
   ]
  },
  {
   "cell_type": "code",
   "execution_count": null,
   "id": "efc01897",
   "metadata": {},
   "outputs": [],
   "source": [
    "## Wrap up\n",
    "\n",
    "compute probs / update probs"
   ]
  },
  {
   "cell_type": "markdown",
   "id": "ff31138f",
   "metadata": {},
   "source": [
    "# 7. Mathematic approach\n",
    "\n",
    "simpy, sympy, cypy"
   ]
  },
  {
   "cell_type": "markdown",
   "id": "e9216cee",
   "metadata": {},
   "source": [
    "# 8. Optimization by Genetic Algorithm\n",
    "\n",
    "\"genetic algorithm (GA) is a metaheuristic inspired by the process of natural selection that belongs to the larger class of evolutionary algorithms (EA). Genetic algorithms are commonly used to generate high-quality solutions to optimization and search problems by relying on biologically inspired operators such as mutation, crossover and selection\" - Wikipedia"
   ]
  },
  {
   "cell_type": "markdown",
   "id": "524028b4",
   "metadata": {},
   "source": [
    "TODO how could it work here, explain a little bit the selection process"
   ]
  },
  {
   "cell_type": "markdown",
   "id": "5ca01018",
   "metadata": {},
   "source": [
    "https://pypi.org/project/geneticalgorithm/\n",
    "    \n",
    "geneticalgorithm is a Python library distributed on Pypi for implementing standard and elitist genetic-algorithm (GA). This package solves continuous, combinatorial and mixed optimization problems with continuous, discrete, and mixed variables. It provides an easy implementation of genetic-algorithm (GA) in Python."
   ]
  },
  {
   "cell_type": "markdown",
   "id": "45446099",
   "metadata": {},
   "source": [
    "We will use geneticalgorithm for this demonstration because it is more simple and fit this case. Plase not that there is also PyGAD"
   ]
  },
  {
   "cell_type": "markdown",
   "id": "d2456909",
   "metadata": {},
   "source": [
    "https://pygad.readthedocs.io/en/latest/\n",
    "\n",
    "PyGAD is an open-source Python library for building the genetic algorithm and optimizing machine learning algorithms. It works with Keras and PyTorch.\n",
    "\n",
    "PyGAD supports different types of crossover, mutation, and parent selection operators. PyGAD allows different types of problems to be optimized using the genetic algorithm by customizing the fitness function."
   ]
  },
  {
   "cell_type": "markdown",
   "id": "c82f8ad4",
   "metadata": {},
   "source": [
    "## 8.1. Example"
   ]
  },
  {
   "cell_type": "code",
   "execution_count": null,
   "id": "901f0661",
   "metadata": {},
   "outputs": [],
   "source": [
    "! pip install geneticalgorithm"
   ]
  },
  {
   "cell_type": "markdown",
   "id": "81ba279b",
   "metadata": {},
   "source": [
    "Assume we want to find a set of X=(x1,x2,x3) that minimizes function f(X)=x1+x2+x3 where X can be any integer number in [0,10]."
   ]
  },
  {
   "cell_type": "code",
   "execution_count": null,
   "id": "92abb10b",
   "metadata": {},
   "outputs": [],
   "source": [
    "import numpy as np\n",
    "from geneticalgorithm import geneticalgorithm as ga\n",
    "\n",
    "def f(X):\n",
    "    return np.sum(X)\n",
    "\n",
    "varbound=np.array([[0,10]]*3)\n",
    "\n",
    "model=ga(function=f,dimension=3,variable_type='int',variable_boundaries=varbound)\n",
    "\n",
    "model.run()\n"
   ]
  },
  {
   "cell_type": "markdown",
   "id": "25a524a4",
   "metadata": {},
   "source": [
    "In a nonogram 2x2 we want to find a set of X=(x1,x2,x3,x4) that minimizes an error function f(X)=x1+x2+x3 where X can be any integer number in [0,1].\n",
    "The error function compute the deviation from the clues."
   ]
  },
  {
   "cell_type": "markdown",
   "id": "22cc6830",
   "metadata": {},
   "source": [
    "## 8.2. Proof of concept on 2x2"
   ]
  },
  {
   "cell_type": "code",
   "execution_count": null,
   "id": "341faeee",
   "metadata": {},
   "outputs": [],
   "source": [
    "# create the game engine\n",
    "puzzle2x2 = Puzzle(clues2x2)\n",
    "game2x2 = GameEngine(puzzle2x2, solution2x2)\n",
    "board2x2 = game2x2.board"
   ]
  },
  {
   "cell_type": "markdown",
   "id": "c516ffc9",
   "metadata": {},
   "source": [
    "to make it simple we will use the overall sum. The real function should compare col/row sums on X with clues"
   ]
  },
  {
   "cell_type": "code",
   "execution_count": null,
   "id": "19ace189",
   "metadata": {},
   "outputs": [],
   "source": [
    "import numpy as np\n",
    "from geneticalgorithm import geneticalgorithm as ga\n",
    "\n",
    "def f(X):\n",
    "    # assume we know a solution to avoid ilplementing the sums\n",
    "    # minimizing the error\n",
    "    game2x2.is_expected_solution(X.tolist())\n",
    "    return game2x2.errors\n",
    "\n",
    "varbound=np.array([[0,1]]*puzzle2x2.cells_count)\n",
    "\n",
    "model=ga(function=f, \n",
    "         dimension=puzzle2x2.cells_count, \n",
    "         variable_type='int',\n",
    "         variable_boundaries=varbound)\n",
    "\n",
    "model.run()"
   ]
  },
  {
   "cell_type": "code",
   "execution_count": null,
   "id": "555b2363",
   "metadata": {},
   "outputs": [],
   "source": [
    "# TODO collect samples"
   ]
  },
  {
   "cell_type": "code",
   "execution_count": 113,
   "id": "a461c427",
   "metadata": {},
   "outputs": [
    {
     "data": {
      "text/plain": [
       "[8.0,\n",
       " 6.0,\n",
       " 4.0,\n",
       " 4.0,\n",
       " 3.0,\n",
       " 3.0,\n",
       " 3.0,\n",
       " 3.0,\n",
       " 3.0,\n",
       " 1.0,\n",
       " 1.0,\n",
       " 1.0,\n",
       " 1.0,\n",
       " 1.0,\n",
       " 1.0,\n",
       " 1.0,\n",
       " 1.0,\n",
       " 1.0,\n",
       " 1.0,\n",
       " 0.0,\n",
       " 0.0,\n",
       " 0.0,\n",
       " 0.0,\n",
       " 0.0,\n",
       " 0.0,\n",
       " 0.0,\n",
       " 0.0,\n",
       " 0.0,\n",
       " 0.0,\n",
       " 0.0,\n",
       " 0.0,\n",
       " 0.0,\n",
       " 0.0,\n",
       " 0.0,\n",
       " 0.0,\n",
       " 0.0,\n",
       " 0.0,\n",
       " 0.0,\n",
       " 0.0,\n",
       " 0.0,\n",
       " 0.0,\n",
       " 0.0,\n",
       " 0.0,\n",
       " 0.0,\n",
       " 0.0,\n",
       " 0.0,\n",
       " 0.0,\n",
       " 0.0,\n",
       " 0.0,\n",
       " 0.0,\n",
       " 0.0,\n",
       " 0.0,\n",
       " 0.0,\n",
       " 0.0,\n",
       " 0.0,\n",
       " 0.0,\n",
       " 0.0,\n",
       " 0.0,\n",
       " 0.0,\n",
       " 0.0,\n",
       " 0.0,\n",
       " 0.0,\n",
       " 0.0,\n",
       " 0.0,\n",
       " 0.0,\n",
       " 0.0,\n",
       " 0.0,\n",
       " 0.0,\n",
       " 0.0,\n",
       " 0.0,\n",
       " 0.0,\n",
       " 0.0,\n",
       " 0.0,\n",
       " 0.0,\n",
       " 0.0,\n",
       " 0.0,\n",
       " 0.0,\n",
       " 0.0,\n",
       " 0.0,\n",
       " 0.0,\n",
       " 0.0,\n",
       " 0.0,\n",
       " 0.0,\n",
       " 0.0,\n",
       " 0.0,\n",
       " 0.0,\n",
       " 0.0,\n",
       " 0.0,\n",
       " 0.0,\n",
       " 0.0,\n",
       " 0.0,\n",
       " 0.0,\n",
       " 0.0,\n",
       " 0.0,\n",
       " 0.0,\n",
       " 0.0,\n",
       " 0.0,\n",
       " 0.0,\n",
       " 0.0,\n",
       " 0.0,\n",
       " 0.0,\n",
       " 0.0,\n",
       " 0.0,\n",
       " 0.0,\n",
       " 0.0,\n",
       " 0.0,\n",
       " 0.0,\n",
       " 0.0,\n",
       " 0.0,\n",
       " 0.0,\n",
       " 0.0,\n",
       " 0.0,\n",
       " 0.0,\n",
       " 0.0,\n",
       " 0.0,\n",
       " 0.0,\n",
       " 0.0,\n",
       " 0.0,\n",
       " 0.0,\n",
       " 0.0,\n",
       " 0.0,\n",
       " 0.0,\n",
       " 0.0,\n",
       " 0.0,\n",
       " 0.0,\n",
       " 0.0,\n",
       " 0.0,\n",
       " 0.0,\n",
       " 0.0,\n",
       " 0.0,\n",
       " 0.0,\n",
       " 0.0,\n",
       " 0.0,\n",
       " 0.0,\n",
       " 0.0,\n",
       " 0.0,\n",
       " 0.0,\n",
       " 0.0,\n",
       " 0.0,\n",
       " 0.0,\n",
       " 0.0,\n",
       " 0.0,\n",
       " 0.0,\n",
       " 0.0,\n",
       " 0.0,\n",
       " 0.0,\n",
       " 0.0,\n",
       " 0.0,\n",
       " 0.0,\n",
       " 0.0,\n",
       " 0.0,\n",
       " 0.0,\n",
       " 0.0,\n",
       " 0.0,\n",
       " 0.0,\n",
       " 0.0,\n",
       " 0.0,\n",
       " 0.0,\n",
       " 0.0,\n",
       " 0.0,\n",
       " 0.0,\n",
       " 0.0,\n",
       " 0.0,\n",
       " 0.0,\n",
       " 0.0,\n",
       " 0.0,\n",
       " 0.0,\n",
       " 0.0,\n",
       " 0.0,\n",
       " 0.0,\n",
       " 0.0,\n",
       " 0.0,\n",
       " 0.0,\n",
       " 0.0,\n",
       " 0.0,\n",
       " 0.0,\n",
       " 0.0,\n",
       " 0.0,\n",
       " 0.0,\n",
       " 0.0,\n",
       " 0.0,\n",
       " 0.0,\n",
       " 0.0,\n",
       " 0.0,\n",
       " 0.0,\n",
       " 0.0,\n",
       " 0.0,\n",
       " 0.0,\n",
       " 0.0,\n",
       " 0.0,\n",
       " 0.0,\n",
       " 0.0,\n",
       " 0.0,\n",
       " 0.0,\n",
       " 0.0,\n",
       " 0.0,\n",
       " 0.0,\n",
       " 0.0,\n",
       " 0.0,\n",
       " 0.0,\n",
       " 0.0,\n",
       " 0.0,\n",
       " 0.0,\n",
       " 0.0,\n",
       " 0.0,\n",
       " 0.0,\n",
       " 0.0,\n",
       " 0.0,\n",
       " 0.0,\n",
       " 0.0,\n",
       " 0.0,\n",
       " 0.0,\n",
       " 0.0,\n",
       " 0.0,\n",
       " 0.0,\n",
       " 0.0,\n",
       " 0.0,\n",
       " 0.0,\n",
       " 0.0,\n",
       " 0.0,\n",
       " 0.0,\n",
       " 0.0,\n",
       " 0.0,\n",
       " 0.0,\n",
       " 0.0,\n",
       " 0.0,\n",
       " 0.0,\n",
       " 0.0,\n",
       " 0.0,\n",
       " 0.0,\n",
       " 0.0,\n",
       " 0.0,\n",
       " 0.0,\n",
       " 0.0,\n",
       " 0.0,\n",
       " 0.0,\n",
       " 0.0,\n",
       " 0.0,\n",
       " 0.0,\n",
       " 0.0,\n",
       " 0.0,\n",
       " 0.0,\n",
       " 0.0,\n",
       " 0.0,\n",
       " 0.0,\n",
       " 0.0,\n",
       " 0.0,\n",
       " 0.0,\n",
       " 0.0,\n",
       " 0.0,\n",
       " 0.0,\n",
       " 0.0,\n",
       " 0.0,\n",
       " 0.0,\n",
       " 0.0,\n",
       " 0.0,\n",
       " 0.0,\n",
       " 0.0,\n",
       " 0.0,\n",
       " 0.0,\n",
       " 0.0,\n",
       " 0.0,\n",
       " 0.0,\n",
       " 0.0,\n",
       " 0.0,\n",
       " 0.0,\n",
       " 0.0,\n",
       " 0.0,\n",
       " 0.0,\n",
       " 0.0,\n",
       " 0.0,\n",
       " 0.0,\n",
       " 0.0,\n",
       " 0.0,\n",
       " 0.0,\n",
       " 0.0,\n",
       " 0.0,\n",
       " 0.0,\n",
       " 0.0,\n",
       " 0.0,\n",
       " 0.0,\n",
       " 0.0,\n",
       " 0.0,\n",
       " 0.0,\n",
       " 0.0,\n",
       " 0.0,\n",
       " 0.0,\n",
       " 0.0,\n",
       " 0.0,\n",
       " 0.0,\n",
       " 0.0,\n",
       " 0.0,\n",
       " 0.0,\n",
       " 0.0,\n",
       " 0.0,\n",
       " 0.0,\n",
       " 0.0,\n",
       " 0.0,\n",
       " 0.0,\n",
       " 0.0,\n",
       " 0.0,\n",
       " 0.0,\n",
       " 0.0,\n",
       " 0.0,\n",
       " 0.0,\n",
       " 0.0,\n",
       " 0.0,\n",
       " 0.0,\n",
       " 0.0,\n",
       " 0.0,\n",
       " 0.0,\n",
       " 0.0,\n",
       " 0.0,\n",
       " 0.0,\n",
       " 0.0,\n",
       " 0.0,\n",
       " 0.0,\n",
       " 0.0,\n",
       " 0.0,\n",
       " 0.0,\n",
       " 0.0,\n",
       " 0.0,\n",
       " 0.0,\n",
       " 0.0,\n",
       " 0.0,\n",
       " 0.0,\n",
       " 0.0,\n",
       " 0.0,\n",
       " 0.0,\n",
       " 0.0,\n",
       " 0.0,\n",
       " 0.0,\n",
       " 0.0,\n",
       " 0.0,\n",
       " 0.0,\n",
       " 0.0,\n",
       " 0.0,\n",
       " 0.0,\n",
       " 0.0,\n",
       " 0.0,\n",
       " 0.0,\n",
       " 0.0,\n",
       " 0.0,\n",
       " 0.0,\n",
       " 0.0,\n",
       " 0.0,\n",
       " 0.0,\n",
       " 0.0,\n",
       " 0.0,\n",
       " 0.0,\n",
       " 0.0,\n",
       " 0.0,\n",
       " 0.0,\n",
       " 0.0,\n",
       " 0.0,\n",
       " 0.0,\n",
       " 0.0,\n",
       " 0.0,\n",
       " 0.0,\n",
       " 0.0,\n",
       " 0.0,\n",
       " 0.0,\n",
       " 0.0,\n",
       " 0.0,\n",
       " 0.0,\n",
       " 0.0,\n",
       " 0.0,\n",
       " 0.0,\n",
       " 0.0,\n",
       " 0.0,\n",
       " 0.0,\n",
       " 0.0,\n",
       " 0.0,\n",
       " 0.0,\n",
       " 0.0,\n",
       " 0.0,\n",
       " 0.0,\n",
       " 0.0,\n",
       " 0.0,\n",
       " 0.0,\n",
       " 0.0,\n",
       " 0.0,\n",
       " 0.0,\n",
       " 0.0,\n",
       " 0.0,\n",
       " 0.0,\n",
       " 0.0,\n",
       " 0.0,\n",
       " 0.0,\n",
       " 0.0,\n",
       " 0.0,\n",
       " 0.0,\n",
       " 0.0,\n",
       " 0.0,\n",
       " 0.0,\n",
       " 0.0,\n",
       " 0.0,\n",
       " 0.0,\n",
       " 0.0,\n",
       " 0.0,\n",
       " 0.0,\n",
       " 0.0,\n",
       " 0.0,\n",
       " 0.0,\n",
       " 0.0,\n",
       " 0.0,\n",
       " 0.0,\n",
       " 0.0,\n",
       " 0.0,\n",
       " 0.0,\n",
       " 0.0,\n",
       " 0.0,\n",
       " 0.0,\n",
       " 0.0,\n",
       " 0.0,\n",
       " 0.0,\n",
       " 0.0,\n",
       " 0.0,\n",
       " 0.0,\n",
       " 0.0,\n",
       " 0.0,\n",
       " 0.0,\n",
       " 0.0,\n",
       " 0.0,\n",
       " 0.0,\n",
       " 0.0,\n",
       " 0.0,\n",
       " 0.0,\n",
       " 0.0,\n",
       " 0.0,\n",
       " 0.0,\n",
       " 0.0,\n",
       " 0.0,\n",
       " 0.0,\n",
       " 0.0,\n",
       " 0.0,\n",
       " 0.0,\n",
       " 0.0,\n",
       " 0.0,\n",
       " 0.0,\n",
       " 0.0,\n",
       " 0.0,\n",
       " 0.0,\n",
       " 0.0,\n",
       " 0.0,\n",
       " 0.0,\n",
       " 0.0,\n",
       " 0.0,\n",
       " 0.0,\n",
       " 0.0,\n",
       " 0.0,\n",
       " 0.0,\n",
       " 0.0,\n",
       " 0.0,\n",
       " 0.0,\n",
       " 0.0,\n",
       " 0.0,\n",
       " 0.0,\n",
       " 0.0,\n",
       " 0.0,\n",
       " 0.0,\n",
       " 0.0,\n",
       " 0.0,\n",
       " 0.0,\n",
       " 0.0,\n",
       " 0.0,\n",
       " 0.0,\n",
       " 0.0,\n",
       " 0.0,\n",
       " 0.0,\n",
       " 0.0,\n",
       " 0.0,\n",
       " 0.0,\n",
       " 0.0,\n",
       " 0.0,\n",
       " 0.0,\n",
       " 0.0,\n",
       " 0.0,\n",
       " 0.0,\n",
       " 0.0,\n",
       " 0.0,\n",
       " 0.0,\n",
       " 0.0,\n",
       " 0.0,\n",
       " 0.0,\n",
       " 0.0,\n",
       " 0.0,\n",
       " 0.0,\n",
       " 0.0,\n",
       " 0.0,\n",
       " 0.0,\n",
       " 0.0,\n",
       " 0.0,\n",
       " 0.0,\n",
       " 0.0,\n",
       " 0.0,\n",
       " 0.0,\n",
       " 0.0,\n",
       " 0.0,\n",
       " 0.0,\n",
       " 0.0,\n",
       " 0.0,\n",
       " 0.0,\n",
       " 0.0,\n",
       " 0.0,\n",
       " 0.0,\n",
       " 0.0,\n",
       " 0.0,\n",
       " 0.0,\n",
       " 0.0,\n",
       " 0.0,\n",
       " 0.0,\n",
       " 0.0,\n",
       " 0.0,\n",
       " 0.0,\n",
       " 0.0,\n",
       " 0.0,\n",
       " 0.0,\n",
       " 0.0,\n",
       " 0.0,\n",
       " 0.0,\n",
       " 0.0,\n",
       " 0.0,\n",
       " 0.0,\n",
       " 0.0,\n",
       " 0.0,\n",
       " 0.0,\n",
       " 0.0,\n",
       " 0.0,\n",
       " 0.0,\n",
       " 0.0,\n",
       " 0.0,\n",
       " 0.0,\n",
       " 0.0,\n",
       " 0.0,\n",
       " 0.0,\n",
       " 0.0,\n",
       " 0.0,\n",
       " 0.0,\n",
       " 0.0,\n",
       " 0.0,\n",
       " 0.0,\n",
       " 0.0,\n",
       " 0.0,\n",
       " 0.0,\n",
       " 0.0,\n",
       " 0.0,\n",
       " 0.0,\n",
       " 0.0,\n",
       " 0.0,\n",
       " 0.0,\n",
       " 0.0,\n",
       " 0.0,\n",
       " 0.0,\n",
       " 0.0,\n",
       " 0.0,\n",
       " 0.0,\n",
       " 0.0,\n",
       " 0.0,\n",
       " 0.0,\n",
       " 0.0,\n",
       " 0.0,\n",
       " 0.0,\n",
       " 0.0,\n",
       " 0.0,\n",
       " 0.0,\n",
       " 0.0,\n",
       " 0.0,\n",
       " 0.0,\n",
       " 0.0,\n",
       " 0.0,\n",
       " 0.0,\n",
       " 0.0,\n",
       " 0.0,\n",
       " 0.0,\n",
       " 0.0,\n",
       " 0.0,\n",
       " 0.0,\n",
       " 0.0,\n",
       " 0.0,\n",
       " 0.0,\n",
       " 0.0,\n",
       " 0.0,\n",
       " 0.0,\n",
       " 0.0,\n",
       " 0.0,\n",
       " 0.0,\n",
       " 0.0,\n",
       " 0.0,\n",
       " 0.0,\n",
       " 0.0,\n",
       " 0.0,\n",
       " 0.0,\n",
       " 0.0,\n",
       " 0.0,\n",
       " 0.0,\n",
       " 0.0,\n",
       " 0.0,\n",
       " 0.0,\n",
       " 0.0,\n",
       " 0.0,\n",
       " 0.0,\n",
       " 0.0,\n",
       " 0.0,\n",
       " 0.0,\n",
       " 0.0,\n",
       " 0.0,\n",
       " 0.0,\n",
       " 0.0,\n",
       " 0.0,\n",
       " 0.0,\n",
       " 0.0,\n",
       " 0.0,\n",
       " 0.0,\n",
       " 0.0,\n",
       " 0.0,\n",
       " 0.0,\n",
       " 0.0,\n",
       " 0.0,\n",
       " 0.0,\n",
       " 0.0,\n",
       " 0.0,\n",
       " 0.0,\n",
       " 0.0,\n",
       " 0.0,\n",
       " 0.0]"
      ]
     },
     "execution_count": 113,
     "metadata": {},
     "output_type": "execute_result"
    }
   ],
   "source": [
    "convergence=model.report\n",
    "convergence"
   ]
  },
  {
   "cell_type": "code",
   "execution_count": null,
   "id": "0ec1a00a",
   "metadata": {},
   "outputs": [],
   "source": [
    "solution = model.output_dict\n",
    "solution"
   ]
  },
  {
   "cell_type": "markdown",
   "id": "09cab90d",
   "metadata": {},
   "source": [
    "Please note that it found any array with three 1 and one 0. This is caused by the error function being too loose.\n",
    "In the dict\n",
    "- variable contains the optimized output\n",
    "- function is the residual error after the model ran"
   ]
  },
  {
   "cell_type": "code",
   "execution_count": null,
   "id": "430e4619",
   "metadata": {},
   "outputs": [],
   "source": [
    "board2x2.fill_all(solution['variable'].tolist())\n",
    "game2x2.show_board()"
   ]
  },
  {
   "cell_type": "markdown",
   "id": "0cbeb514",
   "metadata": {},
   "source": [
    "Test 5x5"
   ]
  },
  {
   "cell_type": "code",
   "execution_count": 87,
   "id": "445bc6d6",
   "metadata": {},
   "outputs": [],
   "source": [
    "# create the game engine\n",
    "puzzle5x5s = Puzzle(clues5x5s)\n",
    "game5x5s = GameEngine(puzzle5x5s, solution5x5s)\n",
    "board5x5s = game5x5s.board"
   ]
  },
  {
   "cell_type": "code",
   "execution_count": 112,
   "id": "2f9a754f",
   "metadata": {},
   "outputs": [
    {
     "name": "stdout",
     "output_type": "stream",
     "text": [
      " The best solution found:                                                                           \n",
      " [0. 0. 1. 0. 0. 0. 1. 1. 1. 0. 0. 1. 0. 1. 0. 0. 1. 1. 1. 0. 1. 1. 1. 1.\n",
      " 1.]\n",
      "\n",
      " Objective function:\n",
      " 0.0\n"
     ]
    },
    {
     "data": {
      "image/png": "[encoded data removed]",
      "text/plain": [
       "<Figure size 432x288 with 1 Axes>"
      ]
     },
     "metadata": {
      "needs_background": "light"
     },
     "output_type": "display_data"
    }
   ],
   "source": [
    "import numpy as np\n",
    "from geneticalgorithm import geneticalgorithm as ga\n",
    "\n",
    "def f(X):\n",
    "    # assume we know a solution to avoid ilplementing the sums\n",
    "    # minimizing the error\n",
    "    game5x5s.is_expected_solution(X.tolist())\n",
    "    return game5x5s.errors\n",
    "\n",
    "varbound=np.array([[0,1]]*puzzle5x5s.cells_count)\n",
    "\n",
    "model=ga(function=f, \n",
    "         dimension=puzzle5x5s.cells_count, \n",
    "         variable_type='int',\n",
    "         variable_boundaries=varbound)\n",
    "\n",
    "model.run()"
   ]
  },
  {
   "cell_type": "code",
   "execution_count": 90,
   "id": "0a2dfa15",
   "metadata": {},
   "outputs": [
    {
     "data": {
      "image/png": "[encoded data removed]",
      "text/plain": [
       "<Figure size 144x144 with 1 Axes>"
      ]
     },
     "metadata": {
      "needs_background": "light"
     },
     "output_type": "display_data"
    }
   ],
   "source": [
    "solution = model.output_dict\n",
    "board5x5s.fill_all(solution['variable'].tolist())\n",
    "game5x5s.show_board()"
   ]
  },
  {
   "cell_type": "markdown",
   "id": "b448cac6",
   "metadata": {},
   "source": [
    "## 8.3. Wrap up"
   ]
  },
  {
   "cell_type": "markdown",
   "id": "3e2251f6",
   "metadata": {},
   "source": [
    "What works:\n",
    "- it is simple to design and implement\n",
    "- pretty easy to use\n",
    "- it works on a numpy which will make it easy to compute rules\n",
    "\n",
    "Limitation:\n",
    "- May be overkill for this simple problem\n"
   ]
  },
  {
   "cell_type": "markdown",
   "id": "f18c1b15",
   "metadata": {},
   "source": [
    "This prrof of concept is \n",
    "\n",
    "Computations in the error function may use reshape and np.sum to cimpute sums on X. And then compare each sums to each clue in order to compute the abs error sum element by element. "
   ]
  },
  {
   "cell_type": "code",
   "execution_count": null,
   "id": "5a0fc47b",
   "metadata": {},
   "outputs": [],
   "source": [
    "states = np.array([1, 0, 1, 1]).reshape(2,2)\n",
    "states"
   ]
  },
  {
   "cell_type": "code",
   "execution_count": null,
   "id": "fd0cf348",
   "metadata": {},
   "outputs": [],
   "source": [
    "states.sum(axis=0) # O col"
   ]
  },
  {
   "cell_type": "code",
   "execution_count": null,
   "id": "ae08cebd",
   "metadata": {},
   "outputs": [],
   "source": [
    "states.sum(axis=1) # 1 col"
   ]
  },
  {
   "cell_type": "markdown",
   "id": "19aa1b90",
   "metadata": {},
   "source": [
    "- Ideation: 10mn\n",
    "- Design: 10mn - feature out that X is a numpty arry\n",
    "- Implementation: 20mn  - error function (but only sum up, not real rules, estimated to 1h)"
   ]
  },
  {
   "cell_type": "markdown",
   "id": "70d384a2",
   "metadata": {},
   "source": [
    "# 9. Machine Learning\n",
    "\n",
    "TODO"
   ]
  },
  {
   "cell_type": "markdown",
   "id": "4a28b930",
   "metadata": {},
   "source": [
    "# 10. Wrap up\n",
    "\n",
    "This quick exploration of ways of solving this problem show that we need some additional components :\n",
    "- a game engine which provides the try-and-error validation and the board validation \n",
    "- some operation thate were identified in episode 01: is the board completed, is the board valid\n",
    "- a puzzle class with some operations to transform the clues and compute black count and cels count\n",
    "- try-and-error and learning process will require something in between not done and done in order to improve on rewards:   number of cells completed/undefined, number of errors, number of valid celss\n"
   ]
  },
  {
   "cell_type": "code",
   "execution_count": null,
   "id": "5a75e4df",
   "metadata": {},
   "outputs": [],
   "source": [
    "TODO\n",
    "multi plotter\n",
    "error managemennt \n",
    "check episode 06 list"
   ]
  }
 ],
 "metadata": {
  "kernelspec": {
   "display_name": "Python 3 (ipykernel)",
   "language": "python",
   "name": "python3"
  },
  "language_info": {
   "codemirror_mode": {
    "name": "ipython",
    "version": 3
   },
   "file_extension": ".py",
   "mimetype": "text/x-python",
   "name": "python",
   "nbconvert_exporter": "python",
   "pygments_lexer": "ipython3",
   "version": "3.9.7"
  }
 },
 "nbformat": 4,
 "nbformat_minor": 5
}
