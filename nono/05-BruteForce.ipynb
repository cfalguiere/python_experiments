{
 "cells": [
  {
   "cell_type": "markdown",
   "metadata": {},
   "source": [
    "# Brute Force\n",
    "\n",
    "straightforward idea: generate all combinations and keep yhe one holding the clues\n"
   ]
  },
  {
   "cell_type": "markdown",
   "metadata": {},
   "source": [
    "- Ideation: 10mn\n",
    "- Design: 30mn - find how to compue combinations\n",
    "- Implementation: 1h"
   ]
  },
  {
   "cell_type": "code",
   "execution_count": 4,
   "metadata": {},
   "outputs": [],
   "source": [
    "%matplotlib inline"
   ]
  },
  {
   "cell_type": "code",
   "execution_count": 5,
   "metadata": {},
   "outputs": [],
   "source": [
    "from boardutilsv2 import Board, BoardMark\n",
    "from plotterutilsv2 import BoardPlotter"
   ]
  },
  {
   "cell_type": "code",
   "execution_count": 16,
   "metadata": {},
   "outputs": [
    {
     "data": {
      "image/png": "[encoded data removed]",
      "text/plain": [
       "<Figure size 72x72 with 1 Axes>"
      ]
     },
     "metadata": {
      "needs_background": "light"
     },
     "output_type": "display_data"
    }
   ],
   "source": [
    "# clues for mini game\n",
    "clues = {\n",
    "    'rows': [1, 2],\n",
    "    'cols': [2, 1]\n",
    "}\n",
    "board = Board(clues)\n",
    "plotter = BoardPlotter(board)\n",
    "board.mark(0, 0, BoardMark.BLACK) \n",
    "board.mark(0, 1, BoardMark.FILLER) \n",
    "board.mark(1, 0, BoardMark.BLACK) \n",
    "board.mark(1, 1, BoardMark.BLACK) \n",
    "plotter.show()\n",
    "assert board.is_done()"
   ]
  },
  {
   "cell_type": "markdown",
   "metadata": {},
   "source": [
    "Compute all possible boards"
   ]
  },
  {
   "cell_type": "code",
   "execution_count": 7,
   "metadata": {},
   "outputs": [
    {
     "name": "stdout",
     "output_type": "stream",
     "text": [
      "combinations [(0, 0, 0, 0), (0, 0, 0, 1), (0, 0, 1, 1), (0, 1, 1, 1), (1, 1, 1, 1)]\n"
     ]
    }
   ],
   "source": [
    "# all combinations of 0 and 1 over 4 cells\n",
    "\n",
    "from itertools import combinations_with_replacement\n",
    "\n",
    "# combinations of 4 elements amongst 0,1 (range 3)\n",
    "combinations_iterator = combinations_with_replacement(range(2), 4)\n",
    "combinations_list = list(combinations_iterator)\n",
    "print(f\"combinations {combinations_list}\")\n"
   ]
  },
  {
   "cell_type": "code",
   "execution_count": 8,
   "metadata": {},
   "outputs": [
    {
     "name": "stdout",
     "output_type": "stream",
     "text": [
      "cols: 2 1\n",
      "rows:\n",
      "1\n",
      "2\n",
      "[['x' 'x']\n",
      " ['x' 'x']]\n",
      "cols: 2 1\n",
      "rows:\n",
      "1\n",
      "2\n",
      "[['x' 'x']\n",
      " ['x' 'o']]\n",
      "cols: 2 1\n",
      "rows:\n",
      "1\n",
      "2\n",
      "[['x' 'x']\n",
      " ['o' 'o']]\n",
      "cols: 2 1\n",
      "rows:\n",
      "1\n",
      "2\n",
      "[['x' 'o']\n",
      " ['o' 'o']]\n",
      "cols: 2 1\n",
      "rows:\n",
      "1\n",
      "2\n",
      "[['o' 'o']\n",
      " ['o' 'o']]\n"
     ]
    },
    {
     "data": {
      "text/plain": [
       "[]"
      ]
     },
     "execution_count": 8,
     "metadata": {},
     "output_type": "execute_result"
    }
   ],
   "source": [
    "# now check which one is valid\n",
    "\n",
    "def filter_valid(s):\n",
    "    board = Board(clues)\n",
    "    board.states.flat[:] = s\n",
    "    board.prettyprint()\n",
    "    return board.is_done()\n",
    "  \n",
    "[s for s in combinations_list if filter_valid(s)]\n",
    "    "
   ]
  },
  {
   "cell_type": "markdown",
   "metadata": {},
   "source": [
    "it is missing some. We need also permutations "
   ]
  },
  {
   "cell_type": "code",
   "execution_count": 9,
   "metadata": {},
   "outputs": [
    {
     "name": "stdout",
     "output_type": "stream",
     "text": [
      "options with permutations [(0, 0, 0, 0), (0, 0, 0, 1), (1, 0, 0, 0), (0, 1, 0, 0), (0, 0, 1, 0), (1, 0, 1, 0), (1, 1, 0, 0), (1, 0, 0, 1), (0, 1, 1, 0), (0, 1, 0, 1), (0, 0, 1, 1), (1, 0, 1, 1), (0, 1, 1, 1), (1, 1, 1, 0), (1, 1, 0, 1), (1, 1, 1, 1)]\n"
     ]
    }
   ],
   "source": [
    "from itertools import permutations, chain\n",
    "# combination with permutations\n",
    "# of 4 elements amongst 0,1 (range 3)\n",
    "# set remove duplicates \n",
    "permutations_iterator = [ [p for p in \n",
    "                            set(permutations(c))]\n",
    "                          for c in combinations_list\n",
    "                        ]\n",
    "# chain flatten all elements in a single list \n",
    "# (instead of a list of permutations for each combination)\n",
    "options_list = list(chain.from_iterable(permutations_iterator))\n",
    "print(f\"options with permutations {options_list}\")\n"
   ]
  },
  {
   "cell_type": "markdown",
   "metadata": {},
   "source": [
    "We do not need all these as we know the cells must add up to 3"
   ]
  },
  {
   "cell_type": "code",
   "execution_count": 12,
   "metadata": {},
   "outputs": [
    {
     "name": "stdout",
     "output_type": "stream",
     "text": [
      "total_blacks=3\n",
      "options with permutations [(1, 0, 1, 1), (0, 1, 1, 1), (1, 1, 1, 0), (1, 1, 0, 1)]\n"
     ]
    }
   ],
   "source": [
    "from itertools import permutations, chain\n",
    "\n",
    "# clues total give the number of blacks\n",
    "# total for rows or cols is the same\n",
    "total_blacks = sum(clues['rows'])\n",
    "print(f\"total_blacks={total_blacks}\")\n",
    "\n",
    "# combination with permutations\n",
    "# of 4 elements amongst 0,1 (range 3)\n",
    "# set remove duplicates \n",
    "# keep only combinations where the total number hold the clues\n",
    "permutations_iterator = [ [p for p in \n",
    "                            set(permutations(c))]\n",
    "                          for c in combinations_list\n",
    "                             if sum(c) == total_blacks\n",
    "                        ]\n",
    "# chain flatten all elements in a single list \n",
    "# (instead of a list of permutations for each combination)\n",
    "options_list = list(chain.from_iterable(permutations_iterator))\n",
    "print(f\"options with permutations {options_list}\")\n"
   ]
  },
  {
   "cell_type": "code",
   "execution_count": 13,
   "metadata": {},
   "outputs": [],
   "source": [
    "# now check which one is valid\n",
    "\n",
    "def filter_valid(s):\n",
    "    board = Board(clues)\n",
    "    board.states.flat[:] = s\n",
    "    #board.prettyprint()\n",
    "    return board.is_done()\n",
    "  \n",
    "solution = [s for s in options_list if filter_valid(s)]"
   ]
  },
  {
   "cell_type": "code",
   "execution_count": 15,
   "metadata": {},
   "outputs": [
    {
     "data": {
      "image/png": "[encoded data removed]",
      "text/plain": [
       "<Figure size 72x72 with 1 Axes>"
      ]
     },
     "metadata": {
      "needs_background": "light"
     },
     "output_type": "display_data"
    }
   ],
   "source": [
    "board = Board(clues)\n",
    "plotter = BoardPlotter(board)\n",
    "board.states.flat[:] = solution\n",
    "plotter.show()\n",
    "assert board.is_done()"
   ]
  },
  {
   "cell_type": "markdown",
   "metadata": {},
   "source": [
    "## class implementation"
   ]
  },
  {
   "cell_type": "code",
   "execution_count": 17,
   "metadata": {},
   "outputs": [
    {
     "name": "stderr",
     "output_type": "stream",
     "text": [
      "ERROR:root:Invalid alias: The name clear can't be aliased because it is another magic command.\n",
      "ERROR:root:Invalid alias: The name more can't be aliased because it is another magic command.\n",
      "ERROR:root:Invalid alias: The name less can't be aliased because it is another magic command.\n",
      "ERROR:root:Invalid alias: The name man can't be aliased because it is another magic command.\n"
     ]
    }
   ],
   "source": [
    "%reset -f"
   ]
  },
  {
   "cell_type": "code",
   "execution_count": 43,
   "metadata": {},
   "outputs": [],
   "source": [
    "from boardutilsv2 import Board, BoardMark\n",
    "from plotterutilsv2 import BoardPlotter\n",
    "\n",
    "from itertools import permutations, chain\n",
    "from itertools import combinations_with_replacement\n",
    "\n",
    "class SolverBruteForce:\n",
    "    \n",
    "    def solve(self, clues, verbose=False):\n",
    "        # clues total give the number of blacks\n",
    "        # total for rows or cols is the same\n",
    "        # TODO class clues and factor out function in Board\n",
    "        f_norm_clue = lambda clue: clue if isinstance(clue, list) else [clue]\n",
    "        norm_clues = {\n",
    "            'rows': [f_norm_clue(clue) for clue in clues['rows']],\n",
    "            'cols': [f_norm_clue(clue) for clue in clues['cols']]\n",
    "        }\n",
    "        total_blacks = sum(chain.from_iterable(norm_clues['rows']))    \n",
    "        if verbose:\n",
    "            print(f\"total_blacks={total_blacks}\")\n",
    "        \n",
    "        total_cells = len(clues['rows']) * len(clues['cols'])\n",
    "\n",
    "        # combinations of nb cells elements amongst 0,1 (range 3)\n",
    "        combinations_iterator = combinations_with_replacement(range(2), total_cells)\n",
    "        combinations_list = list(combinations_iterator)\n",
    "        if verbose:\n",
    "            print(f\"combinations {combinations_list}\")\n",
    "\n",
    "        # combination with permutations\n",
    "        # of 4 elements amongst 0,1 (range 3)\n",
    "        # set remove duplicates \n",
    "        # keep only combinations where the total number hold the clues\n",
    "        permutations_iterator = [ [p for p in \n",
    "                                    set(permutations(c))]\n",
    "                                  for c in combinations_list\n",
    "                                     if sum(c) == total_blacks\n",
    "                                ]\n",
    "        # chain flatten all elements in a single list \n",
    "        # (instead of a list of permutations for each combination)\n",
    "        options_list = list(chain.from_iterable(permutations_iterator))\n",
    "        if verbose:\n",
    "            print(f\"options with permutations {options_list}\")\n",
    "\n",
    "        def filter_valid(s):\n",
    "            possible_board = Board(clues)\n",
    "            possible_board.states.flat[:] = s\n",
    "            if verbose:\n",
    "                possible_board.prettyprint()\n",
    "            return possible_board.is_done()\n",
    "\n",
    "        solution = [s for s in options_list if filter_valid(s)]\n",
    "        \n",
    "        board = Board(clues)\n",
    "        board.states.flat[:] = solution\n",
    "        \n",
    "        return board"
   ]
  },
  {
   "cell_type": "markdown",
   "metadata": {},
   "source": [
    "## tests"
   ]
  },
  {
   "cell_type": "markdown",
   "metadata": {},
   "source": [
    "### minimal"
   ]
  },
  {
   "cell_type": "code",
   "execution_count": 44,
   "metadata": {},
   "outputs": [
    {
     "name": "stdout",
     "output_type": "stream",
     "text": [
      "CPU times: user 2 µs, sys: 1e+03 ns, total: 3 µs\n",
      "Wall time: 5.01 µs\n"
     ]
    },
    {
     "data": {
      "image/png": "[encoded data removed]",
      "text/plain": [
       "<Figure size 72x72 with 1 Axes>"
      ]
     },
     "metadata": {
      "needs_background": "light"
     },
     "output_type": "display_data"
    }
   ],
   "source": [
    "%time\n",
    "clues2x2 = {\n",
    "    'rows': [1, 2],\n",
    "    'cols': [2, 1]\n",
    "}\n",
    "board1_solved = SolverBruteForce().solve(clues2x2)\n",
    "plotter1 = BoardPlotter(board1_solved)\n",
    "plotter1.show()\n",
    "assert board1_solved.is_done()"
   ]
  },
  {
   "cell_type": "markdown",
   "metadata": {},
   "source": [
    "### non square"
   ]
  },
  {
   "cell_type": "code",
   "execution_count": 45,
   "metadata": {},
   "outputs": [
    {
     "name": "stdout",
     "output_type": "stream",
     "text": [
      "CPU times: user 1e+03 ns, sys: 0 ns, total: 1e+03 ns\n",
      "Wall time: 4.05 µs\n",
      "total_blacks=6\n",
      "combinations [(0, 0, 0, 0, 0, 0, 0, 0), (0, 0, 0, 0, 0, 0, 0, 1), (0, 0, 0, 0, 0, 0, 1, 1), (0, 0, 0, 0, 0, 1, 1, 1), (0, 0, 0, 0, 1, 1, 1, 1), (0, 0, 0, 1, 1, 1, 1, 1), (0, 0, 1, 1, 1, 1, 1, 1), (0, 1, 1, 1, 1, 1, 1, 1), (1, 1, 1, 1, 1, 1, 1, 1)]\n",
      "options with permutations [(1, 1, 1, 0, 0, 1, 1, 1), (1, 0, 1, 1, 0, 1, 1, 1), (1, 1, 0, 1, 0, 1, 1, 1), (1, 1, 1, 0, 1, 0, 1, 1), (1, 0, 1, 1, 1, 0, 1, 1), (1, 1, 0, 1, 1, 0, 1, 1), (1, 1, 1, 0, 1, 1, 1, 0), (1, 1, 1, 1, 1, 1, 0, 0), (1, 0, 1, 1, 1, 1, 1, 0), (1, 1, 0, 1, 1, 1, 1, 0), (1, 0, 0, 1, 1, 1, 1, 1), (0, 1, 1, 1, 0, 1, 1, 1), (1, 1, 1, 0, 1, 1, 0, 1), (1, 0, 1, 0, 1, 1, 1, 1), (1, 0, 1, 1, 1, 1, 0, 1), (0, 1, 1, 1, 1, 0, 1, 1), (1, 1, 0, 0, 1, 1, 1, 1), (1, 1, 0, 1, 1, 1, 0, 1), (1, 1, 1, 1, 0, 0, 1, 1), (1, 1, 1, 1, 1, 0, 1, 0), (0, 1, 1, 1, 1, 1, 1, 0), (1, 1, 1, 1, 0, 1, 1, 0), (0, 1, 0, 1, 1, 1, 1, 1), (1, 1, 1, 1, 1, 0, 0, 1), (0, 0, 1, 1, 1, 1, 1, 1), (0, 1, 1, 0, 1, 1, 1, 1), (0, 1, 1, 1, 1, 1, 0, 1), (1, 1, 1, 1, 0, 1, 0, 1)]\n",
      "cols: 4 2\n",
      "rows:\n",
      "1\n",
      "2\n",
      "1\n",
      "2\n",
      "[['o' 'o']\n",
      " ['o' 'x']\n",
      " ['x' 'o']\n",
      " ['o' 'o']]\n",
      "cols: 4 2\n",
      "rows:\n",
      "1\n",
      "2\n",
      "1\n",
      "2\n",
      "[['o' 'x']\n",
      " ['o' 'o']\n",
      " ['x' 'o']\n",
      " ['o' 'o']]\n",
      "cols: 4 2\n",
      "rows:\n",
      "1\n",
      "2\n",
      "1\n",
      "2\n",
      "[['o' 'o']\n",
      " ['x' 'o']\n",
      " ['x' 'o']\n",
      " ['o' 'o']]\n",
      "cols: 4 2\n",
      "rows:\n",
      "1\n",
      "2\n",
      "1\n",
      "2\n",
      "[['o' 'o']\n",
      " ['o' 'x']\n",
      " ['o' 'x']\n",
      " ['o' 'o']]\n",
      "cols: 4 2\n",
      "rows:\n",
      "1\n",
      "2\n",
      "1\n",
      "2\n",
      "[['o' 'x']\n",
      " ['o' 'o']\n",
      " ['o' 'x']\n",
      " ['o' 'o']]\n",
      "cols: 4 2\n",
      "rows:\n",
      "1\n",
      "2\n",
      "1\n",
      "2\n",
      "[['o' 'o']\n",
      " ['x' 'o']\n",
      " ['o' 'x']\n",
      " ['o' 'o']]\n",
      "cols: 4 2\n",
      "rows:\n",
      "1\n",
      "2\n",
      "1\n",
      "2\n",
      "[['o' 'o']\n",
      " ['o' 'x']\n",
      " ['o' 'o']\n",
      " ['o' 'x']]\n",
      "cols: 4 2\n",
      "rows:\n",
      "1\n",
      "2\n",
      "1\n",
      "2\n",
      "[['o' 'o']\n",
      " ['o' 'o']\n",
      " ['o' 'o']\n",
      " ['x' 'x']]\n",
      "cols: 4 2\n",
      "rows:\n",
      "1\n",
      "2\n",
      "1\n",
      "2\n",
      "[['o' 'x']\n",
      " ['o' 'o']\n",
      " ['o' 'o']\n",
      " ['o' 'x']]\n",
      "cols: 4 2\n",
      "rows:\n",
      "1\n",
      "2\n",
      "1\n",
      "2\n",
      "[['o' 'o']\n",
      " ['x' 'o']\n",
      " ['o' 'o']\n",
      " ['o' 'x']]\n",
      "cols: 4 2\n",
      "rows:\n",
      "1\n",
      "2\n",
      "1\n",
      "2\n",
      "[['o' 'x']\n",
      " ['x' 'o']\n",
      " ['o' 'o']\n",
      " ['o' 'o']]\n",
      "cols: 4 2\n",
      "rows:\n",
      "1\n",
      "2\n",
      "1\n",
      "2\n",
      "[['x' 'o']\n",
      " ['o' 'o']\n",
      " ['x' 'o']\n",
      " ['o' 'o']]\n",
      "cols: 4 2\n",
      "rows:\n",
      "1\n",
      "2\n",
      "1\n",
      "2\n",
      "[['o' 'o']\n",
      " ['o' 'x']\n",
      " ['o' 'o']\n",
      " ['x' 'o']]\n",
      "cols: 4 2\n",
      "rows:\n",
      "1\n",
      "2\n",
      "1\n",
      "2\n",
      "[['o' 'x']\n",
      " ['o' 'x']\n",
      " ['o' 'o']\n",
      " ['o' 'o']]\n",
      "cols: 4 2\n",
      "rows:\n",
      "1\n",
      "2\n",
      "1\n",
      "2\n",
      "[['o' 'x']\n",
      " ['o' 'o']\n",
      " ['o' 'o']\n",
      " ['x' 'o']]\n",
      "cols: 4 2\n",
      "rows:\n",
      "1\n",
      "2\n",
      "1\n",
      "2\n",
      "[['x' 'o']\n",
      " ['o' 'o']\n",
      " ['o' 'x']\n",
      " ['o' 'o']]\n",
      "cols: 4 2\n",
      "rows:\n",
      "1\n",
      "2\n",
      "1\n",
      "2\n",
      "[['o' 'o']\n",
      " ['x' 'x']\n",
      " ['o' 'o']\n",
      " ['o' 'o']]\n",
      "cols: 4 2\n",
      "rows:\n",
      "1\n",
      "2\n",
      "1\n",
      "2\n",
      "[['o' 'o']\n",
      " ['x' 'o']\n",
      " ['o' 'o']\n",
      " ['x' 'o']]\n",
      "cols: 4 2\n",
      "rows:\n",
      "1\n",
      "2\n",
      "1\n",
      "2\n",
      "[['o' 'o']\n",
      " ['o' 'o']\n",
      " ['x' 'x']\n",
      " ['o' 'o']]\n",
      "cols: 4 2\n",
      "rows:\n",
      "1\n",
      "2\n",
      "1\n",
      "2\n",
      "[['o' 'o']\n",
      " ['o' 'o']\n",
      " ['o' 'x']\n",
      " ['o' 'x']]\n",
      "cols: 4 2\n",
      "rows:\n",
      "1\n",
      "2\n",
      "1\n",
      "2\n",
      "[['x' 'o']\n",
      " ['o' 'o']\n",
      " ['o' 'o']\n",
      " ['o' 'x']]\n",
      "cols: 4 2\n",
      "rows:\n",
      "1\n",
      "2\n",
      "1\n",
      "2\n",
      "[['o' 'o']\n",
      " ['o' 'o']\n",
      " ['x' 'o']\n",
      " ['o' 'x']]\n",
      "cols: 4 2\n",
      "rows:\n",
      "1\n",
      "2\n",
      "1\n",
      "2\n",
      "[['x' 'o']\n",
      " ['x' 'o']\n",
      " ['o' 'o']\n",
      " ['o' 'o']]\n",
      "cols: 4 2\n",
      "rows:\n",
      "1\n",
      "2\n",
      "1\n",
      "2\n",
      "[['o' 'o']\n",
      " ['o' 'o']\n",
      " ['o' 'x']\n",
      " ['x' 'o']]\n",
      "cols: 4 2\n",
      "rows:\n",
      "1\n",
      "2\n",
      "1\n",
      "2\n",
      "[['x' 'x']\n",
      " ['o' 'o']\n",
      " ['o' 'o']\n",
      " ['o' 'o']]\n",
      "cols: 4 2\n",
      "rows:\n",
      "1\n",
      "2\n",
      "1\n",
      "2\n",
      "[['x' 'o']\n",
      " ['o' 'x']\n",
      " ['o' 'o']\n",
      " ['o' 'o']]\n",
      "cols: 4 2\n",
      "rows:\n",
      "1\n",
      "2\n",
      "1\n",
      "2\n",
      "[['x' 'o']\n",
      " ['o' 'o']\n",
      " ['o' 'o']\n",
      " ['x' 'o']]\n",
      "cols: 4 2\n",
      "rows:\n",
      "1\n",
      "2\n",
      "1\n",
      "2\n",
      "[['o' 'o']\n",
      " ['o' 'o']\n",
      " ['x' 'o']\n",
      " ['x' 'o']]\n"
     ]
    },
    {
     "data": {
      "image/png": "[encoded data removed]",
      "text/plain": [
       "<Figure size 72x144 with 1 Axes>"
      ]
     },
     "metadata": {
      "needs_background": "light"
     },
     "output_type": "display_data"
    },
    {
     "ename": "AssertionError",
     "evalue": "",
     "output_type": "error",
     "traceback": [
      "\u001b[0;31m---------------------------------------------------------------------------\u001b[0m",
      "\u001b[0;31mAssertionError\u001b[0m                            Traceback (most recent call last)",
      "\u001b[0;32m<ipython-input-45-141238ebc528>\u001b[0m in \u001b[0;36m<module>\u001b[0;34m\u001b[0m\n\u001b[1;32m      7\u001b[0m \u001b[0mplotter1\u001b[0m \u001b[0;34m=\u001b[0m \u001b[0mBoardPlotter\u001b[0m\u001b[0;34m(\u001b[0m\u001b[0mboard1_solved\u001b[0m\u001b[0;34m)\u001b[0m\u001b[0;34m\u001b[0m\u001b[0;34m\u001b[0m\u001b[0m\n\u001b[1;32m      8\u001b[0m \u001b[0mplotter1\u001b[0m\u001b[0;34m.\u001b[0m\u001b[0mshow\u001b[0m\u001b[0;34m(\u001b[0m\u001b[0;34m)\u001b[0m\u001b[0;34m\u001b[0m\u001b[0;34m\u001b[0m\u001b[0m\n\u001b[0;32m----> 9\u001b[0;31m \u001b[0;32massert\u001b[0m \u001b[0mboard1_solved\u001b[0m\u001b[0;34m.\u001b[0m\u001b[0mis_done\u001b[0m\u001b[0;34m(\u001b[0m\u001b[0;34m)\u001b[0m\u001b[0;34m\u001b[0m\u001b[0;34m\u001b[0m\u001b[0m\n\u001b[0m",
      "\u001b[0;31mAssertionError\u001b[0m: "
     ]
    }
   ],
   "source": [
    "%time\n",
    "clues4x2 = {\n",
    "    'rows': [1, 2, 1, 2],\n",
    "    'cols': [4, 2]\n",
    "}\n",
    "board1_solved = SolverBruteForce().solve(clues4x2, verbose=True)\n",
    "plotter1 = BoardPlotter(board1_solved)\n",
    "plotter1.show()\n",
    "assert board1_solved.is_done()"
   ]
  },
  {
   "cell_type": "markdown",
   "metadata": {},
   "source": [
    "### 5x5 with split"
   ]
  },
  {
   "cell_type": "code",
   "execution_count": null,
   "metadata": {},
   "outputs": [],
   "source": [
    "%time\n",
    "clues5x5split = {\n",
    "    'rows': [1, 3, [1,1], 3, 5],\n",
    "    'cols': [1, 4, [2,2], 4, 1]\n",
    "}\n",
    "\n",
    "board1_solved = SolverBruteForce().solve(clues5x5split, verbose=True)\n",
    "plotter1 = BoardPlotter(board1_solved)\n",
    "plotter1.show()\n",
    "assert board1_solved.is_done()"
   ]
  },
  {
   "cell_type": "markdown",
   "metadata": {},
   "source": [
    "# TODO factor out Clues"
   ]
  },
  {
   "cell_type": "markdown",
   "metadata": {},
   "source": [
    "# TODO pourquoi marche pas avec non square"
   ]
  },
  {
   "cell_type": "code",
   "execution_count": null,
   "metadata": {},
   "outputs": [],
   "source": []
  }
 ],
 "metadata": {
  "kernelspec": {
   "display_name": "Python 3",
   "language": "python",
   "name": "python3"
  },
  "language_info": {
   "codemirror_mode": {
    "name": "ipython",
    "version": 3
   },
   "file_extension": ".py",
   "mimetype": "text/x-python",
   "name": "python",
   "nbconvert_exporter": "python",
   "pygments_lexer": "ipython3",
   "version": "3.7.3"
  }
 },
 "nbformat": 4,
 "nbformat_minor": 2
}
