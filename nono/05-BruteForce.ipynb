{
 "cells": [
  {
   "cell_type": "markdown",
   "metadata": {},
   "source": [
    "# Brute Force\n",
    "\n",
    "straightforward idea: generate all combinations and keep yhe one holding the clues\n"
   ]
  },
  {
   "cell_type": "markdown",
   "metadata": {},
   "source": [
    "- Ideation: 10mn\n",
    "- Design: 30mn - find how to compute combinations\n",
    "- Implementation: 1h"
   ]
  },
  {
   "cell_type": "code",
   "execution_count": 1,
   "metadata": {},
   "outputs": [],
   "source": [
    "%matplotlib inline"
   ]
  },
  {
   "cell_type": "code",
   "execution_count": 2,
   "metadata": {},
   "outputs": [],
   "source": [
    "from boardutilsv2 import Puzzle, Board, BoardMark\n",
    "from plotterutilsv2 import BoardPlotter"
   ]
  },
  {
   "cell_type": "code",
   "execution_count": 3,
   "metadata": {},
   "outputs": [
    {
     "data": {
      "image/png": "[encoded data removed]",
      "text/plain": [
       "<Figure size 72x72 with 1 Axes>"
      ]
     },
     "metadata": {
      "needs_background": "light"
     },
     "output_type": "display_data"
    }
   ],
   "source": [
    "# clues for mini game\n",
    "clues = {\n",
    "    'rows': [1, 2],\n",
    "    'cols': [2, 1]\n",
    "}\n",
    "puzzle = Puzzle(clues)\n",
    "board = Board(puzzle)\n",
    "plotter = BoardPlotter(board)\n",
    "board.mark(0, 0, BoardMark.BLACK) \n",
    "board.mark(0, 1, BoardMark.FILLER) \n",
    "board.mark(1, 0, BoardMark.BLACK) \n",
    "board.mark(1, 1, BoardMark.BLACK) \n",
    "plotter.show()\n",
    "assert board.is_done()"
   ]
  },
  {
   "cell_type": "markdown",
   "metadata": {},
   "source": [
    "Compute all possible boards"
   ]
  },
  {
   "cell_type": "code",
   "execution_count": 4,
   "metadata": {},
   "outputs": [
    {
     "name": "stdout",
     "output_type": "stream",
     "text": [
      "combinations [(0, 0, 0, 0), (0, 0, 0, 1), (0, 0, 1, 1), (0, 1, 1, 1), (1, 1, 1, 1)]\n"
     ]
    }
   ],
   "source": [
    "# all combinations of 0 and 1 over 4 cells\n",
    "\n",
    "from itertools import combinations_with_replacement\n",
    "\n",
    "# combinations of 4 elements amongst 0,1 (range 3)\n",
    "combinations_iterator = combinations_with_replacement(range(2), 4)\n",
    "combinations_list = list(combinations_iterator)\n",
    "print(f\"combinations {combinations_list}\")\n"
   ]
  },
  {
   "cell_type": "code",
   "execution_count": 5,
   "metadata": {},
   "outputs": [
    {
     "name": "stdout",
     "output_type": "stream",
     "text": [
      "cols: 2 1\n",
      "rows:\n",
      "1\n",
      "2\n",
      "[['x' 'x']\n",
      " ['x' 'x']]\n",
      "cols: 2 1\n",
      "rows:\n",
      "1\n",
      "2\n",
      "[['x' 'x']\n",
      " ['x' 'o']]\n",
      "cols: 2 1\n",
      "rows:\n",
      "1\n",
      "2\n",
      "[['x' 'x']\n",
      " ['o' 'o']]\n",
      "cols: 2 1\n",
      "rows:\n",
      "1\n",
      "2\n",
      "[['x' 'o']\n",
      " ['o' 'o']]\n",
      "cols: 2 1\n",
      "rows:\n",
      "1\n",
      "2\n",
      "[['o' 'o']\n",
      " ['o' 'o']]\n"
     ]
    },
    {
     "data": {
      "text/plain": [
       "[]"
      ]
     },
     "execution_count": 5,
     "metadata": {},
     "output_type": "execute_result"
    }
   ],
   "source": [
    "# now check which one is valid\n",
    "\n",
    "def filter_valid(s):\n",
    "    board = Board(puzzle)\n",
    "    board.states.flat[:] = s\n",
    "    board.prettyprint()\n",
    "    return board.is_done()\n",
    "  \n",
    "[s for s in combinations_list if filter_valid(s)]\n",
    "    "
   ]
  },
  {
   "cell_type": "markdown",
   "metadata": {},
   "source": [
    "it is missing some. We need also permutations "
   ]
  },
  {
   "cell_type": "code",
   "execution_count": 6,
   "metadata": {},
   "outputs": [
    {
     "name": "stdout",
     "output_type": "stream",
     "text": [
      "options with permutations [(0, 0, 0, 0), (0, 0, 0, 1), (0, 1, 0, 0), (0, 0, 1, 0), (1, 0, 0, 0), (0, 1, 0, 1), (1, 1, 0, 0), (0, 1, 1, 0), (1, 0, 1, 0), (1, 0, 0, 1), (0, 0, 1, 1), (1, 1, 0, 1), (1, 1, 1, 0), (0, 1, 1, 1), (1, 0, 1, 1), (1, 1, 1, 1)]\n"
     ]
    }
   ],
   "source": [
    "from itertools import permutations, chain\n",
    "# combination with permutations\n",
    "# of 4 elements amongst 0,1 (range 3)\n",
    "# set remove duplicates \n",
    "permutations_iterator = [ [p for p in \n",
    "                            set(permutations(c))]\n",
    "                          for c in combinations_list\n",
    "                        ]\n",
    "# chain flatten all elements in a single list \n",
    "# (instead of a list of permutations for each combination)\n",
    "options_list = list(chain.from_iterable(permutations_iterator))\n",
    "print(f\"options with permutations {options_list}\")\n"
   ]
  },
  {
   "cell_type": "markdown",
   "metadata": {},
   "source": [
    "We do not need all these as we know the cells must add up to 3"
   ]
  },
  {
   "cell_type": "code",
   "execution_count": 7,
   "metadata": {},
   "outputs": [
    {
     "name": "stdout",
     "output_type": "stream",
     "text": [
      "total_blacks=3\n",
      "options with permutations [(1, 1, 0, 1), (1, 1, 1, 0), (0, 1, 1, 1), (1, 0, 1, 1)]\n"
     ]
    }
   ],
   "source": [
    "from itertools import permutations, chain\n",
    "\n",
    "total_blacks = puzzle.required_blacks_count\n",
    "print(f\"total_blacks={total_blacks}\")\n",
    "\n",
    "# combination with permutations\n",
    "# of 4 elements amongst 0,1 (range 3)\n",
    "# set remove duplicates \n",
    "# keep only combinations where the total number hold the clues\n",
    "permutations_iterator = [ [p for p in \n",
    "                            set(permutations(c))]\n",
    "                          for c in combinations_list\n",
    "                             if sum(c) == total_blacks\n",
    "                        ]\n",
    "# chain flatten all elements in a single list \n",
    "# (instead of a list of permutations for each combination)\n",
    "options_list = list(chain.from_iterable(permutations_iterator))\n",
    "print(f\"options with permutations {options_list}\")\n"
   ]
  },
  {
   "cell_type": "code",
   "execution_count": 8,
   "metadata": {},
   "outputs": [],
   "source": [
    "# now check which one is valid\n",
    "\n",
    "def filter_valid(s):\n",
    "    board = Board(puzzle)\n",
    "    board.states.flat[:] = s\n",
    "    #board.prettyprint()\n",
    "    return board.is_done()\n",
    "  \n",
    "solution = [s for s in options_list if filter_valid(s)]"
   ]
  },
  {
   "cell_type": "code",
   "execution_count": 9,
   "metadata": {},
   "outputs": [
    {
     "data": {
      "image/png": "[encoded data removed]",
      "text/plain": [
       "<Figure size 72x72 with 1 Axes>"
      ]
     },
     "metadata": {
      "needs_background": "light"
     },
     "output_type": "display_data"
    }
   ],
   "source": [
    "board = Board(puzzle)\n",
    "plotter = BoardPlotter(board)\n",
    "board.states.flat[:] = solution\n",
    "plotter.show()\n",
    "assert board.is_done()"
   ]
  },
  {
   "cell_type": "markdown",
   "metadata": {},
   "source": [
    "## class implementation"
   ]
  },
  {
   "cell_type": "code",
   "execution_count": 10,
   "metadata": {},
   "outputs": [],
   "source": [
    "%reset -f"
   ]
  },
  {
   "cell_type": "code",
   "execution_count": 11,
   "metadata": {},
   "outputs": [],
   "source": [
    "from boardutilsv2 import Puzzle, Board, BoardMark\n",
    "from plotterutilsv2 import BoardPlotter\n",
    "\n",
    "from itertools import permutations, chain\n",
    "from itertools import combinations_with_replacement\n",
    "\n",
    "class SolverBruteForce:\n",
    "    \n",
    "    def solve(self, some_puzzle, verbose=False):\n",
    "        # clues total give the number of blacks\n",
    "        # total for rows or cols is the same\n",
    "        # TODO class clues and factor out function in Board\n",
    "\n",
    "        total_blacks = some_puzzle.required_blacks_count \n",
    "        if verbose:\n",
    "            print(f\"total_blacks={total_blacks}\")\n",
    "        \n",
    "        total_cells = some_puzzle.cells_count\n",
    "        if verbose:\n",
    "            print(f\"number of cells {total_cells}\")\n",
    "\n",
    "        # combination with permutations\n",
    "        # of 4 elements amongst 0,1 (range 3)\n",
    "        # set remove duplicates \n",
    "        # keep only combinations where the total number hold the clues\n",
    "        permutations_iterator = [ [p for p in \n",
    "                                    set(permutations(c))]\n",
    "                                  for c in combinations_with_replacement(range(2), total_cells)\n",
    "                                     if sum(c) == total_blacks\n",
    "                                ]\n",
    "        # chain flatten all elements in a single list \n",
    "        # (instead of a list of permutations for each combination)\n",
    "        options_iterator = chain.from_iterable(permutations_iterator)\n",
    "\n",
    "        def filter_valid(s):\n",
    "            possible_board = Board(some_puzzle)\n",
    "            possible_board.states.flat[:] = s\n",
    "            status = possible_board.is_done() \n",
    "            if verbose:\n",
    "                print(f\"option {s} -> {status}\")\n",
    "                print(f\"rows blocks {possible_board.get_rows_blocks()}\")\n",
    "                print(f\"cols blocks {possible_board.get_cols_blocks()}\")\n",
    "\n",
    "            #if verbose:\n",
    "            #    possible_board.prettyprint()\n",
    "            return status\n",
    "\n",
    "        solutions = [s for s in options_iterator if filter_valid(s)]\n",
    "        if verbose:\n",
    "            print(f\"solutions {solutions}\")\n",
    "        \n",
    "        board = Board(some_puzzle)\n",
    "        board.states.flat[:] = solutions[0]\n",
    "        \n",
    "        return board"
   ]
  },
  {
   "cell_type": "markdown",
   "metadata": {},
   "source": [
    "## tests"
   ]
  },
  {
   "cell_type": "markdown",
   "metadata": {},
   "source": [
    "### minimal"
   ]
  },
  {
   "cell_type": "code",
   "execution_count": 12,
   "metadata": {},
   "outputs": [
    {
     "name": "stdout",
     "output_type": "stream",
     "text": [
      "CPU times: user 2 µs, sys: 1 µs, total: 3 µs\n",
      "Wall time: 3.81 µs\n",
      "total_blacks=3\n",
      "number of cells 4\n",
      "option (1, 1, 0, 1) -> False\n",
      "rows blocks [[2], [1]]\n",
      "cols blocks [[1], [2]]\n",
      "option (1, 1, 1, 0) -> False\n",
      "rows blocks [[2], [1]]\n",
      "cols blocks [[2], [1]]\n",
      "option (0, 1, 1, 1) -> False\n",
      "rows blocks [[1], [2]]\n",
      "cols blocks [[1], [2]]\n",
      "option (1, 0, 1, 1) -> True\n",
      "rows blocks [[1], [2]]\n",
      "cols blocks [[2], [1]]\n",
      "solutions [(1, 0, 1, 1)]\n"
     ]
    },
    {
     "data": {
      "image/png": "[encoded data removed]",
      "text/plain": [
       "<Figure size 72x72 with 1 Axes>"
      ]
     },
     "metadata": {
      "needs_background": "light"
     },
     "output_type": "display_data"
    }
   ],
   "source": [
    "%time\n",
    "# ox\n",
    "# oo\n",
    "clues2x2 = {\n",
    "    'rows': [1, 2],\n",
    "    'cols': [2, 1]\n",
    "}\n",
    "puzzle2x2 = Puzzle(clues2x2)\n",
    "\n",
    "board1_solved = SolverBruteForce().solve(puzzle2x2, verbose=True)\n",
    "plotter1 = BoardPlotter(board1_solved)\n",
    "plotter1.show()\n",
    "assert board1_solved.is_done()"
   ]
  },
  {
   "cell_type": "code",
   "execution_count": 13,
   "metadata": {},
   "outputs": [
    {
     "name": "stdout",
     "output_type": "stream",
     "text": [
      "CPU times: user 2 µs, sys: 1 µs, total: 3 µs\n",
      "Wall time: 4.77 µs\n"
     ]
    },
    {
     "data": {
      "image/png": "[encoded data removed]",
      "text/plain": [
       "<Figure size 72x72 with 1 Axes>"
      ]
     },
     "metadata": {
      "needs_background": "light"
     },
     "output_type": "display_data"
    }
   ],
   "source": [
    "%time\n",
    "# oxx\n",
    "# oox\n",
    "# ooo\n",
    "clues3x3 = {\n",
    "    'rows': [1, 2, 3],\n",
    "    'cols': [3, 2, 1]\n",
    "}\n",
    "puzzle3x3 = Puzzle(clues3x3)\n",
    "\n",
    "board1_solved = SolverBruteForce().solve(puzzle3x3)\n",
    "plotter1 = BoardPlotter(board1_solved)\n",
    "plotter1.show()\n",
    "assert board1_solved.is_done()"
   ]
  },
  {
   "cell_type": "code",
   "execution_count": 15,
   "metadata": {},
   "outputs": [
    {
     "name": "stdout",
     "output_type": "stream",
     "text": [
      "CPU times: user 2 µs, sys: 0 ns, total: 2 µs\n",
      "Wall time: 4.05 µs\n"
     ]
    }
   ],
   "source": [
    "%time\n",
    "# over 3x3 it takes too much memory\n",
    "if False:\n",
    "    # oxxx\n",
    "    # ooxx\n",
    "    # ooox\n",
    "    # oooo\n",
    "    clues4x4 = {\n",
    "        'rows': [1, 2, 3, 4],\n",
    "        'cols': [4, 3, 2, 1]\n",
    "    }\n",
    "    print(\"start creating puzzle\")\n",
    "    puzzle4x4 = Puzzle(clues4x4)\n",
    "    solver1 = SolverBruteForce()\n",
    "    print(\"start solving\")\n",
    "    board1_solved = solver1.solve(puzzle4x4, verbose=True)\n",
    "    print(\"end solving\")\n",
    "    plotter1 = BoardPlotter(board1_solved)\n",
    "    plotter1.show()\n",
    "    assert board1_solved.is_done()"
   ]
  },
  {
   "cell_type": "markdown",
   "metadata": {},
   "source": [
    "### non square"
   ]
  },
  {
   "cell_type": "code",
   "execution_count": 16,
   "metadata": {},
   "outputs": [
    {
     "name": "stdout",
     "output_type": "stream",
     "text": [
      "CPU times: user 2 µs, sys: 1 µs, total: 3 µs\n",
      "Wall time: 5.01 µs\n"
     ]
    }
   ],
   "source": [
    "%time\n",
    "# TODO check why ot gails\n",
    "if False:\n",
    "    clues4x2 = {\n",
    "        'rows': [1, 2, 1, 2],\n",
    "        'cols': [4, 2]\n",
    "    }\n",
    "    puzzle4x2 = Puzzle(clues4x2)\n",
    "\n",
    "    board1_solved = SolverBruteForce().solve(puzzle4x2, verbose=True)\n",
    "    plotter1 = BoardPlotter(board1_solved)\n",
    "    plotter1.show()\n",
    "    assert board1_solved.is_done()"
   ]
  },
  {
   "cell_type": "markdown",
   "metadata": {},
   "source": [
    "### 5x5 with split"
   ]
  },
  {
   "cell_type": "code",
   "execution_count": 17,
   "metadata": {},
   "outputs": [
    {
     "name": "stdout",
     "output_type": "stream",
     "text": [
      "CPU times: user 2 µs, sys: 0 ns, total: 2 µs\n",
      "Wall time: 5.01 µs\n"
     ]
    }
   ],
   "source": [
    "%time\n",
    "# over 3x3 it takes too much memory\n",
    "if False:\n",
    "    clues5x5split = {\n",
    "        'rows': [1, 3, [1,1], 3, 5],\n",
    "        'cols': [1, 4, [2,2], 4, 1]\n",
    "    }\n",
    "    puzzle5x5split = Puzzle(clues5x5split)\n",
    "\n",
    "    board1_solved = SolverBruteForce().solve(puzzle5x5split, verbose=False)\n",
    "    plotter1 = BoardPlotter(board1_solved)\n",
    "    plotter1.show()\n",
    "    assert board1_solved.is_done()"
   ]
  },
  {
   "cell_type": "markdown",
   "metadata": {},
   "source": [
    "# TODO pourquoi marche pas avec non square"
   ]
  },
  {
   "cell_type": "code",
   "execution_count": null,
   "metadata": {},
   "outputs": [],
   "source": []
  }
 ],
 "metadata": {
  "kernelspec": {
   "display_name": "Python 3 (ipykernel)",
   "language": "python",
   "name": "python3"
  },
  "language_info": {
   "codemirror_mode": {
    "name": "ipython",
    "version": 3
   },
   "file_extension": ".py",
   "mimetype": "text/x-python",
   "name": "python",
   "nbconvert_exporter": "python",
   "pygments_lexer": "ipython3",
   "version": "3.9.7"
  }
 },
 "nbformat": 4,
 "nbformat_minor": 2
}
