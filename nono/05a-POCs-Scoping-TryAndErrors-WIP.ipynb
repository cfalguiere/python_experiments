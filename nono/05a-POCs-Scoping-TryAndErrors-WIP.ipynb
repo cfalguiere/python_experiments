{
 "cells": [
  {
   "cell_type": "markdown",
   "id": "48f663e3",
   "metadata": {},
   "source": [
    "# Episode 05: Scoping of Proofs of concepts"
   ]
  },
  {
   "cell_type": "markdown",
   "id": "dfc21196",
   "metadata": {},
   "source": [
    "TODO \n",
    "\n",
    "In Episode 03, some potential problem solving strategies or heuristics. Fitted out with the  classes improved in Episode 04, let's try to solve the problem.\n",
    "\n",
    "In this Episode will be focuse on exploring different technologies and check whether it is useful for solving this problem.\n",
    "\n",
    "We willmost of time focus on 2x2 simple problems and assume that we know a solution to the problem. The latter will simplify the problem by allowing to check if the proposed solution aquals the expected solution instead of verifying if the solution works.\n",
    "\n",
    "**Goals for this episode:**\n",
    "- Try to solve the puzzle with classes defined in Episode 04\n",
    "- List potential strategies or heuristics\n",
    "- Evaluate by solving simple 2x2 problem with a known solution"
   ]
  },
  {
   "cell_type": "code",
   "execution_count": null,
   "id": "315572d7",
   "metadata": {},
   "outputs": [],
   "source": [
    "# TODO group by categories \n",
    "?\n",
    "optimizers\n",
    "machine learning - NLP /transformers\n",
    "\n",
    "\n",
    "use only known solutions and 2x2 here"
   ]
  },
  {
   "cell_type": "markdown",
   "id": "3e32e86c",
   "metadata": {},
   "source": [
    "# 1. Some initialisations"
   ]
  },
  {
   "cell_type": "code",
   "execution_count": 1,
   "id": "ea0ac7f5",
   "metadata": {},
   "outputs": [],
   "source": [
    "from episode04 import clues2x2, solution2x2, clues5x5s, solution5x5s\n",
    "from episode04 import Puzzle, BoardMark, SolvedNonoGameEngine\n",
    "\n",
    "import numpy as np"
   ]
  },
  {
   "cell_type": "code",
   "execution_count": 166,
   "id": "23d70915",
   "metadata": {},
   "outputs": [
    {
     "data": {
      "text/plain": [
       "{'rows': [1, 2], 'cols': [2, 1]}"
      ]
     },
     "execution_count": 166,
     "metadata": {},
     "output_type": "execute_result"
    }
   ],
   "source": [
    "clues2x2"
   ]
  },
  {
   "cell_type": "code",
   "execution_count": 167,
   "id": "54e31494",
   "metadata": {},
   "outputs": [
    {
     "data": {
      "text/plain": [
       "array([[1, 0],\n",
       "       [1, 1]])"
      ]
     },
     "execution_count": 167,
     "metadata": {},
     "output_type": "execute_result"
    }
   ],
   "source": [
    "solution2x2"
   ]
  },
  {
   "cell_type": "markdown",
   "id": "70e2fbbf",
   "metadata": {},
   "source": [
    "# 2. Try-and-error process\n",
    "\n",
    "Having an idea from scratch is difficult.\n",
    "\n",
    "The contract with the platyer for Nonograms is that they always have 1 solution. Let's say we know that there is a solution. We can try different values for each cell until the board is solved.\n",
    "\n",
    "Even if this process is probably not what we want, it will help undestand what we need to solve the puzzle. \n",
    "\n",
    "In addition, it make sense in AI. Some algorithms, especially in Reinforcement Learning, work by learning from try-and-error process. They are given the goal to keep errors to a minimulm."
   ]
  },
  {
   "cell_type": "markdown",
   "id": "35053c1a",
   "metadata": {},
   "source": [
    "What could be the try-and-error process ?\n",
    "\n",
    "For each cell, I know that it could be black or filler. \n",
    "\n",
    "We need some game engine to decide whether the action is valid or not according to be solution it knows already. "
   ]
  },
  {
   "cell_type": "markdown",
   "id": "2be961e5",
   "metadata": {},
   "source": [
    "Now, let's loop over the problem space"
   ]
  },
  {
   "cell_type": "markdown",
   "id": "6103e6df",
   "metadata": {},
   "source": [
    "## 2.2. Experiments"
   ]
  },
  {
   "cell_type": "code",
   "execution_count": 2,
   "id": "ec1e667f",
   "metadata": {},
   "outputs": [
    {
     "data": {
      "image/png": "[encoded data removed]",
      "text/plain": [
       "<Figure size 72x72 with 1 Axes>"
      ]
     },
     "metadata": {
      "needs_background": "light"
     },
     "output_type": "display_data"
    },
    {
     "name": "stdout",
     "output_type": "stream",
     "text": [
      "error_count:1\n"
     ]
    }
   ],
   "source": [
    "# create the game engine\n",
    "puzzle2x2 = Puzzle(clues2x2)\n",
    "game2x2 = SolvedNonoGameEngine(puzzle2x2, solution2x2)\n",
    "board2x2 = game2x2.board\n",
    "\n",
    "for row in range(puzzle2x2.height):\n",
    "    for col in range(puzzle2x2.width):\n",
    "        game2x2.play(row, col, BoardMark.BLACK)\n",
    "\n",
    "game2x2.show()\n",
    "print(f\"error_count:{game2x2.errors}\")"
   ]
  },
  {
   "cell_type": "markdown",
   "id": "7c1c1025",
   "metadata": {},
   "source": [
    "Voila!\n",
    "\n",
    "I agree that this algorithm is pretty dump. The percentage of errors goes up very rapidly and exceed what the game will accept (usually 3 errors). On the 5x5 board it took 11 errors to solve 25 cells."
   ]
  },
  {
   "cell_type": "code",
   "execution_count": 3,
   "id": "fa5bab8b",
   "metadata": {},
   "outputs": [
    {
     "data": {
      "image/png": "[encoded data removed]",
      "text/plain": [
       "<Figure size 144x144 with 1 Axes>"
      ]
     },
     "metadata": {
      "needs_background": "light"
     },
     "output_type": "display_data"
    },
    {
     "name": "stdout",
     "output_type": "stream",
     "text": [
      "error_count:11\n"
     ]
    }
   ],
   "source": [
    "# create the game engine\n",
    "puzzle5x5s = Puzzle(clues5x5s)\n",
    "game5x5s = SolvedNonoGameEngine(puzzle5x5s, solution5x5s)\n",
    "\n",
    "for row in range(puzzle5x5s.height):\n",
    "    for col in range(puzzle5x5s.width):\n",
    "        game5x5s.play(row, col, BoardMark.BLACK)\n",
    "\n",
    "game5x5s.show()\n",
    "print(f\"error_count:{game5x5s.errors}\")"
   ]
  },
  {
   "cell_type": "markdown",
   "id": "2a009cc1",
   "metadata": {},
   "source": [
    "# 2.3  Wrap up\n",
    "\n",
    "What works:\n",
    "- it is really simple to design and implement\n",
    "- no computation, no headache with split blocks\n",
    "\n",
    "Limitation:\n",
    "- requires that the solution is known beforehand\n",
    "- roughly 50% error rate. It depends on the proportion of blacks and fillers,  and whether blacks or fillers are checked for validity"
   ]
  }
 ],
 "metadata": {
  "kernelspec": {
   "display_name": "Python 3 (ipykernel)",
   "language": "python",
   "name": "python3"
  },
  "language_info": {
   "codemirror_mode": {
    "name": "ipython",
    "version": 3
   },
   "file_extension": ".py",
   "mimetype": "text/x-python",
   "name": "python",
   "nbconvert_exporter": "python",
   "pygments_lexer": "ipython3",
   "version": "3.9.7"
  }
 },
 "nbformat": 4,
 "nbformat_minor": 5
}
