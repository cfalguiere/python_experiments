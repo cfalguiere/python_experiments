{
 "cells": [
  {
   "cell_type": "markdown",
   "metadata": {},
   "source": [
    "# Nono"
   ]
  },
  {
   "cell_type": "markdown",
   "metadata": {},
   "source": [
    "nonogram is a puzzle game ...\n",
    "picross"
   ]
  },
  {
   "cell_type": "markdown",
   "metadata": {},
   "source": [
    "## 1. Main ideas to solve the nonogram"
   ]
  },
  {
   "cell_type": "markdown",
   "metadata": {},
   "source": [
    "# 2a solve with math"
   ]
  },
  {
   "cell_type": "markdown",
   "metadata": {},
   "source": [
    "## 2. How to represent the nonogram\n",
    "\n"
   ]
  },
  {
   "cell_type": "code",
   "execution_count": null,
   "metadata": {},
   "outputs": [],
   "source": [
    "import sympy as sym\n",
    "\n",
    "sym.init_printing()\n",
    "x1, x2 = sym.symbols('x1,x2')\n",
    "y = sym.symbols('y')\n",
    "f = sym.Eq(x1+2*x2, y)\n",
    "sym.solve([f], (x1,x2))"
   ]
  },
  {
   "cell_type": "markdown",
   "metadata": {},
   "source": [
    "oxx\n",
    "oxx\n",
    "ooo\n"
   ]
  },
  {
   "cell_type": "code",
   "execution_count": null,
   "metadata": {},
   "outputs": [],
   "source": [
    "cols = [3, 1, 1]\n",
    "rows = [1, 1, 3]"
   ]
  },
  {
   "cell_type": "code",
   "execution_count": null,
   "metadata": {},
   "outputs": [],
   "source": [
    "sym.init_printing()\n",
    "r1c1, r1c2, r1c3 = sym.symbols('r1c1,r1c2,r1c3')\n",
    "r2c1, r2c2, r2c3 = sym.symbols('r2c1,r2c2,r2c3')\n",
    "r3c1, r3c2, r3c3 = sym.symbols('r3c1,r3c2,r3c3')\n",
    "fr1 = sym.Eq(r1c1+r1c2+r1c3, rows[0])\n",
    "fr2 = sym.Eq(r2c1+r2c2+r2c3, rows[1])\n",
    "fr3 = sym.Eq(r3c1+r3c2+r3c3, rows[2])\n",
    "fc1 = sym.Eq(r1c1+r2c1+r3c1, cols[0])\n",
    "fc2 = sym.Eq(r1c2+r2c2+r3c2, cols[1])\n",
    "fc3 = sym.Eq(r1c3+r2c3+r3c3, cols[2])\n",
    "sym.solve([fr1,fr2,fr3,fc1,fc2,fc3], (r1c1, r1c2, r1c3, r2c1, r2c2, r2c3, r3c1, r3c2, r3c3))"
   ]
  },
  {
   "cell_type": "markdown",
   "metadata": {},
   "source": [
    "6 eq and 9 vars"
   ]
  },
  {
   "cell_type": "markdown",
   "metadata": {},
   "source": [
    "splir clues ? must take fillers into account and > 0 (not supported)"
   ]
  },
  {
   "cell_type": "markdown",
   "metadata": {},
   "source": [
    "# ----"
   ]
  },
  {
   "cell_type": "markdown",
   "metadata": {},
   "source": [
    "# -----"
   ]
  },
  {
   "cell_type": "code",
   "execution_count": 16,
   "metadata": {},
   "outputs": [],
   "source": [
    "%matplotlib inline"
   ]
  },
  {
   "cell_type": "code",
   "execution_count": 24,
   "metadata": {},
   "outputs": [],
   "source": [
    "%matplotlib qt"
   ]
  },
  {
   "cell_type": "code",
   "execution_count": 6,
   "metadata": {},
   "outputs": [],
   "source": [
    "import matplotlib.pyplot as plt\n",
    "import numpy as np"
   ]
  },
  {
   "cell_type": "code",
   "execution_count": 2,
   "metadata": {},
   "outputs": [
    {
     "data": {
      "text/plain": [
       "{'red': [(0.0, 0.32941176470588235, 0.32941176470588235),\n",
       "  (0.1, 0.5490196078431373, 0.5490196078431373),\n",
       "  (0.2, 0.7490196078431373, 0.7490196078431373),\n",
       "  (0.30000000000000004, 0.8745098039215686, 0.8745098039215686),\n",
       "  (0.4, 0.9647058823529412, 0.9647058823529412),\n",
       "  (0.5, 0.9607843137254902, 0.9607843137254902),\n",
       "  (0.6000000000000001, 0.7803921568627451, 0.7803921568627451),\n",
       "  (0.7000000000000001, 0.5019607843137255, 0.5019607843137255),\n",
       "  (0.8, 0.20784313725490197, 0.20784313725490197),\n",
       "  (0.9, 0.00392156862745098, 0.00392156862745098),\n",
       "  (1.0, 0.0, 0.0)],\n",
       " 'green': [(0.0, 0.18823529411764706, 0.18823529411764706),\n",
       "  (0.1, 0.3176470588235294, 0.3176470588235294),\n",
       "  (0.2, 0.5058823529411764, 0.5058823529411764),\n",
       "  (0.30000000000000004, 0.7607843137254902, 0.7607843137254902),\n",
       "  (0.4, 0.9098039215686274, 0.9098039215686274),\n",
       "  (0.5, 0.9607843137254902, 0.9607843137254902),\n",
       "  (0.6000000000000001, 0.9176470588235294, 0.9176470588235294),\n",
       "  (0.7000000000000001, 0.803921568627451, 0.803921568627451),\n",
       "  (0.8, 0.592156862745098, 0.592156862745098),\n",
       "  (0.9, 0.4, 0.4),\n",
       "  (1.0, 0.23529411764705882, 0.23529411764705882)],\n",
       " 'blue': [(0.0, 0.0196078431372549, 0.0196078431372549),\n",
       "  (0.1, 0.0392156862745098, 0.0392156862745098),\n",
       "  (0.2, 0.17647058823529413, 0.17647058823529413),\n",
       "  (0.30000000000000004, 0.49019607843137253, 0.49019607843137253),\n",
       "  (0.4, 0.7647058823529411, 0.7647058823529411),\n",
       "  (0.5, 0.9607843137254902, 0.9607843137254902),\n",
       "  (0.6000000000000001, 0.8980392156862745, 0.8980392156862745),\n",
       "  (0.7000000000000001, 0.7568627450980392, 0.7568627450980392),\n",
       "  (0.8, 0.5607843137254902, 0.5607843137254902),\n",
       "  (0.9, 0.3686274509803922, 0.3686274509803922),\n",
       "  (1.0, 0.18823529411764706, 0.18823529411764706)],\n",
       " 'alpha': [(0.0, 1, 1),\n",
       "  (0.1, 1, 1),\n",
       "  (0.2, 1, 1),\n",
       "  (0.30000000000000004, 1, 1),\n",
       "  (0.4, 1, 1),\n",
       "  (0.5, 1, 1),\n",
       "  (0.6000000000000001, 1, 1),\n",
       "  (0.7000000000000001, 1, 1),\n",
       "  (0.8, 1, 1),\n",
       "  (0.9, 1, 1),\n",
       "  (1.0, 1, 1)]}"
      ]
     },
     "execution_count": 2,
     "metadata": {},
     "output_type": "execute_result"
    }
   ],
   "source": [
    "import matplotlib.cm as cm\n",
    "from matplotlib.colors import LinearSegmentedColormap\n",
    "cdict = cm.get_cmap('BrBG')._segmentdata\n",
    "cdict"
   ]
  },
  {
   "cell_type": "code",
   "execution_count": 3,
   "metadata": {},
   "outputs": [
    {
     "data": {
      "text/plain": [
       "{'red': [(0.0, 0.32941176470588235, 0.32941176470588235),\n",
       "  (0.1, 0.5490196078431373, 0.5490196078431373),\n",
       "  (0.2, 0.7490196078431373, 0.7490196078431373),\n",
       "  (0.30000000000000004, 0.8745098039215686, 0.8745098039215686),\n",
       "  (0.4, 0.9647058823529412, 0.9647058823529412),\n",
       "  (0.5, 0.9607843137254902, 0.9607843137254902),\n",
       "  (0.6000000000000001, 0.7803921568627451, 0.7803921568627451),\n",
       "  (0.7000000000000001, 0.5019607843137255, 0.5019607843137255),\n",
       "  (0.8, 0.20784313725490197, 0.20784313725490197),\n",
       "  (0.9, 1, 1),\n",
       "  (1.0, 1, 1)],\n",
       " 'green': [(0.0, 0.18823529411764706, 0.18823529411764706),\n",
       "  (0.1, 0.3176470588235294, 0.3176470588235294),\n",
       "  (0.2, 0.5058823529411764, 0.5058823529411764),\n",
       "  (0.30000000000000004, 0.7607843137254902, 0.7607843137254902),\n",
       "  (0.4, 0.9098039215686274, 0.9098039215686274),\n",
       "  (0.5, 0.9607843137254902, 0.9607843137254902),\n",
       "  (0.6000000000000001, 0.9176470588235294, 0.9176470588235294),\n",
       "  (0.7000000000000001, 0.803921568627451, 0.803921568627451),\n",
       "  (0.8, 0.592156862745098, 0.592156862745098),\n",
       "  (0.9, 1, 1),\n",
       "  (1.0, 1, 1)],\n",
       " 'blue': [(0.0, 0.0196078431372549, 0.0196078431372549),\n",
       "  (0.1, 0.0392156862745098, 0.0392156862745098),\n",
       "  (0.2, 0.17647058823529413, 0.17647058823529413),\n",
       "  (0.30000000000000004, 0.49019607843137253, 0.49019607843137253),\n",
       "  (0.4, 0.7647058823529411, 0.7647058823529411),\n",
       "  (0.5, 0.9607843137254902, 0.9607843137254902),\n",
       "  (0.6000000000000001, 0.8980392156862745, 0.8980392156862745),\n",
       "  (0.7000000000000001, 0.7568627450980392, 0.7568627450980392),\n",
       "  (0.8, 0.5607843137254902, 0.5607843137254902),\n",
       "  (0.9, 1, 1),\n",
       "  (1.0, 1, 1)],\n",
       " 'alpha': [(0, 0.01, 0.01),\n",
       "  (0.1, 1, 1),\n",
       "  (0.2, 1, 1),\n",
       "  (0.30000000000000004, 1, 1),\n",
       "  (0.4, 1, 1),\n",
       "  (0.5, 1, 1),\n",
       "  (0.6000000000000001, 1, 1),\n",
       "  (0.7000000000000001, 1, 1),\n",
       "  (0.8, 1, 1),\n",
       "  (0.9, 1, 1),\n",
       "  (1.0, 1, 1)]}"
      ]
     },
     "execution_count": 3,
     "metadata": {},
     "output_type": "execute_result"
    }
   ],
   "source": [
    "# -1 is quite transparent\n",
    "cdict['alpha'][0] = (0, 0.01, 0.01) \n",
    "# 1 is black\n",
    "cdict['red'][-1] = (1.0, 1, 1) \n",
    "cdict['green'][-1] = (1.0, 1, 1) \n",
    "cdict['blue'][-1] = (1.0, 1, 1) \n",
    "cdict['red'][-2] = (0.9, 1, 1) \n",
    "cdict['green'][-2] = (0.9, 1, 1) \n",
    "cdict['blue'][-2] = (0.9, 1, 1) \n",
    "\n",
    "my_cmap = LinearSegmentedColormap('name', cdict)\n",
    "cdict"
   ]
  },
  {
   "cell_type": "code",
   "execution_count": 4,
   "metadata": {},
   "outputs": [
    {
     "data": {
      "text/plain": [
       "{'red': [(0.0, 0.5, 0.5), (0.5, 1.0, 1.0), (1.0, 0.0, 0.0)],\n",
       " 'green': [(0.0, 0.5, 0.5), (0.5, 1.0, 1.0), (1.0, 0.0, 0.0)],\n",
       " 'blue': [(0.0, 0.5, 0.5), (0.5, 1.0, 1.0), (1.0, 0.0, 0.0)],\n",
       " 'alpha': [(0.0, 0.2, 0.2), (0.5, 1.0, 1.0), (1.0, 1.0, 1.0)]}"
      ]
     },
     "execution_count": 4,
     "metadata": {},
     "output_type": "execute_result"
    }
   ],
   "source": [
    "cdict = {'red': [(0.0, 0.5, 0.5),\n",
    "  (0.5, 1.0, 1.0),\n",
    "  (1.0, 0.0, 0.0)],\n",
    " 'green': [(0.0, 0.5, 0.5),\n",
    "  (0.5, 1.0, 1.0),\n",
    "  (1.0, 0.0, 0.0)],\n",
    " 'blue': [(0.0, 0.5, 0.5),\n",
    "  (0.5, 1.0, 1.0),\n",
    "  (1.0, 0.0, 0.0)],\n",
    " 'alpha': [(0.0, 0.2, 0.2),\n",
    "  (0.5, 1.0, 1.0),\n",
    "  (1.0, 1.0, 1.0)]}\n",
    "my_cmap = LinearSegmentedColormap('name', cdict)\n",
    "cdict"
   ]
  },
  {
   "cell_type": "code",
   "execution_count": 51,
   "metadata": {},
   "outputs": [],
   "source": [
    "column_labels = list([2, \"1\\n1\"])\n",
    "row_labels = list([\"1 1\", 2])\n",
    "data = np.random.rand(2, 2)\n",
    "data = np.full((2, 2), -1, dtype=int)\n",
    "# row / col\n",
    "data[1,0] = 1\n",
    "data[0,0] = 0\n",
    "\n",
    "def draw_board():\n",
    "    fig, ax = plt.subplots(figsize=(2,2))\n",
    "    #fig.canvas.tight_layout(rect=(0, 0, 0, 0)) #[left, bottom, width, height]\n",
    "    #fig.tight_layout(rect=(2, 0, 0, 0)) #[left, bottom, width, height]\n",
    "    #plt.tight_layout(rect=(8, 8, 8, 8)) #[left, bottom, width, height]\n",
    "    #fig.tight_layout() \n",
    "\n",
    "    #heatmap = ax.pcolor(data, cmap=plt.cm.Blues)\n",
    "    heatmap = ax.pcolor(data, cmap=my_cmap) #plt.cm.Greens\n",
    "    #heatmap = ax.pcolor(data, cmap=plt.cm.BrBG)\n",
    "\n",
    "    # square cells\n",
    "    ax.set_aspect(\"equal\")\n",
    "\n",
    "    # put the major ticks at the middle of each cell\n",
    "    ax.set_xticks(np.arange(data.shape[1]) + 0.5, minor=False)\n",
    "    ax.set_yticks(np.arange(data.shape[0]) + 0.5, minor=False)\n",
    "\n",
    "    # put labels on top\n",
    "    ax.invert_yaxis()\n",
    "    ax.xaxis.tick_top()\n",
    "\n",
    "    # set labels\n",
    "    ax.set_xticklabels(column_labels, minor=False)\n",
    "    ax.set_yticklabels(row_labels, minor=False)\n",
    "\n",
    "    # annotate fillers\n",
    "    # must compute the coordinates from index\n",
    "    plt.text(0.5, 0.5, 'X', \n",
    "             verticalalignment='center_baseline',\n",
    "             horizontalalignment='center',\n",
    "             fontsize='medium')\n",
    "\n",
    "    plt.show()\n",
    "    #fig.show()\n",
    "    #p, = plt.plot(data)\n",
    "    #ptint(p)\n",
    "    #plt.draw()\n",
    "    #plt.pause(0.01)\n",
    "    #plt.clf()\n",
    "    #data[1,1] = 1\n",
    "    #p.set_data(1,1,1)\n",
    "    #plt.draw()\n",
    "    #plt.pause(0.0001)\n",
    "    #plt.clf()\n",
    "    fig.canvas.draw() # Draws the image to the screen\n",
    "    plt.pause(1) # Delay in seconds\n",
    "    data[1,1] = 1\n",
    "    # struggled with set_data\n",
    "    heatmap = ax.pcolor(data, cmap=my_cmap) \n",
    "    fig.canvas.draw() # Draws the image to the screen\n",
    "    \n",
    "    #fig.savefig(output, format=\"png\")\n",
    "\n",
    "draw_board()\n",
    "#data[1,1] = 1\n",
    "#draw_board()"
   ]
  },
  {
   "cell_type": "code",
   "execution_count": null,
   "metadata": {},
   "outputs": [],
   "source": [
    "# add subplot et multiple board on same figure"
   ]
  },
  {
   "cell_type": "code",
   "execution_count": 33,
   "metadata": {},
   "outputs": [
    {
     "data": {
      "text/plain": [
       "array([[ 0, -1],\n",
       "       [ 1,  1]])"
      ]
     },
     "execution_count": 33,
     "metadata": {},
     "output_type": "execute_result"
    }
   ],
   "source": [
    "data"
   ]
  },
  {
   "cell_type": "code",
   "execution_count": 38,
   "metadata": {},
   "outputs": [
    {
     "data": {
      "image/png": "[encoded data removed]",
      "text/plain": [
       "<Figure size 36x36 with 1 Axes>"
      ]
     },
     "metadata": {
      "needs_background": "light"
     },
     "output_type": "display_data"
    }
   ],
   "source": [
    "data[1,1] = 1\n",
    "draw_board()"
   ]
  },
  {
   "cell_type": "code",
   "execution_count": null,
   "metadata": {},
   "outputs": [],
   "source": [
    "data.strides"
   ]
  },
  {
   "cell_type": "code",
   "execution_count": null,
   "metadata": {},
   "outputs": [],
   "source": [
    "data"
   ]
  },
  {
   "cell_type": "code",
   "execution_count": null,
   "metadata": {},
   "outputs": [],
   "source": [
    "data.reshape(4)"
   ]
  },
  {
   "cell_type": "code",
   "execution_count": null,
   "metadata": {},
   "outputs": [],
   "source": [
    "data.reshape((2,2))"
   ]
  },
  {
   "cell_type": "markdown",
   "metadata": {},
   "source": [
    "# -----"
   ]
  },
  {
   "cell_type": "markdown",
   "metadata": {},
   "source": [
    "First we need to give names for all the concepts we know so far\n",
    "- the goal is to fill a board\n",
    "- the board consist of cells\n",
    "- the board organize cells horizontally in rows \n",
    "- the board organize cells vertically in columns (shorten as cols) \n",
    "- game input is given as a list clues of for each row or col  \n",
    "- clue is either a number or a list of numbers \n",
    "- when there is only one block of black cells in the row or column the number gives the size of the block of contiguous cells\n",
    "- where there are multiple blocks of black cells in the row or col the clue is a list of sizes"
   ]
  },
  {
   "cell_type": "markdown",
   "metadata": {},
   "source": [
    "### Instructions"
   ]
  },
  {
   "cell_type": "code",
   "execution_count": null,
   "metadata": {},
   "outputs": [],
   "source": [
    "# instructions\n",
    "rows_clues = [1, 3, [1,1], 3, 5]\n",
    "cols_clues = [1, 4, [2,2], 4, 1]"
   ]
  },
  {
   "cell_type": "markdown",
   "metadata": {},
   "source": [
    "Please note that elements of the list may be either un number or a list.\n",
    "For instance for cols_clues:\n",
    "- 4 denote that 4 contiguous black cells \n",
    "- [2,2] denotes that there are 2 contiguous black cells, a filler which size is unknows and 2 contiguous black cels"
   ]
  },
  {
   "cell_type": "markdown",
   "metadata": {},
   "source": [
    "## 3. Solver\n",
    "\n",
    "Now we have the board to check the result, let us solve the board.\n",
    "\n",
    "Before solving the whole, let us check if we can solve one row or column.\n",
    "\n",
    "We will name the list of cell values that matches the given instruction a sequence.\n",
    "\n",
    "For instance \n",
    "- 'ooooo' is the sequence which matches 5\n",
    "- 'ooxoo' is the sequence which matches [2,2]\n",
    "\n",
    "Given the numbers or blocks for a given row or col there might be many sequences.\n",
    "\n",
    "Let us try with a single block."
   ]
  },
  {
   "cell_type": "code",
   "execution_count": null,
   "metadata": {},
   "outputs": [],
   "source": [
    "rows_clues = [1, 3, [1,1], 3, 5]\n",
    "cols_clues = [1, 4, [2,2], 4, 1]\n",
    "\n",
    "board = Board(rows_clues, cols_clues )\n",
    "board.print_board()"
   ]
  },
  {
   "cell_type": "markdown",
   "metadata": {},
   "source": [
    "### solve a block of 5 blacks over a row of 5\n",
    "This is the top bottom row (index = 4)\n",
    "\n",
    "Easy, all cells are black !"
   ]
  },
  {
   "cell_type": "code",
   "execution_count": null,
   "metadata": {},
   "outputs": [],
   "source": [
    "row = 4 \n",
    "# mark all cells as black\n",
    "for c in range(board.height):\n",
    "    board.mark(row, c, BoardMark.BLACK)\n",
    "board.print_board()"
   ]
  },
  {
   "cell_type": "markdown",
   "metadata": {},
   "source": [
    "### solve a block of 4 blacks over a row of 5\n",
    "This is the col 1 \n",
    "\n",
    "- We know that 4 cells are filled\n",
    "- Because the line has 5 cells, 1 must be a filler\n",
    "- It could be before or after, and options are xoooo and oooox\n",
    "\n",
    "We have to figure out the number of x that must be added before and after\n",
    "\n",
    "we could reformulate the problem as \n",
    "- finding (a, b)\n",
    "- where a+b equals 1, the number of fillers\n",
    "\n",
    "The options we will find are \n",
    "- (1,0) corresponding to xoooo\n",
    "- and (0,1) corresponding to oooox\n",
    "\n",
    "These pairs are all permutations of 0 and 1"
   ]
  },
  {
   "cell_type": "code",
   "execution_count": null,
   "metadata": {},
   "outputs": [],
   "source": [
    "from itertools import permutations\n",
    "\n",
    "permutations_iterator = permutations((0, 1))\n",
    "options_list = list(permutations_iterator)   \n",
    "print(f\"options {options_list}\")\n"
   ]
  },
  {
   "cell_type": "markdown",
   "metadata": {},
   "source": [
    "We now have to merge the fillers we computed with the blacks given by the game's instructions\n",
    "\n",
    "(0,1) means \n",
    "- O filler before the block\n",
    "- a block of 4 black\n",
    "- 1 filler after the block\n",
    "\n",
    "To build the sequence for the first option  we will concatenate 0 x, 4 o and 1 x "
   ]
  },
  {
   "cell_type": "code",
   "execution_count": null,
   "metadata": {},
   "outputs": [],
   "source": [
    "# string is a list of characters and it may be built in multiple steps\n",
    "sequence = []\n",
    "sequence.extend('oooo')\n",
    "sequence.extend('x')\n",
    "print(f\"sequence: {sequence}\")"
   ]
  },
  {
   "cell_type": "code",
   "execution_count": null,
   "metadata": {},
   "outputs": [],
   "source": [
    "# a more generic implementation\n",
    "option = (0,1)\n",
    "block_size = 4\n",
    "sequence = []\n",
    "sequence.extend([BoardMark.FILLER.value for e in range(option[0])])\n",
    "sequence.extend([BoardMark.BLACK.value for e in range(block_size)])\n",
    "sequence.extend([BoardMark.FILLER.value for e in range(option[1])])\n",
    "print(f\"sequence: {sequence}\")"
   ]
  },
  {
   "cell_type": "code",
   "execution_count": null,
   "metadata": {},
   "outputs": [],
   "source": [
    "# wrap up everything\n",
    "col = 1 \n",
    "block_size = board.cols_clues[col]\n",
    "for option in options_list:\n",
    "    sequence = []\n",
    "    sequence.extend([BoardMark.FILLER.value for e in range(option[0])])\n",
    "    sequence.extend([BoardMark.BLACK.value for e in range(block_size)])\n",
    "    sequence.extend([BoardMark.FILLER.value for e in range(option[1])])\n",
    "    print(f\"sequence: {sequence}\")"
   ]
  },
  {
   "cell_type": "markdown",
   "metadata": {},
   "source": [
    "### solve a block of 3 blacks over a row of 5\n",
    "This is the row 3 \n",
    "\n",
    "- We know that 3 cells are filled\n",
    "- Because the line has 5 cells, 2 must be a filler\n",
    "- Options are xxooo, xooox or oooxx\n",
    "\n",
    "We have to figure out the number of x that must be added before and after\n",
    "\n",
    "we could reformulate the problem as \n",
    "- finding (a, b)\n",
    "- where a+b equals 2, the number of fillers\n",
    "\n",
    "The options we will find are \n",
    "- (2,0) corresponding to xxooo\n",
    "- (1,1) corresponding to xooox\n",
    "- and (0,2) corresponding to oooxx\n",
    "\n",
    "These pairs are \n",
    "- different ways to combine 0, 1, 2 to be 2 (0+2, 1+1)\n",
    "- and permutations of the combinations  (0,2) and (2,0)"
   ]
  },
  {
   "cell_type": "code",
   "execution_count": null,
   "metadata": {},
   "outputs": [],
   "source": [
    "from itertools import combinations_with_replacement\n",
    "\n",
    "# combinations of 2 elements amongst 0,1,2 (range 3)\n",
    "combinations_iterator = combinations_with_replacement(range(3), 2)\n",
    "combinations_list = list(combinations_iterator)\n",
    "print(f\"combinations {combinations_list}\")\n",
    "# filter sum is 2 (number of fillers)\n",
    "options_list = [c for c in combinations_list\n",
    "                  if sum(c)==2]\n",
    "print(f\"options {options_list}\")\n"
   ]
  },
  {
   "cell_type": "markdown",
   "metadata": {},
   "source": [
    "Note we are missing the peremutation of 0, ,2"
   ]
  },
  {
   "cell_type": "code",
   "execution_count": null,
   "metadata": {},
   "outputs": [],
   "source": [
    "from itertools import permutations, chain\n",
    "\n",
    "# combination with permutations\n",
    "# set remove duplicates for (1,1)\n",
    "permutations_iterator = [ [p for p in \n",
    "                            set(permutations(c))]\n",
    "                          for c in combinations_list\n",
    "                          if sum(c)==2\n",
    "                        ]\n",
    "# chain flatten all elements in a single list \n",
    "# (instead of a list of permutations for each combination)\n",
    "options_list = list(chain.from_iterable(permutations_iterator))\n",
    "print(f\"options with permutations {options_list}\")\n",
    "\n"
   ]
  },
  {
   "cell_type": "code",
   "execution_count": null,
   "metadata": {},
   "outputs": [],
   "source": [
    "# everything wrapped up\n",
    "row = 3\n",
    "block_size = board.rows_clues[row]\n",
    "for option in options_list:\n",
    "    sequence = []\n",
    "    sequence.extend([BoardMark.FILLER.value for e in range(option[0])])\n",
    "    sequence.extend([BoardMark.BLACK.value for e in range(block_size)])\n",
    "    sequence.extend([BoardMark.FILLER.value for e in range(option[1])])\n",
    "    print(f\"sequence: {sequence}\")"
   ]
  },
  {
   "cell_type": "markdown",
   "metadata": {},
   "source": [
    "### refactoring"
   ]
  },
  {
   "cell_type": "code",
   "execution_count": null,
   "metadata": {},
   "outputs": [],
   "source": [
    "from itertools import permutations, chain\n",
    "from itertools import combinations_with_replacement\n",
    "\n",
    "class Sequence:\n",
    "    def __init__(self, a_block_size, a_board_size):\n",
    "        self.block_size = a_block_size\n",
    "        self.board_size = a_board_size\n",
    "        self.options_list = None\n",
    "    \n",
    "    def solve(self):\n",
    "        black_count = self.block_size\n",
    "        filler_count = self.board_size - black_count\n",
    "        print(f\"black_count {black_count}\")\n",
    "        print(f\"filler_count {filler_count}\")\n",
    "\n",
    "        black_blocks_count = 1 \n",
    "        # for 1 black block, filler blocks are 2 (before, after)\n",
    "        filler_blocks_count = 2 # before and after   \n",
    "        print(f\"black_blocks_count {black_blocks_count}\")\n",
    "        print(f\"filler_blocks_count {filler_blocks_count}\")\n",
    "\n",
    "        # if we want to fill 2 cells, filler may be 0, 1, 2\n",
    "        # this is equivalent to range(3)\n",
    "        filler_values = range(filler_count + 1)\n",
    "        print(f\"filler_values {filler_values}\")\n",
    "\n",
    "        # combinations generator \n",
    "        combinations_iterator = combinations_with_replacement(filler_values, filler_blocks_count)\n",
    "        # permutations and filter\n",
    "        # set remove duplicates for (1,1)\n",
    "        permutations_iterator = [ [p for p in \n",
    "                                    set(permutations(c))]\n",
    "                                  for c in combinations_iterator\n",
    "                                  if sum(c)==filler_count\n",
    "                                ]\n",
    "        # chain flatten all elements in a single list \n",
    "        # (instead of a list of permutations for each combination)\n",
    "        self.options_list = list(chain.from_iterable(permutations_iterator))\n",
    "        return self.options_list\n",
    "\n",
    "    def render(self):    \n",
    "        return [self.render_option(o) for o in self.options_list]\n",
    "    \n",
    "    def render_option(self, option):\n",
    "        sequence = []\n",
    "        sequence.extend([BoardMark.FILLER.value for e in range(option[0])])\n",
    "        sequence.extend([BoardMark.BLACK.value for e in range(self.block_size)])\n",
    "        sequence.extend([BoardMark.FILLER.value for e in range(option[1])])\n",
    "        return \"\".join(sequence)  "
   ]
  },
  {
   "cell_type": "code",
   "execution_count": null,
   "metadata": {},
   "outputs": [],
   "source": [
    "# solve row of 3 amongst 5\n",
    "# xxooo / oooxx / xooox\n",
    "print(f\"== solve row of 3:\")\n",
    "sequence = Sequence(3, 5)\n",
    "options_list = sequence.solve()\n",
    "alternatives = sequence.render()\n",
    "print(f\"options: {options_list}\")\n",
    "assert options_list == [(2, 0), (0, 2), (1, 1)]\n",
    "print(f\"alternatives: {alternatives}\")\n",
    "assert alternatives == ['xxooo', 'oooxx', 'xooox']"
   ]
  },
  {
   "cell_type": "code",
   "execution_count": null,
   "metadata": {},
   "outputs": [],
   "source": [
    "# solve col of 4\n",
    "# oooox / xoooo \n",
    "print(f\"== solve col of 4:\")\n",
    "sequence = Sequence(4, 5)\n",
    "options_list = sequence.solve()\n",
    "alternatives = sequence.render()\n",
    "print(f\"options: {options_list}\")\n",
    "assert options_list == [(0, 1), (1, 0)]\n",
    "print(f\"alternatives: {alternatives}\")\n",
    "assert alternatives == ['oooox', 'xoooo']"
   ]
  },
  {
   "cell_type": "code",
   "execution_count": null,
   "metadata": {},
   "outputs": [],
   "source": [
    "# solve row of 5\n",
    "# ooooo \n",
    "print(f\"== solve solve row of 5:\")\n",
    "sequence = Sequence(5, 5)\n",
    "options_list = sequence.solve()\n",
    "alternatives = sequence.render()\n",
    "print(f\"options: {options_list}\")\n",
    "assert options_list == [(0, 0)]\n",
    "print(f\"alternatives: {alternatives}\")\n",
    "assert alternatives == ['ooooo']"
   ]
  },
  {
   "cell_type": "markdown",
   "metadata": {},
   "source": [
    "## Tacke split clues\n",
    "\n",
    "We know how to solve sequences for cols having blocks of 1, 4 and towd having blocks of 1, 3, 5\n",
    "\n",
    "```\n",
    "cols: 1 4 [2, 2] 4 1\n",
    "rows:\n",
    "1\n",
    "3\n",
    "[1, 1]\n",
    "3\n",
    "5\n",
    "```\n",
    "\n",
    "How can we adapt this method to multiple blocks like [1,1] and [2,2]"
   ]
  },
  {
   "cell_type": "markdown",
   "metadata": {},
   "source": [
    "### solve a clue split into blocks of 2+2 blacks over a col of 5\n",
    "This is the col 2 \n",
    "\n",
    "- We know that 4 cells are filled\n",
    "- Because the line has 5 cells, 1 must be a filler\n",
    "- the filler might be before, after or in between blocks of black\n",
    "- There must be at list one filler between the blocks\n",
    "- The only option is are ooxoo \n",
    "\n",
    "We have to figure out the number of x that must be added before, in between blocks or  after\n",
    "\n",
    "we could reformulate the problem as \n",
    "- finding (a, b, c)\n",
    "- where a+b equals 1, the number of fillers\n",
    "- and b is > 0\n",
    "\n",
    "The options we will find are \n",
    "- (0,1,0) corresponding to ooxoo\n",
    "\n",
    "The permutation / combination is similar to the case with 1 block.\n",
    "We now have to verify two conditions\n",
    "- the combined values must add up to 1\n",
    "- the permutation must have 1 as the second element\n",
    "\n",
    "Let us change the code for one blocks into a code for many blocks"
   ]
  },
  {
   "cell_type": "code",
   "execution_count": null,
   "metadata": {},
   "outputs": [],
   "source": [
    "values = range(2) # 0,1\n",
    "filler_blocks_count = 3 # before, middle, after\n",
    "middle_element = 1\n",
    "filler_count = 1\n",
    "combinations_iterator = combinations_with_replacement(values, filler_blocks_count)\n",
    "permutations_iterator = [ [p for p in \n",
    "    set(permutations(c))\n",
    "    if not p[middle_element]==0\n",
    "  ]\n",
    "  for c in combinations_iterator\n",
    "  if sum(c)==filler_count \n",
    "]\n",
    "# chain flatten all elements in a single list \n",
    "# (instead of a list of permutations for each combination)\n",
    "options_list = list(chain.from_iterable(permutations_iterator))\n",
    "print(f\"options with permutations {options_list}\")\n"
   ]
  },
  {
   "cell_type": "markdown",
   "metadata": {},
   "source": [
    "Now say we have a clue of 3 blocks [1,1,1]\n",
    "Does it hold ?\n",
    "\n",
    "Now we must check taht any element in between blocks has at list 1 filler.\n",
    "\n",
    "The only option here is oxoxo\n",
    "\n",
    "The test on permutation must be adapted to fit any number of blocks and check that all fillers but the first and the last are not 0 \n",
    "\n",
    "Let us try first on some permutations"
   ]
  },
  {
   "cell_type": "code",
   "execution_count": null,
   "metadata": {},
   "outputs": [],
   "source": [
    "[p for p in \n",
    "    set(permutations((0,0,1)))\n",
    "]"
   ]
  },
  {
   "cell_type": "code",
   "execution_count": null,
   "metadata": {},
   "outputs": [],
   "source": [
    "# permutations of 3 \n",
    "[p for p in \n",
    "    set(permutations((0,0,1)))\n",
    "    if not p[1]==0\n",
    "]"
   ]
  },
  {
   "cell_type": "code",
   "execution_count": null,
   "metadata": {},
   "outputs": [],
   "source": [
    "[p for p in \n",
    "    set(permutations((0,0,0,1)))\n",
    "]"
   ]
  },
  {
   "cell_type": "code",
   "execution_count": null,
   "metadata": {},
   "outputs": [],
   "source": [
    "# permutations of 4 \n",
    "[p for p in \n",
    "    set(permutations((0,0,1,1)))\n",
    "    if not p[1]==0 and not p[2]==0\n",
    "]"
   ]
  },
  {
   "cell_type": "code",
   "execution_count": null,
   "metadata": {},
   "outputs": [],
   "source": [
    "permutations_of_4 = [p for p in \n",
    "    set(permutations((0,0,0,1)))\n",
    "]\n",
    "permutations_of_4"
   ]
  },
  {
   "cell_type": "code",
   "execution_count": null,
   "metadata": {},
   "outputs": [],
   "source": [
    "# 1:-1 create a sublist and strip the first and last item\n",
    "permutations_of_4[1:-1]"
   ]
  },
  {
   "cell_type": "code",
   "execution_count": null,
   "metadata": {},
   "outputs": [],
   "source": [
    "# filter the filler being 0\n",
    "[e for e in (1, 0, 0, 0) if e==0 ]"
   ]
  },
  {
   "cell_type": "code",
   "execution_count": null,
   "metadata": {},
   "outputs": [],
   "source": [
    "# mixing sublist and filter\n",
    "[p for p in \n",
    "    set(permutations((0,0,1,1)))\n",
    "    if not [e for e in p[1:-1] \n",
    "              if e==0 ]\n",
    "]"
   ]
  },
  {
   "cell_type": "code",
   "execution_count": null,
   "metadata": {},
   "outputs": [],
   "source": [
    "# wait a minute, what there are less than 3 fillers ? \n",
    "[p for p in \n",
    "    set(permutations((0,0,1,1)))\n",
    "    if not [e for e in p[1:-1] \n",
    "              if len(p)>2 and e==0]\n",
    "]"
   ]
  },
  {
   "cell_type": "code",
   "execution_count": null,
   "metadata": {},
   "outputs": [],
   "source": [
    "# for permutations of 2 the filter should not apply\n",
    "[p for p in \n",
    "    set(permutations((0,1)))\n",
    "    if not [e for e in p[1:-1] \n",
    "              if len(p)>2 and e==0]\n",
    "]"
   ]
  },
  {
   "cell_type": "markdown",
   "metadata": {},
   "source": [
    "Everything combined"
   ]
  },
  {
   "cell_type": "code",
   "execution_count": null,
   "metadata": {},
   "outputs": [],
   "source": [
    "# cas [2,2]\n",
    "combinations_iterator = combinations_with_replacement(range(2), 3)\n",
    "permutations_iterator = [ [p for p in \n",
    "    set(permutations(c))\n",
    "    if not [e for e in p[1:-1] \n",
    "              if len(p)>2 and e==0]]\n",
    "  for c in combinations_iterator\n",
    "  if sum(c)==1 \n",
    "]\n",
    "options_list = list(chain.from_iterable(permutations_iterator))\n",
    "print(f\"solve col of 2+2: {options_list}\")\n",
    "assert options_list == [(0, 1, 0)]"
   ]
  },
  {
   "cell_type": "markdown",
   "metadata": {},
   "source": [
    "The string renderer need also be modified\n",
    "\n",
    "We now have to merge the fillers we computed with the blacks given by the clue\n",
    "\n",
    "(0,1,0) means\n",
    "    O filler before the block\n",
    "    a first block of 2 blacks\n",
    "    1 filler after the block\n",
    "    a second block of 2 blacks\n",
    "    O filler before the block\n",
    "\n",
    "The idea is to use the fillers blocks and the black blocks in parallel. A filler block will remain at the end."
   ]
  },
  {
   "cell_type": "code",
   "execution_count": null,
   "metadata": {},
   "outputs": [],
   "source": [
    "# rendering for split clues\n",
    "col = 2\n",
    "blocks = board.cols_clues[col]\n",
    "option_0 = options_list[0]\n",
    "sequence = []\n",
    "# there are 1 filler block more than black block\n",
    "# zip will iterate in parallel and stop when the shorter is drained\n",
    "for (o, g) in zip(option_0, blocks):\n",
    "    print(f\"{o}o {g}g\", end=\" - \")\n",
    "    sequence.extend([BoardMark.FILLER.value for e in range(o)])\n",
    "    sequence.extend([BoardMark.BLACK.value for e in range(g)])\n",
    "# last filler\n",
    "o = option_0[-1]\n",
    "print(f\"{o}o\")\n",
    "sequence.extend([BoardMark.FILLER.value for e in range(o)])\n",
    "\n",
    "print(f\"sequence: {sequence}\")"
   ]
  },
  {
   "cell_type": "markdown",
   "metadata": {},
   "source": [
    "### refactoring of sequence solver"
   ]
  },
  {
   "cell_type": "code",
   "execution_count": null,
   "metadata": {},
   "outputs": [],
   "source": [
    "from itertools import permutations, chain\n",
    "from itertools import combinations_with_replacement\n",
    "\n",
    "class Sequence:\n",
    "    def __init__(self, clue, a_board_size):\n",
    "        # clue may be an integer (4) or a list ([2,2])\n",
    "        self.clue_blocks = clue if isinstance(clue, list) else [ clue ]\n",
    "\n",
    "        self.board_size = a_board_size\n",
    "        self.options_list = None\n",
    "    \n",
    "\n",
    "    def solve(self):\n",
    "        # total number of blacks on row or col\n",
    "        black_count = sum(self.clue_blocks)\n",
    "        filler_count = self.board_size - black_count\n",
    "        #print(f\"black_count {black_count}\")\n",
    "        #print(f\"filler_count {filler_count}\")\n",
    "\n",
    "        # how must the row or col is split\n",
    "        black_blocks_count = len(self.clue_blocks) \n",
    "        # for 1 black block, filler block are 2 (before, after)\n",
    "        # for split clue, there are fillers in between blocks\n",
    "        filler_blocks_count = black_blocks_count + 1     \n",
    "        #print(f\"black_blocks_count {black_blocks_count}\")\n",
    "        #print(f\"filler_blocks_count {filler_blocks_count}\")\n",
    "\n",
    "        # if we want to fill 2 cells, filler may be 0, 1, 2\n",
    "        # this is equivalent to range(3)\n",
    "        filler_values = range(filler_count + 1)\n",
    "        #print(f\"filler_values {filler_values}\")\n",
    "\n",
    "        # combinations generator \n",
    "        combinations_iterator = combinations_with_replacement(filler_values, filler_blocks_count)\n",
    "        # permutations and filter\n",
    "        # set remove duplicates for (1,1)\n",
    "        permutations_iterator = [ [p for p in \n",
    "                                    set(permutations(c))\n",
    "                                    if not [e for e in p[1:-1] \n",
    "                                              if len(p)>2 and e==0]\n",
    "                                  ]\n",
    "                                  for c in combinations_iterator\n",
    "                                  if sum(c)==filler_count\n",
    "                                ]\n",
    "        # chain flatten all elements in a single list \n",
    "        # (instead of a list of permutations for each combination)\n",
    "        self.options_list = list(chain.from_iterable(permutations_iterator))\n",
    "        return self.options_list\n",
    " \n",
    " \n",
    "    def render(self):    \n",
    "        return [self.render_option(o) for o in self.options_list]\n",
    "    \n",
    "    def render_option(self, option):\n",
    "        sequence = []\n",
    "        # there are 1 filler blocks more than black blocks\n",
    "        # zip will iterate in parallel and stop when the shorter is drained\n",
    "        for (o, g) in zip(option, self.clue_blocks):\n",
    "            #print(f\"{o}o {g}g\", end=\" - \")\n",
    "            sequence.extend([BoardMark.FILLER.value for e in range(o)])\n",
    "            sequence.extend([BoardMark.BLACK.value for e in range(g)])\n",
    "        # last filler\n",
    "        o = option[-1]\n",
    "        #print(f\"{o}o\")\n",
    "        sequence.extend([BoardMark.FILLER.value for e in range(o)])\n",
    "        return \"\".join(sequence)     "
   ]
  },
  {
   "cell_type": "code",
   "execution_count": null,
   "metadata": {},
   "outputs": [],
   "source": [
    "# solve row of 3 amongst 5\n",
    "# xxooo / oooxx / xooox\n",
    "print(f\"== solve row of 3:\")\n",
    "sequence = Sequence(3, 5)\n",
    "options_list = sequence.solve()\n",
    "alternatives = sequence.render()\n",
    "print(f\"options: {options_list}\")\n",
    "assert options_list == [(2, 0), (0, 2), (1, 1)]\n",
    "print(f\"alternatives: {alternatives}\")\n",
    "assert alternatives == ['xxooo', 'oooxx', 'xooox']"
   ]
  },
  {
   "cell_type": "code",
   "execution_count": null,
   "metadata": {},
   "outputs": [],
   "source": [
    "# solve row of 3 amongst 5\n",
    "# xxooo / oooxx / xooox\n",
    "print(f\"== solve solve row of 5:\")\n",
    "sequence = Sequence(5, 5)\n",
    "options_list = sequence.solve()\n",
    "alternatives = sequence.render()\n",
    "print(f\"options: {options_list}\")\n",
    "assert options_list == [(0, 0)]\n",
    "print(f\"alternatives: {alternatives}\")\n",
    "assert alternatives == ['ooooo']"
   ]
  },
  {
   "cell_type": "code",
   "execution_count": null,
   "metadata": {},
   "outputs": [],
   "source": [
    "# solve col of 2+2 amongst 5\n",
    "# ooxoo\n",
    "print(f\"== solve col of 2+2:\")\n",
    "sequence = Sequence([2,2], 5)\n",
    "options_list = sequence.solve()\n",
    "alternatives = sequence.render()\n",
    "print(f\"options: {options_list}\")\n",
    "assert options_list == [(0, 1, 0)]\n",
    "print(f\"alternatives: {alternatives}\")\n",
    "assert alternatives == ['ooxoo']"
   ]
  },
  {
   "cell_type": "code",
   "execution_count": null,
   "metadata": {},
   "outputs": [],
   "source": [
    "# solve row of 1 + 1\n",
    "# oxxxo / xoxxo / xxoxo / oxoxx / xoxox / oxxox / xoxxo \n",
    "print(f\"== solve row of 1+1:\")\n",
    "sequence = Sequence([1,1], 5)\n",
    "options_list = sequence.solve()\n",
    "alternatives = sequence.render()\n",
    "print(f\"options: {options_list}\")\n",
    "assert options_list == [(0, 3, 0), (1, 2, 0), (2, 1, 0), \n",
    "                        (0, 1, 2), (0, 2, 1), (1, 1, 1)]\n",
    "print(f\"alternatives: {alternatives}\")\n",
    "assert alternatives == ['oxxxo', 'xoxxo', 'xxoxo', \n",
    "                        'oxoxx', 'oxxox', 'xoxox']"
   ]
  },
  {
   "cell_type": "markdown",
   "metadata": {},
   "source": [
    "## optimisation - TODO"
   ]
  },
  {
   "cell_type": "code",
   "execution_count": null,
   "metadata": {},
   "outputs": [],
   "source": [
    "# eviter de calculer pour rien quand total + slots au milieu egale cible"
   ]
  },
  {
   "cell_type": "markdown",
   "metadata": {},
   "source": [
    "## Solve the board"
   ]
  },
  {
   "cell_type": "markdown",
   "metadata": {},
   "source": [
    "Now we know how to solve a row or column, and get all possibles ways to arrange black and filler so that it meets the given numbers.\n",
    "\n",
    "How can we solve the board.\n",
    "\n",
    "First we can take the sequences where there are only one option and update the board.\n",
    "\n",
    "When we have updated the board w can use the board information to filter out options that would not fit in the current board status."
   ]
  },
  {
   "cell_type": "markdown",
   "metadata": {},
   "source": [
    "### Update the board"
   ]
  },
  {
   "cell_type": "markdown",
   "metadata": {},
   "source": [
    "First let us try to run through all rows and cols and compute all alternatives sequences.\n",
    "\n",
    "Let us try to build a class upfront\n"
   ]
  },
  {
   "cell_type": "code",
   "execution_count": null,
   "metadata": {},
   "outputs": [],
   "source": [
    "class Alternatives:\n",
    "    def __init__(self, some_axis_definition, a_board_size):\n",
    "        self.board_size = a_board_size\n",
    "        self.axis_definition = some_axis_definition\n",
    "        # dict contains for each element index a list of alternative sequences\n",
    "        self.sequences_map = {}\n",
    "\n",
    "    def scan(self):\n",
    "        for i in range(len(self.axis_definition)):\n",
    "            sequence = Sequence(self.axis_definition[i], self.board_size)\n",
    "            sequence.solve()\n",
    "            self.sequences_map[i] = sequence.render()"
   ]
  },
  {
   "cell_type": "code",
   "execution_count": null,
   "metadata": {},
   "outputs": [],
   "source": [
    "rows_clues = [1, 3, [1,1], 3, 5]\n",
    "cols_clues = [1, 4, [2,2], 4, 1]\n",
    "\n",
    "board = Board(rows_clues, cols_clues )\n",
    "\n",
    "rows_alternatives = Alternatives(rows_clues, board.width)\n",
    "rows_alternatives.scan()\n",
    "cols_alternatives = Alternatives(cols_clues, board.height)\n",
    "cols_alternatives.scan()"
   ]
  },
  {
   "cell_type": "code",
   "execution_count": null,
   "metadata": {},
   "outputs": [],
   "source": [
    "rows_alternatives.sequences_map"
   ]
  },
  {
   "cell_type": "code",
   "execution_count": null,
   "metadata": {},
   "outputs": [],
   "source": [
    "cols_alternatives.sequences_map"
   ]
  },
  {
   "cell_type": "code",
   "execution_count": null,
   "metadata": {},
   "outputs": [],
   "source": [
    "# select sequences with only one option\n",
    "cols_one_option = {i: sequence\n",
    "     for (i, sequence) in cols_alternatives.sequences_map.items()\n",
    "     if len(sequence) == 1\n",
    "    }\n",
    "cols_one_option"
   ]
  },
  {
   "cell_type": "code",
   "execution_count": null,
   "metadata": {},
   "outputs": [],
   "source": [
    "# alternatively select remaining sequences\n",
    "cols_remaining_sequences = {i: sequence\n",
    "             for (i, sequence) in cols_alternatives.sequences_map.items()\n",
    "             if len(sequence) > 1\n",
    "            }\n",
    "cols_remaining_sequences"
   ]
  },
  {
   "cell_type": "code",
   "execution_count": null,
   "metadata": {},
   "outputs": [],
   "source": [
    "choices = { 'o': BoardMark.BLACK, 'x': BoardMark.FILLER,}\n",
    "for (c, sequences) in cols_one_option.items():\n",
    "    sequence = sequences[0] # sole option\n",
    "    print(f\"c {c} sequence {sequence}\")\n",
    "    for r in range(len(sequence)):\n",
    "        print(f\"r {r} value {sequence[r]}\")\n",
    "        board.mark(r, c, choices[sequence[r]]) \n",
    "board.print_board()"
   ]
  },
  {
   "cell_type": "code",
   "execution_count": null,
   "metadata": {},
   "outputs": [],
   "source": [
    "## add some methods to filter the seqeunces\n",
    "\n",
    "class Alternatives:\n",
    "    def __init__(self, some_axis_definition, a_board_size):\n",
    "        self.board_size = a_board_size\n",
    "        self.axis_definition = some_axis_definition\n",
    "        # dict contains for each element index a list of alternative sequences\n",
    "        self.sequences_map = {}\n",
    "\n",
    "    def scan(self):\n",
    "        for i in range(len(self.axis_definition)):\n",
    "            sequence = Sequence(self.axis_definition[i], self.board_size)\n",
    "            sequence.solve()\n",
    "            self.sequences_map[i] = sequence.render()\n",
    "            \n",
    "    def filter_solved(self):\n",
    "        one_option = {i: sequence\n",
    "             for (i, sequence) in self.sequences_map.items()\n",
    "             if len(sequence) == 1\n",
    "            }\n",
    "\n",
    "        cols_remaining_sequences = {i: sequence\n",
    "             for (i, sequence) in self.sequences_map.items()\n",
    "             if len(sequence) > 1\n",
    "            }\n",
    "        self.sequences_map = cols_remaining_sequences\n",
    "        \n",
    "        return one_option"
   ]
  },
  {
   "cell_type": "code",
   "execution_count": null,
   "metadata": {},
   "outputs": [],
   "source": [
    "class BoardSolver:\n",
    "    choices = { 'o': BoardMark.BLACK, 'x': BoardMark.FILLER,}\n",
    "\n",
    "    def __init__(self, a_board):\n",
    "        self.board = a_board\n",
    "        \n",
    "    def scan_sequences(self):\n",
    "        self.rows_alternatives = Alternatives(self.board.rows_clues, self.board.width)\n",
    "        self.rows_alternatives.scan()\n",
    "        self.cols_alternatives = Alternatives(self.board.cols_clues, self.board.height)\n",
    "        self.cols_alternatives.scan()\n",
    "        \n",
    "    def update_board_cols(self):\n",
    "        one_option = self.cols_alternatives.filter_solved()\n",
    "        for (c, sequences) in one_option.items():\n",
    "            sequence = sequences[0] # sole option\n",
    "            for r in range(len(sequence)):\n",
    "                self.board.mark(r, c, choices[sequence[r]]) \n",
    "        \n",
    "    def update_board_rows(self):\n",
    "        one_option = self.rows_alternatives.filter_solved()\n",
    "        for (r, sequences) in one_option.items():\n",
    "            sequence = sequences[0] # sole option\n",
    "            for c in range(len(sequence)):\n",
    "                self.board.mark(r, c, choices[sequence[c]]) \n",
    "        "
   ]
  },
  {
   "cell_type": "code",
   "execution_count": null,
   "metadata": {},
   "outputs": [],
   "source": [
    "rows_clues = [1, 3, [1,1], 3, 5]\n",
    "cols_clues = [1, 4, [2,2], 4, 1]\n",
    "\n",
    "board = Board(rows_clues, cols_clues )\n",
    "\n",
    "solver = BoardSolver(board)\n",
    "solver.scan_sequences()\n",
    "solver.update_board_cols()\n",
    "solver.update_board_rows()\n",
    "\n",
    "board.print_board()"
   ]
  },
  {
   "cell_type": "code",
   "execution_count": null,
   "metadata": {},
   "outputs": [],
   "source": [
    "rows_sequences = solver.rows_alternatives.sequences_map\n",
    "rows_sequences"
   ]
  },
  {
   "cell_type": "code",
   "execution_count": null,
   "metadata": {},
   "outputs": [],
   "source": [
    "cols_sequences = solver.cols_alternatives.sequences_map\n",
    "cols_sequences"
   ]
  },
  {
   "cell_type": "markdown",
   "metadata": {},
   "source": [
    "Note that row 4 and col 2 have been removed"
   ]
  },
  {
   "cell_type": "markdown",
   "metadata": {},
   "source": [
    "### Next step, deal with multiple options"
   ]
  },
  {
   "cell_type": "code",
   "execution_count": null,
   "metadata": {},
   "outputs": [],
   "source": [
    "# col 1 has two options xoooo and oooox. \n",
    "# based on the current board state the last row should contain o\n",
    "# only xoooo matches and we can remove the other one "
   ]
  },
  {
   "cell_type": "code",
   "execution_count": null,
   "metadata": {},
   "outputs": [],
   "source": [
    "# algorithm\n",
    "# 1) compure options for all rows and cols\n",
    "# 2) for each row and col if there is only one option, update the board\n",
    "# 3) use the updated board to remove invalid options\n",
    "# 4) go to 2) until there are no more options"
   ]
  },
  {
   "cell_type": "code",
   "execution_count": null,
   "metadata": {},
   "outputs": [],
   "source": [
    "# On the exemple, we know the last row is ooooo\n",
    "# we can remove cols options were the last row is not o\n",
    "# converselly it means keeping only cols where the last row has o\n",
    "\n",
    "# let us try for the first column\n",
    "first_col_sequences = cols_sequences[0]\n",
    "first_col_sequences"
   ]
  },
  {
   "cell_type": "code",
   "execution_count": null,
   "metadata": {},
   "outputs": [],
   "source": [
    "# filter sequences where last row is o\n",
    "row = 4\n",
    "[ s \n",
    "    for s in cols_sequences[0]\n",
    "    if s[row] == 'o'\n",
    "]"
   ]
  },
  {
   "cell_type": "code",
   "execution_count": null,
   "metadata": {},
   "outputs": [],
   "source": [
    "# filter sequences where last row is o\n",
    "# applied to the whole dict in one go\n",
    "# must build a dict with same shape than the source dict\n",
    "row = 4\n",
    "{c: [s for s in sequence if s[row] == 'o']\n",
    "     for (c, sequence) in cols_sequences.items()\n",
    "}"
   ]
  },
  {
   "cell_type": "markdown",
   "metadata": {},
   "source": [
    "We can now update the board with these sequences"
   ]
  },
  {
   "cell_type": "markdown",
   "metadata": {},
   "source": [
    "### refactoring of Alternative to add filter_valid"
   ]
  },
  {
   "cell_type": "code",
   "execution_count": null,
   "metadata": {},
   "outputs": [],
   "source": [
    "\n",
    "class Alternatives:\n",
    "    def __init__(self, some_axis_definition, a_board_size):\n",
    "        self.board_size = a_board_size\n",
    "        self.axis_definition = some_axis_definition\n",
    "        # dict contains for each element index a list of alternative sequences\n",
    "        self.sequences_map = {}\n",
    "\n",
    "    def scan(self):\n",
    "        for i in range(len(self.axis_definition)):\n",
    "            sequence = Sequence(self.axis_definition[i], self.board_size)\n",
    "            sequence.solve()\n",
    "            self.sequences_map[i] = sequence.render()\n",
    "            \n",
    "    def filter_solved(self):\n",
    "        one_option = {i: sequence\n",
    "             for (i, sequence) in self.sequences_map.items()\n",
    "             if len(sequence) == 1\n",
    "            }\n",
    "\n",
    "        remaining_sequences = {i: sequence\n",
    "             for (i, sequence) in self.sequences_map.items()\n",
    "             if len(sequence) > 1\n",
    "            }\n",
    "        self.sequences_map = remaining_sequences\n",
    "        \n",
    "        return one_option\n",
    "\n",
    "            \n",
    "    def select_valid_row(self, row, col, cell_value):\n",
    "        if row in self.sequences_map: # may have been solved\n",
    "            self.sequences_map[row] = [ s for s in self.sequences_map[row]\n",
    "                                         if s[col] == cell_value ]\n",
    "    \n",
    "    def select_valid_col(self, row, col, cell_value):\n",
    "        if col in self.sequences_map: # may have been solved\n",
    "            self.sequences_map[col] = [ s for s in self.sequences_map[col]\n",
    "                                     if s[row] == cell_value ]\n",
    "\n"
   ]
  },
  {
   "cell_type": "code",
   "execution_count": null,
   "metadata": {},
   "outputs": [],
   "source": [
    "rows_clues = [1, 3, [1,1], 3, 5]\n",
    "cols_clues = [1, 4, [2,2], 4, 1]\n",
    "\n",
    "board = Board(rows_clues, cols_clues )\n",
    "\n",
    "solver = BoardSolver(board)\n",
    "solver.scan_sequences()\n",
    "solver.update_board_cols()\n",
    "solver.update_board_rows()\n",
    "\n",
    "board.print_board()\n",
    "\n",
    "# valid sequences\n",
    "for r in range(board.height):\n",
    "    for c in range(board.width):\n",
    "        pos = c + (r * board.width) \n",
    "        #board.cell_pos(r, c)   \n",
    "        cell = board.cells[pos]\n",
    "        if cell in ['o', 'x']:\n",
    "            print(f\"row:{r} col:{c} cell[{pos}] {cell}\")\n",
    "            solver.rows_alternatives.select_valid_row(r, c, cell)\n",
    "            solver.cols_alternatives.select_valid_col(r, c, cell)\n",
    "\n",
    "solver.update_board_cols()\n",
    "solver.update_board_rows()\n",
    "\n",
    "board.print_board()"
   ]
  },
  {
   "cell_type": "markdown",
   "metadata": {},
   "source": [
    "Voila !"
   ]
  },
  {
   "cell_type": "markdown",
   "metadata": {},
   "source": [
    "the solver algorithme is \n",
    "```\n",
    "scan_sequences`\n",
    "# only one option\n",
    "update_board_cols\n",
    "update_board_rows\n",
    "while stop_condition:\n",
    "    select_valid_sequences\n",
    "    update_board_cols\n",
    "    update_board_rows\n",
    "```\n",
    "\n",
    "How do we know that the board is solved and stop_condition is met ?"
   ]
  },
  {
   "cell_type": "markdown",
   "metadata": {},
   "source": [
    "The board is solved when there is no '.' left"
   ]
  },
  {
   "cell_type": "code",
   "execution_count": null,
   "metadata": {},
   "outputs": [],
   "source": [
    "'.' in board.cells"
   ]
  },
  {
   "cell_type": "markdown",
   "metadata": {},
   "source": [
    "### refactoring of Board and Solver"
   ]
  },
  {
   "cell_type": "code",
   "execution_count": null,
   "metadata": {},
   "outputs": [],
   "source": [
    "class Board:\n",
    "    '''\n",
    "    Manage the board.\n",
    "    Board implemented as the list of cells.\n",
    "    The list of cells represents the concatenation of each row.\n",
    "    '''\n",
    "    \n",
    "    \n",
    "    def __init__(self, some_rows_clues, some_cols_clues):\n",
    "        '''\n",
    "        board constructor\n",
    "        '''\n",
    "        # given parameters\n",
    "        self.rows_clues = some_rows_clues\n",
    "        self.cols_clues = some_cols_clues\n",
    "        # compute board dimensions\n",
    "        self.width = len(self.cols_clues) \n",
    "        self.height = len(self.rows_clues) \n",
    "        # initialize the board\n",
    "        self.cells = []\n",
    "        self.reset()\n",
    "\n",
    "    def reset(self):\n",
    "        '''\n",
    "        reset the board\n",
    "        '''\n",
    "        cells_count = self.width * self.height\n",
    "        init_value = BoardMark.INIT.value\n",
    "        board_generator = repeat(init_value, cells_count)\n",
    "        self.cells = list(board_generator)\n",
    "        \n",
    "    def mark(self, row, col, mark):\n",
    "        '''\n",
    "        mark a cell\n",
    "        '''\n",
    "        pos = col + (row * self.width) \n",
    "        self.cells[pos] = mark.value\n",
    "\n",
    "    def get_cell_value(self, row, col):\n",
    "        pos = col + (row * self.width) \n",
    "        return self.cells[pos]\n",
    "\n",
    "    def is_solved(self):\n",
    "        return not \".\" in self.cells\n",
    "\n",
    "    def print_board(self):\n",
    "        '''\n",
    "        pretty print of the board using row and col length\n",
    "        '''\n",
    "        print(\"cols:\", end=\" \")\n",
    "        print(*self.cols_clues) # * unpacks and remove []s\n",
    "        print(\"rows:\")\n",
    "        [print(r) for r in self.rows_clues]\n",
    "          \n",
    "        # i and j are the position of first cell and last cell of a row\n",
    "        i = 0\n",
    "        j = self.width\n",
    "        # for each row\n",
    "        for row in range(self.height):\n",
    "            # the * unpacks the list and print only the values\n",
    "            print(*self.cells[i:j])\n",
    "            i = j \n",
    "            j = i + self.width\n"
   ]
  },
  {
   "cell_type": "code",
   "execution_count": null,
   "metadata": {},
   "outputs": [],
   "source": [
    "class BoardSolver:\n",
    "    choices = { 'o': BoardMark.BLACK, 'x': BoardMark.FILLER,}\n",
    "\n",
    "    def __init__(self, a_board):\n",
    "        self.board = a_board\n",
    "     \n",
    "    def solve(self):\n",
    "        self.scan_sequences()\n",
    "        self.update_board_cols()\n",
    "        self.update_board_rows()\n",
    "        self.board.print_board()\n",
    "        while not self.board.is_solved():\n",
    "            for r in range(self.board.height):\n",
    "                for c in range(self.board.width):\n",
    "                    cell = self.board.get_cell_value(r, c)\n",
    "                    if cell in ['o', 'x']:\n",
    "                        #print(f\"row:{r} col:{c} cell[{pos}] {cell}\")\n",
    "                        self.rows_alternatives.select_valid_row(r, c, cell)\n",
    "                        self.cols_alternatives.select_valid_col(r, c, cell)\n",
    "\n",
    "            self.update_board_cols()\n",
    "            self.update_board_rows()\n",
    "            self.board.print_board()\n",
    " \n",
    "\n",
    "    def scan_sequences(self):\n",
    "        self.rows_alternatives = Alternatives(self.board.rows_clues, self.board.width)\n",
    "        self.rows_alternatives.scan()\n",
    "        self.cols_alternatives = Alternatives(self.board.cols_clues, self.board.height)\n",
    "        self.cols_alternatives.scan()\n",
    "        \n",
    "    def update_board_cols(self):\n",
    "        one_option = self.cols_alternatives.filter_solved()\n",
    "        for (c, sequences) in one_option.items():\n",
    "            sequence = sequences[0] # sole option\n",
    "            for r in range(len(sequence)):\n",
    "                self.board.mark(r, c, choices[sequence[r]]) \n",
    "        \n",
    "    def update_board_rows(self):\n",
    "        one_option = self.rows_alternatives.filter_solved()\n",
    "        for (r, sequences) in one_option.items():\n",
    "            sequence = sequences[0] # sole option\n",
    "            for c in range(len(sequence)):\n",
    "                self.board.mark(r, c, choices[sequence[c]]) \n",
    "    "
   ]
  },
  {
   "cell_type": "code",
   "execution_count": null,
   "metadata": {},
   "outputs": [],
   "source": [
    "rows_clues = [1, 3, [1,1], 3, 5]\n",
    "cols_clues = [1, 4, [2,2], 4, 1]\n",
    "\n",
    "board = Board(rows_clues, cols_clues )\n",
    "\n",
    "solver = BoardSolver(board)\n",
    "solver.solve()"
   ]
  },
  {
   "cell_type": "markdown",
   "metadata": {},
   "source": [
    "Voila !"
   ]
  },
  {
   "cell_type": "markdown",
   "metadata": {},
   "source": [
    "# -----"
   ]
  },
  {
   "cell_type": "code",
   "execution_count": null,
   "metadata": {},
   "outputs": [],
   "source": [
    "## check result"
   ]
  },
  {
   "cell_type": "code",
   "execution_count": null,
   "metadata": {},
   "outputs": [],
   "source": [
    "[print(*g) for k, g in groupby(board.cells)]"
   ]
  },
  {
   "cell_type": "code",
   "execution_count": null,
   "metadata": {},
   "outputs": [],
   "source": [
    "### lines"
   ]
  },
  {
   "cell_type": "code",
   "execution_count": null,
   "metadata": {},
   "outputs": [],
   "source": [
    "from itertools import groupby\n",
    "[print(c, end=\"\") for c in board.cells]\n",
    "print()"
   ]
  },
  {
   "cell_type": "code",
   "execution_count": null,
   "metadata": {},
   "outputs": [],
   "source": [
    "lines = [board.cells[r:r+5]\n",
    "         for r in range(0, 25, 5)]\n",
    "lines"
   ]
  },
  {
   "cell_type": "code",
   "execution_count": null,
   "metadata": {},
   "outputs": [],
   "source": [
    "[ [(k,*g) for k,g in groupby(line)]\n",
    "  for line in lines\n",
    "]"
   ]
  },
  {
   "cell_type": "code",
   "execution_count": null,
   "metadata": {},
   "outputs": [],
   "source": [
    "[ [(k,*g) for k,g in groupby(line) if k=='o']\n",
    "  for line in lines\n",
    "]"
   ]
  },
  {
   "cell_type": "code",
   "execution_count": null,
   "metadata": {},
   "outputs": [],
   "source": [
    "[ [len(list(g)) for k,g in groupby(line) if k=='o']\n",
    "  for line in lines\n",
    "]"
   ]
  },
  {
   "cell_type": "code",
   "execution_count": null,
   "metadata": {},
   "outputs": [],
   "source": [
    "### cols"
   ]
  },
  {
   "cell_type": "code",
   "execution_count": null,
   "metadata": {},
   "outputs": [],
   "source": [
    "cols = [ [board.cells[c+r*5]\n",
    "         for r in range(0, 5)]\n",
    "         for c in range(0, 5)]\n",
    "cols"
   ]
  },
  {
   "cell_type": "code",
   "execution_count": null,
   "metadata": {},
   "outputs": [],
   "source": [
    "[ [len(list(g)) for k,g in groupby(line) if k=='o']\n",
    "  for line in cols\n",
    "]"
   ]
  },
  {
   "cell_type": "code",
   "execution_count": null,
   "metadata": {},
   "outputs": [],
   "source": [
    "lines = [ [board.cells[c+r*5]\n",
    "         for c in range(0, 5)]\n",
    "         for r in range(0, 5)]\n",
    "lines"
   ]
  },
  {
   "cell_type": "markdown",
   "metadata": {},
   "source": [
    "# ------"
   ]
  },
  {
   "cell_type": "markdown",
   "metadata": {},
   "source": [
    "## Is is robust ?\n",
    "\n",
    "What might go wrong ?\n",
    "\n",
    "Can we ensure the stop condition is always met ?\n",
    "\n",
    "What could go wrong ?\n",
    "\n",
    "The first step is to find rows or cols with only one options. What happend if all rows or cols clues lead to multiple options ?\n",
    "\n",
    "for instance [1, 1, 1, 1, 1] and [1, 1, 1, 1, 1] lead to 2 solutions (each diagonal). However after the scan there is no unique option to update the board.\n",
    "As there is no new information on the board, it cannot be used to filyter out inconsistent sequences.\n",
    "\n",
    "The second step might also fail to move toward the solution.  Maybe the board will remove some options without letting only one option. Thus there are no new information to update the board."
   ]
  },
  {
   "cell_type": "markdown",
   "metadata": {},
   "source": [
    "A safety net condition would be to check whether the board changed and stop if the board is unchanged during the iteration."
   ]
  },
  {
   "cell_type": "code",
   "execution_count": null,
   "metadata": {},
   "outputs": [],
   "source": [
    "TODO"
   ]
  },
  {
   "cell_type": "code",
   "execution_count": null,
   "metadata": {},
   "outputs": [],
   "source": []
  }
 ],
 "metadata": {
  "kernelspec": {
   "display_name": "Python 3 (ipykernel)",
   "language": "python",
   "name": "python3"
  },
  "language_info": {
   "codemirror_mode": {
    "name": "ipython",
    "version": 3
   },
   "file_extension": ".py",
   "mimetype": "text/x-python",
   "name": "python",
   "nbconvert_exporter": "python",
   "pygments_lexer": "ipython3",
   "version": "3.9.7"
  }
 },
 "nbformat": 4,
 "nbformat_minor": 2
}
