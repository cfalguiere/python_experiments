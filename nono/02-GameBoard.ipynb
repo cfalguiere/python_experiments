{
 "cells": [
  {
   "cell_type": "markdown",
   "metadata": {},
   "source": [
    "# Show a better game board"
   ]
  },
  {
   "cell_type": "markdown",
   "metadata": {},
   "source": [
    "Goal: Implement a better game board rendition with Matplotlib"
   ]
  },
  {
   "cell_type": "code",
   "execution_count": 82,
   "metadata": {},
   "outputs": [],
   "source": [
    "from boardutilsv1 import Board, BoardMark\n",
    "import numpy as np"
   ]
  },
  {
   "cell_type": "code",
   "execution_count": 83,
   "metadata": {},
   "outputs": [
    {
     "name": "stdout",
     "output_type": "stream",
     "text": [
      "cols: 2 1\n",
      "rows:\n",
      "1\n",
      "2\n",
      "[['.' '.']\n",
      " ['.' '.']]\n",
      "cols: 2 1\n",
      "rows:\n",
      "1\n",
      "2\n",
      "[['.' 'x']\n",
      " ['.' 'o']]\n"
     ]
    }
   ],
   "source": [
    "# clues for mini game\n",
    "clues = {\n",
    "    'rows': [1, 2],\n",
    "    'cols': [2, 1]\n",
    "}\n",
    "board = Board(clues)\n",
    "board.prettyprint()\n",
    "board.mark(0, 1, BoardMark.FILLER) \n",
    "board.mark(1, 1, BoardMark.BLACK) \n",
    "board.prettyprint()"
   ]
  },
  {
   "cell_type": "markdown",
   "metadata": {},
   "source": [
    "## basic board setup"
   ]
  },
  {
   "cell_type": "code",
   "execution_count": 84,
   "metadata": {},
   "outputs": [],
   "source": [
    "%matplotlib inline"
   ]
  },
  {
   "cell_type": "code",
   "execution_count": 85,
   "metadata": {},
   "outputs": [],
   "source": [
    "import matplotlib.pyplot as plt"
   ]
  },
  {
   "cell_type": "code",
   "execution_count": 86,
   "metadata": {},
   "outputs": [
    {
     "data": {
      "image/png": "[encoded data removed]",
      "text/plain": [
       "<Figure size 144x144 with 1 Axes>"
      ]
     },
     "metadata": {
      "needs_background": "light"
     },
     "output_type": "display_data"
    }
   ],
   "source": [
    "# start from basic example\n",
    "\n",
    "data = board.states\n",
    "# set some canvas\n",
    "fig, ax = plt.subplots(figsize=(2,2))\n",
    "# draw a heatmap\n",
    "heatmap = ax.pcolor(data, cmap=plt.cm.Blues)\n",
    "\n",
    "# ensure square cells\n",
    "ax.set_aspect(\"equal\")\n",
    "\n",
    "# -1 very light blue, 0 filler, 1 black"
   ]
  },
  {
   "cell_type": "code",
   "execution_count": 87,
   "metadata": {},
   "outputs": [
    {
     "data": {
      "image/png": "[encoded data removed]",
      "text/plain": [
       "<Figure size 144x144 with 1 Axes>"
      ]
     },
     "metadata": {
      "needs_background": "light"
     },
     "output_type": "display_data"
    }
   ],
   "source": [
    "# better tick placement : one per cell and centered\n",
    "\n",
    "data = board.states\n",
    "# set some canvas\n",
    "fig, ax = plt.subplots(figsize=(2,2))\n",
    "# draw a heatmap\n",
    "heatmap = ax.pcolor(board.states, cmap=plt.cm.Blues)\n",
    "\n",
    "# ensure square cells\n",
    "ax.set_aspect(\"equal\")\n",
    "\n",
    "# put the major ticks at the middle of each cell\n",
    "ax.set_xticks(np.arange(data.shape[1]) + 0.5, minor=False)\n",
    "ax.set_yticks(np.arange(data.shape[0]) + 0.5, minor=False)\n",
    "\n",
    "# put labels on top\n",
    "ax.invert_yaxis()\n",
    "ax.xaxis.tick_top()\n"
   ]
  },
  {
   "cell_type": "code",
   "execution_count": 88,
   "metadata": {},
   "outputs": [
    {
     "data": {
      "text/plain": [
       "[Text(0, 0, '1'), Text(0, 0, '2')]"
      ]
     },
     "execution_count": 88,
     "metadata": {},
     "output_type": "execute_result"
    },
    {
     "data": {
      "image/png": "[encoded data removed]",
      "text/plain": [
       "<Figure size 144x144 with 1 Axes>"
      ]
     },
     "metadata": {
      "needs_background": "light"
     },
     "output_type": "display_data"
    }
   ],
   "source": [
    "# set the clues as labels \n",
    "\n",
    "data = board.states\n",
    "# set some canvas\n",
    "fig, ax = plt.subplots(figsize=(2,2))\n",
    "# draw a heatmap\n",
    "heatmap = ax.pcolor(board.states, cmap=plt.cm.Blues)\n",
    "\n",
    "# ensure square cells\n",
    "ax.set_aspect(\"equal\")\n",
    "\n",
    "# put the major ticks at the middle of each cell\n",
    "ax.set_xticks(np.arange(data.shape[1]) + 0.5, minor=False)\n",
    "ax.set_yticks(np.arange(data.shape[0]) + 0.5, minor=False)\n",
    "\n",
    "# put labels on top\n",
    "ax.invert_yaxis()\n",
    "ax.xaxis.tick_top()\n",
    "\n",
    "# set labels\n",
    "column_labels = clues['cols']\n",
    "row_labels = clues['rows']\n",
    "\n",
    "ax.set_xticklabels(column_labels, minor=False)\n",
    "ax.set_yticklabels(row_labels, minor=False)\n"
   ]
  },
  {
   "cell_type": "markdown",
   "metadata": {},
   "source": [
    "### annotate fillers with x"
   ]
  },
  {
   "cell_type": "code",
   "execution_count": 89,
   "metadata": {},
   "outputs": [
    {
     "data": {
      "text/plain": [
       "Text(1.5, 0.5, 'X')"
      ]
     },
     "execution_count": 89,
     "metadata": {},
     "output_type": "execute_result"
    },
    {
     "data": {
      "image/png": "[encoded data removed]",
      "text/plain": [
       "<Figure size 72x72 with 1 Axes>"
      ]
     },
     "metadata": {
      "needs_background": "light"
     },
     "output_type": "display_data"
    }
   ],
   "source": [
    "# annotate fillers with x\n",
    "\n",
    "data = board.states\n",
    "# set some canvas\n",
    "fig, ax = plt.subplots(figsize=(1,1))\n",
    "# draw a heatmap\n",
    "heatmap = ax.pcolor(board.states, cmap=plt.cm.Blues)\n",
    "\n",
    "# ensure square cells\n",
    "ax.set_aspect(\"equal\")\n",
    "\n",
    "# put the major ticks at the middle of each cell\n",
    "ax.set_xticks(np.arange(data.shape[1]) + 0.5, minor=False)\n",
    "ax.set_yticks(np.arange(data.shape[0]) + 0.5, minor=False)\n",
    "\n",
    "# put labels on top\n",
    "ax.invert_yaxis()\n",
    "ax.xaxis.tick_top()\n",
    "\n",
    "# set labels\n",
    "column_labels = clues['cols']\n",
    "row_labels = clues['rows']\n",
    "\n",
    "ax.set_xticklabels(column_labels, minor=False)\n",
    "ax.set_yticklabels(row_labels, minor=False)\n",
    "\n",
    "\n",
    "# annotate fillers\n",
    "# must compute the coordinates from index\n",
    "plt.text(1.5, 0.5, 'X', \n",
    "         verticalalignment='center_baseline',\n",
    "         horizontalalignment='center',\n",
    "         fontsize='xx-large')\n"
   ]
  },
  {
   "cell_type": "code",
   "execution_count": 90,
   "metadata": {},
   "outputs": [
    {
     "data": {
      "text/plain": [
       "[(0, -1), (1, 0), (2, -1), (3, 1)]"
      ]
     },
     "execution_count": 90,
     "metadata": {},
     "output_type": "execute_result"
    }
   ],
   "source": [
    "# filter fillers' coordinates as a list of (x,y)\n",
    "# enumerate add position before each cell\n",
    "# reshape flatten the list of list to be a single list\n",
    "[p for p in enumerate(board.states.reshape(4)) ]\n"
   ]
  },
  {
   "cell_type": "code",
   "execution_count": 91,
   "metadata": {},
   "outputs": [
    {
     "data": {
      "text/plain": [
       "[1]"
      ]
     },
     "execution_count": 91,
     "metadata": {},
     "output_type": "execute_result"
    }
   ],
   "source": [
    "# expect cell at pos 1 : row=0 col=1\n",
    "# 4 is the number of cells in the board (2x2)\n",
    "[p for (p,v) in enumerate(board.states.reshape(4)) \n",
    "        if v==0]\n"
   ]
  },
  {
   "cell_type": "code",
   "execution_count": 92,
   "metadata": {},
   "outputs": [
    {
     "data": {
      "text/plain": [
       "[(1, 0)]"
      ]
     },
     "execution_count": 92,
     "metadata": {},
     "output_type": "execute_result"
    }
   ],
   "source": [
    "# expect (col,row) is (1,0) for row=0 col=1\n",
    "[(p%2,int(p/2)) for (p,v) in enumerate(board.states.reshape(4)) \n",
    "        if v==0]"
   ]
  },
  {
   "cell_type": "code",
   "execution_count": 93,
   "metadata": {},
   "outputs": [
    {
     "data": {
      "image/png": "[encoded data removed]",
      "text/plain": [
       "<Figure size 72x72 with 1 Axes>"
      ]
     },
     "metadata": {
      "needs_background": "light"
     },
     "output_type": "display_data"
    }
   ],
   "source": [
    "# annotate fillers with x\n",
    "\n",
    "data = board.states\n",
    "# set some canvas\n",
    "fig, ax = plt.subplots(figsize=(1,1))\n",
    "# draw a heatmap\n",
    "heatmap = ax.pcolor(board.states, cmap=plt.cm.Blues)\n",
    "\n",
    "# ensure square cells\n",
    "ax.set_aspect(\"equal\")\n",
    "\n",
    "# put the major ticks at the middle of each cell\n",
    "ax.set_xticks(np.arange(data.shape[1]) + 0.5, minor=False)\n",
    "ax.set_yticks(np.arange(data.shape[0]) + 0.5, minor=False)\n",
    "\n",
    "# put labels on top\n",
    "ax.invert_yaxis()\n",
    "ax.xaxis.tick_top()\n",
    "\n",
    "# set labels\n",
    "column_labels = clues['cols']\n",
    "row_labels = clues['rows']\n",
    "\n",
    "ax.set_xticklabels(column_labels, minor=False)\n",
    "ax.set_yticklabels(row_labels, minor=False)\n",
    "\n",
    "\n",
    "# annotate fillers\n",
    "# expect (col,row) is (1,0) for row=0 col=1\n",
    "w = board.width\n",
    "h = board.height\n",
    "nc = board.width * board.height\n",
    "fillers_coordinates = [(p%w + 0.5, int(p/h) + 0.5) \n",
    "                       for (p,v) in enumerate(board.states.reshape(nc)) \n",
    "                       if v==0]\n",
    "# place an X in the center of each coordinate\n",
    "for coord in fillers_coordinates:\n",
    "    plt.text(coord[0], coord[1], 'X', \n",
    "         verticalalignment='center_baseline',\n",
    "         horizontalalignment='center',\n",
    "         fontsize='xx-large')\n"
   ]
  },
  {
   "cell_type": "markdown",
   "metadata": {},
   "source": [
    "### change color of filler for white"
   ]
  },
  {
   "cell_type": "code",
   "execution_count": 94,
   "metadata": {},
   "outputs": [
    {
     "data": {
      "text/plain": [
       "{'red': [(0.0, 0.9686274509803922, 0.9686274509803922),\n",
       "  (0.125, 0.8705882352941177, 0.8705882352941177),\n",
       "  (0.25, 0.7764705882352941, 0.7764705882352941),\n",
       "  (0.375, 0.6196078431372549, 0.6196078431372549),\n",
       "  (0.5, 0.4196078431372549, 0.4196078431372549),\n",
       "  (0.625, 0.25882352941176473, 0.25882352941176473),\n",
       "  (0.75, 0.12941176470588237, 0.12941176470588237),\n",
       "  (0.875, 0.03137254901960784, 0.03137254901960784),\n",
       "  (1.0, 0.03137254901960784, 0.03137254901960784)],\n",
       " 'green': [(0.0, 0.984313725490196, 0.984313725490196),\n",
       "  (0.125, 0.9215686274509803, 0.9215686274509803),\n",
       "  (0.25, 0.8588235294117647, 0.8588235294117647),\n",
       "  (0.375, 0.792156862745098, 0.792156862745098),\n",
       "  (0.5, 0.6823529411764706, 0.6823529411764706),\n",
       "  (0.625, 0.5725490196078431, 0.5725490196078431),\n",
       "  (0.75, 0.44313725490196076, 0.44313725490196076),\n",
       "  (0.875, 0.3176470588235294, 0.3176470588235294),\n",
       "  (1.0, 0.18823529411764706, 0.18823529411764706)],\n",
       " 'blue': [(0.0, 1.0, 1.0),\n",
       "  (0.125, 0.9686274509803922, 0.9686274509803922),\n",
       "  (0.25, 0.9372549019607843, 0.9372549019607843),\n",
       "  (0.375, 0.8823529411764706, 0.8823529411764706),\n",
       "  (0.5, 0.8392156862745098, 0.8392156862745098),\n",
       "  (0.625, 0.7764705882352941, 0.7764705882352941),\n",
       "  (0.75, 0.7098039215686275, 0.7098039215686275),\n",
       "  (0.875, 0.611764705882353, 0.611764705882353),\n",
       "  (1.0, 0.4196078431372549, 0.4196078431372549)],\n",
       " 'alpha': [(0.0, 1, 1),\n",
       "  (0.125, 1, 1),\n",
       "  (0.25, 1, 1),\n",
       "  (0.375, 1, 1),\n",
       "  (0.5, 1, 1),\n",
       "  (0.625, 1, 1),\n",
       "  (0.75, 1, 1),\n",
       "  (0.875, 1, 1),\n",
       "  (1.0, 1, 1)]}"
      ]
     },
     "execution_count": 94,
     "metadata": {},
     "output_type": "execute_result"
    }
   ],
   "source": [
    "import matplotlib.cm as cm\n",
    "from matplotlib.colors import LinearSegmentedColormap\n",
    "cdict = cm.get_cmap('Blues')._segmentdata\n",
    "cdict"
   ]
  },
  {
   "cell_type": "code",
   "execution_count": 95,
   "metadata": {},
   "outputs": [
    {
     "data": {
      "text/plain": [
       "{'red': [(0.0, 0.6196078431372549, 0.6196078431372549),\n",
       "  (0.5, 1.0, 1.0),\n",
       "  (1.0, 0.03137254901960784, 0.03137254901960784)],\n",
       " 'green': [(0.0, 0.792156862745098, 0.792156862745098),\n",
       "  (0.5, 1.0, 1.0),\n",
       "  (1.0, 0.18823529411764706, 0.18823529411764706)],\n",
       " 'blue': [(0.0, 0.8823529411764706, 0.8823529411764706),\n",
       "  (0.5, 1.0, 1.0),\n",
       "  (1.0, 0.4196078431372549, 0.4196078431372549)],\n",
       " 'alpha': [(0.0, 1.0, 1.0), (0.5, 1.0, 1.0), (1.0, 1.0, 1.0)]}"
      ]
     },
     "execution_count": 95,
     "metadata": {},
     "output_type": "execute_result"
    }
   ],
   "source": [
    "cdict = {'red': [(0.0, 0.6196078431372549, 0.6196078431372549),\n",
    "  (0.5, 1.0, 1.0),\n",
    "  (1.0, 0.03137254901960784, 0.03137254901960784)],\n",
    " 'green': [(0.0, 0.792156862745098, 0.792156862745098),\n",
    "  (0.5, 1.0, 1.0),\n",
    "  (1.0, 0.18823529411764706, 0.18823529411764706)],\n",
    " 'blue': [(0.0, 0.8823529411764706, 0.8823529411764706),\n",
    "  (0.5, 1.0, 1.0),\n",
    "  (1.0, 0.4196078431372549, 0.4196078431372549)],\n",
    " 'alpha': [(0.0, 1.0, 1.0),\n",
    "  (0.5, 1.0, 1.0),\n",
    "  (1.0, 1.0, 1.0)]}\n",
    "nono_cmap = LinearSegmentedColormap('nono', cdict)\n",
    "cdict"
   ]
  },
  {
   "cell_type": "code",
   "execution_count": 96,
   "metadata": {},
   "outputs": [
    {
     "data": {
      "image/png": "[encoded data removed]",
      "text/plain": [
       "<Figure size 72x72 with 1 Axes>"
      ]
     },
     "metadata": {
      "needs_background": "light"
     },
     "output_type": "display_data"
    }
   ],
   "source": [
    "import matplotlib.pyplot as plt\n",
    "import matplotlib.cm as cm\n",
    "from matplotlib.colors import LinearSegmentedColormap\n",
    "\n",
    "cdict = {'red': [(0.0, 0.6196078431372549, 0.6196078431372549),\n",
    "  (0.5, 1.0, 1.0),\n",
    "  (1.0, 0.03137254901960784, 0.03137254901960784)],\n",
    " 'green': [(0.0, 0.792156862745098, 0.792156862745098),\n",
    "  (0.5, 1.0, 1.0),\n",
    "  (1.0, 0.18823529411764706, 0.18823529411764706)],\n",
    " 'blue': [(0.0, 0.8823529411764706, 0.8823529411764706),\n",
    "  (0.5, 1.0, 1.0),\n",
    "  (1.0, 0.4196078431372549, 0.4196078431372549)],\n",
    " 'alpha': [(0.0, 1.0, 1.0),\n",
    "  (0.5, 1.0, 1.0),\n",
    "  (1.0, 1.0, 1.0)]}\n",
    "nono_cmap = LinearSegmentedColormap('nono', cdict)\n",
    "cdict\n",
    "\n",
    "# annotate fillers with x\n",
    "\n",
    "data = board.states\n",
    "# set some canvas\n",
    "fig, ax = plt.subplots(figsize=(1,1))\n",
    "# draw a heatmap\n",
    "heatmap = ax.pcolor(board.states, cmap=nono_cmap)\n",
    "\n",
    "# ensure square cells\n",
    "ax.set_aspect(\"equal\")\n",
    "\n",
    "# put the major ticks at the middle of each cell\n",
    "ax.set_xticks(np.arange(data.shape[1]) + 0.5, minor=False)\n",
    "ax.set_yticks(np.arange(data.shape[0]) + 0.5, minor=False)\n",
    "\n",
    "# put labels on top\n",
    "ax.invert_yaxis()\n",
    "ax.xaxis.tick_top()\n",
    "\n",
    "# set labels\n",
    "column_labels = clues['cols']\n",
    "row_labels = clues['rows']\n",
    "\n",
    "ax.set_xticklabels(column_labels, minor=False)\n",
    "ax.set_yticklabels(row_labels, minor=False)\n",
    "\n",
    "\n",
    "# annotate fillers\n",
    "# expect (col,row) is (1,0) for row=0 col=1\n",
    "w = board.width\n",
    "h = board.height\n",
    "nc = board.width * board.height\n",
    "fillers_coordinates = [(p%w + 0.5, int(p/w) + 0.5) \n",
    "                       for (p,v) in enumerate(board.states.reshape(nc)) \n",
    "                       if v==0]\n",
    "# place an X in the center of each coordinate\n",
    "for coord in fillers_coordinates:\n",
    "    plt.text(coord[0], coord[1], 'X', \n",
    "         verticalalignment='center_baseline',\n",
    "         horizontalalignment='center',\n",
    "         fontsize='xx-large')\n"
   ]
  },
  {
   "cell_type": "code",
   "execution_count": 97,
   "metadata": {},
   "outputs": [
    {
     "name": "stderr",
     "output_type": "stream",
     "text": [
      "ERROR:root:Invalid alias: The name clear can't be aliased because it is another magic command.\n",
      "ERROR:root:Invalid alias: The name more can't be aliased because it is another magic command.\n",
      "ERROR:root:Invalid alias: The name less can't be aliased because it is another magic command.\n",
      "ERROR:root:Invalid alias: The name man can't be aliased because it is another magic command.\n"
     ]
    }
   ],
   "source": [
    "# reset vars from all previous tests\n",
    "%reset -f"
   ]
  },
  {
   "cell_type": "code",
   "execution_count": 98,
   "metadata": {},
   "outputs": [],
   "source": [
    "from boardutilsv1 import Board, BoardMark\n",
    "import numpy as np\n",
    "\n",
    "import matplotlib.pyplot as plt\n",
    "import matplotlib.cm as cm\n",
    "from matplotlib.colors import LinearSegmentedColormap\n",
    "\n",
    "class BoardPlotter:\n",
    "    '''\n",
    "    Plot the board.\n",
    "    Requiere %matplotlib inline .\n",
    "    '''\n",
    "    cdict = {'red': [(0.0, 0.6196078431372549, 0.6196078431372549),\n",
    "      (0.5, 1.0, 1.0),\n",
    "      (1.0, 0.03137254901960784, 0.03137254901960784)],\n",
    "     'green': [(0.0, 0.792156862745098, 0.792156862745098),\n",
    "      (0.5, 1.0, 1.0),\n",
    "      (1.0, 0.18823529411764706, 0.18823529411764706)],\n",
    "     'blue': [(0.0, 0.8823529411764706, 0.8823529411764706),\n",
    "      (0.5, 1.0, 1.0),\n",
    "      (1.0, 0.4196078431372549, 0.4196078431372549)],\n",
    "     'alpha': [(0.0, 1.0, 1.0),\n",
    "      (0.5, 1.0, 1.0),\n",
    "      (1.0, 1.0, 1.0)]}\n",
    "    nono_cmap = LinearSegmentedColormap('nono', cdict)\n",
    "    \n",
    "    def __init__(self, a_board):\n",
    "        self.board = a_board\n",
    "    \n",
    "    def show(self):\n",
    "        data = self.board.states\n",
    "        clues = self.board.clues\n",
    "        \n",
    "        # set some canvas\n",
    "        fig, ax = plt.subplots(figsize=(1,1))\n",
    "        # draw a heatmap\n",
    "        heatmap = ax.pcolor(data, cmap=self.nono_cmap)\n",
    "\n",
    "        # ensure square cells\n",
    "        ax.set_aspect(\"equal\")\n",
    "\n",
    "        # put the major ticks at the middle of each cell\n",
    "        ax.set_xticks(np.arange(data.shape[1]) + 0.5, minor=False)\n",
    "        ax.set_yticks(np.arange(data.shape[0]) + 0.5, minor=False)\n",
    "\n",
    "        # put labels on top\n",
    "        ax.invert_yaxis()\n",
    "        ax.xaxis.tick_top()\n",
    "\n",
    "        # set labels\n",
    "        column_labels = self.board.clues['cols']\n",
    "        row_labels = self.board.clues['rows']\n",
    "\n",
    "        ax.set_xticklabels(column_labels, minor=False)\n",
    "        ax.set_yticklabels(row_labels, minor=False)\n",
    "\n",
    "\n",
    "        # annotate fillers\n",
    "        # expect (col,row) is (1,0) for row=0 col=1\n",
    "        w = self.board.width\n",
    "        h = self.board.height\n",
    "        nc = self.board.width * self.board.height\n",
    "        fillers_coordinates = [(p%w + 0.5, int(p/w) + 0.5) \n",
    "                               for (p,v) in enumerate(data.reshape(nc)) \n",
    "                               if v==0]\n",
    "        # place an X in the center of each coordinate\n",
    "        for coord in fillers_coordinates:\n",
    "            plt.text(coord[0], coord[1], 'X', \n",
    "                 verticalalignment='center_baseline',\n",
    "                 horizontalalignment='center',\n",
    "                 fontsize='xx-large')\n",
    "\n",
    "        plt.show()"
   ]
  },
  {
   "cell_type": "markdown",
   "metadata": {},
   "source": [
    "### basic check with mini board"
   ]
  },
  {
   "cell_type": "code",
   "execution_count": 99,
   "metadata": {},
   "outputs": [
    {
     "name": "stdout",
     "output_type": "stream",
     "text": [
      "cols: 2 1\n",
      "rows:\n",
      "1\n",
      "2\n",
      "[['.' '.']\n",
      " ['.' '.']]\n"
     ]
    },
    {
     "data": {
      "image/png": "[encoded data removed]",
      "text/plain": [
       "<Figure size 72x72 with 1 Axes>"
      ]
     },
     "metadata": {
      "needs_background": "light"
     },
     "output_type": "display_data"
    },
    {
     "name": "stdout",
     "output_type": "stream",
     "text": [
      "cols: 2 1\n",
      "rows:\n",
      "1\n",
      "2\n",
      "[['.' 'x']\n",
      " ['.' 'o']]\n"
     ]
    },
    {
     "data": {
      "image/png": "[encoded data removed]",
      "text/plain": [
       "<Figure size 72x72 with 1 Axes>"
      ]
     },
     "metadata": {
      "needs_background": "light"
     },
     "output_type": "display_data"
    }
   ],
   "source": [
    "# clues for mini game\n",
    "clues1 = {\n",
    "    'rows': [1, 2],\n",
    "    'cols': [2, 1]\n",
    "}\n",
    "board1 = Board(clues1)\n",
    "plotter1 = BoardPlotter(board1)\n",
    "board1.prettyprint()\n",
    "plotter1.show()\n",
    "\n",
    "board1.mark(0, 1, BoardMark.FILLER) \n",
    "board1.mark(1, 1, BoardMark.BLACK) \n",
    "board1.prettyprint()\n",
    "plotter1.show()"
   ]
  },
  {
   "cell_type": "markdown",
   "metadata": {},
   "source": [
    "### basic check with more complex board"
   ]
  },
  {
   "cell_type": "code",
   "execution_count": 100,
   "metadata": {},
   "outputs": [
    {
     "name": "stdout",
     "output_type": "stream",
     "text": [
      "cols: 1 4 [2, 2] 4 1\n",
      "rows:\n",
      "1\n",
      "3\n",
      "[1, 1]\n",
      "3\n",
      "5\n",
      "[['.' '.' '.' '.' '.']\n",
      " ['.' '.' '.' '.' '.']\n",
      " ['.' '.' '.' '.' '.']\n",
      " ['.' '.' '.' '.' '.']\n",
      " ['.' '.' '.' '.' '.']]\n"
     ]
    },
    {
     "data": {
      "image/png": "[encoded data removed]",
      "text/plain": [
       "<Figure size 72x72 with 1 Axes>"
      ]
     },
     "metadata": {
      "needs_background": "light"
     },
     "output_type": "display_data"
    },
    {
     "name": "stdout",
     "output_type": "stream",
     "text": [
      "cols: 1 4 [2, 2] 4 1\n",
      "rows:\n",
      "1\n",
      "3\n",
      "[1, 1]\n",
      "3\n",
      "5\n",
      "[['.' '.' 'o' '.' '.']\n",
      " ['.' '.' 'o' '.' '.']\n",
      " ['.' '.' 'x' '.' '.']\n",
      " ['.' '.' 'o' '.' '.']\n",
      " ['o' 'o' 'o' 'o' 'o']]\n"
     ]
    },
    {
     "data": {
      "image/png": "[encoded data removed]",
      "text/plain": [
       "<Figure size 72x72 with 1 Axes>"
      ]
     },
     "metadata": {
      "needs_background": "light"
     },
     "output_type": "display_data"
    }
   ],
   "source": [
    "clues1 = {\n",
    "    'rows': [1, 3, [1,1], 3, 5],\n",
    "    'cols': [1, 4, [2,2], 4, 1]\n",
    "}\n",
    "board1 = Board(clues1)\n",
    "plotter1 = BoardPlotter(board1)\n",
    "board1.prettyprint()\n",
    "plotter1.show()\n",
    "\n",
    "# row 4 is ooooo\n",
    "board1.mark(4, 0, BoardMark.BLACK) \n",
    "board1.mark(4, 1, BoardMark.BLACK) \n",
    "board1.mark(4, 2, BoardMark.BLACK) \n",
    "board1.mark(4, 3, BoardMark.BLACK) \n",
    "board1.mark(4, 4, BoardMark.BLACK) \n",
    "# col 2 is ooxoo\n",
    "board1.mark(0, 2, BoardMark.BLACK) \n",
    "board1.mark(1, 2, BoardMark.BLACK) \n",
    "board1.mark(2, 2, BoardMark.FILLER) \n",
    "board1.mark(3, 2, BoardMark.BLACK) \n",
    "board1.mark(4, 2, BoardMark.BLACK) \n",
    "\n",
    "board1.prettyprint()\n",
    "plotter1.show()"
   ]
  },
  {
   "cell_type": "markdown",
   "metadata": {},
   "source": [
    "remarks:\n",
    "- size of figure must depend on board dimensions\n",
    "- need a to take care of split clues: avoid [] and print cols clues over multiple lines\n",
    "```\n",
    "clues = {\n",
    "    'rows': [1, 3, [1,1], 3, 5], -> [1, 3, \"1 1\", 3, 5]\n",
    "    'cols': [1, 4, [2,2], 4, 1]  -> [1, 4, \"2\\n2\", 4, 1]\n",
    "}\n",
    "```"
   ]
  },
  {
   "cell_type": "code",
   "execution_count": 102,
   "metadata": {},
   "outputs": [],
   "source": [
    "clues = {\n",
    "    'rows': [1, 3, [1,1], 3, 5],\n",
    "    'cols': [1, 4, [2,2], 4, 1]\n",
    "}"
   ]
  },
  {
   "cell_type": "code",
   "execution_count": 103,
   "metadata": {},
   "outputs": [
    {
     "name": "stdout",
     "output_type": "stream",
     "text": [
      "1\n",
      "3\n",
      "[1, 1]\n",
      "3\n",
      "5\n"
     ]
    },
    {
     "data": {
      "text/plain": [
       "['1', '3', '1 1', '3', '5']"
      ]
     },
     "execution_count": 103,
     "metadata": {},
     "output_type": "execute_result"
    }
   ],
   "source": [
    "def row_clue_to_label(v):\n",
    "    print(v)\n",
    "    return str(v) if not isinstance(v, list) else ' '.join(map(str,v))\n",
    "list(map(row_clue_to_label, clues['rows']))"
   ]
  },
  {
   "cell_type": "code",
   "execution_count": 104,
   "metadata": {},
   "outputs": [],
   "source": [
    "# need str to be able to join"
   ]
  },
  {
   "cell_type": "code",
   "execution_count": 105,
   "metadata": {},
   "outputs": [
    {
     "name": "stdout",
     "output_type": "stream",
     "text": [
      "1\n",
      "4\n",
      "[2, 2]\n",
      "4\n",
      "1\n"
     ]
    },
    {
     "data": {
      "text/plain": [
       "['1', '4', '2\\n2', '4', '1']"
      ]
     },
     "execution_count": 105,
     "metadata": {},
     "output_type": "execute_result"
    }
   ],
   "source": [
    "def col_clue_to_label(v):\n",
    "    print(v)\n",
    "    return str(v) if not isinstance(v, list) else '\\n'.join(map(str,v))\n",
    "list(map(col_clue_to_label, clues['cols']))"
   ]
  },
  {
   "cell_type": "code",
   "execution_count": 107,
   "metadata": {},
   "outputs": [
    {
     "name": "stderr",
     "output_type": "stream",
     "text": [
      "ERROR:root:Invalid alias: The name clear can't be aliased because it is another magic command.\n",
      "ERROR:root:Invalid alias: The name more can't be aliased because it is another magic command.\n",
      "ERROR:root:Invalid alias: The name less can't be aliased because it is another magic command.\n",
      "ERROR:root:Invalid alias: The name man can't be aliased because it is another magic command.\n"
     ]
    }
   ],
   "source": [
    "%reset -f"
   ]
  },
  {
   "cell_type": "code",
   "execution_count": 108,
   "metadata": {},
   "outputs": [],
   "source": [
    "from boardutilsv1 import Board, BoardMark\n",
    "import numpy as np\n",
    "\n",
    "import matplotlib.pyplot as plt\n",
    "import matplotlib.cm as cm\n",
    "from matplotlib.colors import LinearSegmentedColormap\n",
    "\n",
    "class BoardPlotter:\n",
    "    '''\n",
    "    Plot the board.\n",
    "    Requiere %matplotlib inline .\n",
    "    '''\n",
    "    cdict = {'red': [(0.0, 0.6196078431372549, 0.6196078431372549),\n",
    "      (0.5, 1.0, 1.0),\n",
    "      (1.0, 0.03137254901960784, 0.03137254901960784)],\n",
    "     'green': [(0.0, 0.792156862745098, 0.792156862745098),\n",
    "      (0.5, 1.0, 1.0),\n",
    "      (1.0, 0.18823529411764706, 0.18823529411764706)],\n",
    "     'blue': [(0.0, 0.8823529411764706, 0.8823529411764706),\n",
    "      (0.5, 1.0, 1.0),\n",
    "      (1.0, 0.4196078431372549, 0.4196078431372549)],\n",
    "     'alpha': [(0.0, 1.0, 1.0),\n",
    "      (0.5, 1.0, 1.0),\n",
    "      (1.0, 1.0, 1.0)]}\n",
    "    nono_cmap = LinearSegmentedColormap('nono', cdict)\n",
    "    \n",
    "    def __init__(self, a_board):\n",
    "        self.board = a_board\n",
    "        clues = self.board.clues\n",
    "      \n",
    "        def row_clue_to_label(v):\n",
    "            #print(v)\n",
    "            return str(v) if not isinstance(v, list) else ' '.join(map(str,v))\n",
    "        self.rows_labels = list(map(row_clue_to_label, clues['rows']))\n",
    "\n",
    "        def col_clue_to_label(v):\n",
    "            #print(v)\n",
    "            return str(v) if not isinstance(v, list) else '\\n'.join(map(str,v))\n",
    "        self.cols_labels = list(map(col_clue_to_label, clues['cols']))\n",
    "    \n",
    "    def show(self):\n",
    "        # WARNING :  the board is row col, while the fig is col row\n",
    "        data = self.board.states\n",
    "        w = self.board.width\n",
    "        h = self.board.height\n",
    "        nc = self.board.width * self.board.height\n",
    "        \n",
    "        # set some canvas\n",
    "        # guess the figure size \n",
    "        # 1 fits 2 cells\n",
    "        # 2 fits 5 cols\n",
    "        figw = int(w/2) \n",
    "        figh = int(h/2) \n",
    "        fig, ax = plt.subplots(figsize=(figw,figh))\n",
    "        # draw a heatmap\n",
    "        heatmap = ax.pcolor(data, cmap=self.nono_cmap)\n",
    "\n",
    "        # ensure square cells\n",
    "        ax.set_aspect(\"equal\")\n",
    "\n",
    "        # put the major ticks at the middle of each cell\n",
    "        ax.set_xticks(np.arange(data.shape[1]) + 0.5, minor=False)\n",
    "        ax.set_yticks(np.arange(data.shape[0]) + 0.5, minor=False)\n",
    "\n",
    "        # put labels on top\n",
    "        ax.invert_yaxis()\n",
    "        ax.xaxis.tick_top()\n",
    "\n",
    "        # set labels\n",
    "        column_labels = self.board.clues['cols']\n",
    "        row_labels = self.board.clues['rows']\n",
    "\n",
    "        ax.set_xticklabels(self.cols_labels, minor=False)\n",
    "        ax.set_yticklabels(self.rows_labels, minor=False)\n",
    "\n",
    "\n",
    "        # annotate fillers\n",
    "        # expect (col,row) is (1,0) for row=0 col=1\n",
    "        fillers_coordinates = [(p%w + 0.5, int(p/w) + 0.5) \n",
    "                               for (p,v) in enumerate(data.reshape(nc)) \n",
    "                               if v==0]\n",
    "        # place an X in the center of each coordinate\n",
    "        for coord in fillers_coordinates:\n",
    "            plt.text(coord[0], coord[1], 'x', \n",
    "                 verticalalignment='center',\n",
    "                 horizontalalignment='center',\n",
    "                 fontsize='xx-large')\n",
    "\n",
    "        plt.show()"
   ]
  },
  {
   "cell_type": "code",
   "execution_count": 109,
   "metadata": {},
   "outputs": [
    {
     "name": "stdout",
     "output_type": "stream",
     "text": [
      "cols: 1 4 [2, 2] 4 1\n",
      "rows:\n",
      "1\n",
      "3\n",
      "[1, 1]\n",
      "3\n",
      "5\n",
      "[['.' '.' '.' '.' '.']\n",
      " ['.' '.' '.' '.' '.']\n",
      " ['.' '.' '.' '.' '.']\n",
      " ['.' '.' '.' '.' '.']\n",
      " ['.' '.' '.' '.' '.']]\n"
     ]
    },
    {
     "data": {
      "image/png": "[encoded data removed]",
      "text/plain": [
       "<Figure size 144x144 with 1 Axes>"
      ]
     },
     "metadata": {
      "needs_background": "light"
     },
     "output_type": "display_data"
    },
    {
     "name": "stdout",
     "output_type": "stream",
     "text": [
      "cols: 1 4 [2, 2] 4 1\n",
      "rows:\n",
      "1\n",
      "3\n",
      "[1, 1]\n",
      "3\n",
      "5\n",
      "[['.' '.' 'o' '.' '.']\n",
      " ['.' '.' 'o' '.' '.']\n",
      " ['.' '.' 'x' '.' '.']\n",
      " ['.' '.' 'o' '.' '.']\n",
      " ['o' 'o' 'o' 'o' 'o']]\n"
     ]
    },
    {
     "data": {
      "image/png": "[encoded data removed]",
      "text/plain": [
       "<Figure size 144x144 with 1 Axes>"
      ]
     },
     "metadata": {
      "needs_background": "light"
     },
     "output_type": "display_data"
    }
   ],
   "source": [
    "clues1 = {\n",
    "    'rows': [1, 3, [1,1], 3, 5],\n",
    "    'cols': [1, 4, [2,2], 4, 1]\n",
    "}\n",
    "board1 = Board(clues1)\n",
    "plotter1 = BoardPlotter(board1)\n",
    "board1.prettyprint()\n",
    "plotter1.show()\n",
    "\n",
    "# row 4 is ooooo\n",
    "board1.mark(4, 0, BoardMark.BLACK) \n",
    "board1.mark(4, 1, BoardMark.BLACK) \n",
    "board1.mark(4, 2, BoardMark.BLACK) \n",
    "board1.mark(4, 3, BoardMark.BLACK) \n",
    "board1.mark(4, 4, BoardMark.BLACK) \n",
    "# col 2 is ooxoo\n",
    "board1.mark(0, 2, BoardMark.BLACK) \n",
    "board1.mark(1, 2, BoardMark.BLACK) \n",
    "board1.mark(2, 2, BoardMark.FILLER) \n",
    "board1.mark(3, 2, BoardMark.BLACK) \n",
    "board1.mark(4, 2, BoardMark.BLACK) \n",
    "\n",
    "board1.prettyprint()\n",
    "plotter1.show()"
   ]
  },
  {
   "cell_type": "code",
   "execution_count": 110,
   "metadata": {},
   "outputs": [],
   "source": [
    "### check one by one"
   ]
  },
  {
   "cell_type": "code",
   "execution_count": 111,
   "metadata": {},
   "outputs": [
    {
     "name": "stdout",
     "output_type": "stream",
     "text": [
      "cols: 1 4 [2, 2] 4 1\n",
      "rows:\n",
      "1\n",
      "3\n",
      "[1, 1]\n",
      "3\n",
      "5\n",
      "[['.' '.' '.' '.' '.']\n",
      " ['.' '.' '.' '.' '.']\n",
      " ['.' '.' '.' '.' '.']\n",
      " ['.' '.' '.' '.' '.']\n",
      " ['.' '.' '.' '.' '.']]\n"
     ]
    },
    {
     "data": {
      "image/png": "[encoded data removed]",
      "text/plain": [
       "<Figure size 144x144 with 1 Axes>"
      ]
     },
     "metadata": {
      "needs_background": "light"
     },
     "output_type": "display_data"
    },
    {
     "name": "stdout",
     "output_type": "stream",
     "text": [
      "cols: 1 4 [2, 2] 4 1\n",
      "rows:\n",
      "1\n",
      "3\n",
      "[1, 1]\n",
      "3\n",
      "5\n",
      "[['x' '.' '.' '.' '.']\n",
      " ['.' '.' '.' '.' '.']\n",
      " ['.' '.' '.' '.' '.']\n",
      " ['.' '.' '.' '.' '.']\n",
      " ['.' '.' '.' '.' '.']]\n"
     ]
    },
    {
     "data": {
      "image/png": "[encoded data removed]",
      "text/plain": [
       "<Figure size 144x144 with 1 Axes>"
      ]
     },
     "metadata": {
      "needs_background": "light"
     },
     "output_type": "display_data"
    },
    {
     "name": "stdout",
     "output_type": "stream",
     "text": [
      "cols: 1 4 [2, 2] 4 1\n",
      "rows:\n",
      "1\n",
      "3\n",
      "[1, 1]\n",
      "3\n",
      "5\n",
      "[['x' 'x' '.' '.' '.']\n",
      " ['.' '.' '.' '.' '.']\n",
      " ['.' '.' '.' '.' '.']\n",
      " ['.' '.' '.' '.' '.']\n",
      " ['.' '.' '.' '.' '.']]\n"
     ]
    },
    {
     "data": {
      "image/png": "[encoded data removed]",
      "text/plain": [
       "<Figure size 144x144 with 1 Axes>"
      ]
     },
     "metadata": {
      "needs_background": "light"
     },
     "output_type": "display_data"
    }
   ],
   "source": [
    "clues1 = {\n",
    "    'rows': [1, 3, [1,1], 3, 5],\n",
    "    'cols': [1, 4, [2,2], 4, 1]\n",
    "}\n",
    "board1 = Board(clues1)\n",
    "plotter1 = BoardPlotter(board1)\n",
    "board1.prettyprint()\n",
    "plotter1.show()\n",
    "\n",
    "# WARNING confusion when only one type filler/black \n",
    "# fiw min and lmax\n",
    "board1.mark(0, 0, BoardMark.FILLER) \n",
    "board1.prettyprint()\n",
    "plotter1.show()\n",
    "board1.mark(0, 1, BoardMark.FILLER) \n",
    "board1.prettyprint()\n",
    "plotter1.show()\n"
   ]
  },
  {
   "cell_type": "code",
   "execution_count": 112,
   "metadata": {},
   "outputs": [],
   "source": [
    "# WARNING confusion when only one type filler/black \n",
    "# add value range to avoid filler is mistaken for black \n",
    "# bacuase the range of actual values is -1 0"
   ]
  },
  {
   "cell_type": "code",
   "execution_count": 115,
   "metadata": {},
   "outputs": [],
   "source": [
    "from boardutilsv1 import Board, BoardMark\n",
    "import numpy as np\n",
    "\n",
    "import matplotlib.pyplot as plt\n",
    "import matplotlib.cm as cm\n",
    "from matplotlib.colors import LinearSegmentedColormap\n",
    "\n",
    "class BoardPlotter:\n",
    "    '''\n",
    "    Plot the board\n",
    "    Requiere %matplotlib inline .\n",
    "    '''\n",
    "    cdict = {'red': [(0.0, 0.6196078431372549, 0.6196078431372549),\n",
    "      (0.5, 1.0, 1.0),\n",
    "      (1.0, 0.03137254901960784, 0.03137254901960784)],\n",
    "     'green': [(0.0, 0.792156862745098, 0.792156862745098),\n",
    "      (0.5, 1.0, 1.0),\n",
    "      (1.0, 0.18823529411764706, 0.18823529411764706)],\n",
    "     'blue': [(0.0, 0.8823529411764706, 0.8823529411764706),\n",
    "      (0.5, 1.0, 1.0),\n",
    "      (1.0, 0.4196078431372549, 0.4196078431372549)],\n",
    "     'alpha': [(0.0, 1.0, 1.0),\n",
    "      (0.5, 1.0, 1.0),\n",
    "      (1.0, 1.0, 1.0)]}\n",
    "    nono_cmap = LinearSegmentedColormap('nono', cdict)\n",
    "    \n",
    "    def __init__(self, a_board):\n",
    "        self.board = a_board\n",
    "        clues = self.board.clues\n",
    "      \n",
    "        def row_clue_to_label(v):\n",
    "            #print(v)\n",
    "            return str(v) if not isinstance(v, list) else ' '.join(map(str,v))\n",
    "        self.rows_labels = list(map(row_clue_to_label, clues['rows']))\n",
    "\n",
    "        def col_clue_to_label(v):\n",
    "            #print(v)\n",
    "            return str(v) if not isinstance(v, list) else '\\n'.join(map(str,v))\n",
    "        self.cols_labels = list(map(col_clue_to_label, clues['cols']))\n",
    "    \n",
    "    def show(self):\n",
    "        # WARNING :  the board is row col, while the fig is col row\n",
    "        data = self.board.states\n",
    "        w = self.board.width\n",
    "        h = self.board.height\n",
    "        nc = self.board.width * self.board.height\n",
    "        \n",
    "        # set some canvas\n",
    "        # guess the figure size \n",
    "        # 1 fits 2 cells\n",
    "        # 2 fits 5 cols\n",
    "        figw = int(w/2) \n",
    "        figh = int(h/2) \n",
    "        fig, ax = plt.subplots(figsize=(figw,figh))\n",
    "        # draw a heatmap\n",
    "        # ensure value range is -1 to 1\n",
    "        heatmap = ax.pcolor(data, cmap=self.nono_cmap, vmin=-1, vmax=1)\n",
    "\n",
    "        # ensure square cells\n",
    "        ax.set_aspect(\"equal\")\n",
    "\n",
    "        # put the major ticks at the middle of each cell\n",
    "        ax.set_xticks(np.arange(data.shape[1]) + 0.5, minor=False)\n",
    "        ax.set_yticks(np.arange(data.shape[0]) + 0.5, minor=False)\n",
    "\n",
    "        # put labels on top\n",
    "        ax.invert_yaxis()\n",
    "        ax.xaxis.tick_top()\n",
    "        \n",
    "\n",
    "        # set labels\n",
    "        column_labels = self.board.clues['cols']\n",
    "        row_labels = self.board.clues['rows']\n",
    "\n",
    "        ax.set_xticklabels(self.cols_labels, minor=False)\n",
    "        ax.set_yticklabels(self.rows_labels, minor=False)\n",
    "\n",
    "\n",
    "        # annotate fillers\n",
    "        # expect (col,row) is (1,0) for row=0 col=1\n",
    "        fillers_coordinates = [(p%w + 0.5, int(p/w) + 0.5) \n",
    "                               for (p,v) in enumerate(data.reshape(nc)) \n",
    "                               if v==0]\n",
    "        # place an X in the center of each coordinate\n",
    "        for coord in fillers_coordinates:\n",
    "            plt.text(coord[0], coord[1], 'x', \n",
    "                 verticalalignment='center',\n",
    "                 horizontalalignment='center',\n",
    "                 fontsize='xx-large')\n",
    "\n",
    "        plt.show()"
   ]
  },
  {
   "cell_type": "code",
   "execution_count": 116,
   "metadata": {},
   "outputs": [
    {
     "name": "stdout",
     "output_type": "stream",
     "text": [
      "cols: 1 4 [2, 2] 4 1\n",
      "rows:\n",
      "1\n",
      "3\n",
      "[1, 1]\n",
      "3\n",
      "5\n",
      "[['.' '.' '.' '.' '.']\n",
      " ['.' '.' '.' '.' '.']\n",
      " ['.' '.' '.' '.' '.']\n",
      " ['.' '.' '.' '.' '.']\n",
      " ['.' '.' '.' '.' '.']]\n"
     ]
    },
    {
     "data": {
      "image/png": "[encoded data removed]",
      "text/plain": [
       "<Figure size 144x144 with 1 Axes>"
      ]
     },
     "metadata": {
      "needs_background": "light"
     },
     "output_type": "display_data"
    },
    {
     "name": "stdout",
     "output_type": "stream",
     "text": [
      "cols: 1 4 [2, 2] 4 1\n",
      "rows:\n",
      "1\n",
      "3\n",
      "[1, 1]\n",
      "3\n",
      "5\n",
      "[['x' '.' '.' '.' '.']\n",
      " ['.' '.' '.' '.' '.']\n",
      " ['.' '.' '.' '.' '.']\n",
      " ['.' '.' '.' '.' '.']\n",
      " ['.' '.' '.' '.' '.']]\n"
     ]
    },
    {
     "data": {
      "image/png": "[encoded data removed]",
      "text/plain": [
       "<Figure size 144x144 with 1 Axes>"
      ]
     },
     "metadata": {
      "needs_background": "light"
     },
     "output_type": "display_data"
    },
    {
     "name": "stdout",
     "output_type": "stream",
     "text": [
      "cols: 1 4 [2, 2] 4 1\n",
      "rows:\n",
      "1\n",
      "3\n",
      "[1, 1]\n",
      "3\n",
      "5\n",
      "[['x' 'x' '.' '.' '.']\n",
      " ['.' '.' '.' '.' '.']\n",
      " ['.' '.' '.' '.' '.']\n",
      " ['.' '.' '.' '.' '.']\n",
      " ['.' '.' '.' '.' '.']]\n"
     ]
    },
    {
     "data": {
      "image/png": "[encoded data removed]",
      "text/plain": [
       "<Figure size 144x144 with 1 Axes>"
      ]
     },
     "metadata": {
      "needs_background": "light"
     },
     "output_type": "display_data"
    }
   ],
   "source": [
    "clues1 = {\n",
    "    'rows': [1, 3, [1,1], 3, 5],\n",
    "    'cols': [1, 4, [2,2], 4, 1]\n",
    "}\n",
    "board1 = Board(clues1)\n",
    "plotter1 = BoardPlotter(board1)\n",
    "board1.prettyprint()\n",
    "plotter1.show()\n",
    "\n",
    "board1.mark(0, 0, BoardMark.FILLER) \n",
    "board1.prettyprint()\n",
    "plotter1.show()\n",
    "board1.mark(0, 1, BoardMark.FILLER) \n",
    "board1.prettyprint()\n",
    "plotter1.show()"
   ]
  },
  {
   "cell_type": "code",
   "execution_count": 117,
   "metadata": {},
   "outputs": [
    {
     "name": "stdout",
     "output_type": "stream",
     "text": [
      "cols: 1 4 [2, 2] 4 1\n",
      "rows:\n",
      "1\n",
      "3\n",
      "[1, 1]\n",
      "3\n",
      "5\n",
      "[['.' '.' '.' '.' '.']\n",
      " ['.' '.' '.' '.' '.']\n",
      " ['.' '.' '.' '.' '.']\n",
      " ['.' '.' '.' '.' '.']\n",
      " ['.' '.' '.' '.' '.']]\n"
     ]
    },
    {
     "data": {
      "image/png": "[encoded data removed]",
      "text/plain": [
       "<Figure size 144x144 with 1 Axes>"
      ]
     },
     "metadata": {
      "needs_background": "light"
     },
     "output_type": "display_data"
    },
    {
     "name": "stdout",
     "output_type": "stream",
     "text": [
      "cols: 1 4 [2, 2] 4 1\n",
      "rows:\n",
      "1\n",
      "3\n",
      "[1, 1]\n",
      "3\n",
      "5\n",
      "[['x' '.' '.' '.' '.']\n",
      " ['.' '.' '.' '.' '.']\n",
      " ['.' '.' '.' '.' '.']\n",
      " ['.' '.' '.' '.' '.']\n",
      " ['.' '.' '.' '.' '.']]\n"
     ]
    },
    {
     "data": {
      "image/png": "[encoded data removed]",
      "text/plain": [
       "<Figure size 144x144 with 1 Axes>"
      ]
     },
     "metadata": {
      "needs_background": "light"
     },
     "output_type": "display_data"
    },
    {
     "name": "stdout",
     "output_type": "stream",
     "text": [
      "cols: 1 4 [2, 2] 4 1\n",
      "rows:\n",
      "1\n",
      "3\n",
      "[1, 1]\n",
      "3\n",
      "5\n",
      "[['x' 'x' '.' '.' '.']\n",
      " ['.' '.' '.' '.' '.']\n",
      " ['.' '.' '.' '.' '.']\n",
      " ['.' '.' '.' '.' '.']\n",
      " ['.' '.' '.' '.' '.']]\n"
     ]
    },
    {
     "data": {
      "image/png": "[encoded data removed]",
      "text/plain": [
       "<Figure size 144x144 with 1 Axes>"
      ]
     },
     "metadata": {
      "needs_background": "light"
     },
     "output_type": "display_data"
    },
    {
     "name": "stdout",
     "output_type": "stream",
     "text": [
      "cols: 1 4 [2, 2] 4 1\n",
      "rows:\n",
      "1\n",
      "3\n",
      "[1, 1]\n",
      "3\n",
      "5\n",
      "[['x' 'x' 'o' '.' '.']\n",
      " ['.' '.' '.' '.' '.']\n",
      " ['.' '.' '.' '.' '.']\n",
      " ['.' '.' '.' '.' '.']\n",
      " ['.' '.' '.' '.' '.']]\n"
     ]
    },
    {
     "data": {
      "image/png": "[encoded data removed]",
      "text/plain": [
       "<Figure size 144x144 with 1 Axes>"
      ]
     },
     "metadata": {
      "needs_background": "light"
     },
     "output_type": "display_data"
    },
    {
     "name": "stdout",
     "output_type": "stream",
     "text": [
      "cols: 1 4 [2, 2] 4 1\n",
      "rows:\n",
      "1\n",
      "3\n",
      "[1, 1]\n",
      "3\n",
      "5\n",
      "[['x' 'x' 'o' 'o' '.']\n",
      " ['.' '.' '.' '.' '.']\n",
      " ['.' '.' '.' '.' '.']\n",
      " ['.' '.' '.' '.' '.']\n",
      " ['.' '.' '.' '.' '.']]\n"
     ]
    },
    {
     "data": {
      "image/png": "[encoded data removed]",
      "text/plain": [
       "<Figure size 144x144 with 1 Axes>"
      ]
     },
     "metadata": {
      "needs_background": "light"
     },
     "output_type": "display_data"
    },
    {
     "name": "stdout",
     "output_type": "stream",
     "text": [
      "cols: 1 4 [2, 2] 4 1\n",
      "rows:\n",
      "1\n",
      "3\n",
      "[1, 1]\n",
      "3\n",
      "5\n",
      "[['x' 'x' 'o' 'o' '.']\n",
      " ['x' '.' '.' '.' '.']\n",
      " ['.' '.' '.' '.' '.']\n",
      " ['.' '.' '.' '.' '.']\n",
      " ['.' '.' '.' '.' '.']]\n"
     ]
    },
    {
     "data": {
      "image/png": "[encoded data removed]",
      "text/plain": [
       "<Figure size 144x144 with 1 Axes>"
      ]
     },
     "metadata": {
      "needs_background": "light"
     },
     "output_type": "display_data"
    },
    {
     "name": "stdout",
     "output_type": "stream",
     "text": [
      "cols: 1 4 [2, 2] 4 1\n",
      "rows:\n",
      "1\n",
      "3\n",
      "[1, 1]\n",
      "3\n",
      "5\n",
      "[['x' 'x' 'o' 'o' '.']\n",
      " ['x' '.' '.' '.' '.']\n",
      " ['x' '.' '.' '.' '.']\n",
      " ['.' '.' '.' '.' '.']\n",
      " ['.' '.' '.' '.' '.']]\n"
     ]
    },
    {
     "data": {
      "image/png": "[encoded data removed]",
      "text/plain": [
       "<Figure size 144x144 with 1 Axes>"
      ]
     },
     "metadata": {
      "needs_background": "light"
     },
     "output_type": "display_data"
    }
   ],
   "source": [
    "clues1 = {\n",
    "    'rows': [1, 3, [1,1], 3, 5],\n",
    "    'cols': [1, 4, [2,2], 4, 1]\n",
    "}\n",
    "board1 = Board(clues1)\n",
    "plotter1 = BoardPlotter(board1)\n",
    "board1.prettyprint()\n",
    "plotter1.show()\n",
    "\n",
    "board1.mark(0, 0, BoardMark.FILLER) \n",
    "board1.prettyprint()\n",
    "plotter1.show()\n",
    "board1.mark(0, 1, BoardMark.FILLER) \n",
    "board1.prettyprint()\n",
    "plotter1.show()\n",
    "board1.mark(0, 2, BoardMark.BLACK) \n",
    "board1.prettyprint()\n",
    "plotter1.show()\n",
    "board1.mark(0, 3, BoardMark.BLACK) \n",
    "board1.prettyprint()\n",
    "plotter1.show()\n",
    "board1.mark(1, 0, BoardMark.FILLER) \n",
    "board1.prettyprint()\n",
    "plotter1.show()\n",
    "board1.mark(2, 0, BoardMark.FILLER) \n",
    "board1.prettyprint()\n",
    "plotter1.show()"
   ]
  },
  {
   "cell_type": "markdown",
   "metadata": {},
   "source": [
    "### check non square matrix"
   ]
  },
  {
   "cell_type": "code",
   "execution_count": 118,
   "metadata": {},
   "outputs": [
    {
     "name": "stdout",
     "output_type": "stream",
     "text": [
      "cols: 1 3 2 3 1\n",
      "rows:\n",
      "1\n",
      "3\n",
      "[1, 1]\n",
      "[['.' '.' '.' '.' '.']\n",
      " ['.' '.' '.' '.' '.']\n",
      " ['.' '.' '.' '.' '.']]\n"
     ]
    },
    {
     "data": {
      "image/png": "[encoded data removed]",
      "text/plain": [
       "<Figure size 144x72 with 1 Axes>"
      ]
     },
     "metadata": {
      "needs_background": "light"
     },
     "output_type": "display_data"
    },
    {
     "name": "stdout",
     "output_type": "stream",
     "text": [
      "cols: 1 3 2 3 1\n",
      "rows:\n",
      "1\n",
      "3\n",
      "[1, 1]\n",
      "[['.' 'o' '.' 'o' '.']\n",
      " ['.' 'o' '.' 'o' '.']\n",
      " ['x' 'o' 'x' 'o' 'x']]\n"
     ]
    },
    {
     "data": {
      "image/png": "[encoded data removed]",
      "text/plain": [
       "<Figure size 144x72 with 1 Axes>"
      ]
     },
     "metadata": {
      "needs_background": "light"
     },
     "output_type": "display_data"
    }
   ],
   "source": [
    "clues1 = {\n",
    "    'rows': [1, 3, [1,1]],\n",
    "    'cols': [1, 3, 2, 3, 1]\n",
    "}\n",
    "board1 = Board(clues1)\n",
    "plotter1 = BoardPlotter(board1)\n",
    "board1.prettyprint()\n",
    "plotter1.show()\n",
    "\n",
    "# col 2 is ooo\n",
    "board1.mark(0, 1, BoardMark.BLACK) \n",
    "board1.mark(1, 1, BoardMark.BLACK) \n",
    "board1.mark(2, 1, BoardMark.BLACK) \n",
    "# col 3 is ooo\n",
    "board1.mark(0, 3, BoardMark.BLACK) \n",
    "board1.mark(1, 3, BoardMark.BLACK) \n",
    "board1.mark(2, 3, BoardMark.BLACK) \n",
    "# row 2 is xoxox\n",
    "board1.mark(2, 0, BoardMark.FILLER) \n",
    "board1.mark(2, 2, BoardMark.FILLER) \n",
    "board1.mark(2, 4, BoardMark.FILLER) \n",
    "\n",
    "board1.prettyprint()\n",
    "plotter1.show()\n"
   ]
  },
  {
   "cell_type": "markdown",
   "metadata": {},
   "source": [
    "# TODO asserts"
   ]
  },
  {
   "cell_type": "markdown",
   "metadata": {},
   "source": [
    "# TODO animate"
   ]
  },
  {
   "cell_type": "markdown",
   "metadata": {},
   "source": [
    "```\n",
    "%matplotlib qt\n",
    "    plt.show()\n",
    "    #fig.show()\n",
    "    #p, = plt.plot(data)\n",
    "    #ptint(p)\n",
    "    #plt.draw()\n",
    "    #plt.pause(0.01)\n",
    "    #plt.clf()\n",
    "    #data[1,1] = 1\n",
    "    #p.set_data(1,1,1)\n",
    "    #plt.draw()\n",
    "    #plt.pause(0.0001)\n",
    "    #plt.clf()\n",
    "    fig.canvas.draw() # Draws the image to the screen\n",
    "    plt.pause(1) # Delay in seconds\n",
    "    data[1,1] = 1\n",
    "    # struggled with set_data\n",
    "    heatmap = ax.pcolor(data, cmap=my_cmap) \n",
    "    fig.canvas.draw() # Draws the image to the screen\n",
    "    \n",
    "    #fig.savefig(output, format=\"png\")\n",
    "```"
   ]
  }
 ],
 "metadata": {
  "kernelspec": {
   "display_name": "Python 3",
   "language": "python",
   "name": "python3"
  },
  "language_info": {
   "codemirror_mode": {
    "name": "ipython",
    "version": 3
   },
   "file_extension": ".py",
   "mimetype": "text/x-python",
   "name": "python",
   "nbconvert_exporter": "python",
   "pygments_lexer": "ipython3",
   "version": "3.7.3"
  }
 },
 "nbformat": 4,
 "nbformat_minor": 2
}
