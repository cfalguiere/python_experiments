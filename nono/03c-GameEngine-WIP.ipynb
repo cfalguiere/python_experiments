{
 "cells": [
  {
   "cell_type": "markdown",
   "metadata": {},
   "source": [
    "# Episode 03 c: Game Engine"
   ]
  },
  {
   "cell_type": "markdown",
   "metadata": {},
   "source": [
    "Checking the board visually is fine for debugging but it does not work well when it comes to test a lot of board solutions.\n",
    "\n",
    "This episode provides some utilities for the POC to come. The goal is to have reasonably efficient classes but not spend too much time on this step.\n",
    "\n",
    "**Goals for this episode:**\n",
    "- Answer recurring questions \n",
    "    - What are the width, height, nulber of cellss of the puzzle \n",
    "    - Given a board is it completed ? \n",
    "    - Does it break the clues ?\n",
    "    - Are they cells left undefined ? \n",
    "    - Am I close to the goal ?\n"
   ]
  },
  {
   "cell_type": "markdown",
   "metadata": {},
   "source": [
    "# 1. Elements from episodes 01, 02 and 03"
   ]
  },
  {
   "cell_type": "code",
   "execution_count": 2,
   "metadata": {},
   "outputs": [],
   "source": [
    "from episode01 import clues2x2, clues5x5s, Board, BoardMark\n",
    "from episode02 import solution2x2, solution5x5s, GameEngine\n",
    "from episode03b import Puzzle, Board, BoardMark, BoardPlotter\n",
    "import numpy as np"
   ]
  },
  {
   "cell_type": "code",
   "execution_count": 2,
   "metadata": {},
   "outputs": [
    {
     "data": {
      "text/plain": [
       "{'rows': [1, 2], 'cols': [2, 1]}"
      ]
     },
     "execution_count": 2,
     "metadata": {},
     "output_type": "execute_result"
    }
   ],
   "source": [
    "clues2x2"
   ]
  },
  {
   "cell_type": "code",
   "execution_count": 3,
   "metadata": {},
   "outputs": [
    {
     "data": {
      "text/plain": [
       "{'rows': [1, 3, [1, 1], 3, 5], 'cols': [1, 4, [2, 2], 4, 1]}"
      ]
     },
     "execution_count": 3,
     "metadata": {},
     "output_type": "execute_result"
    }
   ],
   "source": [
    "clues5x5s"
   ]
  },
  {
   "cell_type": "markdown",
   "metadata": {},
   "source": [
    "Requirements listed in Episode 02 still uncovered\n",
    "- a game engine which provides the game validation for try-and-error validation and solved board - for all kind of puzzles (we have tested 2x2 only)\n",
    "- some operation thate were identified in episode 01: is the board completed, is the board valid\n",
    "- a puzzle class with some operations to transform the clues and compute black count and cels count\n",
    "- try-and-error and learning process will require something in between not done and done in order to improve on residual error or rewards: number of cells completed/undefined, number of errors, number of valid cells\n"
   ]
  },
  {
   "cell_type": "markdown",
   "metadata": {},
   "source": [
    "# 2. Experiments"
   ]
  },
  {
   "cell_type": "markdown",
   "metadata": {},
   "source": [
    "## 2.4. check numbers of cells left empty"
   ]
  },
  {
   "cell_type": "markdown",
   "metadata": {},
   "source": [
    "Check for undefined cells existence"
   ]
  },
  {
   "cell_type": "code",
   "execution_count": 4,
   "metadata": {},
   "outputs": [
    {
     "name": "stdout",
     "output_type": "stream",
     "text": [
      "cols: 2 1\n",
      "rows:\n",
      "1\n",
      "2\n",
      "[['.' 'x']\n",
      " ['.' 'o']]\n"
     ]
    }
   ],
   "source": [
    "puzzle2x2 = Puzzle(clues2x2)\n",
    "board2x2 = Board(puzzle2x2)\n",
    "board2x2.mark(0, 1, BoardMark.FILLER) \n",
    "board2x2.mark(1, 1, BoardMark.BLACK) \n",
    "board2x2.prettyprint()"
   ]
  },
  {
   "cell_type": "code",
   "execution_count": 5,
   "metadata": {},
   "outputs": [
    {
     "data": {
      "text/plain": [
       "[-1, -1]"
      ]
     },
     "execution_count": 5,
     "metadata": {},
     "output_type": "execute_result"
    }
   ],
   "source": [
    "# filter the cells having an undegined value \n",
    "# reshaping in a list of lenght equald to the number of cells \n",
    "# avoid having to browse a list of lists\n",
    "[ c for c in board2x2.states.reshape(4) if c == -1]"
   ]
  },
  {
   "cell_type": "code",
   "execution_count": 6,
   "metadata": {},
   "outputs": [
    {
     "data": {
      "text/plain": [
       "(2, 2)"
      ]
     },
     "execution_count": 6,
     "metadata": {},
     "output_type": "execute_result"
    }
   ],
   "source": [
    "board2x2.states.shape"
   ]
  },
  {
   "cell_type": "code",
   "execution_count": 7,
   "metadata": {},
   "outputs": [
    {
     "data": {
      "text/plain": [
       "4"
      ]
     },
     "execution_count": 7,
     "metadata": {},
     "output_type": "execute_result"
    }
   ],
   "source": [
    "# totézl number of cells\n",
    "from operator import mul\n",
    "from functools import reduce\n",
    "reduce(mul, board2x2.states.shape)"
   ]
  },
  {
   "cell_type": "markdown",
   "metadata": {},
   "source": [
    "TODO explain reduce"
   ]
  },
  {
   "cell_type": "code",
   "execution_count": 8,
   "metadata": {},
   "outputs": [
    {
     "name": "stdout",
     "output_type": "stream",
     "text": [
      "count_empty=2\n"
     ]
    }
   ],
   "source": [
    "from operator import mul\n",
    "from functools import reduce\n",
    "\n",
    "def count_empty(a_board):\n",
    "    length = reduce(mul, a_board.states.shape)\n",
    "    count = len([ c for c in a_board.states.reshape(length) \n",
    "                         if c == -1])\n",
    "    return count\n",
    "  \n",
    "count = count_empty(board2x2)\n",
    "print(f\"count_empty={count}\")\n",
    "assert count == 2"
   ]
  },
  {
   "cell_type": "markdown",
   "metadata": {},
   "source": [
    "Check for 5x5"
   ]
  },
  {
   "cell_type": "code",
   "execution_count": 9,
   "metadata": {},
   "outputs": [],
   "source": [
    "clues = {\n",
    "    'rows': [1, 3, [1,1], 3, 5],\n",
    "    'cols': [1, 4, [2,2], 4, 1]\n",
    "}"
   ]
  },
  {
   "cell_type": "code",
   "execution_count": 10,
   "metadata": {},
   "outputs": [
    {
     "name": "stdout",
     "output_type": "stream",
     "text": [
      "cols: 1 4 [2, 2] 4 1\n",
      "rows:\n",
      "1\n",
      "3\n",
      "[1, 1]\n",
      "3\n",
      "5\n",
      "[['.' '.' '.' '.' '.']\n",
      " ['.' '.' '.' '.' '.']\n",
      " ['.' '.' 'x' '.' '.']\n",
      " ['.' '.' '.' '.' '.']\n",
      " ['o' '.' '.' '.' '.']]\n",
      "count_empty=23\n"
     ]
    }
   ],
   "source": [
    "puzzle5x5s = Puzzle(clues5x5s)\n",
    "board5x5s = Board(puzzle5x5s)\n",
    "board5x5s.mark(4, 0, BoardMark.BLACK) \n",
    "board5x5s.mark(2, 2, BoardMark.FILLER) \n",
    "board5x5s.prettyprint()\n",
    "count = count_empty(board5x5s)\n",
    "print(f\"count_empty={count}\")\n",
    "assert count == reduce(mul, board5x5s.states.shape) - 2"
   ]
  },
  {
   "cell_type": "markdown",
   "metadata": {},
   "source": [
    "## 2.5. Check whether board hold the clues"
   ]
  },
  {
   "cell_type": "code",
   "execution_count": 11,
   "metadata": {},
   "outputs": [
    {
     "data": {
      "text/plain": [
       "{'rows': [[1], [2]], 'cols': [[2], [1]]}"
      ]
     },
     "execution_count": 11,
     "metadata": {},
     "output_type": "execute_result"
    }
   ],
   "source": [
    "puzzle2x2 = Puzzle(clues2x2)\n",
    "norm_clues2x2 = puzzle2x2.norm_clues\n",
    "norm_clues2x2"
   ]
  },
  {
   "cell_type": "code",
   "execution_count": 12,
   "metadata": {},
   "outputs": [
    {
     "name": "stdout",
     "output_type": "stream",
     "text": [
      "cols: 2 1\n",
      "rows:\n",
      "1\n",
      "2\n",
      "[['.' '.']\n",
      " ['.' '.']]\n",
      "cols: 2 1\n",
      "rows:\n",
      "1\n",
      "2\n",
      "[['o' 'x']\n",
      " ['o' 'o']]\n"
     ]
    }
   ],
   "source": [
    "board2x2 = Board(puzzle2x2)\n",
    "board2x2.prettyprint()\n",
    "board2x2.mark(0, 0, BoardMark.BLACK) \n",
    "board2x2.mark(0, 1, BoardMark.FILLER) \n",
    "board2x2.mark(1, 0, BoardMark.BLACK) \n",
    "board2x2.mark(1, 1, BoardMark.BLACK) \n",
    "board2x2.prettyprint()"
   ]
  },
  {
   "cell_type": "code",
   "execution_count": 13,
   "metadata": {},
   "outputs": [
    {
     "data": {
      "text/plain": [
       "array([[1, 0],\n",
       "       [1, 1]])"
      ]
     },
     "execution_count": 13,
     "metadata": {},
     "output_type": "execute_result"
    }
   ],
   "source": [
    "rows = board2x2.states\n",
    "rows"
   ]
  },
  {
   "cell_type": "code",
   "execution_count": 14,
   "metadata": {},
   "outputs": [],
   "source": [
    "from itertools import groupby"
   ]
  },
  {
   "cell_type": "code",
   "execution_count": 15,
   "metadata": {},
   "outputs": [
    {
     "data": {
      "text/plain": [
       "[[(1, 1)], [(1, 1, 1)]]"
      ]
     },
     "execution_count": 15,
     "metadata": {},
     "output_type": "execute_result"
    }
   ],
   "source": [
    "# group cells by value and select groups where group key is 1 (BLACK)\n",
    "[ [(k, *g) for k,g in groupby(line) if k==1]\n",
    "  for line in rows\n",
    "]\n",
    "# it outputs tuples where the first element is the key, \n",
    "# and the rest are the elements in the \n",
    "# there are two list (one for each row)\n",
    "# row 0 : has 1 black cell (1=BLACK key, 1=the cell)\n",
    "# row 1 : has 2 black cells (1=BLACK key, 1,1=the cells)"
   ]
  },
  {
   "cell_type": "code",
   "execution_count": 16,
   "metadata": {},
   "outputs": [
    {
     "name": "stdout",
     "output_type": "stream",
     "text": [
      "blocks=[[1], [2]]\n"
     ]
    }
   ],
   "source": [
    "# transform to a list of block length\n",
    "blocks = [ [len(list(g)) for k,g in groupby(line) if k==1]\n",
    "           for line in rows\n",
    "]\n",
    "print(f\"blocks={blocks}\")\n",
    "assert blocks == norm_clues2x2['rows'] "
   ]
  },
  {
   "cell_type": "code",
   "execution_count": 17,
   "metadata": {},
   "outputs": [],
   "source": [
    "assert blocks == norm_clues2x2['rows'] "
   ]
  },
  {
   "cell_type": "code",
   "execution_count": 18,
   "metadata": {},
   "outputs": [
    {
     "data": {
      "text/plain": [
       "[[1, 1], [0, 1]]"
      ]
     },
     "execution_count": 18,
     "metadata": {},
     "output_type": "execute_result"
    }
   ],
   "source": [
    "w = board2x2.states.shape[0]\n",
    "h = board2x2.states.shape[1]\n",
    "length = mul(w, h)\n",
    "cols = [ [board2x2.states.reshape(length)[c+r*w]\n",
    "         for r in range(0, h)]\n",
    "         for c in range(0, w)]\n",
    "cols"
   ]
  },
  {
   "cell_type": "code",
   "execution_count": 19,
   "metadata": {},
   "outputs": [
    {
     "name": "stdout",
     "output_type": "stream",
     "text": [
      "blocks=[[2], [1]]\n"
     ]
    }
   ],
   "source": [
    "blocks = [ [len(list(g)) for k,g in groupby(line) if k==1]\n",
    "  for line in cols\n",
    "]\n",
    "print(f\"blocks={blocks}\")\n",
    "assert blocks == norm_clues2x2['cols'] "
   ]
  },
  {
   "cell_type": "code",
   "execution_count": 20,
   "metadata": {},
   "outputs": [],
   "source": [
    "def get_rows_blocks(a_board):\n",
    "    rows = a_board.states\n",
    "    blocks = [ [len(list(g)) for k,g in groupby(line) if k==1]\n",
    "           for line in rows\n",
    "    ]\n",
    "    return blocks\n",
    "\n",
    "def get_cols_blocks(a_board):\n",
    "    w = a_board.states.shape[0]\n",
    "    h = a_board.states.shape[1]\n",
    "    length = mul(w, h)\n",
    "    cols = [ [a_board.states.reshape(length)[c+r*w]\n",
    "         for r in range(0, h)]\n",
    "         for c in range(0, w)]\n",
    "    blocks = [ [len(list(g)) for k,g in groupby(line) if k==1]\n",
    "      for line in cols\n",
    "    ]\n",
    "    return blocks"
   ]
  },
  {
   "cell_type": "code",
   "execution_count": 21,
   "metadata": {},
   "outputs": [],
   "source": [
    "assert get_rows_blocks(board2x2) == norm_clues2x2['rows'] "
   ]
  },
  {
   "cell_type": "code",
   "execution_count": 22,
   "metadata": {},
   "outputs": [],
   "source": [
    "assert get_cols_blocks(board2x2)  == norm_clues2x2['cols'] "
   ]
  },
  {
   "cell_type": "markdown",
   "metadata": {},
   "source": [
    "check 5x5s"
   ]
  },
  {
   "cell_type": "code",
   "execution_count": 23,
   "metadata": {},
   "outputs": [
    {
     "name": "stdout",
     "output_type": "stream",
     "text": [
      "cols: 1 4 [2, 2] 4 1\n",
      "rows:\n",
      "1\n",
      "3\n",
      "[1, 1]\n",
      "3\n",
      "5\n",
      "[['.' '.' '.' '.' '.']\n",
      " ['.' '.' '.' '.' '.']\n",
      " ['.' '.' 'x' '.' '.']\n",
      " ['.' '.' '.' '.' '.']\n",
      " ['o' '.' '.' '.' '.']]\n",
      "count empty=23\n"
     ]
    }
   ],
   "source": [
    "puzzle5x5s = Puzzle(clues5x5s)\n",
    "board5x5s = Board(puzzle5x5s)\n",
    "board5x5s.mark(4, 0, BoardMark.BLACK) \n",
    "board5x5s.mark(2, 2, BoardMark.FILLER) \n",
    "board5x5s.prettyprint()\n",
    "count = count_empty(board5x5s)\n",
    "print(f\"count empty={count}\")\n"
   ]
  },
  {
   "cell_type": "code",
   "execution_count": 24,
   "metadata": {},
   "outputs": [
    {
     "data": {
      "text/plain": [
       "[[], [], [], [], [1]]"
      ]
     },
     "execution_count": 24,
     "metadata": {},
     "output_type": "execute_result"
    }
   ],
   "source": [
    "get_rows_blocks(board5x5s)"
   ]
  },
  {
   "cell_type": "code",
   "execution_count": 25,
   "metadata": {},
   "outputs": [],
   "source": [
    "# 1 BLACK on row 4\n",
    "assert get_rows_blocks(board5x5s) == [[], [], [], [], [1]]"
   ]
  },
  {
   "cell_type": "code",
   "execution_count": 26,
   "metadata": {},
   "outputs": [
    {
     "data": {
      "text/plain": [
       "[[1], [], [], [], []]"
      ]
     },
     "execution_count": 26,
     "metadata": {},
     "output_type": "execute_result"
    }
   ],
   "source": [
    "get_cols_blocks(board5x5s)"
   ]
  },
  {
   "cell_type": "code",
   "execution_count": 27,
   "metadata": {},
   "outputs": [],
   "source": [
    "# 1 BLACK on col 0\n",
    "assert get_cols_blocks(board5x5s) == [[1], [], [], [], []]"
   ]
  },
  {
   "cell_type": "markdown",
   "metadata": {},
   "source": [
    "## 2.6. Get score\n",
    "\n",
    "Score may be computed\n",
    "- from the number of errors in try-and-error process\n",
    "- from the number of differences between proposed solutiion and the known solutiion\n",
    "- from the number of violations of the clues"
   ]
  },
  {
   "cell_type": "code",
   "execution_count": 28,
   "metadata": {},
   "outputs": [
    {
     "data": {
      "text/plain": [
       "[(1, 1), (1, 0), (0, 1), (1, 1)]"
      ]
     },
     "execution_count": 28,
     "metadata": {},
     "output_type": "execute_result"
    }
   ],
   "source": [
    "# difference between proposed and expected\n",
    "\n",
    "proposed = [1, 1, 0, 1]\n",
    "expected = [1, 0, 1, 1]\n",
    "[(p,e) for (p,e) in zip(proposed, expected)]"
   ]
  },
  {
   "cell_type": "code",
   "execution_count": 29,
   "metadata": {},
   "outputs": [
    {
     "data": {
      "text/plain": [
       "[0, 1, 1, 0]"
      ]
     },
     "execution_count": 29,
     "metadata": {},
     "output_type": "execute_result"
    }
   ],
   "source": [
    "[abs(p-e) for (p,e) in zip(proposed, expected)]"
   ]
  },
  {
   "cell_type": "code",
   "execution_count": 30,
   "metadata": {},
   "outputs": [
    {
     "data": {
      "text/plain": [
       "2"
      ]
     },
     "execution_count": 30,
     "metadata": {},
     "output_type": "execute_result"
    }
   ],
   "source": [
    "errors = sum([abs(p-e) for (p,e) in zip(proposed, expected)])\n",
    "errors"
   ]
  },
  {
   "cell_type": "code",
   "execution_count": 31,
   "metadata": {},
   "outputs": [
    {
     "data": {
      "text/plain": [
       "0.5"
      ]
     },
     "execution_count": 31,
     "metadata": {},
     "output_type": "execute_result"
    }
   ],
   "source": [
    "# score\n",
    "(len(expected) - errors) / len(expected)"
   ]
  },
  {
   "cell_type": "code",
   "execution_count": 32,
   "metadata": {},
   "outputs": [
    {
     "data": {
      "text/plain": [
       "[0, 1, 0]"
      ]
     },
     "execution_count": 32,
     "metadata": {},
     "output_type": "execute_result"
    }
   ],
   "source": [
    "# take left empty into account\n",
    "proposed = [1, -1, 0, 1]\n",
    "[abs(p-e) for (p,e) in zip(proposed, expected) if p>=0]"
   ]
  },
  {
   "cell_type": "code",
   "execution_count": 33,
   "metadata": {},
   "outputs": [
    {
     "data": {
      "text/plain": [
       "1"
      ]
     },
     "execution_count": 33,
     "metadata": {},
     "output_type": "execute_result"
    }
   ],
   "source": [
    "errors = sum([abs(p-e) for (p,e) in zip(proposed, expected) if p>=0])\n",
    "errors"
   ]
  },
  {
   "cell_type": "code",
   "execution_count": 34,
   "metadata": {},
   "outputs": [
    {
     "data": {
      "text/plain": [
       "1"
      ]
     },
     "execution_count": 34,
     "metadata": {},
     "output_type": "execute_result"
    }
   ],
   "source": [
    "empty = sum([abs(p) for p in proposed if p<0])\n",
    "empty"
   ]
  },
  {
   "cell_type": "code",
   "execution_count": 35,
   "metadata": {},
   "outputs": [
    {
     "data": {
      "text/plain": [
       "0.5"
      ]
     },
     "execution_count": 35,
     "metadata": {},
     "output_type": "execute_result"
    }
   ],
   "source": [
    "# score\n",
    "(len(expected) - errors - empty) / len(expected)"
   ]
  },
  {
   "cell_type": "code",
   "execution_count": 36,
   "metadata": {},
   "outputs": [],
   "source": [
    "# TODO score for board update"
   ]
  },
  {
   "cell_type": "markdown",
   "metadata": {},
   "source": [
    "## count errors "
   ]
  },
  {
   "cell_type": "code",
   "execution_count": 37,
   "metadata": {},
   "outputs": [
    {
     "data": {
      "text/plain": [
       "[([2], [1]), ([1], [2])]"
      ]
     },
     "execution_count": 37,
     "metadata": {},
     "output_type": "execute_result"
    }
   ],
   "source": [
    "list(zip(blocks, puzzle2x2.norm_clues[\"rows\"]))"
   ]
  },
  {
   "cell_type": "code",
   "execution_count": 38,
   "metadata": {},
   "outputs": [
    {
     "data": {
      "text/plain": [
       "[1, 1]"
      ]
     },
     "execution_count": 38,
     "metadata": {},
     "output_type": "execute_result"
    }
   ],
   "source": [
    "[abs(sum(b)-sum(c)) for (b,c) in zip(blocks, puzzle2x2.norm_clues[\"rows\"])]"
   ]
  },
  {
   "cell_type": "code",
   "execution_count": 39,
   "metadata": {},
   "outputs": [
    {
     "data": {
      "text/plain": [
       "2"
      ]
     },
     "execution_count": 39,
     "metadata": {},
     "output_type": "execute_result"
    }
   ],
   "source": [
    "sum([abs(sum(b)-sum(c)) for (b,c) in zip(blocks, puzzle2x2.norm_clues[\"rows\"])])"
   ]
  },
  {
   "cell_type": "code",
   "execution_count": 40,
   "metadata": {},
   "outputs": [
    {
     "data": {
      "text/plain": [
       "[[2], [2]]"
      ]
     },
     "execution_count": 40,
     "metadata": {},
     "output_type": "execute_result"
    }
   ],
   "source": [
    "states = np.array([[1,1], [1,1]])\n",
    "rows = states\n",
    "blocks = [ [len(list(g)) for k,g in groupby(line) if k==1]\n",
    "           for line in rows]\n",
    "blocks"
   ]
  },
  {
   "cell_type": "code",
   "execution_count": 41,
   "metadata": {},
   "outputs": [
    {
     "data": {
      "text/plain": [
       "1"
      ]
     },
     "execution_count": 41,
     "metadata": {},
     "output_type": "execute_result"
    }
   ],
   "source": [
    "sum([abs(sum(b)-sum(c)) for (b,c) in zip(blocks, puzzle2x2.norm_clues[\"rows\"])])"
   ]
  },
  {
   "cell_type": "code",
   "execution_count": 42,
   "metadata": {},
   "outputs": [
    {
     "data": {
      "text/plain": [
       "[[1], [3], [1, 1], [3], [5]]"
      ]
     },
     "execution_count": 42,
     "metadata": {},
     "output_type": "execute_result"
    }
   ],
   "source": [
    "puzzle5x5s = Puzzle(clues5x5s)\n",
    "puzzle5x5s.norm_clues[\"rows\"]"
   ]
  },
  {
   "cell_type": "code",
   "execution_count": 43,
   "metadata": {},
   "outputs": [
    {
     "data": {
      "text/plain": [
       "[[1], [3], [1, 1], [3], [5]]"
      ]
     },
     "execution_count": 43,
     "metadata": {},
     "output_type": "execute_result"
    }
   ],
   "source": [
    "rows = solution5x5s\n",
    "blocks = [ [len(list(g)) for k,g in groupby(line) if k==1]\n",
    "           for line in rows]\n",
    "blocks"
   ]
  },
  {
   "cell_type": "code",
   "execution_count": 44,
   "metadata": {},
   "outputs": [
    {
     "data": {
      "text/plain": [
       "0"
      ]
     },
     "execution_count": 44,
     "metadata": {},
     "output_type": "execute_result"
    }
   ],
   "source": [
    "sum([abs(sum(b)-sum(c)) for (b,c) in zip(blocks, puzzle5x5s.norm_clues[\"rows\"])])"
   ]
  },
  {
   "cell_type": "code",
   "execution_count": 45,
   "metadata": {},
   "outputs": [
    {
     "data": {
      "text/plain": [
       "1"
      ]
     },
     "execution_count": 45,
     "metadata": {},
     "output_type": "execute_result"
    }
   ],
   "source": [
    "blocks = [[1], [3], [0, 1], [3], [5]]\n",
    "sum([abs(sum(b)-sum(c)) for (b,c) in zip(blocks, puzzle5x5s.norm_clues[\"rows\"])])"
   ]
  },
  {
   "cell_type": "code",
   "execution_count": 46,
   "metadata": {},
   "outputs": [
    {
     "data": {
      "text/plain": [
       "3"
      ]
     },
     "execution_count": 46,
     "metadata": {},
     "output_type": "execute_result"
    }
   ],
   "source": [
    "blocks = [[1], [3], [0, -1], [3], [5]]\n",
    "sum([abs(sum(b)-sum(c)) for (b,c) in zip(blocks, puzzle5x5s.norm_clues[\"rows\"])])"
   ]
  },
  {
   "cell_type": "markdown",
   "metadata": {},
   "source": [
    "## nb blacks"
   ]
  },
  {
   "cell_type": "code",
   "execution_count": 47,
   "metadata": {},
   "outputs": [
    {
     "data": {
      "text/plain": [
       "[[], [2]]"
      ]
     },
     "execution_count": 47,
     "metadata": {},
     "output_type": "execute_result"
    }
   ],
   "source": [
    "states = np.array([[-1,0], [1,1]])\n",
    "rows = states\n",
    "blocks = [ [len(list(g)) for k,g in groupby(line) if k==1]\n",
    "           for line in rows]\n",
    "blocks"
   ]
  },
  {
   "cell_type": "code",
   "execution_count": 48,
   "metadata": {},
   "outputs": [
    {
     "data": {
      "text/plain": [
       "1"
      ]
     },
     "execution_count": 48,
     "metadata": {},
     "output_type": "execute_result"
    }
   ],
   "source": [
    "sum([abs(sum(b)-sum(c)) for (b,c) in zip(blocks, puzzle2x2.norm_clues[\"rows\"])])"
   ]
  },
  {
   "cell_type": "markdown",
   "metadata": {},
   "source": [
    "## autofill board"
   ]
  },
  {
   "cell_type": "code",
   "execution_count": 49,
   "metadata": {},
   "outputs": [
    {
     "data": {
      "text/plain": [
       "array([[1, 0],\n",
       "       [1, 1]])"
      ]
     },
     "execution_count": 49,
     "metadata": {},
     "output_type": "execute_result"
    }
   ],
   "source": [
    "states = np.array([[1,-1], [1,1]])\n",
    "states = np.where(states == -1, 0, states)\n",
    "states"
   ]
  },
  {
   "cell_type": "code",
   "execution_count": 50,
   "metadata": {},
   "outputs": [],
   "source": [
    "## nb diff with solution\n"
   ]
  },
  {
   "cell_type": "code",
   "execution_count": 51,
   "metadata": {},
   "outputs": [
    {
     "data": {
      "text/plain": [
       "[1, 0, 1, 1]"
      ]
     },
     "execution_count": 51,
     "metadata": {},
     "output_type": "execute_result"
    }
   ],
   "source": [
    "flat_solution = solution2x2.reshape(4).tolist()\n",
    "flat_solution"
   ]
  },
  {
   "cell_type": "code",
   "execution_count": 52,
   "metadata": {},
   "outputs": [],
   "source": [
    "proposed_solution = [1, 1, 0, 1]"
   ]
  },
  {
   "cell_type": "code",
   "execution_count": 53,
   "metadata": {},
   "outputs": [
    {
     "data": {
      "text/plain": [
       "[0, 1, 1, 0]"
      ]
     },
     "execution_count": 53,
     "metadata": {},
     "output_type": "execute_result"
    }
   ],
   "source": [
    "[abs(p-s) for p,s in zip(proposed_solution, flat_solution)]"
   ]
  },
  {
   "cell_type": "code",
   "execution_count": 54,
   "metadata": {},
   "outputs": [],
   "source": [
    "proposed_solution = [1, -1, 0, 1]"
   ]
  },
  {
   "cell_type": "code",
   "execution_count": 55,
   "metadata": {},
   "outputs": [
    {
     "data": {
      "text/plain": [
       "[0, 1, 0]"
      ]
     },
     "execution_count": 55,
     "metadata": {},
     "output_type": "execute_result"
    }
   ],
   "source": [
    "[abs(p-s) for p,s in zip(proposed_solution, flat_solution) if p!=-1] "
   ]
  },
  {
   "cell_type": "code",
   "execution_count": 56,
   "metadata": {},
   "outputs": [
    {
     "data": {
      "text/plain": [
       "1"
      ]
     },
     "execution_count": 56,
     "metadata": {},
     "output_type": "execute_result"
    }
   ],
   "source": [
    "sum([abs(p-s) for p,s in zip(proposed_solution, flat_solution) if p!=-1] )"
   ]
  },
  {
   "cell_type": "markdown",
   "metadata": {},
   "source": [
    "## play multiple"
   ]
  },
  {
   "cell_type": "code",
   "execution_count": 39,
   "metadata": {},
   "outputs": [],
   "source": [
    "puzzle2x2 = Puzzle(clues2x2)\n",
    "board2x2 = Board(puzzle2x2)"
   ]
  },
  {
   "cell_type": "code",
   "execution_count": 36,
   "metadata": {},
   "outputs": [],
   "source": [
    "def play_multiple(row, col, mark, axis, count):\n",
    "    if axis == 0: # row\n",
    "        for i in range(col, min(2,col+count)):\n",
    "            board2x2.mark(row, i, mark) \n",
    "    if axis == 1: # row\n",
    "        for i in range(row, min(2,row+count)):\n",
    "            board2x2.mark(i, col, mark) "
   ]
  },
  {
   "cell_type": "code",
   "execution_count": 17,
   "metadata": {},
   "outputs": [],
   "source": [
    "play_multiple(0, 0, BoardMark.BLACK, 0, 2) "
   ]
  },
  {
   "cell_type": "code",
   "execution_count": 18,
   "metadata": {},
   "outputs": [
    {
     "data": {
      "image/png": "[encoded data removed]",
      "text/plain": [
       "<Figure size 72x72 with 1 Axes>"
      ]
     },
     "metadata": {
      "needs_background": "light"
     },
     "output_type": "display_data"
    }
   ],
   "source": [
    "plotter2x2 = BoardPlotter(puzzle2x2)\n",
    "plotter2x2.show(board2x2)"
   ]
  },
  {
   "cell_type": "code",
   "execution_count": 19,
   "metadata": {},
   "outputs": [],
   "source": [
    "play_multiple(0, 0, BoardMark.BLACK, 1, 2) "
   ]
  },
  {
   "cell_type": "code",
   "execution_count": 20,
   "metadata": {},
   "outputs": [
    {
     "data": {
      "image/png": "[encoded data removed]",
      "text/plain": [
       "<Figure size 72x72 with 1 Axes>"
      ]
     },
     "metadata": {
      "needs_background": "light"
     },
     "output_type": "display_data"
    }
   ],
   "source": [
    "plotter2x2.show(board2x2)"
   ]
  },
  {
   "cell_type": "code",
   "execution_count": 40,
   "metadata": {},
   "outputs": [],
   "source": [
    "# out of bound\n",
    "puzzle2x2 = Puzzle(clues2x2)\n",
    "board2x2 = Board(puzzle2x2)\n",
    "play_multiple(1, 1, BoardMark.BLACK, 1, 2) "
   ]
  },
  {
   "cell_type": "code",
   "execution_count": 41,
   "metadata": {},
   "outputs": [
    {
     "data": {
      "image/png": "[encoded data removed]",
      "text/plain": [
       "<Figure size 72x72 with 1 Axes>"
      ]
     },
     "metadata": {
      "needs_background": "light"
     },
     "output_type": "display_data"
    }
   ],
   "source": [
    "plotter2x2.show(board2x2)"
   ]
  },
  {
   "cell_type": "markdown",
   "metadata": {},
   "source": [
    "# 3. updated classes "
   ]
  },
  {
   "cell_type": "code",
   "execution_count": 57,
   "metadata": {},
   "outputs": [],
   "source": [
    "%reset -f"
   ]
  },
  {
   "cell_type": "markdown",
   "metadata": {},
   "source": [
    "TODO\n",
    "\n",
    "Some solver will do operations on clues without having a board. For instance evaluate the total number of blacks cells in order to randomly place an equal nulber of blacks.\n",
    "\n",
    "The game rules must be a separate class."
   ]
  },
  {
   "cell_type": "code",
   "execution_count": 58,
   "metadata": {},
   "outputs": [],
   "source": [
    "from episode01 import clues2x2, clues5x5s, BoardMark\n",
    "from episode02 import solution2x2, solution5x5s"
   ]
  },
  {
   "cell_type": "markdown",
   "metadata": {},
   "source": [
    "## 3.1. Game Engine class"
   ]
  },
  {
   "cell_type": "markdown",
   "metadata": {},
   "source": [
    "TODO explain why puzzle out of game engine"
   ]
  },
  {
   "cell_type": "code",
   "execution_count": 59,
   "metadata": {},
   "outputs": [],
   "source": [
    "%reset -f"
   ]
  },
  {
   "cell_type": "code",
   "execution_count": 60,
   "metadata": {},
   "outputs": [],
   "source": [
    "from episode01 import clues2x2, clues5x5s, Board, BoardMark\n",
    "from episode02 import solution2x2, solution5x5s, GameEngine\n",
    "from episode03b import Puzzle, Board, BoardMark, BoardPlotter"
   ]
  },
  {
   "cell_type": "markdown",
   "metadata": {},
   "source": [
    "Changes to the class GameEngine\n",
    "\n",
    "TODO\n",
    "\n",
    "use puzlle\n",
    "\n",
    "check whether rules are borcken\n",
    "\n",
    "game progress utilities"
   ]
  },
  {
   "cell_type": "code",
   "execution_count": 45,
   "metadata": {},
   "outputs": [],
   "source": [
    "import numpy as np\n",
    "\n",
    "class BoardGameEngine:\n",
    "    '''\n",
    "    Provide utilities for board game\n",
    "    '''\n",
    "    \n",
    "    def __init__(self, a_puzzle):\n",
    "        '''\n",
    "        Engine constructor\n",
    "        '''\n",
    "            \n",
    "        self.puzzle = a_puzzle\n",
    "        \n",
    "        # init a board\n",
    "        self.board = Board(a_puzzle)\n",
    "        self.plotter = BoardPlotter(a_puzzle)\n",
    "        \n",
    "    def play(self, row, col, mark, apply=True):\n",
    "        pass\n",
    "    \n",
    "    def play_multiple(self, row, col, mark, axis, count):\n",
    "        if axis == 0: # row\n",
    "            for i in range(col, min(self.puzzle.width, col+count)):\n",
    "                self.play(row, i, mark) \n",
    "        if axis == 1: # row\n",
    "            for i in range(row, min(self.puzzle.height, row+count)):\n",
    "                self.play(i, col, mark)\n",
    "            \n",
    "    def show(self):\n",
    "        ''' \n",
    "        Plot the board\n",
    "        '''\n",
    "        self.plotter.show(self.board)  \n",
    "    "
   ]
  },
  {
   "cell_type": "code",
   "execution_count": 62,
   "metadata": {},
   "outputs": [
    {
     "data": {
      "image/png": "[encoded data removed]",
      "text/plain": [
       "<Figure size 72x72 with 1 Axes>"
      ]
     },
     "metadata": {
      "needs_background": "light"
     },
     "output_type": "display_data"
    }
   ],
   "source": [
    "puzzle2x2 = Puzzle(clues2x2)\n",
    "game2x2 = BoardGameEngine(puzzle2x2)\n",
    "board2x2 = game2x2.board\n",
    "board2x2.mark(0, 0, BoardMark.BLACK) \n",
    "game2x2.show()"
   ]
  },
  {
   "cell_type": "code",
   "execution_count": 46,
   "metadata": {},
   "outputs": [],
   "source": [
    "from itertools import groupby\n",
    "from operator import mul\n",
    "\n",
    "class NonoGameEngine(BoardGameEngine):\n",
    "    '''\n",
    "    Provide utilities for nonogram game without given solution\n",
    "    '''\n",
    "    \n",
    "    def __init__(self, a_puzzle):\n",
    "        '''\n",
    "        Engine constructor\n",
    "        '''\n",
    "            \n",
    "        super().__init__(a_puzzle)\n",
    "\n",
    "        \n",
    "    def play(self, row, col, mark, apply=True):\n",
    "        ''' \n",
    "        Play the game by sending the state of one cell\n",
    "        Always return True\n",
    "        If apply, update the board\n",
    "        '''\n",
    "        if apply:\n",
    "            # apply the given state \n",
    "            self.board.mark(row, col, mark)\n",
    "        return True  \n",
    "    \n",
    "    \n",
    "    # todo append submissions`\n",
    "    # todo autofill\n",
    "    def submit(self, states_list):\n",
    "        ''' \n",
    "        Submit the solution and give all the cells's state in one action\n",
    "        Check whether the states given a the registered solution (assumes it has been given)\n",
    "        Returns the number of errors\n",
    "        black missing are counted as errors - fillers are ignored\n",
    "        '''\n",
    "        self.board.fill_all(states_list)\n",
    "        # board is okay if without errors on blacks\n",
    "        return self.count_errors()\n",
    "           \n",
    "        \n",
    "    def is_solved(self):\n",
    "        '''\n",
    "        Check whether the puzzle is solved\n",
    "        Accept that filler cells are left undefined. \n",
    "        In other words only take blacks into account\n",
    "        '''\n",
    "        return self.count_errors() == 0\n",
    "    \n",
    "    \n",
    "    def count_empty(self):\n",
    "        return self.board.count_empty()\n",
    "    \n",
    "    \n",
    "    # todo document that ignore unfilled\n",
    "    def count_errors(self):\n",
    "        '''\n",
    "        Compute the difference between given board and clues\n",
    "        '''\n",
    "        \n",
    "        # for rows\n",
    "        board_rows = self.get_rows_blocks()\n",
    "        clues_rows = self.puzzle.norm_clues[\"rows\"]\n",
    "        rows_errors = sum([abs(sum(b)-sum(c)) for (b,c) in zip(board_rows, clues_rows)])\n",
    "        # for cols\n",
    "        board_cols = self.get_cols_blocks()\n",
    "        clues_cols = self.puzzle.norm_clues[\"cols\"]\n",
    "        cols_errors = sum([abs(sum(b)-sum(c)) for (b,c) in zip(board_cols, clues_cols)])\n",
    "        return int((rows_errors + cols_errors)/2) # row error => col error\n",
    "\n",
    "    \n",
    "    def get_rows_blocks(self):\n",
    "        '''\n",
    "        Compute blocks for each rows\n",
    "        '''\n",
    "        \n",
    "        rows = self.board.states\n",
    "        blocks = [ [len(list(g)) for k,g in groupby(line) if k==1]\n",
    "                   for line in rows]\n",
    "        return blocks\n",
    "\n",
    "    \n",
    "    def get_cols_blocks(self):\n",
    "        '''\n",
    "        Compute blocks for each cols\n",
    "        '''\n",
    "        \n",
    "        w = self.board.states.shape[0]\n",
    "        h = self.board.states.shape[1]\n",
    "        length = mul(w, h)\n",
    "        cols = [ [self.board.states.reshape(length)[c+r*w]\n",
    "                     for r in range(0, h)]\n",
    "                 for c in range(0, w)]\n",
    "        blocks = [ [len(list(g)) for k,g in groupby(line) if k==1]\n",
    "                   for line in cols]\n",
    "        return blocks    \n"
   ]
  },
  {
   "cell_type": "code",
   "execution_count": 64,
   "metadata": {},
   "outputs": [
    {
     "data": {
      "image/png": "[encoded data removed]",
      "text/plain": [
       "<Figure size 72x72 with 1 Axes>"
      ]
     },
     "metadata": {
      "needs_background": "light"
     },
     "output_type": "display_data"
    }
   ],
   "source": [
    "# no errors \n",
    "puzzle2x2 = Puzzle(clues2x2)\n",
    "game2x2 = NonoGameEngine(puzzle2x2)\n",
    "\n",
    "game2x2.play(0, 0, BoardMark.BLACK) \n",
    "assert game2x2.count_empty() == 3\n",
    "assert not game2x2.is_solved()\n",
    "\n",
    "game2x2.play(1, 0, BoardMark.BLACK) \n",
    "game2x2.play(1, 1, BoardMark.BLACK) \n",
    "\n",
    "assert game2x2.count_empty() == 1\n",
    "assert game2x2.count_errors() == 0\n",
    "assert game2x2.is_solved()\n",
    "\n",
    "game2x2.show()"
   ]
  },
  {
   "cell_type": "code",
   "execution_count": 65,
   "metadata": {},
   "outputs": [
    {
     "data": {
      "image/png": "[encoded data removed]",
      "text/plain": [
       "<Figure size 72x72 with 1 Axes>"
      ]
     },
     "metadata": {
      "needs_background": "light"
     },
     "output_type": "display_data"
    }
   ],
   "source": [
    "# submit no errors\n",
    "puzzle2x2 = Puzzle(clues2x2)\n",
    "game2x2 = NonoGameEngine(puzzle2x2)\n",
    "\n",
    "n_errors = game2x2.submit([1,0,1,1])\n",
    "assert n_errors == 0\n",
    "assert game2x2.count_empty() == 0\n",
    "assert game2x2.count_errors() == 0\n",
    "assert game2x2.is_solved()\n",
    "\n",
    "game2x2.show()"
   ]
  },
  {
   "cell_type": "code",
   "execution_count": 66,
   "metadata": {},
   "outputs": [
    {
     "data": {
      "image/png": "[encoded data removed]",
      "text/plain": [
       "<Figure size 72x72 with 1 Axes>"
      ]
     },
     "metadata": {
      "needs_background": "light"
     },
     "output_type": "display_data"
    }
   ],
   "source": [
    "# submit with errors\n",
    "puzzle2x2 = Puzzle(clues2x2)\n",
    "game2x2 = NonoGameEngine(puzzle2x2)\n",
    "\n",
    "n_errors = game2x2.submit([1,1,0,1])\n",
    "assert n_errors == 2\n",
    "assert game2x2.count_empty() == 0\n",
    "assert game2x2.count_errors() == 2\n",
    "assert not game2x2.is_solved()\n",
    "\n",
    "game2x2.show()"
   ]
  },
  {
   "cell_type": "code",
   "execution_count": 26,
   "metadata": {},
   "outputs": [
    {
     "data": {
      "image/png": "[encoded data removed]",
      "text/plain": [
       "<Figure size 72x72 with 1 Axes>"
      ]
     },
     "metadata": {
      "needs_background": "light"
     },
     "output_type": "display_data"
    }
   ],
   "source": [
    "# multiple\n",
    "puzzle2x2 = Puzzle(clues2x2)\n",
    "game2x2 = NonoGameEngine(puzzle2x2)\n",
    "\n",
    "game2x2.play_multiple(0, 0, BoardMark.BLACK, 1, 2) \n",
    "game2x2.play_multiple(1, 0, BoardMark.BLACK, 0, 2) \n",
    "\n",
    "assert game2x2.count_empty() == 1\n",
    "assert game2x2.count_errors() == 0\n",
    "\n",
    "game2x2.show()"
   ]
  },
  {
   "cell_type": "code",
   "execution_count": 47,
   "metadata": {},
   "outputs": [
    {
     "data": {
      "image/png": "[encoded data removed]",
      "text/plain": [
       "<Figure size 72x72 with 1 Axes>"
      ]
     },
     "metadata": {
      "needs_background": "light"
     },
     "output_type": "display_data"
    }
   ],
   "source": [
    "# multiple out of bound\n",
    "puzzle2x2 = Puzzle(clues2x2)\n",
    "game2x2 = NonoGameEngine(puzzle2x2)\n",
    "\n",
    "game2x2.play_multiple(0, 0, BoardMark.BLACK, 1, 2) \n",
    "game2x2.play_multiple(1, 1, BoardMark.BLACK, 0, 2) \n",
    "\n",
    "assert game2x2.count_empty() == 1\n",
    "assert game2x2.count_errors() == 0\n",
    "\n",
    "game2x2.show()"
   ]
  },
  {
   "cell_type": "code",
   "execution_count": 67,
   "metadata": {},
   "outputs": [
    {
     "data": {
      "image/png": "[encoded data removed]",
      "text/plain": [
       "<Figure size 144x144 with 1 Axes>"
      ]
     },
     "metadata": {
      "needs_background": "light"
     },
     "output_type": "display_data"
    }
   ],
   "source": [
    "# submit 5x5s\n",
    "puzzle5x5s = Puzzle(clues5x5s)\n",
    "assert puzzle5x5s.is_consistent()\n",
    "\n",
    "game5x5s = NonoGameEngine(puzzle5x5s)\n",
    "\n",
    "game5x5s.submit(solution5x5s.reshape(puzzle5x5s.cells_count).tolist())\n",
    "assert game5x5s.is_solved()\n",
    "\n",
    "game5x5s.show()"
   ]
  },
  {
   "cell_type": "code",
   "execution_count": 27,
   "metadata": {},
   "outputs": [],
   "source": [
    "class SolvedNonoGameEngine(NonoGameEngine):\n",
    "    '''\n",
    "    Provide utilities for nonogram game without with given  solution\n",
    "    '''\n",
    "    \n",
    "    def __init__(self, a_puzzle, a_solution):\n",
    "        '''\n",
    "        Engine constructor\n",
    "        '''\n",
    "        super().__init__(a_puzzle)\n",
    "            \n",
    "        self.solution = a_solution\n",
    "        self.flat_solution = self.solution.reshape(self.puzzle.cells_count).tolist()\n",
    "        \n",
    "        # init score\n",
    "        self.errors = 0\n",
    "        \n",
    "        \n",
    "    def play(self, row, col, mark, apply=True):\n",
    "        ''' \n",
    "        Play the game by sending the state of one cell\n",
    "        Check whether an action is valid given a solution \n",
    "        If apply, update the board\n",
    "        '''\n",
    "        okay = self.solution[row, col] == mark.value   \n",
    "        if not okay:\n",
    "            self.errors += 1\n",
    "           \n",
    "        if apply:\n",
    "            # apply the real state which is what games usually do\n",
    "            true_mark = BoardMark(self.solution[row, col])\n",
    "            self.board.mark(row, col, true_mark)\n",
    "        return okay    \n",
    "\n",
    "    \n",
    "    # TODO accept np array\n",
    "    def submit(self, states_list, apply=True):\n",
    "        ''' \n",
    "        Submit the solution and give all the cells's state in one action\n",
    "        Check whether the states given a the registered solution \n",
    "        '''\n",
    "        if apply:\n",
    "            self.board.fill_all(states_list)\n",
    "        # board is okay when blacks are correrct\n",
    "        self.errors = sum([abs(p-e) for (p,e) in zip(states_list, self.flat_solution) if p>=0])\n",
    "        return self.errors\n",
    "    \n",
    "    \n",
    "    # todo document that ignore unfilled\n",
    "    def count_errors(self):\n",
    "        return self.errors \n"
   ]
  },
  {
   "cell_type": "markdown",
   "metadata": {},
   "source": [
    "Test 2x2"
   ]
  },
  {
   "cell_type": "code",
   "execution_count": 69,
   "metadata": {},
   "outputs": [
    {
     "data": {
      "image/png": "[encoded data removed]",
      "text/plain": [
       "<Figure size 72x72 with 1 Axes>"
      ]
     },
     "metadata": {
      "needs_background": "light"
     },
     "output_type": "display_data"
    }
   ],
   "source": [
    "# one at a time \n",
    "puzzle2x2 = Puzzle(clues2x2)\n",
    "game2x2 = SolvedNonoGameEngine(puzzle2x2, solution2x2)\n",
    "okay = game2x2.play(0, 0, BoardMark.FILLER) # error -> fixed but colunted error\n",
    "assert not okay\n",
    "okay = game2x2.play(1, 0, BoardMark.BLACK) # correct\n",
    "assert okay\n",
    "assert game2x2.errors == 1\n",
    "game2x2.show()"
   ]
  },
  {
   "cell_type": "code",
   "execution_count": 70,
   "metadata": {},
   "outputs": [
    {
     "data": {
      "image/png": "[encoded data removed]",
      "text/plain": [
       "<Figure size 72x72 with 1 Axes>"
      ]
     },
     "metadata": {
      "needs_background": "light"
     },
     "output_type": "display_data"
    }
   ],
   "source": [
    "# submit no errors\n",
    "puzzle2x2 = Puzzle(clues2x2)\n",
    "game2x2 = SolvedNonoGameEngine(puzzle2x2, solution2x2)\n",
    "\n",
    "n_errors = game2x2.submit([1,0,1,1])\n",
    "assert n_errors == 0\n",
    "assert game2x2.count_empty() == 0\n",
    "assert game2x2.count_errors() == 0\n",
    "assert game2x2.is_solved()\n",
    "\n",
    "game2x2.show()"
   ]
  },
  {
   "cell_type": "code",
   "execution_count": 71,
   "metadata": {},
   "outputs": [
    {
     "data": {
      "image/png": "[encoded data removed]",
      "text/plain": [
       "<Figure size 72x72 with 1 Axes>"
      ]
     },
     "metadata": {
      "needs_background": "light"
     },
     "output_type": "display_data"
    }
   ],
   "source": [
    "# submit with errors\n",
    "puzzle2x2 = Puzzle(clues2x2)\n",
    "game2x2 = SolvedNonoGameEngine(puzzle2x2, solution2x2)\n",
    "\n",
    "n_errors = game2x2.submit([1,1,0,1])\n",
    "assert n_errors == 2\n",
    "assert game2x2.count_empty() == 0\n",
    "assert game2x2.count_errors() == 2\n",
    "assert not game2x2.is_solved()\n",
    "\n",
    "game2x2.show()"
   ]
  },
  {
   "cell_type": "code",
   "execution_count": 72,
   "metadata": {},
   "outputs": [
    {
     "data": {
      "image/png": "[encoded data removed]",
      "text/plain": [
       "<Figure size 72x72 with 1 Axes>"
      ]
     },
     "metadata": {
      "needs_background": "light"
     },
     "output_type": "display_data"
    }
   ],
   "source": [
    "# play no apply\n",
    "puzzle2x2 = Puzzle(clues2x2)\n",
    "game2x2 = SolvedNonoGameEngine(puzzle2x2, solution2x2)\n",
    "\n",
    "okay = game2x2.play(0, 0, BoardMark.FILLER, apply=False) \n",
    "assert not okay\n",
    "assert game2x2.count_errors() == 1 # wrong play\n",
    "assert game2x2.count_empty() == 4\n",
    "assert not game2x2.is_solved()\n",
    "\n",
    "game2x2.show()"
   ]
  },
  {
   "cell_type": "code",
   "execution_count": 73,
   "metadata": {},
   "outputs": [
    {
     "data": {
      "image/png": "[encoded data removed]",
      "text/plain": [
       "<Figure size 72x72 with 1 Axes>"
      ]
     },
     "metadata": {
      "needs_background": "light"
     },
     "output_type": "display_data"
    }
   ],
   "source": [
    "# submit no apply\n",
    "puzzle2x2 = Puzzle(clues2x2)\n",
    "game2x2 = SolvedNonoGameEngine(puzzle2x2, solution2x2)\n",
    "\n",
    "n_errors = game2x2.submit([1,1,0,1], apply=False)\n",
    "assert n_errors == 2\n",
    "assert game2x2.count_errors() == 2 \n",
    "assert game2x2.count_empty() == 4\n",
    "assert not game2x2.is_solved()\n",
    "\n",
    "game2x2.show()"
   ]
  },
  {
   "cell_type": "code",
   "execution_count": 30,
   "metadata": {},
   "outputs": [
    {
     "data": {
      "image/png": "[encoded data removed]",
      "text/plain": [
       "<Figure size 72x72 with 1 Axes>"
      ]
     },
     "metadata": {
      "needs_background": "light"
     },
     "output_type": "display_data"
    }
   ],
   "source": [
    "# multiple\n",
    "puzzle2x2 = Puzzle(clues2x2)\n",
    "game2x2 = SolvedNonoGameEngine(puzzle2x2, solution2x2)\n",
    "\n",
    "game2x2.play_multiple(0, 0, BoardMark.BLACK, 1, 2) \n",
    "game2x2.play_multiple(1, 0, BoardMark.BLACK, 0, 2) \n",
    "\n",
    "assert game2x2.count_empty() == 1\n",
    "assert game2x2.count_errors() == 0\n",
    "\n",
    "game2x2.show()"
   ]
  },
  {
   "cell_type": "code",
   "execution_count": 74,
   "metadata": {},
   "outputs": [
    {
     "data": {
      "image/png": "[encoded data removed]",
      "text/plain": [
       "<Figure size 144x144 with 1 Axes>"
      ]
     },
     "metadata": {
      "needs_background": "light"
     },
     "output_type": "display_data"
    }
   ],
   "source": [
    "# submit 5x5s\n",
    "puzzle5x5s = Puzzle(clues5x5s)\n",
    "assert puzzle5x5s.is_consistent()\n",
    "\n",
    "game5x5s = SolvedNonoGameEngine(puzzle5x5s, solution5x5s)\n",
    "\n",
    "game5x5s.submit(solution5x5s.reshape(puzzle5x5s.cells_count).tolist())\n",
    "assert game5x5s.is_solved()\n",
    "\n",
    "game5x5s.show()"
   ]
  },
  {
   "cell_type": "markdown",
   "metadata": {},
   "source": [
    "# 5. Wrap up"
   ]
  },
  {
   "cell_type": "markdown",
   "metadata": {},
   "source": [
    "We have learned\n",
    "- groupby\n",
    "- Polumorphism\n",
    "\n",
    "The class and solutions are saved in episode03c.py.\n"
   ]
  },
  {
   "cell_type": "markdown",
   "metadata": {},
   "source": [
    "5.1. Quick test of saved classes"
   ]
  },
  {
   "cell_type": "code",
   "execution_count": 75,
   "metadata": {},
   "outputs": [],
   "source": [
    "# reset all variables from tests\n",
    "%reset -f"
   ]
  },
  {
   "cell_type": "code",
   "execution_count": 76,
   "metadata": {},
   "outputs": [],
   "source": [
    "from episode01 import clues2x2, clues5x5s, Board, BoardMark\n",
    "from episode02 import solution2x2, solution5x5s\n",
    "from episode03b import Puzzle, Board, BoardMark, BoardPlotter\n",
    "from episode03c import NonoGameEngine, SolvedNonoGameEngine"
   ]
  },
  {
   "cell_type": "code",
   "execution_count": 77,
   "metadata": {},
   "outputs": [
    {
     "data": {
      "image/png": "[encoded data removed]",
      "text/plain": [
       "<Figure size 144x144 with 1 Axes>"
      ]
     },
     "metadata": {
      "needs_background": "light"
     },
     "output_type": "display_data"
    }
   ],
   "source": [
    "# submit 5x5s\n",
    "puzzle5x5s = Puzzle(clues5x5s)\n",
    "assert puzzle5x5s.is_consistent()\n",
    "\n",
    "game5x5s = NonoGameEngine(puzzle5x5s)\n",
    "\n",
    "game5x5s.submit(solution5x5s.reshape(puzzle5x5s.cells_count).tolist())\n",
    "assert game5x5s.is_solved()\n",
    "\n",
    "game5x5s.show()"
   ]
  },
  {
   "cell_type": "code",
   "execution_count": 78,
   "metadata": {},
   "outputs": [
    {
     "data": {
      "image/png": "[encoded data removed]",
      "text/plain": [
       "<Figure size 144x144 with 1 Axes>"
      ]
     },
     "metadata": {
      "needs_background": "light"
     },
     "output_type": "display_data"
    }
   ],
   "source": [
    "# submit 5x5s\n",
    "puzzle5x5s = Puzzle(clues5x5s)\n",
    "assert puzzle5x5s.is_consistent()\n",
    "\n",
    "game5x5s = SolvedNonoGameEngine(puzzle5x5s, solution5x5s)\n",
    "\n",
    "game5x5s.submit(solution5x5s.reshape(puzzle5x5s.cells_count).tolist())\n",
    "assert game5x5s.is_solved()\n",
    "\n",
    "game5x5s.show()"
   ]
  }
 ],
 "metadata": {
  "kernelspec": {
   "display_name": "Python 3 (ipykernel)",
   "language": "python",
   "name": "python3"
  },
  "language_info": {
   "codemirror_mode": {
    "name": "ipython",
    "version": 3
   },
   "file_extension": ".py",
   "mimetype": "text/x-python",
   "name": "python",
   "nbconvert_exporter": "python",
   "pygments_lexer": "ipython3",
   "version": "3.9.7"
  }
 },
 "nbformat": 4,
 "nbformat_minor": 2
}
