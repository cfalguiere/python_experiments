{
 "cells": [
  {
   "cell_type": "markdown",
   "metadata": {},
   "source": [
    "# Add the capacity to verify the board"
   ]
  },
  {
   "cell_type": "markdown",
   "metadata": {},
   "source": [
    "Checking the board visually is fine for debugging but it does not work well if we want to test a lot of board solutions\n",
    "\n",
    "Goals:\n",
    "- given a board is it completed ? \n",
    "- Are cells left undefined ? \n",
    "- Does it holds the clues ?"
   ]
  },
  {
   "cell_type": "markdown",
   "metadata": {},
   "source": [
    "## Board class from notebook 01"
   ]
  },
  {
   "cell_type": "code",
   "execution_count": 59,
   "metadata": {},
   "outputs": [],
   "source": [
    "import numpy as np\n",
    "from enum import Enum\n",
    "\n",
    "# constants for mark lette\n",
    "class BoardMark(Enum):\n",
    "    INIT = -1\n",
    "    FILLER = 0\n",
    "    BLACK = 1\n",
    "\n",
    "class Board:\n",
    "    '''\n",
    "    Manage the board.\n",
    "    '''\n",
    "    \n",
    "    def __init__(self, some_clues):\n",
    "        '''\n",
    "        board constructor\n",
    "        '''\n",
    "        # given parameters\n",
    "        self.clues = some_clues\n",
    "        # compute board dimensions\n",
    "        self.width = len(self.clues['cols']) \n",
    "        self.height = len(self.clues['rows']) \n",
    "        # create board of type int, initialized with -1\n",
    "        default_value = BoardMark.INIT.value\n",
    "        self.states = np.full((self.height, self.width), default_value, dtype=int)\n",
    "        \n",
    "    def mark(self, row, col, mark):\n",
    "        '''\n",
    "        mark a cell\n",
    "        '''\n",
    "        self.states[row, col] = mark.value\n",
    "\n",
    "    def prettyprint(self):\n",
    "        '''\n",
    "        pretty print of the board \n",
    "        '''\n",
    "        print(\"cols:\", end=\" \")\n",
    "        print(*self.clues['cols']) # * unpacks and remove []s\n",
    "        print(\"rows:\")\n",
    "        [print(r) for r in self.clues['rows']]\n",
    "          \n",
    "        marks_switcher = {-1: '.', 0: 'x', 1: 'o'}\n",
    "        # for whatever reason lambda does not work here\n",
    "        def f_marks(v):\n",
    "            return marks_switcher[v]\n",
    "        applyall = np.vectorize(f_marks)\n",
    "        marks = applyall(self.states)\n",
    "        print(marks)\n"
   ]
  },
  {
   "cell_type": "code",
   "execution_count": 60,
   "metadata": {},
   "outputs": [
    {
     "name": "stdout",
     "output_type": "stream",
     "text": [
      "cols: 2 1\n",
      "rows:\n",
      "1\n",
      "2\n",
      "[['.' '.']\n",
      " ['.' '.']]\n",
      "cols: 2 1\n",
      "rows:\n",
      "1\n",
      "2\n",
      "[['.' 'x']\n",
      " ['.' 'o']]\n"
     ]
    }
   ],
   "source": [
    "# clues for mini game\n",
    "clues = {\n",
    "    'rows': [1, 2],\n",
    "    'cols': [2, 1]\n",
    "}\n",
    "board = Board(clues)\n",
    "board.prettyprint()\n",
    "board.mark(0, 1, BoardMark.FILLER) \n",
    "board.mark(1, 1, BoardMark.BLACK) \n",
    "board.prettyprint()"
   ]
  },
  {
   "cell_type": "markdown",
   "metadata": {},
   "source": [
    "## Get the number of blacks from clues"
   ]
  },
  {
   "cell_type": "code",
   "execution_count": 61,
   "metadata": {},
   "outputs": [],
   "source": [
    "clues = {\n",
    "    'rows': [1, 2],\n",
    "    'cols': [2, 1]\n",
    "}"
   ]
  },
  {
   "cell_type": "code",
   "execution_count": 62,
   "metadata": {},
   "outputs": [
    {
     "data": {
      "text/plain": [
       "3"
      ]
     },
     "execution_count": 62,
     "metadata": {},
     "output_type": "execute_result"
    }
   ],
   "source": [
    "total_blacks = sum(clues['rows'])\n",
    "total_blacks"
   ]
  },
  {
   "cell_type": "code",
   "execution_count": 63,
   "metadata": {},
   "outputs": [],
   "source": [
    "assert total_blacks == 3"
   ]
  },
  {
   "cell_type": "code",
   "execution_count": 64,
   "metadata": {},
   "outputs": [],
   "source": [
    "clues = {\n",
    "    'rows': [1, 3, [1,1], 3, 5],\n",
    "    'cols': [1, 4, [2,2], 4, 1]\n",
    "}"
   ]
  },
  {
   "cell_type": "code",
   "execution_count": 65,
   "metadata": {},
   "outputs": [],
   "source": [
    "# this does work for split blocks like above\n",
    "# assert sum(clues['rows']) == 3\n",
    "# the mix of integers and list results in an error\n",
    "# TypeError: unsupported operand type(s) for +: 'int' and 'list'"
   ]
  },
  {
   "cell_type": "markdown",
   "metadata": {},
   "source": [
    "## Normalize the clues "
   ]
  },
  {
   "cell_type": "markdown",
   "metadata": {},
   "source": [
    "Summing or scanning the clues in a consistent way is required for a lot of features (check for consistency, check whether given clues and computed fromthe board are the same).\n",
    "\n",
    "We can transform the user-friendly list into a computer-friendly list "
   ]
  },
  {
   "cell_type": "code",
   "execution_count": 66,
   "metadata": {},
   "outputs": [],
   "source": [
    "clues = {\n",
    "    'rows': [1, 3, [1,1], 3, 5],\n",
    "    'cols': [1, 4, [2,2], 4, 1]\n",
    "}"
   ]
  },
  {
   "cell_type": "code",
   "execution_count": 67,
   "metadata": {},
   "outputs": [
    {
     "data": {
      "text/plain": [
       "[[1], [3], [1, 1], [3], [5]]"
      ]
     },
     "execution_count": 67,
     "metadata": {},
     "output_type": "execute_result"
    }
   ],
   "source": [
    "# convert all integers into a list of one integer\n",
    "f_norm_clue = lambda clue: clue if isinstance(clue, list) else [clue]\n",
    "[f_norm_clue(clue) for clue in [1, 3, [1,1], 3, 5]]"
   ]
  },
  {
   "cell_type": "code",
   "execution_count": 68,
   "metadata": {},
   "outputs": [
    {
     "data": {
      "text/plain": [
       "{'rows': [[1], [3], [1, 1], [3], [5]], 'cols': [[1], [4], [2, 2], [4], [1]]}"
      ]
     },
     "execution_count": 68,
     "metadata": {},
     "output_type": "execute_result"
    }
   ],
   "source": [
    "# norm clues\n",
    "def get_norm_clues(some_clues):\n",
    "    f_norm_clue = lambda clue: clue if isinstance(clue, list) else [clue]\n",
    "    norm_clues = {\n",
    "        'rows': [f_norm_clue(clue) for clue in some_clues['rows']],\n",
    "        'cols': [f_norm_clue(clue) for clue in some_clues['cols']]\n",
    "    }\n",
    "    return norm_clues\n",
    "get_norm_clues(clues)"
   ]
  },
  {
   "cell_type": "code",
   "execution_count": 69,
   "metadata": {},
   "outputs": [],
   "source": [
    "assert get_norm_clues(clues) == {'rows': [[1], [3], [1, 1], [3], [5]], 'cols': [[1], [4], [2, 2], [4], [1]]} "
   ]
  },
  {
   "cell_type": "markdown",
   "metadata": {},
   "source": [
    "Does it still work for non split ?"
   ]
  },
  {
   "cell_type": "code",
   "execution_count": 70,
   "metadata": {},
   "outputs": [],
   "source": [
    "clues = {\n",
    "    'rows': [1, 2],\n",
    "    'cols': [2, 1]\n",
    "}"
   ]
  },
  {
   "cell_type": "code",
   "execution_count": 71,
   "metadata": {},
   "outputs": [],
   "source": [
    "assert get_norm_clues(clues) == {'rows': [[1], [2]], 'cols': [[2], [1]]}"
   ]
  },
  {
   "cell_type": "markdown",
   "metadata": {},
   "source": [
    "## Get number of blacks - split tolerant"
   ]
  },
  {
   "cell_type": "markdown",
   "metadata": {},
   "source": [
    "Now we can compute the sum a consistent way"
   ]
  },
  {
   "cell_type": "code",
   "execution_count": 72,
   "metadata": {},
   "outputs": [],
   "source": [
    "clues = {\n",
    "    'rows': [1, 3, [1,1], 3, 5],\n",
    "    'cols': [1, 4, [2,2], 4, 1]\n",
    "}"
   ]
  },
  {
   "cell_type": "code",
   "execution_count": 73,
   "metadata": {},
   "outputs": [],
   "source": [
    "#total_blacks = sum(get_norm_clues(clues)['rows'])\n",
    "#total_blacks\n",
    "# results in an error because it cannot sum ints with lists"
   ]
  },
  {
   "cell_type": "code",
   "execution_count": 74,
   "metadata": {},
   "outputs": [
    {
     "data": {
      "text/plain": [
       "[1, 3, 1, 1, 3, 5]"
      ]
     },
     "execution_count": 74,
     "metadata": {},
     "output_type": "execute_result"
    }
   ],
   "source": [
    "from itertools import chain\n",
    "list(chain.from_iterable(get_norm_clues(clues)['rows']))"
   ]
  },
  {
   "cell_type": "code",
   "execution_count": 75,
   "metadata": {},
   "outputs": [
    {
     "data": {
      "text/plain": [
       "14"
      ]
     },
     "execution_count": 75,
     "metadata": {},
     "output_type": "execute_result"
    }
   ],
   "source": [
    "from itertools import chain\n",
    "def get_total_blacks(some_norm_clues, axis='rows'):\n",
    "    return sum(chain.from_iterable(some_norm_clues[axis]))\n",
    "norm_clues = get_norm_clues(clues)\n",
    "total_blacks = get_total_blacks(norm_clues)\n",
    "total_blacks"
   ]
  },
  {
   "cell_type": "code",
   "execution_count": 76,
   "metadata": {},
   "outputs": [],
   "source": [
    "assert total_blacks == 14"
   ]
  },
  {
   "cell_type": "code",
   "execution_count": 77,
   "metadata": {},
   "outputs": [],
   "source": [
    "assert get_total_blacks(norm_clues, axis='cols') == 14"
   ]
  },
  {
   "cell_type": "code",
   "execution_count": 78,
   "metadata": {},
   "outputs": [],
   "source": [
    "## Check clues for consistency"
   ]
  },
  {
   "cell_type": "code",
   "execution_count": 79,
   "metadata": {},
   "outputs": [],
   "source": [
    "# number of blacks on rows and cols miust be the same\n",
    "assert get_total_blacks(norm_clues, axis='rows') == get_total_blacks(norm_clues, axis='cols')"
   ]
  },
  {
   "cell_type": "markdown",
   "metadata": {},
   "source": [
    "## check numbers of cells left empty"
   ]
  },
  {
   "cell_type": "markdown",
   "metadata": {},
   "source": [
    "Check for undefined cells existence"
   ]
  },
  {
   "cell_type": "code",
   "execution_count": 80,
   "metadata": {},
   "outputs": [
    {
     "name": "stdout",
     "output_type": "stream",
     "text": [
      "cols: 2 1\n",
      "rows:\n",
      "1\n",
      "2\n",
      "[['.' 'x']\n",
      " ['.' 'o']]\n"
     ]
    }
   ],
   "source": [
    "# clues for mini game\n",
    "clues = {\n",
    "    'rows': [1, 2],\n",
    "    'cols': [2, 1]\n",
    "}\n",
    "board = Board(clues)\n",
    "board.mark(0, 1, BoardMark.FILLER) \n",
    "board.mark(1, 1, BoardMark.BLACK) \n",
    "board.prettyprint()"
   ]
  },
  {
   "cell_type": "code",
   "execution_count": 81,
   "metadata": {},
   "outputs": [
    {
     "data": {
      "text/plain": [
       "[-1, -1]"
      ]
     },
     "execution_count": 81,
     "metadata": {},
     "output_type": "execute_result"
    }
   ],
   "source": [
    "# filter the cells having an undegined value \n",
    "# reshaping in a list of lenght equald to the number of cells \n",
    "# avoid having to browse a list of lists\n",
    "[ c for c in board.states.reshape(4) if c == -1]"
   ]
  },
  {
   "cell_type": "code",
   "execution_count": 82,
   "metadata": {},
   "outputs": [
    {
     "data": {
      "text/plain": [
       "(2, 2)"
      ]
     },
     "execution_count": 82,
     "metadata": {},
     "output_type": "execute_result"
    }
   ],
   "source": [
    "board.states.shape"
   ]
  },
  {
   "cell_type": "code",
   "execution_count": 83,
   "metadata": {},
   "outputs": [
    {
     "data": {
      "text/plain": [
       "4"
      ]
     },
     "execution_count": 83,
     "metadata": {},
     "output_type": "execute_result"
    }
   ],
   "source": [
    "from operator import mul\n",
    "from functools import reduce\n",
    "reduce(mul, board.states.shape)"
   ]
  },
  {
   "cell_type": "markdown",
   "metadata": {},
   "source": [
    "TODO explain reduce"
   ]
  },
  {
   "cell_type": "code",
   "execution_count": 84,
   "metadata": {},
   "outputs": [
    {
     "name": "stdout",
     "output_type": "stream",
     "text": [
      "count_empty=2\n"
     ]
    }
   ],
   "source": [
    "from operator import mul\n",
    "from functools import reduce\n",
    "\n",
    "def count_empty(a_board):\n",
    "    length = reduce(mul, a_board.states.shape)\n",
    "    count = len([ c for c in a_board.states.reshape(length) \n",
    "                         if c == -1])\n",
    "    return count\n",
    "  \n",
    "count = count_empty(board)\n",
    "print(f\"count_empty={count}\")\n",
    "assert count == 2"
   ]
  },
  {
   "cell_type": "markdown",
   "metadata": {},
   "source": [
    "Check for 5x5"
   ]
  },
  {
   "cell_type": "code",
   "execution_count": 85,
   "metadata": {},
   "outputs": [],
   "source": [
    "clues = {\n",
    "    'rows': [1, 3, [1,1], 3, 5],\n",
    "    'cols': [1, 4, [2,2], 4, 1]\n",
    "}"
   ]
  },
  {
   "cell_type": "code",
   "execution_count": 86,
   "metadata": {},
   "outputs": [
    {
     "name": "stdout",
     "output_type": "stream",
     "text": [
      "cols: 1 4 [2, 2] 4 1\n",
      "rows:\n",
      "1\n",
      "3\n",
      "[1, 1]\n",
      "3\n",
      "5\n",
      "[['.' '.' '.' '.' '.']\n",
      " ['.' '.' '.' '.' '.']\n",
      " ['.' '.' 'x' '.' '.']\n",
      " ['.' '.' '.' '.' '.']\n",
      " ['o' '.' '.' '.' '.']]\n",
      "count_empty=23\n"
     ]
    }
   ],
   "source": [
    "board = Board(clues)\n",
    "board.mark(4, 0, BoardMark.BLACK) \n",
    "board.mark(2, 2, BoardMark.FILLER) \n",
    "board.prettyprint()\n",
    "count = count_empty(board)\n",
    "print(f\"count_empty={count}\")\n",
    "assert count == reduce(mul, board.states.shape) - 2"
   ]
  },
  {
   "cell_type": "markdown",
   "metadata": {},
   "source": [
    "## Check whether board hold the clues"
   ]
  },
  {
   "cell_type": "code",
   "execution_count": 87,
   "metadata": {},
   "outputs": [
    {
     "name": "stdout",
     "output_type": "stream",
     "text": [
      "cols: 2 1\n",
      "rows:\n",
      "1\n",
      "2\n",
      "[['.' '.']\n",
      " ['.' '.']]\n",
      "cols: 2 1\n",
      "rows:\n",
      "1\n",
      "2\n",
      "[['o' 'x']\n",
      " ['o' 'o']]\n"
     ]
    }
   ],
   "source": [
    "# clues for mini game\n",
    "clues = {\n",
    "    'rows': [1, 2],\n",
    "    'cols': [2, 1]\n",
    "}\n",
    "norm_clues = get_norm_clues(clues)\n",
    "board = Board(clues)\n",
    "board.prettyprint()\n",
    "board.mark(0, 0, BoardMark.BLACK) \n",
    "board.mark(0, 1, BoardMark.FILLER) \n",
    "board.mark(1, 0, BoardMark.BLACK) \n",
    "board.mark(1, 1, BoardMark.BLACK) \n",
    "board.prettyprint()"
   ]
  },
  {
   "cell_type": "code",
   "execution_count": 88,
   "metadata": {},
   "outputs": [
    {
     "data": {
      "text/plain": [
       "array([[1, 0],\n",
       "       [1, 1]])"
      ]
     },
     "execution_count": 88,
     "metadata": {},
     "output_type": "execute_result"
    }
   ],
   "source": [
    "rows = board.states\n",
    "rows"
   ]
  },
  {
   "cell_type": "code",
   "execution_count": 89,
   "metadata": {},
   "outputs": [],
   "source": [
    "from itertools import groupby"
   ]
  },
  {
   "cell_type": "code",
   "execution_count": 90,
   "metadata": {},
   "outputs": [
    {
     "data": {
      "text/plain": [
       "[[(1, 1)], [(1, 1, 1)]]"
      ]
     },
     "execution_count": 90,
     "metadata": {},
     "output_type": "execute_result"
    }
   ],
   "source": [
    "# group cells by value and select groups where group key is 1 (BLACK)\n",
    "[ [(k, *g) for k,g in groupby(line) if k==1]\n",
    "  for line in rows\n",
    "]\n",
    "# it outputs tuples where the first element is the key, \n",
    "# and the rest are the elements in the \n",
    "# there are two list (one for each row)\n",
    "# row 0 : has 1 black cell (1=BLACK key, 1=the cell)\n",
    "# row 1 : has 2 black cells (1=BLACK key, 1,1=the cells)"
   ]
  },
  {
   "cell_type": "code",
   "execution_count": 91,
   "metadata": {},
   "outputs": [
    {
     "name": "stdout",
     "output_type": "stream",
     "text": [
      "blocks=[[1], [2]]\n"
     ]
    }
   ],
   "source": [
    "# transform to a list of block length\n",
    "blocks = [ [len(list(g)) for k,g in groupby(line) if k==1]\n",
    "           for line in rows\n",
    "]\n",
    "print(f\"blocks={blocks}\")\n",
    "assert blocks == norm_clues['rows'] "
   ]
  },
  {
   "cell_type": "code",
   "execution_count": 92,
   "metadata": {},
   "outputs": [],
   "source": [
    "assert blocks == norm_clues['rows'] "
   ]
  },
  {
   "cell_type": "code",
   "execution_count": 93,
   "metadata": {},
   "outputs": [
    {
     "data": {
      "text/plain": [
       "[[1, 1], [0, 1]]"
      ]
     },
     "execution_count": 93,
     "metadata": {},
     "output_type": "execute_result"
    }
   ],
   "source": [
    "w = board.states.shape[0]\n",
    "h = board.states.shape[1]\n",
    "length = mul(w, h)\n",
    "cols = [ [board.states.reshape(length)[c+r*w]\n",
    "         for r in range(0, h)]\n",
    "         for c in range(0, w)]\n",
    "cols"
   ]
  },
  {
   "cell_type": "code",
   "execution_count": 94,
   "metadata": {},
   "outputs": [
    {
     "name": "stdout",
     "output_type": "stream",
     "text": [
      "blocks=[[2], [1]]\n"
     ]
    }
   ],
   "source": [
    "blocks = [ [len(list(g)) for k,g in groupby(line) if k==1]\n",
    "  for line in cols\n",
    "]\n",
    "print(f\"blocks={blocks}\")\n",
    "assert blocks == norm_clues['cols'] "
   ]
  },
  {
   "cell_type": "code",
   "execution_count": 95,
   "metadata": {},
   "outputs": [],
   "source": [
    "def get_rows_blocks(a_board):\n",
    "    rows = a_board.states\n",
    "    blocks = [ [len(list(g)) for k,g in groupby(line) if k==1]\n",
    "           for line in rows\n",
    "    ]\n",
    "    return blocks\n",
    "\n",
    "def get_cols_blocks(a_board):\n",
    "    w = a_board.states.shape[0]\n",
    "    h = a_board.states.shape[1]\n",
    "    length = mul(w, h)\n",
    "    cols = [ [a_board.states.reshape(length)[c+r*w]\n",
    "         for r in range(0, h)]\n",
    "         for c in range(0, w)]\n",
    "    blocks = [ [len(list(g)) for k,g in groupby(line) if k==1]\n",
    "      for line in cols\n",
    "    ]\n",
    "    return blocks"
   ]
  },
  {
   "cell_type": "code",
   "execution_count": 96,
   "metadata": {},
   "outputs": [],
   "source": [
    "assert get_rows_blocks(board) == norm_clues['rows'] "
   ]
  },
  {
   "cell_type": "code",
   "execution_count": 97,
   "metadata": {},
   "outputs": [],
   "source": [
    "assert get_cols_blocks(board)  == norm_clues['cols'] "
   ]
  },
  {
   "cell_type": "code",
   "execution_count": 98,
   "metadata": {},
   "outputs": [
    {
     "name": "stdout",
     "output_type": "stream",
     "text": [
      "cols: 1 4 [2, 2] 4 1\n",
      "rows:\n",
      "1\n",
      "3\n",
      "[1, 1]\n",
      "3\n",
      "5\n",
      "[['.' '.' '.' '.' '.']\n",
      " ['.' '.' '.' '.' '.']\n",
      " ['.' '.' 'x' '.' '.']\n",
      " ['.' '.' '.' '.' '.']\n",
      " ['o' '.' '.' '.' '.']]\n",
      "blocks=[[2], [1]]\n"
     ]
    }
   ],
   "source": [
    "clues = {\n",
    "    'rows': [1, 3, [1,1], 3, 5],\n",
    "    'cols': [1, 4, [2,2], 4, 1]\n",
    "}\n",
    "board = Board(clues)\n",
    "board.mark(4, 0, BoardMark.BLACK) \n",
    "board.mark(2, 2, BoardMark.FILLER) \n",
    "board.prettyprint()\n",
    "count = count_empty(board)\n",
    "print(f\"blocks={blocks}\")\n"
   ]
  },
  {
   "cell_type": "code",
   "execution_count": 99,
   "metadata": {},
   "outputs": [
    {
     "data": {
      "text/plain": [
       "[[], [], [], [], [1]]"
      ]
     },
     "execution_count": 99,
     "metadata": {},
     "output_type": "execute_result"
    }
   ],
   "source": [
    "get_rows_blocks(board)"
   ]
  },
  {
   "cell_type": "code",
   "execution_count": 100,
   "metadata": {},
   "outputs": [],
   "source": [
    "# 1 BLACK on row 4\n",
    "assert get_rows_blocks(board) == [[], [], [], [], [1]]"
   ]
  },
  {
   "cell_type": "code",
   "execution_count": 101,
   "metadata": {},
   "outputs": [
    {
     "data": {
      "text/plain": [
       "[[1], [], [], [], []]"
      ]
     },
     "execution_count": 101,
     "metadata": {},
     "output_type": "execute_result"
    }
   ],
   "source": [
    "get_cols_blocks(board)"
   ]
  },
  {
   "cell_type": "code",
   "execution_count": 102,
   "metadata": {},
   "outputs": [],
   "source": [
    "# 1 BLACK on col 0\n",
    "assert get_cols_blocks(board) == [[1], [], [], [], []]"
   ]
  },
  {
   "cell_type": "markdown",
   "metadata": {},
   "source": [
    "## updated classes - utilsv2"
   ]
  },
  {
   "cell_type": "code",
   "execution_count": 103,
   "metadata": {},
   "outputs": [],
   "source": [
    "%reset -f"
   ]
  },
  {
   "cell_type": "markdown",
   "metadata": {},
   "source": [
    "Some solver will do operations on clues without having a board. For instance evaluate the total number of blacks cells in order to randomly place an equal nulber of blacks.\n",
    "\n",
    "The game rules must be a separate class."
   ]
  },
  {
   "cell_type": "code",
   "execution_count": 104,
   "metadata": {},
   "outputs": [],
   "source": [
    "### New Puzzle class"
   ]
  },
  {
   "cell_type": "code",
   "execution_count": 105,
   "metadata": {},
   "outputs": [],
   "source": [
    "from itertools import chain\n",
    "\n",
    "class Puzzle:\n",
    "    ''' Define the game clues and constants'''\n",
    "    \n",
    "    def __init__(self, some_clues):\n",
    "        '''\n",
    "        puzzle constructor\n",
    "        '''\n",
    "        # given parameters\n",
    "        self.given_clues = some_clues\n",
    "        \n",
    "        # normalize clues\n",
    "        self.norm_clues = self.init_norm_clues()\n",
    "        \n",
    "        # compute board dimensions\n",
    "        self.width = len(some_clues['cols']) \n",
    "        self.height = len(some_clues['rows']) \n",
    "        self.cells_count = self.width * self.height\n",
    "        self.required_blacks_count = self.get_black_count()\n",
    "        \n",
    "        \n",
    "    def init_norm_clues(self):\n",
    "        f_norm_clue = lambda clue: clue if isinstance(clue, list) else [clue]\n",
    "        norm_clues = {\n",
    "            'rows': [f_norm_clue(clue) for clue in self.given_clues['rows']],\n",
    "            'cols': [f_norm_clue(clue) for clue in self.given_clues['cols']]\n",
    "        }\n",
    "        return norm_clues\n",
    "\n",
    "    def get_black_count(self, axis='rows'):\n",
    "        return sum(chain.from_iterable(self.norm_clues[axis]))\n",
    "      \n",
    "    def is_valid(self):\n",
    "        return self.get_black_count(axis='rows') == self.get_black_count(axis='cols')"
   ]
  },
  {
   "cell_type": "markdown",
   "metadata": {},
   "source": [
    "Tests"
   ]
  },
  {
   "cell_type": "code",
   "execution_count": 106,
   "metadata": {},
   "outputs": [],
   "source": [
    "clues1 = {\n",
    "    'rows': [1, 2],\n",
    "    'cols': [2, 1]\n",
    "}\n",
    "puzzle1 = Puzzle(clues1)\n",
    "assert puzzle1.required_blacks_count == 3\n",
    "assert puzzle1.norm_clues == {'rows': [[1], [2]], \n",
    "                              'cols': [[2], [1]]}\n",
    "assert puzzle1.is_valid()"
   ]
  },
  {
   "cell_type": "code",
   "execution_count": 107,
   "metadata": {},
   "outputs": [],
   "source": [
    "clues1 = {\n",
    "    'rows': [1, 3, [1,1], 3, 5],\n",
    "    'cols': [1, 4, [2,2], 4, 1]\n",
    "}\n",
    "puzzle1 = Puzzle(clues1)\n",
    "assert puzzle1.required_blacks_count == 14\n",
    "assert puzzle1.norm_clues == {'rows': [[1], [3], [1, 1], [3], [5]], \n",
    "                              'cols': [[1], [4], [2, 2], [4], [1]]} \n",
    "assert puzzle1.is_valid()"
   ]
  },
  {
   "cell_type": "code",
   "execution_count": 108,
   "metadata": {},
   "outputs": [
    {
     "name": "stdout",
     "output_type": "stream",
     "text": [
      "blacks in rows=2\n",
      "blacks in cols=3\n"
     ]
    }
   ],
   "source": [
    "# inbalanced clues\n",
    "clues1 = {\n",
    "    'rows': [1, 1],\n",
    "    'cols': [2, 1]\n",
    "}\n",
    "puzzle1 = Puzzle(clues1)\n",
    "print(f\"blacks in rows={puzzle1.get_black_count(axis='rows')}\")\n",
    "print(f\"blacks in cols={puzzle1.get_black_count(axis='cols')}\")\n",
    "assert not puzzle1.is_valid()"
   ]
  },
  {
   "cell_type": "markdown",
   "metadata": {},
   "source": [
    "### Changes to the Board class"
   ]
  },
  {
   "cell_type": "code",
   "execution_count": 121,
   "metadata": {},
   "outputs": [],
   "source": [
    "import numpy as np\n",
    "from enum import Enum\n",
    "from itertools import groupby, chain\n",
    "from operator import mul\n",
    "from functools import reduce\n",
    "\n",
    "# constants for mark lette\n",
    "class BoardMark(Enum):\n",
    "    INIT = -1\n",
    "    FILLER = 0\n",
    "    BLACK = 1\n",
    "\n",
    "class Board:\n",
    "    '''\n",
    "    Manage the board.\n",
    "    '''\n",
    "    \n",
    "    def __init__(self, some_puzzle):\n",
    "        '''\n",
    "        board constructor\n",
    "        '''\n",
    "        # given parameters\n",
    "        self.puzzle = some_puzzle\n",
    "        \n",
    "        # compute board dimensions\n",
    "        self.width = some_puzzle.width\n",
    "        self.height = some_puzzle.height\n",
    "        self.cells_count = some_puzzle.cells_count\n",
    "        \n",
    "        # create board of type int, initialized with -1\n",
    "        default_value = BoardMark.INIT.value\n",
    "        self.states = np.full((self.height, self.width), default_value, dtype=int)\n",
    "            \n",
    "    def mark(self, row, col, mark):\n",
    "        '''\n",
    "        mark a cell\n",
    "        '''\n",
    "        self.states[row, col] = mark.value\n",
    "\n",
    "    def prettyprint(self):\n",
    "        '''\n",
    "        pretty print of the board \n",
    "        '''\n",
    "        print(\"cols:\", end=\" \")\n",
    "        print(*self.puzzle.given_clues['cols']) # * unpacks and remove []s\n",
    "        print(\"rows:\")\n",
    "        [print(r) for r in self.puzzle.given_clues['rows']]\n",
    "          \n",
    "        marks_switcher = {-1: '.', 0: 'x', 1: 'o'}\n",
    "        # for whatever reason lambda does not work here\n",
    "        def f_marks(v):\n",
    "            return marks_switcher[v]\n",
    "        applyall = np.vectorize(f_marks)\n",
    "        marks = applyall(self.states)\n",
    "        print(marks)\n",
    "\n",
    "    def is_done(self):\n",
    "        done = True\n",
    "        if done:\n",
    "            done = self.count_empty() == 0\n",
    "        if done:\n",
    "            done = self.get_rows_blocks() == self.puzzle.norm_clues['rows']\n",
    "        if done:\n",
    "            done = self.get_cols_blocks() == self.puzzle.norm_clues['cols']\n",
    "        return done\n",
    "\n",
    "    def count_empty(self):\n",
    "        length = reduce(mul, self.states.shape)\n",
    "        count = len([ c for c in self.states.reshape(length) \n",
    "                             if c == -1])\n",
    "        return count    \n",
    "    \n",
    "    def get_rows_blocks(self):\n",
    "        rows = self.states\n",
    "        blocks = [ [len(list(g)) for k,g in groupby(line) if k==1]\n",
    "               for line in rows\n",
    "        ]\n",
    "        return blocks\n",
    "\n",
    "    def get_cols_blocks(self):\n",
    "        w = self.states.shape[0]\n",
    "        h = self.states.shape[1]\n",
    "        length = mul(w, h)\n",
    "        cols = [ [self.states.reshape(length)[c+r*w]\n",
    "             for r in range(0, h)]\n",
    "             for c in range(0, w)]\n",
    "        blocks = [ [len(list(g)) for k,g in groupby(line) if k==1]\n",
    "          for line in cols\n",
    "        ]\n",
    "        return blocks"
   ]
  },
  {
   "cell_type": "code",
   "execution_count": 122,
   "metadata": {},
   "outputs": [
    {
     "name": "stdout",
     "output_type": "stream",
     "text": [
      "cols: 2 1\n",
      "rows:\n",
      "1\n",
      "2\n",
      "[['o' 'x']\n",
      " ['o' 'o']]\n"
     ]
    }
   ],
   "source": [
    "# clues for mini game\n",
    "clues1 = {\n",
    "    'rows': [1, 2],\n",
    "    'cols': [2, 1]\n",
    "}\n",
    "puzzle1 = Puzzle(clues1)\n",
    "board1 = Board(puzzle1)\n",
    "board1.mark(0, 0, BoardMark.BLACK) \n",
    "board1.mark(0, 1, BoardMark.FILLER) \n",
    "assert board1.count_empty() == 2\n",
    "board1.mark(1, 0, BoardMark.BLACK) \n",
    "board1.mark(1, 1, BoardMark.BLACK) \n",
    "board1.prettyprint()\n",
    "assert board1.is_done() "
   ]
  },
  {
   "cell_type": "code",
   "execution_count": 120,
   "metadata": {},
   "outputs": [
    {
     "name": "stdout",
     "output_type": "stream",
     "text": [
      "cols: 1 4 [2, 2] 4 1\n",
      "rows:\n",
      "1\n",
      "3\n",
      "[1, 1]\n",
      "3\n",
      "5\n",
      "[['x' 'x' 'o' 'x' 'x']\n",
      " ['x' 'o' 'o' 'o' 'x']\n",
      " ['x' 'o' 'x' 'o' 'x']\n",
      " ['x' 'o' 'o' 'o' 'x']\n",
      " ['o' 'o' 'o' 'o' 'o']]\n"
     ]
    }
   ],
   "source": [
    "clues1 = {\n",
    "    'rows': [1, 3, [1,1], 3, 5],\n",
    "    'cols': [1, 4, [2,2], 4, 1]\n",
    "}\n",
    "puzzle1 = Puzzle(clues1)\n",
    "board1 = Board(puzzle1)\n",
    "\n",
    "# row 4 is ooooo - only option for 5\n",
    "board1.states[4, :] = BoardMark.BLACK.value\n",
    "# col 2 is ooxoo - only option for [2, 2]\n",
    "board1.states[:, 2] = BoardMark.BLACK.value\n",
    "board1.states[2, 2] = BoardMark.FILLER.value\n",
    "# col 1 and 3 are xoooo - continguous to the placed black\n",
    "board1.states[:, 1] = BoardMark.BLACK.value\n",
    "board1.states[0, 1] = BoardMark.FILLER.value\n",
    "board1.states[:, 3] = BoardMark.BLACK.value\n",
    "board1.states[0, 3] = BoardMark.FILLER.value\n",
    "# rows 1 and 3 are xooox - 3 blacks are placed\n",
    "board1.states[1, 0] = BoardMark.FILLER.value\n",
    "board1.states[1, 4] = BoardMark.FILLER.value\n",
    "board1.states[3, 0] = BoardMark.FILLER.value\n",
    "board1.states[3, 4] = BoardMark.FILLER.value\n",
    "# row 2 is xoxox - [1, 1] blacks are placed\n",
    "board1.states[2, 0] = BoardMark.FILLER.value\n",
    "board1.states[2, 4] = BoardMark.FILLER.value\n",
    "assert board1.count_empty() == 2\n",
    "# row 0 is xoxox - 1 black is placed\n",
    "board1.states[0, 0] = BoardMark.FILLER.value\n",
    "board1.states[0, 4] = BoardMark.FILLER.value\n",
    "\n",
    "board1.prettyprint()\n",
    "assert board1.is_done() "
   ]
  },
  {
   "cell_type": "markdown",
   "metadata": {},
   "source": [
    "TODO check wrong"
   ]
  },
  {
   "cell_type": "markdown",
   "metadata": {},
   "source": [
    "### Adapt plotter"
   ]
  },
  {
   "cell_type": "code",
   "execution_count": 112,
   "metadata": {},
   "outputs": [],
   "source": [
    "from boardutilsv2 import Board, BoardMark\n",
    "import numpy as np\n",
    "\n",
    "import matplotlib.pyplot as plt\n",
    "import matplotlib.cm as cm\n",
    "from matplotlib.colors import LinearSegmentedColormap\n",
    "\n",
    "class BoardPlotter:\n",
    "    '''\n",
    "    Plot the board\n",
    "    Requiere %matplotlib inline .\n",
    "    '''\n",
    "    cdict = {'red': [(0.0, 0.6196078431372549, 0.6196078431372549),\n",
    "      (0.5, 1.0, 1.0),\n",
    "      (1.0, 0.03137254901960784, 0.03137254901960784)],\n",
    "     'green': [(0.0, 0.792156862745098, 0.792156862745098),\n",
    "      (0.5, 1.0, 1.0),\n",
    "      (1.0, 0.18823529411764706, 0.18823529411764706)],\n",
    "     'blue': [(0.0, 0.8823529411764706, 0.8823529411764706),\n",
    "      (0.5, 1.0, 1.0),\n",
    "      (1.0, 0.4196078431372549, 0.4196078431372549)],\n",
    "     'alpha': [(0.0, 1.0, 1.0),\n",
    "      (0.5, 1.0, 1.0),\n",
    "      (1.0, 1.0, 1.0)]}\n",
    "    nono_cmap = LinearSegmentedColormap('nono', cdict)\n",
    "    \n",
    "    def __init__(self, a_board):\n",
    "        self.board = a_board\n",
    "        self.clues = self.board.puzzle.given_clues\n",
    "      \n",
    "        def row_clue_to_label(v):\n",
    "            #print(v)\n",
    "            return str(v) if not isinstance(v, list) else ' '.join(map(str,v))\n",
    "        self.rows_labels = list(map(row_clue_to_label, self.clues['rows']))\n",
    "\n",
    "        def col_clue_to_label(v):\n",
    "            #print(v)\n",
    "            return str(v) if not isinstance(v, list) else '\\n'.join(map(str,v))\n",
    "        self.cols_labels = list(map(col_clue_to_label, self.clues['cols']))\n",
    "    \n",
    "    def show(self):\n",
    "        # WARNING :  the board is row col, while the fig is col row\n",
    "        data = self.board.states\n",
    "        w = self.board.width\n",
    "        h = self.board.height\n",
    "        nc = self.board.width * self.board.height\n",
    "        \n",
    "        # set some canvas\n",
    "        # guess the figure size \n",
    "        # 1 fits 2 cells\n",
    "        # 2 fits 5 cols\n",
    "        figw = int(w/2) \n",
    "        figh = int(h/2) \n",
    "        fig, ax = plt.subplots(figsize=(figw,figh))\n",
    "        # draw a heatmap\n",
    "        # ensure value range is -1 to 1\n",
    "        heatmap = ax.pcolor(data, cmap=self.nono_cmap, vmin=-1, vmax=1)\n",
    "\n",
    "        # ensure square cells\n",
    "        ax.set_aspect(\"equal\")\n",
    "\n",
    "        # put the major ticks at the middle of each cell\n",
    "        ax.set_xticks(np.arange(data.shape[1]) + 0.5, minor=False)\n",
    "        ax.set_yticks(np.arange(data.shape[0]) + 0.5, minor=False)\n",
    "\n",
    "        # put labels on top\n",
    "        ax.invert_yaxis()\n",
    "        ax.xaxis.tick_top()\n",
    "        \n",
    "\n",
    "        # set labels\n",
    "        column_labels = self.clues['cols']\n",
    "        row_labels = self.clues['rows']\n",
    "\n",
    "        ax.set_xticklabels(self.cols_labels, minor=False)\n",
    "        ax.set_yticklabels(self.rows_labels, minor=False)\n",
    "\n",
    "\n",
    "        # annotate fillers\n",
    "        # expect (col,row) is (1,0) for row=0 col=1\n",
    "        fillers_coordinates = [(p%w + 0.5, int(p/w) + 0.5) \n",
    "                               for (p,v) in enumerate(data.reshape(nc)) \n",
    "                               if v==0]\n",
    "        # place an X in the center of each coordinate\n",
    "        for coord in fillers_coordinates:\n",
    "            plt.text(coord[0], coord[1], 'x', \n",
    "                 verticalalignment='center',\n",
    "                 horizontalalignment='center',\n",
    "                 fontsize='xx-large')\n",
    "\n",
    "        plt.show()"
   ]
  },
  {
   "cell_type": "code",
   "execution_count": 123,
   "metadata": {},
   "outputs": [
    {
     "data": {
      "image/png": "[encoded data removed]",
      "text/plain": [
       "<Figure size 72x72 with 1 Axes>"
      ]
     },
     "metadata": {
      "needs_background": "light"
     },
     "output_type": "display_data"
    }
   ],
   "source": [
    "# clues for mini game\n",
    "clues1 = {\n",
    "    'rows': [1, 2],\n",
    "    'cols': [2, 1]\n",
    "}\n",
    "puzzle1 = Puzzle(clues1)\n",
    "board1 = Board(puzzle1)\n",
    "plotter1 = BoardPlotter(board1)\n",
    "\n",
    "board1.mark(0, 0, BoardMark.BLACK) \n",
    "board1.mark(0, 1, BoardMark.FILLER) \n",
    "board1.mark(1, 0, BoardMark.BLACK) \n",
    "board1.mark(1, 1, BoardMark.BLACK) \n",
    "\n",
    "assert board1.is_done()\n",
    "plotter1.show()"
   ]
  },
  {
   "cell_type": "code",
   "execution_count": 124,
   "metadata": {},
   "outputs": [
    {
     "data": {
      "image/png": "[encoded data removed]",
      "text/plain": [
       "<Figure size 72x72 with 1 Axes>"
      ]
     },
     "metadata": {
      "needs_background": "light"
     },
     "output_type": "display_data"
    }
   ],
   "source": [
    "# clues for not complete\n",
    "clues1 = {\n",
    "    'rows': [1, 2],\n",
    "    'cols': [2, 1]\n",
    "}\n",
    "puzzle1 = Puzzle(clues1)\n",
    "board1 = Board(puzzle1)\n",
    "plotter1 = BoardPlotter(board1)\n",
    "\n",
    "board1.mark(0, 0, BoardMark.BLACK) \n",
    "board1.mark(0, 1, BoardMark.FILLER) \n",
    "board1.mark(1, 0, BoardMark.BLACK) \n",
    "#board1.mark(1, 1, BoardMark.BLACK) \n",
    "\n",
    "assert not board1.is_done()\n",
    "plotter1.show()"
   ]
  },
  {
   "cell_type": "code",
   "execution_count": 125,
   "metadata": {},
   "outputs": [
    {
     "data": {
      "image/png": "[encoded data removed]",
      "text/plain": [
       "<Figure size 72x72 with 1 Axes>"
      ]
     },
     "metadata": {
      "needs_background": "light"
     },
     "output_type": "display_data"
    }
   ],
   "source": [
    "# clues for not complete\n",
    "clues1 = {\n",
    "    'rows': [1, 2],\n",
    "    'cols': [2, 1]\n",
    "}\n",
    "puzzle1 = Puzzle(clues1)\n",
    "board1 = Board(puzzle1)\n",
    "plotter1 = BoardPlotter(board1)\n",
    "\n",
    "board1.mark(0, 0, BoardMark.BLACK) \n",
    "board1.mark(0, 1, BoardMark.FILLER) \n",
    "board1.mark(1, 0, BoardMark.BLACK) \n",
    "board1.mark(1, 1, BoardMark.FILLER)  # wrong\n",
    "\n",
    "assert not board1.is_done()\n",
    "plotter1.show()"
   ]
  },
  {
   "cell_type": "code",
   "execution_count": 114,
   "metadata": {},
   "outputs": [
    {
     "data": {
      "image/png": "[encoded data removed]",
      "text/plain": [
       "<Figure size 144x144 with 1 Axes>"
      ]
     },
     "metadata": {
      "needs_background": "light"
     },
     "output_type": "display_data"
    }
   ],
   "source": [
    "clues1 = {\n",
    "    'rows': [1, 3, [1,1], 3, 5],\n",
    "    'cols': [1, 4, [2,2], 4, 1]\n",
    "}\n",
    "puzzle1 = Puzzle(clues1)\n",
    "board1 = Board(puzzle1)\n",
    "plotter1 = BoardPlotter(board1)\n",
    "\n",
    "# row 4 is ooooo - only option for 5\n",
    "board1.states[4, :] = BoardMark.BLACK.value\n",
    "# col 2 is ooxoo - only option for [2, 2]\n",
    "board1.states[:, 2] = BoardMark.BLACK.value\n",
    "board1.states[2, 2] = BoardMark.FILLER.value\n",
    "# col 1 and 3 are xoooo - continguous to the placed black\n",
    "board1.states[:, 1] = BoardMark.BLACK.value\n",
    "board1.states[0, 1] = BoardMark.FILLER.value\n",
    "board1.states[:, 3] = BoardMark.BLACK.value\n",
    "board1.states[0, 3] = BoardMark.FILLER.value\n",
    "# rows 1 and 3 are xooox - 3 blacks are placed\n",
    "board1.states[1, 0] = BoardMark.FILLER.value\n",
    "board1.states[1, 4] = BoardMark.FILLER.value\n",
    "board1.states[3, 0] = BoardMark.FILLER.value\n",
    "board1.states[3, 4] = BoardMark.FILLER.value\n",
    "# row 2 is xoxox - [1, 1] blacks are placed\n",
    "board1.states[2, 0] = BoardMark.FILLER.value\n",
    "board1.states[2, 4] = BoardMark.FILLER.value\n",
    "# row 0 is xoxox - 1 black is placed\n",
    "board1.states[0, 0] = BoardMark.FILLER.value\n",
    "board1.states[0, 4] = BoardMark.FILLER.value\n",
    "\n",
    "assert board1.is_done()\n",
    "plotter1.show()"
   ]
  },
  {
   "cell_type": "code",
   "execution_count": null,
   "metadata": {},
   "outputs": [],
   "source": []
  },
  {
   "cell_type": "code",
   "execution_count": null,
   "metadata": {},
   "outputs": [],
   "source": []
  }
 ],
 "metadata": {
  "kernelspec": {
   "display_name": "Python 3 (ipykernel)",
   "language": "python",
   "name": "python3"
  },
  "language_info": {
   "codemirror_mode": {
    "name": "ipython",
    "version": 3
   },
   "file_extension": ".py",
   "mimetype": "text/x-python",
   "name": "python",
   "nbconvert_exporter": "python",
   "pygments_lexer": "ipython3",
   "version": "3.9.7"
  }
 },
 "nbformat": 4,
 "nbformat_minor": 2
}
