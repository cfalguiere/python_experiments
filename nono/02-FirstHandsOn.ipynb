{
 "cells": [
  {
   "cell_type": "markdown",
   "id": "6283c840",
   "metadata": {},
   "source": [
    "# Episode 02: First Hands On"
   ]
  },
  {
   "cell_type": "markdown",
   "id": "90adaf27",
   "metadata": {},
   "source": [
    "TODO\n",
    "\n",
    "**Goals for this episode:**\n",
    "- Try to solve the puzzle leveraging classes of Episode 01\n",
    "- List potential strategies or heuristics\n",
    "- List what we need for POCs"
   ]
  },
  {
   "cell_type": "markdown",
   "id": "9dc8fc13",
   "metadata": {},
   "source": [
    "Now we have a board, we can test some ways to solve the puzzle."
   ]
  },
  {
   "cell_type": "markdown",
   "id": "d5cb54df",
   "metadata": {},
   "source": [
    "# 1. Mimic manual process"
   ]
  },
  {
   "cell_type": "markdown",
   "id": "ebc48a29",
   "metadata": {},
   "source": [
    "Having an idea from scratch is difficult.\n",
    "\n",
    "As a starter let's solve the board manually and check what we can learn"
   ]
  },
  {
   "cell_type": "markdown",
   "id": "6910697c",
   "metadata": {},
   "source": [
    "## 1.1. Manually solve 2x2"
   ]
  },
  {
   "cell_type": "code",
   "execution_count": 5,
   "id": "45910b31",
   "metadata": {},
   "outputs": [],
   "source": [
    "from episode01 import clues2x2, BoardMark, Board"
   ]
  },
  {
   "cell_type": "code",
   "execution_count": 6,
   "id": "db739b61",
   "metadata": {},
   "outputs": [
    {
     "name": "stdout",
     "output_type": "stream",
     "text": [
      "cols: 2 1\n",
      "rows:\n",
      "1\n",
      "2\n",
      "[['.' '.']\n",
      " ['.' '.']]\n"
     ]
    }
   ],
   "source": [
    "board2x2 = Board(clues2x2)\n",
    "board2x2.prettyprint()"
   ]
  },
  {
   "cell_type": "code",
   "execution_count": 7,
   "id": "29dedf78",
   "metadata": {},
   "outputs": [
    {
     "name": "stdout",
     "output_type": "stream",
     "text": [
      "{'rows': [1, 2], 'cols': [2, 1]}\n"
     ]
    }
   ],
   "source": [
    "print(clues2x2)"
   ]
  },
  {
   "cell_type": "code",
   "execution_count": 8,
   "id": "0b255cce",
   "metadata": {},
   "outputs": [
    {
     "name": "stdout",
     "output_type": "stream",
     "text": [
      "cols: 2 1\n",
      "rows:\n",
      "1\n",
      "2\n",
      "[['o' '.']\n",
      " ['o' 'o']]\n"
     ]
    }
   ],
   "source": [
    "# because clues2x2['rows'][1] is 2 and width is 2, all cells of row 1 are black\n",
    "board2x2.states[1,:] = BoardMark.BLACK.value\n",
    "# because clues2x2['cols'][0] is 2 and height is 2, all cells of col 0 are black\n",
    "board2x2.states[:,0] = BoardMark.BLACK.value\n",
    "board2x2.prettyprint()"
   ]
  },
  {
   "cell_type": "code",
   "execution_count": 9,
   "id": "b20fcb34",
   "metadata": {},
   "outputs": [
    {
     "name": "stdout",
     "output_type": "stream",
     "text": [
      "cols: 2 1\n",
      "rows:\n",
      "1\n",
      "2\n",
      "[['o' 'x']\n",
      " ['o' 'o']]\n"
     ]
    }
   ],
   "source": [
    "# has there is already 1 black on the row and col, top right cell is a filler\n",
    "board2x2.states[0,1] = BoardMark.FILLER.value\n",
    "board2x2.prettyprint()"
   ]
  },
  {
   "cell_type": "markdown",
   "id": "aa2b4725",
   "metadata": {},
   "source": [
    "Voila!\n",
    "\n",
    "Thus board is overly simple. Lat's try the 5 by 5 with splits."
   ]
  },
  {
   "cell_type": "markdown",
   "id": "588938f4",
   "metadata": {},
   "source": [
    "## 1.2. Manually solve 5x5 split"
   ]
  },
  {
   "cell_type": "code",
   "execution_count": 10,
   "id": "67d29398",
   "metadata": {},
   "outputs": [],
   "source": [
    "from episode01 import clues5x5s, BoardMark, Board"
   ]
  },
  {
   "cell_type": "code",
   "execution_count": 11,
   "id": "62dce4f8",
   "metadata": {},
   "outputs": [
    {
     "name": "stdout",
     "output_type": "stream",
     "text": [
      "cols: 1 4 [2, 2] 4 1\n",
      "rows:\n",
      "1\n",
      "3\n",
      "[1, 1]\n",
      "3\n",
      "5\n",
      "[['.' '.' '.' '.' '.']\n",
      " ['.' '.' '.' '.' '.']\n",
      " ['.' '.' '.' '.' '.']\n",
      " ['.' '.' '.' '.' '.']\n",
      " ['.' '.' '.' '.' '.']]\n"
     ]
    }
   ],
   "source": [
    "board5x5s = Board(clues5x5s)\n",
    "board5x5s.prettyprint()"
   ]
  },
  {
   "cell_type": "code",
   "execution_count": 12,
   "id": "f7c2b8df",
   "metadata": {},
   "outputs": [
    {
     "name": "stdout",
     "output_type": "stream",
     "text": [
      "{'rows': [1, 3, [1, 1], 3, 5], 'cols': [1, 4, [2, 2], 4, 1]}\n"
     ]
    }
   ],
   "source": [
    "print(clues5x5s)"
   ]
  },
  {
   "cell_type": "code",
   "execution_count": 13,
   "id": "18a1a835",
   "metadata": {},
   "outputs": [
    {
     "name": "stdout",
     "output_type": "stream",
     "text": [
      "cols: 1 4 [2, 2] 4 1\n",
      "rows:\n",
      "1\n",
      "3\n",
      "[1, 1]\n",
      "3\n",
      "5\n",
      "[['.' '.' '.' '.' '.']\n",
      " ['.' '.' '.' '.' '.']\n",
      " ['.' '.' '.' '.' '.']\n",
      " ['.' '.' '.' '.' '.']\n",
      " ['o' 'o' 'o' 'o' 'o']]\n"
     ]
    }
   ],
   "source": [
    "# because clues5x5s['rows'][4] is 5 and width is 5, all cells of row 4 are black\n",
    "board5x5s.states[4,:] = BoardMark.BLACK.value\n",
    "board5x5s.prettyprint()"
   ]
  },
  {
   "cell_type": "code",
   "execution_count": 14,
   "id": "fa377928",
   "metadata": {},
   "outputs": [
    {
     "name": "stdout",
     "output_type": "stream",
     "text": [
      "cols: 1 4 [2, 2] 4 1\n",
      "rows:\n",
      "1\n",
      "3\n",
      "[1, 1]\n",
      "3\n",
      "5\n",
      "[['.' '.' 'o' '.' '.']\n",
      " ['.' '.' 'o' '.' '.']\n",
      " ['.' '.' 'x' '.' '.']\n",
      " ['.' '.' 'o' '.' '.']\n",
      " ['o' 'o' 'o' 'o' 'o']]\n"
     ]
    }
   ],
   "source": [
    "# because clues5x5s['cols'][2] is [2,2] and height is 5,\n",
    "# there must be a filler in row 2 and other cells are black\n",
    "board5x5s.states[:,2] = BoardMark.BLACK.value\n",
    "board5x5s.states[2,2] = BoardMark.FILLER.value\n",
    "board5x5s.prettyprint()"
   ]
  },
  {
   "cell_type": "code",
   "execution_count": 15,
   "id": "d603a2d3",
   "metadata": {},
   "outputs": [
    {
     "name": "stdout",
     "output_type": "stream",
     "text": [
      "cols: 1 4 [2, 2] 4 1\n",
      "rows:\n",
      "1\n",
      "3\n",
      "[1, 1]\n",
      "3\n",
      "5\n",
      "[['.' 'x' 'o' 'x' '.']\n",
      " ['.' 'o' 'o' 'o' '.']\n",
      " ['.' 'o' 'x' 'o' '.']\n",
      " ['.' 'o' 'o' 'o' '.']\n",
      " ['o' 'o' 'o' 'o' 'o']]\n"
     ]
    }
   ],
   "source": [
    "# because clues5x5s['cols'][1] is 4 and there is a black in row 4\n",
    "# the contiguous block of black cells must span from row 1 to row 4\n",
    "# same for clues5x5s['cols'][3]\n",
    "board5x5s.states[:,1] = BoardMark.BLACK.value\n",
    "board5x5s.states[:,3] = BoardMark.BLACK.value\n",
    "board5x5s.states[0,1] = BoardMark.FILLER.value\n",
    "board5x5s.states[0,3] = BoardMark.FILLER.value\n",
    "board5x5s.prettyprint()"
   ]
  },
  {
   "cell_type": "code",
   "execution_count": 16,
   "id": "5135e585",
   "metadata": {},
   "outputs": [
    {
     "name": "stdout",
     "output_type": "stream",
     "text": [
      "cols: 1 4 [2, 2] 4 1\n",
      "rows:\n",
      "1\n",
      "3\n",
      "[1, 1]\n",
      "3\n",
      "5\n",
      "[['.' 'x' 'o' 'x' '.']\n",
      " ['x' 'o' 'o' 'o' 'x']\n",
      " ['.' 'o' 'x' 'o' '.']\n",
      " ['x' 'o' 'o' 'o' 'x']\n",
      " ['o' 'o' 'o' 'o' 'o']]\n"
     ]
    }
   ],
   "source": [
    "# because clues5x5s['rows'][1] is 3 and 3 black are placed on the row\n",
    "# first and lasr cells mustrt be fillers\n",
    "# same for clues5x5s['rows'][4]\n",
    "board5x5s.states[1,0] = BoardMark.FILLER.value\n",
    "board5x5s.states[1,4] = BoardMark.FILLER.value\n",
    "board5x5s.states[3,0] = BoardMark.FILLER.value\n",
    "board5x5s.states[3,4] = BoardMark.FILLER.value\n",
    "board5x5s.prettyprint()"
   ]
  },
  {
   "cell_type": "code",
   "execution_count": 17,
   "id": "4499d1f8",
   "metadata": {},
   "outputs": [
    {
     "name": "stdout",
     "output_type": "stream",
     "text": [
      "cols: 1 4 [2, 2] 4 1\n",
      "rows:\n",
      "1\n",
      "3\n",
      "[1, 1]\n",
      "3\n",
      "5\n",
      "[['x' 'x' 'o' 'x' 'x']\n",
      " ['x' 'o' 'o' 'o' 'x']\n",
      " ['x' 'o' 'x' 'o' 'x']\n",
      " ['x' 'o' 'o' 'o' 'x']\n",
      " ['o' 'o' 'o' 'o' 'o']]\n"
     ]
    }
   ],
   "source": [
    "# as every black has been placed remaining cells are fillers\n",
    "board5x5s.states[0,0] = BoardMark.FILLER.value\n",
    "board5x5s.states[0,4] = BoardMark.FILLER.value\n",
    "board5x5s.states[2,0] = BoardMark.FILLER.value\n",
    "board5x5s.states[2,4] = BoardMark.FILLER.value\n",
    "board5x5s.prettyprint()"
   ]
  },
  {
   "cell_type": "markdown",
   "id": "3fd092c2",
   "metadata": {},
   "source": [
    "Voila\n",
    "\n",
    "## 1.3 . Where the difficulty comes from ?\n",
    "\n",
    "- large blocls are easier to place, especially the ones that span over all the width or height\n",
    "- borders are useful as once a black is placed at a borders all the block of contiguous cells can be placed\n",
    "- small blocks required a lot of guessing\n",
    "- split are tricky to manage. First they cause blocks to be smaller. Second, they require to guess even more, you have to make a guess for each block\n",
    "- an exception is when the filler between blocks is exactly one and all other cells are black. As exemple think of [2,2] over 5\n",
    "\n",
    "\n",
    "## 1.4. Wrap up\n",
    "\n",
    "You may implement a series of rules, to mimic this process. But think of the number of rules and the number of tests you may have to implement to feature out which rule applies when.\n",
    "\n",
    "Well, it is tedious, tricky to implement. And not funny!\n",
    "\n",
    "I will not implement it. However trying to solve the problem manually help understanding the internals of the problem and what works in a robot.\n",
    "\n",
    "When a human solves the board, doing tons of computations for each cell is boring. Human tends to rely on more visual clues like proximity, overall shape and symetry. Most of this information is not provided by the clues but our human brain knows that the puzzle boils down to an image and there must be some logic in this image. Nonogram are not supposed to be random scattered plots. \n",
    "\n",
    "This reasoning is far beyond what the numeric algorithm can do. \n",
    "\n",
    "On the other hand, nonograms are small and computations for a 15x15 matrix are cheap and fast. The problem space (the number of possible options) is reasonably small. From a more general perspective,  putting some rules in the robot may be more efficient than bare computation if rules are carefully chosen bedcause it reduces the problem space."
   ]
  },
  {
   "cell_type": "markdown",
   "id": "ac913745",
   "metadata": {},
   "source": [
    "# 2. Try-and-error process\n",
    "\n",
    "Having an idea from scratch is difficult.\n",
    "\n",
    "The contract with the platyer for Nonograms is that they always have 1 solution. Let's say we know that there is a solution. We can try different values for each cell until the board is solved.\n",
    "\n",
    "Even if this process is probably not what we want, it will help undestand what we need to solve the puzzle. \n",
    "\n",
    "In addition, it make sense in AI. Some algorithms, especially in Reinforcement Learning, work by learning from try-and-error process. They are given the goal to keep errors to a minimulm."
   ]
  },
  {
   "cell_type": "markdown",
   "id": "5353cc89",
   "metadata": {},
   "source": [
    "Lets's say that the solution is known.\n",
    "\n",
    "We can implement a trial and error process.\n"
   ]
  },
  {
   "cell_type": "code",
   "execution_count": 18,
   "id": "81695bd2",
   "metadata": {},
   "outputs": [],
   "source": [
    "# save solutions to numpy arrays\n",
    "solution2x2 = board2x2.states.copy()\n",
    "solution5x5s = board5x5s.states.copy()"
   ]
  },
  {
   "cell_type": "code",
   "execution_count": 19,
   "id": "d60fc895",
   "metadata": {},
   "outputs": [
    {
     "data": {
      "text/plain": [
       "array([[0, 0, 1, 0, 0],\n",
       "       [0, 1, 1, 1, 0],\n",
       "       [0, 1, 0, 1, 0],\n",
       "       [0, 1, 1, 1, 0],\n",
       "       [1, 1, 1, 1, 1]])"
      ]
     },
     "execution_count": 19,
     "metadata": {},
     "output_type": "execute_result"
    }
   ],
   "source": [
    "solution5x5s"
   ]
  },
  {
   "cell_type": "markdown",
   "id": "d8ccc21c",
   "metadata": {},
   "source": [
    "What could be the try-and-error process ?\n",
    "\n",
    "For each cell, I know that it could be black or filler. \n",
    "\n",
    "We need some game engine to decide whether the action is valid or not according to be solution it knows already. "
   ]
  },
  {
   "cell_type": "markdown",
   "id": "aae53dc3",
   "metadata": {},
   "source": [
    "## 2.1. Validation and puzzle utilities"
   ]
  },
  {
   "cell_type": "code",
   "execution_count": 20,
   "id": "5c3f5663",
   "metadata": {},
   "outputs": [],
   "source": [
    "class GameEngine:\n",
    "    def __init__(self, some_clues, a_solution):\n",
    "        self.clues = some_clues\n",
    "        self.solution = a_solution\n",
    "        \n",
    "    def is_action_valid(self, row, col, mark):\n",
    "        return self.solution[row, col] == mark.value"
   ]
  },
  {
   "cell_type": "code",
   "execution_count": 21,
   "id": "8f427318",
   "metadata": {},
   "outputs": [
    {
     "data": {
      "text/plain": [
       "array([[1, 0],\n",
       "       [1, 1]])"
      ]
     },
     "execution_count": 21,
     "metadata": {},
     "output_type": "execute_result"
    }
   ],
   "source": [
    "solution2x2"
   ]
  },
  {
   "cell_type": "code",
   "execution_count": 22,
   "id": "c2bf471f",
   "metadata": {},
   "outputs": [
    {
     "data": {
      "text/plain": [
       "True"
      ]
     },
     "execution_count": 22,
     "metadata": {},
     "output_type": "execute_result"
    }
   ],
   "source": [
    "engine2x2 = GameEngine(clues2x2, solution2x2)\n",
    "engine2x2.is_action_valid(1,1, BoardMark.BLACK)"
   ]
  },
  {
   "cell_type": "code",
   "execution_count": 23,
   "id": "73c9cbb9",
   "metadata": {},
   "outputs": [
    {
     "data": {
      "text/plain": [
       "False"
      ]
     },
     "execution_count": 23,
     "metadata": {},
     "output_type": "execute_result"
    }
   ],
   "source": [
    "engine2x2.is_action_valid(0,1, BoardMark.BLACK)"
   ]
  },
  {
   "cell_type": "markdown",
   "id": "663ee7f4",
   "metadata": {},
   "source": [
    "Now, let's loop over the problem space"
   ]
  },
  {
   "cell_type": "markdown",
   "id": "4ad4d455",
   "metadata": {},
   "source": [
    "## 2.2. Experiments"
   ]
  },
  {
   "cell_type": "code",
   "execution_count": 24,
   "id": "22e557cb",
   "metadata": {},
   "outputs": [],
   "source": [
    "from episode01 import clues2x2, BoardMark, Board"
   ]
  },
  {
   "cell_type": "code",
   "execution_count": 25,
   "id": "75a24abe",
   "metadata": {},
   "outputs": [
    {
     "name": "stdout",
     "output_type": "stream",
     "text": [
      "cols: 2 1\n",
      "rows:\n",
      "1\n",
      "2\n",
      "[['o' 'x']\n",
      " ['o' 'o']]\n",
      "error_count:1\n"
     ]
    }
   ],
   "source": [
    "board2x2 = Board(clues2x2)\n",
    "error_count = 0\n",
    "for row in range(board2x2.height):\n",
    "    for col in range(board2x2.width):\n",
    "        if engine2x2.is_action_valid(row, col, BoardMark.BLACK):\n",
    "            board2x2.mark(row, col, BoardMark.BLACK)\n",
    "        else: \n",
    "            error_count += 1\n",
    "            board2x2.mark(row, col, BoardMark.FILLER)\n",
    "\n",
    "board2x2.prettyprint()\n",
    "print(f\"error_count:{error_count}\")"
   ]
  },
  {
   "cell_type": "markdown",
   "id": "e41bcee5",
   "metadata": {},
   "source": [
    "Voila!\n",
    "\n",
    "I agree that this algorithm is pretty dump. The percentage of errors goes up very rapidly and exceed what the game will accept (usually 3 errors). On the 5x5 board it took 11 errors to solve 25 cells."
   ]
  },
  {
   "cell_type": "code",
   "execution_count": 26,
   "id": "bbfe7199",
   "metadata": {},
   "outputs": [
    {
     "name": "stdout",
     "output_type": "stream",
     "text": [
      "cols: 1 4 [2, 2] 4 1\n",
      "rows:\n",
      "1\n",
      "3\n",
      "[1, 1]\n",
      "3\n",
      "5\n",
      "[['x' 'x' 'o' 'x' 'x']\n",
      " ['x' 'o' 'o' 'o' 'x']\n",
      " ['x' 'o' 'x' 'o' 'x']\n",
      " ['x' 'o' 'o' 'o' 'x']\n",
      " ['o' 'o' 'o' 'o' 'o']]\n",
      "error_count:11\n"
     ]
    }
   ],
   "source": [
    "engine5x5s = GameEngine(clues5x5s, solution5x5s)\n",
    "board5x5s = Board(clues5x5s)\n",
    "error_count = 0\n",
    "for row in range(board5x5s.height):\n",
    "    for col in range(board5x5s.width):\n",
    "        if engine5x5s.is_action_valid(row, col, BoardMark.BLACK):\n",
    "            board5x5s.mark(row, col, BoardMark.BLACK)\n",
    "        else: \n",
    "            error_count += 1\n",
    "            board5x5s.mark(row, col, BoardMark.FILLER)\n",
    "\n",
    "board5x5s.prettyprint()\n",
    "print(f\"error_count:{error_count}\")"
   ]
  },
  {
   "cell_type": "markdown",
   "id": "e6f6f435",
   "metadata": {},
   "source": [
    "# 2.3  Wrap up\n",
    "\n",
    "What works:\n",
    "- it is really simple to design and implement\n",
    "- no computation, no headache with split blocks\n",
    "\n",
    "Limitation:\n",
    "- requires that the solution is known beforehand\n",
    "- roughly 50% error rate. It depends on the proportion of blacks and fillers,  and whether blacks or fillers are checked for validity"
   ]
  },
  {
   "cell_type": "markdown",
   "id": "9ce77056",
   "metadata": {},
   "source": [
    "# 3. Brute Force\n",
    "\n",
    "The idea behind brute force is to generate all possible options and then check which one is vaid.\n",
    "\n",
    "Unlike try-and-error the validation will take place on the whole board. We do not need to know the solution beforehand. The engine can compute the clues from the board and check whether the board holds or breaks the clues."
   ]
  },
  {
   "cell_type": "markdown",
   "id": "57cf2eb8",
   "metadata": {},
   "source": [
    "## 3.1 Validation of a proposed board state"
   ]
  },
  {
   "cell_type": "markdown",
   "id": "3f279be9",
   "metadata": {},
   "source": [
    "For various experiments we will need the same operations\n",
    "- compute the shape of the board from the clues\n",
    "- compute the number of cells\n",
    "- compute tne number of blacks cells to be placed\n",
    "- verify that the board is solved\n",
    "\n",
    "For this episode we focus on simple board without split blocks and we assume that here that the solutions is known and given to the game engine."
   ]
  },
  {
   "cell_type": "code",
   "execution_count": 27,
   "id": "1047aa1a",
   "metadata": {},
   "outputs": [
    {
     "data": {
      "text/plain": [
       "{'rows': [1, 2], 'cols': [2, 1]}"
      ]
     },
     "execution_count": 27,
     "metadata": {},
     "output_type": "execute_result"
    }
   ],
   "source": [
    "clues2x2"
   ]
  },
  {
   "cell_type": "code",
   "execution_count": 28,
   "id": "3d1c1b50",
   "metadata": {},
   "outputs": [
    {
     "data": {
      "text/plain": [
       "3"
      ]
     },
     "execution_count": 28,
     "metadata": {},
     "output_type": "execute_result"
    }
   ],
   "source": [
    "black_count = sum(clues2x2['rows'])\n",
    "black_count"
   ]
  },
  {
   "cell_type": "code",
   "execution_count": 29,
   "id": "08202ed6",
   "metadata": {},
   "outputs": [
    {
     "data": {
      "text/plain": [
       "4"
      ]
     },
     "execution_count": 29,
     "metadata": {},
     "output_type": "execute_result"
    }
   ],
   "source": [
    "cells_count = len(clues2x2['rows']) * len(clues2x2['cols'])\n",
    "cells_count"
   ]
  },
  {
   "cell_type": "code",
   "execution_count": 30,
   "id": "238e546b",
   "metadata": {},
   "outputs": [],
   "source": [
    "# create the game engine from the hanfscrafted solution\n",
    "engine2x2 = GameEngine(clues2x2, solution2x2)"
   ]
  },
  {
   "cell_type": "code",
   "execution_count": 31,
   "id": "892108b2",
   "metadata": {},
   "outputs": [
    {
     "data": {
      "text/plain": [
       "[[1, 0], [1, 1]]"
      ]
     },
     "execution_count": 31,
     "metadata": {},
     "output_type": "execute_result"
    }
   ],
   "source": [
    "engine2x2.solution.tolist()"
   ]
  },
  {
   "cell_type": "code",
   "execution_count": 32,
   "id": "a73fd67d",
   "metadata": {},
   "outputs": [
    {
     "data": {
      "text/plain": [
       "[1, 0, 1, 1]"
      ]
     },
     "execution_count": 32,
     "metadata": {},
     "output_type": "execute_result"
    }
   ],
   "source": [
    "# reshape flat the list into a 1D array\n",
    "flat_solution_2x2 = engine2x2.solution.reshape(cells_count).tolist()\n",
    "flat_solution_2x2"
   ]
  },
  {
   "cell_type": "code",
   "execution_count": 33,
   "id": "10e83a8e",
   "metadata": {},
   "outputs": [
    {
     "data": {
      "text/plain": [
       "True"
      ]
     },
     "execution_count": 33,
     "metadata": {},
     "output_type": "execute_result"
    }
   ],
   "source": [
    "flat_solution_2x2 == [1, 0, 1, 1]"
   ]
  },
  {
   "cell_type": "code",
   "execution_count": 34,
   "id": "965a8e05",
   "metadata": {},
   "outputs": [
    {
     "data": {
      "text/plain": [
       "False"
      ]
     },
     "execution_count": 34,
     "metadata": {},
     "output_type": "execute_result"
    }
   ],
   "source": [
    "flat_solution_2x2 == [0, 1, 1, 1]"
   ]
  },
  {
   "cell_type": "code",
   "execution_count": 35,
   "id": "2ec6fc14",
   "metadata": {},
   "outputs": [],
   "source": [
    "class GameEngine:\n",
    "    def __init__(self, some_clues, a_solution):\n",
    "        self.clues = some_clues\n",
    "        self.solution = a_solution\n",
    "        \n",
    "        self.width = len(some_clues['cols'])\n",
    "        self.height = len(some_clues['rows'])\n",
    "        self.black_count = sum(some_clues['rows'])\n",
    "        self.cells_count = self.width * self.height\n",
    "        \n",
    "    def is_action_valid(self, row, col, mark):\n",
    "        return self.solution[row, col] == mark.value        \n",
    "    \n",
    "    def is_board_valid(self, states_list):\n",
    "        flat_solution = self.solution.reshape(self.cells_count).tolist()\n",
    "        return  flat_solution == states_list\n",
    "    "
   ]
  },
  {
   "cell_type": "code",
   "execution_count": 36,
   "id": "f6d7dffb",
   "metadata": {},
   "outputs": [],
   "source": [
    "engine2x2 = GameEngine(clues2x2, solution2x2)\n",
    "assert engine2x2.width == 2\n",
    "assert engine2x2.height == 2\n",
    "assert engine2x2.cells_count == 4\n",
    "assert engine2x2.black_count == 3\n",
    "assert engine2x2.is_board_valid([1, 0, 1, 1])\n",
    "assert not engine2x2.is_board_valid([1, 1, 0, 1])"
   ]
  },
  {
   "cell_type": "markdown",
   "id": "814d4d8b",
   "metadata": {},
   "source": [
    "## 3.1. Experiment on 2x2"
   ]
  },
  {
   "cell_type": "markdown",
   "id": "a8c484bd",
   "metadata": {},
   "source": [
    "The first step is to list all possible options for the oard.\n",
    "\n",
    "The board is a list of 0 and 1. From the clues we know the number of black cells. It is the sum of all clues for either rows or cols.\n",
    "\n",
    "All possible boards are permutations of this black cells over the cells of the board. Given a set of [1,0] items, permutations are [1,0] and [0,1]"
   ]
  },
  {
   "cell_type": "code",
   "execution_count": 37,
   "id": "8b202d6a",
   "metadata": {},
   "outputs": [
    {
     "data": {
      "text/plain": [
       "{'rows': [1, 2], 'cols': [2, 1]}"
      ]
     },
     "execution_count": 37,
     "metadata": {},
     "output_type": "execute_result"
    }
   ],
   "source": [
    "clues2x2"
   ]
  },
  {
   "cell_type": "code",
   "execution_count": 38,
   "id": "2b724fca",
   "metadata": {},
   "outputs": [
    {
     "data": {
      "text/plain": [
       "array([[1, 0],\n",
       "       [1, 1]])"
      ]
     },
     "execution_count": 38,
     "metadata": {},
     "output_type": "execute_result"
    }
   ],
   "source": [
    "engine2x2 = GameEngine(clues2x2, solution2x2)\n",
    "engine2x2.solution"
   ]
  },
  {
   "cell_type": "code",
   "execution_count": 39,
   "id": "e50b895f",
   "metadata": {},
   "outputs": [
    {
     "data": {
      "text/plain": [
       "[1, 1, 1, 0]"
      ]
     },
     "execution_count": 39,
     "metadata": {},
     "output_type": "execute_result"
    }
   ],
   "source": [
    "from itertools import repeat, chain, tee\n",
    "# 3 blacks\n",
    "black_iterator = repeat(BoardMark.BLACK.value, engine2x2.black_count) \n",
    "# 1 filler\n",
    "filler_iterator = repeat(BoardMark.FILLER.value, engine2x2.cells_count - engine2x2.black_count) \n",
    "# chain concatenate both iterators\n",
    "# tee -is used for debugging, it duplicates the iterator which can be consummed only once\n",
    "initial_states_iterator, debug_iterator = tee(chain(black_iterator, filler_iterator))\n",
    "# show the value for debugging\n",
    "list(debug_iterator)"
   ]
  },
  {
   "cell_type": "code",
   "execution_count": 40,
   "id": "cdb3f8b1",
   "metadata": {},
   "outputs": [
    {
     "data": {
      "text/plain": [
       "[(1, 1, 1, 0),\n",
       " (1, 1, 0, 1),\n",
       " (1, 1, 1, 0),\n",
       " (1, 1, 0, 1),\n",
       " (1, 0, 1, 1),\n",
       " (1, 0, 1, 1),\n",
       " (1, 1, 1, 0),\n",
       " (1, 1, 0, 1),\n",
       " (1, 1, 1, 0),\n",
       " (1, 1, 0, 1),\n",
       " (1, 0, 1, 1),\n",
       " (1, 0, 1, 1),\n",
       " (1, 1, 1, 0),\n",
       " (1, 1, 0, 1),\n",
       " (1, 1, 1, 0),\n",
       " (1, 1, 0, 1),\n",
       " (1, 0, 1, 1),\n",
       " (1, 0, 1, 1),\n",
       " (0, 1, 1, 1),\n",
       " (0, 1, 1, 1),\n",
       " (0, 1, 1, 1),\n",
       " (0, 1, 1, 1),\n",
       " (0, 1, 1, 1),\n",
       " (0, 1, 1, 1)]"
      ]
     },
     "execution_count": 40,
     "metadata": {},
     "output_type": "execute_result"
    }
   ],
   "source": [
    "from itertools import permutations\n",
    "# generate permutations \n",
    "permutations_iterator, debug_iterator = tee(permutations(initial_states_iterator))\n",
    "list(debug_iterator)\n",
    "# there are 16 because permutation switch elements of the list and not values\n",
    "# it does not take care that 1 occurs many times"
   ]
  },
  {
   "cell_type": "code",
   "execution_count": 41,
   "id": "47651ae0",
   "metadata": {},
   "outputs": [
    {
     "name": "stdout",
     "output_type": "stream",
     "text": [
      "option:(1, 1, 0, 1)\n",
      "option:(1, 1, 1, 0)\n",
      "option:(0, 1, 1, 1)\n",
      "option:(1, 0, 1, 1)\n",
      "valid:(1, 0, 1, 1)\n"
     ]
    }
   ],
   "source": [
    "import numpy as np\n",
    "\n",
    "board2x2 = Board(clues2x2)\n",
    "# set avoids duplicates generated by permutations\n",
    "for o in set(permutations_iterator):\n",
    "    print(f\"option:{o}\")\n",
    "    # select valid options\n",
    "    if engine2x2.is_board_valid(list(o)): # option is a tuple () not a lust\n",
    "        print(f\"valid:{o}\")\n",
    "        board2x2.states.flat[:] = o"
   ]
  },
  {
   "cell_type": "code",
   "execution_count": 42,
   "id": "22da2a71",
   "metadata": {},
   "outputs": [
    {
     "name": "stdout",
     "output_type": "stream",
     "text": [
      "cols: 2 1\n",
      "rows:\n",
      "1\n",
      "2\n",
      "[['o' 'x']\n",
      " ['o' 'o']]\n"
     ]
    }
   ],
   "source": [
    "board2x2.prettyprint()"
   ]
  },
  {
   "cell_type": "markdown",
   "id": "6ae091f8",
   "metadata": {},
   "source": [
    "## 3.2. Experiment on 2x2 - Alternative implementation"
   ]
  },
  {
   "cell_type": "markdown",
   "id": "31019c82",
   "metadata": {},
   "source": [
    "Another way of analysing this problem is to get all possible indexs of black cells instead of all possible boards.\n",
    "\n",
    "Let's say there is a jar with numbers from 0 to 3. These are possible positions of a cell in the board. I want to draw 3 numbers from the jar. This is named combination."
   ]
  },
  {
   "cell_type": "code",
   "execution_count": 43,
   "id": "34dd2927",
   "metadata": {},
   "outputs": [
    {
     "data": {
      "text/plain": [
       "{'rows': [1, 2], 'cols': [2, 1]}"
      ]
     },
     "execution_count": 43,
     "metadata": {},
     "output_type": "execute_result"
    }
   ],
   "source": [
    "clues2x2"
   ]
  },
  {
   "cell_type": "code",
   "execution_count": 44,
   "id": "23fe1a27",
   "metadata": {},
   "outputs": [
    {
     "data": {
      "text/plain": [
       "array([[1, 0],\n",
       "       [1, 1]])"
      ]
     },
     "execution_count": 44,
     "metadata": {},
     "output_type": "execute_result"
    }
   ],
   "source": [
    "engine2x2 = GameEngine(clues2x2, solution2x2)\n",
    "engine2x2.solution"
   ]
  },
  {
   "cell_type": "code",
   "execution_count": 45,
   "id": "14c97bfc",
   "metadata": {},
   "outputs": [
    {
     "data": {
      "text/plain": [
       "[(0, 1, 2), (0, 1, 3), (0, 2, 3), (1, 2, 3)]"
      ]
     },
     "execution_count": 45,
     "metadata": {},
     "output_type": "execute_result"
    }
   ],
   "source": [
    "from itertools import combinations, tee\n",
    "# want to get 3 positions in a range 0 - 4 where 4 is the number of cells\n",
    "# we want each position to be unique thus no replacement\n",
    "temp_iterator = combinations(range(engine2x2.cells_count), engine2x2.black_count)\n",
    "combinations_iterator, debug_iterator = tee(temp_iterator)\n",
    "list(debug_iterator)"
   ]
  },
  {
   "cell_type": "code",
   "execution_count": 46,
   "id": "b2892655",
   "metadata": {},
   "outputs": [
    {
     "name": "stdout",
     "output_type": "stream",
     "text": [
      "option:(0, 1, 2)\n",
      "option:(0, 1, 3)\n",
      "option:(0, 2, 3)\n",
      "valid:[1 0 1 1]\n",
      "option:(1, 2, 3)\n"
     ]
    }
   ],
   "source": [
    "import numpy as np\n",
    "\n",
    "board2x2 = Board(clues2x2)\n",
    "for option in combinations_iterator:\n",
    "    print(f\"option:{option}\")\n",
    "    # compute the board state\n",
    "    # put black at each position in combinations_iterator and fillers elsewhere\n",
    "    states = np.full(engine2x2.cells_count, BoardMark.FILLER.value, dtype=int)\n",
    "    # put black at each position in combinations_iterator and fillers elsewhere\n",
    "    for pos in option:\n",
    "        states.flat[pos] = BoardMark.BLACK.value\n",
    "    \n",
    "    # select valid options\n",
    "    if engine2x2.is_board_valid(states.tolist()): \n",
    "        print(f\"valid:{states}\")\n",
    "        # batch update the board flattent to 1D\n",
    "        board2x2.states.flat[:] = states"
   ]
  },
  {
   "cell_type": "code",
   "execution_count": 47,
   "id": "b3a9c38e",
   "metadata": {},
   "outputs": [
    {
     "name": "stdout",
     "output_type": "stream",
     "text": [
      "cols: 2 1\n",
      "rows:\n",
      "1\n",
      "2\n",
      "[['o' 'x']\n",
      " ['o' 'o']]\n"
     ]
    }
   ],
   "source": [
    "board2x2.prettyprint()"
   ]
  },
  {
   "cell_type": "markdown",
   "id": "7c483381",
   "metadata": {},
   "source": [
    "## 3.3. Wrap up\n",
    "\n",
    "What works:\n",
    "- it is simple to design and implement\n",
    "- no computation, no headache with split blocks\n",
    "\n",
    "Limitation:\n",
    "- number of options  increase rapidly with the size of the board. \n",
    "\n",
    "In addition all these options will have to be checked for validity. We used known solutions here  because they are available but in a real use case we would evaluate whether the option match the clues for each option.\n",
    "\n",
    "The number of options increases lower with implementation 2 because the problem space is smaller. It is the number of blacks instead of the number of cells (blacks are usually around 50% of cells). However it increases rapidly."
   ]
  },
  {
   "cell_type": "code",
   "execution_count": 48,
   "id": "93e92fa5",
   "metadata": {},
   "outputs": [],
   "source": [
    "from itertools import combinations"
   ]
  },
  {
   "cell_type": "code",
   "execution_count": 49,
   "id": "ae551044",
   "metadata": {},
   "outputs": [
    {
     "name": "stdout",
     "output_type": "stream",
     "text": [
      "CPU times: user 4 µs, sys: 6 µs, total: 10 µs\n",
      "Wall time: 12.9 µs\n"
     ]
    },
    {
     "data": {
      "text/plain": [
       "126"
      ]
     },
     "execution_count": 49,
     "metadata": {},
     "output_type": "execute_result"
    }
   ],
   "source": [
    "%time\n",
    "from itertools import combinations\n",
    "black_count = 4\n",
    "cells_count = 9\n",
    "combinations_iterator = combinations(range(cells_count), black_count)\n",
    "len(list(combinations_iterator))"
   ]
  },
  {
   "cell_type": "code",
   "execution_count": 50,
   "id": "1b90575f",
   "metadata": {},
   "outputs": [
    {
     "name": "stdout",
     "output_type": "stream",
     "text": [
      "CPU times: user 3 µs, sys: 0 ns, total: 3 µs\n",
      "Wall time: 6.2 µs\n"
     ]
    },
    {
     "data": {
      "text/plain": [
       "11440"
      ]
     },
     "execution_count": 50,
     "metadata": {},
     "output_type": "execute_result"
    }
   ],
   "source": [
    "%time\n",
    "black_count = 7\n",
    "cells_count = 16\n",
    "combinations_iterator = combinations(range(cells_count), black_count)\n",
    "len(list(combinations_iterator))"
   ]
  },
  {
   "cell_type": "code",
   "execution_count": 51,
   "id": "29bc5fb3",
   "metadata": {},
   "outputs": [
    {
     "name": "stdout",
     "output_type": "stream",
     "text": [
      "CPU times: user 2 µs, sys: 1 µs, total: 3 µs\n",
      "Wall time: 4.77 µs\n"
     ]
    },
    {
     "data": {
      "text/plain": [
       "4457400"
      ]
     },
     "execution_count": 51,
     "metadata": {},
     "output_type": "execute_result"
    }
   ],
   "source": [
    "%time\n",
    "black_count = 14\n",
    "cells_count = 25\n",
    "combinations_iterator = combinations(range(cells_count), black_count)\n",
    "len(list(combinations_iterator))"
   ]
  },
  {
   "cell_type": "markdown",
   "id": "12f14572",
   "metadata": {},
   "source": [
    "# 4. Stategies and heuristics to POC"
   ]
  },
  {
   "cell_type": "markdown",
   "id": "2a2479c5",
   "metadata": {},
   "source": [
    "## Programming with constraints\n",
    "\n",
    "TODO"
   ]
  },
  {
   "cell_type": "markdown",
   "id": "fb931e22",
   "metadata": {},
   "source": [
    "## Dynamic programming\n",
    "\n",
    "TODO"
   ]
  },
  {
   "cell_type": "markdown",
   "id": "9d5e8ff1",
   "metadata": {},
   "source": [
    "## Probabilistic approach\n",
    "\n",
    "TODO"
   ]
  },
  {
   "cell_type": "markdown",
   "id": "0d6b3317",
   "metadata": {},
   "source": [
    "## Mathematic approach\n",
    "\n",
    "TODO"
   ]
  },
  {
   "cell_type": "markdown",
   "id": "0c41d9bf",
   "metadata": {},
   "source": [
    "## Genetic algorithm\n",
    "\n",
    "\"genetic algorithm (GA) is a metaheuristic inspired by the process of natural selection that belongs to the larger class of evolutionary algorithms (EA). Genetic algorithms are commonly used to generate high-quality solutions to optimization and search problems by relying on biologically inspired operators such as mutation, crossover and selection\" - Wikipedia"
   ]
  },
  {
   "cell_type": "markdown",
   "id": "7cb3c0fa",
   "metadata": {},
   "source": [
    "TODO how could it work here, explain a little bit the selection process"
   ]
  },
  {
   "cell_type": "markdown",
   "id": "a8570b3d",
   "metadata": {},
   "source": [
    "## Machine Learning\n",
    "\n",
    "TODO"
   ]
  },
  {
   "cell_type": "markdown",
   "id": "fd5bcdc9",
   "metadata": {},
   "source": [
    "# 5. Wrap up\n",
    "\n",
    "We have learned\n",
    "- how to solve the puzlle manually, by try-and-error and by brute force\n",
    "- some POC ideas\n",
    "\n",
    "The class and solutions are saved in episode02.py.\n",
    "\n",
    "\n",
    "This quick exploration of ways of solving this problem show that we need some additional components :\n",
    "- a better board representation\n",
    "- a game engine which provides the game validation for try-and-error validation and solved board - for all kind of puzzles (we have tested 2x2 only)\n",
    "- some operation thate were identified in episode 01: is the board completed, is the board valid\n",
    "- a puzzle class with some operations to transform the clues and compute black count and cels count\n",
    "- try-and-error and learning process will require something in between not done and done in order to improve on residual error or rewards:  number of cells completed/undefined, number of errors, number of valid cells\n"
   ]
  },
  {
   "cell_type": "markdown",
   "id": "aac51c17",
   "metadata": {},
   "source": [
    "## 5.1. Quick test of saved classes"
   ]
  },
  {
   "cell_type": "code",
   "execution_count": 52,
   "id": "69810ce8",
   "metadata": {},
   "outputs": [],
   "source": [
    "# reset all variables from tests\n",
    "%reset -f"
   ]
  },
  {
   "cell_type": "code",
   "execution_count": 53,
   "id": "a20da935",
   "metadata": {},
   "outputs": [],
   "source": [
    "from episode01 import clues2x2\n",
    "from episode02 import solution2x2, GameEngine"
   ]
  },
  {
   "cell_type": "code",
   "execution_count": 54,
   "id": "87297328",
   "metadata": {},
   "outputs": [
    {
     "data": {
      "text/plain": [
       "{'rows': [1, 2], 'cols': [2, 1]}"
      ]
     },
     "execution_count": 54,
     "metadata": {},
     "output_type": "execute_result"
    }
   ],
   "source": [
    "clues2x2"
   ]
  },
  {
   "cell_type": "code",
   "execution_count": 55,
   "id": "476b92a8",
   "metadata": {},
   "outputs": [
    {
     "data": {
      "text/plain": [
       "array([[1, 0],\n",
       "       [1, 1]])"
      ]
     },
     "execution_count": 55,
     "metadata": {},
     "output_type": "execute_result"
    }
   ],
   "source": [
    "solution2x2"
   ]
  },
  {
   "cell_type": "code",
   "execution_count": 56,
   "id": "59ec310d",
   "metadata": {},
   "outputs": [],
   "source": [
    "engine2x2 = GameEngine(clues2x2, solution2x2)\n",
    "assert engine2x2.width == 2\n",
    "assert engine2x2.height == 2\n",
    "assert engine2x2.cells_count == 4\n",
    "assert engine2x2.black_count == 3\n",
    "assert engine2x2.is_board_valid([1, 0, 1, 1])\n",
    "assert not engine2x2.is_board_valid([1, 1, 0, 1])"
   ]
  },
  {
   "cell_type": "markdown",
   "id": "7ae6d0e1",
   "metadata": {},
   "source": [
    "# TODO intro"
   ]
  },
  {
   "cell_type": "code",
   "execution_count": null,
   "id": "9de37d1a",
   "metadata": {},
   "outputs": [],
   "source": []
  }
 ],
 "metadata": {
  "kernelspec": {
   "display_name": "Python 3 (ipykernel)",
   "language": "python",
   "name": "python3"
  },
  "language_info": {
   "codemirror_mode": {
    "name": "ipython",
    "version": 3
   },
   "file_extension": ".py",
   "mimetype": "text/x-python",
   "name": "python",
   "nbconvert_exporter": "python",
   "pygments_lexer": "ipython3",
   "version": "3.9.7"
  }
 },
 "nbformat": 4,
 "nbformat_minor": 5
}
