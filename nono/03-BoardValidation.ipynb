{
 "cells": [
  {
   "cell_type": "markdown",
   "metadata": {},
   "source": [
    "# Add the capacity to verify the board"
   ]
  },
  {
   "cell_type": "markdown",
   "metadata": {},
   "source": [
    "Checking the board visually is fine for debugging but it does not work well if we want to test a lot of board solutions\n",
    "\n",
    "Goals:\n",
    "- given a board is it completed ? \n",
    "- Are cells left undefined ? \n",
    "- Does it holds the clues ?"
   ]
  },
  {
   "cell_type": "markdown",
   "metadata": {},
   "source": [
    "## Board class from notebook 01"
   ]
  },
  {
   "cell_type": "code",
   "execution_count": 1,
   "metadata": {},
   "outputs": [],
   "source": [
    "import numpy as np\n",
    "from enum import Enum\n",
    "\n",
    "# constants for mark lette\n",
    "class BoardMark(Enum):\n",
    "    INIT = -1\n",
    "    FILLER = 0\n",
    "    BLACK = 1\n",
    "\n",
    "class Board:\n",
    "    '''\n",
    "    Manage the board.\n",
    "    '''\n",
    "    \n",
    "    def __init__(self, some_clues):\n",
    "        '''\n",
    "        board constructor\n",
    "        '''\n",
    "        # given parameters\n",
    "        self.clues = some_clues\n",
    "        # compute board dimensions\n",
    "        self.width = len(self.clues['cols']) \n",
    "        self.height = len(self.clues['rows']) \n",
    "        # create board of type int, initialized with -1\n",
    "        default_value = BoardMark.INIT.value\n",
    "        self.states = np.full((self.height, self.width), default_value, dtype=int)\n",
    "        \n",
    "    def mark(self, row, col, mark):\n",
    "        '''\n",
    "        mark a cell\n",
    "        '''\n",
    "        self.states[row, col] = mark.value\n",
    "\n",
    "    def prettyprint(self):\n",
    "        '''\n",
    "        pretty print of the board \n",
    "        '''\n",
    "        print(\"cols:\", end=\" \")\n",
    "        print(*self.clues['cols']) # * unpacks and remove []s\n",
    "        print(\"rows:\")\n",
    "        [print(r) for r in self.clues['rows']]\n",
    "          \n",
    "        marks_switcher = {-1: '.', 0: 'x', 1: 'o'}\n",
    "        # for whatever reason lambda does not work here\n",
    "        def f_marks(v):\n",
    "            return marks_switcher[v]\n",
    "        applyall = np.vectorize(f_marks)\n",
    "        marks = applyall(self.states)\n",
    "        print(marks)\n"
   ]
  },
  {
   "cell_type": "code",
   "execution_count": 2,
   "metadata": {},
   "outputs": [
    {
     "name": "stdout",
     "output_type": "stream",
     "text": [
      "cols: 2 1\n",
      "rows:\n",
      "1\n",
      "2\n",
      "[['.' '.']\n",
      " ['.' '.']]\n",
      "cols: 2 1\n",
      "rows:\n",
      "1\n",
      "2\n",
      "[['.' 'x']\n",
      " ['.' 'o']]\n"
     ]
    }
   ],
   "source": [
    "# clues for mini game\n",
    "clues = {\n",
    "    'rows': [1, 2],\n",
    "    'cols': [2, 1]\n",
    "}\n",
    "board = Board(clues)\n",
    "board.prettyprint()\n",
    "board.mark(0, 1, BoardMark.FILLER) \n",
    "board.mark(1, 1, BoardMark.BLACK) \n",
    "board.prettyprint()"
   ]
  },
  {
   "cell_type": "markdown",
   "metadata": {},
   "source": [
    "## check numbers of cells left"
   ]
  },
  {
   "cell_type": "code",
   "execution_count": 3,
   "metadata": {},
   "outputs": [
    {
     "data": {
      "text/plain": [
       "[-1, -1]"
      ]
     },
     "execution_count": 3,
     "metadata": {},
     "output_type": "execute_result"
    }
   ],
   "source": [
    "[ c for c in board.states.reshape(4) if c == -1]"
   ]
  },
  {
   "cell_type": "code",
   "execution_count": 7,
   "metadata": {},
   "outputs": [
    {
     "name": "stdout",
     "output_type": "stream",
     "text": [
      "count_left=2\n"
     ]
    }
   ],
   "source": [
    "count_left = len([ c for c in board.states.reshape(4) if c == -1])\n",
    "print(f\"count_left={count_left}\")\n",
    "assert count_left == 2"
   ]
  },
  {
   "cell_type": "markdown",
   "metadata": {},
   "source": [
    "## check whether board hold the clues"
   ]
  },
  {
   "cell_type": "code",
   "execution_count": 45,
   "metadata": {},
   "outputs": [
    {
     "name": "stdout",
     "output_type": "stream",
     "text": [
      "cols: 2 1\n",
      "rows:\n",
      "1\n",
      "2\n",
      "[['.' '.']\n",
      " ['.' '.']]\n",
      "cols: 2 1\n",
      "rows:\n",
      "1\n",
      "2\n",
      "[['o' 'x']\n",
      " ['o' 'o']]\n"
     ]
    }
   ],
   "source": [
    "# clues for mini game\n",
    "clues = {\n",
    "    'rows': [1, 2],\n",
    "    'cols': [2, 1]\n",
    "}\n",
    "board = Board(clues)\n",
    "board.prettyprint()\n",
    "board.mark(0, 0, BoardMark.BLACK) \n",
    "board.mark(0, 1, BoardMark.FILLER) \n",
    "board.mark(1, 0, BoardMark.BLACK) \n",
    "board.mark(1, 1, BoardMark.BLACK) \n",
    "board.prettyprint()"
   ]
  },
  {
   "cell_type": "code",
   "execution_count": 46,
   "metadata": {},
   "outputs": [
    {
     "data": {
      "text/plain": [
       "array([[1, 0],\n",
       "       [1, 1]])"
      ]
     },
     "execution_count": 46,
     "metadata": {},
     "output_type": "execute_result"
    }
   ],
   "source": [
    "lines = board.states\n",
    "lines"
   ]
  },
  {
   "cell_type": "code",
   "execution_count": 47,
   "metadata": {},
   "outputs": [],
   "source": [
    "from itertools import groupby"
   ]
  },
  {
   "cell_type": "code",
   "execution_count": 48,
   "metadata": {},
   "outputs": [
    {
     "data": {
      "text/plain": [
       "[[(1, 1)], [(1, 1, 1)]]"
      ]
     },
     "execution_count": 48,
     "metadata": {},
     "output_type": "execute_result"
    }
   ],
   "source": [
    "# group cells by value and select groups where group key is 1 (BLACK)\n",
    "[ [(k, *g) for k,g in groupby(line) if k==1]\n",
    "  for line in lines\n",
    "]"
   ]
  },
  {
   "cell_type": "code",
   "execution_count": 66,
   "metadata": {},
   "outputs": [
    {
     "name": "stdout",
     "output_type": "stream",
     "text": [
      "blocks=[[1], [2]]\n"
     ]
    }
   ],
   "source": [
    "blocks = [ [len(list(g)) for k,g in groupby(line) if k==1]\n",
    "  for line in lines\n",
    "]\n",
    "print(f\"blocks={blocks}\")\n",
    "assert blocks == [[1], [2]]"
   ]
  },
  {
   "cell_type": "code",
   "execution_count": 53,
   "metadata": {},
   "outputs": [
    {
     "data": {
      "text/plain": [
       "[[1], [2]]"
      ]
     },
     "execution_count": 53,
     "metadata": {},
     "output_type": "execute_result"
    }
   ],
   "source": [
    "# we actually need to compare with [1, 2]\n",
    "[[clue] for clue in clues['rows'] ]"
   ]
  },
  {
   "cell_type": "code",
   "execution_count": 59,
   "metadata": {},
   "outputs": [
    {
     "data": {
      "text/plain": [
       "[[1], [3], [[1, 1]], [3], [5]]"
      ]
     },
     "execution_count": 59,
     "metadata": {},
     "output_type": "execute_result"
    }
   ],
   "source": [
    "[[clue] for clue in [1, 3, [1,1], 3, 5]]"
   ]
  },
  {
   "cell_type": "code",
   "execution_count": 61,
   "metadata": {},
   "outputs": [
    {
     "data": {
      "text/plain": [
       "[[1], [3], [1, 1], [3], [5]]"
      ]
     },
     "execution_count": 61,
     "metadata": {},
     "output_type": "execute_result"
    }
   ],
   "source": [
    "f = lambda clue: clue if isinstance(clue, list) else [clue]\n",
    "[f(clue) for clue in [1, 3, [1,1], 3, 5]]"
   ]
  },
  {
   "cell_type": "code",
   "execution_count": 63,
   "metadata": {},
   "outputs": [],
   "source": [
    "f = lambda clue: clue if isinstance(clue, list) else [clue]"
   ]
  },
  {
   "cell_type": "code",
   "execution_count": 65,
   "metadata": {},
   "outputs": [
    {
     "data": {
      "text/plain": [
       "[[1], [2]]"
      ]
     },
     "execution_count": 65,
     "metadata": {},
     "output_type": "execute_result"
    }
   ],
   "source": [
    "[f(clue) for clue in clues['rows'] ]"
   ]
  },
  {
   "cell_type": "code",
   "execution_count": 67,
   "metadata": {},
   "outputs": [],
   "source": [
    "assert blocks == [f(clue) for clue in clues['rows'] ]"
   ]
  },
  {
   "cell_type": "code",
   "execution_count": 68,
   "metadata": {},
   "outputs": [
    {
     "data": {
      "text/plain": [
       "[[1, 1], [0, 1]]"
      ]
     },
     "execution_count": 68,
     "metadata": {},
     "output_type": "execute_result"
    }
   ],
   "source": [
    "w = 2\n",
    "h = 2\n",
    "cols = [ [board.states.reshape(w*h)[c+r*w]\n",
    "         for r in range(0, h)]\n",
    "         for c in range(0, w)]\n",
    "cols"
   ]
  },
  {
   "cell_type": "code",
   "execution_count": 69,
   "metadata": {},
   "outputs": [
    {
     "name": "stdout",
     "output_type": "stream",
     "text": [
      "blocks=[[2], [1]]\n"
     ]
    }
   ],
   "source": [
    "blocks = [ [len(list(g)) for k,g in groupby(line) if k==1]\n",
    "  for line in cols\n",
    "]\n",
    "print(f\"blocks={blocks}\")\n",
    "assert blocks == [[2], [1]]"
   ]
  },
  {
   "cell_type": "code",
   "execution_count": 71,
   "metadata": {},
   "outputs": [],
   "source": [
    "assert blocks == [f(clue) for clue in clues['cols'] ]"
   ]
  },
  {
   "cell_type": "markdown",
   "metadata": {},
   "source": [
    "## updated class"
   ]
  },
  {
   "cell_type": "code",
   "execution_count": 108,
   "metadata": {},
   "outputs": [],
   "source": [
    "import numpy as np\n",
    "from enum import Enum\n",
    "from itertools import groupby\n",
    "\n",
    "# constants for mark lette\n",
    "class BoardMark(Enum):\n",
    "    INIT = -1\n",
    "    FILLER = 0\n",
    "    BLACK = 1\n",
    "\n",
    "class Board:\n",
    "    '''\n",
    "    Manage the board.\n",
    "    '''\n",
    "    \n",
    "    def __init__(self, some_clues):\n",
    "        '''\n",
    "        board constructor\n",
    "        '''\n",
    "        # given parameters\n",
    "        self.clues = some_clues\n",
    "        # compute board dimensions\n",
    "        self.width = len(self.clues['cols']) \n",
    "        self.height = len(self.clues['rows']) \n",
    "        self.count_cells = self.width * self.height\n",
    "        # create board of type int, initialized with -1\n",
    "        default_value = BoardMark.INIT.value\n",
    "        self.states = np.full((self.height, self.width), default_value, dtype=int)\n",
    "        \n",
    "    def mark(self, row, col, mark):\n",
    "        '''\n",
    "        mark a cell\n",
    "        '''\n",
    "        self.states[row, col] = mark.value\n",
    "\n",
    "    def prettyprint(self):\n",
    "        '''\n",
    "        pretty print of the board \n",
    "        '''\n",
    "        print(\"cols:\", end=\" \")\n",
    "        print(*self.clues['cols']) # * unpacks and remove []s\n",
    "        print(\"rows:\")\n",
    "        [print(r) for r in self.clues['rows']]\n",
    "          \n",
    "        marks_switcher = {-1: '.', 0: 'x', 1: 'o'}\n",
    "        # for whatever reason lambda does not work here\n",
    "        def f_marks(v):\n",
    "            return marks_switcher[v]\n",
    "        applyall = np.vectorize(f_marks)\n",
    "        marks = applyall(self.states)\n",
    "        print(marks)\n",
    "\n",
    "    def count_cells_left(self):\n",
    "        return len([ c \n",
    "                  for c in board.states.reshape(self.count_cells) \n",
    "                  if c == BoardMark.INIT.value])\n",
    "\n",
    "\n",
    "    def does_hold_clues(self):\n",
    "\n",
    "        f = lambda clue: clue if isinstance(clue, list) else [clue] \n",
    "        \n",
    "        rows = self.states\n",
    "        rows_blocks = [ [len(list(g)) for k,g in groupby(row) if k==1]\n",
    "          for row in rows\n",
    "        ]\n",
    "        rows_status = rows_blocks == [f(clue) for clue in clues['rows'] ]\n",
    "        \n",
    "        cols = [ [self.states.reshape(self.count_cells)[c+r*self.width]\n",
    "         for r in range(0, self.height)]\n",
    "         for c in range(0, self.width)]\n",
    "        cols_blocks = [ [len(list(g)) for k,g in groupby(col) if k==1]\n",
    "          for col in cols\n",
    "        ]\n",
    "        cols_status = cols_blocks == [f(clue) for clue in clues['cols'] ]\n",
    "\n",
    "        return rows_status and cols_status\n",
    "    \n",
    "    \n",
    "    def is_done(self):\n",
    "        no_cells_left = self.count_cells_left() == 0\n",
    "        return no_cells_left and self.does_hold_clues()\n"
   ]
  },
  {
   "cell_type": "code",
   "execution_count": 109,
   "metadata": {},
   "outputs": [
    {
     "name": "stdout",
     "output_type": "stream",
     "text": [
      "cols: 2 1\n",
      "rows:\n",
      "1\n",
      "2\n",
      "[['.' '.']\n",
      " ['.' '.']]\n",
      "cols: 2 1\n",
      "rows:\n",
      "1\n",
      "2\n",
      "[['o' 'x']\n",
      " ['o' 'o']]\n"
     ]
    }
   ],
   "source": [
    "# clues for mini game\n",
    "clues = {\n",
    "    'rows': [1, 2],\n",
    "    'cols': [2, 1]\n",
    "}\n",
    "board = Board(clues)\n",
    "board.prettyprint()\n",
    "board.mark(0, 0, BoardMark.BLACK) \n",
    "board.mark(0, 1, BoardMark.FILLER) \n",
    "board.mark(1, 0, BoardMark.BLACK) \n",
    "board.mark(1, 1, BoardMark.BLACK) \n",
    "board.prettyprint()"
   ]
  },
  {
   "cell_type": "code",
   "execution_count": 86,
   "metadata": {},
   "outputs": [],
   "source": [
    "assert board.count_cells_left() == 0"
   ]
  },
  {
   "cell_type": "code",
   "execution_count": 84,
   "metadata": {},
   "outputs": [],
   "source": [
    "assert board.does_hold_clues() "
   ]
  },
  {
   "cell_type": "code",
   "execution_count": 110,
   "metadata": {},
   "outputs": [],
   "source": [
    "assert board.is_done() "
   ]
  },
  {
   "cell_type": "markdown",
   "metadata": {},
   "source": [
    "## check 5x5 board"
   ]
  },
  {
   "cell_type": "code",
   "execution_count": 111,
   "metadata": {},
   "outputs": [
    {
     "name": "stdout",
     "output_type": "stream",
     "text": [
      "cols: 1 4 [2, 2] 4 1\n",
      "rows:\n",
      "1\n",
      "3\n",
      "[1, 1]\n",
      "3\n",
      "5\n",
      "[['x' 'x' 'o' 'x' 'x']\n",
      " ['x' 'o' 'o' 'o' 'x']\n",
      " ['x' 'o' 'x' 'o' 'x']\n",
      " ['x' 'o' 'o' 'o' 'x']\n",
      " ['o' 'o' 'o' 'o' 'o']]\n"
     ]
    }
   ],
   "source": [
    "clues = {\n",
    "    'rows': [1, 3, [1,1], 3, 5],\n",
    "    'cols': [1, 4, [2,2], 4, 1]\n",
    "}\n",
    "board = Board(clues)\n",
    "\n",
    "# row 4 is ooooo - only option for 5\n",
    "board.states[4, :] = BoardMark.BLACK.value\n",
    "# col 2 is ooxoo - only option for [2, 2]\n",
    "board.states[:, 2] = BoardMark.BLACK.value\n",
    "board.states[2, 2] = BoardMark.FILLER.value\n",
    "# col 1 and 3 are xoooo - continguous to the placed black\n",
    "board.states[:, 1] = BoardMark.BLACK.value\n",
    "board.states[0, 1] = BoardMark.FILLER.value\n",
    "board.states[:, 3] = BoardMark.BLACK.value\n",
    "board.states[0, 3] = BoardMark.FILLER.value\n",
    "# rows 1 and 3 are xooox - 3 blacks are placed\n",
    "board.states[1, 0] = BoardMark.FILLER.value\n",
    "board.states[1, 4] = BoardMark.FILLER.value\n",
    "board.states[3, 0] = BoardMark.FILLER.value\n",
    "board.states[3, 4] = BoardMark.FILLER.value\n",
    "# row 2 is xoxox - [1, 1] blacks are placed\n",
    "board.states[2, 0] = BoardMark.FILLER.value\n",
    "board.states[2, 4] = BoardMark.FILLER.value\n",
    "# row 0 is xoxox - 1 black is placed\n",
    "board.states[0, 0] = BoardMark.FILLER.value\n",
    "board.states[0, 4] = BoardMark.FILLER.value\n",
    "\n",
    "board.prettyprint()\n"
   ]
  },
  {
   "cell_type": "code",
   "execution_count": 112,
   "metadata": {},
   "outputs": [],
   "source": [
    "assert board.is_done() "
   ]
  },
  {
   "cell_type": "code",
   "execution_count": null,
   "metadata": {},
   "outputs": [],
   "source": []
  }
 ],
 "metadata": {
  "kernelspec": {
   "display_name": "Python 3",
   "language": "python",
   "name": "python3"
  },
  "language_info": {
   "codemirror_mode": {
    "name": "ipython",
    "version": 3
   },
   "file_extension": ".py",
   "mimetype": "text/x-python",
   "name": "python",
   "nbconvert_exporter": "python",
   "pygments_lexer": "ipython3",
   "version": "3.7.3"
  }
 },
 "nbformat": 4,
 "nbformat_minor": 2
}
