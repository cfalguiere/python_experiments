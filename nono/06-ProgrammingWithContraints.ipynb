{
 "cells": [
  {
   "cell_type": "markdown",
   "id": "a8563487",
   "metadata": {},
   "source": [
    "# Programming with contraints"
   ]
  },
  {
   "cell_type": "markdown",
   "id": "4862666a",
   "metadata": {},
   "source": [
    "Explain the problem as it is defined by the rules.\n",
    "\n",
    "The engine will compute the combination that satisfies the constraines"
   ]
  },
  {
   "cell_type": "markdown",
   "id": "ca2ae8bb",
   "metadata": {},
   "source": [
    "- Ideation: 30mn\n",
    "- Design: 1h - feature out how to manage variables for board\n",
    "- Implementation: 2h - generic represeentatiàno of rules"
   ]
  },
  {
   "cell_type": "code",
   "execution_count": null,
   "id": "bb1c7239",
   "metadata": {},
   "outputs": [],
   "source": [
    "## model documentation"
   ]
  },
  {
   "cell_type": "markdown",
   "id": "b14b7e0d",
   "metadata": {},
   "source": [
    "https://pypi.org/project/python-constraint/"
   ]
  },
  {
   "cell_type": "code",
   "execution_count": 1,
   "id": "60834cc3",
   "metadata": {},
   "outputs": [
    {
     "name": "stdout",
     "output_type": "stream",
     "text": [
      "Collecting python-constraint\n",
      "  Using cached python-constraint-1.4.0.tar.bz2 (18 kB)\n",
      "Building wheels for collected packages: python-constraint\n",
      "  Building wheel for python-constraint (setup.py) ... \u001b[?25ldone\n",
      "\u001b[?25h  Created wheel for python-constraint: filename=python_constraint-1.4.0-py2.py3-none-any.whl size=24081 sha256=96416a8f002cdf378faceb42bd25631aca654c5e2566c3158457715f981c71ed\n",
      "  Stored in directory: /Users/cfalguiere/Library/Caches/pip/wheels/51/36/1f/c2ccb8dc4eba38c5215636d4ae2c480b32069cab0376bcc1a4\n",
      "Successfully built python-constraint\n",
      "Installing collected packages: python-constraint\n",
      "Successfully installed python-constraint-1.4.0\n"
     ]
    }
   ],
   "source": [
    "! pip install python-constraint"
   ]
  },
  {
   "cell_type": "code",
   "execution_count": 3,
   "id": "2883d894",
   "metadata": {},
   "outputs": [],
   "source": [
    "from constraint  import *"
   ]
  },
  {
   "cell_type": "markdown",
   "id": "628d96a1",
   "metadata": {},
   "source": [
    "## Basic example from the tutorial"
   ]
  },
  {
   "cell_type": "code",
   "execution_count": 4,
   "id": "95e0ec6e",
   "metadata": {},
   "outputs": [
    {
     "data": {
      "text/plain": [
       "[{'a': 3, 'b': 6},\n",
       " {'a': 3, 'b': 5},\n",
       " {'a': 3, 'b': 4},\n",
       " {'a': 2, 'b': 6},\n",
       " {'a': 2, 'b': 5},\n",
       " {'a': 2, 'b': 4},\n",
       " {'a': 1, 'b': 6},\n",
       " {'a': 1, 'b': 5},\n",
       " {'a': 1, 'b': 4}]"
      ]
     },
     "execution_count": 4,
     "metadata": {},
     "output_type": "execute_result"
    }
   ],
   "source": [
    "problem = Problem()\n",
    "problem.addVariable(\"a\", [1,2,3])\n",
    "problem.addVariable(\"b\", [4,5,6])\n",
    "problem.getSolutions()"
   ]
  },
  {
   "cell_type": "markdown",
   "id": "807cd103",
   "metadata": {},
   "source": [
    "Without constraints it does a cartesian product\n",
    "\n",
    "The constraint force to filter only paris where b is twice a "
   ]
  },
  {
   "cell_type": "code",
   "execution_count": 6,
   "id": "12855d52",
   "metadata": {},
   "outputs": [
    {
     "data": {
      "text/plain": [
       "[{'a': 3, 'b': 6}, {'a': 2, 'b': 4}]"
      ]
     },
     "execution_count": 6,
     "metadata": {},
     "output_type": "execute_result"
    }
   ],
   "source": [
    "problem.addConstraint(lambda a, b: a*2 == b,\n",
    "                          (\"a\", \"b\"))\n",
    "problem.getSolutions()"
   ]
  },
  {
   "cell_type": "markdown",
   "id": "3ab78c36",
   "metadata": {},
   "source": [
    "## apply to the mobnogram problem"
   ]
  },
  {
   "cell_type": "code",
   "execution_count": 7,
   "id": "efb02ba5",
   "metadata": {},
   "outputs": [],
   "source": [
    "from boardutilsv2 import Puzzle, Board, BoardMark\n",
    "from plotterutilsv2 import BoardPlotter"
   ]
  },
  {
   "cell_type": "code",
   "execution_count": 29,
   "id": "5ebf1bd3",
   "metadata": {},
   "outputs": [],
   "source": [
    "clues2x2 = {\n",
    "    'rows': [1, 2],\n",
    "    'cols': [2, 1]\n",
    "}\n",
    "puzzle2x2 = Puzzle(clues2x2)"
   ]
  },
  {
   "cell_type": "code",
   "execution_count": 30,
   "id": "4aaea5e7",
   "metadata": {},
   "outputs": [
    {
     "data": {
      "text/plain": [
       "[{'r0c0': 1, 'r0c1': 1, 'r1c0': 1, 'r1c1': 1},\n",
       " {'r0c0': 1, 'r0c1': 1, 'r1c0': 1, 'r1c1': 0},\n",
       " {'r0c0': 1, 'r0c1': 1, 'r1c0': 0, 'r1c1': 1},\n",
       " {'r0c0': 1, 'r0c1': 1, 'r1c0': 0, 'r1c1': 0},\n",
       " {'r0c0': 1, 'r0c1': 0, 'r1c0': 1, 'r1c1': 1},\n",
       " {'r0c0': 1, 'r0c1': 0, 'r1c0': 1, 'r1c1': 0},\n",
       " {'r0c0': 1, 'r0c1': 0, 'r1c0': 0, 'r1c1': 1},\n",
       " {'r0c0': 1, 'r0c1': 0, 'r1c0': 0, 'r1c1': 0},\n",
       " {'r0c0': 0, 'r0c1': 1, 'r1c0': 1, 'r1c1': 1},\n",
       " {'r0c0': 0, 'r0c1': 1, 'r1c0': 1, 'r1c1': 0},\n",
       " {'r0c0': 0, 'r0c1': 1, 'r1c0': 0, 'r1c1': 1},\n",
       " {'r0c0': 0, 'r0c1': 1, 'r1c0': 0, 'r1c1': 0},\n",
       " {'r0c0': 0, 'r0c1': 0, 'r1c0': 1, 'r1c1': 1},\n",
       " {'r0c0': 0, 'r0c1': 0, 'r1c0': 1, 'r1c1': 0},\n",
       " {'r0c0': 0, 'r0c1': 0, 'r1c0': 0, 'r1c1': 1},\n",
       " {'r0c0': 0, 'r0c1': 0, 'r1c0': 0, 'r1c1': 0}]"
      ]
     },
     "execution_count": 30,
     "metadata": {},
     "output_type": "execute_result"
    }
   ],
   "source": [
    "# let first write some static rules\n",
    "problem = Problem()\n",
    "\n",
    "# create a variable for each cell\n",
    "# name is rNcM where N is the row number and M the col number\n",
    "# are all in range 0-1\n",
    "problem.addVariable(\"r0c0\", [0,1])\n",
    "problem.addVariable(\"r0c1\", [0,1])\n",
    "problem.addVariable(\"r1c0\", [0,1])\n",
    "problem.addVariable(\"r1c1\", [0,1])\n",
    "problem.getSolutions()"
   ]
  },
  {
   "cell_type": "code",
   "execution_count": 31,
   "id": "fb29bea6",
   "metadata": {},
   "outputs": [
    {
     "data": {
      "text/plain": [
       "[{'r0c0': 1, 'r0c1': 0, 'r1c0': 1, 'r1c1': 1}]"
      ]
     },
     "execution_count": 31,
     "metadata": {},
     "output_type": "execute_result"
    }
   ],
   "source": [
    "# express the clues contraints in a static way\n",
    "# last parameter is the given variables. They match the lambda vars.\n",
    "# contraints on rows\n",
    "problem.addConstraint(lambda c1, c2: c1+c2 == 1,\n",
    "                          (\"r0c0\", \"r0c1\"))\n",
    "problem.addConstraint(lambda c1, c2: c1+c2 == 2,\n",
    "                          (\"r1c0\", \"r1c1\"))\n",
    "# contraints on cols\n",
    "problem.addConstraint(lambda r1, r2: r1+r2 == 2,\n",
    "                          (\"r0c0\", \"r1c0\"))\n",
    "problem.addConstraint(lambda r1, r2: r1+r2 == 1,\n",
    "                          (\"r0c1\", \"r1c1\"))\n",
    "solutions = problem.getSolutions()\n",
    "solutions"
   ]
  },
  {
   "cell_type": "code",
   "execution_count": 37,
   "id": "624a5e02",
   "metadata": {},
   "outputs": [
    {
     "data": {
      "image/png": "[encoded data removed]",
      "text/plain": [
       "<Figure size 72x72 with 1 Axes>"
      ]
     },
     "metadata": {
      "needs_background": "light"
     },
     "output_type": "display_data"
    }
   ],
   "source": [
    "board2x2 = Board(puzzle2x2)\n",
    "plotter2x2 = BoardPlotter(board2x2)\n",
    "\n",
    "board2x2.states[0,0] = solutions[0]['r0c0']\n",
    "board2x2.states[0,1] = solutions[0]['r0c1']\n",
    "board2x2.states[1,0] = solutions[0]['r1c0']\n",
    "board2x2.states[1,1] = solutions[0]['r1c1']\n",
    "\n",
    "plotter2x2.show()\n",
    "assert board2x2.is_done()"
   ]
  },
  {
   "cell_type": "markdown",
   "id": "143f5fe3",
   "metadata": {},
   "source": [
    "## A more generic implementation"
   ]
  },
  {
   "cell_type": "code",
   "execution_count": 38,
   "id": "3dceaca0",
   "metadata": {},
   "outputs": [],
   "source": [
    "clues2x2 = {\n",
    "    'rows': [1, 2],\n",
    "    'cols': [2, 1]\n",
    "}\n",
    "puzzle2x2 = Puzzle(clues2x2)"
   ]
  },
  {
   "cell_type": "code",
   "execution_count": 46,
   "id": "16825c72",
   "metadata": {},
   "outputs": [
    {
     "data": {
      "text/plain": [
       "[{'r0c0': 1, 'r0c1': 1, 'r1c0': 1, 'r1c1': 1},\n",
       " {'r0c0': 1, 'r0c1': 1, 'r1c0': 1, 'r1c1': 0},\n",
       " {'r0c0': 1, 'r0c1': 1, 'r1c0': 0, 'r1c1': 1},\n",
       " {'r0c0': 1, 'r0c1': 1, 'r1c0': 0, 'r1c1': 0},\n",
       " {'r0c0': 1, 'r0c1': 0, 'r1c0': 1, 'r1c1': 1},\n",
       " {'r0c0': 1, 'r0c1': 0, 'r1c0': 1, 'r1c1': 0},\n",
       " {'r0c0': 1, 'r0c1': 0, 'r1c0': 0, 'r1c1': 1},\n",
       " {'r0c0': 1, 'r0c1': 0, 'r1c0': 0, 'r1c1': 0},\n",
       " {'r0c0': 0, 'r0c1': 1, 'r1c0': 1, 'r1c1': 1},\n",
       " {'r0c0': 0, 'r0c1': 1, 'r1c0': 1, 'r1c1': 0},\n",
       " {'r0c0': 0, 'r0c1': 1, 'r1c0': 0, 'r1c1': 1},\n",
       " {'r0c0': 0, 'r0c1': 1, 'r1c0': 0, 'r1c1': 0},\n",
       " {'r0c0': 0, 'r0c1': 0, 'r1c0': 1, 'r1c1': 1},\n",
       " {'r0c0': 0, 'r0c1': 0, 'r1c0': 1, 'r1c1': 0},\n",
       " {'r0c0': 0, 'r0c1': 0, 'r1c0': 0, 'r1c1': 1},\n",
       " {'r0c0': 0, 'r0c1': 0, 'r1c0': 0, 'r1c1': 0}]"
      ]
     },
     "execution_count": 46,
     "metadata": {},
     "output_type": "execute_result"
    }
   ],
   "source": [
    "# let first write some static rules\n",
    "problem = Problem()\n",
    "\n",
    "# create a variable for each cell\n",
    "# name is rNcM where N is the row number and M the col number\n",
    "# are all in range 0-1\n",
    "problem.addVariable(\"r0c0\", [0,1])\n",
    "problem.addVariable(\"r0c1\", [0,1])\n",
    "problem.addVariable(\"r1c0\", [0,1])\n",
    "problem.addVariable(\"r1c1\", [0,1])\n",
    "problem.getSolutions()"
   ]
  },
  {
   "cell_type": "code",
   "execution_count": 47,
   "id": "c61008e9",
   "metadata": {},
   "outputs": [
    {
     "name": "stdout",
     "output_type": "stream",
     "text": [
      "[[1], [2]]\n",
      "[[2], [1]]\n"
     ]
    }
   ],
   "source": [
    "# get the clues\n",
    "clues_rows = puzzle2x2.norm_clues['rows']\n",
    "clues_cols = puzzle2x2.norm_clues['cols']\n",
    "print(clues_rows)\n",
    "print(clues_cols)\n",
    "# ox\n",
    "# oo"
   ]
  },
  {
   "cell_type": "code",
   "execution_count": 44,
   "id": "402bb276",
   "metadata": {},
   "outputs": [
    {
     "data": {
      "text/plain": [
       "1"
      ]
     },
     "execution_count": 44,
     "metadata": {},
     "output_type": "execute_result"
    }
   ],
   "source": [
    "clues_rows[0][0]"
   ]
  },
  {
   "cell_type": "code",
   "execution_count": 48,
   "id": "f752dcd0",
   "metadata": {},
   "outputs": [
    {
     "data": {
      "text/plain": [
       "[{'r0c0': 1, 'r0c1': 0, 'r1c0': 1, 'r1c1': 1}]"
      ]
     },
     "execution_count": 48,
     "metadata": {},
     "output_type": "execute_result"
    }
   ],
   "source": [
    "# express the clues contraints by the clues\n",
    "# last parameter is the given variables. They match the lambda vars.\n",
    "# contraints on rows\n",
    "problem.addConstraint(lambda c1, c2: c1+c2 == clues_rows[0][0],\n",
    "                          (\"r0c0\", \"r0c1\"))\n",
    "problem.addConstraint(lambda c1, c2: c1+c2 == clues_rows[1][0],\n",
    "                          (\"r1c0\", \"r1c1\"))\n",
    "# constraints on cols\n",
    "problem.addConstraint(lambda r1, r2: r1+r2 == clues_cols[0][0],\n",
    "                          (\"r0c0\", \"r1c0\"))\n",
    "problem.addConstraint(lambda r1, r2: r1+r2 == clues_cols[1][0],\n",
    "                          (\"r0c1\", \"r1c1\"))\n",
    "problem.getSolutions()"
   ]
  },
  {
   "cell_type": "code",
   "execution_count": 49,
   "id": "a8b50b9a",
   "metadata": {},
   "outputs": [
    {
     "data": {
      "image/png": "[encoded data removed]",
      "text/plain": [
       "<Figure size 72x72 with 1 Axes>"
      ]
     },
     "metadata": {
      "needs_background": "light"
     },
     "output_type": "display_data"
    }
   ],
   "source": [
    "board2x2 = Board(puzzle2x2)\n",
    "plotter2x2 = BoardPlotter(board2x2)\n",
    "\n",
    "board2x2.states[0,0] = solutions[0]['r0c0']\n",
    "board2x2.states[0,1] = solutions[0]['r0c1']\n",
    "board2x2.states[1,0] = solutions[0]['r1c0']\n",
    "board2x2.states[1,1] = solutions[0]['r1c1']\n",
    "\n",
    "plotter2x2.show()\n",
    "assert board2x2.is_done()"
   ]
  },
  {
   "cell_type": "markdown",
   "id": "576d31e2",
   "metadata": {},
   "source": [
    "## Generic implementation for a fiven size"
   ]
  },
  {
   "cell_type": "code",
   "execution_count": 54,
   "id": "ada3fe15",
   "metadata": {},
   "outputs": [],
   "source": [
    "clues2x2 = {\n",
    "    'rows': [1, 2],\n",
    "    'cols': [2, 1]\n",
    "}\n",
    "puzzle2x2 = Puzzle(clues2x2)"
   ]
  },
  {
   "cell_type": "code",
   "execution_count": 55,
   "id": "7b804a29",
   "metadata": {},
   "outputs": [
    {
     "data": {
      "text/plain": [
       "[{0: 1, 1: 1, 2: 1, 3: 1},\n",
       " {0: 1, 1: 1, 2: 1, 3: 0},\n",
       " {0: 1, 1: 1, 2: 0, 3: 1},\n",
       " {0: 1, 1: 1, 2: 0, 3: 0},\n",
       " {0: 1, 1: 0, 2: 1, 3: 1},\n",
       " {0: 1, 1: 0, 2: 1, 3: 0},\n",
       " {0: 1, 1: 0, 2: 0, 3: 1},\n",
       " {0: 1, 1: 0, 2: 0, 3: 0},\n",
       " {0: 0, 1: 1, 2: 1, 3: 1},\n",
       " {0: 0, 1: 1, 2: 1, 3: 0},\n",
       " {0: 0, 1: 1, 2: 0, 3: 1},\n",
       " {0: 0, 1: 1, 2: 0, 3: 0},\n",
       " {0: 0, 1: 0, 2: 1, 3: 1},\n",
       " {0: 0, 1: 0, 2: 1, 3: 0},\n",
       " {0: 0, 1: 0, 2: 0, 3: 1},\n",
       " {0: 0, 1: 0, 2: 0, 3: 0}]"
      ]
     },
     "execution_count": 55,
     "metadata": {},
     "output_type": "execute_result"
    }
   ],
   "source": [
    "# each variable is the position on the board reshaped to a list\n",
    "problem = Problem()\n",
    "# first parameter is the variable name\n",
    "# second parameter is the range 0-1\n",
    "problem.addVariables(range(puzzle2x2.cells_count), [0,1])\n",
    "problem.getSolutions()"
   ]
  },
  {
   "cell_type": "code",
   "execution_count": 56,
   "id": "17cad990",
   "metadata": {},
   "outputs": [],
   "source": [
    "# get the clues\n",
    "clues_rows = puzzle2x2.norm_clues['rows']\n",
    "clues_cols = puzzle2x2.norm_clues['cols']\n",
    "nc = puzzle2x2.width\n",
    "nr = puzzle2x2.height"
   ]
  },
  {
   "cell_type": "code",
   "execution_count": null,
   "id": "3e5dd0b9",
   "metadata": {},
   "outputs": [],
   "source": [
    "# {0: 1, 1: 0, 2: 1, 3: 1}\n",
    "# -> {'r0c0': 1, 'r0c1': 0, 'r1c0': 1, 'r1c1': 1}"
   ]
  },
  {
   "cell_type": "code",
   "execution_count": 51,
   "id": "e5325bcf",
   "metadata": {},
   "outputs": [
    {
     "data": {
      "text/plain": [
       "[0, 1]"
      ]
     },
     "execution_count": 51,
     "metadata": {},
     "output_type": "execute_result"
    }
   ],
   "source": [
    "# cells for row 0 are at position row * 2 + col where 2 stands for the width\n",
    "# 0 * 2 + 0 -> 0\n",
    "# 0 * 2 + 1 -> 1\n",
    "[0 * 2 + c for c in range(2)]"
   ]
  },
  {
   "cell_type": "code",
   "execution_count": 52,
   "id": "47b6605a",
   "metadata": {},
   "outputs": [
    {
     "data": {
      "text/plain": [
       "[0, 2]"
      ]
     },
     "execution_count": 52,
     "metadata": {},
     "output_type": "execute_result"
    }
   ],
   "source": [
    "# cells for col 0 are at position row + 2 * col where 2 stands for the width\n",
    "# 0 * 2 + 0 -> 0\n",
    "# 1 * 2 + 0 -> 2\n",
    "[r * 2 + 0 for r in range(2)]"
   ]
  },
  {
   "cell_type": "code",
   "execution_count": 58,
   "id": "2b5498be",
   "metadata": {},
   "outputs": [
    {
     "data": {
      "text/plain": [
       "[{0: 1, 1: 0, 2: 1, 3: 1}]"
      ]
     },
     "execution_count": 58,
     "metadata": {},
     "output_type": "execute_result"
    }
   ],
   "source": [
    "# express the clues contraints by the clues\n",
    "# last parameter is the collection of variable names that must add up \n",
    "# please note that the list consist in var names not values\n",
    "# to the value given as parameter to ExactSumConstraint.\n",
    "# contraints on rows\n",
    "problem.addConstraint(\n",
    "         ExactSumConstraint(clues_rows[0][0]),\n",
    "         [0 * 2 + c for c in range(nc)])\n",
    "problem.addConstraint(\n",
    "         ExactSumConstraint(clues_rows[1][0]),\n",
    "         [1 * 2 + c for c in range(nc)])\n",
    "# contraints on cols\n",
    "problem.addConstraint(\n",
    "     ExactSumConstraint(clues_cols[0][0]),\n",
    "     [r * 2 + 0 for r in range(nr)])\n",
    "problem.addConstraint(\n",
    "     ExactSumConstraint(clues_cols[1][0]),\n",
    "     [r * 2 + 1 for r in range(nr)])\n",
    "solutions = problem.getSolutions()\n",
    "solutions"
   ]
  },
  {
   "cell_type": "code",
   "execution_count": 59,
   "id": "3a93da4c",
   "metadata": {},
   "outputs": [
    {
     "data": {
      "image/png": "[encoded data removed]",
      "text/plain": [
       "<Figure size 72x72 with 1 Axes>"
      ]
     },
     "metadata": {
      "needs_background": "light"
     },
     "output_type": "display_data"
    }
   ],
   "source": [
    "board2x2 = Board(puzzle2x2)\n",
    "plotter2x2 = BoardPlotter(board2x2)\n",
    "\n",
    "board2x2.states[0,0] = solutions[0][0]\n",
    "board2x2.states[0,1] = solutions[0][1]\n",
    "board2x2.states[1,0] = solutions[0][2]\n",
    "board2x2.states[1,1] = solutions[0][3]\n",
    "\n",
    "plotter2x2.show()\n",
    "assert board2x2.is_done()"
   ]
  },
  {
   "cell_type": "markdown",
   "id": "c6f40379",
   "metadata": {},
   "source": [
    "## Generic implementation"
   ]
  },
  {
   "cell_type": "code",
   "execution_count": 104,
   "id": "38a22ee8",
   "metadata": {},
   "outputs": [],
   "source": [
    "clues2x2 = {\n",
    "    'rows': [1, 2],\n",
    "    'cols': [2, 1]\n",
    "}\n",
    "puzzle2x2 = Puzzle(clues2x2)"
   ]
  },
  {
   "cell_type": "code",
   "execution_count": 105,
   "id": "937c0743",
   "metadata": {},
   "outputs": [
    {
     "data": {
      "text/plain": [
       "[{0: 1, 1: 1, 2: 1, 3: 1},\n",
       " {0: 1, 1: 1, 2: 1, 3: 0},\n",
       " {0: 1, 1: 1, 2: 0, 3: 1},\n",
       " {0: 1, 1: 1, 2: 0, 3: 0},\n",
       " {0: 1, 1: 0, 2: 1, 3: 1},\n",
       " {0: 1, 1: 0, 2: 1, 3: 0},\n",
       " {0: 1, 1: 0, 2: 0, 3: 1},\n",
       " {0: 1, 1: 0, 2: 0, 3: 0},\n",
       " {0: 0, 1: 1, 2: 1, 3: 1},\n",
       " {0: 0, 1: 1, 2: 1, 3: 0},\n",
       " {0: 0, 1: 1, 2: 0, 3: 1},\n",
       " {0: 0, 1: 1, 2: 0, 3: 0},\n",
       " {0: 0, 1: 0, 2: 1, 3: 1},\n",
       " {0: 0, 1: 0, 2: 1, 3: 0},\n",
       " {0: 0, 1: 0, 2: 0, 3: 1},\n",
       " {0: 0, 1: 0, 2: 0, 3: 0}]"
      ]
     },
     "execution_count": 105,
     "metadata": {},
     "output_type": "execute_result"
    }
   ],
   "source": [
    "# each variable is the position on the board reshaped to a list\n",
    "problem = Problem()\n",
    "# first parameter is the variable name\n",
    "# second parameter is the range 0-1\n",
    "problem.addVariables(range(puzzle2x2.cells_count), [0,1])\n",
    "problem.getSolutions()"
   ]
  },
  {
   "cell_type": "code",
   "execution_count": 106,
   "id": "cb0e1877",
   "metadata": {},
   "outputs": [],
   "source": [
    "# get the clues\n",
    "clues_rows = puzzle2x2.norm_clues['rows']\n",
    "clues_cols = puzzle2x2.norm_clues['cols']\n",
    "nc = puzzle2x2.width\n",
    "nr = puzzle2x2.height"
   ]
  },
  {
   "cell_type": "code",
   "execution_count": 69,
   "id": "0aa0b088",
   "metadata": {},
   "outputs": [
    {
     "data": {
      "text/plain": [
       "[1]"
      ]
     },
     "execution_count": 69,
     "metadata": {},
     "output_type": "execute_result"
    }
   ],
   "source": [
    "clues_rows[0]"
   ]
  },
  {
   "cell_type": "code",
   "execution_count": 107,
   "id": "1cc97797",
   "metadata": {},
   "outputs": [
    {
     "data": {
      "text/plain": [
       "[{0: 1, 1: 0, 2: 1, 3: 1}]"
      ]
     },
     "execution_count": 107,
     "metadata": {},
     "output_type": "execute_result"
    }
   ],
   "source": [
    "for row in range(nr):\n",
    "    problem.addConstraint(\n",
    "             ExactSumConstraint(clues_rows[row][0]),\n",
    "             [row * nc + c for c in range(nc)])\n",
    "for col in range(nc):\n",
    "    problem.addConstraint(\n",
    "         ExactSumConstraint(clues_cols[col][0]),\n",
    "         [r * nc + col for r in range(nr)])\n",
    "\n",
    "solutions = problem.getSolutions()\n",
    "solutions"
   ]
  },
  {
   "cell_type": "code",
   "execution_count": 84,
   "id": "e8ec51ab",
   "metadata": {},
   "outputs": [
    {
     "data": {
      "text/plain": [
       "[1, 0, 1, 1]"
      ]
     },
     "execution_count": 84,
     "metadata": {},
     "output_type": "execute_result"
    }
   ],
   "source": [
    "list(solutions[0].values())"
   ]
  },
  {
   "cell_type": "code",
   "execution_count": 108,
   "id": "4256f3c9",
   "metadata": {},
   "outputs": [
    {
     "data": {
      "image/png": "[encoded data removed]",
      "text/plain": [
       "<Figure size 72x72 with 1 Axes>"
      ]
     },
     "metadata": {
      "needs_background": "light"
     },
     "output_type": "display_data"
    }
   ],
   "source": [
    "board2x2 = Board(puzzle2x2)\n",
    "plotter2x2 = BoardPlotter(board2x2)\n",
    "\n",
    "board2x2.states.flat[:] = list(solutions[0].values())\n",
    "plotter2x2.show()\n",
    "assert board2x2.is_done()"
   ]
  },
  {
   "cell_type": "markdown",
   "id": "9f4af431",
   "metadata": {},
   "source": [
    "## Solver class"
   ]
  },
  {
   "cell_type": "code",
   "execution_count": 109,
   "id": "9e3df609",
   "metadata": {},
   "outputs": [],
   "source": [
    "%reset -f"
   ]
  },
  {
   "cell_type": "code",
   "execution_count": 110,
   "id": "d40297ea",
   "metadata": {},
   "outputs": [],
   "source": [
    "from boardutilsv2 import Puzzle, Board, BoardMark\n",
    "from plotterutilsv2 import BoardPlotter\n",
    "\n",
    "from constraint  import *\n",
    "\n",
    "class SolverConstraints:\n",
    "    \n",
    "    def solve(self, some_puzzle, verbose=False):\n",
    "        # each variable is the position on the board reshaped to a list\n",
    "        problem = Problem()\n",
    "        # first parameter is the variable name\n",
    "        # second parameter is the range 0-1\n",
    "        problem.addVariables(range(some_puzzle.cells_count), [0,1])\n",
    "\n",
    "        # get the clues\n",
    "        clues_rows = some_puzzle.norm_clues['rows']\n",
    "        clues_cols = some_puzzle.norm_clues['cols']\n",
    "        nc = some_puzzle.width\n",
    "        nr = some_puzzle.height\n",
    "\n",
    "        for row in range(nr):\n",
    "            problem.addConstraint(\n",
    "                     ExactSumConstraint(clues_rows[row][0]),\n",
    "                     [row * nc + c for c in range(nc)])\n",
    "        for col in range(nc):\n",
    "            problem.addConstraint(\n",
    "                 ExactSumConstraint(clues_cols[col][0]),\n",
    "                 [r * nc + col for r in range(nr)])\n",
    "\n",
    "        solutions = problem.getSolutions()\n",
    "        if verbose:\n",
    "            print(f\"solutions={solutions}\")\n",
    "\n",
    "        board = Board(some_puzzle)\n",
    "        board.states.flat[:] = list(solutions[0].values())\n",
    "        return board"
   ]
  },
  {
   "cell_type": "markdown",
   "id": "b72b08c7",
   "metadata": {},
   "source": [
    "### test 2x2"
   ]
  },
  {
   "cell_type": "code",
   "execution_count": 111,
   "id": "c41d6859",
   "metadata": {},
   "outputs": [
    {
     "name": "stdout",
     "output_type": "stream",
     "text": [
      "CPU times: user 2 µs, sys: 0 ns, total: 2 µs\n",
      "Wall time: 4.05 µs\n",
      "solutions=[{0: 1, 1: 0, 2: 1, 3: 1}]\n"
     ]
    },
    {
     "data": {
      "image/png": "[encoded data removed]",
      "text/plain": [
       "<Figure size 72x72 with 1 Axes>"
      ]
     },
     "metadata": {
      "needs_background": "light"
     },
     "output_type": "display_data"
    }
   ],
   "source": [
    "%time\n",
    "# ox\n",
    "# oo\n",
    "clues2x2 = {\n",
    "    'rows': [1, 2],\n",
    "    'cols': [2, 1]\n",
    "}\n",
    "puzzle2x2 = Puzzle(clues2x2)\n",
    "board2x2_solved = SolverConstraints().solve(puzzle2x2, verbose=True)\n",
    "plotter2x2 = BoardPlotter(board2x2_solved)\n",
    "plotter2x2.show()\n",
    "assert board2x2_solved.is_done()"
   ]
  },
  {
   "cell_type": "markdown",
   "id": "40fc645a",
   "metadata": {},
   "source": [
    "### test a 3x3"
   ]
  },
  {
   "cell_type": "code",
   "execution_count": 112,
   "id": "f77ea2f6",
   "metadata": {},
   "outputs": [
    {
     "name": "stdout",
     "output_type": "stream",
     "text": [
      "CPU times: user 2 µs, sys: 0 ns, total: 2 µs\n",
      "Wall time: 4.77 µs\n",
      "solutions=[{0: 1, 1: 0, 2: 0, 3: 1, 4: 1, 5: 0, 6: 1, 7: 1, 8: 1}]\n"
     ]
    },
    {
     "data": {
      "image/png": "[encoded data removed]",
      "text/plain": [
       "<Figure size 72x72 with 1 Axes>"
      ]
     },
     "metadata": {
      "needs_background": "light"
     },
     "output_type": "display_data"
    }
   ],
   "source": [
    "%time\n",
    "# oxx\n",
    "# oox\n",
    "# ooo\n",
    "clues3x3 = {\n",
    "    'rows': [1, 2, 3],\n",
    "    'cols': [3, 2, 1]\n",
    "}\n",
    "puzzle3x3 = Puzzle(clues3x3)\n",
    "\n",
    "board3x3_solved = SolverConstraints().solve(puzzle3x3, verbose=True)\n",
    "plotter3x3 = BoardPlotter(board3x3_solved)\n",
    "plotter3x3.show()\n",
    "assert board3x3_solved.is_done()"
   ]
  },
  {
   "cell_type": "markdown",
   "id": "9b7d564a",
   "metadata": {},
   "source": [
    "# TODO split blocks"
   ]
  },
  {
   "cell_type": "code",
   "execution_count": null,
   "id": "39888e04",
   "metadata": {},
   "outputs": [],
   "source": []
  }
 ],
 "metadata": {
  "kernelspec": {
   "display_name": "Python 3 (ipykernel)",
   "language": "python",
   "name": "python3"
  },
  "language_info": {
   "codemirror_mode": {
    "name": "ipython",
    "version": 3
   },
   "file_extension": ".py",
   "mimetype": "text/x-python",
   "name": "python",
   "nbconvert_exporter": "python",
   "pygments_lexer": "ipython3",
   "version": "3.9.7"
  }
 },
 "nbformat": 4,
 "nbformat_minor": 5
}
