{
 "cells": [
  {
   "cell_type": "markdown",
   "metadata": {},
   "source": [
    "# Episode 04: Add some utilities"
   ]
  },
  {
   "cell_type": "markdown",
   "metadata": {},
   "source": [
    "Checking the board visually is fine for debugging but it does not work well when it comes to test a lot of board solutions.\n",
    "\n",
    "This episode provides some utilities for the POC to come. The goal is to have reasonably efficient classes but not spend too much time on this step.\n",
    "\n",
    "**Goals for this episode:**\n",
    "- Answer recurring questions \n",
    "    - What are the width, height, nulber of cellss of the puzzle \n",
    "    - Given a board is it completed ? \n",
    "    - Does it break the clues ?\n",
    "    - Are they cells left undefined ? \n",
    "    - Am I close to the goal ?\n"
   ]
  },
  {
   "cell_type": "markdown",
   "metadata": {},
   "source": [
    "# 1. Elements from episodes 01, 02 and 03"
   ]
  },
  {
   "cell_type": "code",
   "execution_count": 1,
   "metadata": {},
   "outputs": [],
   "source": [
    "from episode01 import clues2x2, clues5x5s, Board, BoardMark\n",
    "from episode02 import solution2x2, solution5x5s, GameEngine\n",
    "from episode03 import BoardPlotter"
   ]
  },
  {
   "cell_type": "code",
   "execution_count": 2,
   "metadata": {},
   "outputs": [
    {
     "data": {
      "text/plain": [
       "{'rows': [1, 2], 'cols': [2, 1]}"
      ]
     },
     "execution_count": 2,
     "metadata": {},
     "output_type": "execute_result"
    }
   ],
   "source": [
    "clues2x2"
   ]
  },
  {
   "cell_type": "code",
   "execution_count": 3,
   "metadata": {},
   "outputs": [
    {
     "data": {
      "text/plain": [
       "{'rows': [1, 3, [1, 1], 3, 5], 'cols': [1, 4, [2, 2], 4, 1]}"
      ]
     },
     "execution_count": 3,
     "metadata": {},
     "output_type": "execute_result"
    }
   ],
   "source": [
    "clues5x5s"
   ]
  },
  {
   "cell_type": "markdown",
   "metadata": {},
   "source": [
    "Requirements listed in Episode 02 still uncovered\n",
    "- a game engine which provides the game validation for try-and-error validation and solved board - for all kind of puzzles (we have tested 2x2 only)\n",
    "- some operation thate were identified in episode 01: is the board completed, is the board valid\n",
    "- a puzzle class with some operations to transform the clues and compute black count and cels count\n",
    "- try-and-error and learning process will require something in between not done and done in order to improve on residual error or rewards: number of cells completed/undefined, number of errors, number of valid cells\n"
   ]
  },
  {
   "cell_type": "markdown",
   "metadata": {},
   "source": [
    "# 2. Experiments"
   ]
  },
  {
   "cell_type": "markdown",
   "metadata": {},
   "source": [
    "## 2.1 Get the number of blacks from clues"
   ]
  },
  {
   "cell_type": "code",
   "execution_count": 4,
   "metadata": {},
   "outputs": [
    {
     "data": {
      "text/plain": [
       "3"
      ]
     },
     "execution_count": 4,
     "metadata": {},
     "output_type": "execute_result"
    }
   ],
   "source": [
    "total_blacks = sum(clues2x2['rows'])\n",
    "total_blacks"
   ]
  },
  {
   "cell_type": "code",
   "execution_count": 5,
   "metadata": {},
   "outputs": [],
   "source": [
    "assert total_blacks == 3"
   ]
  },
  {
   "cell_type": "markdown",
   "metadata": {},
   "source": [
    "This does not work with split blocks like clues5x5s\n",
    "\n",
    "The mix of integers and list results in an error\n",
    "```\n",
    "TypeError: unsupported operand type(s) for +: 'int' and 'list'\n",
    "```"
   ]
  },
  {
   "cell_type": "markdown",
   "metadata": {},
   "source": [
    "##  2.2. Normalize the clues "
   ]
  },
  {
   "cell_type": "markdown",
   "metadata": {},
   "source": [
    "Summing or scanning the clues in a consistent way is required for a lot of features (check for consistency, check whether given clues and computed fromthe board are the same).\n",
    "\n",
    "We can transform the user-friendly list into a computer-friendly list "
   ]
  },
  {
   "cell_type": "code",
   "execution_count": 6,
   "metadata": {},
   "outputs": [
    {
     "data": {
      "text/plain": [
       "[[1], [3], [1, 1], [3], [5]]"
      ]
     },
     "execution_count": 6,
     "metadata": {},
     "output_type": "execute_result"
    }
   ],
   "source": [
    "# convert all integers into a list of one integer\n",
    "f_norm_clue = lambda clue: clue if isinstance(clue, list) else [clue]\n",
    "\n",
    "[f_norm_clue(clue) for clue in [1, 3, [1,1], 3, 5]]"
   ]
  },
  {
   "cell_type": "code",
   "execution_count": 7,
   "metadata": {},
   "outputs": [
    {
     "data": {
      "text/plain": [
       "{'rows': [[1], [3], [1, 1], [3], [5]], 'cols': [[1], [4], [2, 2], [4], [1]]}"
      ]
     },
     "execution_count": 7,
     "metadata": {},
     "output_type": "execute_result"
    }
   ],
   "source": [
    "# norm clues\n",
    "def get_norm_clues(some_clues):\n",
    "    f_norm_clue = lambda clue: clue if isinstance(clue, list) else [clue]\n",
    "    norm_clues = {\n",
    "        'rows': [f_norm_clue(clue) for clue in some_clues['rows']],\n",
    "        'cols': [f_norm_clue(clue) for clue in some_clues['cols']]\n",
    "    }\n",
    "    return norm_clues\n",
    "\n",
    "get_norm_clues(clues5x5s)"
   ]
  },
  {
   "cell_type": "code",
   "execution_count": 8,
   "metadata": {},
   "outputs": [],
   "source": [
    "assert get_norm_clues(clues5x5s) == {'rows': [[1], [3], [1, 1], [3], [5]], 'cols': [[1], [4], [2, 2], [4], [1]]} "
   ]
  },
  {
   "cell_type": "markdown",
   "metadata": {},
   "source": [
    "Does it still work for non split ?"
   ]
  },
  {
   "cell_type": "code",
   "execution_count": 9,
   "metadata": {},
   "outputs": [],
   "source": [
    "assert get_norm_clues(clues2x2) == {'rows': [[1], [2]], 'cols': [[2], [1]]}"
   ]
  },
  {
   "cell_type": "markdown",
   "metadata": {},
   "source": [
    "## 2.3. Get number of blacks from normalized clues"
   ]
  },
  {
   "cell_type": "markdown",
   "metadata": {},
   "source": [
    "Now we can compute the sum a consistent way"
   ]
  },
  {
   "cell_type": "code",
   "execution_count": 10,
   "metadata": {},
   "outputs": [
    {
     "data": {
      "text/plain": [
       "{'rows': [[1], [3], [1, 1], [3], [5]], 'cols': [[1], [4], [2, 2], [4], [1]]}"
      ]
     },
     "execution_count": 10,
     "metadata": {},
     "output_type": "execute_result"
    }
   ],
   "source": [
    "get_norm_clues(clues5x5s) "
   ]
  },
  {
   "cell_type": "code",
   "execution_count": 11,
   "metadata": {},
   "outputs": [
    {
     "data": {
      "text/plain": [
       "[1, 3, 1, 1, 3, 5]"
      ]
     },
     "execution_count": 11,
     "metadata": {},
     "output_type": "execute_result"
    }
   ],
   "source": [
    "from itertools import chain\n",
    "# chain flatten the list of list to prepare sum\n",
    "list(chain.from_iterable(get_norm_clues(clues5x5s)['rows']))"
   ]
  },
  {
   "cell_type": "code",
   "execution_count": 12,
   "metadata": {},
   "outputs": [],
   "source": [
    "from itertools import chain\n",
    "# we may want to compute sum by rows or by cols\n",
    "# rows or cols may be passed as parameter\n",
    "def get_total_blacks(some_norm_clues, axis='rows'):\n",
    "    # chain flatten the list of list to prepare sum\n",
    "    return sum(chain.from_iterable(some_norm_clues[axis]))"
   ]
  },
  {
   "cell_type": "code",
   "execution_count": 13,
   "metadata": {},
   "outputs": [
    {
     "data": {
      "text/plain": [
       "14"
      ]
     },
     "execution_count": 13,
     "metadata": {},
     "output_type": "execute_result"
    }
   ],
   "source": [
    "norm_clues5x5s = get_norm_clues(clues5x5s)\n",
    "total_blacks = get_total_blacks(norm_clues5x5s)\n",
    "total_blacks"
   ]
  },
  {
   "cell_type": "code",
   "execution_count": 14,
   "metadata": {},
   "outputs": [],
   "source": [
    "assert total_blacks == 14"
   ]
  },
  {
   "cell_type": "code",
   "execution_count": 15,
   "metadata": {},
   "outputs": [],
   "source": [
    "assert get_total_blacks(norm_clues5x5s, axis='cols') == 14"
   ]
  },
  {
   "cell_type": "code",
   "execution_count": 16,
   "metadata": {},
   "outputs": [],
   "source": [
    "# Check clues for consistency\n",
    "\n",
    "# number of blacks on rows and cols miust be the same\n",
    "assert get_total_blacks(norm_clues5x5s, axis='rows') == get_total_blacks(norm_clues5x5s, axis='cols')"
   ]
  },
  {
   "cell_type": "markdown",
   "metadata": {},
   "source": [
    "## 2.4. check numbers of cells left empty"
   ]
  },
  {
   "cell_type": "markdown",
   "metadata": {},
   "source": [
    "Check for undefined cells existence"
   ]
  },
  {
   "cell_type": "code",
   "execution_count": 17,
   "metadata": {},
   "outputs": [
    {
     "name": "stdout",
     "output_type": "stream",
     "text": [
      "cols: 2 1\n",
      "rows:\n",
      "1\n",
      "2\n",
      "[['.' 'x']\n",
      " ['.' 'o']]\n"
     ]
    }
   ],
   "source": [
    "board2x2 = Board(clues2x2)\n",
    "board2x2.mark(0, 1, BoardMark.FILLER) \n",
    "board2x2.mark(1, 1, BoardMark.BLACK) \n",
    "board2x2.prettyprint()"
   ]
  },
  {
   "cell_type": "code",
   "execution_count": 18,
   "metadata": {},
   "outputs": [
    {
     "data": {
      "text/plain": [
       "[-1, -1]"
      ]
     },
     "execution_count": 18,
     "metadata": {},
     "output_type": "execute_result"
    }
   ],
   "source": [
    "# filter the cells having an undegined value \n",
    "# reshaping in a list of lenght equald to the number of cells \n",
    "# avoid having to browse a list of lists\n",
    "[ c for c in board2x2.states.reshape(4) if c == -1]"
   ]
  },
  {
   "cell_type": "code",
   "execution_count": 19,
   "metadata": {},
   "outputs": [
    {
     "data": {
      "text/plain": [
       "(2, 2)"
      ]
     },
     "execution_count": 19,
     "metadata": {},
     "output_type": "execute_result"
    }
   ],
   "source": [
    "board2x2.states.shape"
   ]
  },
  {
   "cell_type": "code",
   "execution_count": 20,
   "metadata": {},
   "outputs": [
    {
     "data": {
      "text/plain": [
       "4"
      ]
     },
     "execution_count": 20,
     "metadata": {},
     "output_type": "execute_result"
    }
   ],
   "source": [
    "# totézl number of cells\n",
    "from operator import mul\n",
    "from functools import reduce\n",
    "reduce(mul, board2x2.states.shape)"
   ]
  },
  {
   "cell_type": "markdown",
   "metadata": {},
   "source": [
    "TODO explain reduce"
   ]
  },
  {
   "cell_type": "code",
   "execution_count": 21,
   "metadata": {},
   "outputs": [
    {
     "name": "stdout",
     "output_type": "stream",
     "text": [
      "count_empty=2\n"
     ]
    }
   ],
   "source": [
    "from operator import mul\n",
    "from functools import reduce\n",
    "\n",
    "def count_empty(a_board):\n",
    "    length = reduce(mul, a_board.states.shape)\n",
    "    count = len([ c for c in a_board.states.reshape(length) \n",
    "                         if c == -1])\n",
    "    return count\n",
    "  \n",
    "count = count_empty(board2x2)\n",
    "print(f\"count_empty={count}\")\n",
    "assert count == 2"
   ]
  },
  {
   "cell_type": "markdown",
   "metadata": {},
   "source": [
    "Check for 5x5"
   ]
  },
  {
   "cell_type": "code",
   "execution_count": 22,
   "metadata": {},
   "outputs": [],
   "source": [
    "clues = {\n",
    "    'rows': [1, 3, [1,1], 3, 5],\n",
    "    'cols': [1, 4, [2,2], 4, 1]\n",
    "}"
   ]
  },
  {
   "cell_type": "code",
   "execution_count": 23,
   "metadata": {},
   "outputs": [
    {
     "name": "stdout",
     "output_type": "stream",
     "text": [
      "cols: 1 4 [2, 2] 4 1\n",
      "rows:\n",
      "1\n",
      "3\n",
      "[1, 1]\n",
      "3\n",
      "5\n",
      "[['.' '.' '.' '.' '.']\n",
      " ['.' '.' '.' '.' '.']\n",
      " ['.' '.' 'x' '.' '.']\n",
      " ['.' '.' '.' '.' '.']\n",
      " ['o' '.' '.' '.' '.']]\n",
      "count_empty=23\n"
     ]
    }
   ],
   "source": [
    "board5x5s = Board(clues5x5s)\n",
    "board5x5s.mark(4, 0, BoardMark.BLACK) \n",
    "board5x5s.mark(2, 2, BoardMark.FILLER) \n",
    "board5x5s.prettyprint()\n",
    "count = count_empty(board5x5s)\n",
    "print(f\"count_empty={count}\")\n",
    "assert count == reduce(mul, board5x5s.states.shape) - 2"
   ]
  },
  {
   "cell_type": "markdown",
   "metadata": {},
   "source": [
    "## 2.5. Check whether board hold the clues"
   ]
  },
  {
   "cell_type": "code",
   "execution_count": 24,
   "metadata": {},
   "outputs": [
    {
     "name": "stdout",
     "output_type": "stream",
     "text": [
      "cols: 2 1\n",
      "rows:\n",
      "1\n",
      "2\n",
      "[['.' '.']\n",
      " ['.' '.']]\n",
      "cols: 2 1\n",
      "rows:\n",
      "1\n",
      "2\n",
      "[['o' 'x']\n",
      " ['o' 'o']]\n"
     ]
    }
   ],
   "source": [
    "norm_clues2x2 = get_norm_clues(clues2x2)\n",
    "board2x2 = Board(clues2x2)\n",
    "board2x2.prettyprint()\n",
    "board2x2.mark(0, 0, BoardMark.BLACK) \n",
    "board2x2.mark(0, 1, BoardMark.FILLER) \n",
    "board2x2.mark(1, 0, BoardMark.BLACK) \n",
    "board2x2.mark(1, 1, BoardMark.BLACK) \n",
    "board2x2.prettyprint()"
   ]
  },
  {
   "cell_type": "code",
   "execution_count": 25,
   "metadata": {},
   "outputs": [
    {
     "data": {
      "text/plain": [
       "array([[1, 0],\n",
       "       [1, 1]])"
      ]
     },
     "execution_count": 25,
     "metadata": {},
     "output_type": "execute_result"
    }
   ],
   "source": [
    "rows = board2x2.states\n",
    "rows"
   ]
  },
  {
   "cell_type": "code",
   "execution_count": 26,
   "metadata": {},
   "outputs": [],
   "source": [
    "from itertools import groupby"
   ]
  },
  {
   "cell_type": "code",
   "execution_count": 27,
   "metadata": {},
   "outputs": [
    {
     "data": {
      "text/plain": [
       "[[(1, 1)], [(1, 1, 1)]]"
      ]
     },
     "execution_count": 27,
     "metadata": {},
     "output_type": "execute_result"
    }
   ],
   "source": [
    "# group cells by value and select groups where group key is 1 (BLACK)\n",
    "[ [(k, *g) for k,g in groupby(line) if k==1]\n",
    "  for line in rows\n",
    "]\n",
    "# it outputs tuples where the first element is the key, \n",
    "# and the rest are the elements in the \n",
    "# there are two list (one for each row)\n",
    "# row 0 : has 1 black cell (1=BLACK key, 1=the cell)\n",
    "# row 1 : has 2 black cells (1=BLACK key, 1,1=the cells)"
   ]
  },
  {
   "cell_type": "code",
   "execution_count": 28,
   "metadata": {},
   "outputs": [
    {
     "name": "stdout",
     "output_type": "stream",
     "text": [
      "blocks=[[1], [2]]\n"
     ]
    }
   ],
   "source": [
    "# transform to a list of block length\n",
    "blocks = [ [len(list(g)) for k,g in groupby(line) if k==1]\n",
    "           for line in rows\n",
    "]\n",
    "print(f\"blocks={blocks}\")\n",
    "assert blocks == norm_clues2x2['rows'] "
   ]
  },
  {
   "cell_type": "code",
   "execution_count": 29,
   "metadata": {},
   "outputs": [],
   "source": [
    "assert blocks == norm_clues2x2['rows'] "
   ]
  },
  {
   "cell_type": "code",
   "execution_count": 30,
   "metadata": {},
   "outputs": [
    {
     "data": {
      "text/plain": [
       "[[1, 1], [0, 1]]"
      ]
     },
     "execution_count": 30,
     "metadata": {},
     "output_type": "execute_result"
    }
   ],
   "source": [
    "w = board2x2.states.shape[0]\n",
    "h = board2x2.states.shape[1]\n",
    "length = mul(w, h)\n",
    "cols = [ [board2x2.states.reshape(length)[c+r*w]\n",
    "         for r in range(0, h)]\n",
    "         for c in range(0, w)]\n",
    "cols"
   ]
  },
  {
   "cell_type": "code",
   "execution_count": 31,
   "metadata": {},
   "outputs": [
    {
     "name": "stdout",
     "output_type": "stream",
     "text": [
      "blocks=[[2], [1]]\n"
     ]
    }
   ],
   "source": [
    "blocks = [ [len(list(g)) for k,g in groupby(line) if k==1]\n",
    "  for line in cols\n",
    "]\n",
    "print(f\"blocks={blocks}\")\n",
    "assert blocks == norm_clues2x2['cols'] "
   ]
  },
  {
   "cell_type": "code",
   "execution_count": 32,
   "metadata": {},
   "outputs": [],
   "source": [
    "def get_rows_blocks(a_board):\n",
    "    rows = a_board.states\n",
    "    blocks = [ [len(list(g)) for k,g in groupby(line) if k==1]\n",
    "           for line in rows\n",
    "    ]\n",
    "    return blocks\n",
    "\n",
    "def get_cols_blocks(a_board):\n",
    "    w = a_board.states.shape[0]\n",
    "    h = a_board.states.shape[1]\n",
    "    length = mul(w, h)\n",
    "    cols = [ [a_board.states.reshape(length)[c+r*w]\n",
    "         for r in range(0, h)]\n",
    "         for c in range(0, w)]\n",
    "    blocks = [ [len(list(g)) for k,g in groupby(line) if k==1]\n",
    "      for line in cols\n",
    "    ]\n",
    "    return blocks"
   ]
  },
  {
   "cell_type": "code",
   "execution_count": 33,
   "metadata": {},
   "outputs": [],
   "source": [
    "assert get_rows_blocks(board2x2) == norm_clues2x2['rows'] "
   ]
  },
  {
   "cell_type": "code",
   "execution_count": 34,
   "metadata": {},
   "outputs": [],
   "source": [
    "assert get_cols_blocks(board2x2)  == norm_clues2x2['cols'] "
   ]
  },
  {
   "cell_type": "markdown",
   "metadata": {},
   "source": [
    "check 5x5s"
   ]
  },
  {
   "cell_type": "code",
   "execution_count": 35,
   "metadata": {},
   "outputs": [
    {
     "name": "stdout",
     "output_type": "stream",
     "text": [
      "cols: 1 4 [2, 2] 4 1\n",
      "rows:\n",
      "1\n",
      "3\n",
      "[1, 1]\n",
      "3\n",
      "5\n",
      "[['.' '.' '.' '.' '.']\n",
      " ['.' '.' '.' '.' '.']\n",
      " ['.' '.' 'x' '.' '.']\n",
      " ['.' '.' '.' '.' '.']\n",
      " ['o' '.' '.' '.' '.']]\n",
      "count empty=23\n"
     ]
    }
   ],
   "source": [
    "board5x5s = Board(clues5x5s)\n",
    "board5x5s.mark(4, 0, BoardMark.BLACK) \n",
    "board5x5s.mark(2, 2, BoardMark.FILLER) \n",
    "board5x5s.prettyprint()\n",
    "count = count_empty(board5x5s)\n",
    "print(f\"count empty={count}\")\n"
   ]
  },
  {
   "cell_type": "code",
   "execution_count": 36,
   "metadata": {},
   "outputs": [
    {
     "data": {
      "text/plain": [
       "[[], [], [], [], [1]]"
      ]
     },
     "execution_count": 36,
     "metadata": {},
     "output_type": "execute_result"
    }
   ],
   "source": [
    "get_rows_blocks(board5x5s)"
   ]
  },
  {
   "cell_type": "code",
   "execution_count": 37,
   "metadata": {},
   "outputs": [],
   "source": [
    "# 1 BLACK on row 4\n",
    "assert get_rows_blocks(board5x5s) == [[], [], [], [], [1]]"
   ]
  },
  {
   "cell_type": "code",
   "execution_count": 38,
   "metadata": {},
   "outputs": [
    {
     "data": {
      "text/plain": [
       "[[1], [], [], [], []]"
      ]
     },
     "execution_count": 38,
     "metadata": {},
     "output_type": "execute_result"
    }
   ],
   "source": [
    "get_cols_blocks(board5x5s)"
   ]
  },
  {
   "cell_type": "code",
   "execution_count": 39,
   "metadata": {},
   "outputs": [],
   "source": [
    "# 1 BLACK on col 0\n",
    "assert get_cols_blocks(board5x5s) == [[1], [], [], [], []]"
   ]
  },
  {
   "cell_type": "markdown",
   "metadata": {},
   "source": [
    "## 2.6. Get score\n",
    "\n",
    "Score may be computed\n",
    "- from the number of errors in try-and-error process\n",
    "- from the number of differences between proposed solutiion and the known solutiion\n",
    "- from the number of violations of the clues"
   ]
  },
  {
   "cell_type": "code",
   "execution_count": 65,
   "metadata": {},
   "outputs": [
    {
     "data": {
      "text/plain": [
       "[(1, 1), (1, 0), (0, 1), (1, 1)]"
      ]
     },
     "execution_count": 65,
     "metadata": {},
     "output_type": "execute_result"
    }
   ],
   "source": [
    "# difference between proposed and expected\n",
    "\n",
    "proposed = [1, 1, 0, 1]\n",
    "expected = [1, 0, 1, 1]\n",
    "[(p,e) for (p,e) in zip(proposed, expected)]"
   ]
  },
  {
   "cell_type": "code",
   "execution_count": 67,
   "metadata": {},
   "outputs": [
    {
     "data": {
      "text/plain": [
       "[0, 1, 1, 0]"
      ]
     },
     "execution_count": 67,
     "metadata": {},
     "output_type": "execute_result"
    }
   ],
   "source": [
    "[abs(p-e) for (p,e) in zip(proposed, expected)]"
   ]
  },
  {
   "cell_type": "code",
   "execution_count": 70,
   "metadata": {},
   "outputs": [
    {
     "data": {
      "text/plain": [
       "2"
      ]
     },
     "execution_count": 70,
     "metadata": {},
     "output_type": "execute_result"
    }
   ],
   "source": [
    "errors = sum([abs(p-e) for (p,e) in zip(proposed, expected)])\n",
    "errors"
   ]
  },
  {
   "cell_type": "code",
   "execution_count": 72,
   "metadata": {},
   "outputs": [
    {
     "data": {
      "text/plain": [
       "0.5"
      ]
     },
     "execution_count": 72,
     "metadata": {},
     "output_type": "execute_result"
    }
   ],
   "source": [
    "# score\n",
    "(len(expected) - errors) / len(expected)"
   ]
  },
  {
   "cell_type": "code",
   "execution_count": 73,
   "metadata": {},
   "outputs": [
    {
     "data": {
      "text/plain": [
       "[0, 1, 0]"
      ]
     },
     "execution_count": 73,
     "metadata": {},
     "output_type": "execute_result"
    }
   ],
   "source": [
    "# take left empty into account\n",
    "proposed = [1, -1, 0, 1]\n",
    "[abs(p-e) for (p,e) in zip(proposed, expected) if p>=0]"
   ]
  },
  {
   "cell_type": "code",
   "execution_count": 75,
   "metadata": {},
   "outputs": [
    {
     "data": {
      "text/plain": [
       "1"
      ]
     },
     "execution_count": 75,
     "metadata": {},
     "output_type": "execute_result"
    }
   ],
   "source": [
    "errors = sum([abs(p-e) for (p,e) in zip(proposed, expected) if p>=0])\n",
    "errors"
   ]
  },
  {
   "cell_type": "code",
   "execution_count": 78,
   "metadata": {},
   "outputs": [
    {
     "data": {
      "text/plain": [
       "1"
      ]
     },
     "execution_count": 78,
     "metadata": {},
     "output_type": "execute_result"
    }
   ],
   "source": [
    "empty = sum([abs(p) for p in proposed if p<0])\n",
    "empty"
   ]
  },
  {
   "cell_type": "code",
   "execution_count": 79,
   "metadata": {},
   "outputs": [
    {
     "data": {
      "text/plain": [
       "0.5"
      ]
     },
     "execution_count": 79,
     "metadata": {},
     "output_type": "execute_result"
    }
   ],
   "source": [
    "# score\n",
    "(len(expected) - errors - empty) / len(expected)"
   ]
  },
  {
   "cell_type": "code",
   "execution_count": null,
   "metadata": {},
   "outputs": [],
   "source": [
    "# TODO score for board update"
   ]
  },
  {
   "cell_type": "markdown",
   "metadata": {},
   "source": [
    "# 3. updated classes "
   ]
  },
  {
   "cell_type": "code",
   "execution_count": 40,
   "metadata": {},
   "outputs": [],
   "source": [
    "%reset -f"
   ]
  },
  {
   "cell_type": "markdown",
   "metadata": {},
   "source": [
    "TODO\n",
    "\n",
    "Some solver will do operations on clues without having a board. For instance evaluate the total number of blacks cells in order to randomly place an equal nulber of blacks.\n",
    "\n",
    "The game rules must be a separate class."
   ]
  },
  {
   "cell_type": "code",
   "execution_count": 41,
   "metadata": {},
   "outputs": [],
   "source": [
    "from episode01 import clues2x2, clues5x5s, BoardMark\n",
    "from episode02 import solution2x2, solution5x5s"
   ]
  },
  {
   "cell_type": "markdown",
   "metadata": {},
   "source": [
    "## 3.1. New Puzzle class"
   ]
  },
  {
   "cell_type": "markdown",
   "metadata": {},
   "source": [
    "TODO explain why puzzle out of game engine"
   ]
  },
  {
   "cell_type": "code",
   "execution_count": 42,
   "metadata": {},
   "outputs": [],
   "source": [
    "from itertools import chain\n",
    "\n",
    "class Puzzle:\n",
    "    '''\n",
    "    Describe the puzzle clues and constants derived from clues\n",
    "    '''\n",
    "    \n",
    "    def __init__(self, some_clues):\n",
    "        '''\n",
    "        Puzzle constructor\n",
    "        '''\n",
    "        \n",
    "        # given parameters\n",
    "        self.given_clues = some_clues\n",
    "        \n",
    "        # normalize clues\n",
    "        self.norm_clues = self.init_norm_clues()\n",
    "        \n",
    "        # compute board dimensions\n",
    "        self.width = len(some_clues['cols']) \n",
    "        self.height = len(some_clues['rows']) \n",
    "        self.cells_count = self.width * self.height\n",
    "        self.required_blacks_count = self.get_black_count()\n",
    "        \n",
    "        \n",
    "    def init_norm_clues(self):\n",
    "        '''\n",
    "        Turn clues into a list of lists with one or more integers\n",
    "        '''\n",
    "\n",
    "        f_norm_clue = lambda clue: clue if isinstance(clue, list) else [clue]\n",
    "        norm_clues = {\n",
    "            'rows': [f_norm_clue(clue) for clue in self.given_clues['rows']],\n",
    "            'cols': [f_norm_clue(clue) for clue in self.given_clues['cols']]\n",
    "        }\n",
    "        return norm_clues\n",
    "\n",
    "    \n",
    "    def get_black_count(self, axis='rows'):\n",
    "        '''\n",
    "        Compute the number of blacks cells required by the clues \n",
    "        for either rows or cols\n",
    "        '''\n",
    "        \n",
    "        return sum(chain.from_iterable(self.norm_clues[axis]))\n",
    "      \n",
    "        \n",
    "    def is_consistent(self):\n",
    "        '''\n",
    "        Check clues for consistency between rows and cols definition\n",
    "        '''\n",
    "        \n",
    "        return self.get_black_count(axis='rows') == self.get_black_count(axis='cols')"
   ]
  },
  {
   "cell_type": "markdown",
   "metadata": {},
   "source": [
    "Test 2x2"
   ]
  },
  {
   "cell_type": "code",
   "execution_count": 48,
   "metadata": {},
   "outputs": [],
   "source": [
    "puzzle2x2 = Puzzle(clues2x2)\n",
    "assert puzzle2x2.required_blacks_count == 3\n",
    "assert puzzle2x2.norm_clues == {'rows': [[1], [2]], \n",
    "                              'cols': [[2], [1]]}\n",
    "assert puzzle2x2.is_consistent()"
   ]
  },
  {
   "cell_type": "markdown",
   "metadata": {},
   "source": [
    "Test 5x5s"
   ]
  },
  {
   "cell_type": "code",
   "execution_count": 44,
   "metadata": {},
   "outputs": [],
   "source": [
    "puzzle5x5s = Puzzle(clues5x5s)\n",
    "assert puzzle5x5s.required_blacks_count == 14\n",
    "assert puzzle5x5s.norm_clues == {'rows': [[1], [3], [1, 1], [3], [5]], \n",
    "                              'cols': [[1], [4], [2, 2], [4], [1]]} \n",
    "assert puzzle5x5s.is_consistent()"
   ]
  },
  {
   "cell_type": "code",
   "execution_count": 45,
   "metadata": {},
   "outputs": [
    {
     "name": "stdout",
     "output_type": "stream",
     "text": [
      "blacks in rows=2\n",
      "blacks in cols=3\n"
     ]
    }
   ],
   "source": [
    "# inbalanced clues\n",
    "clues1 = {\n",
    "    'rows': [1, 1],\n",
    "    'cols': [2, 1]\n",
    "}\n",
    "puzzle1 = Puzzle(clues1)\n",
    "print(f\"blacks in rows={puzzle1.get_black_count(axis='rows')}\")\n",
    "print(f\"blacks in cols={puzzle1.get_black_count(axis='cols')}\")\n",
    "assert not puzzle1.is_consistent()"
   ]
  },
  {
   "cell_type": "markdown",
   "metadata": {},
   "source": [
    "## 3.2. Changes to the class Board "
   ]
  },
  {
   "cell_type": "markdown",
   "metadata": {},
   "source": [
    "use puzzle"
   ]
  },
  {
   "cell_type": "code",
   "execution_count": 46,
   "metadata": {},
   "outputs": [],
   "source": [
    "import numpy as np\n",
    "from enum import Enum\n",
    "from itertools import groupby, chain\n",
    "from operator import mul\n",
    "from functools import reduce\n",
    "\n",
    "# constants for mark lette\n",
    "class BoardMark(Enum):\n",
    "    INIT = -1\n",
    "    FILLER = 0\n",
    "    BLACK = 1\n",
    "\n",
    "class Board:\n",
    "    '''\n",
    "    Manage the board.\n",
    "    '''\n",
    "    \n",
    "    def __init__(self, a_puzzle):\n",
    "        '''\n",
    "        Board constructor\n",
    "        '''\n",
    "        # given parameters\n",
    "        self.puzzle = a_puzzle\n",
    "        \n",
    "        # compute board dimensions\n",
    "        self.width = a_puzzle.width\n",
    "        self.height = a_puzzle.height\n",
    "        self.cells_count = a_puzzle.cells_count\n",
    "        \n",
    "        # create board of type int, initialized with -1\n",
    "        default_value = BoardMark.INIT.value\n",
    "        self.states = np.full((self.height, self.width), default_value, dtype=int)\n",
    "       \n",
    "    \n",
    "    def mark(self, row, col, mark):\n",
    "        '''\n",
    "        Mark a cell\n",
    "        '''\n",
    "        self.states[row, col] = mark.value\n",
    "\n",
    "        \n",
    "    def fill_all(self, states):\n",
    "        '''\n",
    "        Uodate all cells with states\n",
    "        '''\n",
    "        self.states.flat[:] = states \n",
    "        \n",
    "        \n",
    "    def count_empty(self):\n",
    "        '''\n",
    "        Evaluate how much of the board is filled\n",
    "        '''\n",
    "        length = reduce(mul, self.states.shape)\n",
    "        count = len([ c for c in self.states.reshape(length) \n",
    "                             if c == BoardMark.INIT.value])\n",
    "        return count    \n",
    "    \n",
    "        \n",
    "    def prettyprint(self):\n",
    "        '''\n",
    "        Pretty print of the board \n",
    "        '''\n",
    "        print(\"cols:\", end=\" \")\n",
    "        print(*self.puzzle.given_clues['cols']) # * unpacks and remove []s\n",
    "        print(\"rows:\")\n",
    "        [print(r) for r in self.puzzle.given_clues['rows']]\n",
    "          \n",
    "        marks_switcher = {-1: '.', 0: 'x', 1: 'o'}\n",
    "        # for whatever reason lambda does not work here\n",
    "        def f_marks(v):\n",
    "            return marks_switcher[v]\n",
    "        applyall = np.vectorize(f_marks)\n",
    "        marks = applyall(self.states)\n",
    "        print(marks)\n"
   ]
  },
  {
   "cell_type": "markdown",
   "metadata": {},
   "source": [
    "TODO update by row/col "
   ]
  },
  {
   "cell_type": "markdown",
   "metadata": {},
   "source": [
    "test 2x2"
   ]
  },
  {
   "cell_type": "code",
   "execution_count": 49,
   "metadata": {},
   "outputs": [
    {
     "name": "stdout",
     "output_type": "stream",
     "text": [
      "cols: 2 1\n",
      "rows:\n",
      "1\n",
      "2\n",
      "[['o' 'x']\n",
      " ['o' 'o']]\n"
     ]
    }
   ],
   "source": [
    "puzzle2x2 = Puzzle(clues2x2)\n",
    "board2x2 = Board(puzzle2x2)\n",
    "board2x2.mark(0, 0, BoardMark.BLACK) \n",
    "board2x2.mark(0, 1, BoardMark.FILLER) \n",
    "assert board2x2.count_empty() == 2\n",
    "board2x2.mark(1, 0, BoardMark.BLACK) \n",
    "board2x2.mark(1, 1, BoardMark.BLACK) \n",
    "board2x2.prettyprint()\n",
    "assert board2x2.count_empty() == 0"
   ]
  },
  {
   "cell_type": "code",
   "execution_count": 50,
   "metadata": {},
   "outputs": [
    {
     "name": "stdout",
     "output_type": "stream",
     "text": [
      "cols: 2 1\n",
      "rows:\n",
      "1\n",
      "2\n",
      "[['o' 'x']\n",
      " ['o' 'o']]\n"
     ]
    }
   ],
   "source": [
    "puzzle2x2 = Puzzle(clues2x2)\n",
    "board2x2 = Board(puzzle2x2)\n",
    "board2x2.fill_all(solution2x2)\n",
    "board2x2.prettyprint()\n",
    "assert board2x2.count_empty() == 0"
   ]
  },
  {
   "cell_type": "code",
   "execution_count": 51,
   "metadata": {},
   "outputs": [
    {
     "name": "stdout",
     "output_type": "stream",
     "text": [
      "cols: 1 4 [2, 2] 4 1\n",
      "rows:\n",
      "1\n",
      "3\n",
      "[1, 1]\n",
      "3\n",
      "5\n",
      "[['x' 'x' 'o' 'x' 'x']\n",
      " ['x' 'o' 'o' 'o' 'x']\n",
      " ['x' 'o' 'x' 'o' 'x']\n",
      " ['x' 'o' 'o' 'o' 'x']\n",
      " ['o' 'o' 'o' 'o' 'o']]\n"
     ]
    }
   ],
   "source": [
    "puzzle5x5s = Puzzle(clues5x5s)\n",
    "board5x5s = Board(puzzle5x5s)\n",
    "board5x5s.fill_all(solution5x5s)\n",
    "board5x5s.prettyprint()\n",
    "assert board5x5s.count_empty() == 0"
   ]
  },
  {
   "cell_type": "markdown",
   "metadata": {},
   "source": [
    "## 3.3. Changes to class BoardPlotter"
   ]
  },
  {
   "cell_type": "markdown",
   "metadata": {},
   "source": [
    "use puzzle"
   ]
  },
  {
   "cell_type": "code",
   "execution_count": 52,
   "metadata": {},
   "outputs": [],
   "source": [
    "import numpy as np\n",
    "\n",
    "import matplotlib.pyplot as plt\n",
    "import matplotlib.cm as cm\n",
    "from matplotlib.colors import LinearSegmentedColormap\n",
    "\n",
    "class BoardPlotter:\n",
    "    '''\n",
    "    Plot the board\n",
    "    Require %matplotlib inline .\n",
    "    '''\n",
    "    \n",
    "    cdict = {'red': [(0.0, 0.6196078431372549, 0.6196078431372549),\n",
    "      (0.5, 1.0, 1.0),\n",
    "      (1.0, 0.03137254901960784, 0.03137254901960784)],\n",
    "     'green': [(0.0, 0.792156862745098, 0.792156862745098),\n",
    "      (0.5, 1.0, 1.0),\n",
    "      (1.0, 0.18823529411764706, 0.18823529411764706)],\n",
    "     'blue': [(0.0, 0.8823529411764706, 0.8823529411764706),\n",
    "      (0.5, 1.0, 1.0),\n",
    "      (1.0, 0.4196078431372549, 0.4196078431372549)],\n",
    "     'alpha': [(0.0, 1.0, 1.0),\n",
    "      (0.5, 1.0, 1.0),\n",
    "      (1.0, 1.0, 1.0)]}\n",
    "    nono_cmap = LinearSegmentedColormap('nono', cdict)\n",
    "    \n",
    "    \n",
    "    def __init__(self, a_board):\n",
    "        '''\n",
    "        Plotter contructor\n",
    "        '''\n",
    "        self.board = a_board\n",
    "        self.clues = self.board.puzzle.given_clues\n",
    "      \n",
    "        def row_clue_to_label(v):\n",
    "            #print(v)\n",
    "            return str(v) if not isinstance(v, list) else ' '.join(map(str,v))\n",
    "        self.rows_labels = list(map(row_clue_to_label, self.clues['rows']))\n",
    "\n",
    "        def col_clue_to_label(v):\n",
    "            #print(v)\n",
    "            return str(v) if not isinstance(v, list) else '\\n'.join(map(str,v))\n",
    "        self.cols_labels = list(map(col_clue_to_label, self.clues['cols']))\n",
    "    \n",
    "    \n",
    "    def show(self):\n",
    "        '''\n",
    "        Show the plotter\n",
    "        '''\n",
    "        # WARNING :  the board is row col, while the fig is col row\n",
    "        data = self.board.states\n",
    "        w = self.board.width\n",
    "        h = self.board.height\n",
    "        nc = self.board.width * self.board.height\n",
    "        \n",
    "        # set some canvas\n",
    "        # guess the figure size \n",
    "        # 1 fits 2 cells\n",
    "        # 2 fits 5 cols\n",
    "        figw = int(w/2) \n",
    "        figh = int(h/2) \n",
    "        fig, ax = plt.subplots(figsize=(figw,figh))\n",
    "        # draw a heatmap\n",
    "        # ensure value range is -1 to 1\n",
    "        heatmap = ax.pcolor(data, cmap=self.nono_cmap, vmin=-1, vmax=1)\n",
    "\n",
    "        # ensure square cells\n",
    "        ax.set_aspect(\"equal\")\n",
    "\n",
    "        # put the major ticks at the middle of each cell\n",
    "        ax.set_xticks(np.arange(data.shape[1]) + 0.5, minor=False)\n",
    "        ax.set_yticks(np.arange(data.shape[0]) + 0.5, minor=False)\n",
    "\n",
    "        # put labels on top\n",
    "        ax.invert_yaxis()\n",
    "        ax.xaxis.tick_top()\n",
    "        \n",
    "\n",
    "        # set labels\n",
    "        column_labels = self.clues['cols']\n",
    "        row_labels = self.clues['rows']\n",
    "\n",
    "        ax.set_xticklabels(self.cols_labels, minor=False)\n",
    "        ax.set_yticklabels(self.rows_labels, minor=False)\n",
    "\n",
    "\n",
    "        # annotate fillers\n",
    "        # expect (col,row) is (1,0) for row=0 col=1\n",
    "        fillers_coordinates = [(p%w + 0.5, int(p/w) + 0.5) \n",
    "                               for (p,v) in enumerate(data.reshape(nc)) \n",
    "                               if v==0]\n",
    "        # place an X in the center of each coordinate\n",
    "        for coord in fillers_coordinates:\n",
    "            plt.text(coord[0], coord[1], 'x', \n",
    "                 verticalalignment='center',\n",
    "                 horizontalalignment='center',\n",
    "                 fontsize='xx-large')\n",
    "\n",
    "        plt.show()"
   ]
  },
  {
   "cell_type": "markdown",
   "metadata": {},
   "source": [
    "tests"
   ]
  },
  {
   "cell_type": "code",
   "execution_count": 53,
   "metadata": {},
   "outputs": [
    {
     "data": {
      "image/png": "[encoded data removed]",
      "text/plain": [
       "<Figure size 72x72 with 1 Axes>"
      ]
     },
     "metadata": {
      "needs_background": "light"
     },
     "output_type": "display_data"
    }
   ],
   "source": [
    "puzzle2x2 = Puzzle(clues2x2)\n",
    "board2x2 = Board(puzzle2x2)\n",
    "plotter2x2 = BoardPlotter(board2x2)\n",
    "board2x2.fill_all(solution2x2)\n",
    "plotter2x2.show()"
   ]
  },
  {
   "cell_type": "code",
   "execution_count": 54,
   "metadata": {},
   "outputs": [
    {
     "data": {
      "image/png": "[encoded data removed]",
      "text/plain": [
       "<Figure size 72x72 with 1 Axes>"
      ]
     },
     "metadata": {
      "needs_background": "light"
     },
     "output_type": "display_data"
    }
   ],
   "source": [
    "# not complete\n",
    "puzzle2x2 = Puzzle(clues2x2)\n",
    "board2x2 = Board(puzzle2x2)\n",
    "plotter2x2 = BoardPlotter(board2x2)\n",
    "\n",
    "board2x2.mark(0, 0, BoardMark.BLACK) \n",
    "board2x2.mark(0, 1, BoardMark.FILLER) \n",
    "board2x2.mark(1, 0, BoardMark.BLACK) \n",
    "\n",
    "assert board2x2.count_empty() > 0\n",
    "plotter2x2.show()"
   ]
  },
  {
   "cell_type": "code",
   "execution_count": 55,
   "metadata": {},
   "outputs": [
    {
     "data": {
      "image/png": "[encoded data removed]",
      "text/plain": [
       "<Figure size 72x72 with 1 Axes>"
      ]
     },
     "metadata": {
      "needs_background": "light"
     },
     "output_type": "display_data"
    }
   ],
   "source": [
    "puzzle5x5s = Puzzle(clues5x5s)\n",
    "board5x5s = Board(puzzle5x5s)\n",
    "plotter5x5s = BoardPlotter(board2x2)\n",
    "\n",
    "board5x5s.fill_all(solution5x5s)\n",
    "plotter5x5s.show()"
   ]
  },
  {
   "cell_type": "markdown",
   "metadata": {},
   "source": [
    "## 3.4. Changes to the class GameEngine\n",
    "\n",
    "TODO\n",
    "\n",
    "use puzlle\n",
    "\n",
    "check whether rules are borcken\n",
    "\n",
    "game progress utilities"
   ]
  },
  {
   "cell_type": "code",
   "execution_count": 117,
   "metadata": {},
   "outputs": [],
   "source": [
    "class GameEngine:\n",
    "    '''\n",
    "    Provide utilities for this game\n",
    "    '''\n",
    "    \n",
    "    def __init__(self, a_puzzle, a_solution):\n",
    "        '''\n",
    "        Engine constructor\n",
    "        '''\n",
    "            \n",
    "        self.puzzle = a_puzzle\n",
    "        self.solution = a_solution\n",
    "        self.flat_solution = self.solution.reshape(self.puzzle.cells_count).tolist()\n",
    "    \n",
    "        # init a board\n",
    "        self.board = Board(a_puzzle)\n",
    "        self.plotter = BoardPlotter(self.board)\n",
    "        \n",
    "        # init score\n",
    "        self.errors = 0\n",
    "        \n",
    "        \n",
    "    def show_board(self):\n",
    "        ''' \n",
    "        Plot the board\n",
    "        '''\n",
    "        self.plotter.show()  \n",
    "        \n",
    "        \n",
    "    def is_action_valid(self, row, col, mark):\n",
    "        ''' \n",
    "        Check whether an action is valid given a solution \n",
    "        '''\n",
    "        okay = self.solution[row, col] == mark.value   \n",
    "        if not okay:\n",
    "            self.errors += 1\n",
    "        return okay    \n",
    "    \n",
    "    \n",
    "    def is_expected_solution(self, states_list):\n",
    "        ''' \n",
    "        Check whether the states given a the regidtered solution \n",
    "        '''\n",
    "        # compute the difference between given board and known solution\n",
    "        self.errors = sum([abs(p-e) for (p,e) in zip(states_list, self.flat_solution) if p>=0])\n",
    "        # board is okay when full and without errors\n",
    "        return  states_list == self.flat_solution # must account for empty \n",
    "    \n",
    "           \n",
    "    def is_solved(self):\n",
    "        '''\n",
    "        Check whether the puzzle is solved\n",
    "        '''\n",
    "        \n",
    "        done = True\n",
    "        if done:\n",
    "            done = self.board.count_empty() == 0\n",
    "        if done:\n",
    "            done = self.get_rows_blocks() == self.puzzle.norm_clues['rows']\n",
    "        if done:\n",
    "            done = self.get_cols_blocks() == self.puzzle.norm_clues['cols']\n",
    "        return done\n",
    "    \n",
    "    \n",
    "    def get_rows_blocks(self):\n",
    "        '''\n",
    "        Compute blocks for each rows\n",
    "        '''\n",
    "        \n",
    "        rows = self.board.states\n",
    "        blocks = [ [len(list(g)) for k,g in groupby(line) if k==1]\n",
    "               for line in rows\n",
    "        ]\n",
    "        return blocks\n",
    "\n",
    "    \n",
    "    def get_cols_blocks(self):\n",
    "        '''\n",
    "        Compute blocks for each cols\n",
    "        '''\n",
    "        \n",
    "        w = self.board.states.shape[0]\n",
    "        h = self.board.states.shape[1]\n",
    "        length = mul(w, h)\n",
    "        cols = [ [self.board.states.reshape(length)[c+r*w]\n",
    "             for r in range(0, h)]\n",
    "             for c in range(0, w)]\n",
    "        blocks = [ [len(list(g)) for k,g in groupby(line) if k==1]\n",
    "          for line in cols\n",
    "        ]\n",
    "        return blocks"
   ]
  },
  {
   "cell_type": "markdown",
   "metadata": {},
   "source": [
    "Test 2x2"
   ]
  },
  {
   "cell_type": "code",
   "execution_count": 82,
   "metadata": {},
   "outputs": [
    {
     "data": {
      "image/png": "[encoded data removed]",
      "text/plain": [
       "<Figure size 72x72 with 1 Axes>"
      ]
     },
     "metadata": {
      "needs_background": "light"
     },
     "output_type": "display_data"
    }
   ],
   "source": [
    "puzzle2x2 = Puzzle(clues2x2)\n",
    "game2x2 = GameEngine(puzzle2x2, solution2x2)\n",
    "board2x2 = game2x2.board\n",
    "board2x2.mark(0, 0, BoardMark.BLACK) \n",
    "assert board2x2.count_empty() == 3\n",
    "game2x2.show_board()"
   ]
  },
  {
   "cell_type": "code",
   "execution_count": 83,
   "metadata": {},
   "outputs": [
    {
     "data": {
      "text/plain": [
       "0"
      ]
     },
     "execution_count": 83,
     "metadata": {},
     "output_type": "execute_result"
    }
   ],
   "source": [
    "game2x2.errors"
   ]
  },
  {
   "cell_type": "code",
   "execution_count": 115,
   "metadata": {},
   "outputs": [
    {
     "data": {
      "image/png": "[encoded data removed]",
      "text/plain": [
       "<Figure size 72x72 with 1 Axes>"
      ]
     },
     "metadata": {
      "needs_background": "light"
     },
     "output_type": "display_data"
    }
   ],
   "source": [
    "puzzle2x2 = Puzzle(clues2x2)\n",
    "game2x2 = GameEngine(puzzle2x2, solution2x2)\n",
    "board2x2 = game2x2.board\n",
    "game2x2.is_action_valid(0, 0, BoardMark.FILLER) \n",
    "assert game2x2.errors == 1\n",
    "game2x2.show_board()"
   ]
  },
  {
   "cell_type": "code",
   "execution_count": 118,
   "metadata": {},
   "outputs": [
    {
     "data": {
      "image/png": "[encoded data removed]",
      "text/plain": [
       "<Figure size 72x72 with 1 Axes>"
      ]
     },
     "metadata": {
      "needs_background": "light"
     },
     "output_type": "display_data"
    }
   ],
   "source": [
    "puzzle2x2 = Puzzle(clues2x2)\n",
    "game2x2 = GameEngine(puzzle2x2, solution2x2)\n",
    "board2x2 = game2x2.board\n",
    "game2x2.is_expected_solution([1,1,0,1]) \n",
    "assert game2x2.errors == 2\n",
    "game2x2.show_board()"
   ]
  },
  {
   "cell_type": "code",
   "execution_count": 58,
   "metadata": {},
   "outputs": [
    {
     "data": {
      "image/png": "[encoded data removed]",
      "text/plain": [
       "<Figure size 72x72 with 1 Axes>"
      ]
     },
     "metadata": {
      "needs_background": "light"
     },
     "output_type": "display_data"
    }
   ],
   "source": [
    "puzzle2x2 = Puzzle(clues2x2)\n",
    "game2x2 = GameEngine(puzzle2x2, solution2x2)\n",
    "board2x2 = game2x2.board\n",
    "board2x2.fill_all(solution2x2) \n",
    "assert game2x2.is_solved()\n",
    "game2x2.show_board()"
   ]
  },
  {
   "cell_type": "code",
   "execution_count": 59,
   "metadata": {},
   "outputs": [
    {
     "data": {
      "image/png": "[encoded data removed]",
      "text/plain": [
       "<Figure size 144x144 with 1 Axes>"
      ]
     },
     "metadata": {
      "needs_background": "light"
     },
     "output_type": "display_data"
    }
   ],
   "source": [
    "puzzle5x5s = Puzzle(clues5x5s)\n",
    "game5x5s = GameEngine(puzzle5x5s, solution2x2)\n",
    "board5x5s = game5x5s.board\n",
    "board5x5s.fill_all(solution5x5s) \n",
    "assert game5x5s.is_solved()\n",
    "game5x5s.show_board()"
   ]
  },
  {
   "cell_type": "markdown",
   "metadata": {},
   "source": [
    "# 5. Wrap up"
   ]
  },
  {
   "cell_type": "markdown",
   "metadata": {},
   "source": [
    "We have learned\n",
    "- groupby\n",
    "\n",
    "The class and solutions are saved in episode04.py.\n"
   ]
  },
  {
   "cell_type": "markdown",
   "metadata": {},
   "source": [
    "5.1. Quick test of saved classes"
   ]
  },
  {
   "cell_type": "code",
   "execution_count": null,
   "metadata": {},
   "outputs": [],
   "source": [
    "# reset all variables from tests\n",
    "%reset -f"
   ]
  },
  {
   "cell_type": "code",
   "execution_count": 62,
   "metadata": {},
   "outputs": [],
   "source": [
    "from episode04 import clues2x2, solution2x2, clues5x5s, solution5x5s\n",
    "from episode04 import Puzzle, Board, BoardMark, GameEngine"
   ]
  },
  {
   "cell_type": "code",
   "execution_count": 63,
   "metadata": {},
   "outputs": [
    {
     "data": {
      "image/png": "[encoded data removed]",
      "text/plain": [
       "<Figure size 72x72 with 1 Axes>"
      ]
     },
     "metadata": {
      "needs_background": "light"
     },
     "output_type": "display_data"
    }
   ],
   "source": [
    "puzzle2x2 = Puzzle(clues2x2)\n",
    "assert puzzle2x2.is_consistent()\n",
    "\n",
    "board2x2 = Board(puzzle2x2)\n",
    "plotter2x2 = BoardPlotter(board2x2)\n",
    "\n",
    "board2x2.mark(0, 0, BoardMark.BLACK) \n",
    "board2x2.mark(0, 1, BoardMark.FILLER) \n",
    "board2x2.mark(1, 0, BoardMark.BLACK) \n",
    "\n",
    "assert board2x2.count_empty() == 1\n",
    "plotter2x2.show()"
   ]
  },
  {
   "cell_type": "code",
   "execution_count": 64,
   "metadata": {},
   "outputs": [
    {
     "data": {
      "image/png": "[encoded data removed]",
      "text/plain": [
       "<Figure size 144x144 with 1 Axes>"
      ]
     },
     "metadata": {
      "needs_background": "light"
     },
     "output_type": "display_data"
    }
   ],
   "source": [
    "puzzle5x5s = Puzzle(clues5x5s)\n",
    "assert puzzle5x5s.is_consistent()\n",
    "\n",
    "game5x5s = GameEngine(puzzle5x5s, solution2x2)\n",
    "board5x5s = game5x5s.board\n",
    "\n",
    "board5x5s.fill_all(solution5x5s) \n",
    "assert game5x5s.is_solved()\n",
    "\n",
    "game5x5s.show_board()"
   ]
  }
 ],
 "metadata": {
  "kernelspec": {
   "display_name": "Python 3 (ipykernel)",
   "language": "python",
   "name": "python3"
  },
  "language_info": {
   "codemirror_mode": {
    "name": "ipython",
    "version": 3
   },
   "file_extension": ".py",
   "mimetype": "text/x-python",
   "name": "python",
   "nbconvert_exporter": "python",
   "pygments_lexer": "ipython3",
   "version": "3.9.7"
  }
 },
 "nbformat": 4,
 "nbformat_minor": 2
}
