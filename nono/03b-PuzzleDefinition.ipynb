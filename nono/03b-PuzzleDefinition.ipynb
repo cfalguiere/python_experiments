{
 "cells": [
  {
   "cell_type": "markdown",
   "metadata": {},
   "source": [
    "# Episode 03 b: Puzzle"
   ]
  },
  {
   "cell_type": "markdown",
   "metadata": {},
   "source": [
    "focus on puzzle"
   ]
  },
  {
   "cell_type": "markdown",
   "metadata": {},
   "source": [
    "Checking the board visually is fine for debugging but it does not work well when it comes to test a lot of board solutions.\n",
    "\n",
    "This episode provides some utilities for the POC to come. The goal is to have reasonably efficient classes but not spend too much time on this step.\n",
    "\n",
    "**Goals for this episode:**\n",
    "- Answer recurring questions \n",
    "    - What are the width, height, nulber of cellss of the puzzle \n",
    "    - Given a board is it completed ? \n",
    "    - Does it break the clues ?\n",
    "    - Are they cells left undefined ? \n",
    "    - Am I close to the goal ?\n"
   ]
  },
  {
   "cell_type": "markdown",
   "metadata": {},
   "source": [
    "# 1. Elements from episodes 01, 02 and 03"
   ]
  },
  {
   "cell_type": "code",
   "execution_count": 1,
   "metadata": {},
   "outputs": [],
   "source": [
    "from episode01 import clues2x2, clues5x5s, Board, BoardMark\n",
    "from episode02 import solution2x2, solution5x5s, GameEngine\n",
    "from episode03a import BoardPlotter"
   ]
  },
  {
   "cell_type": "code",
   "execution_count": 2,
   "metadata": {},
   "outputs": [
    {
     "data": {
      "text/plain": [
       "{'rows': [1, 2], 'cols': [2, 1]}"
      ]
     },
     "execution_count": 2,
     "metadata": {},
     "output_type": "execute_result"
    }
   ],
   "source": [
    "clues2x2"
   ]
  },
  {
   "cell_type": "code",
   "execution_count": 3,
   "metadata": {},
   "outputs": [
    {
     "data": {
      "text/plain": [
       "{'rows': [1, 3, [1, 1], 3, 5], 'cols': [1, 4, [2, 2], 4, 1]}"
      ]
     },
     "execution_count": 3,
     "metadata": {},
     "output_type": "execute_result"
    }
   ],
   "source": [
    "clues5x5s"
   ]
  },
  {
   "cell_type": "markdown",
   "metadata": {},
   "source": [
    "Requirements listed in Episode 02 still uncovered\n",
    "- a game engine which provides the game validation for try-and-error validation and solved board - for all kind of puzzles (we have tested 2x2 only)\n",
    "- some operation thate were identified in episode 01: is the board completed, is the board valid\n",
    "- a puzzle class with some operations to transform the clues and compute black count and cels count\n",
    "- try-and-error and learning process will require something in between not done and done in order to improve on residual error or rewards: number of cells completed/undefined, number of errors, number of valid cells\n"
   ]
  },
  {
   "cell_type": "markdown",
   "metadata": {},
   "source": [
    "# 2. Experiments"
   ]
  },
  {
   "cell_type": "markdown",
   "metadata": {},
   "source": [
    "## 2.1 Get the number of blacks from clues"
   ]
  },
  {
   "cell_type": "code",
   "execution_count": 4,
   "metadata": {},
   "outputs": [
    {
     "data": {
      "text/plain": [
       "3"
      ]
     },
     "execution_count": 4,
     "metadata": {},
     "output_type": "execute_result"
    }
   ],
   "source": [
    "total_blacks = sum(clues2x2['rows'])\n",
    "total_blacks"
   ]
  },
  {
   "cell_type": "code",
   "execution_count": 5,
   "metadata": {},
   "outputs": [],
   "source": [
    "assert total_blacks == 3"
   ]
  },
  {
   "cell_type": "markdown",
   "metadata": {},
   "source": [
    "This does not work with split blocks like clues5x5s\n",
    "\n",
    "The mix of integers and list results in an error\n",
    "```\n",
    "TypeError: unsupported operand type(s) for +: 'int' and 'list'\n",
    "```"
   ]
  },
  {
   "cell_type": "markdown",
   "metadata": {},
   "source": [
    "##  2.2. Normalize the clues "
   ]
  },
  {
   "cell_type": "markdown",
   "metadata": {},
   "source": [
    "Summing or scanning the clues in a consistent way is required for a lot of features (check for consistency, check whether given clues and computed fromthe board are the same).\n",
    "\n",
    "We can transform the user-friendly list into a computer-friendly list "
   ]
  },
  {
   "cell_type": "code",
   "execution_count": 6,
   "metadata": {},
   "outputs": [
    {
     "data": {
      "text/plain": [
       "[[1], [3], [1, 1], [3], [5]]"
      ]
     },
     "execution_count": 6,
     "metadata": {},
     "output_type": "execute_result"
    }
   ],
   "source": [
    "# convert all integers into a list of one integer\n",
    "f_norm_clue = lambda clue: clue if isinstance(clue, list) else [clue]\n",
    "\n",
    "[f_norm_clue(clue) for clue in [1, 3, [1,1], 3, 5]]"
   ]
  },
  {
   "cell_type": "code",
   "execution_count": 7,
   "metadata": {},
   "outputs": [
    {
     "data": {
      "text/plain": [
       "{'rows': [[1], [3], [1, 1], [3], [5]], 'cols': [[1], [4], [2, 2], [4], [1]]}"
      ]
     },
     "execution_count": 7,
     "metadata": {},
     "output_type": "execute_result"
    }
   ],
   "source": [
    "# norm clues\n",
    "def get_norm_clues(some_clues):\n",
    "    f_norm_clue = lambda clue: clue if isinstance(clue, list) else [clue]\n",
    "    norm_clues = {\n",
    "        'rows': [f_norm_clue(clue) for clue in some_clues['rows']],\n",
    "        'cols': [f_norm_clue(clue) for clue in some_clues['cols']]\n",
    "    }\n",
    "    return norm_clues\n",
    "\n",
    "get_norm_clues(clues5x5s)"
   ]
  },
  {
   "cell_type": "code",
   "execution_count": 8,
   "metadata": {},
   "outputs": [],
   "source": [
    "assert get_norm_clues(clues5x5s) == {'rows': [[1], [3], [1, 1], [3], [5]], 'cols': [[1], [4], [2, 2], [4], [1]]} "
   ]
  },
  {
   "cell_type": "markdown",
   "metadata": {},
   "source": [
    "Does it still work for non split ?"
   ]
  },
  {
   "cell_type": "code",
   "execution_count": 9,
   "metadata": {},
   "outputs": [],
   "source": [
    "assert get_norm_clues(clues2x2) == {'rows': [[1], [2]], 'cols': [[2], [1]]}"
   ]
  },
  {
   "cell_type": "markdown",
   "metadata": {},
   "source": [
    "## 2.3. Get number of blacks from normalized clues"
   ]
  },
  {
   "cell_type": "markdown",
   "metadata": {},
   "source": [
    "Now we can compute the sum a consistent way"
   ]
  },
  {
   "cell_type": "code",
   "execution_count": 10,
   "metadata": {},
   "outputs": [
    {
     "data": {
      "text/plain": [
       "{'rows': [[1], [3], [1, 1], [3], [5]], 'cols': [[1], [4], [2, 2], [4], [1]]}"
      ]
     },
     "execution_count": 10,
     "metadata": {},
     "output_type": "execute_result"
    }
   ],
   "source": [
    "get_norm_clues(clues5x5s) "
   ]
  },
  {
   "cell_type": "code",
   "execution_count": 11,
   "metadata": {},
   "outputs": [
    {
     "data": {
      "text/plain": [
       "[1, 3, 1, 1, 3, 5]"
      ]
     },
     "execution_count": 11,
     "metadata": {},
     "output_type": "execute_result"
    }
   ],
   "source": [
    "from itertools import chain\n",
    "# chain flatten the list of list to prepare sum\n",
    "list(chain.from_iterable(get_norm_clues(clues5x5s)['rows']))"
   ]
  },
  {
   "cell_type": "code",
   "execution_count": 12,
   "metadata": {},
   "outputs": [],
   "source": [
    "from itertools import chain\n",
    "# we may want to compute sum by rows or by cols\n",
    "# rows or cols may be passed as parameter\n",
    "def get_total_blacks(some_norm_clues, axis='rows'):\n",
    "    # chain flatten the list of list to prepare sum\n",
    "    return sum(chain.from_iterable(some_norm_clues[axis]))"
   ]
  },
  {
   "cell_type": "code",
   "execution_count": 13,
   "metadata": {},
   "outputs": [
    {
     "data": {
      "text/plain": [
       "14"
      ]
     },
     "execution_count": 13,
     "metadata": {},
     "output_type": "execute_result"
    }
   ],
   "source": [
    "norm_clues5x5s = get_norm_clues(clues5x5s)\n",
    "total_blacks = get_total_blacks(norm_clues5x5s)\n",
    "total_blacks"
   ]
  },
  {
   "cell_type": "code",
   "execution_count": 14,
   "metadata": {},
   "outputs": [],
   "source": [
    "assert total_blacks == 14"
   ]
  },
  {
   "cell_type": "code",
   "execution_count": 15,
   "metadata": {},
   "outputs": [],
   "source": [
    "assert get_total_blacks(norm_clues5x5s, axis='cols') == 14"
   ]
  },
  {
   "cell_type": "code",
   "execution_count": 16,
   "metadata": {},
   "outputs": [],
   "source": [
    "# Check clues for consistency\n",
    "\n",
    "# number of blacks on rows and cols miust be the same\n",
    "assert get_total_blacks(norm_clues5x5s, axis='rows') == get_total_blacks(norm_clues5x5s, axis='cols')"
   ]
  },
  {
   "cell_type": "markdown",
   "metadata": {},
   "source": [
    "# 3. updated classes "
   ]
  },
  {
   "cell_type": "code",
   "execution_count": 17,
   "metadata": {},
   "outputs": [],
   "source": [
    "%reset -f"
   ]
  },
  {
   "cell_type": "markdown",
   "metadata": {},
   "source": [
    "TODO\n",
    "\n",
    "Some solver will do operations on clues without having a board. For instance evaluate the total number of blacks cells in order to randomly place an equal nulber of blacks.\n",
    "\n",
    "The game rules must be a separate class."
   ]
  },
  {
   "cell_type": "code",
   "execution_count": 18,
   "metadata": {},
   "outputs": [],
   "source": [
    "from episode01 import clues2x2, clues5x5s, BoardMark\n",
    "from episode02 import solution2x2, solution5x5s"
   ]
  },
  {
   "cell_type": "markdown",
   "metadata": {},
   "source": [
    "## 3.1. New Puzzle class"
   ]
  },
  {
   "cell_type": "markdown",
   "metadata": {},
   "source": [
    "TODO explain why puzzle out of game engine"
   ]
  },
  {
   "cell_type": "code",
   "execution_count": 19,
   "metadata": {},
   "outputs": [],
   "source": [
    "from itertools import chain\n",
    "\n",
    "class Puzzle:\n",
    "    '''\n",
    "    Describe the puzzle clues and constants derived from clues\n",
    "    '''\n",
    "    \n",
    "    def __init__(self, some_clues):\n",
    "        '''\n",
    "        Puzzle constructor\n",
    "        '''\n",
    "        \n",
    "        # given parameters\n",
    "        self.given_clues = some_clues\n",
    "        \n",
    "        # normalize clues\n",
    "        self.norm_clues = self.init_norm_clues()\n",
    "        \n",
    "        # compute board dimensions\n",
    "        self.width = len(some_clues['cols']) \n",
    "        self.height = len(some_clues['rows']) \n",
    "        self.cells_count = self.width * self.height\n",
    "        self.required_blacks_count = self.get_black_count()\n",
    "        \n",
    "        \n",
    "    def init_norm_clues(self):\n",
    "        '''\n",
    "        Turn clues into a list of lists with one or more integers\n",
    "        '''\n",
    "\n",
    "        f_norm_clue = lambda clue: clue if isinstance(clue, list) else [clue]\n",
    "        norm_clues = {\n",
    "            'rows': [f_norm_clue(clue) for clue in self.given_clues['rows']],\n",
    "            'cols': [f_norm_clue(clue) for clue in self.given_clues['cols']]\n",
    "        }\n",
    "        return norm_clues\n",
    "\n",
    "    \n",
    "    def get_black_count(self, axis='rows'):\n",
    "        '''\n",
    "        Compute the number of blacks cells required by the clues \n",
    "        for either rows or cols\n",
    "        '''\n",
    "        \n",
    "        return sum(chain.from_iterable(self.norm_clues[axis]))\n",
    "      \n",
    "        \n",
    "    def is_consistent(self):\n",
    "        '''\n",
    "        Check clues for consistency between rows and cols definition\n",
    "        '''\n",
    "        \n",
    "        return self.get_black_count(axis='rows') == self.get_black_count(axis='cols')"
   ]
  },
  {
   "cell_type": "markdown",
   "metadata": {},
   "source": [
    "Test 2x2"
   ]
  },
  {
   "cell_type": "code",
   "execution_count": 20,
   "metadata": {},
   "outputs": [],
   "source": [
    "puzzle2x2 = Puzzle(clues2x2)\n",
    "assert puzzle2x2.required_blacks_count == 3\n",
    "assert puzzle2x2.norm_clues == {'rows': [[1], [2]], \n",
    "                              'cols': [[2], [1]]}\n",
    "assert puzzle2x2.is_consistent()"
   ]
  },
  {
   "cell_type": "markdown",
   "metadata": {},
   "source": [
    "Test 5x5s"
   ]
  },
  {
   "cell_type": "code",
   "execution_count": 21,
   "metadata": {},
   "outputs": [],
   "source": [
    "puzzle5x5s = Puzzle(clues5x5s)\n",
    "assert puzzle5x5s.required_blacks_count == 14\n",
    "assert puzzle5x5s.norm_clues == {'rows': [[1], [3], [1, 1], [3], [5]], \n",
    "                              'cols': [[1], [4], [2, 2], [4], [1]]} \n",
    "assert puzzle5x5s.is_consistent()"
   ]
  },
  {
   "cell_type": "code",
   "execution_count": 22,
   "metadata": {},
   "outputs": [
    {
     "name": "stdout",
     "output_type": "stream",
     "text": [
      "blacks in rows=2\n",
      "blacks in cols=3\n"
     ]
    }
   ],
   "source": [
    "# inbalanced clues\n",
    "clues1 = {\n",
    "    'rows': [1, 1],\n",
    "    'cols': [2, 1]\n",
    "}\n",
    "puzzle1 = Puzzle(clues1)\n",
    "print(f\"blacks in rows={puzzle1.get_black_count(axis='rows')}\")\n",
    "print(f\"blacks in cols={puzzle1.get_black_count(axis='cols')}\")\n",
    "assert not puzzle1.is_consistent()"
   ]
  },
  {
   "cell_type": "markdown",
   "metadata": {},
   "source": [
    "## 3.2. Changes to the class Board "
   ]
  },
  {
   "cell_type": "markdown",
   "metadata": {},
   "source": [
    "use puzzle"
   ]
  },
  {
   "cell_type": "code",
   "execution_count": 23,
   "metadata": {},
   "outputs": [],
   "source": [
    "import numpy as np\n",
    "from enum import Enum\n",
    "from itertools import groupby, chain\n",
    "from operator import mul\n",
    "from functools import reduce\n",
    "\n",
    "# constants for mark lette\n",
    "class BoardMark(Enum):\n",
    "    INIT = -1\n",
    "    FILLER = 0\n",
    "    BLACK = 1\n",
    "\n",
    "class Board:\n",
    "    '''\n",
    "    Manage the board.\n",
    "    '''\n",
    "    \n",
    "    def __init__(self, a_puzzle):\n",
    "        '''\n",
    "        Board constructor\n",
    "        '''\n",
    "        # given parameters\n",
    "        self.puzzle = a_puzzle\n",
    "        \n",
    "        # compute board dimensions\n",
    "        self.width = a_puzzle.width\n",
    "        self.height = a_puzzle.height\n",
    "        self.cells_count = a_puzzle.cells_count\n",
    "        \n",
    "        # create board of type int, initialized with -1\n",
    "        default_value = BoardMark.INIT.value\n",
    "        self.states = np.full((self.height, self.width), default_value, dtype=int)\n",
    "       \n",
    "    \n",
    "    def mark(self, row, col, mark):\n",
    "        '''\n",
    "        Mark a cell\n",
    "        '''\n",
    "        self.states[row, col] = mark.value\n",
    "\n",
    "        \n",
    "    def fill_all(self, states):\n",
    "        '''\n",
    "        Uodate all cells with states\n",
    "        '''\n",
    "        self.states.flat[:] = states \n",
    "        \n",
    "        \n",
    "    def count_empty(self):\n",
    "        '''\n",
    "        Evaluate how much of the board is filled\n",
    "        '''\n",
    "        length = reduce(mul, self.states.shape)\n",
    "        count = len([ c for c in self.states.reshape(length) \n",
    "                             if c == BoardMark.INIT.value])\n",
    "        return count    \n",
    "    \n",
    "        \n",
    "    def prettyprint(self):\n",
    "        '''\n",
    "        Pretty print of the board \n",
    "        '''\n",
    "        print(\"cols:\", end=\" \")\n",
    "        print(*self.puzzle.given_clues['cols']) # * unpacks and remove []s\n",
    "        print(\"rows:\")\n",
    "        [print(r) for r in self.puzzle.given_clues['rows']]\n",
    "          \n",
    "        marks_switcher = {-1: '.', 0: 'x', 1: 'o'}\n",
    "        # for whatever reason lambda does not work here\n",
    "        def f_marks(v):\n",
    "            return marks_switcher[v]\n",
    "        applyall = np.vectorize(f_marks)\n",
    "        marks = applyall(self.states)\n",
    "        print(marks)\n"
   ]
  },
  {
   "cell_type": "markdown",
   "metadata": {},
   "source": [
    "TODO update by row/col "
   ]
  },
  {
   "cell_type": "markdown",
   "metadata": {},
   "source": [
    "test 2x2"
   ]
  },
  {
   "cell_type": "code",
   "execution_count": 24,
   "metadata": {},
   "outputs": [
    {
     "name": "stdout",
     "output_type": "stream",
     "text": [
      "cols: 2 1\n",
      "rows:\n",
      "1\n",
      "2\n",
      "[['o' 'x']\n",
      " ['o' 'o']]\n"
     ]
    }
   ],
   "source": [
    "puzzle2x2 = Puzzle(clues2x2)\n",
    "board2x2 = Board(puzzle2x2)\n",
    "board2x2.mark(0, 0, BoardMark.BLACK) \n",
    "board2x2.mark(0, 1, BoardMark.FILLER) \n",
    "assert board2x2.count_empty() == 2\n",
    "board2x2.mark(1, 0, BoardMark.BLACK) \n",
    "board2x2.mark(1, 1, BoardMark.BLACK) \n",
    "board2x2.prettyprint()\n",
    "assert board2x2.count_empty() == 0"
   ]
  },
  {
   "cell_type": "code",
   "execution_count": 25,
   "metadata": {},
   "outputs": [
    {
     "name": "stdout",
     "output_type": "stream",
     "text": [
      "cols: 2 1\n",
      "rows:\n",
      "1\n",
      "2\n",
      "[['o' 'x']\n",
      " ['o' 'o']]\n"
     ]
    }
   ],
   "source": [
    "puzzle2x2 = Puzzle(clues2x2)\n",
    "board2x2 = Board(puzzle2x2)\n",
    "board2x2.fill_all(solution2x2)\n",
    "board2x2.prettyprint()\n",
    "assert board2x2.count_empty() == 0"
   ]
  },
  {
   "cell_type": "code",
   "execution_count": 26,
   "metadata": {},
   "outputs": [
    {
     "name": "stdout",
     "output_type": "stream",
     "text": [
      "cols: 1 4 [2, 2] 4 1\n",
      "rows:\n",
      "1\n",
      "3\n",
      "[1, 1]\n",
      "3\n",
      "5\n",
      "[['x' 'x' 'o' 'x' 'x']\n",
      " ['x' 'o' 'o' 'o' 'x']\n",
      " ['x' 'o' 'x' 'o' 'x']\n",
      " ['x' 'o' 'o' 'o' 'x']\n",
      " ['o' 'o' 'o' 'o' 'o']]\n"
     ]
    }
   ],
   "source": [
    "puzzle5x5s = Puzzle(clues5x5s)\n",
    "board5x5s = Board(puzzle5x5s)\n",
    "board5x5s.fill_all(solution5x5s)\n",
    "board5x5s.prettyprint()\n",
    "assert board5x5s.count_empty() == 0"
   ]
  },
  {
   "cell_type": "markdown",
   "metadata": {},
   "source": [
    "## 3.3. Changes to class BoardPlotter"
   ]
  },
  {
   "cell_type": "markdown",
   "metadata": {},
   "source": [
    "use puzzle"
   ]
  },
  {
   "cell_type": "code",
   "execution_count": 27,
   "metadata": {},
   "outputs": [],
   "source": [
    "import numpy as np\n",
    "\n",
    "import matplotlib.pyplot as plt\n",
    "import matplotlib.cm as cm\n",
    "from matplotlib.colors import LinearSegmentedColormap\n",
    "\n",
    "class BoardPlotter:\n",
    "    '''\n",
    "    Plot the board.\n",
    "    Requiere %matplotlib inline .\n",
    "    '''\n",
    "    \n",
    "    def __init__(self, a_puzzle):\n",
    "        self.clues = a_puzzle.given_clues\n",
    "                \n",
    "        # board dimensions\n",
    "        self.width = len(self.clues[\"rows\"])\n",
    "        self.height = len(self.clues[\"cols\"])\n",
    "        self.flat_length = self.width * self.height\n",
    "\n",
    "        # guess the figure size \n",
    "        # rule of thumb\n",
    "        # 1 fits 2 cells\n",
    "        # 2 fits 5 cols\n",
    "        self.fig_width = int(self.width/2) \n",
    "        self.fig_height = int(self.height /2) \n",
    "\n",
    "        # rows labels\n",
    "        def row_clue_to_label(v):\n",
    "            return str(v) if not isinstance(v, list) else ' '.join(map(str,v))\n",
    "        self.rows_labels = list(map(row_clue_to_label, self.clues['rows']))\n",
    "\n",
    "        # columns labels\n",
    "        def col_clue_to_label(v):\n",
    "            #print(v)\n",
    "            return str(v) if not isinstance(v, list) else '\\n'.join(map(str,v))\n",
    "        self.columns_labels = list(map(col_clue_to_label, self.clues['cols']))\n",
    "\n",
    "        # color map\n",
    "        self.cmap = self.build_color_map()\n",
    "\n",
    "        \n",
    "    def build_color_map(self):\n",
    "        cdict = {'red': [(0.0, 0.6196078431372549, 0.6196078431372549),\n",
    "          (0.5, 1.0, 1.0),\n",
    "          (1.0, 0.03137254901960784, 0.03137254901960784)],\n",
    "         'green': [(0.0, 0.792156862745098, 0.792156862745098),\n",
    "          (0.5, 1.0, 1.0),\n",
    "          (1.0, 0.18823529411764706, 0.18823529411764706)],\n",
    "         'blue': [(0.0, 0.8823529411764706, 0.8823529411764706),\n",
    "          (0.5, 1.0, 1.0),\n",
    "          (1.0, 0.4196078431372549, 0.4196078431372549)],\n",
    "         'alpha': [(0.0, 1.0, 1.0),\n",
    "          (0.5, 1.0, 1.0),\n",
    "          (1.0, 1.0, 1.0)]}\n",
    "        nono_cmap = LinearSegmentedColormap('nono', cdict)\n",
    "        return nono_cmap\n",
    "\n",
    "        \n",
    "    def show(self, a_board):\n",
    "        # WARNING :  the board is row col, while the fig is col row\n",
    "        data = a_board.states\n",
    "        \n",
    "        # set some canvas\n",
    "        fig, ax = plt.subplots(figsize=(self.fig_width, self.fig_height))\n",
    "        \n",
    "        # draw a heatmap\n",
    "        # ensure value range is -1 to 1\n",
    "        heatmap = ax.pcolor(data, cmap=self.cmap, vmin=-1, vmax=1)\n",
    "\n",
    "        # ensure square cells\n",
    "        ax.set_aspect(\"equal\")\n",
    "\n",
    "        # put the major ticks at the middle of each cell\n",
    "        ax.set_xticks(np.arange(data.shape[1]) + 0.5, minor=False)\n",
    "        ax.set_yticks(np.arange(data.shape[0]) + 0.5, minor=False)\n",
    "\n",
    "        # put labels on top\n",
    "        ax.invert_yaxis()\n",
    "        ax.xaxis.tick_top()\n",
    "\n",
    "        # set labels\n",
    "        ax.set_xticklabels(self.columns_labels, minor=False)\n",
    "        ax.set_yticklabels(self.rows_labels, minor=False)\n",
    "\n",
    "\n",
    "        # annotate fillers\n",
    "        # expect (col,row) is (1,0) for row=0 col=1\n",
    "        fillers_coordinates = [(p%self.width + 0.5, int(p/self.width) + 0.5) \n",
    "                               for (p,v) in enumerate(data.reshape(self.flat_length)) \n",
    "                               if v==0]\n",
    "\n",
    "        # place an X in the center of each coordinate for fillers\n",
    "        for coord in fillers_coordinates:\n",
    "            plt.text(coord[0], coord[1], 'X', \n",
    "                 verticalalignment='center_baseline',\n",
    "                 horizontalalignment='center',\n",
    "                 fontsize='xx-large')\n",
    "\n",
    "        plt.show()"
   ]
  },
  {
   "cell_type": "markdown",
   "metadata": {},
   "source": [
    "tests"
   ]
  },
  {
   "cell_type": "code",
   "execution_count": 28,
   "metadata": {},
   "outputs": [
    {
     "data": {
      "image/png": "[encoded data removed]",
      "text/plain": [
       "<Figure size 72x72 with 1 Axes>"
      ]
     },
     "metadata": {
      "needs_background": "light"
     },
     "output_type": "display_data"
    }
   ],
   "source": [
    "puzzle2x2 = Puzzle(clues2x2)\n",
    "board2x2 = Board(puzzle2x2)\n",
    "plotter2x2 = BoardPlotter(puzzle2x2)\n",
    "board2x2.fill_all(solution2x2)\n",
    "plotter2x2.show(board2x2)"
   ]
  },
  {
   "cell_type": "code",
   "execution_count": 29,
   "metadata": {},
   "outputs": [
    {
     "data": {
      "image/png": "[encoded data removed]",
      "text/plain": [
       "<Figure size 72x72 with 1 Axes>"
      ]
     },
     "metadata": {
      "needs_background": "light"
     },
     "output_type": "display_data"
    }
   ],
   "source": [
    "# not complete\n",
    "puzzle2x2 = Puzzle(clues2x2)\n",
    "board2x2 = Board(puzzle2x2)\n",
    "plotter2x2 = BoardPlotter(puzzle2x2)\n",
    "\n",
    "board2x2.mark(0, 0, BoardMark.BLACK) \n",
    "board2x2.mark(0, 1, BoardMark.FILLER) \n",
    "board2x2.mark(1, 0, BoardMark.BLACK) \n",
    "\n",
    "assert board2x2.count_empty() > 0\n",
    "plotter2x2.show(board2x2)"
   ]
  },
  {
   "cell_type": "code",
   "execution_count": 30,
   "metadata": {},
   "outputs": [
    {
     "data": {
      "image/png": "[encoded data removed]",
      "text/plain": [
       "<Figure size 144x144 with 1 Axes>"
      ]
     },
     "metadata": {
      "needs_background": "light"
     },
     "output_type": "display_data"
    }
   ],
   "source": [
    "puzzle5x5s = Puzzle(clues5x5s)\n",
    "board5x5s = Board(puzzle5x5s)\n",
    "plotter5x5s = BoardPlotter(puzzle5x5s)\n",
    "\n",
    "board5x5s.fill_all(solution5x5s)\n",
    "plotter5x5s.show(board5x5s)"
   ]
  },
  {
   "cell_type": "markdown",
   "metadata": {},
   "source": [
    "# 5. Wrap up"
   ]
  },
  {
   "cell_type": "markdown",
   "metadata": {},
   "source": [
    "We have learned\n",
    "- groupby\n",
    "\n",
    "The class and solutions are saved in episode04.py.\n"
   ]
  },
  {
   "cell_type": "markdown",
   "metadata": {},
   "source": [
    "5.1. Quick test of saved classes"
   ]
  },
  {
   "cell_type": "code",
   "execution_count": 31,
   "metadata": {},
   "outputs": [],
   "source": [
    "# reset all variables from tests\n",
    "%reset -f"
   ]
  },
  {
   "cell_type": "code",
   "execution_count": 33,
   "metadata": {},
   "outputs": [],
   "source": [
    "from episode01 import clues2x2, clues5x5s, Board, BoardMark\n",
    "from episode02 import solution2x2, solution5x5s, GameEngine\n",
    "from episode03b import Puzzle, Board, BoardMark, BoardPlotter"
   ]
  },
  {
   "cell_type": "code",
   "execution_count": 34,
   "metadata": {},
   "outputs": [
    {
     "data": {
      "image/png": "[encoded data removed]",
      "text/plain": [
       "<Figure size 72x72 with 1 Axes>"
      ]
     },
     "metadata": {
      "needs_background": "light"
     },
     "output_type": "display_data"
    }
   ],
   "source": [
    "puzzle2x2 = Puzzle(clues2x2)\n",
    "assert puzzle2x2.is_consistent()\n",
    "\n",
    "board2x2 = Board(puzzle2x2)\n",
    "plotter2x2 = BoardPlotter(puzzle2x2)\n",
    "\n",
    "board2x2.mark(0, 0, BoardMark.BLACK) \n",
    "board2x2.mark(0, 1, BoardMark.FILLER) \n",
    "board2x2.mark(1, 0, BoardMark.BLACK) \n",
    "\n",
    "assert board2x2.count_empty() == 1\n",
    "plotter2x2.show(board2x2)"
   ]
  },
  {
   "cell_type": "code",
   "execution_count": null,
   "metadata": {},
   "outputs": [],
   "source": []
  }
 ],
 "metadata": {
  "kernelspec": {
   "display_name": "Python 3 (ipykernel)",
   "language": "python",
   "name": "python3"
  },
  "language_info": {
   "codemirror_mode": {
    "name": "ipython",
    "version": 3
   },
   "file_extension": ".py",
   "mimetype": "text/x-python",
   "name": "python",
   "nbconvert_exporter": "python",
   "pygments_lexer": "ipython3",
   "version": "3.9.7"
  }
 },
 "nbformat": 4,
 "nbformat_minor": 2
}
