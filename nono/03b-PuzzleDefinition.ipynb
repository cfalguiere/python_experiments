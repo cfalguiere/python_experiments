{
 "cells": [
  {
   "cell_type": "markdown",
   "metadata": {},
   "source": [
    "# Episode 03 b: Puzzle"
   ]
  },
  {
   "cell_type": "markdown",
   "metadata": {},
   "source": [
    "focus on puzzle"
   ]
  },
  {
   "cell_type": "markdown",
   "metadata": {},
   "source": [
    "Checking the board visually is fine for debugging but it does not work well when it comes to test a lot of board solutions.\n",
    "\n",
    "This episode provides some utilities for the POC to come. The goal is to have reasonably efficient classes but not spend too much time on this step.\n",
    "\n",
    "**Goals for this episode:**\n",
    "- Answer recurring questions \n",
    "    - What are the width, height, nulber of cellss of the puzzle \n",
    "    - Given a board is it completed ? \n",
    "    - Does it break the clues ?\n",
    "    - Are they cells left undefined ? \n",
    "    - Am I close to the goal ?\n"
   ]
  },
  {
   "cell_type": "markdown",
   "metadata": {},
   "source": [
    "# 1. Elements from episodes 01, 02 and 03"
   ]
  },
  {
   "cell_type": "code",
   "execution_count": 1,
   "metadata": {},
   "outputs": [],
   "source": [
    "from episode01.samples import clues2x2, clues5x5s, solution2x2, solution5x5s\n",
    "from episode01.board import Board, BoardMark\n",
    "from episode02.gameengine import GameEngine\n",
    "from episode03a.boardplotter import BoardPlotter"
   ]
  },
  {
   "cell_type": "code",
   "execution_count": 2,
   "metadata": {},
   "outputs": [
    {
     "data": {
      "text/plain": [
       "{'rows': [1, 2], 'cols': [2, 1]}"
      ]
     },
     "execution_count": 2,
     "metadata": {},
     "output_type": "execute_result"
    }
   ],
   "source": [
    "clues2x2"
   ]
  },
  {
   "cell_type": "code",
   "execution_count": 3,
   "metadata": {},
   "outputs": [
    {
     "data": {
      "text/plain": [
       "{'rows': [1, 3, [1, 1], 3, 5], 'cols': [1, 4, [2, 2], 4, 1]}"
      ]
     },
     "execution_count": 3,
     "metadata": {},
     "output_type": "execute_result"
    }
   ],
   "source": [
    "clues5x5s"
   ]
  },
  {
   "cell_type": "markdown",
   "metadata": {},
   "source": [
    "Requirements listed in Episode 02 still uncovered\n",
    "- a game engine which provides the game validation for try-and-error validation and solved board - for all kind of puzzles (we have tested 2x2 only)\n",
    "- some operation thate were identified in episode 01: is the board completed, is the board valid\n",
    "- a puzzle class with some operations to transform the clues and compute black count and cels count\n",
    "- try-and-error and learning process will require something in between not done and done in order to improve on residual error or rewards: number of cells completed/undefined, number of errors, number of valid cells\n"
   ]
  },
  {
   "cell_type": "markdown",
   "metadata": {},
   "source": [
    "# 2. Experiments"
   ]
  },
  {
   "cell_type": "markdown",
   "metadata": {},
   "source": [
    "## 2.1 Get the number of blacks from clues"
   ]
  },
  {
   "cell_type": "code",
   "execution_count": 4,
   "metadata": {},
   "outputs": [
    {
     "data": {
      "text/plain": [
       "3"
      ]
     },
     "execution_count": 4,
     "metadata": {},
     "output_type": "execute_result"
    }
   ],
   "source": [
    "total_blacks = sum(clues2x2['rows'])\n",
    "total_blacks"
   ]
  },
  {
   "cell_type": "code",
   "execution_count": 5,
   "metadata": {},
   "outputs": [],
   "source": [
    "assert total_blacks == 3"
   ]
  },
  {
   "cell_type": "markdown",
   "metadata": {},
   "source": [
    "This does not work with split blocks like clues5x5s\n",
    "\n",
    "The mix of integers and list results in an error\n",
    "```\n",
    "TypeError: unsupported operand type(s) for +: 'int' and 'list'\n",
    "```"
   ]
  },
  {
   "cell_type": "markdown",
   "metadata": {},
   "source": [
    "##  2.2. Normalize the clues "
   ]
  },
  {
   "cell_type": "markdown",
   "metadata": {},
   "source": [
    "Summing or scanning the clues in a consistent way is required for a lot of features (check for consistency, check whether given clues and computed fromthe board are the same).\n",
    "\n",
    "We can transform the user-friendly list into a computer-friendly list "
   ]
  },
  {
   "cell_type": "code",
   "execution_count": 6,
   "metadata": {},
   "outputs": [
    {
     "data": {
      "text/plain": [
       "[[1], [3], [1, 1], [3], [5]]"
      ]
     },
     "execution_count": 6,
     "metadata": {},
     "output_type": "execute_result"
    }
   ],
   "source": [
    "# convert all integers into a list of one integer\n",
    "f_norm_clue = lambda clue: clue if isinstance(clue, list) else [clue]\n",
    "\n",
    "[f_norm_clue(clue) for clue in [1, 3, [1,1], 3, 5]]"
   ]
  },
  {
   "cell_type": "code",
   "execution_count": 7,
   "metadata": {},
   "outputs": [
    {
     "data": {
      "text/plain": [
       "{'rows': [[1], [3], [1, 1], [3], [5]], 'cols': [[1], [4], [2, 2], [4], [1]]}"
      ]
     },
     "execution_count": 7,
     "metadata": {},
     "output_type": "execute_result"
    }
   ],
   "source": [
    "# norm clues\n",
    "def get_norm_clues(some_clues):\n",
    "    f_norm_clue = lambda clue: clue if isinstance(clue, list) else [clue]\n",
    "    norm_clues = {\n",
    "        'rows': [f_norm_clue(clue) for clue in some_clues['rows']],\n",
    "        'cols': [f_norm_clue(clue) for clue in some_clues['cols']]\n",
    "    }\n",
    "    return norm_clues\n",
    "\n",
    "get_norm_clues(clues5x5s)"
   ]
  },
  {
   "cell_type": "code",
   "execution_count": 8,
   "metadata": {},
   "outputs": [],
   "source": [
    "assert get_norm_clues(clues5x5s) == {'rows': [[1], [3], [1, 1], [3], [5]], 'cols': [[1], [4], [2, 2], [4], [1]]} "
   ]
  },
  {
   "cell_type": "markdown",
   "metadata": {},
   "source": [
    "Does it still work for non split ?"
   ]
  },
  {
   "cell_type": "code",
   "execution_count": 9,
   "metadata": {},
   "outputs": [],
   "source": [
    "assert get_norm_clues(clues2x2) == {'rows': [[1], [2]], 'cols': [[2], [1]]}"
   ]
  },
  {
   "cell_type": "markdown",
   "metadata": {},
   "source": [
    "## 2.3. Get number of blacks from normalized clues"
   ]
  },
  {
   "cell_type": "markdown",
   "metadata": {},
   "source": [
    "Now we can compute the sum a consistent way"
   ]
  },
  {
   "cell_type": "code",
   "execution_count": 10,
   "metadata": {},
   "outputs": [
    {
     "data": {
      "text/plain": [
       "{'rows': [[1], [3], [1, 1], [3], [5]], 'cols': [[1], [4], [2, 2], [4], [1]]}"
      ]
     },
     "execution_count": 10,
     "metadata": {},
     "output_type": "execute_result"
    }
   ],
   "source": [
    "get_norm_clues(clues5x5s) "
   ]
  },
  {
   "cell_type": "code",
   "execution_count": 11,
   "metadata": {},
   "outputs": [
    {
     "data": {
      "text/plain": [
       "[1, 3, 1, 1, 3, 5]"
      ]
     },
     "execution_count": 11,
     "metadata": {},
     "output_type": "execute_result"
    }
   ],
   "source": [
    "from itertools import chain\n",
    "# chain flatten the list of list to prepare sum\n",
    "list(chain.from_iterable(get_norm_clues(clues5x5s)['rows']))"
   ]
  },
  {
   "cell_type": "code",
   "execution_count": 12,
   "metadata": {},
   "outputs": [],
   "source": [
    "from itertools import chain\n",
    "# we may want to compute sum by rows or by cols\n",
    "# rows or cols may be passed as parameter\n",
    "def get_total_blacks(some_norm_clues, axis='rows'):\n",
    "    # chain flatten the list of list to prepare sum\n",
    "    return sum(chain.from_iterable(some_norm_clues[axis]))"
   ]
  },
  {
   "cell_type": "code",
   "execution_count": 13,
   "metadata": {},
   "outputs": [
    {
     "data": {
      "text/plain": [
       "14"
      ]
     },
     "execution_count": 13,
     "metadata": {},
     "output_type": "execute_result"
    }
   ],
   "source": [
    "norm_clues5x5s = get_norm_clues(clues5x5s)\n",
    "total_blacks = get_total_blacks(norm_clues5x5s)\n",
    "total_blacks"
   ]
  },
  {
   "cell_type": "code",
   "execution_count": 14,
   "metadata": {},
   "outputs": [],
   "source": [
    "assert total_blacks == 14"
   ]
  },
  {
   "cell_type": "code",
   "execution_count": 15,
   "metadata": {},
   "outputs": [],
   "source": [
    "assert get_total_blacks(norm_clues5x5s, axis='cols') == 14"
   ]
  },
  {
   "cell_type": "code",
   "execution_count": 16,
   "metadata": {},
   "outputs": [],
   "source": [
    "# Check clues for consistency\n",
    "\n",
    "# number of blacks on rows and cols miust be the same\n",
    "assert get_total_blacks(norm_clues5x5s, axis='rows') == get_total_blacks(norm_clues5x5s, axis='cols')"
   ]
  },
  {
   "cell_type": "markdown",
   "metadata": {},
   "source": [
    "# 3. updated classes "
   ]
  },
  {
   "cell_type": "code",
   "execution_count": 17,
   "metadata": {},
   "outputs": [],
   "source": [
    "%reset -f"
   ]
  },
  {
   "cell_type": "markdown",
   "metadata": {},
   "source": [
    "TODO\n",
    "\n",
    "Some solver will do operations on clues without having a board. For instance evaluate the total number of blacks cells in order to randomly place an equal nulber of blacks.\n",
    "\n",
    "The game rules must be a separate class."
   ]
  },
  {
   "cell_type": "code",
   "execution_count": 18,
   "metadata": {},
   "outputs": [],
   "source": [
    "from episode01.samples import clues2x2, clues5x5s, solution2x2, solution5x5s\n",
    "from episode01.board import BoardMark"
   ]
  },
  {
   "cell_type": "markdown",
   "metadata": {},
   "source": [
    "## 3.1. New Puzzle class"
   ]
  },
  {
   "cell_type": "markdown",
   "metadata": {},
   "source": [
    "TODO explain why puzzle out of game engine"
   ]
  },
  {
   "cell_type": "markdown",
   "metadata": {},
   "source": [
    "class implementatation [puzzle.py](https://raw.githubusercontent.com/cfalguiere/python_experiments/master/nono/episode03b/puzzle.py)"
   ]
  },
  {
   "cell_type": "code",
   "execution_count": 19,
   "metadata": {},
   "outputs": [],
   "source": [
    "from episode03b.puzzle import Puzzle"
   ]
  },
  {
   "cell_type": "markdown",
   "metadata": {},
   "source": [
    "Test 2x2"
   ]
  },
  {
   "cell_type": "code",
   "execution_count": 20,
   "metadata": {},
   "outputs": [],
   "source": [
    "puzzle2x2 = Puzzle(clues2x2)\n",
    "assert puzzle2x2.required_blacks_count == 3\n",
    "assert puzzle2x2.norm_clues == {'rows': [[1], [2]], \n",
    "                              'cols': [[2], [1]]}\n",
    "assert puzzle2x2.is_consistent()"
   ]
  },
  {
   "cell_type": "markdown",
   "metadata": {},
   "source": [
    "Test 5x5s"
   ]
  },
  {
   "cell_type": "code",
   "execution_count": 21,
   "metadata": {},
   "outputs": [],
   "source": [
    "puzzle5x5s = Puzzle(clues5x5s)\n",
    "assert puzzle5x5s.required_blacks_count == 14\n",
    "assert puzzle5x5s.norm_clues == {'rows': [[1], [3], [1, 1], [3], [5]], \n",
    "                              'cols': [[1], [4], [2, 2], [4], [1]]} \n",
    "assert puzzle5x5s.is_consistent()"
   ]
  },
  {
   "cell_type": "code",
   "execution_count": 22,
   "metadata": {},
   "outputs": [
    {
     "name": "stdout",
     "output_type": "stream",
     "text": [
      "blacks in rows=2\n",
      "blacks in cols=3\n"
     ]
    }
   ],
   "source": [
    "# inbalanced clues\n",
    "clues1 = {\n",
    "    'rows': [1, 1],\n",
    "    'cols': [2, 1]\n",
    "}\n",
    "puzzle1 = Puzzle(clues1)\n",
    "print(f\"blacks in rows={puzzle1.get_black_count(axis='rows')}\")\n",
    "print(f\"blacks in cols={puzzle1.get_black_count(axis='cols')}\")\n",
    "assert not puzzle1.is_consistent()"
   ]
  },
  {
   "cell_type": "markdown",
   "metadata": {},
   "source": [
    "## 3.2. Changes to the class Board "
   ]
  },
  {
   "cell_type": "markdown",
   "metadata": {},
   "source": [
    "use puzzle"
   ]
  },
  {
   "cell_type": "markdown",
   "metadata": {},
   "source": [
    "class implementatation [board.py](https://raw.githubusercontent.com/cfalguiere/python_experiments/master/nono/episode03b/board.py)"
   ]
  },
  {
   "cell_type": "code",
   "execution_count": 23,
   "metadata": {},
   "outputs": [],
   "source": [
    "from episode03b.board import Board, BoardMark"
   ]
  },
  {
   "cell_type": "markdown",
   "metadata": {},
   "source": [
    "TODO update by row/col "
   ]
  },
  {
   "cell_type": "markdown",
   "metadata": {},
   "source": [
    "test 2x2"
   ]
  },
  {
   "cell_type": "code",
   "execution_count": 24,
   "metadata": {},
   "outputs": [
    {
     "name": "stdout",
     "output_type": "stream",
     "text": [
      "cols: 2 1\n",
      "rows:\n",
      "1\n",
      "2\n",
      "[['o' 'x']\n",
      " ['o' 'o']]\n"
     ]
    }
   ],
   "source": [
    "puzzle2x2 = Puzzle(clues2x2)\n",
    "board2x2 = Board(puzzle2x2)\n",
    "board2x2.mark(0, 0, BoardMark.BLACK) \n",
    "board2x2.mark(0, 1, BoardMark.FILLER) \n",
    "assert board2x2.count_empty() == 2\n",
    "board2x2.mark(1, 0, BoardMark.BLACK) \n",
    "board2x2.mark(1, 1, BoardMark.BLACK) \n",
    "board2x2.prettyprint()\n",
    "assert board2x2.count_empty() == 0"
   ]
  },
  {
   "cell_type": "code",
   "execution_count": 25,
   "metadata": {},
   "outputs": [
    {
     "name": "stdout",
     "output_type": "stream",
     "text": [
      "cols: 2 1\n",
      "rows:\n",
      "1\n",
      "2\n",
      "[['o' 'x']\n",
      " ['o' 'o']]\n"
     ]
    }
   ],
   "source": [
    "puzzle2x2 = Puzzle(clues2x2)\n",
    "board2x2 = Board(puzzle2x2)\n",
    "board2x2.fill_all(solution2x2)\n",
    "board2x2.prettyprint()\n",
    "assert board2x2.count_empty() == 0"
   ]
  },
  {
   "cell_type": "code",
   "execution_count": 26,
   "metadata": {},
   "outputs": [
    {
     "name": "stdout",
     "output_type": "stream",
     "text": [
      "cols: 1 4 [2, 2] 4 1\n",
      "rows:\n",
      "1\n",
      "3\n",
      "[1, 1]\n",
      "3\n",
      "5\n",
      "[['x' 'x' 'o' 'x' 'x']\n",
      " ['x' 'o' 'o' 'o' 'x']\n",
      " ['x' 'o' 'x' 'o' 'x']\n",
      " ['x' 'o' 'o' 'o' 'x']\n",
      " ['o' 'o' 'o' 'o' 'o']]\n"
     ]
    }
   ],
   "source": [
    "puzzle5x5s = Puzzle(clues5x5s)\n",
    "board5x5s = Board(puzzle5x5s)\n",
    "board5x5s.fill_all(solution5x5s)\n",
    "board5x5s.prettyprint()\n",
    "assert board5x5s.count_empty() == 0"
   ]
  },
  {
   "cell_type": "markdown",
   "metadata": {},
   "source": [
    "## 3.3. Changes to class BoardPlotter"
   ]
  },
  {
   "cell_type": "markdown",
   "metadata": {},
   "source": [
    "use puzzle"
   ]
  },
  {
   "cell_type": "markdown",
   "metadata": {},
   "source": [
    "class implementatation [boardplotter.py](https://raw.githubusercontent.com/cfalguiere/python_experiments/master/nono/episode03b/boardplotter.py)"
   ]
  },
  {
   "cell_type": "code",
   "execution_count": 27,
   "metadata": {},
   "outputs": [],
   "source": [
    "from episode03b.boardplotter import BoardPlotter"
   ]
  },
  {
   "cell_type": "markdown",
   "metadata": {},
   "source": [
    "tests"
   ]
  },
  {
   "cell_type": "code",
   "execution_count": 28,
   "metadata": {},
   "outputs": [
    {
     "data": {
      "image/png": "[encoded data removed]",
      "text/plain": [
       "<Figure size 72x72 with 1 Axes>"
      ]
     },
     "metadata": {
      "needs_background": "light"
     },
     "output_type": "display_data"
    }
   ],
   "source": [
    "puzzle2x2 = Puzzle(clues2x2)\n",
    "board2x2 = Board(puzzle2x2)\n",
    "plotter2x2 = BoardPlotter(puzzle2x2)\n",
    "board2x2.fill_all(solution2x2)\n",
    "plotter2x2.show(board2x2)"
   ]
  },
  {
   "cell_type": "code",
   "execution_count": 29,
   "metadata": {},
   "outputs": [
    {
     "data": {
      "image/png": "[encoded data removed]",
      "text/plain": [
       "<Figure size 72x72 with 1 Axes>"
      ]
     },
     "metadata": {
      "needs_background": "light"
     },
     "output_type": "display_data"
    }
   ],
   "source": [
    "# not complete\n",
    "puzzle2x2 = Puzzle(clues2x2)\n",
    "board2x2 = Board(puzzle2x2)\n",
    "plotter2x2 = BoardPlotter(puzzle2x2)\n",
    "\n",
    "board2x2.mark(0, 0, BoardMark.BLACK) \n",
    "board2x2.mark(0, 1, BoardMark.FILLER) \n",
    "board2x2.mark(1, 0, BoardMark.BLACK) \n",
    "\n",
    "assert board2x2.count_empty() > 0\n",
    "plotter2x2.show(board2x2)"
   ]
  },
  {
   "cell_type": "code",
   "execution_count": 30,
   "metadata": {},
   "outputs": [
    {
     "data": {
      "image/png": "[encoded data removed]",
      "text/plain": [
       "<Figure size 144x144 with 1 Axes>"
      ]
     },
     "metadata": {
      "needs_background": "light"
     },
     "output_type": "display_data"
    }
   ],
   "source": [
    "puzzle5x5s = Puzzle(clues5x5s)\n",
    "board5x5s = Board(puzzle5x5s)\n",
    "plotter5x5s = BoardPlotter(puzzle5x5s)\n",
    "\n",
    "board5x5s.fill_all(solution5x5s)\n",
    "plotter5x5s.show(board5x5s)"
   ]
  },
  {
   "cell_type": "markdown",
   "metadata": {},
   "source": [
    "# 5. Wrap up"
   ]
  },
  {
   "cell_type": "markdown",
   "metadata": {},
   "source": [
    "We have learned\n",
    "- groupby\n",
    "\n",
    "The class and solutions are saved in episode04.py.\n"
   ]
  },
  {
   "cell_type": "markdown",
   "metadata": {},
   "source": [
    "## 5.1. Quick test of saved classes"
   ]
  },
  {
   "cell_type": "code",
   "execution_count": 31,
   "metadata": {},
   "outputs": [],
   "source": [
    "# reset all variables from tests\n",
    "%reset -f"
   ]
  },
  {
   "cell_type": "code",
   "execution_count": 32,
   "metadata": {},
   "outputs": [],
   "source": [
    "from episode01.samples import clues2x2, clues5x5s, solution2x2, solution5x5s \n",
    "from episode02.gameengine import GameEngine\n",
    "from episode03b.puzzle import Puzzle\n",
    "from episode03b.board import Board, BoardMark\n",
    "from episode03b.boardplotter import BoardPlotter"
   ]
  },
  {
   "cell_type": "code",
   "execution_count": 33,
   "metadata": {},
   "outputs": [
    {
     "data": {
      "image/png": "[encoded data removed]",
      "text/plain": [
       "<Figure size 72x72 with 1 Axes>"
      ]
     },
     "metadata": {
      "needs_background": "light"
     },
     "output_type": "display_data"
    }
   ],
   "source": [
    "puzzle2x2 = Puzzle(clues2x2)\n",
    "assert puzzle2x2.is_consistent()\n",
    "\n",
    "board2x2 = Board(puzzle2x2)\n",
    "plotter2x2 = BoardPlotter(puzzle2x2)\n",
    "\n",
    "board2x2.mark(0, 0, BoardMark.BLACK) \n",
    "board2x2.mark(0, 1, BoardMark.FILLER) \n",
    "board2x2.mark(1, 0, BoardMark.BLACK) \n",
    "\n",
    "assert board2x2.count_empty() == 1\n",
    "plotter2x2.show(board2x2)"
   ]
  },
  {
   "cell_type": "code",
   "execution_count": 34,
   "metadata": {},
   "outputs": [
    {
     "name": "stdout",
     "output_type": "stream",
     "text": [
      "okay\n"
     ]
    }
   ],
   "source": [
    "print('okay')"
   ]
  }
 ],
 "metadata": {
  "kernelspec": {
   "display_name": "Python 3 (ipykernel)",
   "language": "python",
   "name": "python3"
  },
  "language_info": {
   "codemirror_mode": {
    "name": "ipython",
    "version": 3
   },
   "file_extension": ".py",
   "mimetype": "text/x-python",
   "name": "python",
   "nbconvert_exporter": "python",
   "pygments_lexer": "ipython3",
   "version": "3.8.13"
  }
 },
 "nbformat": 4,
 "nbformat_minor": 2
}
