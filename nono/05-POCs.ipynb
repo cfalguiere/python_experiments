{
 "cells": [
  {
   "cell_type": "markdown",
   "id": "48f663e3",
   "metadata": {},
   "source": [
    "# Episode 04: Proof of concepts"
   ]
  },
  {
   "cell_type": "markdown",
   "id": "dfc21196",
   "metadata": {},
   "source": [
    "TODO\n",
    "\n",
    "**Goals for this episode:**\n",
    "- Try to solve the puzzle with the board defined in Episode 01\n",
    "- List potential strategies or heuristics"
   ]
  },
  {
   "cell_type": "markdown",
   "id": "73beb542",
   "metadata": {},
   "source": [
    "Now we have a board, we can test some ways to solve the puzzle."
   ]
  },
  {
   "cell_type": "markdown",
   "id": "a5e68010",
   "metadata": {},
   "source": [
    "Lets's say that the solution is known.\n",
    "\n",
    "I can ilplement a trial and error process."
   ]
  },
  {
   "cell_type": "markdown",
   "id": "bc8de0ae",
   "metadata": {},
   "source": [
    "# 1. TODO"
   ]
  },
  {
   "cell_type": "code",
   "execution_count": 1,
   "id": "6288a729",
   "metadata": {},
   "outputs": [],
   "source": [
    "from episode04 import clues2x2, solution2x2, clues5x5s, solution5x5s\n",
    "from episode04 import Puzzle, Board, BoardMark, GameEngine"
   ]
  },
  {
   "cell_type": "markdown",
   "id": "70e2fbbf",
   "metadata": {},
   "source": [
    "# 2. Try-and-error process\n",
    "\n",
    "Having an idea from scratch is difficult.\n",
    "\n",
    "The contract with the platyer for Nonograms is that they always have 1 solution. Let's say we know that there is a solution. We can try different values for each cell until the board is solved.\n",
    "\n",
    "Even if this process is probably not what we want, it will help undestand what we need to solve the puzzle. \n",
    "\n",
    "In addition, it make sense in AI. Some algorithms, especially in Reinforcement Learning, work by learning from try-and-error process. They are given the goal to keep errors to a minimulm."
   ]
  },
  {
   "cell_type": "markdown",
   "id": "35053c1a",
   "metadata": {},
   "source": [
    "What could be the try-and-error process ?\n",
    "\n",
    "For each cell, I know that it could be black or filler. \n",
    "\n",
    "We need some game engine to decide whether the action is valid or not according to be solution it knows already. "
   ]
  },
  {
   "cell_type": "markdown",
   "id": "5e1c79ee",
   "metadata": {},
   "source": [
    "## 2.1. Game engine"
   ]
  },
  {
   "cell_type": "markdown",
   "id": "2be961e5",
   "metadata": {},
   "source": [
    "Now, let's loop over the problem space"
   ]
  },
  {
   "cell_type": "markdown",
   "id": "6103e6df",
   "metadata": {},
   "source": [
    "## 2.2. Experiments"
   ]
  },
  {
   "cell_type": "code",
   "execution_count": 2,
   "id": "ec1e667f",
   "metadata": {},
   "outputs": [
    {
     "data": {
      "image/png": "[encoded data removed]",
      "text/plain": [
       "<Figure size 72x72 with 1 Axes>"
      ]
     },
     "metadata": {
      "needs_background": "light"
     },
     "output_type": "display_data"
    },
    {
     "name": "stdout",
     "output_type": "stream",
     "text": [
      "error_count:1\n"
     ]
    }
   ],
   "source": [
    "# create the game engine\n",
    "puzzle2x2 = Puzzle(clues2x2)\n",
    "game2x2 = GameEngine(puzzle2x2, solution2x2)\n",
    "board2x2 = game2x2.board\n",
    "\n",
    "error_count = 0\n",
    "for row in range(board2x2.height):\n",
    "    for col in range(board2x2.width):\n",
    "        if game2x2.is_action_valid(row, col, BoardMark.BLACK):\n",
    "            board2x2.mark(row, col, BoardMark.BLACK)\n",
    "        else: \n",
    "            error_count += 1\n",
    "            board2x2.mark(row, col, BoardMark.FILLER)\n",
    "\n",
    "game2x2.show_board()\n",
    "print(f\"error_count:{error_count}\")"
   ]
  },
  {
   "cell_type": "markdown",
   "id": "7c1c1025",
   "metadata": {},
   "source": [
    "Voila!\n",
    "\n",
    "I agree that this algorithm is pretty dump. The percentage of errors goes up very rapidly and exceed what the game will accept (usually 3 errors). On the 5x5 board it took 11 errors to solve 25 cells."
   ]
  },
  {
   "cell_type": "code",
   "execution_count": 3,
   "id": "4af0435d",
   "metadata": {},
   "outputs": [
    {
     "data": {
      "image/png": "[encoded data removed]",
      "text/plain": [
       "<Figure size 144x144 with 1 Axes>"
      ]
     },
     "metadata": {
      "needs_background": "light"
     },
     "output_type": "display_data"
    },
    {
     "name": "stdout",
     "output_type": "stream",
     "text": [
      "error_count:11\n"
     ]
    }
   ],
   "source": [
    "# create the game engine\n",
    "puzzle5x5s = Puzzle(clues5x5s)\n",
    "game5x5s = GameEngine(puzzle5x5s, solution5x5s)\n",
    "board5x5s = game5x5s.board\n",
    "\n",
    "error_count = 0\n",
    "for row in range(board5x5s.height):\n",
    "    for col in range(board5x5s.width):\n",
    "        if game5x5s.is_action_valid(row, col, BoardMark.BLACK):\n",
    "            board5x5s.mark(row, col, BoardMark.BLACK)\n",
    "        else: \n",
    "            error_count += 1\n",
    "            board5x5s.mark(row, col, BoardMark.FILLER)\n",
    "\n",
    "game5x5s.show_board()\n",
    "print(f\"error_count:{error_count}\")"
   ]
  },
  {
   "cell_type": "markdown",
   "id": "5de4153d",
   "metadata": {},
   "source": [
    "TODO facgor error count - and try"
   ]
  },
  {
   "cell_type": "markdown",
   "id": "2a009cc1",
   "metadata": {},
   "source": [
    "# 2.3  Wrap up\n",
    "\n",
    "What works:\n",
    "- it is really simple to design and implement\n",
    "- no computation, no headache with split blocks\n",
    "\n",
    "Limitation:\n",
    "- requires that the solution is known beforehand\n",
    "- roughly 50% error rate. It depends on the proportion of blacks and fillers,  and whether blacks or fillers are checked for validity"
   ]
  },
  {
   "cell_type": "markdown",
   "id": "d672a191",
   "metadata": {},
   "source": [
    "# 3. Brute Force\n",
    "\n",
    "The idea behind brute force is to generate all possible options and then check which one is vaid.\n",
    "\n",
    "Unlike try-and-error the validation will take place on the whole board. We do not need to know the solution beforehand. The engine can compute the clues from the board and check whether the board holds or breaks the clues."
   ]
  },
  {
   "cell_type": "markdown",
   "id": "e7155192",
   "metadata": {},
   "source": [
    "## 3.1. Experiment on 2x2"
   ]
  },
  {
   "cell_type": "markdown",
   "id": "bb5446b1",
   "metadata": {},
   "source": [
    "The first steo is to list all possible options for the oard.\n",
    "\n",
    "The board is a list of 0 and 1. From the clues we know the number of black cells. It is the sum of all clues.\n",
    "\n",
    "All possible boards are permutations of this black cells over the cells of the board. If I have [1,0] all permutations are [1,0] and [0,1]"
   ]
  },
  {
   "cell_type": "code",
   "execution_count": 4,
   "id": "33528ce7",
   "metadata": {},
   "outputs": [],
   "source": [
    "# create the game engine\n",
    "puzzle2x2 = Puzzle(clues2x2)\n",
    "game2x2 = GameEngine(puzzle2x2, solution2x2)\n",
    "board2x2 = game2x2.board"
   ]
  },
  {
   "cell_type": "code",
   "execution_count": 5,
   "id": "13cf76ab",
   "metadata": {},
   "outputs": [
    {
     "data": {
      "text/plain": [
       "[1, 1, 1, 0]"
      ]
     },
     "execution_count": 5,
     "metadata": {},
     "output_type": "execute_result"
    }
   ],
   "source": [
    "from itertools import repeat, chain, tee\n",
    "# 3 blacks\n",
    "black_iterator = repeat(BoardMark.BLACK.value, puzzle2x2.required_blacks_count) \n",
    "# 1 filler\n",
    "fillers_count = puzzle2x2.cells_count - puzzle2x2.required_blacks_count\n",
    "filler_iterator = repeat(BoardMark.FILLER.value, fillers_count) \n",
    "# chain concatenate both iterators\n",
    "# tee -is used for debugging, it duplicates the iterator which can be consummed only once\n",
    "initial_states_iterator, debug_iterator = tee(chain(black_iterator, filler_iterator))\n",
    "# show the value for debugging\n",
    "list(debug_iterator)"
   ]
  },
  {
   "cell_type": "code",
   "execution_count": 6,
   "id": "af92d6ad",
   "metadata": {},
   "outputs": [
    {
     "data": {
      "text/plain": [
       "[(1, 1, 1, 0),\n",
       " (1, 1, 0, 1),\n",
       " (1, 1, 1, 0),\n",
       " (1, 1, 0, 1),\n",
       " (1, 0, 1, 1),\n",
       " (1, 0, 1, 1),\n",
       " (1, 1, 1, 0),\n",
       " (1, 1, 0, 1),\n",
       " (1, 1, 1, 0),\n",
       " (1, 1, 0, 1),\n",
       " (1, 0, 1, 1),\n",
       " (1, 0, 1, 1),\n",
       " (1, 1, 1, 0),\n",
       " (1, 1, 0, 1),\n",
       " (1, 1, 1, 0),\n",
       " (1, 1, 0, 1),\n",
       " (1, 0, 1, 1),\n",
       " (1, 0, 1, 1),\n",
       " (0, 1, 1, 1),\n",
       " (0, 1, 1, 1),\n",
       " (0, 1, 1, 1),\n",
       " (0, 1, 1, 1),\n",
       " (0, 1, 1, 1),\n",
       " (0, 1, 1, 1)]"
      ]
     },
     "execution_count": 6,
     "metadata": {},
     "output_type": "execute_result"
    }
   ],
   "source": [
    "from itertools import permutations\n",
    "# generate permutations \n",
    "permutations_iterator, debug_iterator = tee(permutations(initial_states_iterator))\n",
    "list(debug_iterator)\n",
    "# there are 16 because permutation switch elements of the list and not values\n",
    "# it does not take care that 1 occurs many times"
   ]
  },
  {
   "cell_type": "code",
   "execution_count": 7,
   "id": "46c272d5",
   "metadata": {},
   "outputs": [
    {
     "name": "stdout",
     "output_type": "stream",
     "text": [
      "option:(1, 1, 0, 1)\n",
      "option:(1, 1, 1, 0)\n",
      "option:(0, 1, 1, 1)\n",
      "option:(1, 0, 1, 1)\n",
      "valid:(1, 0, 1, 1)\n"
     ]
    }
   ],
   "source": [
    "import numpy as np\n",
    "\n",
    "# set avoids duplicates generated by permutations\n",
    "for o in set(permutations_iterator):\n",
    "    print(f\"option:{o}\")\n",
    "    # select valid options\n",
    "    if game2x2.is_expected_solution(list(o)): # option is a tuple () not a lust\n",
    "        print(f\"valid:{o}\")\n",
    "        board2x2.fill_all(o)"
   ]
  },
  {
   "cell_type": "code",
   "execution_count": 8,
   "id": "c2eef29c",
   "metadata": {},
   "outputs": [
    {
     "data": {
      "image/png": "[encoded data removed]",
      "text/plain": [
       "<Figure size 72x72 with 1 Axes>"
      ]
     },
     "metadata": {
      "needs_background": "light"
     },
     "output_type": "display_data"
    }
   ],
   "source": [
    "game2x2.show_board()"
   ]
  },
  {
   "cell_type": "markdown",
   "id": "c7653d1e",
   "metadata": {},
   "source": [
    "## 3.2. Experiment on 2x2 - Alternative implementation"
   ]
  },
  {
   "cell_type": "markdown",
   "id": "b1884bf7",
   "metadata": {},
   "source": [
    "Another way of analysing this problem is to get all possible indexs of black cells instead of all possible boards.\n",
    "\n",
    "Let's say there is a jar with numbers from 0 to 3. These are possible positions of a cell in the board. I want to draw 3 numbers from the jar. This is named combination."
   ]
  },
  {
   "cell_type": "code",
   "execution_count": 9,
   "id": "52c7846e",
   "metadata": {},
   "outputs": [],
   "source": [
    "# create the game engine\n",
    "puzzle2x2 = Puzzle(clues2x2)\n",
    "game2x2 = GameEngine(puzzle2x2, solution2x2)\n",
    "board2x2 = game2x2.board"
   ]
  },
  {
   "cell_type": "code",
   "execution_count": 10,
   "id": "0f6f0f3e",
   "metadata": {},
   "outputs": [
    {
     "data": {
      "text/plain": [
       "[(0, 1, 2), (0, 1, 3), (0, 2, 3), (1, 2, 3)]"
      ]
     },
     "execution_count": 10,
     "metadata": {},
     "output_type": "execute_result"
    }
   ],
   "source": [
    "from itertools import combinations, tee\n",
    "# want to get 3 positions in a range 0 - 4 where 4 is the number of cells\n",
    "# we want each position to be unique thus no replacement\n",
    "values = range(puzzle2x2.cells_count)\n",
    "nb_drawn = puzzle2x2.required_blacks_count\n",
    "temp_combinations_iterator = combinations(values, nb_drawn) \n",
    "combinations_iterator, debug_iterator = tee(temp_combinations_iterator)\n",
    "list(debug_iterator)"
   ]
  },
  {
   "cell_type": "code",
   "execution_count": 11,
   "id": "b9e39ba3",
   "metadata": {},
   "outputs": [
    {
     "name": "stdout",
     "output_type": "stream",
     "text": [
      "option:(0, 1, 2)\n",
      "option:(0, 1, 3)\n",
      "option:(0, 2, 3)\n",
      "valid:[1 0 1 1]\n",
      "option:(1, 2, 3)\n"
     ]
    }
   ],
   "source": [
    "import numpy as np\n",
    "\n",
    "for option in combinations_iterator:\n",
    "    print(f\"option:{option}\")\n",
    "    # compute the board state\n",
    "    # put black at each position in combinations_iterator and fillers elsewhere\n",
    "    states = np.full(puzzle2x2.cells_count, BoardMark.FILLER.value, dtype=int)\n",
    "    # put black at each position in combinations_iterator and fillers elsewhere\n",
    "    for pos in option:\n",
    "        states.flat[pos] = BoardMark.BLACK.value\n",
    "    \n",
    "    # select valid options\n",
    "    if game2x2.is_expected_solution(states.tolist()): \n",
    "        print(f\"valid:{states}\")\n",
    "        # batch update the board flattent to 1D\n",
    "        board2x2.fill_all(states)"
   ]
  },
  {
   "cell_type": "code",
   "execution_count": 12,
   "id": "e299b07a",
   "metadata": {},
   "outputs": [
    {
     "data": {
      "image/png": "[encoded data removed]",
      "text/plain": [
       "<Figure size 72x72 with 1 Axes>"
      ]
     },
     "metadata": {
      "needs_background": "light"
     },
     "output_type": "display_data"
    }
   ],
   "source": [
    "game2x2.show_board()"
   ]
  },
  {
   "cell_type": "markdown",
   "id": "fec4e2eb",
   "metadata": {},
   "source": [
    "## 3.3. Wrap up\n",
    "\n",
    "What works:\n",
    "- it is simple to design and implement\n",
    "- no computation, no headache with split blocks\n",
    "\n",
    "Limitation:\n",
    "- number of options  increase rapidly with the size of the board. \n",
    "\n",
    "In addition all these options will have to be checked for validity. We used known solutions here  because they are available but in a real use case we would evaluate whether the option match the clues for each option.\n",
    "\n",
    "The number of options increases lower with implementation 2 because the problem space is smaller. It is the number of blacks instead of the number of cells (blacks are usually around 50% of cells). However it increases rapidly."
   ]
  },
  {
   "cell_type": "code",
   "execution_count": 13,
   "id": "01863972",
   "metadata": {},
   "outputs": [],
   "source": [
    "from itertools import combinations"
   ]
  },
  {
   "cell_type": "code",
   "execution_count": 14,
   "id": "19cf061d",
   "metadata": {},
   "outputs": [
    {
     "name": "stdout",
     "output_type": "stream",
     "text": [
      "CPU times: user 2 µs, sys: 0 ns, total: 2 µs\n",
      "Wall time: 4.77 µs\n"
     ]
    },
    {
     "data": {
      "text/plain": [
       "126"
      ]
     },
     "execution_count": 14,
     "metadata": {},
     "output_type": "execute_result"
    }
   ],
   "source": [
    "%time\n",
    "from itertools import combinations\n",
    "black_count = 4\n",
    "cells_count = 9\n",
    "combinations_iterator = combinations(range(cells_count), black_count)\n",
    "len(list(combinations_iterator))"
   ]
  },
  {
   "cell_type": "code",
   "execution_count": 15,
   "id": "768d5a8f",
   "metadata": {},
   "outputs": [
    {
     "name": "stdout",
     "output_type": "stream",
     "text": [
      "CPU times: user 2 µs, sys: 1 µs, total: 3 µs\n",
      "Wall time: 3.81 µs\n"
     ]
    },
    {
     "data": {
      "text/plain": [
       "11440"
      ]
     },
     "execution_count": 15,
     "metadata": {},
     "output_type": "execute_result"
    }
   ],
   "source": [
    "%time\n",
    "black_count = 7\n",
    "cells_count = 16\n",
    "combinations_iterator = combinations(range(cells_count), black_count)\n",
    "len(list(combinations_iterator))"
   ]
  },
  {
   "cell_type": "code",
   "execution_count": 16,
   "id": "0fdf520f",
   "metadata": {},
   "outputs": [
    {
     "name": "stdout",
     "output_type": "stream",
     "text": [
      "CPU times: user 2 µs, sys: 0 ns, total: 2 µs\n",
      "Wall time: 5.25 µs\n"
     ]
    },
    {
     "data": {
      "text/plain": [
       "4457400"
      ]
     },
     "execution_count": 16,
     "metadata": {},
     "output_type": "execute_result"
    }
   ],
   "source": [
    "%time\n",
    "black_count = 14\n",
    "cells_count = 25\n",
    "combinations_iterator = combinations(range(cells_count), black_count)\n",
    "len(list(combinations_iterator))"
   ]
  },
  {
   "cell_type": "markdown",
   "id": "ea52e1f4",
   "metadata": {},
   "source": [
    "# 4. Programming with constraints\n",
    "\n",
    "TODO\n",
    "\n",
    "Explain the problem as it is defined by the rules.\n",
    "\n",
    "The engine will compute the combination that satisfies the constraines\n",
    "\n",
    " https://pypi.org/project/python-constraint/\n",
    " \n",
    " Alternative (TODO)"
   ]
  },
  {
   "cell_type": "code",
   "execution_count": 17,
   "id": "b2ab17a6",
   "metadata": {},
   "outputs": [
    {
     "name": "stdout",
     "output_type": "stream",
     "text": [
      "Requirement already satisfied: python-constraint in /Users/cfalguiere/opt/anaconda3/lib/python3.9/site-packages (1.4.0)\r\n"
     ]
    }
   ],
   "source": [
    "! pip install python-constraint"
   ]
  },
  {
   "cell_type": "code",
   "execution_count": 18,
   "id": "6d2dd435",
   "metadata": {},
   "outputs": [],
   "source": [
    "from constraint  import *"
   ]
  },
  {
   "cell_type": "markdown",
   "id": "92d26559",
   "metadata": {},
   "source": [
    "## 4.1. Basic example from the tutorial"
   ]
  },
  {
   "cell_type": "code",
   "execution_count": 19,
   "id": "ecc89628",
   "metadata": {},
   "outputs": [
    {
     "data": {
      "text/plain": [
       "[{'a': 3, 'b': 6},\n",
       " {'a': 3, 'b': 5},\n",
       " {'a': 3, 'b': 4},\n",
       " {'a': 2, 'b': 6},\n",
       " {'a': 2, 'b': 5},\n",
       " {'a': 2, 'b': 4},\n",
       " {'a': 1, 'b': 6},\n",
       " {'a': 1, 'b': 5},\n",
       " {'a': 1, 'b': 4}]"
      ]
     },
     "execution_count": 19,
     "metadata": {},
     "output_type": "execute_result"
    }
   ],
   "source": [
    "problem = Problem()\n",
    "problem.addVariable(\"a\", [1,2,3])\n",
    "problem.addVariable(\"b\", [4,5,6])\n",
    "problem.getSolutions()"
   ]
  },
  {
   "cell_type": "markdown",
   "id": "27837653",
   "metadata": {},
   "source": [
    "Without constraints it does a cartesian product\n",
    "\n",
    "The constraint force to filter only pairs where b is twice a "
   ]
  },
  {
   "cell_type": "code",
   "execution_count": 20,
   "id": "02ed8db5",
   "metadata": {},
   "outputs": [
    {
     "data": {
      "text/plain": [
       "[{'a': 3, 'b': 6}, {'a': 2, 'b': 4}]"
      ]
     },
     "execution_count": 20,
     "metadata": {},
     "output_type": "execute_result"
    }
   ],
   "source": [
    "problem.addConstraint(lambda a, b: a*2 == b,\n",
    "                          (\"a\", \"b\"))\n",
    "problem.getSolutions()"
   ]
  },
  {
   "cell_type": "markdown",
   "id": "c3323614",
   "metadata": {},
   "source": [
    "## 4.2. Apply to the monogram problem"
   ]
  },
  {
   "cell_type": "code",
   "execution_count": 21,
   "id": "53e7e7a8",
   "metadata": {},
   "outputs": [],
   "source": [
    "# create the game engine\n",
    "puzzle2x2 = Puzzle(clues2x2)\n",
    "game2x2 = GameEngine(puzzle2x2, solution2x2)\n",
    "board2x2 = game2x2.board"
   ]
  },
  {
   "cell_type": "code",
   "execution_count": 22,
   "id": "933244d5",
   "metadata": {},
   "outputs": [
    {
     "data": {
      "text/plain": [
       "[{'r0c0': 1, 'r0c1': 1, 'r1c0': 1, 'r1c1': 1},\n",
       " {'r0c0': 1, 'r0c1': 1, 'r1c0': 1, 'r1c1': 0},\n",
       " {'r0c0': 1, 'r0c1': 1, 'r1c0': 0, 'r1c1': 1},\n",
       " {'r0c0': 1, 'r0c1': 1, 'r1c0': 0, 'r1c1': 0},\n",
       " {'r0c0': 1, 'r0c1': 0, 'r1c0': 1, 'r1c1': 1},\n",
       " {'r0c0': 1, 'r0c1': 0, 'r1c0': 1, 'r1c1': 0},\n",
       " {'r0c0': 1, 'r0c1': 0, 'r1c0': 0, 'r1c1': 1},\n",
       " {'r0c0': 1, 'r0c1': 0, 'r1c0': 0, 'r1c1': 0},\n",
       " {'r0c0': 0, 'r0c1': 1, 'r1c0': 1, 'r1c1': 1},\n",
       " {'r0c0': 0, 'r0c1': 1, 'r1c0': 1, 'r1c1': 0},\n",
       " {'r0c0': 0, 'r0c1': 1, 'r1c0': 0, 'r1c1': 1},\n",
       " {'r0c0': 0, 'r0c1': 1, 'r1c0': 0, 'r1c1': 0},\n",
       " {'r0c0': 0, 'r0c1': 0, 'r1c0': 1, 'r1c1': 1},\n",
       " {'r0c0': 0, 'r0c1': 0, 'r1c0': 1, 'r1c1': 0},\n",
       " {'r0c0': 0, 'r0c1': 0, 'r1c0': 0, 'r1c1': 1},\n",
       " {'r0c0': 0, 'r0c1': 0, 'r1c0': 0, 'r1c1': 0}]"
      ]
     },
     "execution_count": 22,
     "metadata": {},
     "output_type": "execute_result"
    }
   ],
   "source": [
    "# let first write some static rules\n",
    "problem = Problem()\n",
    "\n",
    "# create a variable for each cell\n",
    "# name is rNcM where N is the row number and M the col number\n",
    "# are all in range 0-1\n",
    "problem.addVariable(\"r0c0\", [0,1])\n",
    "problem.addVariable(\"r0c1\", [0,1])\n",
    "problem.addVariable(\"r1c0\", [0,1])\n",
    "problem.addVariable(\"r1c1\", [0,1])\n",
    "problem.getSolutions()"
   ]
  },
  {
   "cell_type": "code",
   "execution_count": 23,
   "id": "224114ff",
   "metadata": {},
   "outputs": [
    {
     "data": {
      "text/plain": [
       "[{'r0c0': 1, 'r0c1': 0, 'r1c0': 1, 'r1c1': 1}]"
      ]
     },
     "execution_count": 23,
     "metadata": {},
     "output_type": "execute_result"
    }
   ],
   "source": [
    "# express the clues contraints in a static way\n",
    "# last parameter is the given variables. They match the lambda vars.\n",
    "# contraints on rows\n",
    "problem.addConstraint(lambda c0, c1: c0+c1 == 1,\n",
    "                          (\"r0c0\", \"r0c1\"))\n",
    "problem.addConstraint(lambda c0, c1: c0+c1 == 2,\n",
    "                          (\"r1c0\", \"r1c1\"))\n",
    "# contraints on cols\n",
    "problem.addConstraint(lambda r0, r1: r0+r1 == 2,\n",
    "                          (\"r0c0\", \"r1c0\"))\n",
    "problem.addConstraint(lambda r0, r1: r0+r1 == 1,\n",
    "                          (\"r0c1\", \"r1c1\"))\n",
    "solutions = problem.getSolutions()\n",
    "solutions"
   ]
  },
  {
   "cell_type": "code",
   "execution_count": 24,
   "id": "8d88b28b",
   "metadata": {},
   "outputs": [
    {
     "data": {
      "image/png": "[encoded data removed]",
      "text/plain": [
       "<Figure size 72x72 with 1 Axes>"
      ]
     },
     "metadata": {
      "needs_background": "light"
     },
     "output_type": "display_data"
    },
    {
     "data": {
      "text/plain": [
       "True"
      ]
     },
     "execution_count": 24,
     "metadata": {},
     "output_type": "execute_result"
    }
   ],
   "source": [
    "# mark expect an enum, thus set cell directly\n",
    "board2x2.states[0,0] = solutions[0]['r0c0']\n",
    "board2x2.states[0,1] = solutions[0]['r0c1']\n",
    "board2x2.states[1,0] = solutions[0]['r1c0']\n",
    "board2x2.states[1,1] = solutions[0]['r1c1']\n",
    "\n",
    "game2x2.show_board()\n",
    "game2x2.is_solved()\n"
   ]
  },
  {
   "cell_type": "markdown",
   "id": "4ab01a8f",
   "metadata": {},
   "source": [
    "## 4.TBD. Wrap up"
   ]
  },
  {
   "cell_type": "markdown",
   "id": "dc8197fe",
   "metadata": {},
   "source": [
    "What works:\n",
    "- problem is expressed clearly\n",
    "- documentation in clean, albeit it took lme a while to understand what is going on with variables in the tutorial\n",
    "\n",
    "Limitation:\n",
    "- As it ssems to compute all the combinations, it may run into the same limitations than brute foree. To be tested.\n",
    "\n",
    "Generalisation to any size with be challenge. It is tricky to implement rules based on an array. \n",
    "\n",
    "Have to deal with each variable\n",
    "- generate names \n",
    "- or use range to name variable. Then rules are cyptic which is not the goal with this framework.\n",
    "\n",
    "Will have to work on how to express the rules for split block. Need some extra rules like there ust be a filler of size at least one between blocks"
   ]
  },
  {
   "cell_type": "markdown",
   "id": "83cff3a0",
   "metadata": {},
   "source": [
    "- Ideation: 30mn\n",
    "- Design: 1h - feature out how to manage variables for board\n",
    "- Implementation: 2h - generic represeentation of rules - for whole POC - 5-6h"
   ]
  },
  {
   "cell_type": "markdown",
   "id": "829af9ae",
   "metadata": {},
   "source": [
    "# 5. Dynamic programming\n",
    "\n",
    "TODO"
   ]
  },
  {
   "cell_type": "markdown",
   "id": "cdaea489",
   "metadata": {},
   "source": [
    "# 6. Probabilistic approach\n",
    "\n",
    "TODO"
   ]
  },
  {
   "cell_type": "markdown",
   "id": "351500f3",
   "metadata": {},
   "source": [
    "# 7. Mathematic approach\n",
    "\n",
    "simpy, sympy, cypy"
   ]
  },
  {
   "cell_type": "markdown",
   "id": "e9216cee",
   "metadata": {},
   "source": [
    "# 8. Genetic algorithm\n",
    "\n",
    "\"genetic algorithm (GA) is a metaheuristic inspired by the process of natural selection that belongs to the larger class of evolutionary algorithms (EA). Genetic algorithms are commonly used to generate high-quality solutions to optimization and search problems by relying on biologically inspired operators such as mutation, crossover and selection\" - Wikipedia"
   ]
  },
  {
   "cell_type": "markdown",
   "id": "524028b4",
   "metadata": {},
   "source": [
    "TODO how could it work here, explain a little bit the selection process"
   ]
  },
  {
   "cell_type": "markdown",
   "id": "5ca01018",
   "metadata": {},
   "source": [
    "https://pypi.org/project/geneticalgorithm/\n",
    "    \n",
    "geneticalgorithm is a Python library distributed on Pypi for implementing standard and elitist genetic-algorithm (GA). This package solves continuous, combinatorial and mixed optimization problems with continuous, discrete, and mixed variables. It provides an easy implementation of genetic-algorithm (GA) in Python."
   ]
  },
  {
   "cell_type": "markdown",
   "id": "45446099",
   "metadata": {},
   "source": [
    "We will use geneticalgorithm for this demonstration because it is more simple and fit this case. Plase not that there is also PyGAD"
   ]
  },
  {
   "cell_type": "markdown",
   "id": "d2456909",
   "metadata": {},
   "source": [
    "https://pygad.readthedocs.io/en/latest/\n",
    "\n",
    "PyGAD is an open-source Python library for building the genetic algorithm and optimizing machine learning algorithms. It works with Keras and PyTorch.\n",
    "\n",
    "PyGAD supports different types of crossover, mutation, and parent selection operators. PyGAD allows different types of problems to be optimized using the genetic algorithm by customizing the fitness function."
   ]
  },
  {
   "cell_type": "markdown",
   "id": "c82f8ad4",
   "metadata": {},
   "source": [
    "## 8.1. Example"
   ]
  },
  {
   "cell_type": "code",
   "execution_count": 25,
   "id": "901f0661",
   "metadata": {},
   "outputs": [
    {
     "name": "stdout",
     "output_type": "stream",
     "text": [
      "Requirement already satisfied: geneticalgorithm in /Users/cfalguiere/opt/anaconda3/lib/python3.9/site-packages (1.0.2)\n",
      "Requirement already satisfied: numpy in /Users/cfalguiere/opt/anaconda3/lib/python3.9/site-packages (from geneticalgorithm) (1.20.3)\n",
      "Requirement already satisfied: func-timeout in /Users/cfalguiere/opt/anaconda3/lib/python3.9/site-packages (from geneticalgorithm) (4.3.5)\n"
     ]
    }
   ],
   "source": [
    "! pip install geneticalgorithm"
   ]
  },
  {
   "cell_type": "markdown",
   "id": "81ba279b",
   "metadata": {},
   "source": [
    "Assume we want to find a set of X=(x1,x2,x3) that minimizes function f(X)=x1+x2+x3 where X can be any integer number in [0,10]."
   ]
  },
  {
   "cell_type": "code",
   "execution_count": 26,
   "id": "92abb10b",
   "metadata": {},
   "outputs": [
    {
     "name": "stdout",
     "output_type": "stream",
     "text": [
      " The best solution found:                                                                           \n",
      " [0. 0. 0.]\n",
      "\n",
      " Objective function:\n",
      " 0.0\n"
     ]
    },
    {
     "data": {
      "image/png": "[encoded data removed]",
      "text/plain": [
       "<Figure size 432x288 with 1 Axes>"
      ]
     },
     "metadata": {
      "needs_background": "light"
     },
     "output_type": "display_data"
    }
   ],
   "source": [
    "import numpy as np\n",
    "from geneticalgorithm import geneticalgorithm as ga\n",
    "\n",
    "def f(X):\n",
    "    return np.sum(X)\n",
    "\n",
    "\n",
    "varbound=np.array([[0,10]]*3)\n",
    "\n",
    "model=ga(function=f,dimension=3,variable_type='int',variable_boundaries=varbound)\n",
    "\n",
    "model.run()\n"
   ]
  },
  {
   "cell_type": "markdown",
   "id": "25a524a4",
   "metadata": {},
   "source": [
    "In a nonogram 2x2 we want to find a set of X=(x1,x2,x3,x4) that minimizes an error function f(X)=x1+x2+x3 where X can be any integer number in [0,1].\n",
    "The error function compute the deviation from the clues."
   ]
  },
  {
   "cell_type": "markdown",
   "id": "22cc6830",
   "metadata": {},
   "source": [
    "## 8.2. Proof of concept on 2x2"
   ]
  },
  {
   "cell_type": "code",
   "execution_count": 27,
   "id": "341faeee",
   "metadata": {},
   "outputs": [],
   "source": [
    "# create the game engine\n",
    "puzzle2x2 = Puzzle(clues2x2)\n",
    "game2x2 = GameEngine(puzzle2x2, solution2x2)\n",
    "board2x2 = game2x2.board"
   ]
  },
  {
   "cell_type": "markdown",
   "id": "c516ffc9",
   "metadata": {},
   "source": [
    "to make it simple we will use the overall sum. The real function should compare col/row sums on X with clues"
   ]
  },
  {
   "cell_type": "code",
   "execution_count": 28,
   "id": "19ace189",
   "metadata": {},
   "outputs": [
    {
     "name": "stdout",
     "output_type": "stream",
     "text": [
      " The best solution found:                                                                           \n",
      " [0. 1. 1. 1.]\n",
      "\n",
      " Objective function:\n",
      " 0.0\n"
     ]
    },
    {
     "data": {
      "image/png": "[encoded data removed]",
      "text/plain": [
       "<Figure size 432x288 with 1 Axes>"
      ]
     },
     "metadata": {
      "needs_background": "light"
     },
     "output_type": "display_data"
    }
   ],
   "source": [
    "import numpy as np\n",
    "from geneticalgorithm import geneticalgorithm as ga\n",
    "\n",
    "def f(X):\n",
    "    return abs(np.sum(X) - puzzle2x2.required_blacks_count)\n",
    "\n",
    "\n",
    "varbound=np.array([[0,1]]*puzzle2x2.cells_count)\n",
    "\n",
    "model=ga(function=f, \n",
    "         dimension=puzzle2x2.cells_count, \n",
    "         variable_type='int',\n",
    "         variable_boundaries=varbound)\n",
    "\n",
    "model.run()"
   ]
  },
  {
   "cell_type": "code",
   "execution_count": 29,
   "id": "0ec1a00a",
   "metadata": {},
   "outputs": [
    {
     "data": {
      "text/plain": [
       "{'variable': array([0., 1., 1., 1.]), 'function': 0.0}"
      ]
     },
     "execution_count": 29,
     "metadata": {},
     "output_type": "execute_result"
    }
   ],
   "source": [
    "solution=model.output_dict\n",
    "solution"
   ]
  },
  {
   "cell_type": "markdown",
   "id": "09cab90d",
   "metadata": {},
   "source": [
    "Please note that it found any array with three 1 and one 0. This is caused by the error function being too loose.\n",
    "In the dict\n",
    "- variable contains the optimized output\n",
    "- function is the residual error after the model ran"
   ]
  },
  {
   "cell_type": "code",
   "execution_count": 30,
   "id": "430e4619",
   "metadata": {},
   "outputs": [
    {
     "data": {
      "image/png": "[encoded data removed]",
      "text/plain": [
       "<Figure size 72x72 with 1 Axes>"
      ]
     },
     "metadata": {
      "needs_background": "light"
     },
     "output_type": "display_data"
    }
   ],
   "source": [
    "board2x2.fill_all(solution['variable'].tolist())\n",
    "game2x2.show_board()"
   ]
  },
  {
   "cell_type": "markdown",
   "id": "b448cac6",
   "metadata": {},
   "source": [
    "## 8.3. Wrap up"
   ]
  },
  {
   "cell_type": "markdown",
   "id": "3e2251f6",
   "metadata": {},
   "source": [
    "What works:\n",
    "- it is simple to design and implement\n",
    "- pretty easy to use\n",
    "- it works on a numpy which will make it easy to compute rules\n",
    "\n",
    "Limitation:\n",
    "- May be overkill for this simple problem\n"
   ]
  },
  {
   "cell_type": "markdown",
   "id": "f18c1b15",
   "metadata": {},
   "source": [
    "This prrof of concept is \n",
    "\n",
    "Computations in the error function may use reshape and np.sum to cimpute sums on X. And then compare each sums to each clue in order to compute the abs error sum element by element. "
   ]
  },
  {
   "cell_type": "code",
   "execution_count": 31,
   "id": "5a0fc47b",
   "metadata": {},
   "outputs": [
    {
     "data": {
      "text/plain": [
       "array([[1, 0],\n",
       "       [1, 1]])"
      ]
     },
     "execution_count": 31,
     "metadata": {},
     "output_type": "execute_result"
    }
   ],
   "source": [
    "states = np.array([1, 0, 1, 1]).reshape(2,2)\n",
    "states"
   ]
  },
  {
   "cell_type": "code",
   "execution_count": 32,
   "id": "fd0cf348",
   "metadata": {},
   "outputs": [
    {
     "data": {
      "text/plain": [
       "array([2, 1])"
      ]
     },
     "execution_count": 32,
     "metadata": {},
     "output_type": "execute_result"
    }
   ],
   "source": [
    "states.sum(axis=0) # O col"
   ]
  },
  {
   "cell_type": "code",
   "execution_count": 33,
   "id": "ae08cebd",
   "metadata": {},
   "outputs": [
    {
     "data": {
      "text/plain": [
       "array([1, 2])"
      ]
     },
     "execution_count": 33,
     "metadata": {},
     "output_type": "execute_result"
    }
   ],
   "source": [
    "states.sum(axis=1) # 1 col"
   ]
  },
  {
   "cell_type": "markdown",
   "id": "eeb3ed18",
   "metadata": {},
   "source": [
    "- Ideation: 10mn\n",
    "- Design: 10mn - feature out that X is a numpty arry\n",
    "- Implementation: 20mn  - error function (but only sum up, not real rules, estimated to 1h)"
   ]
  },
  {
   "cell_type": "markdown",
   "id": "70d384a2",
   "metadata": {},
   "source": [
    "# 9. Machine Learning\n",
    "\n",
    "TODO"
   ]
  },
  {
   "cell_type": "markdown",
   "id": "4a28b930",
   "metadata": {},
   "source": [
    "# 10. Wrap up\n",
    "\n",
    "This quick exploration of ways of solving this problem show that we need some additional components :\n",
    "- a game engine which provides the try-and-error validation and the board validation \n",
    "- some operation thate were identified in episode 01: is the board completed, is the board valid\n",
    "- a puzzle class with some operations to transform the clues and compute black count and cels count\n",
    "- try-and-error and learning process will require something in between not done and done in order to improve on rewards:   number of cells completed/undefined, number of errors, number of valid celss\n"
   ]
  },
  {
   "cell_type": "code",
   "execution_count": null,
   "id": "5a75e4df",
   "metadata": {},
   "outputs": [],
   "source": []
  }
 ],
 "metadata": {
  "kernelspec": {
   "display_name": "Python 3 (ipykernel)",
   "language": "python",
   "name": "python3"
  },
  "language_info": {
   "codemirror_mode": {
    "name": "ipython",
    "version": 3
   },
   "file_extension": ".py",
   "mimetype": "text/x-python",
   "name": "python",
   "nbconvert_exporter": "python",
   "pygments_lexer": "ipython3",
   "version": "3.9.7"
  }
 },
 "nbformat": 4,
 "nbformat_minor": 5
}
