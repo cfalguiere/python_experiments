{
 "cells": [
  {
   "cell_type": "markdown",
   "id": "48f663e3",
   "metadata": {},
   "source": [
    "# Episode 04: Proof of concepts"
   ]
  },
  {
   "cell_type": "markdown",
   "id": "dfc21196",
   "metadata": {},
   "source": [
    "TODO\n",
    "\n",
    "**Goals for this episode:**\n",
    "- Try to solve the puzzle with the board defined in Episode 01\n",
    "- List potential strategies or heuristics"
   ]
  },
  {
   "cell_type": "markdown",
   "id": "73beb542",
   "metadata": {},
   "source": [
    "Now we have a board, we can test some ways to solve the puzzle."
   ]
  },
  {
   "cell_type": "markdown",
   "id": "a5e68010",
   "metadata": {},
   "source": [
    "Lets's say that the solution is known.\n",
    "\n",
    "I can ilplement a trial and error process."
   ]
  },
  {
   "cell_type": "markdown",
   "id": "f05890a5",
   "metadata": {},
   "source": [
    "# 1. Mimic manual process"
   ]
  },
  {
   "cell_type": "markdown",
   "id": "b8fb93df",
   "metadata": {},
   "source": [
    "## 1.1. Manually solve 2x2"
   ]
  },
  {
   "cell_type": "code",
   "execution_count": 3,
   "id": "c7f8c133",
   "metadata": {},
   "outputs": [],
   "source": [
    "from episode01 import clues2x2, BoardMark, Board"
   ]
  },
  {
   "cell_type": "code",
   "execution_count": 41,
   "id": "ada2aa72",
   "metadata": {},
   "outputs": [
    {
     "name": "stdout",
     "output_type": "stream",
     "text": [
      "cols: 2 1\n",
      "rows:\n",
      "1\n",
      "2\n",
      "[['.' '.']\n",
      " ['.' '.']]\n"
     ]
    }
   ],
   "source": [
    "board2x2 = Board(clues2x2)\n",
    "board2x2.prettyprint()"
   ]
  },
  {
   "cell_type": "code",
   "execution_count": 6,
   "id": "c1d616d7",
   "metadata": {},
   "outputs": [
    {
     "name": "stdout",
     "output_type": "stream",
     "text": [
      "{'rows': [1, 2], 'cols': [2, 1]}\n"
     ]
    }
   ],
   "source": [
    "print(clues2x2)"
   ]
  },
  {
   "cell_type": "code",
   "execution_count": 42,
   "id": "2e13b33e",
   "metadata": {},
   "outputs": [
    {
     "name": "stdout",
     "output_type": "stream",
     "text": [
      "cols: 2 1\n",
      "rows:\n",
      "1\n",
      "2\n",
      "[['o' '.']\n",
      " ['o' 'o']]\n"
     ]
    }
   ],
   "source": [
    "# because clues2x2['rows'][1] is 2 and width is 2, all cells of row 1 are black\n",
    "board2x2.states[1,:] = BoardMark.BLACK.value\n",
    "# because clues2x2['cols'][0] is 2 and height is 2, all cells of col 0 are black\n",
    "board2x2.states[:,0] = BoardMark.BLACK.value\n",
    "board2x2.prettyprint()"
   ]
  },
  {
   "cell_type": "code",
   "execution_count": 43,
   "id": "b5dd4556",
   "metadata": {},
   "outputs": [
    {
     "name": "stdout",
     "output_type": "stream",
     "text": [
      "cols: 2 1\n",
      "rows:\n",
      "1\n",
      "2\n",
      "[['o' 'x']\n",
      " ['o' 'o']]\n"
     ]
    }
   ],
   "source": [
    "# has there is already 1 black on the row and col, top right cell is a filler\n",
    "board2x2.states[0,1] = BoardMark.FILLER.value\n",
    "board2x2.prettyprint()"
   ]
  },
  {
   "cell_type": "markdown",
   "id": "9caad58c",
   "metadata": {},
   "source": [
    "Voila!\n",
    "\n",
    "Thus board is overly simple. Lat's try the 5 by 5 with splits."
   ]
  },
  {
   "cell_type": "markdown",
   "id": "3009a830",
   "metadata": {},
   "source": [
    "## 1.2. Manually solve 5x5 split"
   ]
  },
  {
   "cell_type": "code",
   "execution_count": 11,
   "id": "088b5226",
   "metadata": {},
   "outputs": [],
   "source": [
    "from episode01 import clues5x5s, BoardMark, Board"
   ]
  },
  {
   "cell_type": "code",
   "execution_count": 12,
   "id": "582429d1",
   "metadata": {},
   "outputs": [
    {
     "name": "stdout",
     "output_type": "stream",
     "text": [
      "cols: 1 4 [2, 2] 4 1\n",
      "rows:\n",
      "1\n",
      "3\n",
      "[1, 1]\n",
      "3\n",
      "5\n",
      "[['.' '.' '.' '.' '.']\n",
      " ['.' '.' '.' '.' '.']\n",
      " ['.' '.' '.' '.' '.']\n",
      " ['.' '.' '.' '.' '.']\n",
      " ['.' '.' '.' '.' '.']]\n"
     ]
    }
   ],
   "source": [
    "board5x5s = Board(clues5x5s)\n",
    "board5x5s.prettyprint()"
   ]
  },
  {
   "cell_type": "code",
   "execution_count": 13,
   "id": "fbbbe033",
   "metadata": {},
   "outputs": [
    {
     "name": "stdout",
     "output_type": "stream",
     "text": [
      "{'rows': [1, 3, [1, 1], 3, 5], 'cols': [1, 4, [2, 2], 4, 1]}\n"
     ]
    }
   ],
   "source": [
    "print(clues5x5s)"
   ]
  },
  {
   "cell_type": "code",
   "execution_count": 15,
   "id": "3940a0b7",
   "metadata": {},
   "outputs": [
    {
     "name": "stdout",
     "output_type": "stream",
     "text": [
      "cols: 1 4 [2, 2] 4 1\n",
      "rows:\n",
      "1\n",
      "3\n",
      "[1, 1]\n",
      "3\n",
      "5\n",
      "[['.' '.' '.' '.' '.']\n",
      " ['.' '.' '.' '.' '.']\n",
      " ['.' '.' '.' '.' '.']\n",
      " ['.' '.' '.' '.' '.']\n",
      " ['o' 'o' 'o' 'o' 'o']]\n"
     ]
    }
   ],
   "source": [
    "# because clues5x5s['rows'][4] is 5 and width is 5, all cells of row 4 are black\n",
    "board5x5s.states[4,:] = BoardMark.BLACK.value\n",
    "board5x5s.prettyprint()"
   ]
  },
  {
   "cell_type": "code",
   "execution_count": 16,
   "id": "9c14f916",
   "metadata": {},
   "outputs": [
    {
     "name": "stdout",
     "output_type": "stream",
     "text": [
      "cols: 1 4 [2, 2] 4 1\n",
      "rows:\n",
      "1\n",
      "3\n",
      "[1, 1]\n",
      "3\n",
      "5\n",
      "[['.' '.' 'o' '.' '.']\n",
      " ['.' '.' 'o' '.' '.']\n",
      " ['.' '.' 'x' '.' '.']\n",
      " ['.' '.' 'o' '.' '.']\n",
      " ['o' 'o' 'o' 'o' 'o']]\n"
     ]
    }
   ],
   "source": [
    "# because clues5x5s['cols'][2] is [2,2] and height is 5,\n",
    "# there must be a filler in row 2 and other cells are black\n",
    "board5x5s.states[:,2] = BoardMark.BLACK.value\n",
    "board5x5s.states[2,2] = BoardMark.FILLER.value\n",
    "board5x5s.prettyprint()"
   ]
  },
  {
   "cell_type": "code",
   "execution_count": 17,
   "id": "efcc851d",
   "metadata": {},
   "outputs": [
    {
     "name": "stdout",
     "output_type": "stream",
     "text": [
      "cols: 1 4 [2, 2] 4 1\n",
      "rows:\n",
      "1\n",
      "3\n",
      "[1, 1]\n",
      "3\n",
      "5\n",
      "[['.' 'x' 'o' 'x' '.']\n",
      " ['.' 'o' 'o' 'o' '.']\n",
      " ['.' 'o' 'x' 'o' '.']\n",
      " ['.' 'o' 'o' 'o' '.']\n",
      " ['o' 'o' 'o' 'o' 'o']]\n"
     ]
    }
   ],
   "source": [
    "# because clues5x5s['cols'][1] is 4 and there is a black in row 4\n",
    "# the contiguous block of black cells must span from row 1 to row 4\n",
    "# same for clues5x5s['cols'][3]\n",
    "board5x5s.states[:,1] = BoardMark.BLACK.value\n",
    "board5x5s.states[:,3] = BoardMark.BLACK.value\n",
    "board5x5s.states[0,1] = BoardMark.FILLER.value\n",
    "board5x5s.states[0,3] = BoardMark.FILLER.value\n",
    "board5x5s.prettyprint()"
   ]
  },
  {
   "cell_type": "code",
   "execution_count": 19,
   "id": "18bd606f",
   "metadata": {},
   "outputs": [
    {
     "name": "stdout",
     "output_type": "stream",
     "text": [
      "cols: 1 4 [2, 2] 4 1\n",
      "rows:\n",
      "1\n",
      "3\n",
      "[1, 1]\n",
      "3\n",
      "5\n",
      "[['.' 'x' 'o' 'x' '.']\n",
      " ['x' 'o' 'o' 'o' 'x']\n",
      " ['.' 'o' 'x' 'o' '.']\n",
      " ['x' 'o' 'o' 'o' 'x']\n",
      " ['o' 'o' 'o' 'o' 'o']]\n"
     ]
    }
   ],
   "source": [
    "# because clues5x5s['rows'][1] is 3 and 3 black are placed on the row\n",
    "# first and lasr cells mustrt be fillers\n",
    "# same for clues5x5s['rows'][4]\n",
    "board5x5s.states[1,0] = BoardMark.FILLER.value\n",
    "board5x5s.states[1,4] = BoardMark.FILLER.value\n",
    "board5x5s.states[3,0] = BoardMark.FILLER.value\n",
    "board5x5s.states[3,4] = BoardMark.FILLER.value\n",
    "board5x5s.prettyprint()"
   ]
  },
  {
   "cell_type": "code",
   "execution_count": 21,
   "id": "e8c0d611",
   "metadata": {},
   "outputs": [
    {
     "name": "stdout",
     "output_type": "stream",
     "text": [
      "cols: 1 4 [2, 2] 4 1\n",
      "rows:\n",
      "1\n",
      "3\n",
      "[1, 1]\n",
      "3\n",
      "5\n",
      "[['x' 'x' 'o' 'x' 'x']\n",
      " ['x' 'o' 'o' 'o' 'x']\n",
      " ['x' 'o' 'x' 'o' 'x']\n",
      " ['x' 'o' 'o' 'o' 'x']\n",
      " ['o' 'o' 'o' 'o' 'o']]\n"
     ]
    }
   ],
   "source": [
    "# as every black has been placed remaining cells are fillers\n",
    "board5x5s.states[0,0] = BoardMark.FILLER.value\n",
    "board5x5s.states[0,4] = BoardMark.FILLER.value\n",
    "board5x5s.states[2,0] = BoardMark.FILLER.value\n",
    "board5x5s.states[2,4] = BoardMark.FILLER.value\n",
    "board5x5s.prettyprint()"
   ]
  },
  {
   "cell_type": "markdown",
   "id": "7628265b",
   "metadata": {},
   "source": [
    "Voila\n",
    "\n",
    "## 1.3 . Where the difficulty comes from ?\n",
    "\n",
    "- large blocls are easier to place, especially the ones that span over all the width or height\n",
    "- borders are useful as once a black is placed at a borders all the block of contiguous cells can be placed\n",
    "- small blocks required a lot of guessing\n",
    "- split are tricky to manage. First they cause blocks to be smaller. Second, they require to guess even more, you have to make a guess for each block\n",
    "- an exception is when the filler between blocks is exactly one and all other cells are black. As exemple think of [2,2] over 5\n",
    "\n",
    "\n",
    "## 1.4. Wrap up\n",
    "\n",
    "You may implement a series of rules, to mimic this process. But think of the number of rules and the number of tests you may have to implement to feature out which rule applies when.\n",
    "\n",
    "Well, it is tedious, tricky to implement. And not funny!\n",
    "\n",
    "I will not implement it. However trying to solve the problem manually help understanding the internals of the problem and what works in a robot.\n",
    "\n",
    "When a human solves the board, doing tons of computations for each cell is boring. Human tends to rely on more visual clues like proximity, overall shape and symetry. Most of this information is not provided by the clues but our human brain knows that the puzzle boils down to an image and there must be some logic in this image. Nonogram are not supposed to be random scattered plots. \n",
    "\n",
    "This reasoning is far beyond what the numeric algorithm can do. \n",
    "\n",
    "On the other hand, nonograms are small and computations for a 15x15 matrix are cheap and fast. The problem space (the number of possible options) is reasonably small. From a more general perspective,  putting some rules in the robot may be more efficient than bare computation if rules are carefully chosen bedcause it reduces the problem space."
   ]
  },
  {
   "cell_type": "markdown",
   "id": "70e2fbbf",
   "metadata": {},
   "source": [
    "# 2. Try-and-error process\n",
    "\n",
    "Having an idea from scratch is difficult.\n",
    "\n",
    "The contract with the platyer for Nonograms is that they always have 1 solution. Let's say we know that there is a solution. We can try different values for each cell until the board is solved.\n",
    "\n",
    "Even if this process is probably not what we want, it will help undestand what we need to solve the puzzle. \n",
    "\n",
    "In addition, it make sense in AI. Some algorithms, especially in Reinforcement Learning, work by learning from try-and-error process. They are given the goal to keep errors to a minimulm."
   ]
  },
  {
   "cell_type": "code",
   "execution_count": 44,
   "id": "3cb0d0e9",
   "metadata": {},
   "outputs": [],
   "source": [
    "# save solutions to numpy arrays\n",
    "solution2x2 = board2x2.states.copy()\n",
    "solution5x5s = board5x5s.states.copy()"
   ]
  },
  {
   "cell_type": "markdown",
   "id": "35053c1a",
   "metadata": {},
   "source": [
    "What could be the try-and-error process ?\n",
    "\n",
    "For each cell, I know that it could be black or filler. \n",
    "\n",
    "We need some game engine to decide whether the action is valid or not according to be solution it knows already. "
   ]
  },
  {
   "cell_type": "markdown",
   "id": "5e1c79ee",
   "metadata": {},
   "source": [
    "## 2.1. Game engine"
   ]
  },
  {
   "cell_type": "code",
   "execution_count": 33,
   "id": "f02aa701",
   "metadata": {},
   "outputs": [],
   "source": [
    "class GameEngine:\n",
    "    def __init__(self, some_clues, a_solution):\n",
    "        self.clues = some_clues\n",
    "        self.solution = a_solution\n",
    "        \n",
    "    def is_action_valid(self, row, col, mark):\n",
    "        return self.solution[row, col] == mark.value"
   ]
  },
  {
   "cell_type": "code",
   "execution_count": 45,
   "id": "33018df4",
   "metadata": {},
   "outputs": [
    {
     "data": {
      "text/plain": [
       "array([[1, 0],\n",
       "       [1, 1]])"
      ]
     },
     "execution_count": 45,
     "metadata": {},
     "output_type": "execute_result"
    }
   ],
   "source": [
    "solution2x2"
   ]
  },
  {
   "cell_type": "code",
   "execution_count": 46,
   "id": "aa746150",
   "metadata": {},
   "outputs": [
    {
     "data": {
      "text/plain": [
       "True"
      ]
     },
     "execution_count": 46,
     "metadata": {},
     "output_type": "execute_result"
    }
   ],
   "source": [
    "engine = GameEngine(clues2x2, solution2x2)\n",
    "engine.is_action_valid(1,1, BoardMark.BLACK)"
   ]
  },
  {
   "cell_type": "code",
   "execution_count": 47,
   "id": "7be414ab",
   "metadata": {},
   "outputs": [
    {
     "data": {
      "text/plain": [
       "False"
      ]
     },
     "execution_count": 47,
     "metadata": {},
     "output_type": "execute_result"
    }
   ],
   "source": [
    "engine.is_action_valid(0,1, BoardMark.BLACK)"
   ]
  },
  {
   "cell_type": "markdown",
   "id": "2be961e5",
   "metadata": {},
   "source": [
    "Now, let's loop over the problem space"
   ]
  },
  {
   "cell_type": "markdown",
   "id": "6103e6df",
   "metadata": {},
   "source": [
    "## 2.2. Experiments"
   ]
  },
  {
   "cell_type": "code",
   "execution_count": null,
   "id": "b271d1e0",
   "metadata": {},
   "outputs": [],
   "source": [
    "from episode01 import clues2x2, BoardMark, Board"
   ]
  },
  {
   "cell_type": "code",
   "execution_count": 52,
   "id": "ec1e667f",
   "metadata": {},
   "outputs": [
    {
     "name": "stdout",
     "output_type": "stream",
     "text": [
      "cols: 2 1\n",
      "rows:\n",
      "1\n",
      "2\n",
      "[['o' 'x']\n",
      " ['o' 'o']]\n",
      "error_count:1\n"
     ]
    }
   ],
   "source": [
    "board2x2 = Board(clues2x2)\n",
    "error_count = 0\n",
    "for row in range(board2x2.height):\n",
    "    for col in range(board2x2.width):\n",
    "        if engine.is_action_valid(row, col, BoardMark.BLACK):\n",
    "            board2x2.mark(row, col, BoardMark.BLACK)\n",
    "        else: \n",
    "            error_count += 1\n",
    "            board2x2.mark(row, col, BoardMark.FILLER)\n",
    "\n",
    "board2x2.prettyprint()\n",
    "print(f\"error_count:{error_count}\")"
   ]
  },
  {
   "cell_type": "markdown",
   "id": "7c1c1025",
   "metadata": {},
   "source": [
    "Voila!\n",
    "\n",
    "I agree that this algorithm is pretty dump. The percentage of errors goes up very rapidly and exceed what the game will accept (usually 3 errors). On the 5x5 board it took 11 errors to solve 25 cells."
   ]
  },
  {
   "cell_type": "code",
   "execution_count": 54,
   "id": "ae440dd9",
   "metadata": {},
   "outputs": [
    {
     "name": "stdout",
     "output_type": "stream",
     "text": [
      "cols: 1 4 [2, 2] 4 1\n",
      "rows:\n",
      "1\n",
      "3\n",
      "[1, 1]\n",
      "3\n",
      "5\n",
      "[['x' 'x' 'o' 'x' 'x']\n",
      " ['x' 'o' 'o' 'o' 'x']\n",
      " ['x' 'o' 'x' 'o' 'x']\n",
      " ['x' 'o' 'o' 'o' 'x']\n",
      " ['o' 'o' 'o' 'o' 'o']]\n",
      "error_count:11\n"
     ]
    }
   ],
   "source": [
    "engine = GameEngine(clues5x5s, solution5x5s)\n",
    "board5x5s = Board(clues5x5s)\n",
    "error_count = 0\n",
    "for row in range(board5x5s.height):\n",
    "    for col in range(board5x5s.width):\n",
    "        if engine.is_action_valid(row, col, BoardMark.BLACK):\n",
    "            board5x5s.mark(row, col, BoardMark.BLACK)\n",
    "        else: \n",
    "            error_count += 1\n",
    "            board5x5s.mark(row, col, BoardMark.FILLER)\n",
    "\n",
    "board5x5s.prettyprint()\n",
    "print(f\"error_count:{error_count}\")"
   ]
  },
  {
   "cell_type": "markdown",
   "id": "2a009cc1",
   "metadata": {},
   "source": [
    "# 2.3  Wrap up\n",
    "\n",
    "What works:\n",
    "- it is really simple to design and implement\n",
    "- no computation, no headache with split blocks\n",
    "\n",
    "Limitation:\n",
    "- requires that the solution is known beforehand\n",
    "- roughly 50% error rate. It depends on the proportion of blacks and fillers,  and whether blacks or fillers are checked for validity"
   ]
  },
  {
   "cell_type": "markdown",
   "id": "d672a191",
   "metadata": {},
   "source": [
    "# 3. Brute Force\n",
    "\n",
    "The idea behind brute force is to generate all possible options and then check which one is vaid.\n",
    "\n",
    "Unlike try-and-error the validation will take place on the whole board. We do not need to know the solution beforehand. The engine can compute the clues from the board and check whether the board holds or breaks the clues."
   ]
  },
  {
   "cell_type": "markdown",
   "id": "e7155192",
   "metadata": {},
   "source": [
    "## 3.1. Experiment on 2x2"
   ]
  },
  {
   "cell_type": "markdown",
   "id": "bb5446b1",
   "metadata": {},
   "source": [
    "The first steo is to list all possible options for the oard.\n",
    "\n",
    "The board is a list of 0 and 1. From the clues we know the number of black cells. It is the sum of all clues.\n",
    "\n",
    "All possible boards are permutations of this black cells over the cells of the board. If I have [1,0] all permutations are [1,0] and [0,1]"
   ]
  },
  {
   "cell_type": "code",
   "execution_count": 133,
   "id": "c39916d2",
   "metadata": {},
   "outputs": [
    {
     "data": {
      "text/plain": [
       "{'rows': [1, 2], 'cols': [2, 1]}"
      ]
     },
     "execution_count": 133,
     "metadata": {},
     "output_type": "execute_result"
    }
   ],
   "source": [
    "clues2x2"
   ]
  },
  {
   "cell_type": "code",
   "execution_count": 145,
   "id": "25bba8c7",
   "metadata": {},
   "outputs": [],
   "source": [
    "black_count = sum(clues2x2['rows'])\n",
    "cells_count = len(clues2x2['rows']) * len(clues2x2['cols'])"
   ]
  },
  {
   "cell_type": "code",
   "execution_count": 169,
   "id": "13cf76ab",
   "metadata": {},
   "outputs": [
    {
     "data": {
      "text/plain": [
       "[1, 1, 1, 0]"
      ]
     },
     "execution_count": 169,
     "metadata": {},
     "output_type": "execute_result"
    }
   ],
   "source": [
    "from itertools import repeat, chain, tee\n",
    "# 3 blacks\n",
    "black_iterator = repeat(BoardMark.BLACK.value, black_count) \n",
    "# 1 filler\n",
    "filler_iterator = repeat(BoardMark.FILLER.value, cells_count - black_count) \n",
    "# chain concatenate both iterators\n",
    "# tee -is used for debugging, it duplicates the iterator which can be consummed only once\n",
    "initial_states_iterator, debug_iterator = tee(chain(black_iterator, filler_iterator))\n",
    "# show the value for debugging\n",
    "list(debug_iterator)"
   ]
  },
  {
   "cell_type": "code",
   "execution_count": 170,
   "id": "af92d6ad",
   "metadata": {},
   "outputs": [
    {
     "data": {
      "text/plain": [
       "[(1, 1, 1, 0),\n",
       " (1, 1, 0, 1),\n",
       " (1, 1, 1, 0),\n",
       " (1, 1, 0, 1),\n",
       " (1, 0, 1, 1),\n",
       " (1, 0, 1, 1),\n",
       " (1, 1, 1, 0),\n",
       " (1, 1, 0, 1),\n",
       " (1, 1, 1, 0),\n",
       " (1, 1, 0, 1),\n",
       " (1, 0, 1, 1),\n",
       " (1, 0, 1, 1),\n",
       " (1, 1, 1, 0),\n",
       " (1, 1, 0, 1),\n",
       " (1, 1, 1, 0),\n",
       " (1, 1, 0, 1),\n",
       " (1, 0, 1, 1),\n",
       " (1, 0, 1, 1),\n",
       " (0, 1, 1, 1),\n",
       " (0, 1, 1, 1),\n",
       " (0, 1, 1, 1),\n",
       " (0, 1, 1, 1),\n",
       " (0, 1, 1, 1),\n",
       " (0, 1, 1, 1)]"
      ]
     },
     "execution_count": 170,
     "metadata": {},
     "output_type": "execute_result"
    }
   ],
   "source": [
    "from itertools import permutations\n",
    "# generate permutations \n",
    "permutations_iterator, debug_iterator = tee(permutations(initial_states_iterator))\n",
    "list(debug_iterator)\n",
    "# there are 16 because permutation switch elements of the list and not values\n",
    "# it does not take care that 1 occurs many times"
   ]
  },
  {
   "cell_type": "code",
   "execution_count": 171,
   "id": "81ae120f",
   "metadata": {},
   "outputs": [
    {
     "data": {
      "text/plain": [
       "[[1, 0], [1, 1]]"
      ]
     },
     "execution_count": 171,
     "metadata": {},
     "output_type": "execute_result"
    }
   ],
   "source": [
    "# create the game engine\n",
    "engine = GameEngine(clues2x2, solution2x2)\n",
    "engine.solution.tolist()"
   ]
  },
  {
   "cell_type": "code",
   "execution_count": 172,
   "id": "14e21e3c",
   "metadata": {},
   "outputs": [
    {
     "data": {
      "text/plain": [
       "[1, 0, 1, 1]"
      ]
     },
     "execution_count": 172,
     "metadata": {},
     "output_type": "execute_result"
    }
   ],
   "source": [
    "# reshape flat the list into a 1D array\n",
    "flat_solution = engine.solution.reshape(cells_count).tolist()\n",
    "flat_solution"
   ]
  },
  {
   "cell_type": "code",
   "execution_count": 173,
   "id": "46c272d5",
   "metadata": {},
   "outputs": [
    {
     "name": "stdout",
     "output_type": "stream",
     "text": [
      "option:(1, 1, 0, 1)\n",
      "option:(1, 1, 1, 0)\n",
      "option:(0, 1, 1, 1)\n",
      "option:(1, 0, 1, 1)\n",
      "valid:(1, 0, 1, 1)\n"
     ]
    }
   ],
   "source": [
    "import numpy as np\n",
    "\n",
    "board2x2 = Board(clues2x2)\n",
    "# set avoids duplicates generated by permutations\n",
    "for o in set(permutations_iterator):\n",
    "    print(f\"option:{o}\")\n",
    "    # select valid options\n",
    "    if flat_solution == list(o): # option is a tuple () not a lust\n",
    "        print(f\"valid:{o}\")\n",
    "        board2x2.states.flat[:] = o"
   ]
  },
  {
   "cell_type": "code",
   "execution_count": 174,
   "id": "c2eef29c",
   "metadata": {},
   "outputs": [
    {
     "name": "stdout",
     "output_type": "stream",
     "text": [
      "cols: 2 1\n",
      "rows:\n",
      "1\n",
      "2\n",
      "[['o' 'x']\n",
      " ['o' 'o']]\n"
     ]
    }
   ],
   "source": [
    "board2x2.prettyprint()"
   ]
  },
  {
   "cell_type": "markdown",
   "id": "c7653d1e",
   "metadata": {},
   "source": [
    "## 3.2. Experiment on 2x2 - Alternative implementation"
   ]
  },
  {
   "cell_type": "markdown",
   "id": "b1884bf7",
   "metadata": {},
   "source": [
    "Another way of analysing this problem is to get all possible indexs of black cells instead of all possible boards.\n",
    "\n",
    "Let's say there is a jar with numbers from 0 to 3. These are possible positions of a cell in the board. I want to draw 3 numbers from the jar. This is named combination."
   ]
  },
  {
   "cell_type": "code",
   "execution_count": 177,
   "id": "bcc87bae",
   "metadata": {},
   "outputs": [
    {
     "data": {
      "text/plain": [
       "{'rows': [1, 2], 'cols': [2, 1]}"
      ]
     },
     "execution_count": 177,
     "metadata": {},
     "output_type": "execute_result"
    }
   ],
   "source": [
    "clues2x2"
   ]
  },
  {
   "cell_type": "code",
   "execution_count": 178,
   "id": "7af2372f",
   "metadata": {},
   "outputs": [],
   "source": [
    "black_count = sum(clues2x2['rows'])\n",
    "cells_count = len(clues2x2['rows']) * len(clues2x2['cols'])"
   ]
  },
  {
   "cell_type": "code",
   "execution_count": 191,
   "id": "0f6f0f3e",
   "metadata": {},
   "outputs": [
    {
     "data": {
      "text/plain": [
       "[(0, 1, 2), (0, 1, 3), (0, 2, 3), (1, 2, 3)]"
      ]
     },
     "execution_count": 191,
     "metadata": {},
     "output_type": "execute_result"
    }
   ],
   "source": [
    "from itertools import combinations, tee\n",
    "# want to get 3 positions in a range 0 - 4 where 4 is the number of cells\n",
    "# we want each position to be unique thus no replacement\n",
    "combinations_iterator, debug_iterator = tee(combinations(range(cells_count), black_count))\n",
    "list(debug_iterator)"
   ]
  },
  {
   "cell_type": "code",
   "execution_count": 182,
   "id": "52c7846e",
   "metadata": {},
   "outputs": [
    {
     "data": {
      "text/plain": [
       "[[1, 0], [1, 1]]"
      ]
     },
     "execution_count": 182,
     "metadata": {},
     "output_type": "execute_result"
    }
   ],
   "source": [
    "# create the game engine\n",
    "engine = GameEngine(clues2x2, solution2x2)\n",
    "engine.solution.tolist()"
   ]
  },
  {
   "cell_type": "code",
   "execution_count": 183,
   "id": "2daff81e",
   "metadata": {},
   "outputs": [
    {
     "data": {
      "text/plain": [
       "[1, 0, 1, 1]"
      ]
     },
     "execution_count": 183,
     "metadata": {},
     "output_type": "execute_result"
    }
   ],
   "source": [
    "# reshape flat the list into a 1D array\n",
    "flat_solution = engine.solution.reshape(cells_count).tolist()\n",
    "flat_solution"
   ]
  },
  {
   "cell_type": "code",
   "execution_count": 192,
   "id": "b9e39ba3",
   "metadata": {},
   "outputs": [
    {
     "name": "stdout",
     "output_type": "stream",
     "text": [
      "option:(0, 1, 2)\n",
      "option:(0, 1, 3)\n",
      "option:(0, 2, 3)\n",
      "valid:[1 0 1 1]\n",
      "option:(1, 2, 3)\n"
     ]
    }
   ],
   "source": [
    "import numpy as np\n",
    "\n",
    "board2x2 = Board(clues2x2)\n",
    "for option in combinations_iterator:\n",
    "    print(f\"option:{option}\")\n",
    "    # compute the board state\n",
    "    # put black at each position in combinations_iterator and fillers elsewhere\n",
    "    states = np.full(cells_count, BoardMark.FILLER.value, dtype=int)\n",
    "    # put black at each position in combinations_iterator and fillers elsewhere\n",
    "    for pos in option:\n",
    "        states.flat[pos] = BoardMark.BLACK.value\n",
    "    \n",
    "    # select valid options\n",
    "    if flat_solution == states.tolist(): \n",
    "        print(f\"valid:{states}\")\n",
    "        # batch update the board flattent to 1D\n",
    "        board2x2.states.flat[:] = states"
   ]
  },
  {
   "cell_type": "code",
   "execution_count": 193,
   "id": "e299b07a",
   "metadata": {},
   "outputs": [
    {
     "name": "stdout",
     "output_type": "stream",
     "text": [
      "cols: 2 1\n",
      "rows:\n",
      "1\n",
      "2\n",
      "[['o' 'x']\n",
      " ['o' 'o']]\n"
     ]
    }
   ],
   "source": [
    "board2x2.prettyprint()"
   ]
  },
  {
   "cell_type": "markdown",
   "id": "fec4e2eb",
   "metadata": {},
   "source": [
    "## 3.3. Wrap up\n",
    "\n",
    "What works:\n",
    "- it is simple to design and implement\n",
    "- no computation, no headache with split blocks\n",
    "\n",
    "Limitation:\n",
    "- number of options  increase rapidly with the size of the board. \n",
    "\n",
    "In addition all these options will have to be checked for validity. We used known solutions here  because they are available but in a real use case we would evaluate whether the option match the clues for each option.\n",
    "\n",
    "The number of options increases lower with implementation 2 because the problem space is smaller. It is the number of blacks instead of the number of cells (blacks are usually around 50% of cells). However it increases rapidly."
   ]
  },
  {
   "cell_type": "code",
   "execution_count": null,
   "id": "01863972",
   "metadata": {},
   "outputs": [],
   "source": [
    "from itertools import combinations"
   ]
  },
  {
   "cell_type": "code",
   "execution_count": 197,
   "id": "19cf061d",
   "metadata": {},
   "outputs": [
    {
     "name": "stdout",
     "output_type": "stream",
     "text": [
      "CPU times: user 2 µs, sys: 0 ns, total: 2 µs\n",
      "Wall time: 4.05 µs\n"
     ]
    },
    {
     "data": {
      "text/plain": [
       "126"
      ]
     },
     "execution_count": 197,
     "metadata": {},
     "output_type": "execute_result"
    }
   ],
   "source": [
    "%time\n",
    "from itertools import combinations\n",
    "black_count = 4\n",
    "cells_count = 9\n",
    "combinations_iterator = combinations(range(cells_count), black_count)\n",
    "len(list(combinations_iterator))"
   ]
  },
  {
   "cell_type": "code",
   "execution_count": 198,
   "id": "768d5a8f",
   "metadata": {},
   "outputs": [
    {
     "name": "stdout",
     "output_type": "stream",
     "text": [
      "CPU times: user 2 µs, sys: 0 ns, total: 2 µs\n",
      "Wall time: 4.05 µs\n"
     ]
    },
    {
     "data": {
      "text/plain": [
       "11440"
      ]
     },
     "execution_count": 198,
     "metadata": {},
     "output_type": "execute_result"
    }
   ],
   "source": [
    "%time\n",
    "black_count = 7\n",
    "cells_count = 16\n",
    "combinations_iterator = combinations(range(cells_count), black_count)\n",
    "len(list(combinations_iterator))"
   ]
  },
  {
   "cell_type": "code",
   "execution_count": 199,
   "id": "0fdf520f",
   "metadata": {},
   "outputs": [
    {
     "name": "stdout",
     "output_type": "stream",
     "text": [
      "CPU times: user 2 µs, sys: 1 µs, total: 3 µs\n",
      "Wall time: 4.77 µs\n"
     ]
    },
    {
     "data": {
      "text/plain": [
       "4457400"
      ]
     },
     "execution_count": 199,
     "metadata": {},
     "output_type": "execute_result"
    }
   ],
   "source": [
    "%time\n",
    "black_count = 14\n",
    "cells_count = 25\n",
    "combinations_iterator = combinations(range(cells_count), black_count)\n",
    "len(list(combinations_iterator))"
   ]
  },
  {
   "cell_type": "markdown",
   "id": "ea52e1f4",
   "metadata": {},
   "source": [
    "# 4. Programming with constraints\n",
    "\n",
    "TODO"
   ]
  },
  {
   "cell_type": "markdown",
   "id": "829af9ae",
   "metadata": {},
   "source": [
    "# 5. Dynamic programming\n",
    "\n",
    "TODO"
   ]
  },
  {
   "cell_type": "markdown",
   "id": "cdaea489",
   "metadata": {},
   "source": [
    "# 6. Probabilistic approach\n",
    "\n",
    "TODO"
   ]
  },
  {
   "cell_type": "markdown",
   "id": "e9216cee",
   "metadata": {},
   "source": [
    "# 7. Genetic algorithm\n",
    "\n",
    "\"genetic algorithm (GA) is a metaheuristic inspired by the process of natural selection that belongs to the larger class of evolutionary algorithms (EA). Genetic algorithms are commonly used to generate high-quality solutions to optimization and search problems by relying on biologically inspired operators such as mutation, crossover and selection\" - Wikipedia"
   ]
  },
  {
   "cell_type": "markdown",
   "id": "524028b4",
   "metadata": {},
   "source": [
    "TODO how could it work here, explain a little bit the selection process"
   ]
  },
  {
   "cell_type": "markdown",
   "id": "5ca01018",
   "metadata": {},
   "source": [
    "https://pypi.org/project/geneticalgorithm/\n",
    "    \n",
    "geneticalgorithm is a Python library distributed on Pypi for implementing standard and elitist genetic-algorithm (GA). This package solves continuous, combinatorial and mixed optimization problems with continuous, discrete, and mixed variables. It provides an easy implementation of genetic-algorithm (GA) in Python."
   ]
  },
  {
   "cell_type": "markdown",
   "id": "45446099",
   "metadata": {},
   "source": [
    "We will use geneticalgorithm for this demonstration because it is more simple and fit this case. Plase not that there is also PyGAD"
   ]
  },
  {
   "cell_type": "markdown",
   "id": "d2456909",
   "metadata": {},
   "source": [
    "https://pygad.readthedocs.io/en/latest/\n",
    "\n",
    "PyGAD is an open-source Python library for building the genetic algorithm and optimizing machine learning algorithms. It works with Keras and PyTorch.\n",
    "\n",
    "PyGAD supports different types of crossover, mutation, and parent selection operators. PyGAD allows different types of problems to be optimized using the genetic algorithm by customizing the fitness function."
   ]
  },
  {
   "cell_type": "markdown",
   "id": "c82f8ad4",
   "metadata": {},
   "source": [
    "## 7.1. Example"
   ]
  },
  {
   "cell_type": "code",
   "execution_count": 228,
   "id": "901f0661",
   "metadata": {},
   "outputs": [
    {
     "name": "stdout",
     "output_type": "stream",
     "text": [
      "Collecting geneticalgorithm\n",
      "  Downloading geneticalgorithm-1.0.2-py3-none-any.whl (16 kB)\n",
      "Collecting func-timeout\n",
      "  Downloading func_timeout-4.3.5.tar.gz (44 kB)\n",
      "\u001b[K     |████████████████████████████████| 44 kB 5.9 MB/s eta 0:00:011\n",
      "\u001b[?25hRequirement already satisfied: numpy in /Users/cfalguiere/opt/anaconda3/lib/python3.9/site-packages (from geneticalgorithm) (1.20.3)\n",
      "Building wheels for collected packages: func-timeout\n",
      "  Building wheel for func-timeout (setup.py) ... \u001b[?25ldone\n",
      "\u001b[?25h  Created wheel for func-timeout: filename=func_timeout-4.3.5-py3-none-any.whl size=15095 sha256=b9ffca2c555b489742e2ca7c60f8b6e3de97d8e2d9f5863da9970ebc27d9e4a8\n",
      "  Stored in directory: /Users/cfalguiere/Library/Caches/pip/wheels/ef/91/3f/17cbea1e83d17cc01bd2d66a0d59e65301bcb2d59f2f6a62ab\n",
      "Successfully built func-timeout\n",
      "Installing collected packages: func-timeout, geneticalgorithm\n",
      "Successfully installed func-timeout-4.3.5 geneticalgorithm-1.0.2\n"
     ]
    }
   ],
   "source": [
    "! pip install geneticalgorithm"
   ]
  },
  {
   "cell_type": "markdown",
   "id": "81ba279b",
   "metadata": {},
   "source": [
    "Assume we want to find a set of X=(x1,x2,x3) that minimizes function f(X)=x1+x2+x3 where X can be any integer number in [0,10]."
   ]
  },
  {
   "cell_type": "code",
   "execution_count": 229,
   "id": "92abb10b",
   "metadata": {},
   "outputs": [
    {
     "name": "stdout",
     "output_type": "stream",
     "text": [
      " The best solution found:                                                                           \n",
      " [0. 0. 0.]\n",
      "\n",
      " Objective function:\n",
      " 0.0\n"
     ]
    },
    {
     "data": {
      "image/png": "[encoded data removed]",
      "text/plain": [
       "<Figure size 432x288 with 1 Axes>"
      ]
     },
     "metadata": {
      "needs_background": "light"
     },
     "output_type": "display_data"
    }
   ],
   "source": [
    "import numpy as np\n",
    "from geneticalgorithm import geneticalgorithm as ga\n",
    "\n",
    "def f(X):\n",
    "    return np.sum(X)\n",
    "\n",
    "\n",
    "varbound=np.array([[0,10]]*3)\n",
    "\n",
    "model=ga(function=f,dimension=3,variable_type='int',variable_boundaries=varbound)\n",
    "\n",
    "model.run()\n"
   ]
  },
  {
   "cell_type": "markdown",
   "id": "25a524a4",
   "metadata": {},
   "source": [
    "In a nonogram 2x2 we want to find a set of X=(x1,x2,x3,x4) that minimizes an error function f(X)=x1+x2+x3 where X can be any integer number in [0,1].\n",
    "The error function compute the deviation from the clues."
   ]
  },
  {
   "cell_type": "markdown",
   "id": "22cc6830",
   "metadata": {},
   "source": [
    "## 7.2. Proof of concept on 2x2"
   ]
  },
  {
   "cell_type": "code",
   "execution_count": 200,
   "id": "341faeee",
   "metadata": {},
   "outputs": [
    {
     "data": {
      "text/plain": [
       "{'rows': [1, 2], 'cols': [2, 1]}"
      ]
     },
     "execution_count": 200,
     "metadata": {},
     "output_type": "execute_result"
    }
   ],
   "source": [
    "clues2x2"
   ]
  },
  {
   "cell_type": "code",
   "execution_count": null,
   "id": "083c3684",
   "metadata": {},
   "outputs": [],
   "source": [
    "engine.solution"
   ]
  },
  {
   "cell_type": "code",
   "execution_count": null,
   "id": "3be074ab",
   "metadata": {},
   "outputs": [],
   "source": [
    "black_count = sum(clues2x2['rows'])\n",
    "cells_count = len(clues2x2['rows']) * len(clues2x2['cols'])"
   ]
  },
  {
   "cell_type": "markdown",
   "id": "c516ffc9",
   "metadata": {},
   "source": [
    "to make it simple we will use the overall sum. The real function should compare col/row sums on X with clues"
   ]
  },
  {
   "cell_type": "code",
   "execution_count": 259,
   "id": "19ace189",
   "metadata": {},
   "outputs": [
    {
     "name": "stdout",
     "output_type": "stream",
     "text": [
      " The best solution found:                                                                           \n",
      " [1. 1. 1. 0.]\n",
      "\n",
      " Objective function:\n",
      " 0.0\n"
     ]
    },
    {
     "data": {
      "image/png": "[encoded data removed]",
      "text/plain": [
       "<Figure size 432x288 with 1 Axes>"
      ]
     },
     "metadata": {
      "needs_background": "light"
     },
     "output_type": "display_data"
    }
   ],
   "source": [
    "import numpy as np\n",
    "from geneticalgorithm import geneticalgorithm as ga\n",
    "\n",
    "def f(X):\n",
    "    return abs(np.sum(X) - black_count)\n",
    "\n",
    "\n",
    "varbound=np.array([[0,1]]*cells_count)\n",
    "\n",
    "model=ga(function=f,dimension=cells_count,variable_type='int',variable_boundaries=varbound)\n",
    "\n",
    "model.run()"
   ]
  },
  {
   "cell_type": "code",
   "execution_count": 260,
   "id": "0ec1a00a",
   "metadata": {},
   "outputs": [
    {
     "data": {
      "text/plain": [
       "{'variable': array([1., 1., 1., 0.]), 'function': 0.0}"
      ]
     },
     "execution_count": 260,
     "metadata": {},
     "output_type": "execute_result"
    }
   ],
   "source": [
    "solution=model.output_dict\n",
    "solution"
   ]
  },
  {
   "cell_type": "markdown",
   "id": "09cab90d",
   "metadata": {},
   "source": [
    "Please note that it found any array with three 1 and one 0. This is caused by the error function being too loose.\n",
    "In the dict\n",
    "- variable contains the optimized output\n",
    "- function is the residual error after the model ran"
   ]
  },
  {
   "cell_type": "code",
   "execution_count": 248,
   "id": "430e4619",
   "metadata": {},
   "outputs": [
    {
     "name": "stdout",
     "output_type": "stream",
     "text": [
      "cols: 2 1\n",
      "rows:\n",
      "1\n",
      "2\n",
      "[['o' 'x']\n",
      " ['o' 'o']]\n"
     ]
    }
   ],
   "source": [
    "board2x2 = Board(clues2x2)\n",
    "board2x2.states.flat[:] = solution['variable'].tolist()\n",
    "board2x2.prettyprint()"
   ]
  },
  {
   "cell_type": "markdown",
   "id": "b448cac6",
   "metadata": {},
   "source": [
    "## 7.3. Wrap up"
   ]
  },
  {
   "cell_type": "markdown",
   "id": "3e2251f6",
   "metadata": {},
   "source": [
    "What works:\n",
    "- it is simple to design and implement\n",
    "- pretty easy to use\n",
    "- it works on a numpy which will make it easy to compute rules\n",
    "\n",
    "Limitation:\n",
    "- May be overkill for this simple problem\n"
   ]
  },
  {
   "cell_type": "markdown",
   "id": "f18c1b15",
   "metadata": {},
   "source": [
    "This prrof of concept is \n",
    "\n",
    "Computations in the error function may use reshape and np.sum to cimpute sums on X. And then compare each sums to each clue in order to compute the abs error sum element by element. "
   ]
  },
  {
   "cell_type": "code",
   "execution_count": 254,
   "id": "5a0fc47b",
   "metadata": {},
   "outputs": [
    {
     "data": {
      "text/plain": [
       "array([[1, 0],\n",
       "       [1, 1]])"
      ]
     },
     "execution_count": 254,
     "metadata": {},
     "output_type": "execute_result"
    }
   ],
   "source": [
    "states = np.array([1, 0, 1, 1]).reshape(2,2)\n",
    "states"
   ]
  },
  {
   "cell_type": "code",
   "execution_count": 255,
   "id": "fd0cf348",
   "metadata": {},
   "outputs": [
    {
     "data": {
      "text/plain": [
       "array([2, 1])"
      ]
     },
     "execution_count": 255,
     "metadata": {},
     "output_type": "execute_result"
    }
   ],
   "source": [
    "states.sum(axis=0) # O col"
   ]
  },
  {
   "cell_type": "code",
   "execution_count": 256,
   "id": "ae08cebd",
   "metadata": {},
   "outputs": [
    {
     "data": {
      "text/plain": [
       "array([1, 2])"
      ]
     },
     "execution_count": 256,
     "metadata": {},
     "output_type": "execute_result"
    }
   ],
   "source": [
    "states.sum(axis=1) # 1 col"
   ]
  },
  {
   "cell_type": "markdown",
   "id": "70d384a2",
   "metadata": {},
   "source": [
    "# 8. Machine Learning\n",
    "\n",
    "TODO"
   ]
  },
  {
   "cell_type": "markdown",
   "id": "4a28b930",
   "metadata": {},
   "source": [
    "# 9. Wrap up\n",
    "\n",
    "This quick exploration of ways of solving this problem show that we need some additional components :\n",
    "- a game engine which provides the try-and-error validation and the board validation \n",
    "- some operation thate were identified in episode 01: is the board completed, is the board valid\n",
    "- a puzzle class with some operations to transform the clues and compute black count and cels count\n",
    "- try-and-error and learning process will require something in between not done and done in order to improve on rewards:   number of cells completed/undefined, number of errors, number of valid celss\n"
   ]
  },
  {
   "cell_type": "code",
   "execution_count": null,
   "id": "5a75e4df",
   "metadata": {},
   "outputs": [],
   "source": []
  }
 ],
 "metadata": {
  "kernelspec": {
   "display_name": "Python 3 (ipykernel)",
   "language": "python",
   "name": "python3"
  },
  "language_info": {
   "codemirror_mode": {
    "name": "ipython",
    "version": 3
   },
   "file_extension": ".py",
   "mimetype": "text/x-python",
   "name": "python",
   "nbconvert_exporter": "python",
   "pygments_lexer": "ipython3",
   "version": "3.9.7"
  }
 },
 "nbformat": 4,
 "nbformat_minor": 5
}
