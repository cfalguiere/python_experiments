{
 "cells": [
  {
   "cell_type": "markdown",
   "metadata": {},
   "source": [
    "# Episode 01: Puzzle basics and problem understanding"
   ]
  },
  {
   "cell_type": "markdown",
   "metadata": {},
   "source": [
    "TODO\n",
    "\n",
    "**Goals for this episode:**\n",
    "- Name the concepts\n",
    "- Define how to represent the puzzle for experiments"
   ]
  },
  {
   "cell_type": "markdown",
   "metadata": {},
   "source": [
    "## Prologue"
   ]
  },
  {
   "cell_type": "markdown",
   "metadata": {},
   "source": [
    "TODO Prologue as a separate document \n",
    "- 1. game description\n",
    "- 2. project goals\n",
    "\n",
    "experiment with solution patterns, compare, learn some python\n",
    "\n",
    "this can be used as a tutorial"
   ]
  },
  {
   "cell_type": "markdown",
   "metadata": {},
   "source": [
    "# 1. Name the concepts of the puzzle"
   ]
  },
  {
   "cell_type": "markdown",
   "metadata": {},
   "source": [
    "I often find people stuck when it comes to start the design of an application:\n",
    "- Where do I start ? \n",
    "- What are the classes ? \n",
    "- What should tjey do ?"
   ]
  },
  {
   "cell_type": "markdown",
   "metadata": {},
   "source": [
    "I always find useful to state what we know about the problem clearly and in a consistent vocabulary. \n",
    "\n",
    "Most of time \n",
    "- **names** roughly map to **entities** or **attributes** of these entities: e.g. concepts, information shared by entities, width, height\n",
    "- and **verbs** roughly map to **operations** on these entities: e.g. create, check whether some rule is held or broken"
   ]
  },
  {
   "cell_type": "markdown",
   "metadata": {},
   "source": [
    "As for now I see the puzzle the way it is listed below. \n",
    "\n",
    "- the goal is to **fill** a **board**\n",
    "- the **board** consists of **cells**\n",
    "- the **board** organizes **cells** horizontally in **rows** \n",
    "- the **board** organizes **cells** vertically in **columns** (shorten as **cols**) \n",
    "- each **cell** has a **state** which is **undefined**, **solid/black** or **filler**\n",
    "- **puzzle** **input** is given as a **list of clues** \n",
    "- a **clue** is given for each **row** and for each **column**   \n",
    "- **clue** is either a **number** or a **list of numbers** \n",
    "- when the **clue** is only one **number** in the **row** or **column** the **number** tells the **size** of the **block of contiguous black cells**\n",
    "- when the **clue** is a **list of numbers** there are multiple **blocks of contiguous black cells** in the row or column \n",
    "- the **puzzle** is **solved** when the **state** pf each **cell** is either a **black** or a **filler** and they are so that if I **count** the **blocks of contiguous blocks of cells** it **holds** the **clues**"
   ]
  },
  {
   "cell_type": "markdown",
   "metadata": {},
   "source": [
    "# 2. Design the problem"
   ]
  },
  {
   "cell_type": "markdown",
   "metadata": {},
   "source": [
    "How can we go from there ?\n",
    "\n",
    "Now we have names and verbs here is a very simple design problem statement\n",
    "\n",
    "**Potential entities:**\n",
    "- board \n",
    "    - board has many cells\n",
    "        - cell has a state with one of undefined, black and filler\n",
    "    - board has many rows\n",
    "        - row has a width (implicit)\n",
    "    - board has many columns\n",
    "        - has a height (implicit)\n",
    "    - board has blocks of contiguous cells\n",
    "- puzzle\n",
    "    - puzzle has many clues\n",
    "        - clue belong to a row or a column\n",
    "            - clue is a number or a list of number \n",
    "            - number is an integer (implicit)\n",
    " \n",
    "**Potential operations:**\n",
    "- create the puzzle \n",
    "    - given the clues as input\n",
    "- fill a board with a cell state\n",
    "    - given a cell and a state\n",
    "- check whether the board is solved\n",
    "    - compare clues with board states\n",
    "- get the solved board \n",
    "    - read the board"
   ]
  },
  {
   "cell_type": "markdown",
   "metadata": {},
   "source": [
    "It is pretty clear that we have at least two entities puzzle and board. Other elements are presummably attributes of these entities.\n",
    "\n",
    "As for operation, the first one relate to puzzle and 3 others to board."
   ]
  },
  {
   "cell_type": "markdown",
   "metadata": {},
   "source": [
    "## 3. Implement the Puzzle entity "
   ]
  },
  {
   "cell_type": "markdown",
   "metadata": {},
   "source": [
    "You can stop and think for yourself how you would implement this entity.\n",
    "\n",
    "Remember we need numbers or list of numbers for each row and column."
   ]
  },
  {
   "cell_type": "markdown",
   "metadata": {},
   "source": [
    "**...**"
   ]
  },
  {
   "cell_type": "markdown",
   "metadata": {},
   "source": [
    "As often in design there are many options depending on how we split work, the time we have, what we are confortable with.\n",
    "\n",
    "Considerations made first choice:\n",
    "- stick with a very simple implementation in order to have something workable as soon as possible\n",
    "- readability of the puzzle description"
   ]
  },
  {
   "cell_type": "markdown",
   "metadata": {},
   "source": [
    "The chosen implementation is:\n",
    "- stick with a simple dictionnary and wait until a class is required to implement it\n",
    "- the dictionnary a tow items rows and cols\n",
    "- each item is a list of either number or list of numbers (readability)\n",
    "\n",
    "\n",
    "Please note that the list containts differen types of elements. They will need to be handled carefully. Namely integers will have to be converted to a list to use the list elements in a consistent way. This will provide interesting Python challenges."
   ]
  },
  {
   "cell_type": "code",
   "execution_count": 1,
   "metadata": {},
   "outputs": [],
   "source": [
    "# given input for a 2x2 puzzle\n",
    "\n",
    "# Please note that list are base 0 in Python \n",
    "# Thus clues['cols'][0] is the left most column\n",
    "#     and clues['cols'][1] is the second columns from the left\n",
    "\n",
    "# 1 denotes that the row has 1 contiguous black cells \n",
    "#     and a filler of 1 which position is unknown\n",
    "# 2 denotes that all cells are black\n",
    "\n",
    "clues2x2 = {\n",
    "    'rows': [1, 2],\n",
    "    'cols': [2, 1]\n",
    "}\n",
    "\n",
    "# If o marks blacks and x marks fillers, the solution is \n",
    "# ox\n",
    "# xx "
   ]
  },
  {
   "cell_type": "code",
   "execution_count": 2,
   "metadata": {},
   "outputs": [],
   "source": [
    "# game instructions for a 5x5 game\n",
    "\n",
    "# Please note that list are base 0 in Python \n",
    "# Thus clues['cols'][0] is the left most column\n",
    "#     and clues['cols'][1] is the second columns from the left\n",
    "\n",
    "# 4 denotes that the col has 4 contiguous black cells \n",
    "#     and a filler of 1 which position is unknown\n",
    "# [2,2] denotes that col split blocks \n",
    "#     2 contiguous black cells, \n",
    "#     a filler which size is unknows \n",
    "#     and 2 contiguous black cels\n",
    "\n",
    "clues5x5s = {\n",
    "    'rows': [1, 3, [1,1], 3, 5],\n",
    "    'cols': [1, 4, [2,2], 4, 1]\n",
    "}\n",
    "\n",
    "# If o marks blacks and x marks fillers, the solution is \n",
    "# xxoxx\n",
    "# xooox\n",
    "# xoxox\n",
    "# xooox\n",
    "# ooooo"
   ]
  },
  {
   "cell_type": "markdown",
   "metadata": {},
   "source": [
    "## 4. Implement the Board entity "
   ]
  },
  {
   "cell_type": "markdown",
   "metadata": {},
   "source": [
    "You can stop and think for yourself how you would implement this entity.\n",
    "\n",
    "Remember we need a board of w by h cells where w is width and h is height, an operation fill the board's cell with three states: undefined, black, filler.\n",
    "\n",
    "In order to have somethig workable rapidly we will focus on representing the board ans leave check operation for abother episode."
   ]
  },
  {
   "cell_type": "markdown",
   "metadata": {},
   "source": [
    "**...**"
   ]
  },
  {
   "cell_type": "markdown",
   "metadata": {},
   "source": [
    "As often in design there are many options depending on how we split work, the time we have, what we are confortable with.\n",
    "\n",
    "Considerations made first choice:\n",
    "- stick with a very simple implementation \n",
    "- leave solution validation for future work"
   ]
  },
  {
   "cell_type": "markdown",
   "metadata": {},
   "source": [
    "The chosen implementation is:\n",
    "- a class as a know already that some operations must be provided (fill, print)\n",
    "- an Numpy arryarray of cells\n",
    "- an enum of states to avoid \"magic strings\" and document the values\n",
    "- a fill operation to change the state of a cell \n",
    "- a prettyprint operation to print the board and clues\n"
   ]
  },
  {
   "cell_type": "markdown",
   "metadata": {},
   "source": [
    "## 4.1. Numpy array\n",
    "\n",
    "Python list would do the job. \n",
    "\n",
    "For instance\n",
    "- a list of rows of cells: [[\"A\", \"B\"], [\"C\", \"D\"]]\n",
    "- or a list of cells: [ \"A\", \"B\", \"C\", \"D\"]\n",
    "\n",
    "The continuous list would suit as well because a position can be computed from rows and cols."
   ]
  },
  {
   "cell_type": "code",
   "execution_count": 3,
   "metadata": {},
   "outputs": [
    {
     "name": "stdout",
     "output_type": "stream",
     "text": [
      "r:0, c:0 -> pos:0 - 1D:A - 2D:A\n",
      "r:0, c:1 -> pos:1 - 1D:B - 2D:B\n",
      "r:1, c:0 -> pos:2 - 1D:C - 2D:C\n",
      "r:1, c:1 -> pos:3 - 1D:D - 2D:D\n"
     ]
    }
   ],
   "source": [
    "array1D = [ \"A\", \"B\", \"C\", \"D\"]\n",
    "array2D = [ [\"A\", \"B\"], [\"C\", \"D\"]]\n",
    "height = len(array2D)\n",
    "width = len(array2D[0])\n",
    "\n",
    "# compute position in 1D array from row and col\n",
    "get_pos = lambda r,c: r*width + c\n",
    "\n",
    "for row in range(height):\n",
    "    for col in range(width): \n",
    "        pos = get_pos(row,col)\n",
    "        print(f\"r:{row}, c:{col} -> pos:{pos} - 1D:{array1D[pos]} - 2D:{array2D[row][col]}\")"
   ]
  },
  {
   "cell_type": "markdown",
   "metadata": {},
   "source": [
    "Best choice depends on the use cases. \n",
    "\n",
    "We do not have to care too much about this decision Numpy provides an efficient way of storing matrix and is widely used.\n",
    "\n",
    "In addition numpy allows to change the shape, for instance to witch between two dimensions and one when needed."
   ]
  },
  {
   "cell_type": "code",
   "execution_count": 4,
   "metadata": {},
   "outputs": [],
   "source": [
    "# need to import numpy library\n",
    "# it is provided in most Python environment. If not you install it with pip install numpy\n",
    "import numpy as np"
   ]
  },
  {
   "cell_type": "code",
   "execution_count": 5,
   "metadata": {},
   "outputs": [
    {
     "data": {
      "text/plain": [
       "array([[-1, -1],\n",
       "       [-1, -1]])"
      ]
     },
     "execution_count": 5,
     "metadata": {},
     "output_type": "execute_result"
    }
   ],
   "source": [
    "# create a 2x2 board of type int, initialized with -1\n",
    "states = np.full((2, 2), -1, dtype=int)\n",
    "states"
   ]
  },
  {
   "cell_type": "code",
   "execution_count": 6,
   "metadata": {},
   "outputs": [
    {
     "data": {
      "text/plain": [
       "array([[1, 0],\n",
       "       [1, 1]])"
      ]
     },
     "execution_count": 6,
     "metadata": {},
     "output_type": "execute_result"
    }
   ],
   "source": [
    "# fill the solution to the game\n",
    "# index is row, cell\n",
    "states[0,0] = 1\n",
    "states[0,1] = 0\n",
    "states[1,0] = 1\n",
    "states[1,1] = 1\n",
    "states"
   ]
  },
  {
   "cell_type": "code",
   "execution_count": 7,
   "metadata": {},
   "outputs": [
    {
     "data": {
      "text/plain": [
       "array([1, 0, 1, 1])"
      ]
     },
     "execution_count": 7,
     "metadata": {},
     "output_type": "execute_result"
    }
   ],
   "source": [
    "# reshape to a contiguous list of size width* height\n",
    "states.reshape(width*height)"
   ]
  },
  {
   "cell_type": "markdown",
   "metadata": {},
   "source": [
    "Please not that there are many other ways to represent a board. You may want to use a network of cells linked to each other horizontally and vertically. It might be useful if moving from a cell to its adjacent cells is a frequent operation or you want to apply some graph theory capability.\n",
    "\n",
    "However 1D or 2D lists are the most frequent."
   ]
  },
  {
   "cell_type": "markdown",
   "metadata": {},
   "source": [
    "## 4.2. Enum for state values"
   ]
  },
  {
   "cell_type": "markdown",
   "metadata": {},
   "source": [
    "We will need some convention to store the state of the cells as undefined, black or filler\n",
    "\n",
    "The convention here is:\n",
    "- undefined : -1\n",
    "- filler : 0\n",
    "- black/solid : 1\n",
    "\n",
    "Rationale:\n",
    "- The rationale is that the sum of blacks should be easy to compare with the ckue value. So black should be 1. \n",
    "- It make sense that fillers are 0 so they do not alter the sums. \n",
    "- Undefined could be anything we can filter out easily."
   ]
  },
  {
   "cell_type": "markdown",
   "metadata": {},
   "source": [
    "Python as many other langages provide a way to list symbolic names or constants and group them by their meaning.\n",
    "\n",
    "For instance we can create an Enum of all the BoardMark the use may use to fill the board. "
   ]
  },
  {
   "cell_type": "code",
   "execution_count": 8,
   "metadata": {},
   "outputs": [],
   "source": [
    "# need to import enum. It is built in in the Python engine\n",
    "from enum import Enum\n",
    "\n",
    "# constants for marks\n",
    "class BoardMark(Enum):\n",
    "    INIT = -1\n",
    "    FILLER = 0\n",
    "    BLACK = 1"
   ]
  },
  {
   "cell_type": "code",
   "execution_count": 9,
   "metadata": {},
   "outputs": [
    {
     "name": "stdout",
     "output_type": "stream",
     "text": [
      "BoardMark.BLACK\n"
     ]
    }
   ],
   "source": [
    "# BoardMark.BLACK will be passed as a parameter to the fill function\n",
    "print(BoardMark.BLACK)"
   ]
  },
  {
   "cell_type": "code",
   "execution_count": 10,
   "metadata": {},
   "outputs": [
    {
     "name": "stdout",
     "output_type": "stream",
     "text": [
      "1\n"
     ]
    }
   ],
   "source": [
    "# as we have an array of -1,0,1 the enum will need to be converted into a value\n",
    "print(BoardMark.BLACK.value)"
   ]
  },
  {
   "cell_type": "code",
   "execution_count": 11,
   "metadata": {},
   "outputs": [
    {
     "data": {
      "text/plain": [
       "array([[1, 0],\n",
       "       [1, 1]])"
      ]
     },
     "execution_count": 11,
     "metadata": {},
     "output_type": "execute_result"
    }
   ],
   "source": [
    "# fill the cell with a mark\n",
    "def mark(row, col, state):\n",
    "    # index is row, cell\n",
    "    states[row, col] = state.value\n",
    "\n",
    "mark(0, 0, BoardMark.BLACK)\n",
    "mark(0, 1, BoardMark.FILLER)\n",
    "mark(1, 0, BoardMark.BLACK)\n",
    "mark(1, 1, BoardMark.BLACK)\n",
    "states"
   ]
  },
  {
   "cell_type": "markdown",
   "metadata": {},
   "source": [
    "## 4.3. Board representation"
   ]
  },
  {
   "cell_type": "markdown",
   "metadata": {},
   "source": [
    "We will also need to represent the board visually in order to check what happen.\n",
    "\n",
    "To start with we will use a simple representation of the board. Each value can be converted into a character:\n",
    "- undefined : .\n",
    "- filler : x\n",
    "- black/solid : o"
   ]
  },
  {
   "cell_type": "markdown",
   "metadata": {},
   "source": [
    "I make the assumption that the board can be represented later as a plot with matplotlib. Lease this for another episode."
   ]
  },
  {
   "cell_type": "code",
   "execution_count": 12,
   "metadata": {},
   "outputs": [
    {
     "name": "stdout",
     "output_type": "stream",
     "text": [
      ".\n",
      "x\n",
      "o\n"
     ]
    }
   ],
   "source": [
    "# dictionnaries are used in Python to describe swich cases depending on the value\n",
    "marks_switches = {BoardMark.INIT.value:   '.', \n",
    "                  BoardMark.FILLER.value: 'x', \n",
    "                  BoardMark.BLACK.value:  'o'}\n",
    "print(marks_switches[BoardMark.INIT.value])\n",
    "print(marks_switches[BoardMark.FILLER.value])\n",
    "print(marks_switches[BoardMark.BLACK.value])"
   ]
  },
  {
   "cell_type": "code",
   "execution_count": 13,
   "metadata": {},
   "outputs": [
    {
     "data": {
      "text/plain": [
       "array([['o', 'x'],\n",
       "       ['o', 'o']], dtype='<U1')"
      ]
     },
     "execution_count": 13,
     "metadata": {},
     "output_type": "execute_result"
    }
   ],
   "source": [
    "# The switcher can be applyed to the full array\n",
    "# numpy provides ways to apply a function to all the cells\n",
    "# must use vectorize, for whatever reason lambda does not work here\n",
    "def switch_mark(v):\n",
    "    return marks_switches[v]\n",
    "apply_all_switch_mark = np.vectorize(switch_mark)\n",
    "states_repr = apply_all_switch_mark(states)\n",
    "states_repr"
   ]
  },
  {
   "cell_type": "markdown",
   "metadata": {},
   "source": [
    "# 5. Class implementation"
   ]
  },
  {
   "cell_type": "code",
   "execution_count": 14,
   "metadata": {},
   "outputs": [],
   "source": [
    "# reset all variables from tests\n",
    "%reset -f"
   ]
  },
  {
   "cell_type": "code",
   "execution_count": 15,
   "metadata": {},
   "outputs": [],
   "source": [
    "# need to import numpy library\n",
    "# it is provided in most Python environment. If not you install it with pip install numpy\n",
    "import numpy as np\n",
    "# need to import enum. It is built in in the Python engine\n",
    "from enum import Enum\n",
    "\n",
    "class BoardMark(Enum):\n",
    "    '''\n",
    "    Constants for board marks\n",
    "    '''\n",
    "    INIT = -1\n",
    "    FILLER = 0\n",
    "    BLACK = 1\n",
    "\n",
    "class Board:\n",
    "    '''\n",
    "    Manage the board.\n",
    "    '''\n",
    "    \n",
    "    def __init__(self, some_clues):\n",
    "        '''\n",
    "        board constructor\n",
    "        '''\n",
    "        # given parameters\n",
    "        self.clues = some_clues\n",
    "        \n",
    "        # compute board dimensions\n",
    "        self.width = len(self.clues['cols']) \n",
    "        self.height = len(self.clues['rows'])\n",
    "        \n",
    "        # create board of type int, initialized with -1\n",
    "        default_value = BoardMark.INIT.value\n",
    "        self.states = np.full((self.height, self.width), default_value, dtype=int)\n",
    "        \n",
    "    def mark(self, row, col, mark):\n",
    "        '''\n",
    "        fill the cell with a mark\n",
    "        '''\n",
    "        self.states[row, col] = mark.value\n",
    "\n",
    "    def prettyprint(self):\n",
    "        '''\n",
    "        pretty print of the board \n",
    "        '''\n",
    "        print(\"cols:\", end=\" \")\n",
    "        print(*self.clues['cols']) # * unpacks and remove []s\n",
    "        print(\"rows:\")\n",
    "        [print(r) for r in self.clues['rows']]\n",
    "          \n",
    "        # dictionnaries are used in Python to describe swich cases depending on the value\n",
    "        marks_switches = {BoardMark.INIT.value:   '.', \n",
    "                          BoardMark.FILLER.value: 'x', \n",
    "                          BoardMark.BLACK.value:  'o'}\n",
    "        \n",
    "        # The switch can be applyed to the full array\n",
    "        # numpy provides ways to apply a function to all the cells\n",
    "        # must use vectorize, for whatever reason lambda does not work here\n",
    "        def switch_mark(v):\n",
    "            return marks_switches[v]\n",
    "        \n",
    "        apply_all_switch_mark = np.vectorize(switch_mark)\n",
    "        states_repr = apply_all_switch_mark(self.states)\n",
    "        states_repr        \n",
    "        \n",
    "        print(states_repr)\n"
   ]
  },
  {
   "cell_type": "markdown",
   "metadata": {},
   "source": [
    "## 5.1. Check 2x2 board"
   ]
  },
  {
   "cell_type": "code",
   "execution_count": 16,
   "metadata": {},
   "outputs": [
    {
     "name": "stdout",
     "output_type": "stream",
     "text": [
      "cols: 2 1\n",
      "rows:\n",
      "1\n",
      "2\n",
      "[['.' '.']\n",
      " ['.' '.']]\n"
     ]
    }
   ],
   "source": [
    "clues2x2 = {\n",
    "    'rows': [1, 2],\n",
    "    'cols': [2, 1]\n",
    "}\n",
    "board2x2 = Board(clues2x2)\n",
    "board2x2.prettyprint()"
   ]
  },
  {
   "cell_type": "code",
   "execution_count": 17,
   "metadata": {},
   "outputs": [
    {
     "name": "stdout",
     "output_type": "stream",
     "text": [
      "cols: 2 1\n",
      "rows:\n",
      "1\n",
      "2\n",
      "[['o' 'x']\n",
      " ['o' 'o']]\n"
     ]
    }
   ],
   "source": [
    "# give the solution to the game\n",
    "# index is row, cell\n",
    "board2x2.mark(0, 0, BoardMark.BLACK) \n",
    "board2x2.mark(0, 1, BoardMark.FILLER) \n",
    "board2x2.mark(1, 0, BoardMark.BLACK) \n",
    "board2x2.mark(1, 1, BoardMark.BLACK) \n",
    "\n",
    "board2x2.prettyprint()"
   ]
  },
  {
   "cell_type": "code",
   "execution_count": 18,
   "metadata": {},
   "outputs": [
    {
     "name": "stdout",
     "output_type": "stream",
     "text": [
      "{'rows': [1, 2], 'cols': [2, 1]}\n",
      "width:2, height:2\n",
      "[[1 0]\n",
      " [1 1]]\n"
     ]
    }
   ],
   "source": [
    "# internak of the board class are accessible\n",
    "print(board2x2.clues)\n",
    "print(f\"width:{board2x2.width}, height:{board2x2.height}\")\n",
    "print(board2x2.states)"
   ]
  },
  {
   "cell_type": "markdown",
   "metadata": {},
   "source": [
    "## 5.2. Check 5x5 split board"
   ]
  },
  {
   "cell_type": "code",
   "execution_count": 19,
   "metadata": {},
   "outputs": [
    {
     "name": "stdout",
     "output_type": "stream",
     "text": [
      "cols: 1 4 [2, 2] 4 1\n",
      "rows:\n",
      "1\n",
      "3\n",
      "[1, 1]\n",
      "3\n",
      "5\n",
      "[['.' '.' '.' '.' '.']\n",
      " ['.' '.' '.' '.' '.']\n",
      " ['.' '.' '.' '.' '.']\n",
      " ['.' '.' '.' '.' '.']\n",
      " ['.' '.' '.' '.' '.']]\n"
     ]
    }
   ],
   "source": [
    "clues5x5s = {\n",
    "    'rows': [1, 3, [1,1], 3, 5],\n",
    "    'cols': [1, 4, [2,2], 4, 1]\n",
    "}\n",
    "board5x5s = Board(clues5x5s)\n",
    "board5x5s.prettyprint()"
   ]
  },
  {
   "cell_type": "markdown",
   "metadata": {},
   "source": [
    "## 5.3. Check non square board\n",
    "\n",
    "In case width and height are mixed up"
   ]
  },
  {
   "cell_type": "code",
   "execution_count": 20,
   "metadata": {},
   "outputs": [
    {
     "name": "stdout",
     "output_type": "stream",
     "text": [
      "cols: 2 1\n",
      "rows:\n",
      "1\n",
      "2\n",
      "1\n",
      "2\n",
      "[['.' '.']\n",
      " ['.' '.']\n",
      " ['.' '.']\n",
      " ['.' '.']]\n"
     ]
    }
   ],
   "source": [
    "clues4x2 = {\n",
    "    'rows': [1, 2, 1, 2],\n",
    "    'cols': [2, 1]\n",
    "}\n",
    "board4x2 = Board(clues4x2)\n",
    "board4x2.prettyprint()"
   ]
  },
  {
   "cell_type": "markdown",
   "metadata": {},
   "source": [
    "## 6. Wrap up\n",
    "\n",
    "We have learned\n",
    "- how to analyze the problem\n",
    "- basics of numpy\n",
    "- enum\n",
    "- switch with dicst\n",
    "\n",
    "The class and clues are saved in episode01.py.\n",
    "\n",
    "We now have basic component to work a solution.\n",
    "\n"
   ]
  },
  {
   "cell_type": "markdown",
   "metadata": {},
   "source": [
    "## 6.1. Quick test of saved classes"
   ]
  },
  {
   "cell_type": "code",
   "execution_count": 21,
   "metadata": {},
   "outputs": [],
   "source": [
    "# reset all variables from tests\n",
    "%reset -f"
   ]
  },
  {
   "cell_type": "code",
   "execution_count": 22,
   "metadata": {},
   "outputs": [],
   "source": [
    "from episode01 import clues2x2, BoardMark, Board"
   ]
  },
  {
   "cell_type": "code",
   "execution_count": 23,
   "metadata": {},
   "outputs": [
    {
     "name": "stdout",
     "output_type": "stream",
     "text": [
      "cols: 2 1\n",
      "rows:\n",
      "1\n",
      "2\n",
      "[['o' '.']\n",
      " ['.' '.']]\n"
     ]
    }
   ],
   "source": [
    "board2x2 = Board(clues2x2)\n",
    "board2x2.mark(0, 0, BoardMark.BLACK) \n",
    "board2x2.prettyprint()"
   ]
  },
  {
   "cell_type": "markdown",
   "metadata": {},
   "source": [
    "# TODO - move the prologue in another episode"
   ]
  },
  {
   "cell_type": "code",
   "execution_count": null,
   "metadata": {},
   "outputs": [],
   "source": []
  }
 ],
 "metadata": {
  "kernelspec": {
   "display_name": "Python 3 (ipykernel)",
   "language": "python",
   "name": "python3"
  },
  "language_info": {
   "codemirror_mode": {
    "name": "ipython",
    "version": 3
   },
   "file_extension": ".py",
   "mimetype": "text/x-python",
   "name": "python",
   "nbconvert_exporter": "python",
   "pygments_lexer": "ipython3",
   "version": "3.9.7"
  }
 },
 "nbformat": 4,
 "nbformat_minor": 2
}
