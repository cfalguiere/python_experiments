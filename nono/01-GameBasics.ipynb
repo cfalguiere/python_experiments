{
 "cells": [
  {
   "cell_type": "markdown",
   "metadata": {},
   "source": [
    "# Game basics and problem representation"
   ]
  },
  {
   "cell_type": "markdown",
   "metadata": {},
   "source": [
    "## Game description"
   ]
  },
  {
   "cell_type": "markdown",
   "metadata": {},
   "source": [
    "## Project goals"
   ]
  },
  {
   "cell_type": "markdown",
   "metadata": {},
   "source": [
    "how this problem could be analyzed, find different options"
   ]
  },
  {
   "cell_type": "markdown",
   "metadata": {},
   "source": [
    "## Name the game concepts"
   ]
  },
  {
   "cell_type": "markdown",
   "metadata": {},
   "source": [
    "We need to name all the concepts. This will make it easier to create classes and functions later\n",
    "- the goal is to fill a board\n",
    "- the board consist of cells\n",
    "- the board organize cells horizontally in rows \n",
    "- the board organize cells vertically in columns (shorten as cols) \n",
    "- the cells have states which are undefined, solid/black and filler\n",
    "- game input is given as a list clues of for each row or col  \n",
    "- clue is either a number or a list of numbers \n",
    "- when there is only one block of black cells in the row or column the number gives the size of the block of contiguous cells\n",
    "- where there are multiple blocks of black cells in the row or col the clue is a list of sizes\n",
    "- the goal of the game is to find where blacks and fillers are so that the rules given by the clues holds"
   ]
  },
  {
   "cell_type": "markdown",
   "metadata": {},
   "source": [
    "## How to represent the clues "
   ]
  },
  {
   "cell_type": "markdown",
   "metadata": {},
   "source": [
    "You can stop and think for yourself how you would represent the clues to represent what is defined above"
   ]
  },
  {
   "cell_type": "markdown",
   "metadata": {},
   "source": [
    "### wait"
   ]
  },
  {
   "cell_type": "markdown",
   "metadata": {},
   "source": [
    "### clues\n",
    "\n",
    "There are many options. \n",
    "My choice is adict of two lists. Each list may contain numbers or list of numbers. I made my decision based on what is easier to use when writing instructions. \n",
    "\n",
    "Please note that the list will need to be handled carefully and integers will have to converted to a list to use the liust elements in a consistent way"
   ]
  },
  {
   "cell_type": "code",
   "execution_count": 1,
   "metadata": {},
   "outputs": [],
   "source": [
    "# game instructions for a 5x5 game\n",
    "\n",
    "# Please notee that list are base 0 so clues['cols'][1] is col 2\n",
    "# 4 denotes that col 2 has 4 contiguous black cells \n",
    "#    and a filler of 1 which position is unknown\n",
    "# [2,2] denotes that col 3 has 2 contiguous black cells, \n",
    "#    a filler which size is unknows and 2 contiguous black cels\n",
    "\n",
    "clues = {\n",
    "    'rows': [1, 3, [1,1], 3, 5],\n",
    "    'cols': [1, 4, [2,2], 4, 1]\n",
    "}"
   ]
  },
  {
   "cell_type": "markdown",
   "metadata": {},
   "source": [
    "### board"
   ]
  },
  {
   "cell_type": "markdown",
   "metadata": {},
   "source": [
    "There are different ways to represent a board\n",
    "- 2D matrix : a list (rows) of lists (columns)\n",
    "- 1D : a list of cells, the position of the cell is computed from the row and col number\n",
    "- Network : a network a cells linked to each other horizontally and vertically\n",
    "\n",
    "The goal is to solve the board and print it, so I will go for the most straightforward\n",
    "\n",
    "Numpy provides an efficient way of storing matrix and in addition allows to change the shape, for instance to witch between two dimensions and one when needed."
   ]
  },
  {
   "cell_type": "markdown",
   "metadata": {},
   "source": [
    "We will need some convention to store the state of the cells as undefined, black or filler\n",
    "- undefined : -1\n",
    "- filler : 0\n",
    "- black/solid : 1\n",
    "\n",
    "The rationale is that the sum of blacks should be easy to compare with the ckue value. So black should be 1. It make sense that fillers are 0 so they do not later the sums. Undefined could be anything we chan filter out easily."
   ]
  },
  {
   "cell_type": "markdown",
   "metadata": {},
   "source": [
    "We will also need to represent the board in order to check what happen.\n",
    "A simple representation of the board to start with be to convert this numbers into characters\n",
    "- undefined : .\n",
    "- filler : x\n",
    "- black/solid : o"
   ]
  },
  {
   "cell_type": "markdown",
   "metadata": {},
   "source": [
    "I make the assumption that the board can be represented as a plot with matplotlib. We will check this later."
   ]
  },
  {
   "cell_type": "markdown",
   "metadata": {},
   "source": [
    "### MVP board 2x2\n",
    "\n",
    "We will build a mini board of 4 cells, create some function and try to use them while solving the game manually"
   ]
  },
  {
   "cell_type": "code",
   "execution_count": 2,
   "metadata": {},
   "outputs": [],
   "source": [
    "import numpy as np"
   ]
  },
  {
   "cell_type": "code",
   "execution_count": 3,
   "metadata": {},
   "outputs": [
    {
     "data": {
      "text/plain": [
       "array([[-1, -1],\n",
       "       [-1, -1]])"
      ]
     },
     "execution_count": 3,
     "metadata": {},
     "output_type": "execute_result"
    }
   ],
   "source": [
    "# clues for mini game\n",
    "clues = {\n",
    "    'rows': [1, 2],\n",
    "    'cols': [2, 1]\n",
    "}\n",
    "\n",
    "# solution for the mini game\n",
    "#  ox\n",
    "#  oo\n",
    "\n",
    "# create a 2x2 board of type int, initialized with -1\n",
    "states = np.full((2, 2), -1, dtype=int)\n",
    "states"
   ]
  },
  {
   "cell_type": "code",
   "execution_count": 4,
   "metadata": {},
   "outputs": [
    {
     "data": {
      "text/plain": [
       "array([[1, 0],\n",
       "       [1, 1]])"
      ]
     },
     "execution_count": 4,
     "metadata": {},
     "output_type": "execute_result"
    }
   ],
   "source": [
    "# give the solution to the game\n",
    "# index is row, cell\n",
    "states[0,0]=1\n",
    "states[0,1]=0\n",
    "states[1,0]=1\n",
    "states[1,1]=1\n",
    "states"
   ]
  },
  {
   "cell_type": "code",
   "execution_count": 5,
   "metadata": {},
   "outputs": [
    {
     "data": {
      "text/plain": [
       "array([[2, 0],\n",
       "       [2, 2]])"
      ]
     },
     "execution_count": 5,
     "metadata": {},
     "output_type": "execute_result"
    }
   ],
   "source": [
    "f_marks = lambda v: v*2\n",
    "marks = f_marks(states)\n",
    "marks"
   ]
  },
  {
   "cell_type": "code",
   "execution_count": 6,
   "metadata": {},
   "outputs": [
    {
     "name": "stdout",
     "output_type": "stream",
     "text": [
      ".\n",
      "x\n",
      "o\n"
     ]
    }
   ],
   "source": [
    "marks_switcher = {-1: '.', 0: 'x', 1: 'o'}\n",
    "print(marks_switcher[-1])\n",
    "print(marks_switcher[0])\n",
    "print(marks_switcher[1])\n"
   ]
  },
  {
   "cell_type": "code",
   "execution_count": 7,
   "metadata": {},
   "outputs": [
    {
     "data": {
      "text/plain": [
       "array([['o', 'x'],\n",
       "       ['o', 'o']], dtype='<U1')"
      ]
     },
     "execution_count": 7,
     "metadata": {},
     "output_type": "execute_result"
    }
   ],
   "source": [
    "marks_switcher = {-1: '.', 0: 'x', 1: 'o'}\n",
    "# for whatever reason lambda does not work here\n",
    "def f_marks(v):\n",
    "    return marks_switcher[v]\n",
    "applyall = np.vectorize(f_marks)\n",
    "marks = applyall(states)\n",
    "marks"
   ]
  },
  {
   "cell_type": "markdown",
   "metadata": {},
   "source": [
    "### class implementation"
   ]
  },
  {
   "cell_type": "code",
   "execution_count": 8,
   "metadata": {},
   "outputs": [
    {
     "name": "stderr",
     "output_type": "stream",
     "text": [
      "ERROR:root:Invalid alias: The name clear can't be aliased because it is another magic command.\n",
      "ERROR:root:Invalid alias: The name more can't be aliased because it is another magic command.\n",
      "ERROR:root:Invalid alias: The name less can't be aliased because it is another magic command.\n",
      "ERROR:root:Invalid alias: The name man can't be aliased because it is another magic command.\n"
     ]
    }
   ],
   "source": [
    "# reset variables from tests\n",
    "%reset -f"
   ]
  },
  {
   "cell_type": "code",
   "execution_count": 9,
   "metadata": {},
   "outputs": [],
   "source": [
    "import numpy as np\n",
    "from enum import Enum\n",
    "\n",
    "# constants for mark lette\n",
    "class BoardMark(Enum):\n",
    "    INIT = -1\n",
    "    FILLER = 0\n",
    "    BLACK = 1\n",
    "\n",
    "class Board:\n",
    "    '''\n",
    "    Manage the board.\n",
    "    '''\n",
    "    \n",
    "    def __init__(self, some_clues):\n",
    "        '''\n",
    "        board constructor\n",
    "        '''\n",
    "        # given parameters\n",
    "        self.clues = some_clues\n",
    "        # compute board dimensions\n",
    "        self.width = len(self.clues['cols']) \n",
    "        self.height = len(self.clues['rows']) \n",
    "        # create board of type int, initialized with -1\n",
    "        default_value = BoardMark.INIT.value\n",
    "        self.states = np.full((self.height, self.width), default_value, dtype=int)\n",
    "        \n",
    "    def mark(self, row, col, mark):\n",
    "        '''\n",
    "        mark a cell\n",
    "        '''\n",
    "        self.states[row, col] = mark.value\n",
    "\n",
    "    def prettyprint(self):\n",
    "        '''\n",
    "        pretty print of the board \n",
    "        '''\n",
    "        print(\"cols:\", end=\" \")\n",
    "        print(*self.clues['cols']) # * unpacks and remove []s\n",
    "        print(\"rows:\")\n",
    "        [print(r) for r in self.clues['rows']]\n",
    "          \n",
    "        marks_switcher = {-1: '.', 0: 'x', 1: 'o'}\n",
    "        # for whatever reason lambda does not work here\n",
    "        def f_marks(v):\n",
    "            return marks_switcher[v]\n",
    "        applyall = np.vectorize(f_marks)\n",
    "        marks = applyall(self.states)\n",
    "        print(marks)\n"
   ]
  },
  {
   "cell_type": "markdown",
   "metadata": {},
   "source": [
    "### check mini game"
   ]
  },
  {
   "cell_type": "code",
   "execution_count": 10,
   "metadata": {},
   "outputs": [
    {
     "name": "stdout",
     "output_type": "stream",
     "text": [
      "cols: 2 1\n",
      "rows:\n",
      "1\n",
      "2\n",
      "[['.' '.']\n",
      " ['.' '.']]\n"
     ]
    }
   ],
   "source": [
    "# clues for mini game\n",
    "clues1 = {\n",
    "    'rows': [1, 2],\n",
    "    'cols': [2, 1]\n",
    "}\n",
    "board1 = Board(clues1)\n",
    "board1.prettyprint()"
   ]
  },
  {
   "cell_type": "code",
   "execution_count": 11,
   "metadata": {},
   "outputs": [
    {
     "name": "stdout",
     "output_type": "stream",
     "text": [
      "cols: 2 1\n",
      "rows:\n",
      "1\n",
      "2\n",
      "[['o' 'x']\n",
      " ['o' 'o']]\n"
     ]
    }
   ],
   "source": [
    "# give the solution to the game\n",
    "# index is row, cell\n",
    "board1.mark(0, 0, BoardMark.BLACK) \n",
    "board1.mark(0, 1, BoardMark.FILLER) \n",
    "board1.mark(1, 0, BoardMark.BLACK) \n",
    "board1.mark(1, 1, BoardMark.BLACK) \n",
    "\n",
    "board1.prettyprint()"
   ]
  },
  {
   "cell_type": "markdown",
   "metadata": {},
   "source": [
    "### check if not square 4x2"
   ]
  },
  {
   "cell_type": "code",
   "execution_count": 13,
   "metadata": {},
   "outputs": [
    {
     "name": "stdout",
     "output_type": "stream",
     "text": [
      "cols: 2 1\n",
      "rows:\n",
      "1\n",
      "2\n",
      "1\n",
      "2\n",
      "[['.' '.']\n",
      " ['.' '.']\n",
      " ['.' '.']\n",
      " ['.' '.']]\n"
     ]
    }
   ],
   "source": [
    "# clues for mini game\n",
    "clues1 = {\n",
    "    'rows': [1, 2, 1, 2],\n",
    "    'cols': [2, 1]\n",
    "}\n",
    "board1 = Board(clues1)\n",
    "board1.prettyprint()"
   ]
  },
  {
   "cell_type": "markdown",
   "metadata": {},
   "source": [
    "# TODO nb undefined, compute clues from board"
   ]
  },
  {
   "cell_type": "code",
   "execution_count": null,
   "metadata": {},
   "outputs": [],
   "source": []
  }
 ],
 "metadata": {
  "kernelspec": {
   "display_name": "Python 3",
   "language": "python",
   "name": "python3"
  },
  "language_info": {
   "codemirror_mode": {
    "name": "ipython",
    "version": 3
   },
   "file_extension": ".py",
   "mimetype": "text/x-python",
   "name": "python",
   "nbconvert_exporter": "python",
   "pygments_lexer": "ipython3",
   "version": "3.7.3"
  }
 },
 "nbformat": 4,
 "nbformat_minor": 2
}
