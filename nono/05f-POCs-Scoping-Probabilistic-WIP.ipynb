{
 "cells": [
  {
   "cell_type": "markdown",
   "id": "48f663e3",
   "metadata": {},
   "source": [
    "# Episode 05: Scoping of Proofs of concepts"
   ]
  },
  {
   "cell_type": "markdown",
   "id": "dfc21196",
   "metadata": {},
   "source": [
    "TOdo \n",
    "\n",
    "In Episode 03, some potential problem solving strategies or heuristics. Fitted out with the  classes improved in Episode 04, let's try to solve the problem.\n",
    "\n",
    "In this Episode will be focuse on exploring different technologies and check whether it is useful for solving this problem.\n",
    "\n",
    "We willmost of time focus on 2x2 simple problems and assume that we know a solution to the problem. The latter will simplify the problem by allowing to check if the proposed solution aquals the expected solution instead of verifying if the solution works.\n",
    "\n",
    "**Goals for this episode:**\n",
    "- Try to solve the puzzle with classes defined in Episode 04\n",
    "- List potential strategies or heuristics\n",
    "- Evaluate by solving simple 2x2 problem with a known solution"
   ]
  },
  {
   "cell_type": "markdown",
   "id": "93a44906",
   "metadata": {},
   "source": [
    "# TODO group by categories \n",
    "?\n",
    "optimizers\n",
    "machine learning - NLP /transformers\n",
    "\n",
    "\n",
    "use only known solutions and 2x2 here"
   ]
  },
  {
   "cell_type": "markdown",
   "id": "3e32e86c",
   "metadata": {},
   "source": [
    "# 1. Some initialisations"
   ]
  },
  {
   "cell_type": "code",
   "execution_count": 27,
   "id": "ea0ac7f5",
   "metadata": {},
   "outputs": [],
   "source": [
    "from episode04 import clues2x2, solution2x2, clues5x5s, solution5x5s\n",
    "from episode04 import Puzzle, BoardMark, SolvedNonoGameEngine\n",
    "\n",
    "import numpy as np"
   ]
  },
  {
   "cell_type": "code",
   "execution_count": 28,
   "id": "23d70915",
   "metadata": {},
   "outputs": [
    {
     "data": {
      "text/plain": [
       "{'rows': [1, 2], 'cols': [2, 1]}"
      ]
     },
     "execution_count": 28,
     "metadata": {},
     "output_type": "execute_result"
    }
   ],
   "source": [
    "clues2x2"
   ]
  },
  {
   "cell_type": "code",
   "execution_count": 29,
   "id": "54e31494",
   "metadata": {},
   "outputs": [
    {
     "data": {
      "text/plain": [
       "array([[1, 0],\n",
       "       [1, 1]])"
      ]
     },
     "execution_count": 29,
     "metadata": {},
     "output_type": "execute_result"
    }
   ],
   "source": [
    "solution2x2"
   ]
  },
  {
   "cell_type": "markdown",
   "id": "2be961e5",
   "metadata": {},
   "source": [
    "Now, let's loop over the problem space"
   ]
  },
  {
   "cell_type": "markdown",
   "id": "cdaea489",
   "metadata": {},
   "source": [
    "# 6. Probabilistic approach\n",
    "\n",
    "TODO"
   ]
  },
  {
   "cell_type": "markdown",
   "id": "bd889f2b",
   "metadata": {},
   "source": [
    "row 0 could be [x, o] or [o, x] \n",
    "=> probability of black is 0.5\n",
    "col 0 could be [x, o] or [o, x] \n",
    "=> probability of black is 0.5\n",
    "probability of top left cell to be black of probability of being black for row and black for col is the multiplication of probabilities"
   ]
  },
  {
   "cell_type": "code",
   "execution_count": 30,
   "id": "a2dc39c8",
   "metadata": {},
   "outputs": [],
   "source": [
    "# create the game engine\n",
    "puzzle2x2 = Puzzle(clues2x2)\n",
    "game2x2 = SolvedNonoGameEngine(puzzle2x2, solution2x2, track=True)"
   ]
  },
  {
   "cell_type": "code",
   "execution_count": 31,
   "id": "a9e21bf4",
   "metadata": {},
   "outputs": [
    {
     "data": {
      "text/plain": [
       "array([[0.5 , 0.25],\n",
       "       [1.  , 0.5 ]])"
      ]
     },
     "execution_count": 31,
     "metadata": {},
     "output_type": "execute_result"
    }
   ],
   "source": [
    "probs2x2 = np.full((puzzle2x2.height, puzzle2x2.width), -1, dtype=float)\n",
    "for i_row in range(len(puzzle2x2.given_clues['rows'])):\n",
    "    sum_row = puzzle2x2.given_clues['rows'][i_row]\n",
    "    for i_col in range(len(puzzle2x2.given_clues['cols'])):\n",
    "        sum_col = puzzle2x2.given_clues['cols'][i_col]\n",
    "        probs2x2[i_row, i_col] = (sum_row/puzzle2x2.width) * (sum_col/puzzle2x2.height)\n",
    "        \n",
    "probs2x2"
   ]
  },
  {
   "cell_type": "markdown",
   "id": "3b540505",
   "metadata": {},
   "source": [
    "it is actually wrong from here. 0.5 is undecided"
   ]
  },
  {
   "cell_type": "code",
   "execution_count": 32,
   "id": "c87cde97",
   "metadata": {},
   "outputs": [
    {
     "data": {
      "text/plain": [
       "array([[1. , 0.5],\n",
       "       [1. , 1. ]])"
      ]
     },
     "execution_count": 32,
     "metadata": {},
     "output_type": "execute_result"
    }
   ],
   "source": [
    "probs2x2 = np.full((puzzle2x2.height, puzzle2x2.width), -1, dtype=float)\n",
    "for i_row in range(len(puzzle2x2.given_clues['rows'])):\n",
    "    sum_row = puzzle2x2.given_clues['rows'][i_row]\n",
    "    for i_col in range(len(puzzle2x2.given_clues['cols'])):\n",
    "        sum_col = puzzle2x2.given_clues['cols'][i_col]\n",
    "        probs2x2[i_row, i_col] = max((sum_row/puzzle2x2.width), (sum_col/puzzle2x2.height))\n",
    "        \n",
    "probs2x2"
   ]
  },
  {
   "cell_type": "code",
   "execution_count": 33,
   "id": "ba628b5d",
   "metadata": {},
   "outputs": [
    {
     "data": {
      "image/png": "[encoded data removed]",
      "text/plain": [
       "<Figure size 72x72 with 1 Axes>"
      ]
     },
     "metadata": {
      "needs_background": "light"
     },
     "output_type": "display_data"
    },
    {
     "name": "stdout",
     "output_type": "stream",
     "text": [
      "error_count:0\n"
     ]
    }
   ],
   "source": [
    "for row in range(puzzle2x2.height):\n",
    "    for col in range(puzzle2x2.width):\n",
    "        value = BoardMark.BLACK if probs2x2[row, col] > 0.5 else BoardMark.FILLER\n",
    "        game2x2.play(row, col, value)\n",
    "\n",
    "game2x2.show()\n",
    "print(f\"error_count:{game2x2.errors}\")"
   ]
  },
  {
   "cell_type": "markdown",
   "id": "d1706c07",
   "metadata": {},
   "source": [
    "# TODO pas possible"
   ]
  },
  {
   "cell_type": "code",
   "execution_count": 34,
   "id": "9b7a0bce",
   "metadata": {},
   "outputs": [
    {
     "data": {
      "text/plain": [
       "{'rows': [1, 3, [1, 1], 3, 5], 'cols': [1, 4, [2, 2], 4, 1]}"
      ]
     },
     "execution_count": 34,
     "metadata": {},
     "output_type": "execute_result"
    }
   ],
   "source": [
    "clues5x5s"
   ]
  },
  {
   "cell_type": "code",
   "execution_count": 35,
   "id": "8b6d1958",
   "metadata": {},
   "outputs": [],
   "source": [
    "# create the game engine\n",
    "puzzle5x5s = Puzzle(clues5x5s)\n",
    "game5x5s = SolvedNonoGameEngine(puzzle5x5s, solution5x5s, track=True)"
   ]
  },
  {
   "cell_type": "code",
   "execution_count": 36,
   "id": "df68d2c2",
   "metadata": {},
   "outputs": [
    {
     "data": {
      "text/plain": [
       "1"
      ]
     },
     "execution_count": 36,
     "metadata": {},
     "output_type": "execute_result"
    }
   ],
   "source": [
    "sum_row_0 = sum(puzzle5x5s.norm_clues['rows'][0])\n",
    "sum_row_0"
   ]
  },
  {
   "cell_type": "code",
   "execution_count": 37,
   "id": "175beb7f",
   "metadata": {},
   "outputs": [
    {
     "data": {
      "text/plain": [
       "2"
      ]
     },
     "execution_count": 37,
     "metadata": {},
     "output_type": "execute_result"
    }
   ],
   "source": [
    "sum_row_2 = sum(puzzle5x5s.norm_clues['rows'][2])\n",
    "sum_row_2"
   ]
  },
  {
   "cell_type": "code",
   "execution_count": 38,
   "id": "529baa05",
   "metadata": {},
   "outputs": [
    {
     "data": {
      "text/plain": [
       "array([[0.2, 0.8, 0.8, 0.8, 0.2],\n",
       "       [0.6, 0.8, 0.8, 0.8, 0.6],\n",
       "       [0.4, 0.8, 0.8, 0.8, 0.4],\n",
       "       [0.6, 0.8, 0.8, 0.8, 0.6],\n",
       "       [1. , 1. , 1. , 1. , 1. ]])"
      ]
     },
     "execution_count": 38,
     "metadata": {},
     "output_type": "execute_result"
    }
   ],
   "source": [
    "probs5x5s = np.full((puzzle5x5s.height, puzzle5x5s.width), -1, dtype=float)\n",
    "for i_row in range(len(puzzle5x5s.norm_clues['rows'])):\n",
    "    sum_row = sum(puzzle5x5s.norm_clues['rows'][i_row])\n",
    "    for i_col in range(len(puzzle5x5s.norm_clues['cols'])):\n",
    "        sum_col = sum(puzzle5x5s.norm_clues['cols'][i_col])\n",
    "        probs5x5s[i_row, i_col] = max((sum_row/puzzle5x5s.width), (sum_col/puzzle5x5s.height))\n",
    "        \n",
    "probs5x5s"
   ]
  },
  {
   "cell_type": "code",
   "execution_count": 39,
   "id": "e0ab356c",
   "metadata": {},
   "outputs": [
    {
     "data": {
      "text/plain": [
       "array([[0.25, 0.25, 0.75, 0.25, 0.25],\n",
       "       [0.25, 0.75, 0.75, 0.75, 0.25],\n",
       "       [0.25, 0.75, 0.25, 0.75, 0.25],\n",
       "       [0.25, 0.75, 0.75, 0.75, 0.25],\n",
       "       [0.75, 0.75, 0.75, 0.75, 0.75]])"
      ]
     },
     "execution_count": 39,
     "metadata": {},
     "output_type": "execute_result"
    }
   ],
   "source": [
    "probs5x5s_alt = np.full((puzzle5x5s.height, puzzle5x5s.width), -1, dtype=float)\n",
    "for i in range(len(solution5x5s.flat[:])):\n",
    "        probs5x5s_alt.flat[i] =  0.75 if solution5x5s.flat[i] == 1 else 0.25\n",
    "        \n",
    "probs5x5s_alt"
   ]
  },
  {
   "cell_type": "code",
   "execution_count": 40,
   "id": "ee42bc47",
   "metadata": {},
   "outputs": [
    {
     "data": {
      "image/png": "[encoded data removed]",
      "text/plain": [
       "<Figure size 144x144 with 1 Axes>"
      ]
     },
     "metadata": {
      "needs_background": "light"
     },
     "output_type": "display_data"
    },
    {
     "name": "stdout",
     "output_type": "stream",
     "text": [
      "error_count:0\n"
     ]
    }
   ],
   "source": [
    "probs = probs5x5s_alt\n",
    "for row in range(puzzle5x5s.height):\n",
    "    for col in range(puzzle5x5s.width):\n",
    "        value = BoardMark.BLACK if probs[row, col] > 0.5 else BoardMark.FILLER\n",
    "        game5x5s.play(row, col, value)\n",
    "\n",
    "game5x5s.show()\n",
    "print(f\"error_count:{game5x5s.errors}\")"
   ]
  },
  {
   "cell_type": "markdown",
   "id": "2ce9d637",
   "metadata": {},
   "source": [
    "MC"
   ]
  },
  {
   "cell_type": "code",
   "execution_count": 41,
   "id": "d356362f",
   "metadata": {},
   "outputs": [
    {
     "data": {
      "text/plain": [
       "0.3139117989321982"
      ]
     },
     "execution_count": 41,
     "metadata": {},
     "output_type": "execute_result"
    }
   ],
   "source": [
    "import random\n",
    "\n",
    "random.uniform(0,1)"
   ]
  },
  {
   "cell_type": "code",
   "execution_count": 42,
   "id": "3a6b9286",
   "metadata": {},
   "outputs": [
    {
     "name": "stdout",
     "output_type": "stream",
     "text": [
      "BoardMark.BLACK\n",
      "BoardMark.BLACK\n",
      "BoardMark.BLACK\n",
      "BoardMark.BLACK\n",
      "BoardMark.BLACK\n",
      "BoardMark.FILLER\n",
      "BoardMark.FILLER\n",
      "BoardMark.BLACK\n",
      "BoardMark.BLACK\n",
      "BoardMark.BLACK\n"
     ]
    }
   ],
   "source": [
    "p = 0.75\n",
    "for i in range(10):\n",
    "    value = BoardMark.BLACK if random.uniform(0,1)<=p else BoardMark.FILLER\n",
    "    print(value)"
   ]
  },
  {
   "cell_type": "code",
   "execution_count": 43,
   "id": "93a84e67",
   "metadata": {},
   "outputs": [
    {
     "name": "stdout",
     "output_type": "stream",
     "text": [
      "[1, 0, 1, 1]\n"
     ]
    },
    {
     "data": {
      "image/png": "[encoded data removed]",
      "text/plain": [
       "<Figure size 72x72 with 2 Axes>"
      ]
     },
     "metadata": {
      "needs_background": "light"
     },
     "output_type": "display_data"
    }
   ],
   "source": [
    "# create the game engine\n",
    "puzzle2x2 = Puzzle(clues2x2)\n",
    "game2x2 = SolvedNonoGameEngine(puzzle2x2, solution2x2, track=True)\n",
    "\n",
    "def mc_sampler():\n",
    "    X = []\n",
    "    for row in range(puzzle2x2.height):\n",
    "        for col in range(puzzle2x2.width):\n",
    "            is_black = np.random.normal(probs2x2[row, col], 0.1) >= 0.5 \n",
    "            #is_black = random.uniform(probs2x2[row, col],1) >= 0.5 \n",
    "            value = BoardMark.BLACK.value if is_black else BoardMark.FILLER.value\n",
    "            X.append(value)\n",
    "    return X\n",
    "\n",
    "solved = False\n",
    "sample = None\n",
    "samples = []\n",
    "while(not solved):\n",
    "    sample =  mc_sampler()\n",
    "    if not sample in samples:\n",
    "        samples.append(sample)\n",
    "        print(sample)\n",
    "        game2x2.submit(sample)\n",
    "        solved = game2x2.is_solved()\n",
    "\n",
    "game2x2.submit(sample)\n",
    "game2x2.show_all()"
   ]
  },
  {
   "cell_type": "code",
   "execution_count": 44,
   "id": "9bccde52",
   "metadata": {},
   "outputs": [
    {
     "data": {
      "image/png": "[encoded data removed]",
      "text/plain": [
       "<Figure size 72x72 with 1 Axes>"
      ]
     },
     "metadata": {
      "needs_background": "light"
     },
     "output_type": "display_data"
    }
   ],
   "source": [
    "game2x2.submit(sample)\n",
    "game2x2.show()"
   ]
  },
  {
   "cell_type": "code",
   "execution_count": 45,
   "id": "9a8d182b",
   "metadata": {},
   "outputs": [
    {
     "data": {
      "text/plain": [
       "0.7898014101092078"
      ]
     },
     "execution_count": 45,
     "metadata": {},
     "output_type": "execute_result"
    }
   ],
   "source": [
    "np.random.normal(0.8,0.1)"
   ]
  },
  {
   "cell_type": "code",
   "execution_count": 51,
   "id": "ce45b4d0",
   "metadata": {},
   "outputs": [
    {
     "name": "stdout",
     "output_type": "stream",
     "text": [
      "[0, 0, 1, 0, 0, 0, 1, 1, 1, 0, 0, 1, 0, 1, 0, 0, 0, 1, 1, 0, 1, 1, 1, 1, 0]\n",
      "[0, 0, 1, 1, 0, 1, 0, 0, 1, 0, 0, 1, 0, 1, 0, 0, 1, 1, 0, 0, 1, 1, 1, 1, 0]\n",
      "[0, 0, 1, 0, 0, 1, 1, 1, 1, 0, 1, 1, 0, 1, 0, 1, 1, 1, 0, 0, 1, 1, 1, 0, 1]\n",
      "[0, 0, 1, 0, 0, 0, 1, 1, 1, 0, 0, 1, 0, 1, 0, 1, 1, 1, 1, 0, 1, 1, 1, 1, 1]\n",
      "[0, 0, 1, 0, 0, 0, 1, 1, 1, 0, 1, 1, 1, 0, 0, 0, 1, 1, 1, 0, 1, 1, 1, 1, 1]\n",
      "[0, 0, 1, 1, 0, 0, 1, 0, 1, 0, 0, 0, 0, 1, 0, 0, 1, 1, 1, 0, 1, 1, 1, 1, 1]\n",
      "[0, 0, 1, 0, 0, 0, 1, 1, 1, 0, 0, 1, 0, 1, 0, 0, 1, 1, 1, 0, 1, 0, 1, 1, 1]\n",
      "[0, 0, 1, 0, 0, 0, 1, 1, 1, 0, 0, 1, 0, 1, 0, 0, 1, 1, 1, 0, 1, 1, 1, 1, 1]\n"
     ]
    },
    {
     "data": {
      "image/png": "[encoded data removed]",
      "text/plain": [
       "<Figure size 72x72 with 8 Axes>"
      ]
     },
     "metadata": {
      "needs_background": "light"
     },
     "output_type": "display_data"
    }
   ],
   "source": [
    "# create the game engine\n",
    "puzzle5x5s = Puzzle(clues5x5s)\n",
    "game5x5s = SolvedNonoGameEngine(puzzle5x5s, solution5x5s, track=True)\n",
    "probs = probs5x5s_alt\n",
    "\n",
    "def mc_sampler():\n",
    "    X = []\n",
    "    for row in range(puzzle5x5s.height):\n",
    "        for col in range(puzzle5x5s.width):\n",
    "            is_black = np.random.normal(probs[row, col], 0.2) >= 0.5 \n",
    "            value = BoardMark.BLACK.value if is_black else BoardMark.FILLER.value\n",
    "            X.append(value)\n",
    "    return X\n",
    "\n",
    "solved = False\n",
    "sample = None\n",
    "samples = []\n",
    "i = 0\n",
    "while(not solved and i<50):\n",
    "    sample =  mc_sampler()\n",
    "    if not sample in samples:\n",
    "        samples.append(sample)\n",
    "        print(sample)\n",
    "        game5x5s.submit(sample)\n",
    "        solved = game5x5s.is_solved()\n",
    "    i += 1\n",
    "\n",
    "game5x5s.show_all()"
   ]
  },
  {
   "cell_type": "code",
   "execution_count": 52,
   "id": "fdb5aadb",
   "metadata": {},
   "outputs": [
    {
     "data": {
      "image/png": "[encoded data removed]",
      "text/plain": [
       "<Figure size 144x144 with 1 Axes>"
      ]
     },
     "metadata": {
      "needs_background": "light"
     },
     "output_type": "display_data"
    }
   ],
   "source": [
    "game5x5s.submit(sample)\n",
    "game5x5s.show()"
   ]
  },
  {
   "cell_type": "code",
   "execution_count": 49,
   "id": "52c5b9e2",
   "metadata": {},
   "outputs": [
    {
     "data": {
      "text/plain": [
       "array([[0.25, 0.25, 0.75, 0.25, 0.25],\n",
       "       [0.25, 0.75, 0.75, 0.75, 0.25],\n",
       "       [0.25, 0.75, 0.25, 0.75, 0.25],\n",
       "       [0.25, 0.75, 0.75, 0.75, 0.25],\n",
       "       [0.75, 0.75, 0.75, 0.75, 0.75]])"
      ]
     },
     "execution_count": 49,
     "metadata": {},
     "output_type": "execute_result"
    }
   ],
   "source": [
    "probs5x5s_alt = np.full((puzzle5x5s.height, puzzle5x5s.width), -1, dtype=float)\n",
    "for i in range(len(solution5x5s.flat[:])):\n",
    "        probs5x5s_alt.flat[i] =  0.75 if solution5x5s.flat[i] == 1 else 0.25\n",
    "        \n",
    "probs5x5s_alt"
   ]
  },
  {
   "cell_type": "markdown",
   "id": "6c788643",
   "metadata": {},
   "source": [
    "# TODO compute probs"
   ]
  },
  {
   "cell_type": "code",
   "execution_count": null,
   "id": "efc01897",
   "metadata": {},
   "outputs": [],
   "source": [
    "## Wrap up\n",
    "\n",
    "compute probs / update probs"
   ]
  },
  {
   "cell_type": "markdown",
   "id": "10ffdb5e",
   "metadata": {},
   "source": [
    "## 5.3. Wrap up\n",
    "\n",
    "Depends on the availability of useful probabilities. In the real work tehy may come from statistiics computed on the past behavior.\n",
    "\n",
    "What works:\n",
    "- can find an acceptable \"not so bad\" solution is the problem is not strictly defined where another algorithm would block on the lack of deterministic solution\n",
    "\n",
    "Limitation:\n",
    "- requires that a try and error process is acceptable\n",
    "\n",
    "The main idea is implemented. Need some improvement to running sum with split block and tests against the 5x5s game\n"
   ]
  },
  {
   "cell_type": "markdown",
   "id": "d4f98616",
   "metadata": {},
   "source": [
    "- Ideation: 30mn - classical paradigm \n",
    "- Design: 3h - I struggled with probility defintion. My fiirst asumption was wrong. I went down to an approximation\n",
    "- Implementation: 5h - I tried different ways of using the statistics"
   ]
  }
 ],
 "metadata": {
  "kernelspec": {
   "display_name": "Python 3 (ipykernel)",
   "language": "python",
   "name": "python3"
  },
  "language_info": {
   "codemirror_mode": {
    "name": "ipython",
    "version": 3
   },
   "file_extension": ".py",
   "mimetype": "text/x-python",
   "name": "python",
   "nbconvert_exporter": "python",
   "pygments_lexer": "ipython3",
   "version": "3.9.7"
  }
 },
 "nbformat": 4,
 "nbformat_minor": 5
}
