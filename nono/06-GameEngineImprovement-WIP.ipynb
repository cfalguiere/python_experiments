{
 "cells": [
  {
   "cell_type": "code",
   "execution_count": null,
   "id": "04558556",
   "metadata": {},
   "outputs": [],
   "source": [
    "multiplotter\n",
    "\n",
    "error count for all uses cases (including unknown solution)\n",
    "\n",
    "consistent try / submit semantic whether knows or unknown\n",
    "know : number of wrong cells\n",
    "unknown number of violated rules\n",
    "\n",
    "track experiment ?\n",
    "\n",
    "some refactoring"
   ]
  },
  {
   "cell_type": "code",
   "execution_count": 130,
   "id": "89c6b621",
   "metadata": {},
   "outputs": [],
   "source": [
    "import numpy as np\n",
    "from itertools import groupby"
   ]
  },
  {
   "cell_type": "code",
   "execution_count": 135,
   "id": "55fbe6f2",
   "metadata": {},
   "outputs": [
    {
     "data": {
      "text/plain": [
       "[[1], [2]]"
      ]
     },
     "execution_count": 135,
     "metadata": {},
     "output_type": "execute_result"
    }
   ],
   "source": [
    "states = np.array([[1,0], [1,1]])\n",
    "rows = states\n",
    "blocks = [ [len(list(g)) for k,g in groupby(line) if k==1]\n",
    "           for line in rows]\n",
    "blocks"
   ]
  },
  {
   "cell_type": "code",
   "execution_count": 138,
   "id": "44d05e27",
   "metadata": {},
   "outputs": [
    {
     "data": {
      "text/plain": [
       "[[1], [2]]"
      ]
     },
     "execution_count": 138,
     "metadata": {},
     "output_type": "execute_result"
    }
   ],
   "source": [
    "puzzle2x2 = Puzzle(clues2x2)\n",
    "puzzle2x2.norm_clues[\"rows\"]"
   ]
  },
  {
   "cell_type": "code",
   "execution_count": null,
   "id": "de0a0d3d",
   "metadata": {},
   "outputs": [],
   "source": []
  },
  {
   "cell_type": "code",
   "execution_count": 141,
   "id": "5e4f88fa",
   "metadata": {},
   "outputs": [
    {
     "data": {
      "text/plain": [
       "[([1], [1]), ([2], [2])]"
      ]
     },
     "execution_count": 141,
     "metadata": {},
     "output_type": "execute_result"
    }
   ],
   "source": [
    "list(zip(blocks, puzzle2x2.norm_clues[\"rows\"]))"
   ]
  },
  {
   "cell_type": "code",
   "execution_count": 148,
   "id": "dba5e13d",
   "metadata": {},
   "outputs": [
    {
     "data": {
      "text/plain": [
       "[0, 0]"
      ]
     },
     "execution_count": 148,
     "metadata": {},
     "output_type": "execute_result"
    }
   ],
   "source": [
    "[abs(sum(b)-sum(c)) for (b,c) in zip(blocks, puzzle2x2.norm_clues[\"rows\"])]"
   ]
  },
  {
   "cell_type": "code",
   "execution_count": 149,
   "id": "d55e7540",
   "metadata": {},
   "outputs": [
    {
     "data": {
      "text/plain": [
       "0"
      ]
     },
     "execution_count": 149,
     "metadata": {},
     "output_type": "execute_result"
    }
   ],
   "source": [
    "sum([abs(sum(b)-sum(c)) for (b,c) in zip(blocks, puzzle2x2.norm_clues[\"rows\"])])"
   ]
  },
  {
   "cell_type": "code",
   "execution_count": 150,
   "id": "c4fe3ed8",
   "metadata": {},
   "outputs": [
    {
     "data": {
      "text/plain": [
       "[[2], [2]]"
      ]
     },
     "execution_count": 150,
     "metadata": {},
     "output_type": "execute_result"
    }
   ],
   "source": [
    "states = np.array([[1,1], [1,1]])\n",
    "rows = states\n",
    "blocks = [ [len(list(g)) for k,g in groupby(line) if k==1]\n",
    "           for line in rows]\n",
    "blocks"
   ]
  },
  {
   "cell_type": "code",
   "execution_count": 151,
   "id": "ed32ca99",
   "metadata": {},
   "outputs": [
    {
     "data": {
      "text/plain": [
       "1"
      ]
     },
     "execution_count": 151,
     "metadata": {},
     "output_type": "execute_result"
    }
   ],
   "source": [
    "sum([abs(sum(b)-sum(c)) for (b,c) in zip(blocks, puzzle2x2.norm_clues[\"rows\"])])"
   ]
  },
  {
   "cell_type": "code",
   "execution_count": 153,
   "id": "9fb1f574",
   "metadata": {},
   "outputs": [
    {
     "data": {
      "text/plain": [
       "[[1], [3], [1, 1], [3], [5]]"
      ]
     },
     "execution_count": 153,
     "metadata": {},
     "output_type": "execute_result"
    }
   ],
   "source": [
    "puzzle5x5s = Puzzle(clues5x5s)\n",
    "puzzle5x5s.norm_clues[\"rows\"]"
   ]
  },
  {
   "cell_type": "code",
   "execution_count": 154,
   "id": "2f0c4a6e",
   "metadata": {},
   "outputs": [
    {
     "data": {
      "text/plain": [
       "[[1], [3], [1, 1], [3], [5]]"
      ]
     },
     "execution_count": 154,
     "metadata": {},
     "output_type": "execute_result"
    }
   ],
   "source": [
    "rows = solution5x5s\n",
    "blocks = [ [len(list(g)) for k,g in groupby(line) if k==1]\n",
    "           for line in rows]\n",
    "blocks"
   ]
  },
  {
   "cell_type": "code",
   "execution_count": 155,
   "id": "464d9361",
   "metadata": {},
   "outputs": [
    {
     "data": {
      "text/plain": [
       "0"
      ]
     },
     "execution_count": 155,
     "metadata": {},
     "output_type": "execute_result"
    }
   ],
   "source": [
    "sum([abs(sum(b)-sum(c)) for (b,c) in zip(blocks, puzzle5x5s.norm_clues[\"rows\"])])"
   ]
  },
  {
   "cell_type": "code",
   "execution_count": 159,
   "id": "2331becc",
   "metadata": {},
   "outputs": [
    {
     "data": {
      "text/plain": [
       "1"
      ]
     },
     "execution_count": 159,
     "metadata": {},
     "output_type": "execute_result"
    }
   ],
   "source": [
    "blocks = [[1], [3], [0, 1], [3], [5]]\n",
    "sum([abs(sum(b)-sum(c)) for (b,c) in zip(blocks, puzzle5x5s.norm_clues[\"rows\"])])"
   ]
  },
  {
   "cell_type": "code",
   "execution_count": 181,
   "id": "13ba0c78",
   "metadata": {},
   "outputs": [
    {
     "data": {
      "text/plain": [
       "3"
      ]
     },
     "execution_count": 181,
     "metadata": {},
     "output_type": "execute_result"
    }
   ],
   "source": [
    "blocks = [[1], [3], [0, -1], [3], [5]]\n",
    "sum([abs(sum(b)-sum(c)) for (b,c) in zip(blocks, puzzle5x5s.norm_clues[\"rows\"])])"
   ]
  },
  {
   "cell_type": "code",
   "execution_count": null,
   "id": "354e9b96",
   "metadata": {},
   "outputs": [],
   "source": [
    "TODO missing works more or less\n",
    "bloxls count the number of blacks \n",
    "test for missing black"
   ]
  },
  {
   "cell_type": "code",
   "execution_count": 183,
   "id": "d5a81188",
   "metadata": {},
   "outputs": [
    {
     "data": {
      "text/plain": [
       "[[], [2]]"
      ]
     },
     "execution_count": 183,
     "metadata": {},
     "output_type": "execute_result"
    }
   ],
   "source": [
    "states = np.array([[-1,0], [1,1]])\n",
    "rows = states\n",
    "blocks = [ [len(list(g)) for k,g in groupby(line) if k==1]\n",
    "           for line in rows]\n",
    "blocks"
   ]
  },
  {
   "cell_type": "code",
   "execution_count": 185,
   "id": "ecdbaf45",
   "metadata": {},
   "outputs": [
    {
     "data": {
      "text/plain": [
       "1"
      ]
     },
     "execution_count": 185,
     "metadata": {},
     "output_type": "execute_result"
    }
   ],
   "source": [
    "sum([abs(sum(b)-sum(c)) for (b,c) in zip(blocks, puzzle2x2.norm_clues[\"rows\"])])"
   ]
  },
  {
   "cell_type": "code",
   "execution_count": 195,
   "id": "29ed8587",
   "metadata": {},
   "outputs": [
    {
     "data": {
      "text/plain": [
       "array([[1, 0],\n",
       "       [1, 1]])"
      ]
     },
     "execution_count": 195,
     "metadata": {},
     "output_type": "execute_result"
    }
   ],
   "source": [
    "states = np.array([[1,-1], [1,1]])\n",
    "states = np.where(states == -1, 0, states)\n",
    "states"
   ]
  },
  {
   "cell_type": "code",
   "execution_count": 196,
   "id": "b1e441e3",
   "metadata": {},
   "outputs": [],
   "source": [
    "import numpy as np\n",
    "from itertools import groupby\n",
    "from operator import mul\n",
    "\n",
    "class NonoGameEngine:\n",
    "    '''\n",
    "    Provide utilities for this game\n",
    "    '''\n",
    "    \n",
    "    def __init__(self, a_puzzle):\n",
    "        '''\n",
    "        Engine constructor\n",
    "        '''\n",
    "            \n",
    "        self.puzzle = a_puzzle\n",
    "        \n",
    "        # init a board\n",
    "        self.board = Board(a_puzzle)\n",
    "        self.plotter = BoardPlotter(self.board)\n",
    "        \n",
    "        # init score\n",
    "        self.errors = 0\n",
    "        \n",
    "        \n",
    "    def show_board(self):\n",
    "        ''' \n",
    "        Plot the board\n",
    "        '''\n",
    "        self.plotter.show()  \n",
    "        \n",
    "        \n",
    "    def submit(self, states_list):\n",
    "        ''' \n",
    "        Submit the solution and give all the cells's state in one action\n",
    "        Check whether the states given a the registered solution (assumes it has been given)\n",
    "        Returns the number of errors\n",
    "        black missing are counted as errors - fillers are ignored\n",
    "        '''\n",
    "        #if apply: must aplly apply for computations\n",
    "        self.board.fill_all(states_list, autofill=autofill)\n",
    "        # board is okay if without errors on blacks\n",
    "        return self.compute_errors()\n",
    "           \n",
    "        \n",
    "    def is_solved(self):\n",
    "        '''\n",
    "        Check whether the puzzle is solved\n",
    "        '''\n",
    "        \n",
    "        done = True\n",
    "        if done:\n",
    "            done = self.board.count_empty() == 0\n",
    "        if done:\n",
    "            done = self.compute_errors() == 0\n",
    "        return done\n",
    "    \n",
    "    \n",
    "    def compute_errors(self):\n",
    "        '''\n",
    "        Compute the difference between given board and clues\n",
    "        '''\n",
    "        \n",
    "        # for rows\n",
    "        board_rows = self.get_rows_blocks()\n",
    "        clues_rows = self.puzzle.norm_clues[\"rows\"]\n",
    "        rows_errors = sum([abs(sum(b)-sum(c)) for (b,c) in zip(board_rows, clues_rows)])\n",
    "        # for cols\n",
    "        board_cols = self.get_cols_blocks()\n",
    "        clues_cols = self.puzzle.norm_clues[\"cols\"]\n",
    "        cols_errors = sum([abs(sum(b)-sum(c)) for (b,c) in zip(board_cols, clues_cols)])\n",
    "        return rows_errors + cols_errors\n",
    "\n",
    "    \n",
    "    def get_rows_blocks(self):\n",
    "        '''\n",
    "        Compute blocks for each rows\n",
    "        '''\n",
    "        \n",
    "        rows = self.board.states\n",
    "        blocks = [ [len(list(g)) for k,g in groupby(line) if k==1]\n",
    "                   for line in rows]\n",
    "        return blocks\n",
    "\n",
    "    \n",
    "    def get_cols_blocks(self):\n",
    "        '''\n",
    "        Compute blocks for each cols\n",
    "        '''\n",
    "        \n",
    "        w = self.board.states.shape[0]\n",
    "        h = self.board.states.shape[1]\n",
    "        length = mul(w, h)\n",
    "        cols = [ [self.board.states.reshape(length)[c+r*w]\n",
    "                     for r in range(0, h)]\n",
    "                 for c in range(0, w)]\n",
    "        blocks = [ [len(list(g)) for k,g in groupby(line) if k==1]\n",
    "                   for line in cols]\n",
    "        return blocks    \n",
    "\n",
    "    \n",
    "    \n",
    "class NonoWithSolutionGameEngine(NonoGameEngine):\n",
    "    '''\n",
    "    Provide utilities for this game. The solution is known beforehand.\n",
    "    '''\n",
    "    \n",
    "    def __init__(self, a_puzzle, a_solution):\n",
    "        '''\n",
    "        Engine constructor\n",
    "        '''\n",
    "        soper().__init__(a_puzzle)\n",
    "            \n",
    "        self.solution = a_solution\n",
    "        if a_solution:\n",
    "            self.flat_solution = self.solution.reshape(self.puzzle.cells_count).tolist()\n",
    "        else:\n",
    "            self.flat_solution = None\n",
    "        \n",
    "        # init score\n",
    "        self.errors = 0\n",
    "        \n",
    "        \n",
    "    def play(self, row, col, mark, apply=True):\n",
    "        ''' \n",
    "        Play the game by sending the state of one cell\n",
    "        Check whether an action is valid given a solution \n",
    "        If apply, update the board\n",
    "        '''\n",
    "        okay = self.solution[row, col] == mark.value   \n",
    "        if not okay:\n",
    "            self.errors += 1\n",
    "           \n",
    "        if apply:\n",
    "            # apply the real state which is what games usually do\n",
    "            true_mark = BoardMark(self.solution[row, col])\n",
    "            self.board.mark(row, col, true_mark)\n",
    "        return okay    \n",
    "\n",
    "    \n",
    "    def submit(self, states_list, apply=True):\n",
    "        ''' \n",
    "        Submit the solution and give all the cells's state in one action\n",
    "        Check whether the states given a the registered solution (assumes it has been given)\n",
    "        '''\n",
    "        # compute the difference between given board and known solution\n",
    "        self.errors = sum([abs(p-e) for (p,e) in zip(states_list, self.flat_solution) if p>=0])\n",
    "        if apply:\n",
    "            self.board.fill_all(states_list)\n",
    "        # board is okay when full and without errors\n",
    "        return  states_list == self.flat_solution # must account for empty \n",
    "    \n"
   ]
  },
  {
   "cell_type": "code",
   "execution_count": null,
   "id": "d10216b8",
   "metadata": {},
   "outputs": [],
   "source": [
    "TODO compute errors and missing on states ? \n",
    "cost of updatibg the board"
   ]
  },
  {
   "cell_type": "code",
   "execution_count": 173,
   "id": "12dc9cb4",
   "metadata": {},
   "outputs": [],
   "source": [
    "puzzle2x2 = Puzzle(clues2x2)"
   ]
  },
  {
   "cell_type": "code",
   "execution_count": 191,
   "id": "42b16e91",
   "metadata": {},
   "outputs": [
    {
     "data": {
      "text/plain": [
       "0"
      ]
     },
     "execution_count": 191,
     "metadata": {},
     "output_type": "execute_result"
    }
   ],
   "source": [
    "game2x2 = NonoGameEngine(puzzle2x2)\n",
    "score = game2x2.submit(solution2x2, apply=True)\n",
    "score"
   ]
  },
  {
   "cell_type": "code",
   "execution_count": 175,
   "id": "5774accc",
   "metadata": {},
   "outputs": [
    {
     "data": {
      "text/plain": [
       "0"
      ]
     },
     "execution_count": 175,
     "metadata": {},
     "output_type": "execute_result"
    }
   ],
   "source": [
    "game2x2.compute_errors()"
   ]
  },
  {
   "cell_type": "code",
   "execution_count": 177,
   "id": "2f9a7b30",
   "metadata": {},
   "outputs": [
    {
     "data": {
      "text/plain": [
       "0"
      ]
     },
     "execution_count": 177,
     "metadata": {},
     "output_type": "execute_result"
    }
   ],
   "source": [
    "game2x2.board.count_empty()"
   ]
  },
  {
   "cell_type": "code",
   "execution_count": 193,
   "id": "e22ebc1f",
   "metadata": {},
   "outputs": [
    {
     "data": {
      "text/plain": [
       "0"
      ]
     },
     "execution_count": 193,
     "metadata": {},
     "output_type": "execute_result"
    }
   ],
   "source": [
    "puzzle5x5s = Puzzle(clues5x5s)\n",
    "game5x5s = NonoGameEngine(puzzle5x5s)\n",
    "score = game5x5s.submit(solution5x5s, apply=True)\n",
    "score"
   ]
  },
  {
   "cell_type": "code",
   "execution_count": 9,
   "id": "bc7703cc",
   "metadata": {},
   "outputs": [],
   "source": [
    "from episode04 import clues2x2, clues5x5s, solution2x2, solution5x5s\n",
    "from episode04 import Puzzle, BoardMark\n",
    "\n",
    "import numpy as np"
   ]
  },
  {
   "cell_type": "code",
   "execution_count": 7,
   "id": "9556c4ba",
   "metadata": {},
   "outputs": [],
   "source": [
    "from episode04 import Board, BoardMark, BoardPlotter"
   ]
  },
  {
   "cell_type": "code",
   "execution_count": 16,
   "id": "d1304904",
   "metadata": {},
   "outputs": [
    {
     "data": {
      "image/png": "[encoded data removed]",
      "text/plain": [
       "<Figure size 144x144 with 1 Axes>"
      ]
     },
     "metadata": {
      "needs_background": "light"
     },
     "output_type": "display_data"
    },
    {
     "name": "stdout",
     "output_type": "stream",
     "text": [
      "error_count:11\n"
     ]
    }
   ],
   "source": [
    "# create the game engine\n",
    "puzzle5x5s = Puzzle(clues5x5s)\n",
    "game5x5s = GameEngine(puzzle5x5s, solution5x5s)\n",
    "\n",
    "for row in range(puzzle5x5s.height):\n",
    "    for col in range(puzzle5x5s.width):\n",
    "        game5x5s.play(row, col, BoardMark.BLACK)\n",
    "\n",
    "game5x5s.show_board()\n",
    "print(f\"error_count:{game5x5s.errors}\")\n",
    "assert game5x5s.errors == 11 "
   ]
  },
  {
   "cell_type": "code",
   "execution_count": 17,
   "id": "187b16e7",
   "metadata": {},
   "outputs": [
    {
     "data": {
      "image/png": "[encoded data removed]",
      "text/plain": [
       "<Figure size 144x144 with 1 Axes>"
      ]
     },
     "metadata": {
      "needs_background": "light"
     },
     "output_type": "display_data"
    },
    {
     "name": "stdout",
     "output_type": "stream",
     "text": [
      "error_count:1\n"
     ]
    }
   ],
   "source": [
    "# create the game engine\n",
    "puzzle5x5s = Puzzle(clues5x5s)\n",
    "game5x5s = GameEngine(puzzle5x5s, solution5x5s)\n",
    "\n",
    "okay = game5x5s.play(0, 0, BoardMark.BLACK, apply=False)\n",
    "assert not okay \n",
    "\n",
    "game5x5s.show_board()\n",
    "print(f\"error_count:{game5x5s.errors}\")\n",
    "assert game5x5s.errors == 1 "
   ]
  },
  {
   "cell_type": "code",
   "execution_count": 24,
   "id": "0ccdc61b",
   "metadata": {},
   "outputs": [
    {
     "data": {
      "image/png": "[encoded data removed]",
      "text/plain": [
       "<Figure size 72x72 with 1 Axes>"
      ]
     },
     "metadata": {
      "needs_background": "light"
     },
     "output_type": "display_data"
    },
    {
     "name": "stdout",
     "output_type": "stream",
     "text": [
      "error_count:2\n"
     ]
    }
   ],
   "source": [
    "# create the game engine\n",
    "puzzle2x2 = Puzzle(clues2x2)\n",
    "game2x2 = GameEngine(puzzle2x2, solution2x2)\n",
    "\n",
    "okay = game2x2.submit([1, 1, 0, 1])\n",
    "assert not okay \n",
    "\n",
    "game2x2.show_board()\n",
    "print(f\"error_count:{game2x2.errors}\")\n",
    "assert game2x2.errors == 2"
   ]
  },
  {
   "cell_type": "code",
   "execution_count": 25,
   "id": "60ee59ed",
   "metadata": {},
   "outputs": [
    {
     "data": {
      "image/png": "[encoded data removed]",
      "text/plain": [
       "<Figure size 72x72 with 1 Axes>"
      ]
     },
     "metadata": {
      "needs_background": "light"
     },
     "output_type": "display_data"
    },
    {
     "name": "stdout",
     "output_type": "stream",
     "text": [
      "error_count:0\n"
     ]
    }
   ],
   "source": [
    "# create the game engine\n",
    "puzzle2x2 = Puzzle(clues2x2)\n",
    "game2x2 = GameEngine(puzzle2x2, solution2x2)\n",
    "\n",
    "okay = game2x2.submit([1, 0, 1, 1])\n",
    "assert okay \n",
    "\n",
    "game2x2.show_board()\n",
    "print(f\"error_count:{game2x2.errors}\")\n",
    "assert game2x2.errors == 0"
   ]
  },
  {
   "cell_type": "code",
   "execution_count": 26,
   "id": "26ce2b78",
   "metadata": {},
   "outputs": [
    {
     "data": {
      "image/png": "[encoded data removed]",
      "text/plain": [
       "<Figure size 72x72 with 1 Axes>"
      ]
     },
     "metadata": {
      "needs_background": "light"
     },
     "output_type": "display_data"
    }
   ],
   "source": [
    "# create the game engine\n",
    "puzzle2x2 = Puzzle(clues2x2)\n",
    "game2x2 = GameEngine(puzzle2x2, solution2x2)\n",
    "\n",
    "okay = game2x2.submit([1, 1, 0, 1], apply=False)\n",
    "assert not okay \n",
    "game2x2.show_board()\n",
    "assert game2x2.errors == 2 "
   ]
  },
  {
   "cell_type": "markdown",
   "id": "19bec6d8",
   "metadata": {},
   "source": [
    "# TODO sans solution ?"
   ]
  },
  {
   "cell_type": "code",
   "execution_count": null,
   "id": "d49081c5",
   "metadata": {},
   "outputs": [],
   "source": []
  }
 ],
 "metadata": {
  "kernelspec": {
   "display_name": "Python 3 (ipykernel)",
   "language": "python",
   "name": "python3"
  },
  "language_info": {
   "codemirror_mode": {
    "name": "ipython",
    "version": 3
   },
   "file_extension": ".py",
   "mimetype": "text/x-python",
   "name": "python",
   "nbconvert_exporter": "python",
   "pygments_lexer": "ipython3",
   "version": "3.9.7"
  }
 },
 "nbformat": 4,
 "nbformat_minor": 5
}
