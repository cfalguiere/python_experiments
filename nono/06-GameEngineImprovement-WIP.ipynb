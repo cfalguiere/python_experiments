{
 "cells": [
  {
   "cell_type": "code",
   "execution_count": null,
   "id": "b33031ce",
   "metadata": {},
   "outputs": [],
   "source": []
  },
  {
   "cell_type": "code",
   "execution_count": 23,
   "id": "904dc070",
   "metadata": {},
   "outputs": [],
   "source": [
    "class GameEngine:\n",
    "    '''\n",
    "    Provide utilities for this game\n",
    "    '''\n",
    "    \n",
    "    def __init__(self, a_puzzle, a_solution):\n",
    "        '''\n",
    "        Engine constructor\n",
    "        '''\n",
    "            \n",
    "        self.puzzle = a_puzzle\n",
    "        self.solution = a_solution\n",
    "        if a_solution:\n",
    "            self.flat_solution = self.solution.reshape(self.puzzle.cells_count).tolist()\n",
    "        else:\n",
    "            self.flat_solution = None\n",
    "        \n",
    "        # init a board\n",
    "        self.board = Board(a_puzzle)\n",
    "        self.plotter = BoardPlotter(self.board)\n",
    "        \n",
    "        # init score\n",
    "        self.errors = 0\n",
    "        \n",
    "        \n",
    "    def show_board(self):\n",
    "        ''' \n",
    "        Plot the board\n",
    "        '''\n",
    "        self.plotter.show()  \n",
    "        \n",
    "        \n",
    "    def play(self, row, col, mark, apply=True):\n",
    "        ''' \n",
    "        Play the game by sending the state of one cell\n",
    "        Check whether an action is valid given a solution \n",
    "        If apply, update the board\n",
    "        '''\n",
    "        okay = self.solution[row, col] == mark.value   \n",
    "        if not okay:\n",
    "            self.errors += 1\n",
    "           \n",
    "        if apply:\n",
    "            # apply the real state which is what games usually do\n",
    "            true_mark = BoardMark(self.solution[row, col])\n",
    "            self.board.mark(row, col, true_mark)\n",
    "        return okay    \n",
    "    \n",
    "    \n",
    "    def submit(self, states_list, apply=True):\n",
    "        ''' \n",
    "        Submit the solution and give all the cells's state in one action\n",
    "        Check whether the states given a the registered solution (assumes it has been given)\n",
    "        '''\n",
    "        # compute the difference between given board and known solution\n",
    "        self.errors = sum([abs(p-e) for (p,e) in zip(states_list, self.flat_solution) if p>=0])\n",
    "        if apply:\n",
    "            self.board.fill_all(states_list)\n",
    "        # board is okay when full and without errors\n",
    "        return  states_list == self.flat_solution # must account for empty \n",
    "    \n",
    "           \n",
    "    def is_solved(self):\n",
    "        '''\n",
    "        Check whether the puzzle is solved\n",
    "        '''\n",
    "        \n",
    "        done = True\n",
    "        if done:\n",
    "            done = self.board.count_empty() == 0\n",
    "        if done:\n",
    "            done = self.get_rows_blocks() == self.puzzle.norm_clues['rows']\n",
    "        if done:\n",
    "            done = self.get_cols_blocks() == self.puzzle.norm_clues['cols']\n",
    "        return done\n",
    "    \n",
    "    \n",
    "    def get_rows_blocks(self):\n",
    "        '''\n",
    "        Compute blocks for each rows\n",
    "        '''\n",
    "        \n",
    "        rows = self.board.states\n",
    "        blocks = [ [len(list(g)) for k,g in groupby(line) if k==1]\n",
    "                   for line in rows]\n",
    "        return blocks\n",
    "\n",
    "    \n",
    "    def get_cols_blocks(self):\n",
    "        '''\n",
    "        Compute blocks for each cols\n",
    "        '''\n",
    "        \n",
    "        w = self.board.states.shape[0]\n",
    "        h = self.board.states.shape[1]\n",
    "        length = mul(w, h)\n",
    "        cols = [ [self.board.states.reshape(length)[c+r*w]\n",
    "                     for r in range(0, h)]\n",
    "                 for c in range(0, w)]\n",
    "        blocks = [ [len(list(g)) for k,g in groupby(line) if k==1]\n",
    "                   for line in cols]\n",
    "        return blocks    \n"
   ]
  },
  {
   "cell_type": "code",
   "execution_count": 9,
   "id": "7922437c",
   "metadata": {},
   "outputs": [],
   "source": [
    "from episode04 import clues2x2, clues5x5s, solution2x2, solution5x5s\n",
    "from episode04 import Puzzle, BoardMark\n",
    "\n",
    "import numpy as np"
   ]
  },
  {
   "cell_type": "code",
   "execution_count": 7,
   "id": "ad8f2bcf",
   "metadata": {},
   "outputs": [],
   "source": [
    "from episode04 import Board, BoardMark, BoardPlotter"
   ]
  },
  {
   "cell_type": "code",
   "execution_count": 16,
   "id": "fd632064",
   "metadata": {},
   "outputs": [
    {
     "data": {
      "image/png": "[encoded data removed]",
      "text/plain": [
       "<Figure size 144x144 with 1 Axes>"
      ]
     },
     "metadata": {
      "needs_background": "light"
     },
     "output_type": "display_data"
    },
    {
     "name": "stdout",
     "output_type": "stream",
     "text": [
      "error_count:11\n"
     ]
    }
   ],
   "source": [
    "# create the game engine\n",
    "puzzle5x5s = Puzzle(clues5x5s)\n",
    "game5x5s = GameEngine(puzzle5x5s, solution5x5s)\n",
    "\n",
    "for row in range(puzzle5x5s.height):\n",
    "    for col in range(puzzle5x5s.width):\n",
    "        game5x5s.play(row, col, BoardMark.BLACK)\n",
    "\n",
    "game5x5s.show_board()\n",
    "print(f\"error_count:{game5x5s.errors}\")\n",
    "assert game5x5s.errors == 11 "
   ]
  },
  {
   "cell_type": "code",
   "execution_count": 17,
   "id": "744007f5",
   "metadata": {},
   "outputs": [
    {
     "data": {
      "image/png": "[encoded data removed]",
      "text/plain": [
       "<Figure size 144x144 with 1 Axes>"
      ]
     },
     "metadata": {
      "needs_background": "light"
     },
     "output_type": "display_data"
    },
    {
     "name": "stdout",
     "output_type": "stream",
     "text": [
      "error_count:1\n"
     ]
    }
   ],
   "source": [
    "# create the game engine\n",
    "puzzle5x5s = Puzzle(clues5x5s)\n",
    "game5x5s = GameEngine(puzzle5x5s, solution5x5s)\n",
    "\n",
    "okay = game5x5s.play(0, 0, BoardMark.BLACK, apply=False)\n",
    "assert not okay \n",
    "\n",
    "game5x5s.show_board()\n",
    "print(f\"error_count:{game5x5s.errors}\")\n",
    "assert game5x5s.errors == 1 "
   ]
  },
  {
   "cell_type": "code",
   "execution_count": 24,
   "id": "eb0d3cb4",
   "metadata": {},
   "outputs": [
    {
     "data": {
      "image/png": "[encoded data removed]",
      "text/plain": [
       "<Figure size 72x72 with 1 Axes>"
      ]
     },
     "metadata": {
      "needs_background": "light"
     },
     "output_type": "display_data"
    },
    {
     "name": "stdout",
     "output_type": "stream",
     "text": [
      "error_count:2\n"
     ]
    }
   ],
   "source": [
    "# create the game engine\n",
    "puzzle2x2 = Puzzle(clues2x2)\n",
    "game2x2 = GameEngine(puzzle2x2, solution2x2)\n",
    "\n",
    "okay = game2x2.submit([1, 1, 0, 1])\n",
    "assert not okay \n",
    "\n",
    "game2x2.show_board()\n",
    "print(f\"error_count:{game2x2.errors}\")\n",
    "assert game2x2.errors == 2"
   ]
  },
  {
   "cell_type": "code",
   "execution_count": 25,
   "id": "cb45e873",
   "metadata": {},
   "outputs": [
    {
     "data": {
      "image/png": "[encoded data removed]",
      "text/plain": [
       "<Figure size 72x72 with 1 Axes>"
      ]
     },
     "metadata": {
      "needs_background": "light"
     },
     "output_type": "display_data"
    },
    {
     "name": "stdout",
     "output_type": "stream",
     "text": [
      "error_count:0\n"
     ]
    }
   ],
   "source": [
    "# create the game engine\n",
    "puzzle2x2 = Puzzle(clues2x2)\n",
    "game2x2 = GameEngine(puzzle2x2, solution2x2)\n",
    "\n",
    "okay = game2x2.submit([1, 0, 1, 1])\n",
    "assert okay \n",
    "\n",
    "game2x2.show_board()\n",
    "print(f\"error_count:{game2x2.errors}\")\n",
    "assert game2x2.errors == 0"
   ]
  },
  {
   "cell_type": "code",
   "execution_count": 26,
   "id": "0edb60d7",
   "metadata": {},
   "outputs": [
    {
     "data": {
      "image/png": "[encoded data removed]",
      "text/plain": [
       "<Figure size 72x72 with 1 Axes>"
      ]
     },
     "metadata": {
      "needs_background": "light"
     },
     "output_type": "display_data"
    }
   ],
   "source": [
    "# create the game engine\n",
    "puzzle2x2 = Puzzle(clues2x2)\n",
    "game2x2 = GameEngine(puzzle2x2, solution2x2)\n",
    "\n",
    "okay = game2x2.submit([1, 1, 0, 1], apply=False)\n",
    "assert not okay \n",
    "game2x2.show_board()\n",
    "assert game2x2.errors == 2 "
   ]
  },
  {
   "cell_type": "markdown",
   "id": "f491caaa",
   "metadata": {},
   "source": [
    "# TODO sans solution ?"
   ]
  },
  {
   "cell_type": "markdown",
   "id": "f130d447",
   "metadata": {},
   "source": [
    "# Multiplotter\n",
    "\n",
    "build from puzzle\n",
    "\n",
    "consistent parameters (state ?)\n",
    "\n",
    "autoregister states "
   ]
  },
  {
   "cell_type": "code",
   "execution_count": 119,
   "id": "c83ca361",
   "metadata": {},
   "outputs": [],
   "source": [
    "import numpy as np\n",
    "from math import ceil\n",
    "\n",
    "import matplotlib.pyplot as plt\n",
    "import matplotlib.cm as cm\n",
    "from matplotlib.colors import LinearSegmentedColormap\n",
    "\n",
    "class BoardPlotter:\n",
    "    '''\n",
    "    Plot the board\n",
    "    Require %matplotlib inline .\n",
    "    '''\n",
    "    \n",
    "    cdict = {'red': [(0.0, 0.6196078431372549, 0.6196078431372549),\n",
    "      (0.5, 1.0, 1.0),\n",
    "      (1.0, 0.03137254901960784, 0.03137254901960784)],\n",
    "     'green': [(0.0, 0.792156862745098, 0.792156862745098),\n",
    "      (0.5, 1.0, 1.0),\n",
    "      (1.0, 0.18823529411764706, 0.18823529411764706)],\n",
    "     'blue': [(0.0, 0.8823529411764706, 0.8823529411764706),\n",
    "      (0.5, 1.0, 1.0),\n",
    "      (1.0, 0.4196078431372549, 0.4196078431372549)],\n",
    "     'alpha': [(0.0, 1.0, 1.0),\n",
    "      (0.5, 1.0, 1.0),\n",
    "      (1.0, 1.0, 1.0)]}\n",
    "    nono_cmap = LinearSegmentedColormap('nono', cdict)\n",
    "    \n",
    "    \n",
    "    def __init__(self, a_board):\n",
    "        '''\n",
    "        Plotter contructor\n",
    "        '''\n",
    "        self.board = a_board\n",
    "        self.clues = self.board.puzzle.given_clues\n",
    "      \n",
    "        def row_clue_to_label(v):\n",
    "            #print(v)\n",
    "            return str(v) if not isinstance(v, list) else ' '.join(map(str,v))\n",
    "        self.rows_labels = list(map(row_clue_to_label, self.clues['rows']))\n",
    "\n",
    "        def col_clue_to_label(v):\n",
    "            #print(v)\n",
    "            return str(v) if not isinstance(v, list) else '\\n'.join(map(str,v))\n",
    "        self.cols_labels = list(map(col_clue_to_label, self.clues['cols']))\n",
    "    \n",
    "    \n",
    "    def show(self):\n",
    "        '''\n",
    "        Show the plotter\n",
    "        '''\n",
    "        # WARNING :  the board is row col, while the fig is col row\n",
    "        data = self.board.states\n",
    "        w = self.board.width\n",
    "        h = self.board.height\n",
    "        nc = self.board.width * self.board.height\n",
    "        \n",
    "        # set some canvas\n",
    "        # guess the figure size \n",
    "        # 1 fits 2 cells\n",
    "        # 2 fits 5 cols\n",
    "        figw = int(w/2) \n",
    "        figh = int(h/2) \n",
    "        fig, ax = plt.subplots(figsize=(figw,figh))\n",
    "        # draw a heatmap\n",
    "        # ensure value range is -1 to 1\n",
    "        heatmap = ax.pcolor(data, cmap=self.nono_cmap, vmin=-1, vmax=1)\n",
    "\n",
    "        # ensure square cells\n",
    "        ax.set_aspect(\"equal\")\n",
    "\n",
    "        # put the major ticks at the middle of each cell\n",
    "        ax.set_xticks(np.arange(data.shape[1]) + 0.5, minor=False)\n",
    "        ax.set_yticks(np.arange(data.shape[0]) + 0.5, minor=False)\n",
    "\n",
    "        # put labels on top\n",
    "        ax.invert_yaxis()\n",
    "        ax.xaxis.tick_top()\n",
    "        \n",
    "\n",
    "        # set labels\n",
    "        column_labels = self.clues['cols']\n",
    "        row_labels = self.clues['rows']\n",
    "\n",
    "        ax.set_xticklabels(self.cols_labels, minor=False)\n",
    "        ax.set_yticklabels(self.rows_labels, minor=False)\n",
    "\n",
    "\n",
    "        # annotate fillers\n",
    "        # expect (col,row) is (1,0) for row=0 col=1\n",
    "        fillers_coordinates = [(p%w + 0.5, int(p/w) + 0.5) \n",
    "                               for (p,v) in enumerate(data.reshape(nc)) \n",
    "                               if v==0]\n",
    "        # place an X in the center of each coordinate\n",
    "        for coord in fillers_coordinates:\n",
    "            plt.text(coord[0], coord[1], 'x', \n",
    "                 verticalalignment='center',\n",
    "                 horizontalalignment='center',\n",
    "                 fontsize='xx-large')\n",
    "\n",
    "        plt.show()\n",
    "        \n",
    "           \n",
    "    def show_evolution(self, states_list):\n",
    "        '''\n",
    "        Show the plotter\n",
    "        list of np arrays\n",
    "        '''\n",
    "        fig = plt.figure()\n",
    "        #fig = plt.figure(figsize=(6,2))\n",
    "        fig.subplots_adjust(left=5, right=15, top=12, bottom=5)\n",
    "        i = 0\n",
    "        for data in states_list:\n",
    "            # WARNING :  the board is row col, while the fig is col row\n",
    "            #data = self.board.states\n",
    "            w = data.shape[1]\n",
    "            h = data.shape[0]\n",
    "            nc = w * h\n",
    "\n",
    "            # set some canvas\n",
    "            # guess the figure size \n",
    "            # 1 fits 2 cells\n",
    "            # 2 fits 5 cols\n",
    "            figw = int(w/2) \n",
    "            figh = int(h/2) \n",
    "            # fig, ax = plt.subplots(figsize=(figw,figh))\n",
    "            plt.rcParams['figure.figsize'] = [figw,figh]\n",
    "            i += 1\n",
    "            ax = fig.add_subplot(ceil(len(states_list)/6), 6, i)\n",
    "            # draw a heatmap\n",
    "            # ensure value range is -1 to 1\n",
    "            heatmap = ax.pcolor(data, cmap=self.nono_cmap, vmin=-1, vmax=1)\n",
    "\n",
    "            # ensure square cells\n",
    "            ax.set_aspect(\"equal\")\n",
    "\n",
    "            # put the major ticks at the middle of each cell\n",
    "            ax.set_xticks(np.arange(data.shape[1]) + 0.5, minor=False)\n",
    "            ax.set_yticks(np.arange(data.shape[0]) + 0.5, minor=False)\n",
    "\n",
    "            # put labels on top\n",
    "            ax.invert_yaxis()\n",
    "            ax.xaxis.tick_top()\n",
    "\n",
    "\n",
    "            # set labels\n",
    "            column_labels = self.clues['cols']\n",
    "            row_labels = self.clues['rows']\n",
    "\n",
    "            ax.set_xticklabels(self.cols_labels, minor=False)\n",
    "            ax.set_yticklabels(self.rows_labels, minor=False)\n",
    "\n",
    "\n",
    "            # annotate fillers\n",
    "            # expect (col,row) is (1,0) for row=0 col=1\n",
    "            fillers_coordinates = [(p%w + 0.5, int(p/w) + 0.5) \n",
    "                                   for (p,v) in enumerate(data.reshape(nc)) \n",
    "                                   if v==0]\n",
    "            # place an X in the center of each coordinate\n",
    "            for coord in fillers_coordinates:\n",
    "                plt.text(coord[0], coord[1], 'x', \n",
    "                     verticalalignment='center',\n",
    "                     horizontalalignment='center',\n",
    "                     fontsize='xx-large')\n",
    "\n",
    "        plt.show()"
   ]
  },
  {
   "cell_type": "code",
   "execution_count": 121,
   "id": "57bc0f0f",
   "metadata": {},
   "outputs": [],
   "source": [
    "puzzle2x2 = Puzzle(clues2x2)\n",
    "board2x2 = Board(puzzle2x2)\n",
    "plotter2x2 = BoardPlotter(board2x2)\n",
    "\n",
    "states1 = np.array([1,0,1,1]).reshape((2,2))\n",
    "states2 = np.array([1,1,0,1]).reshape((2,2))"
   ]
  },
  {
   "cell_type": "code",
   "execution_count": 32,
   "id": "1142a914",
   "metadata": {},
   "outputs": [
    {
     "data": {
      "text/plain": [
       "(2, 2)"
      ]
     },
     "execution_count": 32,
     "metadata": {},
     "output_type": "execute_result"
    }
   ],
   "source": [
    "states2.shape"
   ]
  },
  {
   "cell_type": "code",
   "execution_count": 122,
   "id": "57ee88b5",
   "metadata": {},
   "outputs": [
    {
     "data": {
      "image/png": "[encoded data removed]",
      "text/plain": [
       "<Figure size 72x72 with 2 Axes>"
      ]
     },
     "metadata": {
      "needs_background": "light"
     },
     "output_type": "display_data"
    }
   ],
   "source": [
    "plotter2x2.show_evolution([states1, states2])"
   ]
  },
  {
   "cell_type": "code",
   "execution_count": 89,
   "id": "9c8b2938",
   "metadata": {},
   "outputs": [
    {
     "data": {
      "text/plain": [
       "1"
      ]
     },
     "execution_count": 89,
     "metadata": {},
     "output_type": "execute_result"
    }
   ],
   "source": [
    "round(0.8)"
   ]
  },
  {
   "cell_type": "code",
   "execution_count": 123,
   "id": "9fa252f4",
   "metadata": {},
   "outputs": [],
   "source": [
    "import random\n",
    "\n",
    "puzzle2x2 = Puzzle(clues2x2)\n",
    "board2x2 = Board(puzzle2x2)\n",
    "plotter2x2 = BoardPlotter(board2x2)\n",
    "\n",
    "states_list = []\n",
    "for i in range(20):\n",
    "    states_float = np.random.rand(2, 2)\n",
    "    f = np.vectorize(round)\n",
    "    states = f(states_float) \n",
    "    states_list.append(states)\n",
    "    \n",
    "#states_list"
   ]
  },
  {
   "cell_type": "code",
   "execution_count": 124,
   "id": "5e3bf635",
   "metadata": {},
   "outputs": [
    {
     "data": {
      "image/png": "[encoded data removed]",
      "text/plain": [
       "<Figure size 72x72 with 20 Axes>"
      ]
     },
     "metadata": {
      "needs_background": "light"
     },
     "output_type": "display_data"
    }
   ],
   "source": [
    "plotter2x2.show_evolution(states_list)"
   ]
  },
  {
   "cell_type": "code",
   "execution_count": null,
   "id": "afeef7dd",
   "metadata": {},
   "outputs": [],
   "source": []
  }
 ],
 "metadata": {
  "kernelspec": {
   "display_name": "Python 3 (ipykernel)",
   "language": "python",
   "name": "python3"
  },
  "language_info": {
   "codemirror_mode": {
    "name": "ipython",
    "version": 3
   },
   "file_extension": ".py",
   "mimetype": "text/x-python",
   "name": "python",
   "nbconvert_exporter": "python",
   "pygments_lexer": "ipython3",
   "version": "3.9.7"
  }
 },
 "nbformat": 4,
 "nbformat_minor": 5
}
