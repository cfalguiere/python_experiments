{
 "cells": [
  {
   "cell_type": "markdown",
   "metadata": {},
   "source": [
    "# Episode 04: utilities wrap up"
   ]
  },
  {
   "cell_type": "markdown",
   "metadata": {},
   "source": [
    "Checking the board visually is fine for debugging but it does not work well when it comes to test a lot of board solutions.\n",
    "\n",
    "This episode provides some utilities for the POC to come. The goal is to have reasonably efficient classes but not spend too much time on this step.\n",
    "\n",
    "**Goals for this episode:**\n",
    "- Answer recurring questions \n",
    "    - What are the width, height, nulber of cellss of the puzzle \n",
    "    - Given a board is it completed ? \n",
    "    - Does it break the clues ?\n",
    "    - Are they cells left undefined ? \n",
    "    - Am I close to the goal ?\n"
   ]
  },
  {
   "cell_type": "markdown",
   "metadata": {},
   "source": [
    "# 1. Elements from episodes 01, 02 and 03"
   ]
  },
  {
   "cell_type": "markdown",
   "metadata": {},
   "source": [
    "TODO"
   ]
  },
  {
   "cell_type": "markdown",
   "metadata": {},
   "source": [
    "Requirements listed in Episode 02 still uncovered\n",
    "- a game engine which provides the game validation for try-and-error validation and solved board - for all kind of puzzles (we have tested 2x2 only)\n",
    "- some operation thate were identified in episode 01: is the board completed, is the board valid\n",
    "- a puzzle class with some operations to transform the clues and compute black count and cels count\n",
    "- try-and-error and learning process will require something in between not done and done in order to improve on residual error or rewards: number of cells completed/undefined, number of errors, number of valid cells\n"
   ]
  },
  {
   "cell_type": "markdown",
   "metadata": {},
   "source": [
    "# 2. Experiments"
   ]
  },
  {
   "cell_type": "markdown",
   "metadata": {},
   "source": [
    "# 5. Wrap up"
   ]
  },
  {
   "cell_type": "markdown",
   "metadata": {},
   "source": [
    "WThe class and solutions are saved in episode04.py.\n"
   ]
  },
  {
   "cell_type": "markdown",
   "metadata": {},
   "source": [
    "## 5.1. Quick test of saved classes"
   ]
  },
  {
   "cell_type": "code",
   "execution_count": 15,
   "metadata": {},
   "outputs": [],
   "source": [
    "# reset all variables from tests\n",
    "%reset -f"
   ]
  },
  {
   "cell_type": "markdown",
   "metadata": {},
   "source": [
    "classes implementatation [samples.py](https://raw.githubusercontent.com/cfalguiere/python_experiments/master/nono/episode03c/samples.py)"
   ]
  },
  {
   "cell_type": "markdown",
   "metadata": {},
   "source": [
    "classes implementatation [puzzle.py](https://raw.githubusercontent.com/cfalguiere/python_experiments/master/nono/episode03c/puzzle.py)"
   ]
  },
  {
   "cell_type": "markdown",
   "metadata": {},
   "source": [
    "classes implementatation [board.py](https://raw.githubusercontent.com/cfalguiere/python_experiments/master/nono/episode03c/board.py)"
   ]
  },
  {
   "cell_type": "markdown",
   "metadata": {},
   "source": [
    "classes implementatation [gameengine.py](https://raw.githubusercontent.com/cfalguiere/python_experiments/master/nono/episode03c/gameengine.py)"
   ]
  },
  {
   "cell_type": "markdown",
   "metadata": {},
   "source": [
    "classes implementatation [boardplotter.py](https://raw.githubusercontent.com/cfalguiere/python_experiments/master/nono/episode03c/boardplotter.py)"
   ]
  },
  {
   "cell_type": "code",
   "execution_count": 16,
   "metadata": {},
   "outputs": [],
   "source": [
    "from episode04.samples import clues2x2, clues5x5s, solution2x2, solution5x5s\n",
    "from episode04.puzzle import Puzzle\n",
    "from episode04.board import Board, BoardMark\n",
    "from episode04.gameengine import NonoGameEngine, SolvedNonoGameEngine"
   ]
  },
  {
   "cell_type": "code",
   "execution_count": 17,
   "metadata": {},
   "outputs": [
    {
     "data": {
      "image/png": "[encoded data removed]",
      "text/plain": [
       "<Figure size 72x72 with 2 Axes>"
      ]
     },
     "metadata": {
      "needs_background": "light"
     },
     "output_type": "display_data"
    }
   ],
   "source": [
    "# no solution provided\n",
    "puzzle2x2 = Puzzle(clues2x2)\n",
    "assert puzzle2x2.is_consistent()\n",
    "\n",
    "game2x2 = NonoGameEngine(puzzle2x2, track=True)\n",
    "\n",
    "game2x2.submit([1,1,0,1])\n",
    "game2x2.submit([1,0,1,1])\n",
    "\n",
    "game2x2.show_all()"
   ]
  },
  {
   "cell_type": "code",
   "execution_count": 18,
   "metadata": {},
   "outputs": [
    {
     "data": {
      "image/png": "[encoded data removed]",
      "text/plain": [
       "<Figure size 72x72 with 2 Axes>"
      ]
     },
     "metadata": {
      "needs_background": "light"
     },
     "output_type": "display_data"
    }
   ],
   "source": [
    "# with solution\n",
    "puzzle2x2 = Puzzle(clues2x2)\n",
    "game2x2 = SolvedNonoGameEngine(puzzle2x2, solution2x2, track=True)\n",
    "\n",
    "game2x2.submit([1,1,0,1])\n",
    "game2x2.submit([1,0,1,1])\n",
    "\n",
    "game2x2.show_all()"
   ]
  },
  {
   "cell_type": "code",
   "execution_count": 19,
   "metadata": {},
   "outputs": [
    {
     "data": {
      "image/png": "[encoded data removed]",
      "text/plain": [
       "<Figure size 144x144 with 1 Axes>"
      ]
     },
     "metadata": {
      "needs_background": "light"
     },
     "output_type": "display_data"
    }
   ],
   "source": [
    "# submit 5x5s\n",
    "puzzle5x5s = Puzzle(clues5x5s)\n",
    "assert puzzle5x5s.is_consistent()\n",
    "\n",
    "game5x5s = NonoGameEngine(puzzle5x5s)\n",
    "\n",
    "game5x5s.submit(solution5x5s.reshape(puzzle5x5s.cells_count).tolist())\n",
    "assert game5x5s.is_solved()\n",
    "\n",
    "game5x5s.show()"
   ]
  },
  {
   "cell_type": "code",
   "execution_count": 20,
   "metadata": {},
   "outputs": [
    {
     "name": "stdout",
     "output_type": "stream",
     "text": [
      "okay\n"
     ]
    }
   ],
   "source": [
    "print('okay')"
   ]
  },
  {
   "cell_type": "markdown",
   "metadata": {},
   "source": [
    "TODO doc clean up an refactoring\n",
    "\n",
    "Type annotations and associated type cheks\n",
    "\n",
    "interesting resources https://cjolowicz.github.io/posts/hypermodern-python-04-typing/\n",
    "\n",
    "Documentation and doc check"
   ]
  },
  {
   "cell_type": "markdown",
   "metadata": {},
   "source": [
    "more lint options \n",
    "    \"flake8-bandit\", \"flake8-black\", \"flake8-bugbear\", \"flake8-import-order\")\n",
    "https://pypi.org/project/flake8-black/\n",
    "\n",
    "introduce select one by one\n",
    "ANN,B,B9,BLK,C,E,F,I,S,W\n",
    "ANN annotations\n",
    "B\n",
    "B9 Black (MIT)\n",
    "BLK Black (MIT)\n",
    "C\n",
    "E\n",
    "F\n",
    "I\n",
    "S\n",
    "W\n",
    "\n",
    "a documenter en 01\n",
    "\n",
    "import in alphabetioc order\n",
    "build in first "
   ]
  },
  {
   "cell_type": "markdown",
   "metadata": {},
   "source": [
    "mypy\n",
    "\n",
    "episode04/gameengine.py:137: error: Call to untyped function \"show_all\" in typed context\n",
    "episode04/gameengine.py:145: error: Function is missing a type annotation\n",
    "episode04/gameengine.py:147: error: Call to untyped function \"__init__\" in typed context\n",
    "episode04/gameengine.py:156: error: Function is missing a type annotation\n",
    "episode04/gameengine.py:170: error: Call to untyped function \"mark\" in typed context\n",
    "episode04/gameengine.py:176: error: Function is missing a type annotation\n",
    "episode04/gameengine.py:183: error: Call to untyped function \"fill_all\" in typed context\n",
    "episode04/gameengine.py:195: error: Function is missing a return type annotation\n",
    "\n",
    "        \n",
    "episode04/gameengine.py:156: error: Function is missing a type annotation\n",
    "episode04/gameengine.py:170: error: Call to untyped function \"mark\" in typed context\n",
    "episode04/gameengine.py:176: error: Function is missing a type annotation\n",
    "episode04/gameengine.py:183: error: Call to untyped function \"fill_all\" in typed context\n",
    "episode04/gameengine.py:195: error: Function is missing a return type annotation\n"
   ]
  },
  {
   "cell_type": "markdown",
   "metadata": {},
   "source": [
    "from typing import List\n",
    "def submit(self, states_list: List[int], apply: bool = True):\n",
    "    \n",
    "   pour argument nommé attention à l'espace \n"
   ]
  },
  {
   "cell_type": "markdown",
   "metadata": {},
   "source": [
    "https://sadh.life/post/mypy-guide/"
   ]
  },
  {
   "cell_type": "markdown",
   "metadata": {},
   "source": [
    "\n",
    "ClueType = Dict[str, List[Union[List[int], int]]]\n",
    "SolutionType = npt.arrayLike\n",
    "\n",
    "ClueType = Union[List[int], int]\n",
    "CluesType = Dict[str, List[ClueType]]\n",
    "SolutionType = npt.ArrayLike\n",
    "\n",
    "\n",
    "def show_all(self, some_boards: Optional[List[Board]] = None):\n",
    "        \"\"\"Plot several boards.\"\"\"\n",
    "        boards = some_boards\n",
    "        if some_boards is None:\n",
    "            boards = self.boards\n"
   ]
  },
  {
   "cell_type": "markdown",
   "metadata": {},
   "source": [
    "mypy force annotation mais bmoque sur types complexes\n",
    "pytype inference moins d'erreurs mais laxiste, et plus lent - todo \n",
    "\n",
    "https://google.github.io/pytype/"
   ]
  },
  {
   "cell_type": "markdown",
   "metadata": {},
   "source": [
    "    def show_all(self, some_boards: Optional[List[Board]] = None) -> None:\n",
    "        \"\"\"Plot several boards.\"\"\"\n",
    "        boards: List[Board] = \\\n",
    "            self.boards if some_boards is None else some_boards\n",
    "\n",
    "        # max 12\n",
    "        # TODO nb depending on board size\n",
    "        cols_mapping = {2: 7, 5: 5}\n",
    "        n_cols = cols_mapping[self.width]\n",
    "        n_lines = ceil(len(boards) / n_cols)\n",
    "\n",
    "        fig = plt.figure()\n",
    "        fig.subplots_adjust(left=5, right=15, top=13, bottom=5)\n",
    "\n",
    "        for i, board in enumerate(boards):\n",
    "            # enumerate is base 0. figures are labelled base 1\n",
    "            # TODO explain slots names\n",
    "            plt.rcParams['figure.figsize'] = [self.fig_width, self.fig_height]\n",
    "            ax = fig.add_subplot(n_lines, n_cols, i + 1)\n",
    "            self._plot(board, ax)\n",
    "\n",
    "        plt.show()  # "
   ]
  },
  {
   "cell_type": "markdown",
   "metadata": {},
   "source": [
    "-> Optional[List[Board]] is not a list -> mypy errors\n",
    "design smell\n",
    "show_sequence\n",
    "append_to_sequence\n",
    "show_many param"
   ]
  },
  {
   "cell_type": "markdown",
   "metadata": {},
   "source": [
    "    def append_to_sequence(self, a_board: Board) -> None:\n",
    "        \"\"\"Append a board to a sequence of boards (history of states).\"\"\"\n",
    "        self.sequence.append(a_board)\n",
    "\n",
    "    def show_sequence(self) -> None:\n",
    "        \"\"\"show the sequence of boards.\"\"\"\n",
    "        self.show_many(self.sequence)\n",
    "\n",
    "    def show_many(self, some_boards: List[Board]) -> None:\n",
    "        \"\"\"Plot several boards.\"\"\"\n",
    "        # max 12\n"
   ]
  },
  {
   "cell_type": "markdown",
   "metadata": {},
   "source": [
    "othr rework\n",
    "\n",
    "    def __init__(self, some_clues: CluesType):\n",
    "        \"\"\"Construct a BoardPlotter.\"\"\"\n",
    "        self.clues = some_clues\n",
    "\n",
    "        # board dimensions\n",
    "        self.width = len(self.clues['rows'])\n",
    "        self.height = len(self.clues['cols'])\n",
    "        self.flat_length = self.width * self.height\n",
    "\n",
    "        # guess the figure size\n",
    "        # rule of thumb\n",
    "        # 1 fits 2 cells\n",
    "        # 2 fits 5 cols\n",
    "        self.fig_width = int(self.width / 2)\n",
    "        self.fig_height = int(self.height / 2)\n",
    "\n",
    "        # labels\n",
    "        def row_clue_to_label(v: ClueType) -> str:\n",
    "            is_list = isinstance(v, list)\n",
    "            return str(v) if not is_list else ' '.join(map(str, v))\n",
    "        self.rows_labels = list(map(row_clue_to_label, self.clues['rows']))\n",
    "\n",
    "        def col_clue_to_label(v: ClueType) -> str:\n",
    "            # print(v)\n",
    "            is_list = isinstance(v, list)\n",
    "            return str(v) if not is_list else '\\n'.join(map(str, v))\n",
    "        self.columns_labels = list(map(col_clue_to_label, self.clues['cols']))\n",
    "\n",
    "\n",
    "        ->\n",
    "        \n",
    "            def __init__(self, a_puzzle: Puzzle):\n",
    "        \"\"\"Construct a BoardPlotter.\"\"\"\n",
    "        self.clues = a_puzzle.given_clues\n",
    "\n",
    "        # board dimensions\n",
    "        self.width = len(self.clues['rows'])\n",
    "        self.height = len(self.clues['cols'])\n",
    "        self.flat_length = self.width * self.height\n",
    "\n",
    "        # guess the figure size\n",
    "        # rule of thumb\n",
    "        # 1 fits 2 cells\n",
    "        # 2 fits 5 cols\n",
    "        self.fig_width = int(self.width / 2)\n",
    "        self.fig_height = int(self.height / 2)\n",
    "\n",
    "        # labels\n",
    "        def to_label(v: NormClueType, sep: str = '') -> str:\n",
    "            return sep.join(map(str, v))\n",
    "\n",
    "        rows_to_label = partial(to_label, sep=' ')\n",
    "        cols_to_label = partial(to_label, sep='\\n')\n",
    "\n",
    "        norm_clues = a_puzzle.norm_clues\n",
    "        self.rows_labels = list(map(rows_to_label, norm_clues['rows']))\n",
    "        self.columns_labels = list(map(cols_to_label, norm_clues['cols']))\n",
    "\n",
    "        \n",
    "        \n",
    "eviter le Union (List in , int)"
   ]
  },
  {
   "cell_type": "markdown",
   "metadata": {},
   "source": [
    "        board_rows = self.get_rows_blocks()\n",
    "        clues_rows = self.puzzle.norm_clues[\"rows\"]\n",
    "        rows_errors = sum([abs(sum(b) - sum(c))\n",
    "                           for (b, c) in zip(board_rows, clues_rows)])\n",
    "\n",
    "        \n",
    "        \n",
    "Actually passed: (iterable: int)\n",
    "  Attributes of protocol Iterable[_SummableT] are not implemented on int: __iter__\n",
    "File \"/Users/cfalguiere/Documents/2022-03/git-repos/python_experiments/nono/episode03c/gameengine.py\", line 108, in count_errors: Built-in function sum was called with the wrong arguments [wrong-arg-types]\n",
    "         Expected: (iterable: Iterable[_Summable])\n",
    "  Actually passed: (iterable: int)\n",
    "\n",
    "    \n",
    "    refacto\n",
    "        # for rows\n",
    "        sums_board_rows = [sum(b) for b in self.get_rows_blocks()]\n",
    "        sums_clues_rows = [sum(c) for c in self.puzzle.norm_clues[\"rows\"]]\n",
    "        rows_errors = sum([abs(b - c)\n",
    "                           for (b, c) in zip(sums_board_rows, sums_clues_rows)])\n",
    "\n",
    "        # for cols\n",
    "        sums_board_cols = [sum(b) for b in self.get_cols_blocks()]\n",
    "        sums_clues_cols = [sum(c) for c in self.puzzle.norm_clues[\"cols\"]]\n",
    "        cols_errors = sum([abs(b - c)\n",
    "                           for (b, c)\n",
    "                           in zip(sums_board_cols, sums_clues_cols)])\n",
    "\n",
    "  \n",
    "    \n",
    "refacto\n",
    "            def axis_errors(blocks, clues):\n",
    "            sums_board = [sum(b) for b in blocks]\n",
    "            sums_clues = [sum(c) for c in clues]\n",
    "            errors = sum([abs(b - c)\n",
    "                          for (b, c)\n",
    "                          in zip(sums_board, sums_clues)])\n",
    "            return errors\n",
    "\n",
    "        rows_errors = axis_errors(self.get_rows_blocks(),\n",
    "                                  self.puzzle.norm_clues[\"rows\"])\n",
    "\n",
    "        cols_errors = axis_errors(self.get_cols_blocks(),\n",
    "                                  self.puzzle.norm_clues[\"cols\"])\n",
    "\n",
    "        return int((rows_errors + cols_errors) / 2)  # row error => col error\n",
    "    \n",
    "    \n",
    "STILL errors\n",
    "/Users/cfalguiere/Documents/2022-03/git-repos/python_experiments/nono/.nox/pytype/bin/python -m pytype.single --imports_info /Users/cfalguiere/Documents/2022-03/git-repos/python_experiments/nono/.pytype/imports/episode03d.gameengine.imports --module-name episode03d.gameengine --platform darwin -V 3.8 -o /Users/cfalguiere/Documents/2022-03/git-repos/python_experiments/nono/.pytype/pyi/episode03d/gameengine.pyi --analyze-annotated --nofail --quick /Users/cfalguiere/Documents/2022-03/git-repos/python_experiments/nono/episode03d/gameengine.py\n",
    "File \"/Users/cfalguiere/Documents/2022-03/git-repos/python_experiments/nono/episode03d/gameengine.py\", line 112, in count_errors: Built-in function sum was called with the wrong arguments [wrong-arg-types]\n",
    "         Expected: (iterable: Iterable[_Summable])\n",
    "  Actually passed: (iterable: int)\n",
    "  Attributes of protocol Iterable[_SummableT] are not implemented on int: __iter__\n",
    "File \"/Users/cfalguiere/Documents/2022-03/git-repos/python_experiments/nono/episode03d/gameengine.py\", line 119, in count_errors: Built-in function sum was called with the wrong arguments [wrong-arg-types]\n",
    "         Expected: (iterable: Iterable[_Summable])\n",
    "  Actually passed: (iterable: int)\n",
    "  Attributes of protocol Iterable[_SummableT] are not implemented on int: __iter__\n",
    "\n",
    "F\n",
    "\n",
    "\n",
    "    # todo document that ignore unfilled\n",
    "    def count_errors(self) -> int:\n",
    "        \"\"\"Compute the difference between given board states sum and clues.\"\"\"\n",
    "\n",
    "         def axis_errors(blocks: List[int], clues: NormCluesType) -> int:\n",
    "            sums_board = [sum(b) for b in blocks]\n",
    "            sums_clues = [sum(c) for c in clues]\n",
    "            errors = sum([abs(b - c)\n",
    "                          for (b, c)\n",
    "                          in zip(sums_board, sums_clues)])\n",
    "            return errors\n",
    "\n",
    "ClueType = Union[List[int], int]\n",
    "CluesType = Dict[str, List[ClueType]]\n",
    "NormClueType = List[List[int]]\n",
    "NormCluesType = Dict[str, NormClueType]\n",
    "->\n",
    "\n",
    "ClueType = Union[List[int], int]\n",
    "CluesType = Dict[str, List[ClueType]]\n",
    "NormClueType = List[int]\n",
    "NormCluesType = Dict[str, List[NormClueType]]\n",
    "SolutionType = npt.ArrayLike\n",
    "\n",
    "ColorMapType = Any\n",
    "\n",
    "also change the signature "
   ]
  },
  {
   "cell_type": "markdown",
   "metadata": {},
   "source": [
    "        def axis_errors(blocks: List[int], clues: List[NormClueType]) -> int:\n",
    "            sums_board = [sum(b) for b in blocks]\n",
    "            sums_clues = [sum(c) for c in clues]\n",
    "            errors = sum([abs(b - c)\n",
    "                          for (b, c)\n",
    "                          in zip(sums_board, sums_clues)])\n",
    "            return errors\n",
    "        \n",
    "        \n",
    "File \"/Users/cfalguiere/Documents/2022-03/git-repos/python_experiments/nono/episode03d/gameengine.py\", line 113, in axis_errors: Built-in function sum was called with the wrong arguments [wrong-arg-types]\n",
    "         Expected: (iterable: Iterable[_Summable])\n",
    "  Actually passed: (iterable: int)\n",
    "  Attributes of protocol Iterable[_SummableT] are not implemented on int: __iter__\n",
    "\n",
    "\n",
    "        def axis_errors(blocks: List[int], clues: List[NormClueType]) -> int:\n",
    "            sums_clues = [sum(c) for c in clues]\n",
    "            errors = sum([abs(b - c)\n",
    "                          for (b, c)\n",
    "                          in zip(blocks, sums_clues)])\n",
    "            return errors\n",
    "\n",
    "        it worked beacuse implementation is lenien"
   ]
  },
  {
   "cell_type": "markdown",
   "metadata": {},
   "source": [
    "also fixed was list of list"
   ]
  },
  {
   "cell_type": "markdown",
   "metadata": {},
   "source": [
    "    def get_rows_blocks(self) -> List[int]:   \n",
    "        \"\"\"Compute blocks for each rows.\"\"\"\n",
    "        rows = self.board.states\n",
    "        blocks = [[len(list(g)) for k, g in groupby(line) if k == 1]\n",
    "                  for line in rows]\n",
    "        return blocks\n"
   ]
  },
  {
   "cell_type": "markdown",
   "metadata": {},
   "source": [
    "tytemp remove mypy to debug"
   ]
  },
  {
   "cell_type": "markdown",
   "metadata": {},
   "source": [
    "config \n",
    "strict )->\n",
    "[mypy]\n",
    "disallow_untyped_defs = True\n",
    "disallow_any_unimported = True\n",
    "no_implicit_optional = True\n",
    "check_untyped_defs = True\n",
    "warn_return_any = False\n",
    "warn_unused_ignores = True\n",
    "show_error_codes = true\n",
    "\n",
    "[episode*.test_*]\n",
    "disallow_untyped_defs = True\n",
    "\n",
    "[numpy]\n",
    "ignore_missing_imports = True\n",
    "\n",
    "\n",
    "https://mypy.readthedocs.io/en/stable/config_file.html\n",
    "https://blog.wolt.com/engineering/2021/09/30/professional-grade-mypy-configuration/"
   ]
  },
  {
   "cell_type": "markdown",
   "metadata": {},
   "source": [
    "errors on external libs\n",
    "\n",
    "episode03a/boardplotter.py:8: error: Skipping analyzing \"matplotlib.pyplot\": module is installed, but missing library stubs or py.typed marker  [import]\n",
    "episode03a/boardplotter.py:8: note: See https://mypy.readthedocs.io/en/stable/running_mypy.html#missing-imports\n",
    "episode03a/boardplotter.py:8: error: Skipping analyzing \"matplotlib\": module is installed, but missing library stubs or py.typed marker  [import]\n",
    "\n",
    "[numpy, matplotlib.*]\n",
    "ignore_missing_imports = True\n",
    "              "
   ]
  },
  {
   "cell_type": "markdown",
   "metadata": {},
   "source": [
    "mypy\n",
    "\n",
    "episode04/gameengine.py:129: error: Incompatible return value type (got \"List[List[int]]\", expected \"List[int]\")  [return-value]\n",
    "episode04/gameengine.py:141: error: Incompatible return value type (got \"List[List[int]]\", expected \"List[int]\")  [return-value]\n",
    "\n",
    "            def get_rows_blocks(self) -> List[List[int]]:\n",
    "        \"\"\"Compute blocks for each rows.\"\"\"\n",
    "        rows = self.board.states\n",
    "        blocks = [[len(list(g)) for k, g in groupby(line) if k == 1]\n",
    "                  for line in rows]\n",
    "        return blocks\n",
    "        \n",
    "impact\n",
    "    def count_errors(self) -> int:\n",
    "        \"\"\"Compute the difference between given board states sum and clues.\"\"\"\n",
    "        def axis_errors(blocks: List[List[int]], clues: List[NormClueType]) -> int:\n",
    "            sums_blocks = [sum(b) for b in blocks]\n",
    "            sums_clues = [sum(c) for c in clues]\n",
    "            errors = sum([abs(b - c)\n",
    "                          for (b, c)\n",
    "                          in zip(sums_blocks, sums_clues)])\n",
    "            return errors\n"
   ]
  },
  {
   "cell_type": "markdown",
   "metadata": {},
   "source": [
    "typer les Any, au cas ou changerait apres et pour avoir un nom\n",
    "\n",
    "exemple\n",
    "episode03c/gameengine.py:148: error: Item \"_NestedSequence[Union[bool, int, float, complex, str, bytes]]\" of \"Union[_SupportsArray[dtype[Any]], _NestedSequence[_SupportsArray[dtype[Any]]], bool, int, float, complex, str, bytes, _NestedSequence[Union[bool, int, float, complex, str, bytes]]]\" has no attribute \"reshape\"  [union-attr]\n",
    "episode03c/gameengine.py:162: error: Value of type \"Union[_SupportsArray[dtype[Any]], _NestedSequence[_SupportsArray[dtype[Any]]], bool, int, float, complex, str, bytes, _NestedSequence[Union[bool, int, float, complex, str, bytes]]]\" is not indexable  [index]\n",
    "episode03c/gameengine.py:162: error: No overload variant of \"__getitem__\" of \"_NestedSequence\" matches argument type \"Tuple[int, int]\"  [call-overload]\n",
    "\n",
    "                def __init__(self,\n",
    "                 a_puzzle: Puzzle, a_solution: SolutionType,\n",
    "                 track: bool = False):\n",
    "        \"\"\"Construct a GameEngine.\"\"\"\n",
    "        super().__init__(a_puzzle, track)\n",
    "\n"
   ]
  },
  {
   "cell_type": "markdown",
   "metadata": {},
   "source": [
    "more  sense - not detected by pytype \n",
    "episode03a/boardplotter.py:39: error: Argument 2 to \"map\" has incompatible type \"Union[List[int], int]\"; expected \"Iterable[int]\"  [arg-type]\n",
    "episode03a/boardplotter.py:45: error: Argument 2 to \"map\" has incompatible type \"Union[List[int], int]\"; expected \"Iterable[int]\"  [arg-type]\n",
    "episode03d/gameengine.py:61: error: Need type annotation for \"board_states_history\" (hint: \"board_states_history: List[<type>] = ...\")  [var-annotated]\n",
    "episode03d/gameengine.py:63: error: Return type \"bool\" of \"play\" incompatible with return type \"None\" in supertype \"BoardGameEngine\"  [override]\n",
    "episode03d/gameengine.py:176: error: Return type \"bool\" of \"play\" incompatible with return type \"None\" in supertype \"BoardGameEngine\"  [override]\n",
    "episode03c/gameengine.py:25: error: Function is missing a return type annotation  [no-untyped-def]\n",
    "Found 6 errors in 3 files (checked 32 source files)\n"
   ]
  },
  {
   "cell_type": "markdown",
   "metadata": {},
   "source": [
    "    def play(self,\n",
    "             row: int, col: int, mark: BoardMark,\n",
    "             apply: bool = True) -> bool:\n",
    "        \"\"\"Play one cell.\n",
    "\n",
    "        Implementation shouod be provided by the subclass.\n",
    "        It is used in play_multiple.\n",
    "        \"\"\"\n",
    "        pass\n"
   ]
  },
  {
   "cell_type": "markdown",
   "metadata": {},
   "source": [
    "episode03c/gameengine.py:170: error: Returning Any from function declared to return \"bool\"  [no-any-return]\n",
    "    \n",
    "\n",
    "    def play(self,\n",
    "             row: int, col: int, mark: BoardMark,\n",
    "             apply: bool = True) -> bool:\n",
    "        \"\"\"Play one cell.\n",
    "\n",
    "        Play the game by sending the state of one cell.\n",
    "        Check whether an action is valid given a solution.\n",
    "        If apply is True, update the board.\n",
    "        \"\"\"\n",
    "        okay = self.solution[row, col] == mark.value\n",
    "        if not okay:\n",
    "            self.errors += 1\n",
    "\n",
    "        if apply:\n",
    "            # apply the real state which is what games usually do\n",
    "            true_mark = BoardMark(self.solution[row, col])\n",
    "            self.board.mark(row, col, true_mark)\n",
    "        return okay\n",
    "    \n",
    "    \n",
    "    -> return bool(okay)\n",
    "\n",
    "\n",
    "\n",
    "__eq__ returns Any, not bool, as counter-intuitive as this sounds. See also this question. – \n",
    "MrBean Bremen\n",
    "Dec 23, 2021 at 7:27\n"
   ]
  },
  {
   "cell_type": "markdown",
   "metadata": {},
   "source": [
    "episode03a/boardplotter.py:39: error: Argument 2 to \"map\" has incompatible type \"Union[List[int], int]\"; expected \"Iterable[int]\"  [arg-type]\n",
    "episode03a/boardplotter.py:45: error: Argument 2 to \"map\" has incompatible type \"Union[List[int], int]\"; expected \"Iterable[int]\"  [arg-type]\n",
    "\n",
    "                    def row_clue_to_label(v: ClueType) -> str:\n",
    "            is_list = isinstance(v, list)\n",
    "            return str(v) if not is_list else ' '.join(map(str, v))\n",
    "        self.rows_labels = list(map(row_clue_to_label, self.clues['rows']))\n",
    "\n",
    "        def col_clue_to_label(v: ClueType) -> str:\n",
    "            # print(v)\n",
    "            is_list = isinstance(v, list)\n",
    "            return str(v) if not is_list else '\\n'.join(map(str, v))\n",
    "        self.columns_labels = list(map(col_clue_to_label, self.clues['cols']))\n",
    "\n",
    "        \n",
    "fixed later\n",
    "\n",
    "map does not feature out is is a list and not a union\n",
    "\n",
    "KO             return str(v) if not is_list else ' '.join(map(str, list(v)))\n",
    "same with list"
   ]
  },
  {
   "cell_type": "markdown",
   "metadata": {},
   "source": [
    "overloading linked to union\n",
    "\n",
    "episode03c/gameengine.py:162: error: No overload variant of \"__getitem__\" of \"bytes\" matches argument type \"Tuple[int, int]\"  [call-overload]\n",
    "episode03c/gameengine.py:162: note:     def __getitem__(self, SupportsIndex) -> int\n",
    "episode03c/gameengine.py:162: note:     def __getitem__(self, slice) -> bytes\n",
    "episode03c/gameengine.py:162: note:     def __getitem__(self, int) -> Union[complex, str, bytes, _NestedSequence[Union[bool, int, float, complex, str, bytes]]]\n",
    "episode03c/gameengine.py:162: note:     def __getitem__(self, slice) -> _NestedSequence[Union[bool, int, float, complex, str, bytes]]\n",
    "\n",
    "\n",
    "        def to_label(v: Any, sep: str) -> str:\n",
    "            return sep.join(map(str, v))\n",
    "\n",
    "        def row_clue_to_label(v: ClueType) -> str:\n",
    "            is_list = isinstance(v, list)\n",
    "            return str(v) if not is_list else to_label(v, ' ')\n",
    "        self.rows_labels = list(map(row_clue_to_label, self.clues['rows']))\n"
   ]
  }
 ],
 "metadata": {
  "kernelspec": {
   "display_name": "Python 3 (ipykernel)",
   "language": "python",
   "name": "python3"
  },
  "language_info": {
   "codemirror_mode": {
    "name": "ipython",
    "version": 3
   },
   "file_extension": ".py",
   "mimetype": "text/x-python",
   "name": "python",
   "nbconvert_exporter": "python",
   "pygments_lexer": "ipython3",
   "version": "3.8.13"
  }
 },
 "nbformat": 4,
 "nbformat_minor": 2
}
