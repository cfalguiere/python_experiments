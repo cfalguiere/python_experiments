{
 "cells": [
  {
   "cell_type": "markdown",
   "metadata": {},
   "source": [
    "# Episode 04: utilities wrap up"
   ]
  },
  {
   "cell_type": "markdown",
   "metadata": {},
   "source": [
    "Checking the board visually is fine for debugging but it does not work well when it comes to test a lot of board solutions.\n",
    "\n",
    "This episode provides some utilities for the POC to come. The goal is to have reasonably efficient classes but not spend too much time on this step.\n",
    "\n",
    "**Goals for this episode:**\n",
    "- Answer recurring questions \n",
    "    - What are the width, height, nulber of cellss of the puzzle \n",
    "    - Given a board is it completed ? \n",
    "    - Does it break the clues ?\n",
    "    - Are they cells left undefined ? \n",
    "    - Am I close to the goal ?\n"
   ]
  },
  {
   "cell_type": "markdown",
   "metadata": {},
   "source": [
    "# 1. Elements from episodes 01, 02 and 03"
   ]
  },
  {
   "cell_type": "markdown",
   "metadata": {},
   "source": [
    "TODO"
   ]
  },
  {
   "cell_type": "markdown",
   "metadata": {},
   "source": [
    "Requirements listed in Episode 02 still uncovered\n",
    "- a game engine which provides the game validation for try-and-error validation and solved board - for all kind of puzzles (we have tested 2x2 only)\n",
    "- some operation thate were identified in episode 01: is the board completed, is the board valid\n",
    "- a puzzle class with some operations to transform the clues and compute black count and cels count\n",
    "- try-and-error and learning process will require something in between not done and done in order to improve on residual error or rewards: number of cells completed/undefined, number of errors, number of valid cells\n"
   ]
  },
  {
   "cell_type": "markdown",
   "metadata": {},
   "source": [
    "# 2. Experiments"
   ]
  },
  {
   "cell_type": "markdown",
   "metadata": {},
   "source": [
    "# 5. Wrap up"
   ]
  },
  {
   "cell_type": "markdown",
   "metadata": {},
   "source": [
    "WThe class and solutions are saved in episode04.py.\n"
   ]
  },
  {
   "cell_type": "markdown",
   "metadata": {},
   "source": [
    "5.1. Quick test of saved classes"
   ]
  },
  {
   "cell_type": "code",
   "execution_count": null,
   "metadata": {},
   "outputs": [],
   "source": [
    "# reset all variables from tests\n",
    "%reset -f"
   ]
  },
  {
   "cell_type": "code",
   "execution_count": 2,
   "metadata": {},
   "outputs": [],
   "source": [
    "from episode01 import clues2x2, clues5x5s, Board, BoardMark\n",
    "from episode02 import solution2x2, solution5x5s\n",
    "from episode04 import Puzzle, Board, BoardMark, NonoGameEngine, SolvedNonoGameEngine"
   ]
  },
  {
   "cell_type": "code",
   "execution_count": 8,
   "metadata": {},
   "outputs": [
    {
     "data": {
      "image/png": "[encoded data removed]",
      "text/plain": [
       "<Figure size 72x72 with 2 Axes>"
      ]
     },
     "metadata": {
      "needs_background": "light"
     },
     "output_type": "display_data"
    }
   ],
   "source": [
    "# no solution provided\n",
    "puzzle2x2 = Puzzle(clues2x2)\n",
    "assert puzzle2x2.is_consistent()\n",
    "\n",
    "game2x2 = NonoGameEngine(puzzle2x2, track=True)\n",
    "\n",
    "game2x2.submit([1,1,0,1])\n",
    "game2x2.submit([1,0,1,1])\n",
    "\n",
    "game2x2.show_all()"
   ]
  },
  {
   "cell_type": "code",
   "execution_count": 4,
   "metadata": {},
   "outputs": [
    {
     "data": {
      "image/png": "[encoded data removed]",
      "text/plain": [
       "<Figure size 72x72 with 2 Axes>"
      ]
     },
     "metadata": {
      "needs_background": "light"
     },
     "output_type": "display_data"
    }
   ],
   "source": [
    "# with solution\n",
    "puzzle2x2 = Puzzle(clues2x2)\n",
    "game2x2 = SolvedNonoGameEngine(puzzle2x2, solution2x2, track=True)\n",
    "\n",
    "game2x2.submit([1,1,0,1])\n",
    "game2x2.submit([1,0,1,1])\n",
    "\n",
    "game2x2.show_all()"
   ]
  },
  {
   "cell_type": "code",
   "execution_count": 5,
   "metadata": {},
   "outputs": [
    {
     "data": {
      "image/png": "[encoded data removed]",
      "text/plain": [
       "<Figure size 144x144 with 1 Axes>"
      ]
     },
     "metadata": {
      "needs_background": "light"
     },
     "output_type": "display_data"
    }
   ],
   "source": [
    "# submit 5x5s\n",
    "puzzle5x5s = Puzzle(clues5x5s)\n",
    "assert puzzle5x5s.is_consistent()\n",
    "\n",
    "game5x5s = NonoGameEngine(puzzle5x5s)\n",
    "\n",
    "game5x5s.submit(solution5x5s.reshape(puzzle5x5s.cells_count).tolist())\n",
    "assert game5x5s.is_solved()\n",
    "\n",
    "game5x5s.show()"
   ]
  },
  {
   "cell_type": "code",
   "execution_count": null,
   "metadata": {},
   "outputs": [],
   "source": []
  }
 ],
 "metadata": {
  "kernelspec": {
   "display_name": "Python 3 (ipykernel)",
   "language": "python",
   "name": "python3"
  },
  "language_info": {
   "codemirror_mode": {
    "name": "ipython",
    "version": 3
   },
   "file_extension": ".py",
   "mimetype": "text/x-python",
   "name": "python",
   "nbconvert_exporter": "python",
   "pygments_lexer": "ipython3",
   "version": "3.9.7"
  }
 },
 "nbformat": 4,
 "nbformat_minor": 2
}
