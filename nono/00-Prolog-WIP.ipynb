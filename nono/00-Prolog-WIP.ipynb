{
 "cells": [
  {
   "cell_type": "markdown",
   "id": "5fdf9a20",
   "metadata": {},
   "source": [
    "# Prolog"
   ]
  },
  {
   "cell_type": "markdown",
   "id": "5090a9b1",
   "metadata": {},
   "source": [
    "# 1. Puzzlz game description"
   ]
  },
  {
   "cell_type": "markdown",
   "id": "1246a2c4",
   "metadata": {},
   "source": [
    "# 2. This projects's goal"
   ]
  },
  {
   "cell_type": "markdown",
   "id": "45bd08e0",
   "metadata": {},
   "source": [
    "experiment with solution patterns, compare, learn some python\n",
    "\n",
    "this can be used as a tutorial"
   ]
  },
  {
   "cell_type": "code",
   "execution_count": null,
   "id": "7f7ae476",
   "metadata": {},
   "outputs": [],
   "source": [
    "explore that it takes to design the solution "
   ]
  },
  {
   "cell_type": "code",
   "execution_count": null,
   "id": "d91aa238",
   "metadata": {},
   "outputs": [],
   "source": [
    "ignore nonogram library"
   ]
  },
  {
   "cell_type": "code",
   "execution_count": null,
   "id": "d80e5153",
   "metadata": {},
   "outputs": [],
   "source": [
    "ignore researc on nonograms"
   ]
  },
  {
   "cell_type": "code",
   "execution_count": null,
   "id": "adf342cb",
   "metadata": {},
   "outputs": [],
   "source": [
    "acces to sources on algorithms and heuristics"
   ]
  }
 ],
 "metadata": {
  "kernelspec": {
   "display_name": "Python 3 (ipykernel)",
   "language": "python",
   "name": "python3"
  },
  "language_info": {
   "codemirror_mode": {
    "name": "ipython",
    "version": 3
   },
   "file_extension": ".py",
   "mimetype": "text/x-python",
   "name": "python",
   "nbconvert_exporter": "python",
   "pygments_lexer": "ipython3",
   "version": "3.9.7"
  }
 },
 "nbformat": 4,
 "nbformat_minor": 5
}
