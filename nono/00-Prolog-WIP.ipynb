{
 "cells": [
  {
   "cell_type": "markdown",
   "id": "5fdf9a20",
   "metadata": {},
   "source": [
    "# Prolog"
   ]
  },
  {
   "cell_type": "markdown",
   "id": "5090a9b1",
   "metadata": {},
   "source": [
    "# 1. Puzzlz game description"
   ]
  },
  {
   "cell_type": "markdown",
   "id": "1246a2c4",
   "metadata": {},
   "source": [
    "# 2. This projects's goal"
   ]
  },
  {
   "cell_type": "markdown",
   "id": "45bd08e0",
   "metadata": {},
   "source": [
    "experiment with solution patterns, compare, learn some python\n",
    "\n",
    "this can be used as a tutorial"
   ]
  },
  {
   "cell_type": "code",
   "execution_count": null,
   "id": "7f7ae476",
   "metadata": {},
   "outputs": [],
   "source": [
    "explore that it takes to design the solution "
   ]
  },
  {
   "cell_type": "code",
   "execution_count": null,
   "id": "d91aa238",
   "metadata": {},
   "outputs": [],
   "source": [
    "ignore nonogram library"
   ]
  },
  {
   "cell_type": "code",
   "execution_count": null,
   "id": "d80e5153",
   "metadata": {},
   "outputs": [],
   "source": [
    "ignore research on nonograms"
   ]
  },
  {
   "cell_type": "code",
   "execution_count": null,
   "id": "adf342cb",
   "metadata": {},
   "outputs": [],
   "source": [
    "acces to sources on algorithms and heuristics"
   ]
  },
  {
   "cell_type": "code",
   "execution_count": null,
   "id": "2306bcb4",
   "metadata": {},
   "outputs": [],
   "source": [
    "explore heuristics, show there are many ways to solve a ploblem"
   ]
  },
  {
   "cell_type": "markdown",
   "id": "e707a69f",
   "metadata": {},
   "source": [
    "It is easy to get lots in more and more experiments and pieces of code\n",
    "\n",
    "Funnel process\n",
    "- choose some hypothesis\n",
    "- scope with the most simple problem. Understand the principle of each hypothesius, limitations.  Evaluate whether it could be adapted for the  complex proble (larger boars, split block)\n",
    "- prioritize POCs\n",
    "- make POCS and test on more and more complex examples\n",
    "- select some POC to make a workable prototype and run more tests (accuracy, performance ...)\n",
    "\n",
    "use mostly  notebooks up to prototype and some classes \n",
    "\n",
    "unit tests on the way ?"
   ]
  },
  {
   "cell_type": "markdown",
   "id": "41868b48",
   "metadata": {},
   "source": [
    "Diary \n",
    "\n",
    "I reworked episode to add comment or fix typos in code I discovered later\n",
    "\n",
    "decided early to make a tuto but the form was undefined "
   ]
  },
  {
   "cell_type": "markdown",
   "id": "81cd3425",
   "metadata": {},
   "source": [
    "RL -> where to start -> interestng things from computer science techniques"
   ]
  },
  {
   "cell_type": "code",
   "execution_count": null,
   "id": "ffcf4fca",
   "metadata": {},
   "outputs": [],
   "source": []
  }
 ],
 "metadata": {
  "kernelspec": {
   "display_name": "Python 3 (ipykernel)",
   "language": "python",
   "name": "python3"
  },
  "language_info": {
   "codemirror_mode": {
    "name": "ipython",
    "version": 3
   },
   "file_extension": ".py",
   "mimetype": "text/x-python",
   "name": "python",
   "nbconvert_exporter": "python",
   "pygments_lexer": "ipython3",
   "version": "3.9.7"
  }
 },
 "nbformat": 4,
 "nbformat_minor": 5
}
