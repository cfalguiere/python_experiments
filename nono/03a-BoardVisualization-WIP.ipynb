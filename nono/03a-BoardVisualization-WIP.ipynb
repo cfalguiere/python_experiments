{
 "cells": [
  {
   "cell_type": "markdown",
   "metadata": {},
   "source": [
    "# Episode 03-a: Improve board visualization"
   ]
  },
  {
   "cell_type": "markdown",
   "metadata": {},
   "source": [
    "TODO\n",
    "\n",
    "**Goals for this episode:**\n",
    "- show a visual board rendering by leveraging matplotlib\n",
    "\n",
    "**Table of content**\n",
    "- [Create the puzzle and a board](#1)\n",
    "\n",
    "# TODO table of content\n",
    "# TODO functions documentation"
   ]
  },
  {
   "cell_type": "markdown",
   "metadata": {},
   "source": [
    "# 1. Create the puzzle and a board <a name=\"1\" />"
   ]
  },
  {
   "cell_type": "code",
   "execution_count": 1,
   "metadata": {},
   "outputs": [],
   "source": [
    "from episode01 import clues2x2, Board, BoardMark\n",
    "import numpy as np"
   ]
  },
  {
   "cell_type": "code",
   "execution_count": 2,
   "metadata": {},
   "outputs": [
    {
     "data": {
      "text/plain": [
       "{'rows': [1, 2], 'cols': [2, 1]}"
      ]
     },
     "execution_count": 2,
     "metadata": {},
     "output_type": "execute_result"
    }
   ],
   "source": [
    "# clues for mini game\n",
    "clues2x2"
   ]
  },
  {
   "cell_type": "code",
   "execution_count": 3,
   "metadata": {},
   "outputs": [
    {
     "name": "stdout",
     "output_type": "stream",
     "text": [
      "cols: 2 1\n",
      "rows:\n",
      "1\n",
      "2\n",
      "[['.' '.']\n",
      " ['.' '.']]\n",
      "cols: 2 1\n",
      "rows:\n",
      "1\n",
      "2\n",
      "[['.' 'x']\n",
      " ['.' 'o']]\n"
     ]
    }
   ],
   "source": [
    "board2x2 = Board(clues2x2)\n",
    "board2x2.prettyprint()\n",
    "board2x2.mark(0, 1, BoardMark.FILLER) \n",
    "board2x2.mark(1, 1, BoardMark.BLACK) \n",
    "board2x2.prettyprint()"
   ]
  },
  {
   "cell_type": "markdown",
   "metadata": {},
   "source": [
    "# 2. Experiments"
   ]
  },
  {
   "cell_type": "markdown",
   "metadata": {},
   "source": [
    "## 2.1. Basic board setup"
   ]
  },
  {
   "cell_type": "code",
   "execution_count": 4,
   "metadata": {},
   "outputs": [],
   "source": [
    "%matplotlib inline"
   ]
  },
  {
   "cell_type": "code",
   "execution_count": 5,
   "metadata": {},
   "outputs": [],
   "source": [
    "import matplotlib.pyplot as plt"
   ]
  },
  {
   "cell_type": "code",
   "execution_count": 6,
   "metadata": {},
   "outputs": [
    {
     "data": {
      "image/png": "[encoded data removed]",
      "text/plain": [
       "<Figure size 144x144 with 1 Axes>"
      ]
     },
     "metadata": {
      "needs_background": "light"
     },
     "output_type": "display_data"
    }
   ],
   "source": [
    "# start from basic example\n",
    "\n",
    "data = board2x2.states\n",
    "# set some canvas\n",
    "fig, ax = plt.subplots(figsize=(2,2))\n",
    "# draw a heatmap\n",
    "heatmap = ax.pcolor(data, cmap=plt.cm.Blues)\n",
    "\n",
    "# ensure square cells\n",
    "ax.set_aspect(\"equal\")\n",
    "\n",
    "# -1 very light blue, 0 filler, 1 black"
   ]
  },
  {
   "cell_type": "markdown",
   "metadata": {},
   "source": [
    "## 2.2. Better ticks placement"
   ]
  },
  {
   "cell_type": "code",
   "execution_count": 7,
   "metadata": {},
   "outputs": [
    {
     "data": {
      "image/png": "[encoded data removed]",
      "text/plain": [
       "<Figure size 144x144 with 1 Axes>"
      ]
     },
     "metadata": {
      "needs_background": "light"
     },
     "output_type": "display_data"
    }
   ],
   "source": [
    "# better ticks placement : one per cell and centered\n",
    "\n",
    "data = board2x2.states\n",
    "# set some canvas\n",
    "fig, ax = plt.subplots(figsize=(2,2))\n",
    "# draw a heatmap\n",
    "heatmap = ax.pcolor(board2x2.states, cmap=plt.cm.Blues)\n",
    "\n",
    "# ensure square cells\n",
    "ax.set_aspect(\"equal\")\n",
    "\n",
    "# put the major ticks at the middle of each cell\n",
    "ax.set_xticks(np.arange(data.shape[1]) + 0.5, minor=False)\n",
    "ax.set_yticks(np.arange(data.shape[0]) + 0.5, minor=False)\n",
    "\n",
    "# put labels on top\n",
    "ax.invert_yaxis()\n",
    "ax.xaxis.tick_top()\n"
   ]
  },
  {
   "cell_type": "markdown",
   "metadata": {},
   "source": [
    "## 2.3. Set the clues as label"
   ]
  },
  {
   "cell_type": "code",
   "execution_count": 8,
   "metadata": {},
   "outputs": [
    {
     "data": {
      "text/plain": [
       "[Text(0, 0.5, '1'), Text(0, 1.5, '2')]"
      ]
     },
     "execution_count": 8,
     "metadata": {},
     "output_type": "execute_result"
    },
    {
     "data": {
      "image/png": "[encoded data removed]",
      "text/plain": [
       "<Figure size 144x144 with 1 Axes>"
      ]
     },
     "metadata": {
      "needs_background": "light"
     },
     "output_type": "display_data"
    }
   ],
   "source": [
    "# set the clues as labels \n",
    "\n",
    "data = board2x2.states\n",
    "# set some canvas\n",
    "fig, ax = plt.subplots(figsize=(2,2))\n",
    "# draw a heatmap\n",
    "heatmap = ax.pcolor(board2x2.states, cmap=plt.cm.Blues)\n",
    "\n",
    "# ensure square cells\n",
    "ax.set_aspect(\"equal\")\n",
    "\n",
    "# put the major ticks at the middle of each cell\n",
    "ax.set_xticks(np.arange(data.shape[1]) + 0.5, minor=False)\n",
    "ax.set_yticks(np.arange(data.shape[0]) + 0.5, minor=False)\n",
    "\n",
    "# put labels on top\n",
    "ax.invert_yaxis()\n",
    "ax.xaxis.tick_top()\n",
    "\n",
    "# set labels\n",
    "column_labels = clues2x2['cols']\n",
    "row_labels = clues2x2['rows']\n",
    "\n",
    "ax.set_xticklabels(column_labels, minor=False)\n",
    "ax.set_yticklabels(row_labels, minor=False)\n"
   ]
  },
  {
   "cell_type": "markdown",
   "metadata": {},
   "source": [
    "## 2.4. Annotate fillers with x"
   ]
  },
  {
   "cell_type": "code",
   "execution_count": 9,
   "metadata": {},
   "outputs": [
    {
     "data": {
      "text/plain": [
       "Text(1.5, 0.5, 'X')"
      ]
     },
     "execution_count": 9,
     "metadata": {},
     "output_type": "execute_result"
    },
    {
     "data": {
      "image/png": "[encoded data removed]",
      "text/plain": [
       "<Figure size 72x72 with 1 Axes>"
      ]
     },
     "metadata": {
      "needs_background": "light"
     },
     "output_type": "display_data"
    }
   ],
   "source": [
    "# annotate fillers with x\n",
    "\n",
    "data = board2x2.states\n",
    "# set some canvas\n",
    "fig, ax = plt.subplots(figsize=(1,1))\n",
    "# draw a heatmap\n",
    "heatmap = ax.pcolor(board2x2.states, cmap=plt.cm.Blues)\n",
    "\n",
    "# ensure square cells\n",
    "ax.set_aspect(\"equal\")\n",
    "\n",
    "# put the major ticks at the middle of each cell\n",
    "ax.set_xticks(np.arange(data.shape[1]) + 0.5, minor=False)\n",
    "ax.set_yticks(np.arange(data.shape[0]) + 0.5, minor=False)\n",
    "\n",
    "# put labels on top\n",
    "ax.invert_yaxis()\n",
    "ax.xaxis.tick_top()\n",
    "\n",
    "# set labels\n",
    "column_labels = clues2x2['cols']\n",
    "row_labels = clues2x2['rows']\n",
    "\n",
    "ax.set_xticklabels(column_labels, minor=False)\n",
    "ax.set_yticklabels(row_labels, minor=False)\n",
    "\n",
    "\n",
    "# annotate fillers\n",
    "# must compute the coordinates from index\n",
    "plt.text(1.5, 0.5, 'X', \n",
    "         verticalalignment='center_baseline',\n",
    "         horizontalalignment='center',\n",
    "         fontsize='xx-large')\n"
   ]
  },
  {
   "cell_type": "code",
   "execution_count": 10,
   "metadata": {},
   "outputs": [
    {
     "data": {
      "text/plain": [
       "[(0, -1), (1, 0), (2, -1), (3, 1)]"
      ]
     },
     "execution_count": 10,
     "metadata": {},
     "output_type": "execute_result"
    }
   ],
   "source": [
    "# filter fillers' coordinates as a list of (x,y)\n",
    "# enumerate add position before each cell\n",
    "# reshape flatten the list of list to be a single list\n",
    "[p for p in enumerate(board2x2.states.reshape(4)) ]\n"
   ]
  },
  {
   "cell_type": "code",
   "execution_count": 11,
   "metadata": {},
   "outputs": [
    {
     "data": {
      "text/plain": [
       "[1]"
      ]
     },
     "execution_count": 11,
     "metadata": {},
     "output_type": "execute_result"
    }
   ],
   "source": [
    "# expect cell at pos 1 : row=0 col=1\n",
    "# 4 is the number of cells in the board (2x2)\n",
    "[p for (p,v) in enumerate(board2x2.states.reshape(4)) \n",
    "        if v==0]\n"
   ]
  },
  {
   "cell_type": "code",
   "execution_count": 12,
   "metadata": {},
   "outputs": [
    {
     "data": {
      "text/plain": [
       "[(1, 0)]"
      ]
     },
     "execution_count": 12,
     "metadata": {},
     "output_type": "execute_result"
    }
   ],
   "source": [
    "# expect (col,row) is (1,0) for row=0 col=1\n",
    "[(p%2,int(p/2)) for (p,v) in enumerate(board2x2.states.reshape(4)) \n",
    "        if v==0]"
   ]
  },
  {
   "cell_type": "code",
   "execution_count": 13,
   "metadata": {},
   "outputs": [
    {
     "data": {
      "image/png": "[encoded data removed]",
      "text/plain": [
       "<Figure size 72x72 with 1 Axes>"
      ]
     },
     "metadata": {
      "needs_background": "light"
     },
     "output_type": "display_data"
    }
   ],
   "source": [
    "# annotate fillers with x\n",
    "\n",
    "data = board2x2.states\n",
    "# set some canvas\n",
    "fig, ax = plt.subplots(figsize=(1,1))\n",
    "# draw a heatmap\n",
    "heatmap = ax.pcolor(board2x2.states, cmap=plt.cm.Blues)\n",
    "\n",
    "# ensure square cells\n",
    "ax.set_aspect(\"equal\")\n",
    "\n",
    "# put the major ticks at the middle of each cell\n",
    "ax.set_xticks(np.arange(data.shape[1]) + 0.5, minor=False)\n",
    "ax.set_yticks(np.arange(data.shape[0]) + 0.5, minor=False)\n",
    "\n",
    "# put labels on top\n",
    "ax.invert_yaxis()\n",
    "ax.xaxis.tick_top()\n",
    "\n",
    "# set labels\n",
    "column_labels = clues2x2['cols']\n",
    "row_labels = clues2x2['rows']\n",
    "\n",
    "ax.set_xticklabels(column_labels, minor=False)\n",
    "ax.set_yticklabels(row_labels, minor=False)\n",
    "\n",
    "\n",
    "# annotate fillers\n",
    "# expect (col,row) is (1,0) for row=0 col=1\n",
    "w = board2x2.width\n",
    "h = board2x2.height\n",
    "nc = board2x2.width * board2x2.height\n",
    "fillers_coordinates = [(p%w + 0.5, int(p/h) + 0.5) \n",
    "                       for (p,v) in enumerate(board2x2.states.reshape(nc)) \n",
    "                       if v==0]\n",
    "# place an X in the center of each coordinate\n",
    "for coord in fillers_coordinates:\n",
    "    plt.text(coord[0], coord[1], 'X', \n",
    "         verticalalignment='center_baseline',\n",
    "         horizontalalignment='center',\n",
    "         fontsize='xx-large')\n"
   ]
  },
  {
   "cell_type": "markdown",
   "metadata": {},
   "source": [
    "## 2.5. Change color of filler for white"
   ]
  },
  {
   "cell_type": "code",
   "execution_count": 14,
   "metadata": {},
   "outputs": [
    {
     "data": {
      "text/plain": [
       "{'red': array([[0.        , 0.96862745, 0.96862745],\n",
       "        [0.125     , 0.87058824, 0.87058824],\n",
       "        [0.25      , 0.77647059, 0.77647059],\n",
       "        [0.375     , 0.61960784, 0.61960784],\n",
       "        [0.5       , 0.41960784, 0.41960784],\n",
       "        [0.625     , 0.25882353, 0.25882353],\n",
       "        [0.75      , 0.12941176, 0.12941176],\n",
       "        [0.875     , 0.03137255, 0.03137255],\n",
       "        [1.        , 0.03137255, 0.03137255]]),\n",
       " 'green': array([[0.        , 0.98431373, 0.98431373],\n",
       "        [0.125     , 0.92156863, 0.92156863],\n",
       "        [0.25      , 0.85882353, 0.85882353],\n",
       "        [0.375     , 0.79215686, 0.79215686],\n",
       "        [0.5       , 0.68235294, 0.68235294],\n",
       "        [0.625     , 0.57254902, 0.57254902],\n",
       "        [0.75      , 0.44313725, 0.44313725],\n",
       "        [0.875     , 0.31764706, 0.31764706],\n",
       "        [1.        , 0.18823529, 0.18823529]]),\n",
       " 'blue': array([[0.        , 1.        , 1.        ],\n",
       "        [0.125     , 0.96862745, 0.96862745],\n",
       "        [0.25      , 0.9372549 , 0.9372549 ],\n",
       "        [0.375     , 0.88235294, 0.88235294],\n",
       "        [0.5       , 0.83921569, 0.83921569],\n",
       "        [0.625     , 0.77647059, 0.77647059],\n",
       "        [0.75      , 0.70980392, 0.70980392],\n",
       "        [0.875     , 0.61176471, 0.61176471],\n",
       "        [1.        , 0.41960784, 0.41960784]]),\n",
       " 'alpha': array([[0.   , 1.   , 1.   ],\n",
       "        [0.125, 1.   , 1.   ],\n",
       "        [0.25 , 1.   , 1.   ],\n",
       "        [0.375, 1.   , 1.   ],\n",
       "        [0.5  , 1.   , 1.   ],\n",
       "        [0.625, 1.   , 1.   ],\n",
       "        [0.75 , 1.   , 1.   ],\n",
       "        [0.875, 1.   , 1.   ],\n",
       "        [1.   , 1.   , 1.   ]])}"
      ]
     },
     "execution_count": 14,
     "metadata": {},
     "output_type": "execute_result"
    }
   ],
   "source": [
    "import matplotlib.cm as cm\n",
    "from matplotlib.colors import LinearSegmentedColormap\n",
    "cdict = cm.get_cmap('Blues')._segmentdata\n",
    "cdict"
   ]
  },
  {
   "cell_type": "code",
   "execution_count": 15,
   "metadata": {},
   "outputs": [
    {
     "data": {
      "text/plain": [
       "{'red': [(0.0, 0.6196078431372549, 0.6196078431372549),\n",
       "  (0.5, 1.0, 1.0),\n",
       "  (1.0, 0.03137254901960784, 0.03137254901960784)],\n",
       " 'green': [(0.0, 0.792156862745098, 0.792156862745098),\n",
       "  (0.5, 1.0, 1.0),\n",
       "  (1.0, 0.18823529411764706, 0.18823529411764706)],\n",
       " 'blue': [(0.0, 0.8823529411764706, 0.8823529411764706),\n",
       "  (0.5, 1.0, 1.0),\n",
       "  (1.0, 0.4196078431372549, 0.4196078431372549)],\n",
       " 'alpha': [(0.0, 1.0, 1.0), (0.5, 1.0, 1.0), (1.0, 1.0, 1.0)]}"
      ]
     },
     "execution_count": 15,
     "metadata": {},
     "output_type": "execute_result"
    }
   ],
   "source": [
    "cdict = {'red': [(0.0, 0.6196078431372549, 0.6196078431372549),\n",
    "  (0.5, 1.0, 1.0),\n",
    "  (1.0, 0.03137254901960784, 0.03137254901960784)],\n",
    " 'green': [(0.0, 0.792156862745098, 0.792156862745098),\n",
    "  (0.5, 1.0, 1.0),\n",
    "  (1.0, 0.18823529411764706, 0.18823529411764706)],\n",
    " 'blue': [(0.0, 0.8823529411764706, 0.8823529411764706),\n",
    "  (0.5, 1.0, 1.0),\n",
    "  (1.0, 0.4196078431372549, 0.4196078431372549)],\n",
    " 'alpha': [(0.0, 1.0, 1.0),\n",
    "  (0.5, 1.0, 1.0),\n",
    "  (1.0, 1.0, 1.0)]}\n",
    "nono_cmap = LinearSegmentedColormap('nono', cdict)\n",
    "cdict"
   ]
  },
  {
   "cell_type": "code",
   "execution_count": 16,
   "metadata": {},
   "outputs": [
    {
     "data": {
      "image/png": "[encoded data removed]",
      "text/plain": [
       "<Figure size 72x72 with 1 Axes>"
      ]
     },
     "metadata": {
      "needs_background": "light"
     },
     "output_type": "display_data"
    }
   ],
   "source": [
    "import matplotlib.pyplot as plt\n",
    "import matplotlib.cm as cm\n",
    "from matplotlib.colors import LinearSegmentedColormap\n",
    "\n",
    "cdict = {'red': [(0.0, 0.6196078431372549, 0.6196078431372549),\n",
    "  (0.5, 1.0, 1.0),\n",
    "  (1.0, 0.03137254901960784, 0.03137254901960784)],\n",
    " 'green': [(0.0, 0.792156862745098, 0.792156862745098),\n",
    "  (0.5, 1.0, 1.0),\n",
    "  (1.0, 0.18823529411764706, 0.18823529411764706)],\n",
    " 'blue': [(0.0, 0.8823529411764706, 0.8823529411764706),\n",
    "  (0.5, 1.0, 1.0),\n",
    "  (1.0, 0.4196078431372549, 0.4196078431372549)],\n",
    " 'alpha': [(0.0, 1.0, 1.0),\n",
    "  (0.5, 1.0, 1.0),\n",
    "  (1.0, 1.0, 1.0)]}\n",
    "nono_cmap = LinearSegmentedColormap('nono', cdict)\n",
    "cdict\n",
    "\n",
    "# annotate fillers with x\n",
    "\n",
    "data = board2x2.states\n",
    "# set some canvas\n",
    "fig, ax = plt.subplots(figsize=(1,1))\n",
    "# draw a heatmap\n",
    "heatmap = ax.pcolor(board2x2.states, cmap=nono_cmap)\n",
    "\n",
    "# ensure square cells\n",
    "ax.set_aspect(\"equal\")\n",
    "\n",
    "# put the major ticks at the middle of each cell\n",
    "ax.set_xticks(np.arange(data.shape[1]) + 0.5, minor=False)\n",
    "ax.set_yticks(np.arange(data.shape[0]) + 0.5, minor=False)\n",
    "\n",
    "# put labels on top\n",
    "ax.invert_yaxis()\n",
    "ax.xaxis.tick_top()\n",
    "\n",
    "# set labels\n",
    "column_labels = clues2x2['cols']\n",
    "row_labels = clues2x2['rows']\n",
    "\n",
    "ax.set_xticklabels(column_labels, minor=False)\n",
    "ax.set_yticklabels(row_labels, minor=False)\n",
    "\n",
    "\n",
    "# annotate fillers\n",
    "# expect (col,row) is (1,0) for row=0 col=1\n",
    "w = board2x2.width\n",
    "h = board2x2.height\n",
    "nc = board2x2.width * board2x2.height\n",
    "fillers_coordinates = [(p%w + 0.5, int(p/w) + 0.5) \n",
    "                       for (p,v) in enumerate(board2x2.states.reshape(nc)) \n",
    "                       if v==0]\n",
    "# place an X in the center of each coordinate\n",
    "for coord in fillers_coordinates:\n",
    "    plt.text(coord[0], coord[1], 'X', \n",
    "         verticalalignment='center_baseline',\n",
    "         horizontalalignment='center',\n",
    "         fontsize='xx-large')\n"
   ]
  },
  {
   "cell_type": "markdown",
   "metadata": {},
   "source": [
    "# 3. Board Plotter class"
   ]
  },
  {
   "cell_type": "code",
   "execution_count": 17,
   "metadata": {},
   "outputs": [],
   "source": [
    "# reset vars from all previous tests\n",
    "%reset -f"
   ]
  },
  {
   "cell_type": "code",
   "execution_count": 18,
   "metadata": {},
   "outputs": [],
   "source": [
    "# test items\n",
    "from episode01 import clues2x2, Board, BoardMark"
   ]
  },
  {
   "cell_type": "code",
   "execution_count": 50,
   "metadata": {},
   "outputs": [],
   "source": [
    "from episode01 import Board, BoardMark\n",
    "import numpy as np\n",
    "\n",
    "import matplotlib.pyplot as plt\n",
    "import matplotlib.cm as cm\n",
    "from matplotlib.colors import LinearSegmentedColormap\n",
    "\n",
    "class BoardPlotter:\n",
    "    '''\n",
    "    Plot the board.\n",
    "    Requiere %matplotlib inline .\n",
    "    '''\n",
    "    \n",
    "    def __init__(self, some_clues):\n",
    "        self.clues = some_clues\n",
    "        \n",
    "        # board dimensions\n",
    "        self.width = len(self.clues[\"rows\"])\n",
    "        self.height = len(self.clues[\"cols\"])\n",
    "        self.flat_length = self.width * self.height\n",
    "      \n",
    "        # rows labels\n",
    "        def row_clue_to_label(v):\n",
    "            return str(v) if not isinstance(v, list) else ' '.join(map(str,v))\n",
    "        self.rows_labels = list(map(row_clue_to_label, self.clues['rows']))\n",
    "\n",
    "        # columns labels\n",
    "        def col_clue_to_label(v):\n",
    "            #print(v)\n",
    "            return str(v) if not isinstance(v, list) else '\\n'.join(map(str,v))\n",
    "        self.columns_labels = list(map(col_clue_to_label, self.clues['cols']))\n",
    "\n",
    "        # color map\n",
    "        self.cmap = self.build_color_map()\n",
    "\n",
    "        \n",
    "    def build_color_map(self):\n",
    "        cdict = {'red': [(0.0, 0.6196078431372549, 0.6196078431372549),\n",
    "          (0.5, 1.0, 1.0),\n",
    "          (1.0, 0.03137254901960784, 0.03137254901960784)],\n",
    "         'green': [(0.0, 0.792156862745098, 0.792156862745098),\n",
    "          (0.5, 1.0, 1.0),\n",
    "          (1.0, 0.18823529411764706, 0.18823529411764706)],\n",
    "         'blue': [(0.0, 0.8823529411764706, 0.8823529411764706),\n",
    "          (0.5, 1.0, 1.0),\n",
    "          (1.0, 0.4196078431372549, 0.4196078431372549)],\n",
    "         'alpha': [(0.0, 1.0, 1.0),\n",
    "          (0.5, 1.0, 1.0),\n",
    "          (1.0, 1.0, 1.0)]}\n",
    "        nono_cmap = LinearSegmentedColormap('nono', cdict)\n",
    "        return nono_cmap\n",
    "\n",
    "        \n",
    "    def show(self, a_board):\n",
    "        # WARNING :  the board is row col, while the fig is col row\n",
    "        data = a_board.states\n",
    "        \n",
    "        # set some canvas\n",
    "        fig, ax = plt.subplots(figsize=(1,1))\n",
    "        \n",
    "        # draw a heatmap\n",
    "        heatmap = ax.pcolor(data, cmap=self.cmap)\n",
    "\n",
    "        # ensure square cells\n",
    "        ax.set_aspect(\"equal\")\n",
    "\n",
    "        # put the major ticks at the middle of each cell\n",
    "        ax.set_xticks(np.arange(data.shape[1]) + 0.5, minor=False)\n",
    "        ax.set_yticks(np.arange(data.shape[0]) + 0.5, minor=False)\n",
    "\n",
    "        # put labels on top\n",
    "        ax.invert_yaxis()\n",
    "        ax.xaxis.tick_top()\n",
    "\n",
    "        # set labels\n",
    "        ax.set_xticklabels(self.columns_labels, minor=False)\n",
    "        ax.set_yticklabels(self.rows_labels, minor=False)\n",
    "\n",
    "\n",
    "        # annotate fillers\n",
    "        # expect (col,row) is (1,0) for row=0 col=1\n",
    "        fillers_coordinates = [(p%self.width + 0.5, int(p/self.width) + 0.5) \n",
    "                               for (p,v) in enumerate(data.reshape(self.flat_length)) \n",
    "                               if v==0]\n",
    "        \n",
    "        # place an X in the center of each coordinate for fillers\n",
    "        for coord in fillers_coordinates:\n",
    "            plt.text(coord[0], coord[1], 'X', \n",
    "                 verticalalignment='center_baseline',\n",
    "                 horizontalalignment='center',\n",
    "                 fontsize='xx-large')\n",
    "\n",
    "        plt.show()"
   ]
  },
  {
   "cell_type": "markdown",
   "metadata": {},
   "source": [
    "# 4. Tests"
   ]
  },
  {
   "cell_type": "markdown",
   "metadata": {},
   "source": [
    "## 4.1. Basic check with mini board"
   ]
  },
  {
   "cell_type": "code",
   "execution_count": 20,
   "metadata": {},
   "outputs": [
    {
     "data": {
      "text/plain": [
       "{'rows': [1, 2], 'cols': [2, 1]}"
      ]
     },
     "execution_count": 20,
     "metadata": {},
     "output_type": "execute_result"
    }
   ],
   "source": [
    "# clues for mini game\n",
    "clues2x2"
   ]
  },
  {
   "cell_type": "code",
   "execution_count": 51,
   "metadata": {},
   "outputs": [
    {
     "name": "stdout",
     "output_type": "stream",
     "text": [
      "cols: 2 1\n",
      "rows:\n",
      "1\n",
      "2\n",
      "[['.' '.']\n",
      " ['.' '.']]\n"
     ]
    },
    {
     "data": {
      "image/png": "[encoded data removed]",
      "text/plain": [
       "<Figure size 72x72 with 1 Axes>"
      ]
     },
     "metadata": {
      "needs_background": "light"
     },
     "output_type": "display_data"
    },
    {
     "name": "stdout",
     "output_type": "stream",
     "text": [
      "cols: 2 1\n",
      "rows:\n",
      "1\n",
      "2\n",
      "[['.' 'x']\n",
      " ['.' 'o']]\n"
     ]
    },
    {
     "data": {
      "image/png": "[encoded data removed]",
      "text/plain": [
       "<Figure size 72x72 with 1 Axes>"
      ]
     },
     "metadata": {
      "needs_background": "light"
     },
     "output_type": "display_data"
    }
   ],
   "source": [
    "board2x2 = Board(clues2x2)\n",
    "plotter2x2 = BoardPlotter(clues2x2)\n",
    "board2x2.prettyprint()\n",
    "plotter2x2.show(board2x2)\n",
    "\n",
    "board2x2.mark(0, 1, BoardMark.FILLER) \n",
    "board2x2.mark(1, 1, BoardMark.BLACK) \n",
    "board2x2.prettyprint()\n",
    "plotter2x2.show(board2x2)"
   ]
  },
  {
   "cell_type": "markdown",
   "metadata": {},
   "source": [
    "## 4.2. Basic check with 5x5 board"
   ]
  },
  {
   "cell_type": "code",
   "execution_count": 22,
   "metadata": {},
   "outputs": [],
   "source": [
    "from episode01 import clues5x5s"
   ]
  },
  {
   "cell_type": "code",
   "execution_count": 23,
   "metadata": {},
   "outputs": [
    {
     "data": {
      "text/plain": [
       "{'rows': [1, 3, [1, 1], 3, 5], 'cols': [1, 4, [2, 2], 4, 1]}"
      ]
     },
     "execution_count": 23,
     "metadata": {},
     "output_type": "execute_result"
    }
   ],
   "source": [
    "clues5x5s"
   ]
  },
  {
   "cell_type": "code",
   "execution_count": 24,
   "metadata": {},
   "outputs": [
    {
     "name": "stdout",
     "output_type": "stream",
     "text": [
      "cols: 1 4 [2, 2] 4 1\n",
      "rows:\n",
      "1\n",
      "3\n",
      "[1, 1]\n",
      "3\n",
      "5\n",
      "[['.' '.' '.' '.' '.']\n",
      " ['.' '.' '.' '.' '.']\n",
      " ['.' '.' '.' '.' '.']\n",
      " ['.' '.' '.' '.' '.']\n",
      " ['.' '.' '.' '.' '.']]\n"
     ]
    },
    {
     "data": {
      "image/png": "[encoded data removed]",
      "text/plain": [
       "<Figure size 72x72 with 1 Axes>"
      ]
     },
     "metadata": {
      "needs_background": "light"
     },
     "output_type": "display_data"
    },
    {
     "name": "stdout",
     "output_type": "stream",
     "text": [
      "cols: 1 4 [2, 2] 4 1\n",
      "rows:\n",
      "1\n",
      "3\n",
      "[1, 1]\n",
      "3\n",
      "5\n",
      "[['.' '.' 'o' '.' '.']\n",
      " ['.' '.' 'o' '.' '.']\n",
      " ['.' '.' 'x' '.' '.']\n",
      " ['.' '.' 'o' '.' '.']\n",
      " ['o' 'o' 'o' 'o' 'o']]\n"
     ]
    },
    {
     "data": {
      "image/png": "[encoded data removed]",
      "text/plain": [
       "<Figure size 72x72 with 1 Axes>"
      ]
     },
     "metadata": {
      "needs_background": "light"
     },
     "output_type": "display_data"
    }
   ],
   "source": [
    "board5x5s = Board(clues5x5s)\n",
    "plotter5x5s = BoardPlotter(clues5x5s)\n",
    "board5x5s.prettyprint()\n",
    "plotter5x5s.show(board5x5s)\n",
    "\n",
    "# row 4 is ooooo\n",
    "board5x5s.mark(4, 0, BoardMark.BLACK) \n",
    "board5x5s.mark(4, 1, BoardMark.BLACK) \n",
    "board5x5s.mark(4, 2, BoardMark.BLACK) \n",
    "board5x5s.mark(4, 3, BoardMark.BLACK) \n",
    "board5x5s.mark(4, 4, BoardMark.BLACK) \n",
    "# col 2 is ooxoo\n",
    "board5x5s.mark(0, 2, BoardMark.BLACK) \n",
    "board5x5s.mark(1, 2, BoardMark.BLACK) \n",
    "board5x5s.mark(2, 2, BoardMark.FILLER) \n",
    "board5x5s.mark(3, 2, BoardMark.BLACK) \n",
    "board5x5s.mark(4, 2, BoardMark.BLACK) \n",
    "\n",
    "board5x5s.prettyprint()\n",
    "plotter5x5s.show(board5x5s)"
   ]
  },
  {
   "cell_type": "markdown",
   "metadata": {},
   "source": [
    "remarks:\n",
    "- size of figure must depend on board dimensions\n",
    "- need a to take care of split clues: avoid [] and print cols clues over multiple lines\n",
    "```\n",
    "clues = {\n",
    "    'rows': [1, 3, [1,1], 3, 5], -> [1, 3, \"1 1\", 3, 5]\n",
    "    'cols': [1, 4, [2,2], 4, 1]  -> [1, 4, \"2\\n2\", 4, 1]\n",
    "}\n",
    "```"
   ]
  },
  {
   "cell_type": "markdown",
   "metadata": {},
   "source": [
    "# 5. Generalize for split labels and large size"
   ]
  },
  {
   "cell_type": "markdown",
   "metadata": {},
   "source": [
    "## 5.1. Experiments"
   ]
  },
  {
   "cell_type": "code",
   "execution_count": 25,
   "metadata": {},
   "outputs": [
    {
     "data": {
      "text/plain": [
       "{'rows': [1, 3, [1, 1], 3, 5], 'cols': [1, 4, [2, 2], 4, 1]}"
      ]
     },
     "execution_count": 25,
     "metadata": {},
     "output_type": "execute_result"
    }
   ],
   "source": [
    "clues5x5s"
   ]
  },
  {
   "cell_type": "code",
   "execution_count": 26,
   "metadata": {},
   "outputs": [
    {
     "name": "stdout",
     "output_type": "stream",
     "text": [
      "1\n",
      "3\n",
      "[1, 1]\n",
      "3\n",
      "5\n"
     ]
    },
    {
     "data": {
      "text/plain": [
       "['1', '3', '1 1', '3', '5']"
      ]
     },
     "execution_count": 26,
     "metadata": {},
     "output_type": "execute_result"
    }
   ],
   "source": [
    "def row_clue_to_label(v):\n",
    "    print(v)\n",
    "    return str(v) if not isinstance(v, list) else ' '.join(map(str,v))\n",
    "\n",
    "list(map(row_clue_to_label, clues5x5s['rows']))"
   ]
  },
  {
   "cell_type": "code",
   "execution_count": 27,
   "metadata": {},
   "outputs": [
    {
     "name": "stdout",
     "output_type": "stream",
     "text": [
      "1\n",
      "4\n",
      "[2, 2]\n",
      "4\n",
      "1\n"
     ]
    },
    {
     "data": {
      "text/plain": [
       "['1', '4', '2\\n2', '4', '1']"
      ]
     },
     "execution_count": 27,
     "metadata": {},
     "output_type": "execute_result"
    }
   ],
   "source": [
    "# need str to be able to join\n",
    "def col_clue_to_label(v):\n",
    "    print(v)\n",
    "    return str(v) if not isinstance(v, list) else '\\n'.join(map(str,v))\n",
    "\n",
    "list(map(col_clue_to_label, clues5x5s['cols']))"
   ]
  },
  {
   "cell_type": "markdown",
   "metadata": {},
   "source": [
    "## 5.2. Updated class"
   ]
  },
  {
   "cell_type": "code",
   "execution_count": 28,
   "metadata": {},
   "outputs": [],
   "source": [
    "%reset -f"
   ]
  },
  {
   "cell_type": "code",
   "execution_count": 29,
   "metadata": {},
   "outputs": [],
   "source": [
    "# test items\n",
    "from episode01 import clues2x2, clues5x5s"
   ]
  },
  {
   "cell_type": "code",
   "execution_count": 44,
   "metadata": {},
   "outputs": [],
   "source": [
    "from episode01 import Board, BoardMark\n",
    "import numpy as np\n",
    "\n",
    "import matplotlib.pyplot as plt\n",
    "import matplotlib.cm as cm\n",
    "from matplotlib.colors import LinearSegmentedColormap\n",
    "\n",
    "class BoardPlotter:\n",
    "    '''\n",
    "    Plot the board.\n",
    "    Requiere %matplotlib inline .\n",
    "    '''\n",
    "    \n",
    "    def __init__(self, some_clues):\n",
    "        self.clues = some_clues\n",
    "        \n",
    "        # board dimensions\n",
    "        self.width = len(self.clues[\"rows\"])\n",
    "        self.height = len(self.clues[\"cols\"])\n",
    "        self.flat_length = self.width * self.height\n",
    "\n",
    "        # guess the figure size \n",
    "        # rule of thumb\n",
    "        # 1 fits 2 cells\n",
    "        # 2 fits 5 cols\n",
    "        self.fig_width = int(self.width/2) \n",
    "        self.fig_height = int(self.height /2) \n",
    "\n",
    "        # rows labels\n",
    "        def row_clue_to_label(v):\n",
    "            return str(v) if not isinstance(v, list) else ' '.join(map(str,v))\n",
    "        self.rows_labels = list(map(row_clue_to_label, self.clues['rows']))\n",
    "\n",
    "        # columns labels\n",
    "        def col_clue_to_label(v):\n",
    "            #print(v)\n",
    "            return str(v) if not isinstance(v, list) else '\\n'.join(map(str,v))\n",
    "        self.columns_labels = list(map(col_clue_to_label, self.clues['cols']))\n",
    "\n",
    "        # color map\n",
    "        self.cmap = self.build_color_map()\n",
    "\n",
    "        \n",
    "    def build_color_map(self):\n",
    "        cdict = {'red': [(0.0, 0.6196078431372549, 0.6196078431372549),\n",
    "          (0.5, 1.0, 1.0),\n",
    "          (1.0, 0.03137254901960784, 0.03137254901960784)],\n",
    "         'green': [(0.0, 0.792156862745098, 0.792156862745098),\n",
    "          (0.5, 1.0, 1.0),\n",
    "          (1.0, 0.18823529411764706, 0.18823529411764706)],\n",
    "         'blue': [(0.0, 0.8823529411764706, 0.8823529411764706),\n",
    "          (0.5, 1.0, 1.0),\n",
    "          (1.0, 0.4196078431372549, 0.4196078431372549)],\n",
    "         'alpha': [(0.0, 1.0, 1.0),\n",
    "          (0.5, 1.0, 1.0),\n",
    "          (1.0, 1.0, 1.0)]}\n",
    "        nono_cmap = LinearSegmentedColormap('nono', cdict)\n",
    "        return nono_cmap\n",
    "\n",
    "        \n",
    "    def show(self, a_board):\n",
    "        # WARNING :  the board is row col, while the fig is col row\n",
    "        data = a_board.states\n",
    "        \n",
    "        # set some canvas\n",
    "        fig, ax = plt.subplots(figsize=(self.fig_width, self.fig_height))\n",
    "        \n",
    "        # draw a heatmap\n",
    "        heatmap = ax.pcolor(data, cmap=self.cmap)\n",
    "\n",
    "        # ensure square cells\n",
    "        ax.set_aspect(\"equal\")\n",
    "\n",
    "        # put the major ticks at the middle of each cell\n",
    "        ax.set_xticks(np.arange(data.shape[1]) + 0.5, minor=False)\n",
    "        ax.set_yticks(np.arange(data.shape[0]) + 0.5, minor=False)\n",
    "\n",
    "        # put labels on top\n",
    "        ax.invert_yaxis()\n",
    "        ax.xaxis.tick_top()\n",
    "\n",
    "        # set labels\n",
    "        ax.set_xticklabels(self.columns_labels, minor=False)\n",
    "        ax.set_yticklabels(self.rows_labels, minor=False)\n",
    "\n",
    "\n",
    "        # annotate fillers\n",
    "        # expect (col,row) is (1,0) for row=0 col=1\n",
    "        fillers_coordinates = [(p%self.width + 0.5, int(p/self.width) + 0.5) \n",
    "                               for (p,v) in enumerate(data.reshape(self.flat_length)) \n",
    "                               if v==0]\n",
    "\n",
    "        # place an X in the center of each coordinate for fillers\n",
    "        for coord in fillers_coordinates:\n",
    "            plt.text(coord[0], coord[1], 'X', \n",
    "                 verticalalignment='center_baseline',\n",
    "                 horizontalalignment='center',\n",
    "                 fontsize='xx-large')\n",
    "\n",
    "        plt.show()"
   ]
  },
  {
   "cell_type": "markdown",
   "metadata": {},
   "source": [
    "## 5.3. Tests"
   ]
  },
  {
   "cell_type": "code",
   "execution_count": 45,
   "metadata": {},
   "outputs": [
    {
     "name": "stdout",
     "output_type": "stream",
     "text": [
      "cols: 1 4 [2, 2] 4 1\n",
      "rows:\n",
      "1\n",
      "3\n",
      "[1, 1]\n",
      "3\n",
      "5\n",
      "[['.' '.' '.' '.' '.']\n",
      " ['.' '.' '.' '.' '.']\n",
      " ['.' '.' '.' '.' '.']\n",
      " ['.' '.' '.' '.' '.']\n",
      " ['.' '.' '.' '.' '.']]\n"
     ]
    },
    {
     "data": {
      "image/png": "[encoded data removed]",
      "text/plain": [
       "<Figure size 144x144 with 1 Axes>"
      ]
     },
     "metadata": {
      "needs_background": "light"
     },
     "output_type": "display_data"
    },
    {
     "name": "stdout",
     "output_type": "stream",
     "text": [
      "cols: 1 4 [2, 2] 4 1\n",
      "rows:\n",
      "1\n",
      "3\n",
      "[1, 1]\n",
      "3\n",
      "5\n",
      "[['.' '.' 'o' '.' '.']\n",
      " ['.' '.' 'o' '.' '.']\n",
      " ['.' '.' 'x' '.' '.']\n",
      " ['.' '.' 'o' '.' '.']\n",
      " ['o' 'o' 'o' 'o' 'o']]\n"
     ]
    },
    {
     "data": {
      "image/png": "[encoded data removed]",
      "text/plain": [
       "<Figure size 144x144 with 1 Axes>"
      ]
     },
     "metadata": {
      "needs_background": "light"
     },
     "output_type": "display_data"
    }
   ],
   "source": [
    "board5x5s = Board(clues5x5s)\n",
    "plotter5x5s = BoardPlotter(clues5x5s)\n",
    "board5x5s.prettyprint()\n",
    "plotter5x5s.show(board5x5s)\n",
    "\n",
    "# row 4 is ooooo\n",
    "board5x5s.mark(4, 0, BoardMark.BLACK) \n",
    "board5x5s.mark(4, 1, BoardMark.BLACK) \n",
    "board5x5s.mark(4, 2, BoardMark.BLACK) \n",
    "board5x5s.mark(4, 3, BoardMark.BLACK) \n",
    "board5x5s.mark(4, 4, BoardMark.BLACK) \n",
    "# col 2 is ooxoo\n",
    "board5x5s.mark(0, 2, BoardMark.BLACK) \n",
    "board5x5s.mark(1, 2, BoardMark.BLACK) \n",
    "board5x5s.mark(2, 2, BoardMark.FILLER) \n",
    "board5x5s.mark(3, 2, BoardMark.BLACK) \n",
    "board5x5s.mark(4, 2, BoardMark.BLACK) \n",
    "\n",
    "board5x5s.prettyprint()\n",
    "plotter5x5s.show(board5x5s)"
   ]
  },
  {
   "cell_type": "markdown",
   "metadata": {},
   "source": [
    "## 5.4. Test cell by cell"
   ]
  },
  {
   "cell_type": "code",
   "execution_count": 32,
   "metadata": {},
   "outputs": [
    {
     "name": "stdout",
     "output_type": "stream",
     "text": [
      "cols: 1 4 [2, 2] 4 1\n",
      "rows:\n",
      "1\n",
      "3\n",
      "[1, 1]\n",
      "3\n",
      "5\n",
      "[['.' '.' '.' '.' '.']\n",
      " ['.' '.' '.' '.' '.']\n",
      " ['.' '.' '.' '.' '.']\n",
      " ['.' '.' '.' '.' '.']\n",
      " ['.' '.' '.' '.' '.']]\n"
     ]
    },
    {
     "data": {
      "image/png": "[encoded data removed]",
      "text/plain": [
       "<Figure size 144x144 with 1 Axes>"
      ]
     },
     "metadata": {
      "needs_background": "light"
     },
     "output_type": "display_data"
    },
    {
     "name": "stdout",
     "output_type": "stream",
     "text": [
      "cols: 1 4 [2, 2] 4 1\n",
      "rows:\n",
      "1\n",
      "3\n",
      "[1, 1]\n",
      "3\n",
      "5\n",
      "[['x' '.' '.' '.' '.']\n",
      " ['.' '.' '.' '.' '.']\n",
      " ['.' '.' '.' '.' '.']\n",
      " ['.' '.' '.' '.' '.']\n",
      " ['.' '.' '.' '.' '.']]\n"
     ]
    },
    {
     "data": {
      "image/png": "[encoded data removed]",
      "text/plain": [
       "<Figure size 144x144 with 1 Axes>"
      ]
     },
     "metadata": {
      "needs_background": "light"
     },
     "output_type": "display_data"
    },
    {
     "name": "stdout",
     "output_type": "stream",
     "text": [
      "cols: 1 4 [2, 2] 4 1\n",
      "rows:\n",
      "1\n",
      "3\n",
      "[1, 1]\n",
      "3\n",
      "5\n",
      "[['x' 'x' '.' '.' '.']\n",
      " ['.' '.' '.' '.' '.']\n",
      " ['.' '.' '.' '.' '.']\n",
      " ['.' '.' '.' '.' '.']\n",
      " ['.' '.' '.' '.' '.']]\n"
     ]
    },
    {
     "data": {
      "image/png": "[encoded data removed]",
      "text/plain": [
       "<Figure size 144x144 with 1 Axes>"
      ]
     },
     "metadata": {
      "needs_background": "light"
     },
     "output_type": "display_data"
    }
   ],
   "source": [
    "board5x5s = Board(clues5x5s)\n",
    "plotter5x5s = BoardPlotter(clues5x5s)\n",
    "board5x5s.prettyprint()\n",
    "plotter5x5s.show(board5x5s)\n",
    "\n",
    "# WARNING confusion when only one type filler/black \n",
    "# fiw min and lmax\n",
    "board5x5s.mark(0, 0, BoardMark.FILLER) \n",
    "board5x5s.prettyprint()\n",
    "plotter5x5s.show(board5x5s)\n",
    "board5x5s.mark(0, 1, BoardMark.FILLER) \n",
    "board5x5s.prettyprint()\n",
    "plotter5x5s.show(board5x5s)\n"
   ]
  },
  {
   "cell_type": "code",
   "execution_count": 33,
   "metadata": {},
   "outputs": [],
   "source": [
    "# WARNING confusion when only one type filler/black \n",
    "# add value range to avoid filler is mistaken for black \n",
    "# bacuase the range of actual values is -1 0"
   ]
  },
  {
   "cell_type": "markdown",
   "metadata": {},
   "source": [
    "# 6. Fix colors for values"
   ]
  },
  {
   "cell_type": "code",
   "execution_count": 34,
   "metadata": {},
   "outputs": [],
   "source": [
    "%reset -f"
   ]
  },
  {
   "cell_type": "markdown",
   "metadata": {},
   "source": [
    "## 6.1. Updated class"
   ]
  },
  {
   "cell_type": "code",
   "execution_count": 35,
   "metadata": {},
   "outputs": [],
   "source": [
    "# test items\n",
    "from episode01 import clues2x2, clues5x5s"
   ]
  },
  {
   "cell_type": "code",
   "execution_count": 46,
   "metadata": {},
   "outputs": [],
   "source": [
    "from episode01 import Board, BoardMark\n",
    "import numpy as np\n",
    "\n",
    "import matplotlib.pyplot as plt\n",
    "import matplotlib.cm as cm\n",
    "from matplotlib.colors import LinearSegmentedColormap\n",
    "\n",
    "class BoardPlotter:\n",
    "    '''\n",
    "    Plot the board.\n",
    "    Requiere %matplotlib inline .\n",
    "    '''\n",
    "    \n",
    "    def __init__(self, some_clues):\n",
    "        self.clues = some_clues\n",
    "        \n",
    "        # board dimensions\n",
    "        self.width = len(self.clues[\"rows\"])\n",
    "        self.height = len(self.clues[\"cols\"])\n",
    "        self.flat_length = self.width * self.height\n",
    "\n",
    "        # guess the figure size \n",
    "        # rule of thumb\n",
    "        # 1 fits 2 cells\n",
    "        # 2 fits 5 cols\n",
    "        self.fig_width = int(self.width/2) \n",
    "        self.fig_height = int(self.height /2) \n",
    "\n",
    "        # rows labels\n",
    "        def row_clue_to_label(v):\n",
    "            return str(v) if not isinstance(v, list) else ' '.join(map(str,v))\n",
    "        self.rows_labels = list(map(row_clue_to_label, self.clues['rows']))\n",
    "\n",
    "        # columns labels\n",
    "        def col_clue_to_label(v):\n",
    "            #print(v)\n",
    "            return str(v) if not isinstance(v, list) else '\\n'.join(map(str,v))\n",
    "        self.columns_labels = list(map(col_clue_to_label, self.clues['cols']))\n",
    "\n",
    "        # color map\n",
    "        self.cmap = self.build_color_map()\n",
    "\n",
    "        \n",
    "    def build_color_map(self):\n",
    "        cdict = {'red': [(0.0, 0.6196078431372549, 0.6196078431372549),\n",
    "          (0.5, 1.0, 1.0),\n",
    "          (1.0, 0.03137254901960784, 0.03137254901960784)],\n",
    "         'green': [(0.0, 0.792156862745098, 0.792156862745098),\n",
    "          (0.5, 1.0, 1.0),\n",
    "          (1.0, 0.18823529411764706, 0.18823529411764706)],\n",
    "         'blue': [(0.0, 0.8823529411764706, 0.8823529411764706),\n",
    "          (0.5, 1.0, 1.0),\n",
    "          (1.0, 0.4196078431372549, 0.4196078431372549)],\n",
    "         'alpha': [(0.0, 1.0, 1.0),\n",
    "          (0.5, 1.0, 1.0),\n",
    "          (1.0, 1.0, 1.0)]}\n",
    "        nono_cmap = LinearSegmentedColormap('nono', cdict)\n",
    "        return nono_cmap\n",
    "\n",
    "        \n",
    "    def show(self, a_board):\n",
    "        # WARNING :  the board is row col, while the fig is col row\n",
    "        data = a_board.states\n",
    "        \n",
    "        # set some canvas\n",
    "        fig, ax = plt.subplots(figsize=(self.fig_width, self.fig_height))\n",
    "        \n",
    "        # draw a heatmap\n",
    "        # ensure value range is -1 to 1\n",
    "        heatmap = ax.pcolor(data, cmap=self.cmap, vmin=-1, vmax=1)\n",
    "\n",
    "        # ensure square cells\n",
    "        ax.set_aspect(\"equal\")\n",
    "\n",
    "        # put the major ticks at the middle of each cell\n",
    "        ax.set_xticks(np.arange(data.shape[1]) + 0.5, minor=False)\n",
    "        ax.set_yticks(np.arange(data.shape[0]) + 0.5, minor=False)\n",
    "\n",
    "        # put labels on top\n",
    "        ax.invert_yaxis()\n",
    "        ax.xaxis.tick_top()\n",
    "\n",
    "        # set labels\n",
    "        ax.set_xticklabels(self.columns_labels, minor=False)\n",
    "        ax.set_yticklabels(self.rows_labels, minor=False)\n",
    "\n",
    "\n",
    "        # annotate fillers\n",
    "        # expect (col,row) is (1,0) for row=0 col=1\n",
    "        fillers_coordinates = [(p%self.width + 0.5, int(p/self.width) + 0.5) \n",
    "                               for (p,v) in enumerate(data.reshape(self.flat_length)) \n",
    "                               if v==0]\n",
    "\n",
    "        # place an X in the center of each coordinate for fillers\n",
    "        for coord in fillers_coordinates:\n",
    "            plt.text(coord[0], coord[1], 'X', \n",
    "                 verticalalignment='center_baseline',\n",
    "                 horizontalalignment='center',\n",
    "                 fontsize='xx-large')\n",
    "\n",
    "        plt.show()"
   ]
  },
  {
   "cell_type": "markdown",
   "metadata": {},
   "source": [
    "## 6.2. Test fillers only"
   ]
  },
  {
   "cell_type": "code",
   "execution_count": 47,
   "metadata": {},
   "outputs": [
    {
     "name": "stdout",
     "output_type": "stream",
     "text": [
      "cols: 1 4 [2, 2] 4 1\n",
      "rows:\n",
      "1\n",
      "3\n",
      "[1, 1]\n",
      "3\n",
      "5\n",
      "[['.' '.' '.' '.' '.']\n",
      " ['.' '.' '.' '.' '.']\n",
      " ['.' '.' '.' '.' '.']\n",
      " ['.' '.' '.' '.' '.']\n",
      " ['.' '.' '.' '.' '.']]\n"
     ]
    },
    {
     "data": {
      "image/png": "[encoded data removed]",
      "text/plain": [
       "<Figure size 144x144 with 1 Axes>"
      ]
     },
     "metadata": {
      "needs_background": "light"
     },
     "output_type": "display_data"
    },
    {
     "name": "stdout",
     "output_type": "stream",
     "text": [
      "cols: 1 4 [2, 2] 4 1\n",
      "rows:\n",
      "1\n",
      "3\n",
      "[1, 1]\n",
      "3\n",
      "5\n",
      "[['x' '.' '.' '.' '.']\n",
      " ['.' '.' '.' '.' '.']\n",
      " ['.' '.' '.' '.' '.']\n",
      " ['.' '.' '.' '.' '.']\n",
      " ['.' '.' '.' '.' '.']]\n"
     ]
    },
    {
     "data": {
      "image/png": "[encoded data removed]",
      "text/plain": [
       "<Figure size 144x144 with 1 Axes>"
      ]
     },
     "metadata": {
      "needs_background": "light"
     },
     "output_type": "display_data"
    },
    {
     "name": "stdout",
     "output_type": "stream",
     "text": [
      "cols: 1 4 [2, 2] 4 1\n",
      "rows:\n",
      "1\n",
      "3\n",
      "[1, 1]\n",
      "3\n",
      "5\n",
      "[['x' 'x' '.' '.' '.']\n",
      " ['.' '.' '.' '.' '.']\n",
      " ['.' '.' '.' '.' '.']\n",
      " ['.' '.' '.' '.' '.']\n",
      " ['.' '.' '.' '.' '.']]\n"
     ]
    },
    {
     "data": {
      "image/png": "[encoded data removed]",
      "text/plain": [
       "<Figure size 144x144 with 1 Axes>"
      ]
     },
     "metadata": {
      "needs_background": "light"
     },
     "output_type": "display_data"
    }
   ],
   "source": [
    "board5x5s = Board(clues5x5s)\n",
    "plotter5x5s = BoardPlotter(clues5x5s)\n",
    "board5x5s.prettyprint()\n",
    "plotter5x5s.show(board5x5s)\n",
    "\n",
    "board5x5s.mark(0, 0, BoardMark.FILLER) \n",
    "board5x5s.prettyprint()\n",
    "plotter5x5s.show(board5x5s)\n",
    "board5x5s.mark(0, 1, BoardMark.FILLER) \n",
    "board5x5s.prettyprint()\n",
    "plotter5x5s.show(board5x5s)"
   ]
  },
  {
   "cell_type": "markdown",
   "metadata": {},
   "source": [
    "## 6.3. Test mixed black and fillers"
   ]
  },
  {
   "cell_type": "code",
   "execution_count": 38,
   "metadata": {},
   "outputs": [
    {
     "name": "stdout",
     "output_type": "stream",
     "text": [
      "cols: 1 4 [2, 2] 4 1\n",
      "rows:\n",
      "1\n",
      "3\n",
      "[1, 1]\n",
      "3\n",
      "5\n",
      "[['.' '.' '.' '.' '.']\n",
      " ['.' '.' '.' '.' '.']\n",
      " ['.' '.' '.' '.' '.']\n",
      " ['.' '.' '.' '.' '.']\n",
      " ['.' '.' '.' '.' '.']]\n"
     ]
    },
    {
     "data": {
      "image/png": "[encoded data removed]",
      "text/plain": [
       "<Figure size 144x144 with 1 Axes>"
      ]
     },
     "metadata": {
      "needs_background": "light"
     },
     "output_type": "display_data"
    },
    {
     "name": "stdout",
     "output_type": "stream",
     "text": [
      "cols: 1 4 [2, 2] 4 1\n",
      "rows:\n",
      "1\n",
      "3\n",
      "[1, 1]\n",
      "3\n",
      "5\n",
      "[['x' '.' '.' '.' '.']\n",
      " ['.' '.' '.' '.' '.']\n",
      " ['.' '.' '.' '.' '.']\n",
      " ['.' '.' '.' '.' '.']\n",
      " ['.' '.' '.' '.' '.']]\n"
     ]
    },
    {
     "data": {
      "image/png": "[encoded data removed]",
      "text/plain": [
       "<Figure size 144x144 with 1 Axes>"
      ]
     },
     "metadata": {
      "needs_background": "light"
     },
     "output_type": "display_data"
    },
    {
     "name": "stdout",
     "output_type": "stream",
     "text": [
      "cols: 1 4 [2, 2] 4 1\n",
      "rows:\n",
      "1\n",
      "3\n",
      "[1, 1]\n",
      "3\n",
      "5\n",
      "[['x' 'x' '.' '.' '.']\n",
      " ['.' '.' '.' '.' '.']\n",
      " ['.' '.' '.' '.' '.']\n",
      " ['.' '.' '.' '.' '.']\n",
      " ['.' '.' '.' '.' '.']]\n"
     ]
    },
    {
     "data": {
      "image/png": "[encoded data removed]",
      "text/plain": [
       "<Figure size 144x144 with 1 Axes>"
      ]
     },
     "metadata": {
      "needs_background": "light"
     },
     "output_type": "display_data"
    },
    {
     "name": "stdout",
     "output_type": "stream",
     "text": [
      "cols: 1 4 [2, 2] 4 1\n",
      "rows:\n",
      "1\n",
      "3\n",
      "[1, 1]\n",
      "3\n",
      "5\n",
      "[['x' 'x' 'o' '.' '.']\n",
      " ['.' '.' '.' '.' '.']\n",
      " ['.' '.' '.' '.' '.']\n",
      " ['.' '.' '.' '.' '.']\n",
      " ['.' '.' '.' '.' '.']]\n"
     ]
    },
    {
     "data": {
      "image/png": "[encoded data removed]",
      "text/plain": [
       "<Figure size 144x144 with 1 Axes>"
      ]
     },
     "metadata": {
      "needs_background": "light"
     },
     "output_type": "display_data"
    },
    {
     "name": "stdout",
     "output_type": "stream",
     "text": [
      "cols: 1 4 [2, 2] 4 1\n",
      "rows:\n",
      "1\n",
      "3\n",
      "[1, 1]\n",
      "3\n",
      "5\n",
      "[['x' 'x' 'o' 'o' '.']\n",
      " ['.' '.' '.' '.' '.']\n",
      " ['.' '.' '.' '.' '.']\n",
      " ['.' '.' '.' '.' '.']\n",
      " ['.' '.' '.' '.' '.']]\n"
     ]
    },
    {
     "data": {
      "image/png": "[encoded data removed]",
      "text/plain": [
       "<Figure size 144x144 with 1 Axes>"
      ]
     },
     "metadata": {
      "needs_background": "light"
     },
     "output_type": "display_data"
    },
    {
     "name": "stdout",
     "output_type": "stream",
     "text": [
      "cols: 1 4 [2, 2] 4 1\n",
      "rows:\n",
      "1\n",
      "3\n",
      "[1, 1]\n",
      "3\n",
      "5\n",
      "[['x' 'x' 'o' 'o' '.']\n",
      " ['x' '.' '.' '.' '.']\n",
      " ['.' '.' '.' '.' '.']\n",
      " ['.' '.' '.' '.' '.']\n",
      " ['.' '.' '.' '.' '.']]\n"
     ]
    },
    {
     "data": {
      "image/png": "[encoded data removed]",
      "text/plain": [
       "<Figure size 144x144 with 1 Axes>"
      ]
     },
     "metadata": {
      "needs_background": "light"
     },
     "output_type": "display_data"
    },
    {
     "name": "stdout",
     "output_type": "stream",
     "text": [
      "cols: 1 4 [2, 2] 4 1\n",
      "rows:\n",
      "1\n",
      "3\n",
      "[1, 1]\n",
      "3\n",
      "5\n",
      "[['x' 'x' 'o' 'o' '.']\n",
      " ['x' '.' '.' '.' '.']\n",
      " ['x' '.' '.' '.' '.']\n",
      " ['.' '.' '.' '.' '.']\n",
      " ['.' '.' '.' '.' '.']]\n"
     ]
    },
    {
     "data": {
      "image/png": "[encoded data removed]",
      "text/plain": [
       "<Figure size 144x144 with 1 Axes>"
      ]
     },
     "metadata": {
      "needs_background": "light"
     },
     "output_type": "display_data"
    }
   ],
   "source": [
    "board5x5s = Board(clues5x5s)\n",
    "plotter5x5s = BoardPlotter(clues5x5s)\n",
    "board5x5s.prettyprint()\n",
    "plotter5x5s.show(board5x5s)\n",
    "\n",
    "board5x5s.mark(0, 0, BoardMark.FILLER) \n",
    "board5x5s.prettyprint()\n",
    "plotter5x5s.show(board5x5s)\n",
    "board5x5s.mark(0, 1, BoardMark.FILLER) \n",
    "board5x5s.prettyprint()\n",
    "plotter5x5s.show(board5x5s)\n",
    "board5x5s.mark(0, 2, BoardMark.BLACK) \n",
    "board5x5s.prettyprint()\n",
    "plotter5x5s.show(board5x5s)\n",
    "board5x5s.mark(0, 3, BoardMark.BLACK) \n",
    "board5x5s.prettyprint()\n",
    "plotter5x5s.show(board5x5s)\n",
    "board5x5s.mark(1, 0, BoardMark.FILLER) \n",
    "board5x5s.prettyprint()\n",
    "plotter5x5s.show(board5x5s)\n",
    "board5x5s.mark(2, 0, BoardMark.FILLER) \n",
    "board5x5s.prettyprint()\n",
    "plotter5x5s.show(board5x5s)"
   ]
  },
  {
   "cell_type": "markdown",
   "metadata": {},
   "source": [
    "# 7. Test non square board"
   ]
  },
  {
   "cell_type": "code",
   "execution_count": 39,
   "metadata": {},
   "outputs": [
    {
     "name": "stdout",
     "output_type": "stream",
     "text": [
      "cols: 1 3 2 3 1\n",
      "rows:\n",
      "1\n",
      "3\n",
      "[1, 1]\n",
      "[['.' '.' '.' '.' '.']\n",
      " ['.' '.' '.' '.' '.']\n",
      " ['.' '.' '.' '.' '.']]\n"
     ]
    },
    {
     "data": {
      "image/png": "[encoded data removed]",
      "text/plain": [
       "<Figure size 72x144 with 1 Axes>"
      ]
     },
     "metadata": {
      "needs_background": "light"
     },
     "output_type": "display_data"
    },
    {
     "name": "stdout",
     "output_type": "stream",
     "text": [
      "cols: 1 3 2 3 1\n",
      "rows:\n",
      "1\n",
      "3\n",
      "[1, 1]\n",
      "[['.' 'o' '.' 'o' '.']\n",
      " ['.' 'o' '.' 'o' '.']\n",
      " ['x' 'o' 'x' 'o' 'x']]\n"
     ]
    },
    {
     "data": {
      "image/png": "[encoded data removed]",
      "text/plain": [
       "<Figure size 72x144 with 1 Axes>"
      ]
     },
     "metadata": {
      "needs_background": "light"
     },
     "output_type": "display_data"
    }
   ],
   "source": [
    "clues1 = {\n",
    "    'rows': [1, 3, [1,1]],\n",
    "    'cols': [1, 3, 2, 3, 1]\n",
    "}\n",
    "board1 = Board(clues1)\n",
    "plotter1 = BoardPlotter(clues1)\n",
    "board1.prettyprint()\n",
    "plotter1.show(board1)\n",
    "\n",
    "# col 2 is ooo\n",
    "board1.mark(0, 1, BoardMark.BLACK) \n",
    "board1.mark(1, 1, BoardMark.BLACK) \n",
    "board1.mark(2, 1, BoardMark.BLACK) \n",
    "# col 3 is ooo\n",
    "board1.mark(0, 3, BoardMark.BLACK) \n",
    "board1.mark(1, 3, BoardMark.BLACK) \n",
    "board1.mark(2, 3, BoardMark.BLACK) \n",
    "# row 2 is xoxox\n",
    "board1.mark(2, 0, BoardMark.FILLER) \n",
    "board1.mark(2, 2, BoardMark.FILLER) \n",
    "board1.mark(2, 4, BoardMark.FILLER) \n",
    "\n",
    "board1.prettyprint()\n",
    "plotter1.show(board1)\n"
   ]
  },
  {
   "cell_type": "markdown",
   "metadata": {},
   "source": [
    "# 8. Wrap up\n",
    "\n",
    "We have learned\n",
    "- How to use matplotlib\n",
    "- How to display a plot in Jupyter\n",
    "- How to set labels\n",
    "- How to change colors\n",
    "\n",
    "The class is saved in episode03.py.\n",
    "\n",
    "\n"
   ]
  },
  {
   "cell_type": "markdown",
   "metadata": {},
   "source": [
    "## 8.1. Quick test of saved class"
   ]
  },
  {
   "cell_type": "code",
   "execution_count": 40,
   "metadata": {},
   "outputs": [],
   "source": [
    "%reset -f"
   ]
  },
  {
   "cell_type": "code",
   "execution_count": 41,
   "metadata": {},
   "outputs": [],
   "source": [
    "from episode01 import clues2x2, clues5x5s, Board, BoardMark"
   ]
  },
  {
   "cell_type": "code",
   "execution_count": 52,
   "metadata": {},
   "outputs": [],
   "source": [
    "from episode03a import BoardPlotter"
   ]
  },
  {
   "cell_type": "code",
   "execution_count": 43,
   "metadata": {},
   "outputs": [
    {
     "name": "stdout",
     "output_type": "stream",
     "text": [
      "cols: 1 4 [2, 2] 4 1\n",
      "rows:\n",
      "1\n",
      "3\n",
      "[1, 1]\n",
      "3\n",
      "5\n",
      "[['.' '.' '.' '.' '.']\n",
      " ['.' '.' '.' '.' '.']\n",
      " ['.' '.' '.' '.' '.']\n",
      " ['.' '.' '.' '.' '.']\n",
      " ['.' '.' '.' '.' '.']]\n"
     ]
    },
    {
     "data": {
      "image/png": "[encoded data removed]",
      "text/plain": [
       "<Figure size 144x144 with 1 Axes>"
      ]
     },
     "metadata": {
      "needs_background": "light"
     },
     "output_type": "display_data"
    }
   ],
   "source": [
    "board5x5s = Board(clues5x5s)\n",
    "plotter5x5s = BoardPlotter(clues5x5s)\n",
    "board5x5s.prettyprint()\n",
    "plotter5x5s.show(board5x5s)"
   ]
  }
 ],
 "metadata": {
  "kernelspec": {
   "display_name": "Python 3 (ipykernel)",
   "language": "python",
   "name": "python3"
  },
  "language_info": {
   "codemirror_mode": {
    "name": "ipython",
    "version": 3
   },
   "file_extension": ".py",
   "mimetype": "text/x-python",
   "name": "python",
   "nbconvert_exporter": "python",
   "pygments_lexer": "ipython3",
   "version": "3.9.7"
  }
 },
 "nbformat": 4,
 "nbformat_minor": 2
}
