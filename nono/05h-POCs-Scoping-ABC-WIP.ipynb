{
 "cells": [
  {
   "cell_type": "markdown",
   "id": "e52ea5c5",
   "metadata": {},
   "source": [
    "# Episode 05-h: Scoping of Proofs of concepts - Artificial Bee Colony Algorithm"
   ]
  },
  {
   "cell_type": "markdown",
   "id": "dfc21196",
   "metadata": {},
   "source": [
    "TODO intro\n",
    "\n",
    "swarm\n",
    "\n",
    "Broadly, evolutionary algorithms and related techniques use AI mechanisms inspired by biological evolution or foraging behavior in nature to solve problems, described in more detail on Wikipedia. These algorithms build from random initial populations (candidate solutions) that mutate and get better every successive generation, working towards a solution. Genetic Algorithms, Bee Colony Algorithm, Ant Colony Algorithm, Particle Swarm Algorithm (PSO), as well as the Artificial Bee Colony Algorithm belong to this class.\n",
    "\n",
    "inspired from https://towardsdatascience.com/implementing-artificial-bee-colony-algorithm-to-solve-business-problems-cb754f3b9255\n",
    "\n",
    "In Episode 03, some potential problem solving strategies or heuristics. Fitted out with the  classes improved in Episode 04, let's try to solve the problem.\n",
    "\n",
    "In this Episode will be focuse on exploring different technologies and check whether it is useful for solving this problem.\n",
    "\n",
    "We willmost of time focus on 2x2 simple problems and assume that we know a solution to the problem. The latter will simplify the problem by allowing to check if the proposed solution aquals the expected solution instead of verifying if the solution works.\n",
    "\n",
    "**Goals for this episode:**\n",
    "- Try to solve the puzzle with classes defined in Episode 04\n",
    "- List potential strategies or heuristics\n",
    "- Evaluate by solving simple 2x2 problem with a known solution"
   ]
  },
  {
   "cell_type": "code",
   "execution_count": null,
   "id": "315572d7",
   "metadata": {},
   "outputs": [],
   "source": [
    "# TODO group by categories \n",
    "?\n",
    "optimizers\n",
    "machine learning - NLP /transformers\n",
    "\n",
    "\n",
    "use only known solutions and 2x2 here"
   ]
  },
  {
   "cell_type": "markdown",
   "id": "3e32e86c",
   "metadata": {},
   "source": [
    "# 1. Some initialisations"
   ]
  },
  {
   "cell_type": "code",
   "execution_count": 1,
   "id": "ea0ac7f5",
   "metadata": {},
   "outputs": [],
   "source": [
    "from episode04 import clues2x2, solution2x2, clues5x5s, solution5x5s\n",
    "from episode04 import Puzzle, BoardMark, SolvedNonoGameEngine, NonoGameEngine\n",
    "\n",
    "import numpy as np"
   ]
  },
  {
   "cell_type": "code",
   "execution_count": null,
   "id": "23d70915",
   "metadata": {},
   "outputs": [],
   "source": [
    "clues2x2"
   ]
  },
  {
   "cell_type": "code",
   "execution_count": null,
   "id": "54e31494",
   "metadata": {},
   "outputs": [],
   "source": [
    "solution2x2"
   ]
  },
  {
   "cell_type": "markdown",
   "id": "0316b9d8",
   "metadata": {},
   "source": [
    "https://medium.com/cesar-update/a-swarm-intelligence-approach-to-optimization-problems-using-the-artificial-bee-colony-abc-5d4c0302aaa4"
   ]
  },
  {
   "cell_type": "markdown",
   "id": "8db4ad84",
   "metadata": {},
   "source": [
    "Mathematically speaking, to solve a real world optimization problem using computational intelligence algorithms, we will need a mathematical representation of our problem, this representation is called Objective Function, which is a mathematical rule that describes the problem and all the decision variables within this problem."
   ]
  },
  {
   "cell_type": "markdown",
   "id": "e67cedc6",
   "metadata": {},
   "source": [
    "For short, an optimization problem is defined by a search space, which is the region where we will look for a solution, a set of decision variables, which includes all the parameters that influence our problem and of course the objective function, which mathematical rules the problem and also give us a goodness measurement of a candidate solution."
   ]
  },
  {
   "cell_type": "markdown",
   "id": "62e46b16",
   "metadata": {},
   "source": [
    "The goal of an optimization problem is to find the best solution from all feasible solutions. This normally means that we want to minimize or maximize the objective function. In other words, we want to find the set of input decision variables that minimizes of maximizes the value of our objective function, also called fitness value."
   ]
  },
  {
   "cell_type": "markdown",
   "id": "12e40418",
   "metadata": {},
   "source": [
    "The Artificial Bee Colony Algorithm\n",
    "\n",
    "The Artificial Bee Colony (ABC) algorithm is an optimization algorithm which simulates the behavior of a bee colony and was first proposed by Karaboga in 2005 for real-parameter optimization."
   ]
  },
  {
   "cell_type": "markdown",
   "id": "4958ed56",
   "metadata": {},
   "source": [
    "In this mathematical model, our bee colony is composed of three types of bees: The Employee Bees, which will work on the collection of food to the hive at a specific food source. The Onlooker Bees, which will patrol the employees to verify when a specific food source is not worth it anymore, and the Scout Bees, which will be the ones looking for new food sources locations."
   ]
  },
  {
   "cell_type": "markdown",
   "id": "636159c7",
   "metadata": {},
   "source": [
    "On the ABC algorithm a food source is defined as a position in the search space (a candidate solution for the optimization problem), and initially the number of food sources is equal to the number of bees on the hive. The quality of a food source is defined by the value of the objective function on that position (fitness value)."
   ]
  },
  {
   "cell_type": "markdown",
   "id": "9ace101f",
   "metadata": {},
   "source": [
    "The emergent intelligent behavior from the bees can be summarized on some few steps:\n",
    "\n",
    "    The bees start to randomly explore the environment looking for good food sources (fitness value).\n",
    "    After finding a food source, the bee becomes an employee bee and begins to extract the food at the discovered source.\n",
    "    The employee bee returns to the hive with the nectar and unloads the nectar. After unloading the nectar, she can go back to her discovered source site directly or she can share information about her source site by performing a dance on the dance area.\n",
    "    If a food source is exhausted, the employee bee becomes a scout and starts to randomly search for a new food source.\n",
    "    Onlooker bees waiting in the hive watch the employee bees on their food source collection and choose a source among the more profitable sources.\n",
    "    The selection of a food source is proportional to the quality of the source (fitness value)."
   ]
  },
  {
   "cell_type": "markdown",
   "id": "7adf0718",
   "metadata": {},
   "source": [
    "Even though we described three types of bees, at an implementation level we realize that there are only two types, the employees and the onlookers. The scout bee is in fact an exploratory behavior that can be performed by both employees and onlooker bees."
   ]
  },
  {
   "cell_type": "markdown",
   "id": "d460ce59",
   "metadata": {},
   "source": [
    "https://deap.readthedocs.io/en/master/"
   ]
  },
  {
   "cell_type": "markdown",
   "id": "6b82be9e",
   "metadata": {},
   "source": [
    "Artificial Bee\n",
    "\n",
    "To begin the development of our algorithm we must find a way to represent our Bee agent on the python code. There are three main generic functionalities that any bee needs to have. The first one is when due to the exploratory behavior a bee moves out of our decision boundary it needs to have the ability to return to the hive. The second one is the ability to update the status of the actual food source in which the bee is working on and evaluate if a new neighborhood region its a better food source. And the last one realizes when a food source is exhausted and now the bee has to scout for some new food sources.\n",
    "\n",
    "With that in mind, we can implement the class ArtificialBee in python as follows:"
   ]
  },
  {
   "cell_type": "markdown",
   "id": "7ce4e0a6",
   "metadata": {},
   "source": [
    "Employee Bee\n",
    "\n",
    "The main behavior of an employee bee is to extract the food from the food source in which the employee is working on becomes exhausted. At an implementation level, this behavior can be seen as generating a new position close to where the employee bee is, and evaluating if this new position has a better amount of food. The employee bee always will memorize the best food source position achieved so far until it is exhausted."
   ]
  },
  {
   "cell_type": "markdown",
   "id": "c9f2d10c",
   "metadata": {},
   "source": [
    "Onlooker Bee\n",
    "\n",
    "The onlooker bees will patrol the work of employee bees. The will fly over the hive and check the progress of their work and evaluate which employees are being more successful in gathering food.\n",
    "\n",
    "The onlooker bees will always target the best employees, using a probabilistic approach, as a “meeting point”, where the other bees should come to this successful position with the hope to extract more food.\n",
    "\n",
    "At an implementation level, the onlooker bees will look through the best employees and try to improve that food source. After a specific number of trials, the onlooker bee will tell to the hive that this food source is exhausted and must be discarded."
   ]
  },
  {
   "cell_type": "markdown",
   "id": "8a4ec7e9",
   "metadata": {},
   "source": [
    "The Complete Artificial Bee Colony Algorithm\n",
    "\n",
    "After implementing the main types of agents that are going to be used, its time to actually implement all the steps described previously with some python code.\n",
    "\n",
    "Observe that we have implemented each step of our algorithm in separated methods. First we reset the internal parameters of ours ABC algorithm and initialize our employee bees and onlooker bees at random positions. A default strategy that is very well succeeded in real-world problems, is to initialize half of the entire hive as employee bees and the other half as onlooker bees.\n",
    "\n",
    "After that, we begin by sending our employee bees to collect food at their respective initial food sources, always looking for better spots of food around it. Once the employee bees phase is done, we send the onlooker bees to patrol their work and evaluate how good the food extraction is going on each food source. Finally, its time to check if some food source is exhausted, at this point either employee or onlooker can become a scout bee and began an exploration process in the search for a new food source.\n",
    "\n",
    "The complete ABC algorithm can be implemented as follows"
   ]
  },
  {
   "cell_type": "code",
   "execution_count": null,
   "id": "52952960",
   "metadata": {},
   "outputs": [],
   "source": [
    "import numpy as np\n",
    "import matplotlib.pyplot as plt\n",
    "\n",
    "#from algorithm.abc import ABC\n",
    "\n",
    "from matplotlib.style import use\n",
    "\n",
    "#from objection_function import Rastrigin\n",
    "#from objection_function import Rosenbrock\n",
    "#from objection_function import Sphere\n",
    "#from objection_function import Schwefel\n",
    "\n",
    "\n",
    "use('classic')\n",
    "\n",
    "\n",
    "def get_objective(objective, dimension=30):\n",
    "    objectives = {'Sphere': Sphere(dimension),\n",
    "                  'Rastrigin': Rastrigin(dimension),\n",
    "                  'Rosenbrock': Rosenbrock(dimension),\n",
    "                  'Schwefel': Schwefel(dimension)}\n",
    "    return objectives[objective]\n",
    "\n",
    "\n",
    "def simulate(obj_function, colony_size=30, n_iter=5000,\n",
    "             max_trials=100, simulations=30):\n",
    "    itr = range(n_iter)\n",
    "    values = np.zeros(n_iter)\n",
    "    box_optimal = []\n",
    "    for _ in range(simulations):\n",
    "        optimizer = ABC(obj_function=get_objective(obj_function),\n",
    "                        colony_size=colony_size, n_iter=n_iter,\n",
    "                        max_trials=max_trials)\n",
    "        optimizer.optimize()\n",
    "        values += np.array(optimizer.optimality_tracking)\n",
    "        box_optimal.append(optimizer.optimal_solution.fitness)\n",
    "        print(optimizer.optimal_solution.pos)\n",
    "    values /= simulations\n",
    "\n",
    "    plt.plot(itr, values, lw=0.5, label=obj_function)\n",
    "    plt.legend(loc='upper right')\n",
    "\n",
    "\n",
    "def main():\n",
    "    plt.figure(figsize=(10, 7))\n",
    "    simulate('Rastrigin')\n",
    "    plt.ticklabel_format(axis='y', style='sci', scilimits=(-2, 2))\n",
    "    plt.xticks(rotation=45)\n",
    "    plt.show()\n",
    "\n",
    "\n",
    "if __name__ == '__main__':\n",
    "    main()"
   ]
  },
  {
   "cell_type": "markdown",
   "id": "e9216cee",
   "metadata": {},
   "source": [
    "# 8. Optimization by Artificial Bee Colony Algorithm\n",
    "\n",
    "TODO"
   ]
  },
  {
   "cell_type": "markdown",
   "id": "524028b4",
   "metadata": {},
   "source": [
    "TODO "
   ]
  },
  {
   "cell_type": "markdown",
   "id": "5ca01018",
   "metadata": {},
   "source": [
    "https://pypi.org/project/beecolpy/\n",
    " "
   ]
  },
  {
   "cell_type": "markdown",
   "id": "c82f8ad4",
   "metadata": {},
   "source": [
    "## 8.1. Example"
   ]
  },
  {
   "cell_type": "code",
   "execution_count": null,
   "id": "901f0661",
   "metadata": {},
   "outputs": [],
   "source": [
    "! pip install beecolpy"
   ]
  },
  {
   "cell_type": "code",
   "execution_count": null,
   "id": "071a6ba7",
   "metadata": {},
   "outputs": [],
   "source": [
    "!pip install ecabc"
   ]
  },
  {
   "cell_type": "markdown",
   "id": "46dea35b",
   "metadata": {},
   "source": [
    "https://github.com/ecrl/ecabc"
   ]
  },
  {
   "cell_type": "markdown",
   "id": "81ba279b",
   "metadata": {},
   "source": [
    "TODO"
   ]
  },
  {
   "cell_type": "markdown",
   "id": "25a524a4",
   "metadata": {},
   "source": [
    "In a nonogram 2x2 we want to find a set of X=(x1,x2,x3,x4) that minimizes an error function f(X)=x1+x2+x3 where X can be any integer number in [0,1].\n",
    "The error function compute the deviation from the clues."
   ]
  },
  {
   "cell_type": "markdown",
   "id": "22cc6830",
   "metadata": {},
   "source": [
    "## 8.2. Proof of concept on 2x2"
   ]
  },
  {
   "cell_type": "code",
   "execution_count": null,
   "id": "341faeee",
   "metadata": {},
   "outputs": [],
   "source": [
    "# create the game engine\n",
    "puzzle2x2 = Puzzle(clues2x2)\n",
    "game2x2 = SolvedNonoGameEngine(puzzle2x2, solution2x2)"
   ]
  },
  {
   "cell_type": "markdown",
   "id": "c516ffc9",
   "metadata": {},
   "source": [
    "to make it simple we will use the overall sum. The real function should compare col/row sums on X with clues"
   ]
  },
  {
   "cell_type": "code",
   "execution_count": null,
   "id": "19ace189",
   "metadata": {},
   "outputs": [],
   "source": [
    "def board_food(X):\n",
    "    # assume we know a solution to avoid ilplementing the sums\n",
    "    # minimizing the error\n",
    "    row = round(X[0])\n",
    "    col = round(X[1])\n",
    "    outcome = 1\n",
    "    if game2x2.board.states[row, col] == BoardMark.INIT.value:\n",
    "        print(f\"{row} x {col}\")\n",
    "        okay = game2x2.play(row, col, BoardMark.BLACK)\n",
    "    return outcome"
   ]
  },
  {
   "cell_type": "code",
   "execution_count": null,
   "id": "f404c9d2",
   "metadata": {},
   "outputs": [],
   "source": [
    "from beecolpy import abc\n",
    "\n",
    "\n",
    "abc_obj = abc(board_food, \n",
    "                  [(0,1), (0,1)],\n",
    "                  log_agents=True\n",
    "                 ) #Load data\n",
    "abc_obj.fit() #Execute the algorithm"
   ]
  },
  {
   "cell_type": "code",
   "execution_count": null,
   "id": "a4247d84",
   "metadata": {},
   "outputs": [],
   "source": [
    "game2x2.show()"
   ]
  },
  {
   "cell_type": "code",
   "execution_count": null,
   "id": "64dae922",
   "metadata": {},
   "outputs": [],
   "source": [
    "game2x2.count_errors()"
   ]
  },
  {
   "cell_type": "code",
   "execution_count": null,
   "id": "7a3cbabd",
   "metadata": {},
   "outputs": [],
   "source": [
    "#If you want to get the obtained solution after execute the fit() method:\n",
    "solution = abc_obj.get_solution()\n",
    "print(solution)"
   ]
  },
  {
   "cell_type": "code",
   "execution_count": null,
   "id": "8231a42d",
   "metadata": {},
   "outputs": [],
   "source": [
    "#If you want to get the number of iterations executed, number of times that\n",
    "#scout event occur and number of times that NaN protection actuated:\n",
    "iterations = abc_obj.get_status()[0]\n",
    "scout = abc_obj.get_status()[1]\n",
    "nan_events = abc_obj.get_status()[2]\n",
    "\n",
    "#If you want to get a list with position of all points (food sources) used in each iteration:\n",
    "food_sources = abc_obj.get_agents()\n",
    "\n",
    "print(food_sources)"
   ]
  },
  {
   "cell_type": "code",
   "execution_count": null,
   "id": "555b2363",
   "metadata": {},
   "outputs": [],
   "source": [
    "# TODO collect samples"
   ]
  },
  {
   "cell_type": "code",
   "execution_count": null,
   "id": "5905123d",
   "metadata": {},
   "outputs": [],
   "source": []
  },
  {
   "cell_type": "code",
   "execution_count": 152,
   "id": "0e099f5f",
   "metadata": {},
   "outputs": [],
   "source": [
    "def solution(bars, puzzle=None, verbose=True):\n",
    "    game = NonoGameEngine(puzzle)\n",
    "\n",
    "    for i in range(len(bars)):\n",
    "        axis_index = int(i/puzzle.width)\n",
    "        axis_labels = ['rows', 'cols']\n",
    "        axis_label = axis_labels[axis_index]\n",
    "        if verbose:\n",
    "            print(f'axis_label {axis_label}')\n",
    "        \n",
    "        clue_index = i % puzzle.width\n",
    "        clues = puzzle.norm_clues[axis_label]\n",
    "        clue = clues[clue_index][0]\n",
    "        if verbose:\n",
    "            print(f'clue_index {clue_index}')\n",
    "            \n",
    "        bar_pos = bars[i] \n",
    "\n",
    "        row = clue_index if axis_index == 0 else bar_pos\n",
    "        col = clue_index if axis_index == 1 else bar_pos\n",
    "        game.play_multiple(row, col, BoardMark.BLACK, axis_index, clue)\n",
    "\n",
    "    return game\n",
    "\n",
    "\n",
    "def minimize_errors(bars, solution_func=None, verbose=True):\n",
    "    # minimizing the error when validated by board\n",
    "    \n",
    "    game = solution_func(bars)\n",
    "    \n",
    "    fitness = game.count_errors()\n",
    "    if verbose:\n",
    "        game.show()\n",
    "    return fitness"
   ]
  },
  {
   "cell_type": "code",
   "execution_count": 38,
   "id": "7486618e",
   "metadata": {},
   "outputs": [],
   "source": [
    "from functools import partial\n",
    "puzzle2x2 = Puzzle(clues2x2)\n",
    "solution_f = partial(solution, puzzle=puzzle2x2, verbose=False)\n",
    "min_f = partial(minimize_errors, solution_func=solution_f, verbose=False)"
   ]
  },
  {
   "cell_type": "code",
   "execution_count": 18,
   "id": "53b0201d",
   "metadata": {},
   "outputs": [
    {
     "data": {
      "text/plain": [
       "{'rows': [1, 2], 'cols': [2, 1]}"
      ]
     },
     "execution_count": 18,
     "metadata": {},
     "output_type": "execute_result"
    }
   ],
   "source": [
    "clues2x2"
   ]
  },
  {
   "cell_type": "code",
   "execution_count": 39,
   "id": "76ba9142",
   "metadata": {},
   "outputs": [
    {
     "name": "stdout",
     "output_type": "stream",
     "text": [
      "1\n"
     ]
    }
   ],
   "source": [
    "values = []\n",
    "values.append(0) # row 0\n",
    "values.append(0) # row 1\n",
    "values.append(0) # col 0\n",
    "values.append(0) # col 1\n",
    "print(min_f(values))"
   ]
  },
  {
   "cell_type": "code",
   "execution_count": 40,
   "id": "d84ad8ce",
   "metadata": {},
   "outputs": [
    {
     "name": "stdout",
     "output_type": "stream",
     "text": [
      "0\n"
     ]
    }
   ],
   "source": [
    "values = []\n",
    "values.append(0) # row 0\n",
    "values.append(0) # row 1\n",
    "values.append(0) # col 0\n",
    "values.append(1) # col 1\n",
    "print(min_f(values))"
   ]
  },
  {
   "cell_type": "code",
   "execution_count": 41,
   "id": "5137c5de",
   "metadata": {},
   "outputs": [
    {
     "name": "stdout",
     "output_type": "stream",
     "text": [
      "1\n"
     ]
    }
   ],
   "source": [
    "values = []\n",
    "values.append(1) # row 0\n",
    "values.append(1) # row 1\n",
    "values.append(1) # col 0\n",
    "values.append(1) # col 1\n",
    "print(min_f(values))"
   ]
  },
  {
   "cell_type": "code",
   "execution_count": 45,
   "id": "f2e4c826",
   "metadata": {},
   "outputs": [
    {
     "name": "stdout",
     "output_type": "stream",
     "text": [
      "Average fitness: 0.6875\n",
      "Average obj. fn. return value: 0.625\n",
      "Best fitness score: 1.0\n",
      "Best obj. fn. return value: 0\n",
      "Best parameters: {'Row_0': 0, 'Row_1': 0, 'Col_0': 1, 'Col_1': 1}\n",
      "\n",
      "Average fitness: 0.6875\n",
      "Average obj. fn. return value: 0.625\n",
      "Best fitness score: 1.0\n",
      "Best obj. fn. return value: 0\n",
      "Best parameters: {'Row_0': 0, 'Row_1': 0, 'Col_0': 1, 'Col_1': 1}\n",
      "\n",
      "Average fitness: 0.6875\n",
      "Average obj. fn. return value: 0.625\n",
      "Best fitness score: 1.0\n",
      "Best obj. fn. return value: 0\n",
      "Best parameters: {'Row_0': 0, 'Row_1': 0, 'Col_0': 1, 'Col_1': 1}\n",
      "\n",
      "Average fitness: 0.6875\n",
      "Average obj. fn. return value: 0.625\n",
      "Best fitness score: 1.0\n",
      "Best obj. fn. return value: 0\n",
      "Best parameters: {'Row_0': 0, 'Row_1': 0, 'Col_0': 1, 'Col_1': 1}\n",
      "\n",
      "Average fitness: 0.6875\n",
      "Average obj. fn. return value: 0.625\n",
      "Best fitness score: 1.0\n",
      "Best obj. fn. return value: 0\n",
      "Best parameters: {'Row_0': 0, 'Row_1': 0, 'Col_0': 1, 'Col_1': 1}\n",
      "\n",
      "Average fitness: 0.6875\n",
      "Average obj. fn. return value: 0.625\n",
      "Best fitness score: 1.0\n",
      "Best obj. fn. return value: 0\n",
      "Best parameters: {'Row_0': 0, 'Row_1': 0, 'Col_0': 1, 'Col_1': 1}\n",
      "\n",
      "Average fitness: 0.6875\n",
      "Average obj. fn. return value: 0.625\n",
      "Best fitness score: 1.0\n",
      "Best obj. fn. return value: 0\n",
      "Best parameters: {'Row_0': 0, 'Row_1': 0, 'Col_0': 1, 'Col_1': 1}\n",
      "\n",
      "Average fitness: 0.6875\n",
      "Average obj. fn. return value: 0.625\n",
      "Best fitness score: 1.0\n",
      "Best obj. fn. return value: 0\n",
      "Best parameters: {'Row_0': 0, 'Row_1': 0, 'Col_0': 1, 'Col_1': 1}\n",
      "\n",
      "Average fitness: 0.6875\n",
      "Average obj. fn. return value: 0.625\n",
      "Best fitness score: 1.0\n",
      "Best obj. fn. return value: 0\n",
      "Best parameters: {'Row_0': 0, 'Row_1': 0, 'Col_0': 1, 'Col_1': 1}\n",
      "\n",
      "Average fitness: 0.6875\n",
      "Average obj. fn. return value: 0.625\n",
      "Best fitness score: 1.0\n",
      "Best obj. fn. return value: 0\n",
      "Best parameters: {'Row_0': 0, 'Row_1': 0, 'Col_0': 1, 'Col_1': 1}\n",
      "\n"
     ]
    }
   ],
   "source": [
    "from ecabc import ABC\n",
    "\n",
    "nb_bars = 4\n",
    "\n",
    "abc = ABC(nb_bars, min_f)\n",
    "abc.add_param(0, 2, name='Row_0')\n",
    "abc.add_param(0, 2, name='Row_1')\n",
    "abc.add_param(0, 2, name='Col_0')\n",
    "abc.add_param(0, 2, name='Col_1')\n",
    "abc.initialize()\n",
    "for _ in range(10):\n",
    "    abc.search()\n",
    "    print('Average fitness: {}'.format(abc.average_fitness))\n",
    "    print('Average obj. fn. return value: {}'.format(abc.average_ret_val))\n",
    "    print('Best fitness score: {}'.format(abc.best_fitness))\n",
    "    print('Best obj. fn. return value: {}'.format(abc.best_ret_val))\n",
    "    print('Best parameters: {}\\n'.format(abc.best_params))\n"
   ]
  },
  {
   "cell_type": "code",
   "execution_count": 46,
   "id": "5ec389d3",
   "metadata": {},
   "outputs": [
    {
     "data": {
      "text/plain": [
       "{'Row_0': 0, 'Row_1': 0, 'Col_0': 1, 'Col_1': 1}"
      ]
     },
     "execution_count": 46,
     "metadata": {},
     "output_type": "execute_result"
    }
   ],
   "source": [
    "bars = abc.best_params\n",
    "bars"
   ]
  },
  {
   "cell_type": "code",
   "execution_count": 47,
   "id": "65897dcb",
   "metadata": {},
   "outputs": [
    {
     "data": {
      "text/plain": [
       "dict_values([0, 0, 1, 1])"
      ]
     },
     "execution_count": 47,
     "metadata": {},
     "output_type": "execute_result"
    }
   ],
   "source": [
    "bars.values()"
   ]
  },
  {
   "cell_type": "code",
   "execution_count": 50,
   "id": "19295232",
   "metadata": {},
   "outputs": [
    {
     "data": {
      "image/png": "[encoded data removed]",
      "text/plain": [
       "<Figure size 72x72 with 1 Axes>"
      ]
     },
     "metadata": {
      "needs_background": "light"
     },
     "output_type": "display_data"
    }
   ],
   "source": [
    "game = solution_f(list(bars.values()))\n",
    "game.show()"
   ]
  },
  {
   "cell_type": "code",
   "execution_count": null,
   "id": "aeccd6ee",
   "metadata": {},
   "outputs": [],
   "source": []
  },
  {
   "cell_type": "code",
   "execution_count": 147,
   "id": "c460b8f0",
   "metadata": {},
   "outputs": [],
   "source": [
    "# create the game engine\n",
    "clues5x5 = {\n",
    "    'rows': [1, 2, 2, 3, 5],\n",
    "    'cols': [5, 4, 3, 1, 1]\n",
    "}\n",
    "puzzle5x5 = Puzzle(clues5x5)\n",
    "solution5x5 = np.array([[1, 0, 0, 0, 0],\n",
    "                        [1, 1, 0, 0, 0],\n",
    "                        [1, 1, 0, 0, 0],\n",
    "                        [1, 1, 1, 0, 0],\n",
    "                        [1, 1, 1, 1, 1]])\n"
   ]
  },
  {
   "cell_type": "code",
   "execution_count": 148,
   "id": "32ebb90e",
   "metadata": {},
   "outputs": [],
   "source": [
    "def minimize_cells_errors(cells, puzzle=None, verbose=True):\n",
    "    # minimizing the error when validated by board\n",
    "    game = NonoGameEngine(puzzle)\n",
    "    game.submit(cells)\n",
    "    \n",
    "    fitness = game.count_errors()\n",
    "    if verbose:\n",
    "        game.show()\n",
    "    return fitness"
   ]
  },
  {
   "cell_type": "code",
   "execution_count": 126,
   "id": "90c73eec",
   "metadata": {},
   "outputs": [],
   "source": [
    "from functools import partial\n",
    "min_f = partial(minimize_cells_errors, puzzle=puzzle5x5, verbose=False)"
   ]
  },
  {
   "cell_type": "code",
   "execution_count": 138,
   "id": "75617f71",
   "metadata": {},
   "outputs": [
    {
     "name": "stdout",
     "output_type": "stream",
     "text": [
      "Average fitness: 0.0714285714285715\n",
      "Average obj. fn. return value: 13.0\n",
      "Best fitness score: 0.07142857142857142\n",
      "Best obj. fn. return value: 13\n",
      "Best parameters: {'Cell_0': 0, 'Cell_1': 0, 'Cell_2': 0, 'Cell_3': 0, 'Cell_4': 0, 'Cell_5': 0, 'Cell_6': 0, 'Cell_7': 0, 'Cell_8': 0, 'Cell_9': 0, 'Cell_10': 0, 'Cell_11': 0, 'Cell_12': 0, 'Cell_13': 0, 'Cell_14': 0, 'Cell_15': 0, 'Cell_16': 0, 'Cell_17': 0, 'Cell_18': 0, 'Cell_19': 0, 'Cell_20': 0, 'Cell_21': 0, 'Cell_22': 0, 'Cell_23': 0, 'Cell_24': 0}\n",
      "\n",
      "Average fitness: 0.0714285714285715\n",
      "Average obj. fn. return value: 13.0\n",
      "Best fitness score: 0.07142857142857142\n",
      "Best obj. fn. return value: 13\n",
      "Best parameters: {'Cell_0': 0, 'Cell_1': 0, 'Cell_2': 0, 'Cell_3': 0, 'Cell_4': 0, 'Cell_5': 0, 'Cell_6': 0, 'Cell_7': 0, 'Cell_8': 0, 'Cell_9': 0, 'Cell_10': 0, 'Cell_11': 0, 'Cell_12': 0, 'Cell_13': 0, 'Cell_14': 0, 'Cell_15': 0, 'Cell_16': 0, 'Cell_17': 0, 'Cell_18': 0, 'Cell_19': 0, 'Cell_20': 0, 'Cell_21': 0, 'Cell_22': 0, 'Cell_23': 0, 'Cell_24': 0}\n",
      "\n",
      "Average fitness: 0.0714285714285715\n",
      "Average obj. fn. return value: 13.0\n",
      "Best fitness score: 0.07142857142857142\n",
      "Best obj. fn. return value: 13\n",
      "Best parameters: {'Cell_0': 0, 'Cell_1': 0, 'Cell_2': 0, 'Cell_3': 0, 'Cell_4': 0, 'Cell_5': 0, 'Cell_6': 0, 'Cell_7': 0, 'Cell_8': 0, 'Cell_9': 0, 'Cell_10': 0, 'Cell_11': 0, 'Cell_12': 0, 'Cell_13': 0, 'Cell_14': 0, 'Cell_15': 0, 'Cell_16': 0, 'Cell_17': 0, 'Cell_18': 0, 'Cell_19': 0, 'Cell_20': 0, 'Cell_21': 0, 'Cell_22': 0, 'Cell_23': 0, 'Cell_24': 0}\n",
      "\n",
      "Average fitness: 0.0714285714285715\n",
      "Average obj. fn. return value: 13.0\n",
      "Best fitness score: 0.07142857142857142\n",
      "Best obj. fn. return value: 13\n",
      "Best parameters: {'Cell_0': 0, 'Cell_1': 0, 'Cell_2': 0, 'Cell_3': 0, 'Cell_4': 0, 'Cell_5': 0, 'Cell_6': 0, 'Cell_7': 0, 'Cell_8': 0, 'Cell_9': 0, 'Cell_10': 0, 'Cell_11': 0, 'Cell_12': 0, 'Cell_13': 0, 'Cell_14': 0, 'Cell_15': 0, 'Cell_16': 0, 'Cell_17': 0, 'Cell_18': 0, 'Cell_19': 0, 'Cell_20': 0, 'Cell_21': 0, 'Cell_22': 0, 'Cell_23': 0, 'Cell_24': 0}\n",
      "\n",
      "Average fitness: 0.0714285714285715\n",
      "Average obj. fn. return value: 13.0\n",
      "Best fitness score: 0.07142857142857142\n",
      "Best obj. fn. return value: 13\n",
      "Best parameters: {'Cell_0': 0, 'Cell_1': 0, 'Cell_2': 0, 'Cell_3': 0, 'Cell_4': 0, 'Cell_5': 0, 'Cell_6': 0, 'Cell_7': 0, 'Cell_8': 0, 'Cell_9': 0, 'Cell_10': 0, 'Cell_11': 0, 'Cell_12': 0, 'Cell_13': 0, 'Cell_14': 0, 'Cell_15': 0, 'Cell_16': 0, 'Cell_17': 0, 'Cell_18': 0, 'Cell_19': 0, 'Cell_20': 0, 'Cell_21': 0, 'Cell_22': 0, 'Cell_23': 0, 'Cell_24': 0}\n",
      "\n",
      "Average fitness: 0.0714285714285715\n",
      "Average obj. fn. return value: 13.0\n",
      "Best fitness score: 0.07142857142857142\n",
      "Best obj. fn. return value: 13\n",
      "Best parameters: {'Cell_0': 0, 'Cell_1': 0, 'Cell_2': 0, 'Cell_3': 0, 'Cell_4': 0, 'Cell_5': 0, 'Cell_6': 0, 'Cell_7': 0, 'Cell_8': 0, 'Cell_9': 0, 'Cell_10': 0, 'Cell_11': 0, 'Cell_12': 0, 'Cell_13': 0, 'Cell_14': 0, 'Cell_15': 0, 'Cell_16': 0, 'Cell_17': 0, 'Cell_18': 0, 'Cell_19': 0, 'Cell_20': 0, 'Cell_21': 0, 'Cell_22': 0, 'Cell_23': 0, 'Cell_24': 0}\n",
      "\n",
      "Average fitness: 0.0714285714285715\n",
      "Average obj. fn. return value: 13.0\n",
      "Best fitness score: 0.07142857142857142\n",
      "Best obj. fn. return value: 13\n",
      "Best parameters: {'Cell_0': 0, 'Cell_1': 0, 'Cell_2': 0, 'Cell_3': 0, 'Cell_4': 0, 'Cell_5': 0, 'Cell_6': 0, 'Cell_7': 0, 'Cell_8': 0, 'Cell_9': 0, 'Cell_10': 0, 'Cell_11': 0, 'Cell_12': 0, 'Cell_13': 0, 'Cell_14': 0, 'Cell_15': 0, 'Cell_16': 0, 'Cell_17': 0, 'Cell_18': 0, 'Cell_19': 0, 'Cell_20': 0, 'Cell_21': 0, 'Cell_22': 0, 'Cell_23': 0, 'Cell_24': 0}\n",
      "\n",
      "Average fitness: 0.0714285714285715\n",
      "Average obj. fn. return value: 13.0\n",
      "Best fitness score: 0.07142857142857142\n",
      "Best obj. fn. return value: 13\n",
      "Best parameters: {'Cell_0': 0, 'Cell_1': 0, 'Cell_2': 0, 'Cell_3': 0, 'Cell_4': 0, 'Cell_5': 0, 'Cell_6': 0, 'Cell_7': 0, 'Cell_8': 0, 'Cell_9': 0, 'Cell_10': 0, 'Cell_11': 0, 'Cell_12': 0, 'Cell_13': 0, 'Cell_14': 0, 'Cell_15': 0, 'Cell_16': 0, 'Cell_17': 0, 'Cell_18': 0, 'Cell_19': 0, 'Cell_20': 0, 'Cell_21': 0, 'Cell_22': 0, 'Cell_23': 0, 'Cell_24': 0}\n",
      "\n",
      "Average fitness: 0.0714285714285715\n",
      "Average obj. fn. return value: 13.0\n",
      "Best fitness score: 0.07142857142857142\n",
      "Best obj. fn. return value: 13\n",
      "Best parameters: {'Cell_0': 0, 'Cell_1': 0, 'Cell_2': 0, 'Cell_3': 0, 'Cell_4': 0, 'Cell_5': 0, 'Cell_6': 0, 'Cell_7': 0, 'Cell_8': 0, 'Cell_9': 0, 'Cell_10': 0, 'Cell_11': 0, 'Cell_12': 0, 'Cell_13': 0, 'Cell_14': 0, 'Cell_15': 0, 'Cell_16': 0, 'Cell_17': 0, 'Cell_18': 0, 'Cell_19': 0, 'Cell_20': 0, 'Cell_21': 0, 'Cell_22': 0, 'Cell_23': 0, 'Cell_24': 0}\n",
      "\n",
      "Average fitness: 0.0714285714285715\n",
      "Average obj. fn. return value: 13.0\n",
      "Best fitness score: 0.07142857142857142\n",
      "Best obj. fn. return value: 13\n",
      "Best parameters: {'Cell_0': 0, 'Cell_1': 0, 'Cell_2': 0, 'Cell_3': 0, 'Cell_4': 0, 'Cell_5': 0, 'Cell_6': 0, 'Cell_7': 0, 'Cell_8': 0, 'Cell_9': 0, 'Cell_10': 0, 'Cell_11': 0, 'Cell_12': 0, 'Cell_13': 0, 'Cell_14': 0, 'Cell_15': 0, 'Cell_16': 0, 'Cell_17': 0, 'Cell_18': 0, 'Cell_19': 0, 'Cell_20': 0, 'Cell_21': 0, 'Cell_22': 0, 'Cell_23': 0, 'Cell_24': 0}\n",
      "\n",
      "trial: 100\n",
      "Best obj. fn. return value: 13\n",
      "Best parameters: {'Cell_0': 0, 'Cell_1': 0, 'Cell_2': 0, 'Cell_3': 0, 'Cell_4': 0, 'Cell_5': 0, 'Cell_6': 0, 'Cell_7': 0, 'Cell_8': 0, 'Cell_9': 0, 'Cell_10': 0, 'Cell_11': 0, 'Cell_12': 0, 'Cell_13': 0, 'Cell_14': 0, 'Cell_15': 0, 'Cell_16': 0, 'Cell_17': 0, 'Cell_18': 0, 'Cell_19': 0, 'Cell_20': 0, 'Cell_21': 0, 'Cell_22': 0, 'Cell_23': 0, 'Cell_24': 0}\n",
      "\n"
     ]
    }
   ],
   "source": [
    "from ecabc import ABC\n",
    "\n",
    "nb_cells = puzzle5x5.width * puzzle5x5.height\n",
    "\n",
    "abc = ABC(nb_cells, min_f)\n",
    "for cell in range(nb_cells):\n",
    "    abc.add_param(0, 1, name=f'Cell_{cell}') \n",
    "    \n",
    "abc.initialize()\n",
    "max_trials = 100\n",
    "trial = 0\n",
    "while trial < max_trials and abc.best_ret_val > 0:\n",
    "    trial += 1\n",
    "    abc.search()\n",
    "    if trial % 10 == 0:\n",
    "        print('Average fitness: {}'.format(abc.average_fitness))\n",
    "        print('Average obj. fn. return value: {}'.format(abc.average_ret_val))\n",
    "        print('Best fitness score: {}'.format(abc.best_fitness))\n",
    "        print('Best obj. fn. return value: {}'.format(abc.best_ret_val))\n",
    "        print('Best parameters: {}\\n'.format(abc.best_params))\n",
    "\n",
    "print('trial: {}'.format(trial))\n",
    "print('Best obj. fn. return value: {}'.format(abc.best_ret_val))\n",
    "print('Best parameters: {}\\n'.format(abc.best_params))"
   ]
  },
  {
   "cell_type": "code",
   "execution_count": 130,
   "id": "5f403cc5",
   "metadata": {},
   "outputs": [
    {
     "data": {
      "text/plain": [
       "dict_values([0, 0, 0, 0, 0, 0, 0, 0, 0, 0, 0, 0, 0, 0, 0, 0, 0, 0, 0, 0, 0, 0, 0, 0, 0])"
      ]
     },
     "execution_count": 130,
     "metadata": {},
     "output_type": "execute_result"
    }
   ],
   "source": [
    "cells = abc.best_params\n",
    "cells.values()"
   ]
  },
  {
   "cell_type": "code",
   "execution_count": 131,
   "id": "81e55e5f",
   "metadata": {},
   "outputs": [
    {
     "data": {
      "image/png": "[encoded data removed]",
      "text/plain": [
       "<Figure size 144x144 with 1 Axes>"
      ]
     },
     "metadata": {
      "needs_background": "light"
     },
     "output_type": "display_data"
    },
    {
     "data": {
      "text/plain": [
       "False"
      ]
     },
     "execution_count": 131,
     "metadata": {},
     "output_type": "execute_result"
    }
   ],
   "source": [
    "game = SolvedNonoGameEngine(puzzle5x5, solution5x5)\n",
    "game.submit(cells.values(), apply=False)\n",
    "game.show()\n",
    "game.is_solved()"
   ]
  },
  {
   "cell_type": "code",
   "execution_count": null,
   "id": "884ecc70",
   "metadata": {},
   "outputs": [],
   "source": []
  },
  {
   "cell_type": "code",
   "execution_count": 153,
   "id": "067b2ce4",
   "metadata": {},
   "outputs": [],
   "source": [
    "# create the game engine\n",
    "clues5x5 = {\n",
    "    'rows': [1, 2, 2, 3, 5],\n",
    "    'cols': [5, 4, 3, 1, 1]\n",
    "}\n",
    "puzzle5x5 = Puzzle(clues5x5)"
   ]
  },
  {
   "cell_type": "markdown",
   "id": "d667ec78",
   "metadata": {},
   "source": [
    "xoooo\n",
    "xxooo\n",
    "xxooo\n",
    "xxxoo\n",
    "xxxxx"
   ]
  },
  {
   "cell_type": "code",
   "execution_count": 154,
   "id": "6b8dcab4",
   "metadata": {},
   "outputs": [],
   "source": [
    "from functools import partial\n",
    "solution_f = partial(solution, puzzle=puzzle5x5, verbose=False)\n",
    "min_f = partial(minimize_errors, solution_func=solution_f, verbose=False)"
   ]
  },
  {
   "cell_type": "code",
   "execution_count": 157,
   "id": "d4ac66d4",
   "metadata": {},
   "outputs": [
    {
     "name": "stdout",
     "output_type": "stream",
     "text": [
      "Average fitness: 0.23464285714285715\n",
      "Average obj. fn. return value: 3.6\n",
      "Best fitness score: 0.5\n",
      "Best obj. fn. return value: 1\n",
      "Best parameters: {'Row_0': 2, 'Row_1': 0, 'Row_2': 0, 'Row_3': 0, 'Row_4': 1, 'Col_0': 4, 'Col_1': 3, 'Col_2': 3, 'Col_3': 0, 'Col_4': 4}\n",
      "\n",
      "Average fitness: 0.2833333333333333\n",
      "Average obj. fn. return value: 2.8\n",
      "Best fitness score: 0.5\n",
      "Best obj. fn. return value: 1\n",
      "Best parameters: {'Row_0': 2, 'Row_1': 4, 'Row_2': 0, 'Row_3': 0, 'Row_4': 2, 'Col_0': 3, 'Col_1': 1, 'Col_2': 4, 'Col_3': 4, 'Col_4': 1}\n",
      "\n",
      "Average fitness: 0.3158333333333333\n",
      "Average obj. fn. return value: 2.45\n",
      "Best fitness score: 0.5\n",
      "Best obj. fn. return value: 1\n",
      "Best parameters: {'Row_0': 2, 'Row_1': 4, 'Row_2': 0, 'Row_3': 0, 'Row_4': 2, 'Col_0': 3, 'Col_1': 1, 'Col_2': 4, 'Col_3': 4, 'Col_4': 1}\n",
      "\n",
      "Average fitness: 0.33499999999999996\n",
      "Average obj. fn. return value: 2.2\n",
      "Best fitness score: 0.5\n",
      "Best obj. fn. return value: 1\n",
      "Best parameters: {'Row_0': 2, 'Row_1': 4, 'Row_2': 0, 'Row_3': 0, 'Row_4': 2, 'Col_0': 3, 'Col_1': 1, 'Col_2': 4, 'Col_3': 4, 'Col_4': 1}\n",
      "\n",
      "Average fitness: 0.36416666666666664\n",
      "Average obj. fn. return value: 2.0\n",
      "Best fitness score: 0.5\n",
      "Best obj. fn. return value: 1\n",
      "Best parameters: {'Row_0': 2, 'Row_1': 4, 'Row_2': 0, 'Row_3': 0, 'Row_4': 2, 'Col_0': 3, 'Col_1': 1, 'Col_2': 4, 'Col_3': 4, 'Col_4': 1}\n",
      "\n",
      "Average fitness: 0.36416666666666664\n",
      "Average obj. fn. return value: 2.0\n",
      "Best fitness score: 0.5\n",
      "Best obj. fn. return value: 1\n",
      "Best parameters: {'Row_0': 2, 'Row_1': 4, 'Row_2': 0, 'Row_3': 0, 'Row_4': 2, 'Col_0': 3, 'Col_1': 1, 'Col_2': 4, 'Col_3': 4, 'Col_4': 1}\n",
      "\n",
      "Average fitness: 0.36416666666666664\n",
      "Average obj. fn. return value: 2.0\n",
      "Best fitness score: 0.5\n",
      "Best obj. fn. return value: 1\n",
      "Best parameters: {'Row_0': 2, 'Row_1': 4, 'Row_2': 0, 'Row_3': 0, 'Row_4': 2, 'Col_0': 3, 'Col_1': 1, 'Col_2': 4, 'Col_3': 4, 'Col_4': 1}\n",
      "\n",
      "Average fitness: 0.37249999999999994\n",
      "Average obj. fn. return value: 1.9\n",
      "Best fitness score: 0.5\n",
      "Best obj. fn. return value: 1\n",
      "Best parameters: {'Row_0': 2, 'Row_1': 4, 'Row_2': 0, 'Row_3': 0, 'Row_4': 2, 'Col_0': 3, 'Col_1': 1, 'Col_2': 4, 'Col_3': 4, 'Col_4': 1}\n",
      "\n",
      "Average fitness: 0.37499999999999994\n",
      "Average obj. fn. return value: 1.85\n",
      "Best fitness score: 0.5\n",
      "Best obj. fn. return value: 1\n",
      "Best parameters: {'Row_0': 2, 'Row_1': 4, 'Row_2': 0, 'Row_3': 0, 'Row_4': 2, 'Col_0': 3, 'Col_1': 1, 'Col_2': 4, 'Col_3': 4, 'Col_4': 1}\n",
      "\n",
      "Average fitness: 0.37499999999999994\n",
      "Average obj. fn. return value: 1.85\n",
      "Best fitness score: 0.5\n",
      "Best obj. fn. return value: 1\n",
      "Best parameters: {'Row_0': 2, 'Row_1': 4, 'Row_2': 0, 'Row_3': 0, 'Row_4': 2, 'Col_0': 3, 'Col_1': 1, 'Col_2': 4, 'Col_3': 4, 'Col_4': 1}\n",
      "\n",
      "Average fitness: 0.37499999999999994\n",
      "Average obj. fn. return value: 1.8\n",
      "Best fitness score: 0.5\n",
      "Best obj. fn. return value: 1\n",
      "Best parameters: {'Row_0': 2, 'Row_1': 4, 'Row_2': 0, 'Row_3': 0, 'Row_4': 2, 'Col_0': 3, 'Col_1': 1, 'Col_2': 4, 'Col_3': 4, 'Col_4': 1}\n",
      "\n",
      "Average fitness: 0.4041666666666666\n",
      "Average obj. fn. return value: 1.6\n",
      "Best fitness score: 0.5\n",
      "Best obj. fn. return value: 1\n",
      "Best parameters: {'Row_0': 0, 'Row_1': 0, 'Row_2': 1, 'Row_3': 0, 'Row_4': 4, 'Col_0': 2, 'Col_1': 3, 'Col_2': 2, 'Col_3': 0, 'Col_4': 4}\n",
      "\n",
      "Average fitness: 0.4041666666666666\n",
      "Average obj. fn. return value: 1.6\n",
      "Best fitness score: 0.5\n",
      "Best obj. fn. return value: 1\n",
      "Best parameters: {'Row_0': 0, 'Row_1': 5, 'Row_2': 1, 'Row_3': 5, 'Row_4': 3, 'Col_0': 0, 'Col_1': 3, 'Col_2': 2, 'Col_3': 5, 'Col_4': 5}\n",
      "\n",
      "trial: 134\n",
      "Best obj. fn. return value: 0\n",
      "Best parameters: {'Row_0': 0, 'Row_1': 5, 'Row_2': 1, 'Row_3': 5, 'Row_4': 3, 'Col_0': 1, 'Col_1': 1, 'Col_2': 2, 'Col_3': 4, 'Col_4': 4}\n",
      "\n"
     ]
    },
    {
     "data": {
      "image/png": "[encoded data removed]",
      "text/plain": [
       "<Figure size 144x144 with 13 Axes>"
      ]
     },
     "metadata": {
      "needs_background": "light"
     },
     "output_type": "display_data"
    }
   ],
   "source": [
    "from ecabc import ABC\n",
    "\n",
    "nb_bars = puzzle5x5.width + puzzle5x5.height\n",
    "abc = ABC(nb_bars, min_f)\n",
    "for row in range(puzzle5x5.width):\n",
    "    abc.add_param(0, puzzle5x5.height, name=f'Row_{row}') \n",
    "for col in range(puzzle5x5.height):\n",
    "    abc.add_param(0, puzzle5x5.width, name=f'Col_{col}') \n",
    "\n",
    "abc.initialize()\n",
    "\n",
    "game = NonoGameEngine(puzzle5x5, track=True)\n",
    "\n",
    "max_trials = 200\n",
    "trial = 0\n",
    "while trial < max_trials and abc.best_ret_val > 0:\n",
    "    trial += 1\n",
    "    abc.search()\n",
    "    if trial % 10 == 0:\n",
    "        tmp_game = solution_f(list(abc.best_params.values()))\n",
    "        game.submit(tmp_game.board.states)\n",
    "\n",
    "        print('Average fitness: {}'.format(abc.average_fitness))\n",
    "        print('Average obj. fn. return value: {}'.format(abc.average_ret_val))\n",
    "        print('Best fitness score: {}'.format(abc.best_fitness))\n",
    "        print('Best obj. fn. return value: {}'.format(abc.best_ret_val))\n",
    "        print('Best parameters: {}\\n'.format(abc.best_params))\n",
    "\n",
    "print('trial: {}'.format(trial))\n",
    "print('Best obj. fn. return value: {}'.format(abc.best_ret_val))\n",
    "print('Best parameters: {}\\n'.format(abc.best_params))\n",
    "game.show_all()"
   ]
  },
  {
   "cell_type": "code",
   "execution_count": null,
   "id": "ba9379d1",
   "metadata": {},
   "outputs": [],
   "source": [
    "# TODO graph error"
   ]
  },
  {
   "cell_type": "code",
   "execution_count": 158,
   "id": "c8a32a08",
   "metadata": {},
   "outputs": [
    {
     "data": {
      "text/plain": [
       "{'Row_0': 0,\n",
       " 'Row_1': 5,\n",
       " 'Row_2': 1,\n",
       " 'Row_3': 5,\n",
       " 'Row_4': 3,\n",
       " 'Col_0': 1,\n",
       " 'Col_1': 1,\n",
       " 'Col_2': 2,\n",
       " 'Col_3': 4,\n",
       " 'Col_4': 4}"
      ]
     },
     "execution_count": 158,
     "metadata": {},
     "output_type": "execute_result"
    }
   ],
   "source": [
    "bars = abc.best_params\n",
    "bars"
   ]
  },
  {
   "cell_type": "code",
   "execution_count": 159,
   "id": "c5ddc6b2",
   "metadata": {},
   "outputs": [
    {
     "data": {
      "image/png": "[encoded data removed]",
      "text/plain": [
       "<Figure size 144x144 with 1 Axes>"
      ]
     },
     "metadata": {
      "needs_background": "light"
     },
     "output_type": "display_data"
    },
    {
     "data": {
      "text/plain": [
       "True"
      ]
     },
     "execution_count": 159,
     "metadata": {},
     "output_type": "execute_result"
    }
   ],
   "source": [
    "game = solution_f(list(bars.values()))\n",
    "game.show()\n",
    "game.is_solved()"
   ]
  },
  {
   "cell_type": "code",
   "execution_count": 106,
   "id": "6faa45e9",
   "metadata": {},
   "outputs": [
    {
     "data": {
      "text/plain": [
       "0"
      ]
     },
     "execution_count": 106,
     "metadata": {},
     "output_type": "execute_result"
    }
   ],
   "source": [
    "game.count_errors()"
   ]
  },
  {
   "cell_type": "code",
   "execution_count": null,
   "id": "e5f38d21",
   "metadata": {},
   "outputs": [],
   "source": []
  },
  {
   "cell_type": "markdown",
   "id": "b448cac6",
   "metadata": {},
   "source": [
    "## 8.3. Wrap up\n",
    "TODO"
   ]
  },
  {
   "cell_type": "markdown",
   "id": "3e2251f6",
   "metadata": {},
   "source": [
    "What works:\n",
    "- it is simple to design and implement\n",
    "- pretty easy to use\n",
    "- it works on a numpy which will make it easy to compute rules\n",
    "\n",
    "Limitation:\n",
    "- May be overkill for this simple problem\n"
   ]
  },
  {
   "cell_type": "markdown",
   "id": "f18c1b15",
   "metadata": {},
   "source": [
    "This prrof of concept is \n",
    "\n",
    "Computations in the error function may use reshape and np.sum to cimpute sums on X. And then compare each sums to each clue in order to compute the abs error sum element by element. "
   ]
  },
  {
   "cell_type": "code",
   "execution_count": null,
   "id": "5a0fc47b",
   "metadata": {},
   "outputs": [],
   "source": [
    "states = np.array([1, 0, 1, 1]).reshape(2,2)\n",
    "states"
   ]
  },
  {
   "cell_type": "code",
   "execution_count": null,
   "id": "fd0cf348",
   "metadata": {},
   "outputs": [],
   "source": [
    "states.sum(axis=0) # O col"
   ]
  },
  {
   "cell_type": "code",
   "execution_count": null,
   "id": "ae08cebd",
   "metadata": {},
   "outputs": [],
   "source": [
    "states.sum(axis=1) # 1 col"
   ]
  },
  {
   "cell_type": "markdown",
   "id": "19aa1b90",
   "metadata": {},
   "source": [
    "- Ideation: 10mn\n",
    "- Design: 10mn - feature out that X is a numpty arry\n",
    "- Implementation: 20mn  - error function (but only sum up, not real rules, estimated to 1h)"
   ]
  }
 ],
 "metadata": {
  "kernelspec": {
   "display_name": "Python 3 (ipykernel)",
   "language": "python",
   "name": "python3"
  },
  "language_info": {
   "codemirror_mode": {
    "name": "ipython",
    "version": 3
   },
   "file_extension": ".py",
   "mimetype": "text/x-python",
   "name": "python",
   "nbconvert_exporter": "python",
   "pygments_lexer": "ipython3",
   "version": "3.9.7"
  }
 },
 "nbformat": 4,
 "nbformat_minor": 5
}
