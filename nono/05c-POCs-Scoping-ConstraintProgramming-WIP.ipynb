{
 "cells": [
  {
   "cell_type": "markdown",
   "id": "48f663e3",
   "metadata": {},
   "source": [
    "# Episode 05-c: Scoping of Proofs of concepts - Constraint Programming"
   ]
  },
  {
   "cell_type": "markdown",
   "id": "dfc21196",
   "metadata": {},
   "source": [
    "TODO\n",
    "\n",
    "In Episode 03, some potential problem solving strategies or heuristics. Fitted out with the  classes improved in Episode 04, let's try to solve the problem.\n",
    "\n",
    "In this Episode will be focuse on exploring different technologies and check whether it is useful for solving this problem.\n",
    "\n",
    "We willmost of time focus on 2x2 simple problems and assume that we know a solution to the problem. The latter will simplify the problem by allowing to check if the proposed solution aquals the expected solution instead of verifying if the solution works.\n",
    "\n",
    "**Goals for this episode:**\n",
    "- Try to solve the puzzle with classes defined in Episode 04\n",
    "- List potential strategies or heuristics\n",
    "- Evaluate by solving simple 2x2 problem with a known solution"
   ]
  },
  {
   "cell_type": "markdown",
   "id": "e383632f",
   "metadata": {},
   "source": [
    "# TODO group by categories \n",
    "?\n",
    "optimizers\n",
    "machine learning - NLP /transformers\n",
    "\n",
    "\n",
    "use only known solutions and 2x2 here"
   ]
  },
  {
   "cell_type": "markdown",
   "id": "3e32e86c",
   "metadata": {},
   "source": [
    "# 1. Some initialisations"
   ]
  },
  {
   "cell_type": "code",
   "execution_count": 2,
   "id": "ea0ac7f5",
   "metadata": {},
   "outputs": [],
   "source": [
    "from episode04.board import BoardMark\n",
    "from episode04.gameengine import SolvedNonoGameEngine\n",
    "from episode04.puzzle import Puzzle\n",
    "from episode04.samples import clues2x2, clues5x5s, solution2x2, solution5x5s\n",
    "\n",
    "import numpy as np"
   ]
  },
  {
   "cell_type": "code",
   "execution_count": 3,
   "id": "23d70915",
   "metadata": {},
   "outputs": [
    {
     "data": {
      "text/plain": [
       "{'rows': [1, 2], 'cols': [2, 1]}"
      ]
     },
     "execution_count": 3,
     "metadata": {},
     "output_type": "execute_result"
    }
   ],
   "source": [
    "clues2x2"
   ]
  },
  {
   "cell_type": "code",
   "execution_count": 4,
   "id": "54e31494",
   "metadata": {},
   "outputs": [
    {
     "data": {
      "text/plain": [
       "array([[1, 0],\n",
       "       [1, 1]])"
      ]
     },
     "execution_count": 4,
     "metadata": {},
     "output_type": "execute_result"
    }
   ],
   "source": [
    "solution2x2"
   ]
  },
  {
   "cell_type": "markdown",
   "id": "2be961e5",
   "metadata": {},
   "source": [
    "Now, let's loop over the problem space"
   ]
  },
  {
   "cell_type": "markdown",
   "id": "93b66bdd",
   "metadata": {},
   "source": [
    "# 4. Programming with constraints\n",
    "\n",
    "Wikipedia defines constraint Programming as following: \n",
    "\n",
    ">    Constraint programming is a paradigm for solving combinatorial problems that draws on a wide range of techniques from artificial intelligence, computer science, and operations research. In constraint programming, users declaratively state the constraints on the feasible solutions for a set of decision variables. Constraints differ from the common primitives of imperative programming languages in that they do not specify a step or sequence of steps to execute, but rather the properties of a solution to be found. In addition to constraints, users also need to specify a method to solve these constraints. This typically draws upon standard methods like chronological backtracking and constraint propagation, but may use customized code like a problem specific branching heuristic. \n",
    "\n",
    "Python-contraint offers solvers for Constraint Satisfaction Problems (CSPs) over finite domains in simple and pure Python. CSP is class of problems which may be represented in terms of variables (a, b, …), domains (a in [1, 2, 3], …), and constraints (a < b, …).\n",
    "\n",
    "https://pypi.org/project/python-constraint/\n",
    "\n",
    "\n",
    "Alternative (TODO)"
   ]
  },
  {
   "cell_type": "code",
   "execution_count": 5,
   "id": "c071a50c",
   "metadata": {},
   "outputs": [
    {
     "name": "stdout",
     "output_type": "stream",
     "text": [
      "Requirement already satisfied: python-constraint in /Users/cfalguiere/opt/anaconda3/envs/default38/lib/python3.8/site-packages (1.4.0)\r\n"
     ]
    }
   ],
   "source": [
    "! pip install python-constraint"
   ]
  },
  {
   "cell_type": "code",
   "execution_count": 6,
   "id": "6af1d4fa",
   "metadata": {},
   "outputs": [],
   "source": [
    "from constraint import Problem"
   ]
  },
  {
   "cell_type": "markdown",
   "id": "95fad33d",
   "metadata": {},
   "source": [
    "## 4.1. Basic example from the tutorial\n",
    "\n",
    "This example shows how to define a and b, a being in the range 1,2,3 and b in the range 4,5,6 so b is 2 time a."
   ]
  },
  {
   "cell_type": "code",
   "execution_count": 7,
   "id": "745e8f37",
   "metadata": {},
   "outputs": [
    {
     "data": {
      "text/plain": [
       "[{'a': 3, 'b': 6},\n",
       " {'a': 3, 'b': 5},\n",
       " {'a': 3, 'b': 4},\n",
       " {'a': 2, 'b': 6},\n",
       " {'a': 2, 'b': 5},\n",
       " {'a': 2, 'b': 4},\n",
       " {'a': 1, 'b': 6},\n",
       " {'a': 1, 'b': 5},\n",
       " {'a': 1, 'b': 4}]"
      ]
     },
     "execution_count": 7,
     "metadata": {},
     "output_type": "execute_result"
    }
   ],
   "source": [
    "problem = Problem()\n",
    "problem.addVariable(\"a\", [1,2,3])\n",
    "problem.addVariable(\"b\", [4,5,6])\n",
    "problem.getSolutions()"
   ]
  },
  {
   "cell_type": "markdown",
   "id": "f270b9ee",
   "metadata": {},
   "source": [
    "Without constraints it does a cartesian product of variables a and b. The result is all possible combinations of a and b.\n",
    "\n",
    "The constraint force to filter only pairs where b is twice a. It can be implemented as a lambda function."
   ]
  },
  {
   "cell_type": "code",
   "execution_count": 8,
   "id": "609d5049",
   "metadata": {},
   "outputs": [
    {
     "data": {
      "text/plain": [
       "[{'a': 3, 'b': 6}, {'a': 2, 'b': 4}]"
      ]
     },
     "execution_count": 8,
     "metadata": {},
     "output_type": "execute_result"
    }
   ],
   "source": [
    "problem.addConstraint(lambda a, b: a*2 == b,\n",
    "                          (\"a\", \"b\"))\n",
    "problem.getSolutions()"
   ]
  },
  {
   "cell_type": "markdown",
   "id": "545f63ee",
   "metadata": {},
   "source": [
    "## 4.2. Application to the monogram problem"
   ]
  },
  {
   "cell_type": "code",
   "execution_count": 9,
   "id": "3b4000d8",
   "metadata": {},
   "outputs": [],
   "source": [
    "# create the game engine\n",
    "puzzle2x2 = Puzzle(clues2x2)\n",
    "game2x2 = SolvedNonoGameEngine(puzzle2x2, solution2x2)"
   ]
  },
  {
   "cell_type": "code",
   "execution_count": 10,
   "id": "1d53ee39",
   "metadata": {},
   "outputs": [
    {
     "data": {
      "text/plain": [
       "[{'r0c0': 1, 'r0c1': 1, 'r1c0': 1, 'r1c1': 1},\n",
       " {'r0c0': 1, 'r0c1': 1, 'r1c0': 1, 'r1c1': 0},\n",
       " {'r0c0': 1, 'r0c1': 1, 'r1c0': 0, 'r1c1': 1},\n",
       " {'r0c0': 1, 'r0c1': 1, 'r1c0': 0, 'r1c1': 0},\n",
       " {'r0c0': 1, 'r0c1': 0, 'r1c0': 1, 'r1c1': 1},\n",
       " {'r0c0': 1, 'r0c1': 0, 'r1c0': 1, 'r1c1': 0},\n",
       " {'r0c0': 1, 'r0c1': 0, 'r1c0': 0, 'r1c1': 1},\n",
       " {'r0c0': 1, 'r0c1': 0, 'r1c0': 0, 'r1c1': 0},\n",
       " {'r0c0': 0, 'r0c1': 1, 'r1c0': 1, 'r1c1': 1},\n",
       " {'r0c0': 0, 'r0c1': 1, 'r1c0': 1, 'r1c1': 0},\n",
       " {'r0c0': 0, 'r0c1': 1, 'r1c0': 0, 'r1c1': 1},\n",
       " {'r0c0': 0, 'r0c1': 1, 'r1c0': 0, 'r1c1': 0},\n",
       " {'r0c0': 0, 'r0c1': 0, 'r1c0': 1, 'r1c1': 1},\n",
       " {'r0c0': 0, 'r0c1': 0, 'r1c0': 1, 'r1c1': 0},\n",
       " {'r0c0': 0, 'r0c1': 0, 'r1c0': 0, 'r1c1': 1},\n",
       " {'r0c0': 0, 'r0c1': 0, 'r1c0': 0, 'r1c1': 0}]"
      ]
     },
     "execution_count": 10,
     "metadata": {},
     "output_type": "execute_result"
    }
   ],
   "source": [
    "# solve the problem for a 2x2 board\n",
    "problem = Problem()\n",
    "\n",
    "# create a variable for each cell\n",
    "# name is rNcM where N is the row number and M the col number\n",
    "# they all are in range 0-1\n",
    "problem.addVariable(\"r0c0\", [0,1])\n",
    "problem.addVariable(\"r0c1\", [0,1])\n",
    "problem.addVariable(\"r1c0\", [0,1])\n",
    "problem.addVariable(\"r1c1\", [0,1])\n",
    "problem.getSolutions()"
   ]
  },
  {
   "cell_type": "code",
   "execution_count": 11,
   "id": "6a184836",
   "metadata": {},
   "outputs": [
    {
     "data": {
      "text/plain": [
       "[{'r0c0': 1, 'r0c1': 0, 'r1c0': 1, 'r1c1': 1}]"
      ]
     },
     "execution_count": 11,
     "metadata": {},
     "output_type": "execute_result"
    }
   ],
   "source": [
    "# express the clues as contraints in a static way\n",
    "# last parameter is the given variables. They match the lambda vars.\n",
    "# contraints on rows\n",
    "problem.addConstraint(lambda c0, c1: c0+c1 == 1,\n",
    "                          (\"r0c0\", \"r0c1\"))\n",
    "problem.addConstraint(lambda c0, c1: c0+c1 == 2,\n",
    "                          (\"r1c0\", \"r1c1\"))\n",
    "# contraints on cols\n",
    "problem.addConstraint(lambda r0, r1: r0+r1 == 2,\n",
    "                          (\"r0c0\", \"r1c0\"))\n",
    "problem.addConstraint(lambda r0, r1: r0+r1 == 1,\n",
    "                          (\"r0c1\", \"r1c1\"))\n",
    "solutions = problem.getSolutions()\n",
    "solutions"
   ]
  },
  {
   "cell_type": "code",
   "execution_count": 12,
   "id": "9581a22a",
   "metadata": {},
   "outputs": [
    {
     "data": {
      "image/png": "[encoded data removed]",
      "text/plain": [
       "<Figure size 72x72 with 1 Axes>"
      ]
     },
     "metadata": {
      "needs_background": "light"
     },
     "output_type": "display_data"
    },
    {
     "data": {
      "text/plain": [
       "True"
      ]
     },
     "execution_count": 12,
     "metadata": {},
     "output_type": "execute_result"
    }
   ],
   "source": [
    "# update the board with solution\n",
    "game2x2.play(0,0, BoardMark(solutions[0]['r0c0']))\n",
    "game2x2.play(0,1, BoardMark(solutions[0]['r0c1']))\n",
    "game2x2.play(1,0, BoardMark(solutions[0]['r1c0']))\n",
    "game2x2.play(1,1, BoardMark(solutions[0]['r1c1']))\n",
    "\n",
    "game2x2.show()\n",
    "game2x2.is_solved()"
   ]
  },
  {
   "cell_type": "markdown",
   "id": "35c5cc75",
   "metadata": {},
   "source": [
    "## 4.3. Wrap up\n",
    "\n",
    "What works:\n",
    "- problem is expressed clearly\n",
    "- documentation in clean and a totorial is provided. It took me a while to understand what is going on with variables and it is still unclear to me how to use built-in function\n",
    "\n",
    "Limitation:\n",
    "- As it seems to compute all the combinations, it may run into the same limitations than brute foree. To be tested\n",
    "- Generalisation to any size and split blocks is more challenging. It does not hava a notion of an array. Each variable must be handled separatelly.  Interesting challenge!\n",
    "\n",
    "Challenges for further prototyping\n",
    "- generate variable names and contraints\n",
    "- write contraints for variable size\n",
    "- write contraints for split blocks"
   ]
  },
  {
   "cell_type": "markdown",
   "id": "e848b59a",
   "metadata": {},
   "source": [
    "- Ideation: 30mn - classical paradigm \n",
    "- Design: 1h - feature out how to manage variables for board - lib was new to me\n",
    "- Implementation: 2h - generic representation of rules - for whole POC - 5-6h"
   ]
  }
 ],
 "metadata": {
  "kernelspec": {
   "display_name": "Python 3 (ipykernel)",
   "language": "python",
   "name": "python3"
  },
  "language_info": {
   "codemirror_mode": {
    "name": "ipython",
    "version": 3
   },
   "file_extension": ".py",
   "mimetype": "text/x-python",
   "name": "python",
   "nbconvert_exporter": "python",
   "pygments_lexer": "ipython3",
   "version": "3.8.13"
  }
 },
 "nbformat": 4,
 "nbformat_minor": 5
}
